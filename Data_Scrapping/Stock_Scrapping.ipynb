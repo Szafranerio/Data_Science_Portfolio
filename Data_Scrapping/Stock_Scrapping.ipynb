{
 "cells": [
  {
   "cell_type": "code",
   "execution_count": 1,
   "metadata": {},
   "outputs": [],
   "source": [
    "import urllib.request\n",
    "from bs4 import BeautifulSoup\n",
    "import csv \n",
    "from datetime import datetime\n",
    "import os"
   ]
  },
  {
   "cell_type": "code",
   "execution_count": 2,
   "metadata": {},
   "outputs": [],
   "source": [
    "url = 'https://markets.ft.com/data/equities/tearsheet/summary?s=TSLA:NSQ'\n",
    "respone = urllib.request.urlopen(url)\n",
    "html = respone.read()\n",
    "soup = BeautifulSoup(html, 'html.parser')"
   ]
  },
  {
   "cell_type": "code",
   "execution_count": 3,
   "metadata": {},
   "outputs": [
    {
     "name": "stdout",
     "output_type": "stream",
     "text": [
      "Price: 330.24\n"
     ]
    }
   ],
   "source": [
    "price_element = soup.find('span', class_='mod-ui-data-list__value')\n",
    "\n",
    "if price_element:\n",
    "    print(\"Price:\", price_element.text)\n",
    "else:\n",
    "    print(\"Price element with class 'rate' not found.\")"
   ]
  },
  {
   "cell_type": "code",
   "execution_count": 4,
   "metadata": {},
   "outputs": [],
   "source": [
    "directory = '.data'\n",
    "file_path = os.path.join(directory, 'index.csv')\n",
    "\n",
    "if not os.path.exists(directory):\n",
    "    os.makedirs(directory)\n",
    "    \n",
    "with open('.data/index.csv', 'a') as csv_file:\n",
    "    writer = csv.writer(csv_file)  # Add header if needed\n",
    "    writer.writerow([price_element.text, datetime.today().date()])\n",
    "        "
   ]
  }
 ],
 "metadata": {
  "kernelspec": {
   "display_name": "DataScience",
   "language": "python",
   "name": "python3"
  },
  "language_info": {
   "codemirror_mode": {
    "name": "ipython",
    "version": 3
   },
   "file_extension": ".py",
   "mimetype": "text/x-python",
   "name": "python",
   "nbconvert_exporter": "python",
   "pygments_lexer": "ipython3",
   "version": "3.11.9"
  }
 },
 "nbformat": 4,
 "nbformat_minor": 2
}
