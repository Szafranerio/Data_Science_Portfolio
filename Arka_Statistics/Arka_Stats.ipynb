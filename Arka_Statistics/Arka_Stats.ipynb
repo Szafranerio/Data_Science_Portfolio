{
 "cells": [
  {
   "cell_type": "code",
   "execution_count": 5,
   "id": "100c16f2",
   "metadata": {},
   "outputs": [],
   "source": [
    "import pandas as pd\n",
    "import matplotlib.pyplot as plt\n",
    "import seaborn\n",
    "import numpy as np\n",
    "import plotly.graph_objects as go"
   ]
  },
  {
   "cell_type": "code",
   "execution_count": 6,
   "id": "56f79adc",
   "metadata": {},
   "outputs": [
    {
     "data": {
      "application/vnd.microsoft.datawrangler.viewer.v0+json": {
       "columns": [
        {
         "name": "index",
         "rawType": "int64",
         "type": "integer"
        },
        {
         "name": "Unnamed: 0",
         "rawType": "object",
         "type": "unknown"
        },
        {
         "name": "Date",
         "rawType": "object",
         "type": "unknown"
        },
        {
         "name": "Goals",
         "rawType": "float64",
         "type": "float"
        },
        {
         "name": "Possesion_In_%",
         "rawType": "float64",
         "type": "float"
        },
        {
         "name": "xG",
         "rawType": "object",
         "type": "unknown"
        },
        {
         "name": "Shots",
         "rawType": "float64",
         "type": "float"
        },
        {
         "name": "Shots_On_Target",
         "rawType": "float64",
         "type": "float"
        },
        {
         "name": "Shots_Off_Target",
         "rawType": "float64",
         "type": "float"
        },
        {
         "name": "Shots_Blocked",
         "rawType": "float64",
         "type": "float"
        },
        {
         "name": "Shots_Outside_Box",
         "rawType": "float64",
         "type": "float"
        },
        {
         "name": "Shots_Inside_Box",
         "rawType": "float64",
         "type": "float"
        },
        {
         "name": "Passes",
         "rawType": "float64",
         "type": "float"
        },
        {
         "name": "Tackles",
         "rawType": "float64",
         "type": "float"
        },
        {
         "name": "Fouls",
         "rawType": "float64",
         "type": "float"
        },
        {
         "name": "Corners",
         "rawType": "float64",
         "type": "float"
        },
        {
         "name": "Offsides",
         "rawType": "float64",
         "type": "float"
        },
        {
         "name": "Yellow_Cards",
         "rawType": "float64",
         "type": "float"
        },
        {
         "name": "Red_Cards",
         "rawType": "float64",
         "type": "float"
        },
        {
         "name": "Penalties",
         "rawType": "float64",
         "type": "float"
        },
        {
         "name": "Free_Kicks",
         "rawType": "float64",
         "type": "float"
        },
        {
         "name": "Goal_Kicks",
         "rawType": "float64",
         "type": "float"
        },
        {
         "name": "Throw_Ins",
         "rawType": "float64",
         "type": "float"
        },
        {
         "name": "Saves",
         "rawType": "float64",
         "type": "float"
        },
        {
         "name": "Crosses",
         "rawType": "float64",
         "type": "float"
        }
       ],
       "ref": "64d44c21-a1e6-4796-bc8a-ec42bbcb54b2",
       "rows": [
        [
         "0",
         "Motor",
         "20.07.2025",
         "0.0",
         "40.0",
         "0,38",
         "10.0",
         "1.0",
         "5.0",
         "4.0",
         "4.0",
         "6.0",
         "299.0",
         "12.0",
         "11.0",
         "8.0",
         "3.0",
         "4.0",
         "0.0",
         "0.0",
         "17.0",
         "12.0",
         "16.0",
         "3.0",
         "22.0"
        ],
        [
         "1",
         "Radomiak",
         "25.07.2025",
         "1.0",
         "49.0",
         "1,08",
         "10.0",
         "4.0",
         "5.0",
         "1.0",
         "3.0",
         "7.0",
         "321.0",
         "16.0",
         "16.0",
         "5.0",
         "3.0",
         "1.0",
         "0.0",
         "0.0",
         "14.0",
         "12.0",
         "21.0",
         "2.0",
         "16.0"
        ],
        [
         "2",
         "Legia",
         "03.08.2025",
         "0.0",
         "37.0",
         "0,56",
         "6.0",
         "0.0",
         "3.0",
         "3.0",
         "1.0",
         "5.0",
         "283.0",
         "12.0",
         "13.0",
         "4.0",
         "1.0",
         "3.0",
         "0.0",
         "0.0",
         "20.0",
         "11.0",
         "14.0",
         "3.0",
         "18.0"
        ],
        [
         "3",
         null,
         null,
         null,
         null,
         null,
         null,
         null,
         null,
         null,
         null,
         null,
         null,
         null,
         null,
         null,
         null,
         null,
         null,
         null,
         null,
         null,
         null,
         null,
         null
        ]
       ],
       "shape": {
        "columns": 24,
        "rows": 4
       }
      },
      "text/html": [
       "<div>\n",
       "<style scoped>\n",
       "    .dataframe tbody tr th:only-of-type {\n",
       "        vertical-align: middle;\n",
       "    }\n",
       "\n",
       "    .dataframe tbody tr th {\n",
       "        vertical-align: top;\n",
       "    }\n",
       "\n",
       "    .dataframe thead th {\n",
       "        text-align: right;\n",
       "    }\n",
       "</style>\n",
       "<table border=\"1\" class=\"dataframe\">\n",
       "  <thead>\n",
       "    <tr style=\"text-align: right;\">\n",
       "      <th></th>\n",
       "      <th>Unnamed: 0</th>\n",
       "      <th>Date</th>\n",
       "      <th>Goals</th>\n",
       "      <th>Possesion_In_%</th>\n",
       "      <th>xG</th>\n",
       "      <th>Shots</th>\n",
       "      <th>Shots_On_Target</th>\n",
       "      <th>Shots_Off_Target</th>\n",
       "      <th>Shots_Blocked</th>\n",
       "      <th>Shots_Outside_Box</th>\n",
       "      <th>...</th>\n",
       "      <th>Corners</th>\n",
       "      <th>Offsides</th>\n",
       "      <th>Yellow_Cards</th>\n",
       "      <th>Red_Cards</th>\n",
       "      <th>Penalties</th>\n",
       "      <th>Free_Kicks</th>\n",
       "      <th>Goal_Kicks</th>\n",
       "      <th>Throw_Ins</th>\n",
       "      <th>Saves</th>\n",
       "      <th>Crosses</th>\n",
       "    </tr>\n",
       "  </thead>\n",
       "  <tbody>\n",
       "    <tr>\n",
       "      <th>0</th>\n",
       "      <td>Motor</td>\n",
       "      <td>20.07.2025</td>\n",
       "      <td>0.0</td>\n",
       "      <td>40.0</td>\n",
       "      <td>0,38</td>\n",
       "      <td>10.0</td>\n",
       "      <td>1.0</td>\n",
       "      <td>5.0</td>\n",
       "      <td>4.0</td>\n",
       "      <td>4.0</td>\n",
       "      <td>...</td>\n",
       "      <td>8.0</td>\n",
       "      <td>3.0</td>\n",
       "      <td>4.0</td>\n",
       "      <td>0.0</td>\n",
       "      <td>0.0</td>\n",
       "      <td>17.0</td>\n",
       "      <td>12.0</td>\n",
       "      <td>16.0</td>\n",
       "      <td>3.0</td>\n",
       "      <td>22.0</td>\n",
       "    </tr>\n",
       "    <tr>\n",
       "      <th>1</th>\n",
       "      <td>Radomiak</td>\n",
       "      <td>25.07.2025</td>\n",
       "      <td>1.0</td>\n",
       "      <td>49.0</td>\n",
       "      <td>1,08</td>\n",
       "      <td>10.0</td>\n",
       "      <td>4.0</td>\n",
       "      <td>5.0</td>\n",
       "      <td>1.0</td>\n",
       "      <td>3.0</td>\n",
       "      <td>...</td>\n",
       "      <td>5.0</td>\n",
       "      <td>3.0</td>\n",
       "      <td>1.0</td>\n",
       "      <td>0.0</td>\n",
       "      <td>0.0</td>\n",
       "      <td>14.0</td>\n",
       "      <td>12.0</td>\n",
       "      <td>21.0</td>\n",
       "      <td>2.0</td>\n",
       "      <td>16.0</td>\n",
       "    </tr>\n",
       "    <tr>\n",
       "      <th>2</th>\n",
       "      <td>Legia</td>\n",
       "      <td>03.08.2025</td>\n",
       "      <td>0.0</td>\n",
       "      <td>37.0</td>\n",
       "      <td>0,56</td>\n",
       "      <td>6.0</td>\n",
       "      <td>0.0</td>\n",
       "      <td>3.0</td>\n",
       "      <td>3.0</td>\n",
       "      <td>1.0</td>\n",
       "      <td>...</td>\n",
       "      <td>4.0</td>\n",
       "      <td>1.0</td>\n",
       "      <td>3.0</td>\n",
       "      <td>0.0</td>\n",
       "      <td>0.0</td>\n",
       "      <td>20.0</td>\n",
       "      <td>11.0</td>\n",
       "      <td>14.0</td>\n",
       "      <td>3.0</td>\n",
       "      <td>18.0</td>\n",
       "    </tr>\n",
       "    <tr>\n",
       "      <th>3</th>\n",
       "      <td>NaN</td>\n",
       "      <td>NaN</td>\n",
       "      <td>NaN</td>\n",
       "      <td>NaN</td>\n",
       "      <td>NaN</td>\n",
       "      <td>NaN</td>\n",
       "      <td>NaN</td>\n",
       "      <td>NaN</td>\n",
       "      <td>NaN</td>\n",
       "      <td>NaN</td>\n",
       "      <td>...</td>\n",
       "      <td>NaN</td>\n",
       "      <td>NaN</td>\n",
       "      <td>NaN</td>\n",
       "      <td>NaN</td>\n",
       "      <td>NaN</td>\n",
       "      <td>NaN</td>\n",
       "      <td>NaN</td>\n",
       "      <td>NaN</td>\n",
       "      <td>NaN</td>\n",
       "      <td>NaN</td>\n",
       "    </tr>\n",
       "  </tbody>\n",
       "</table>\n",
       "<p>4 rows × 24 columns</p>\n",
       "</div>"
      ],
      "text/plain": [
       "  Unnamed: 0        Date  Goals  Possesion_In_%    xG  Shots  Shots_On_Target  \\\n",
       "0      Motor  20.07.2025    0.0            40.0  0,38   10.0              1.0   \n",
       "1   Radomiak  25.07.2025    1.0            49.0  1,08   10.0              4.0   \n",
       "2      Legia  03.08.2025    0.0            37.0  0,56    6.0              0.0   \n",
       "3        NaN         NaN    NaN             NaN   NaN    NaN              NaN   \n",
       "\n",
       "   Shots_Off_Target  Shots_Blocked  Shots_Outside_Box  ...  Corners  Offsides  \\\n",
       "0               5.0            4.0                4.0  ...      8.0       3.0   \n",
       "1               5.0            1.0                3.0  ...      5.0       3.0   \n",
       "2               3.0            3.0                1.0  ...      4.0       1.0   \n",
       "3               NaN            NaN                NaN  ...      NaN       NaN   \n",
       "\n",
       "   Yellow_Cards  Red_Cards  Penalties  Free_Kicks  Goal_Kicks  Throw_Ins  \\\n",
       "0           4.0        0.0        0.0        17.0        12.0       16.0   \n",
       "1           1.0        0.0        0.0        14.0        12.0       21.0   \n",
       "2           3.0        0.0        0.0        20.0        11.0       14.0   \n",
       "3           NaN        NaN        NaN         NaN         NaN        NaN   \n",
       "\n",
       "   Saves  Crosses  \n",
       "0    3.0     22.0  \n",
       "1    2.0     16.0  \n",
       "2    3.0     18.0  \n",
       "3    NaN      NaN  \n",
       "\n",
       "[4 rows x 24 columns]"
      ]
     },
     "execution_count": 6,
     "metadata": {},
     "output_type": "execute_result"
    }
   ],
   "source": [
    "data = pd.read_csv('data/Arka.csv', delimiter=';')\n",
    "data.head()"
   ]
  },
  {
   "cell_type": "code",
   "execution_count": 7,
   "id": "82d266b2",
   "metadata": {},
   "outputs": [
    {
     "data": {
      "application/vnd.microsoft.datawrangler.viewer.v0+json": {
       "columns": [
        {
         "name": "Team",
         "rawType": "object",
         "type": "unknown"
        },
        {
         "name": "Date",
         "rawType": "object",
         "type": "unknown"
        },
        {
         "name": "Goals",
         "rawType": "float64",
         "type": "float"
        },
        {
         "name": "Possesion_In_%",
         "rawType": "float64",
         "type": "float"
        },
        {
         "name": "xG",
         "rawType": "float64",
         "type": "float"
        },
        {
         "name": "Shots",
         "rawType": "float64",
         "type": "float"
        },
        {
         "name": "Shots_On_Target",
         "rawType": "float64",
         "type": "float"
        },
        {
         "name": "Shots_Off_Target",
         "rawType": "float64",
         "type": "float"
        },
        {
         "name": "Shots_Blocked",
         "rawType": "float64",
         "type": "float"
        },
        {
         "name": "Shots_Outside_Box",
         "rawType": "float64",
         "type": "float"
        },
        {
         "name": "Shots_Inside_Box",
         "rawType": "float64",
         "type": "float"
        },
        {
         "name": "Passes",
         "rawType": "float64",
         "type": "float"
        },
        {
         "name": "Tackles",
         "rawType": "float64",
         "type": "float"
        },
        {
         "name": "Fouls",
         "rawType": "float64",
         "type": "float"
        },
        {
         "name": "Corners",
         "rawType": "float64",
         "type": "float"
        },
        {
         "name": "Offsides",
         "rawType": "float64",
         "type": "float"
        },
        {
         "name": "Yellow_Cards",
         "rawType": "float64",
         "type": "float"
        },
        {
         "name": "Red_Cards",
         "rawType": "float64",
         "type": "float"
        },
        {
         "name": "Penalties",
         "rawType": "float64",
         "type": "float"
        },
        {
         "name": "Free_Kicks",
         "rawType": "float64",
         "type": "float"
        },
        {
         "name": "Goal_Kicks",
         "rawType": "float64",
         "type": "float"
        },
        {
         "name": "Throw_Ins",
         "rawType": "float64",
         "type": "float"
        },
        {
         "name": "Saves",
         "rawType": "float64",
         "type": "float"
        },
        {
         "name": "Crosses",
         "rawType": "float64",
         "type": "float"
        }
       ],
       "ref": "e6d7be11-ba56-434c-9804-55b82399664a",
       "rows": [
        [
         "Motor",
         "20.07.2025",
         "0.0",
         "40.0",
         "0.38",
         "10.0",
         "1.0",
         "5.0",
         "4.0",
         "4.0",
         "6.0",
         "299.0",
         "12.0",
         "11.0",
         "8.0",
         "3.0",
         "4.0",
         "0.0",
         "0.0",
         "17.0",
         "12.0",
         "16.0",
         "3.0",
         "22.0"
        ],
        [
         "Radomiak",
         "25.07.2025",
         "1.0",
         "49.0",
         "1.08",
         "10.0",
         "4.0",
         "5.0",
         "1.0",
         "3.0",
         "7.0",
         "321.0",
         "16.0",
         "16.0",
         "5.0",
         "3.0",
         "1.0",
         "0.0",
         "0.0",
         "14.0",
         "12.0",
         "21.0",
         "2.0",
         "16.0"
        ],
        [
         "Legia",
         "03.08.2025",
         "0.0",
         "37.0",
         "0.56",
         "6.0",
         "0.0",
         "3.0",
         "3.0",
         "1.0",
         "5.0",
         "283.0",
         "12.0",
         "13.0",
         "4.0",
         "1.0",
         "3.0",
         "0.0",
         "0.0",
         "20.0",
         "11.0",
         "14.0",
         "3.0",
         "18.0"
        ],
        [
         null,
         null,
         null,
         null,
         null,
         null,
         null,
         null,
         null,
         null,
         null,
         null,
         null,
         null,
         null,
         null,
         null,
         null,
         null,
         null,
         null,
         null,
         null,
         null
        ]
       ],
       "shape": {
        "columns": 23,
        "rows": 4
       }
      },
      "text/html": [
       "<div>\n",
       "<style scoped>\n",
       "    .dataframe tbody tr th:only-of-type {\n",
       "        vertical-align: middle;\n",
       "    }\n",
       "\n",
       "    .dataframe tbody tr th {\n",
       "        vertical-align: top;\n",
       "    }\n",
       "\n",
       "    .dataframe thead th {\n",
       "        text-align: right;\n",
       "    }\n",
       "</style>\n",
       "<table border=\"1\" class=\"dataframe\">\n",
       "  <thead>\n",
       "    <tr style=\"text-align: right;\">\n",
       "      <th></th>\n",
       "      <th>Date</th>\n",
       "      <th>Goals</th>\n",
       "      <th>Possesion_In_%</th>\n",
       "      <th>xG</th>\n",
       "      <th>Shots</th>\n",
       "      <th>Shots_On_Target</th>\n",
       "      <th>Shots_Off_Target</th>\n",
       "      <th>Shots_Blocked</th>\n",
       "      <th>Shots_Outside_Box</th>\n",
       "      <th>Shots_Inside_Box</th>\n",
       "      <th>...</th>\n",
       "      <th>Corners</th>\n",
       "      <th>Offsides</th>\n",
       "      <th>Yellow_Cards</th>\n",
       "      <th>Red_Cards</th>\n",
       "      <th>Penalties</th>\n",
       "      <th>Free_Kicks</th>\n",
       "      <th>Goal_Kicks</th>\n",
       "      <th>Throw_Ins</th>\n",
       "      <th>Saves</th>\n",
       "      <th>Crosses</th>\n",
       "    </tr>\n",
       "    <tr>\n",
       "      <th>Team</th>\n",
       "      <th></th>\n",
       "      <th></th>\n",
       "      <th></th>\n",
       "      <th></th>\n",
       "      <th></th>\n",
       "      <th></th>\n",
       "      <th></th>\n",
       "      <th></th>\n",
       "      <th></th>\n",
       "      <th></th>\n",
       "      <th></th>\n",
       "      <th></th>\n",
       "      <th></th>\n",
       "      <th></th>\n",
       "      <th></th>\n",
       "      <th></th>\n",
       "      <th></th>\n",
       "      <th></th>\n",
       "      <th></th>\n",
       "      <th></th>\n",
       "      <th></th>\n",
       "    </tr>\n",
       "  </thead>\n",
       "  <tbody>\n",
       "    <tr>\n",
       "      <th>Motor</th>\n",
       "      <td>20.07.2025</td>\n",
       "      <td>0.0</td>\n",
       "      <td>40.0</td>\n",
       "      <td>0.38</td>\n",
       "      <td>10.0</td>\n",
       "      <td>1.0</td>\n",
       "      <td>5.0</td>\n",
       "      <td>4.0</td>\n",
       "      <td>4.0</td>\n",
       "      <td>6.0</td>\n",
       "      <td>...</td>\n",
       "      <td>8.0</td>\n",
       "      <td>3.0</td>\n",
       "      <td>4.0</td>\n",
       "      <td>0.0</td>\n",
       "      <td>0.0</td>\n",
       "      <td>17.0</td>\n",
       "      <td>12.0</td>\n",
       "      <td>16.0</td>\n",
       "      <td>3.0</td>\n",
       "      <td>22.0</td>\n",
       "    </tr>\n",
       "    <tr>\n",
       "      <th>Radomiak</th>\n",
       "      <td>25.07.2025</td>\n",
       "      <td>1.0</td>\n",
       "      <td>49.0</td>\n",
       "      <td>1.08</td>\n",
       "      <td>10.0</td>\n",
       "      <td>4.0</td>\n",
       "      <td>5.0</td>\n",
       "      <td>1.0</td>\n",
       "      <td>3.0</td>\n",
       "      <td>7.0</td>\n",
       "      <td>...</td>\n",
       "      <td>5.0</td>\n",
       "      <td>3.0</td>\n",
       "      <td>1.0</td>\n",
       "      <td>0.0</td>\n",
       "      <td>0.0</td>\n",
       "      <td>14.0</td>\n",
       "      <td>12.0</td>\n",
       "      <td>21.0</td>\n",
       "      <td>2.0</td>\n",
       "      <td>16.0</td>\n",
       "    </tr>\n",
       "    <tr>\n",
       "      <th>Legia</th>\n",
       "      <td>03.08.2025</td>\n",
       "      <td>0.0</td>\n",
       "      <td>37.0</td>\n",
       "      <td>0.56</td>\n",
       "      <td>6.0</td>\n",
       "      <td>0.0</td>\n",
       "      <td>3.0</td>\n",
       "      <td>3.0</td>\n",
       "      <td>1.0</td>\n",
       "      <td>5.0</td>\n",
       "      <td>...</td>\n",
       "      <td>4.0</td>\n",
       "      <td>1.0</td>\n",
       "      <td>3.0</td>\n",
       "      <td>0.0</td>\n",
       "      <td>0.0</td>\n",
       "      <td>20.0</td>\n",
       "      <td>11.0</td>\n",
       "      <td>14.0</td>\n",
       "      <td>3.0</td>\n",
       "      <td>18.0</td>\n",
       "    </tr>\n",
       "    <tr>\n",
       "      <th>NaN</th>\n",
       "      <td>NaN</td>\n",
       "      <td>NaN</td>\n",
       "      <td>NaN</td>\n",
       "      <td>NaN</td>\n",
       "      <td>NaN</td>\n",
       "      <td>NaN</td>\n",
       "      <td>NaN</td>\n",
       "      <td>NaN</td>\n",
       "      <td>NaN</td>\n",
       "      <td>NaN</td>\n",
       "      <td>...</td>\n",
       "      <td>NaN</td>\n",
       "      <td>NaN</td>\n",
       "      <td>NaN</td>\n",
       "      <td>NaN</td>\n",
       "      <td>NaN</td>\n",
       "      <td>NaN</td>\n",
       "      <td>NaN</td>\n",
       "      <td>NaN</td>\n",
       "      <td>NaN</td>\n",
       "      <td>NaN</td>\n",
       "    </tr>\n",
       "  </tbody>\n",
       "</table>\n",
       "<p>4 rows × 23 columns</p>\n",
       "</div>"
      ],
      "text/plain": [
       "                Date  Goals  Possesion_In_%    xG  Shots  Shots_On_Target  \\\n",
       "Team                                                                        \n",
       "Motor     20.07.2025    0.0            40.0  0.38   10.0              1.0   \n",
       "Radomiak  25.07.2025    1.0            49.0  1.08   10.0              4.0   \n",
       "Legia     03.08.2025    0.0            37.0  0.56    6.0              0.0   \n",
       "NaN              NaN    NaN             NaN   NaN    NaN              NaN   \n",
       "\n",
       "          Shots_Off_Target  Shots_Blocked  Shots_Outside_Box  \\\n",
       "Team                                                           \n",
       "Motor                  5.0            4.0                4.0   \n",
       "Radomiak               5.0            1.0                3.0   \n",
       "Legia                  3.0            3.0                1.0   \n",
       "NaN                    NaN            NaN                NaN   \n",
       "\n",
       "          Shots_Inside_Box  ...  Corners  Offsides  Yellow_Cards  Red_Cards  \\\n",
       "Team                        ...                                               \n",
       "Motor                  6.0  ...      8.0       3.0           4.0        0.0   \n",
       "Radomiak               7.0  ...      5.0       3.0           1.0        0.0   \n",
       "Legia                  5.0  ...      4.0       1.0           3.0        0.0   \n",
       "NaN                    NaN  ...      NaN       NaN           NaN        NaN   \n",
       "\n",
       "          Penalties  Free_Kicks  Goal_Kicks  Throw_Ins  Saves  Crosses  \n",
       "Team                                                                    \n",
       "Motor           0.0        17.0        12.0       16.0    3.0     22.0  \n",
       "Radomiak        0.0        14.0        12.0       21.0    2.0     16.0  \n",
       "Legia           0.0        20.0        11.0       14.0    3.0     18.0  \n",
       "NaN             NaN         NaN         NaN        NaN    NaN      NaN  \n",
       "\n",
       "[4 rows x 23 columns]"
      ]
     },
     "execution_count": 7,
     "metadata": {},
     "output_type": "execute_result"
    }
   ],
   "source": [
    "data = data.rename(columns={'Unnamed: 0': 'Team'})\n",
    "data = data.set_index('Team')\n",
    "data['xG'] = data['xG'].str.replace(',', '.').astype('float64')\n",
    "data.head()"
   ]
  },
  {
   "cell_type": "code",
   "execution_count": 8,
   "id": "0c76094c",
   "metadata": {},
   "outputs": [
    {
     "data": {
      "application/vnd.plotly.v1+json": {
       "config": {
        "plotlyServerURL": "https://plot.ly"
       },
       "data": [
        {
         "name": "Goals",
         "type": "bar",
         "x": [
          "Motor",
          "Radomiak",
          "Legia",
          null
         ],
         "y": {
          "bdata": "AAAAAAAAAAAAAAAAAADwPwAAAAAAAAAAAAAAAAAA+H8=",
          "dtype": "f8"
         }
        },
        {
         "name": "Possesion_In_%",
         "type": "bar",
         "x": [
          "Motor",
          "Radomiak",
          "Legia",
          null
         ],
         "y": {
          "bdata": "AAAAAAAAREAAAAAAAIBIQAAAAAAAgEJAAAAAAAAA+H8=",
          "dtype": "f8"
         }
        },
        {
         "name": "xG",
         "type": "bar",
         "x": [
          "Motor",
          "Radomiak",
          "Legia",
          null
         ],
         "y": {
          "bdata": "UrgehetR2D9I4XoUrkfxP+xRuB6F6+E/AAAAAAAA+H8=",
          "dtype": "f8"
         }
        },
        {
         "name": "Shots",
         "type": "bar",
         "x": [
          "Motor",
          "Radomiak",
          "Legia",
          null
         ],
         "y": {
          "bdata": "AAAAAAAAJEAAAAAAAAAkQAAAAAAAABhAAAAAAAAA+H8=",
          "dtype": "f8"
         }
        },
        {
         "name": "Shots_On_Target",
         "type": "bar",
         "x": [
          "Motor",
          "Radomiak",
          "Legia",
          null
         ],
         "y": {
          "bdata": "AAAAAAAA8D8AAAAAAAAQQAAAAAAAAAAAAAAAAAAA+H8=",
          "dtype": "f8"
         }
        },
        {
         "name": "Shots_Off_Target",
         "type": "bar",
         "x": [
          "Motor",
          "Radomiak",
          "Legia",
          null
         ],
         "y": {
          "bdata": "AAAAAAAAFEAAAAAAAAAUQAAAAAAAAAhAAAAAAAAA+H8=",
          "dtype": "f8"
         }
        },
        {
         "name": "Shots_Blocked",
         "type": "bar",
         "x": [
          "Motor",
          "Radomiak",
          "Legia",
          null
         ],
         "y": {
          "bdata": "AAAAAAAAEEAAAAAAAADwPwAAAAAAAAhAAAAAAAAA+H8=",
          "dtype": "f8"
         }
        },
        {
         "name": "Shots_Outside_Box",
         "type": "bar",
         "x": [
          "Motor",
          "Radomiak",
          "Legia",
          null
         ],
         "y": {
          "bdata": "AAAAAAAAEEAAAAAAAAAIQAAAAAAAAPA/AAAAAAAA+H8=",
          "dtype": "f8"
         }
        },
        {
         "name": "Shots_Inside_Box",
         "type": "bar",
         "x": [
          "Motor",
          "Radomiak",
          "Legia",
          null
         ],
         "y": {
          "bdata": "AAAAAAAAGEAAAAAAAAAcQAAAAAAAABRAAAAAAAAA+H8=",
          "dtype": "f8"
         }
        },
        {
         "name": "Passes",
         "type": "bar",
         "x": [
          "Motor",
          "Radomiak",
          "Legia",
          null
         ],
         "y": {
          "bdata": "AAAAAACwckAAAAAAABB0QAAAAAAAsHFAAAAAAAAA+H8=",
          "dtype": "f8"
         }
        },
        {
         "name": "Tackles",
         "type": "bar",
         "x": [
          "Motor",
          "Radomiak",
          "Legia",
          null
         ],
         "y": {
          "bdata": "AAAAAAAAKEAAAAAAAAAwQAAAAAAAAChAAAAAAAAA+H8=",
          "dtype": "f8"
         }
        },
        {
         "name": "Fouls",
         "type": "bar",
         "x": [
          "Motor",
          "Radomiak",
          "Legia",
          null
         ],
         "y": {
          "bdata": "AAAAAAAAJkAAAAAAAAAwQAAAAAAAACpAAAAAAAAA+H8=",
          "dtype": "f8"
         }
        },
        {
         "name": "Corners",
         "type": "bar",
         "x": [
          "Motor",
          "Radomiak",
          "Legia",
          null
         ],
         "y": {
          "bdata": "AAAAAAAAIEAAAAAAAAAUQAAAAAAAABBAAAAAAAAA+H8=",
          "dtype": "f8"
         }
        },
        {
         "name": "Offsides",
         "type": "bar",
         "x": [
          "Motor",
          "Radomiak",
          "Legia",
          null
         ],
         "y": {
          "bdata": "AAAAAAAACEAAAAAAAAAIQAAAAAAAAPA/AAAAAAAA+H8=",
          "dtype": "f8"
         }
        },
        {
         "name": "Yellow_Cards",
         "type": "bar",
         "x": [
          "Motor",
          "Radomiak",
          "Legia",
          null
         ],
         "y": {
          "bdata": "AAAAAAAAEEAAAAAAAADwPwAAAAAAAAhAAAAAAAAA+H8=",
          "dtype": "f8"
         }
        },
        {
         "name": "Red_Cards",
         "type": "bar",
         "x": [
          "Motor",
          "Radomiak",
          "Legia",
          null
         ],
         "y": {
          "bdata": "AAAAAAAAAAAAAAAAAAAAAAAAAAAAAAAAAAAAAAAA+H8=",
          "dtype": "f8"
         }
        },
        {
         "name": "Penalties",
         "type": "bar",
         "x": [
          "Motor",
          "Radomiak",
          "Legia",
          null
         ],
         "y": {
          "bdata": "AAAAAAAAAAAAAAAAAAAAAAAAAAAAAAAAAAAAAAAA+H8=",
          "dtype": "f8"
         }
        },
        {
         "name": "Free_Kicks",
         "type": "bar",
         "x": [
          "Motor",
          "Radomiak",
          "Legia",
          null
         ],
         "y": {
          "bdata": "AAAAAAAAMUAAAAAAAAAsQAAAAAAAADRAAAAAAAAA+H8=",
          "dtype": "f8"
         }
        },
        {
         "name": "Goal_Kicks",
         "type": "bar",
         "x": [
          "Motor",
          "Radomiak",
          "Legia",
          null
         ],
         "y": {
          "bdata": "AAAAAAAAKEAAAAAAAAAoQAAAAAAAACZAAAAAAAAA+H8=",
          "dtype": "f8"
         }
        },
        {
         "name": "Throw_Ins",
         "type": "bar",
         "x": [
          "Motor",
          "Radomiak",
          "Legia",
          null
         ],
         "y": {
          "bdata": "AAAAAAAAMEAAAAAAAAA1QAAAAAAAACxAAAAAAAAA+H8=",
          "dtype": "f8"
         }
        },
        {
         "name": "Saves",
         "type": "bar",
         "x": [
          "Motor",
          "Radomiak",
          "Legia",
          null
         ],
         "y": {
          "bdata": "AAAAAAAACEAAAAAAAAAAQAAAAAAAAAhAAAAAAAAA+H8=",
          "dtype": "f8"
         }
        },
        {
         "name": "Crosses",
         "type": "bar",
         "x": [
          "Motor",
          "Radomiak",
          "Legia",
          null
         ],
         "y": {
          "bdata": "AAAAAAAANkAAAAAAAAAwQAAAAAAAADJAAAAAAAAA+H8=",
          "dtype": "f8"
         }
        }
       ],
       "layout": {
        "barmode": "group",
        "template": {
         "data": {
          "bar": [
           {
            "error_x": {
             "color": "#2a3f5f"
            },
            "error_y": {
             "color": "#2a3f5f"
            },
            "marker": {
             "line": {
              "color": "#E5ECF6",
              "width": 0.5
             },
             "pattern": {
              "fillmode": "overlay",
              "size": 10,
              "solidity": 0.2
             }
            },
            "type": "bar"
           }
          ],
          "barpolar": [
           {
            "marker": {
             "line": {
              "color": "#E5ECF6",
              "width": 0.5
             },
             "pattern": {
              "fillmode": "overlay",
              "size": 10,
              "solidity": 0.2
             }
            },
            "type": "barpolar"
           }
          ],
          "carpet": [
           {
            "aaxis": {
             "endlinecolor": "#2a3f5f",
             "gridcolor": "white",
             "linecolor": "white",
             "minorgridcolor": "white",
             "startlinecolor": "#2a3f5f"
            },
            "baxis": {
             "endlinecolor": "#2a3f5f",
             "gridcolor": "white",
             "linecolor": "white",
             "minorgridcolor": "white",
             "startlinecolor": "#2a3f5f"
            },
            "type": "carpet"
           }
          ],
          "choropleth": [
           {
            "colorbar": {
             "outlinewidth": 0,
             "ticks": ""
            },
            "type": "choropleth"
           }
          ],
          "contour": [
           {
            "colorbar": {
             "outlinewidth": 0,
             "ticks": ""
            },
            "colorscale": [
             [
              0,
              "#0d0887"
             ],
             [
              0.1111111111111111,
              "#46039f"
             ],
             [
              0.2222222222222222,
              "#7201a8"
             ],
             [
              0.3333333333333333,
              "#9c179e"
             ],
             [
              0.4444444444444444,
              "#bd3786"
             ],
             [
              0.5555555555555556,
              "#d8576b"
             ],
             [
              0.6666666666666666,
              "#ed7953"
             ],
             [
              0.7777777777777778,
              "#fb9f3a"
             ],
             [
              0.8888888888888888,
              "#fdca26"
             ],
             [
              1,
              "#f0f921"
             ]
            ],
            "type": "contour"
           }
          ],
          "contourcarpet": [
           {
            "colorbar": {
             "outlinewidth": 0,
             "ticks": ""
            },
            "type": "contourcarpet"
           }
          ],
          "heatmap": [
           {
            "colorbar": {
             "outlinewidth": 0,
             "ticks": ""
            },
            "colorscale": [
             [
              0,
              "#0d0887"
             ],
             [
              0.1111111111111111,
              "#46039f"
             ],
             [
              0.2222222222222222,
              "#7201a8"
             ],
             [
              0.3333333333333333,
              "#9c179e"
             ],
             [
              0.4444444444444444,
              "#bd3786"
             ],
             [
              0.5555555555555556,
              "#d8576b"
             ],
             [
              0.6666666666666666,
              "#ed7953"
             ],
             [
              0.7777777777777778,
              "#fb9f3a"
             ],
             [
              0.8888888888888888,
              "#fdca26"
             ],
             [
              1,
              "#f0f921"
             ]
            ],
            "type": "heatmap"
           }
          ],
          "histogram": [
           {
            "marker": {
             "pattern": {
              "fillmode": "overlay",
              "size": 10,
              "solidity": 0.2
             }
            },
            "type": "histogram"
           }
          ],
          "histogram2d": [
           {
            "colorbar": {
             "outlinewidth": 0,
             "ticks": ""
            },
            "colorscale": [
             [
              0,
              "#0d0887"
             ],
             [
              0.1111111111111111,
              "#46039f"
             ],
             [
              0.2222222222222222,
              "#7201a8"
             ],
             [
              0.3333333333333333,
              "#9c179e"
             ],
             [
              0.4444444444444444,
              "#bd3786"
             ],
             [
              0.5555555555555556,
              "#d8576b"
             ],
             [
              0.6666666666666666,
              "#ed7953"
             ],
             [
              0.7777777777777778,
              "#fb9f3a"
             ],
             [
              0.8888888888888888,
              "#fdca26"
             ],
             [
              1,
              "#f0f921"
             ]
            ],
            "type": "histogram2d"
           }
          ],
          "histogram2dcontour": [
           {
            "colorbar": {
             "outlinewidth": 0,
             "ticks": ""
            },
            "colorscale": [
             [
              0,
              "#0d0887"
             ],
             [
              0.1111111111111111,
              "#46039f"
             ],
             [
              0.2222222222222222,
              "#7201a8"
             ],
             [
              0.3333333333333333,
              "#9c179e"
             ],
             [
              0.4444444444444444,
              "#bd3786"
             ],
             [
              0.5555555555555556,
              "#d8576b"
             ],
             [
              0.6666666666666666,
              "#ed7953"
             ],
             [
              0.7777777777777778,
              "#fb9f3a"
             ],
             [
              0.8888888888888888,
              "#fdca26"
             ],
             [
              1,
              "#f0f921"
             ]
            ],
            "type": "histogram2dcontour"
           }
          ],
          "mesh3d": [
           {
            "colorbar": {
             "outlinewidth": 0,
             "ticks": ""
            },
            "type": "mesh3d"
           }
          ],
          "parcoords": [
           {
            "line": {
             "colorbar": {
              "outlinewidth": 0,
              "ticks": ""
             }
            },
            "type": "parcoords"
           }
          ],
          "pie": [
           {
            "automargin": true,
            "type": "pie"
           }
          ],
          "scatter": [
           {
            "fillpattern": {
             "fillmode": "overlay",
             "size": 10,
             "solidity": 0.2
            },
            "type": "scatter"
           }
          ],
          "scatter3d": [
           {
            "line": {
             "colorbar": {
              "outlinewidth": 0,
              "ticks": ""
             }
            },
            "marker": {
             "colorbar": {
              "outlinewidth": 0,
              "ticks": ""
             }
            },
            "type": "scatter3d"
           }
          ],
          "scattercarpet": [
           {
            "marker": {
             "colorbar": {
              "outlinewidth": 0,
              "ticks": ""
             }
            },
            "type": "scattercarpet"
           }
          ],
          "scattergeo": [
           {
            "marker": {
             "colorbar": {
              "outlinewidth": 0,
              "ticks": ""
             }
            },
            "type": "scattergeo"
           }
          ],
          "scattergl": [
           {
            "marker": {
             "colorbar": {
              "outlinewidth": 0,
              "ticks": ""
             }
            },
            "type": "scattergl"
           }
          ],
          "scattermap": [
           {
            "marker": {
             "colorbar": {
              "outlinewidth": 0,
              "ticks": ""
             }
            },
            "type": "scattermap"
           }
          ],
          "scattermapbox": [
           {
            "marker": {
             "colorbar": {
              "outlinewidth": 0,
              "ticks": ""
             }
            },
            "type": "scattermapbox"
           }
          ],
          "scatterpolar": [
           {
            "marker": {
             "colorbar": {
              "outlinewidth": 0,
              "ticks": ""
             }
            },
            "type": "scatterpolar"
           }
          ],
          "scatterpolargl": [
           {
            "marker": {
             "colorbar": {
              "outlinewidth": 0,
              "ticks": ""
             }
            },
            "type": "scatterpolargl"
           }
          ],
          "scatterternary": [
           {
            "marker": {
             "colorbar": {
              "outlinewidth": 0,
              "ticks": ""
             }
            },
            "type": "scatterternary"
           }
          ],
          "surface": [
           {
            "colorbar": {
             "outlinewidth": 0,
             "ticks": ""
            },
            "colorscale": [
             [
              0,
              "#0d0887"
             ],
             [
              0.1111111111111111,
              "#46039f"
             ],
             [
              0.2222222222222222,
              "#7201a8"
             ],
             [
              0.3333333333333333,
              "#9c179e"
             ],
             [
              0.4444444444444444,
              "#bd3786"
             ],
             [
              0.5555555555555556,
              "#d8576b"
             ],
             [
              0.6666666666666666,
              "#ed7953"
             ],
             [
              0.7777777777777778,
              "#fb9f3a"
             ],
             [
              0.8888888888888888,
              "#fdca26"
             ],
             [
              1,
              "#f0f921"
             ]
            ],
            "type": "surface"
           }
          ],
          "table": [
           {
            "cells": {
             "fill": {
              "color": "#EBF0F8"
             },
             "line": {
              "color": "white"
             }
            },
            "header": {
             "fill": {
              "color": "#C8D4E3"
             },
             "line": {
              "color": "white"
             }
            },
            "type": "table"
           }
          ]
         },
         "layout": {
          "annotationdefaults": {
           "arrowcolor": "#2a3f5f",
           "arrowhead": 0,
           "arrowwidth": 1
          },
          "autotypenumbers": "strict",
          "coloraxis": {
           "colorbar": {
            "outlinewidth": 0,
            "ticks": ""
           }
          },
          "colorscale": {
           "diverging": [
            [
             0,
             "#8e0152"
            ],
            [
             0.1,
             "#c51b7d"
            ],
            [
             0.2,
             "#de77ae"
            ],
            [
             0.3,
             "#f1b6da"
            ],
            [
             0.4,
             "#fde0ef"
            ],
            [
             0.5,
             "#f7f7f7"
            ],
            [
             0.6,
             "#e6f5d0"
            ],
            [
             0.7,
             "#b8e186"
            ],
            [
             0.8,
             "#7fbc41"
            ],
            [
             0.9,
             "#4d9221"
            ],
            [
             1,
             "#276419"
            ]
           ],
           "sequential": [
            [
             0,
             "#0d0887"
            ],
            [
             0.1111111111111111,
             "#46039f"
            ],
            [
             0.2222222222222222,
             "#7201a8"
            ],
            [
             0.3333333333333333,
             "#9c179e"
            ],
            [
             0.4444444444444444,
             "#bd3786"
            ],
            [
             0.5555555555555556,
             "#d8576b"
            ],
            [
             0.6666666666666666,
             "#ed7953"
            ],
            [
             0.7777777777777778,
             "#fb9f3a"
            ],
            [
             0.8888888888888888,
             "#fdca26"
            ],
            [
             1,
             "#f0f921"
            ]
           ],
           "sequentialminus": [
            [
             0,
             "#0d0887"
            ],
            [
             0.1111111111111111,
             "#46039f"
            ],
            [
             0.2222222222222222,
             "#7201a8"
            ],
            [
             0.3333333333333333,
             "#9c179e"
            ],
            [
             0.4444444444444444,
             "#bd3786"
            ],
            [
             0.5555555555555556,
             "#d8576b"
            ],
            [
             0.6666666666666666,
             "#ed7953"
            ],
            [
             0.7777777777777778,
             "#fb9f3a"
            ],
            [
             0.8888888888888888,
             "#fdca26"
            ],
            [
             1,
             "#f0f921"
            ]
           ]
          },
          "colorway": [
           "#636efa",
           "#EF553B",
           "#00cc96",
           "#ab63fa",
           "#FFA15A",
           "#19d3f3",
           "#FF6692",
           "#B6E880",
           "#FF97FF",
           "#FECB52"
          ],
          "font": {
           "color": "#2a3f5f"
          },
          "geo": {
           "bgcolor": "white",
           "lakecolor": "white",
           "landcolor": "#E5ECF6",
           "showlakes": true,
           "showland": true,
           "subunitcolor": "white"
          },
          "hoverlabel": {
           "align": "left"
          },
          "hovermode": "closest",
          "mapbox": {
           "style": "light"
          },
          "paper_bgcolor": "white",
          "plot_bgcolor": "#E5ECF6",
          "polar": {
           "angularaxis": {
            "gridcolor": "white",
            "linecolor": "white",
            "ticks": ""
           },
           "bgcolor": "#E5ECF6",
           "radialaxis": {
            "gridcolor": "white",
            "linecolor": "white",
            "ticks": ""
           }
          },
          "scene": {
           "xaxis": {
            "backgroundcolor": "#E5ECF6",
            "gridcolor": "white",
            "gridwidth": 2,
            "linecolor": "white",
            "showbackground": true,
            "ticks": "",
            "zerolinecolor": "white"
           },
           "yaxis": {
            "backgroundcolor": "#E5ECF6",
            "gridcolor": "white",
            "gridwidth": 2,
            "linecolor": "white",
            "showbackground": true,
            "ticks": "",
            "zerolinecolor": "white"
           },
           "zaxis": {
            "backgroundcolor": "#E5ECF6",
            "gridcolor": "white",
            "gridwidth": 2,
            "linecolor": "white",
            "showbackground": true,
            "ticks": "",
            "zerolinecolor": "white"
           }
          },
          "shapedefaults": {
           "line": {
            "color": "#2a3f5f"
           }
          },
          "ternary": {
           "aaxis": {
            "gridcolor": "white",
            "linecolor": "white",
            "ticks": ""
           },
           "baxis": {
            "gridcolor": "white",
            "linecolor": "white",
            "ticks": ""
           },
           "bgcolor": "#E5ECF6",
           "caxis": {
            "gridcolor": "white",
            "linecolor": "white",
            "ticks": ""
           }
          },
          "title": {
           "x": 0.05
          },
          "xaxis": {
           "automargin": true,
           "gridcolor": "white",
           "linecolor": "white",
           "ticks": "",
           "title": {
            "standoff": 15
           },
           "zerolinecolor": "white",
           "zerolinewidth": 2
          },
          "yaxis": {
           "automargin": true,
           "gridcolor": "white",
           "linecolor": "white",
           "ticks": "",
           "title": {
            "standoff": 15
           },
           "zerolinecolor": "white",
           "zerolinewidth": 2
          }
         }
        },
        "title": {
         "text": "Arka Match Stats"
        },
        "updatemenus": [
         {
          "active": 0,
          "buttons": [
           {
            "args": [
             {
              "visible": [
               false,
               false,
               false,
               false,
               false,
               false,
               false,
               false,
               false,
               false,
               false,
               false,
               false,
               false,
               false,
               false,
               false,
               false,
               false,
               false,
               false,
               false
              ]
             },
             {
              "title": "Arka Match Stats: None"
             }
            ],
            "label": "None",
            "method": "update"
           },
           {
            "args": [
             {
              "visible": [
               true,
               false,
               true,
               false,
               false,
               false,
               false,
               false,
               false,
               false,
               false,
               false,
               false,
               false,
               false,
               false,
               false,
               false,
               false,
               false,
               false,
               false
              ]
             },
             {
              "title": "Arka Match Stats: Goals and xG"
             }
            ],
            "label": "Goals and xG",
            "method": "update"
           },
           {
            "args": [
             {
              "visible": [
               false,
               true,
               false,
               false,
               false,
               false,
               false,
               false,
               false,
               false,
               false,
               false,
               false,
               false,
               false,
               false,
               false,
               false,
               false,
               false,
               false,
               false
              ]
             },
             {
              "title": "Arka Match Stats: Possesion"
             }
            ],
            "label": "Possesion",
            "method": "update"
           },
           {
            "args": [
             {
              "visible": [
               false,
               false,
               false,
               false,
               false,
               false,
               false,
               false,
               false,
               true,
               false,
               false,
               false,
               false,
               false,
               false,
               false,
               false,
               false,
               false,
               false,
               false
              ]
             },
             {
              "title": "Arka Match Stats: Passes"
             }
            ],
            "label": "Passes",
            "method": "update"
           },
           {
            "args": [
             {
              "visible": [
               false,
               false,
               false,
               true,
               true,
               true,
               false,
               true,
               true,
               false,
               false,
               false,
               false,
               false,
               false,
               false,
               false,
               false,
               false,
               false,
               false,
               false
              ]
             },
             {
              "title": "Arka Match Stats: Attack"
             }
            ],
            "label": "Attack",
            "method": "update"
           },
           {
            "args": [
             {
              "visible": [
               false,
               false,
               false,
               false,
               false,
               false,
               false,
               false,
               false,
               false,
               true,
               true,
               false,
               false,
               false,
               false,
               false,
               false,
               false,
               false,
               true,
               false
              ]
             },
             {
              "title": "Arka Match Stats: Defense"
             }
            ],
            "label": "Defense",
            "method": "update"
           },
           {
            "args": [
             {
              "visible": [
               false,
               false,
               false,
               false,
               false,
               false,
               false,
               false,
               false,
               false,
               false,
               false,
               false,
               false,
               true,
               true,
               false,
               false,
               false,
               false,
               false,
               false
              ]
             },
             {
              "title": "Arka Match Stats: Cards"
             }
            ],
            "label": "Cards",
            "method": "update"
           },
           {
            "args": [
             {
              "visible": [
               true,
               true,
               true,
               true,
               true,
               true,
               true,
               true,
               true,
               true,
               true,
               true,
               true,
               true,
               true,
               true,
               true,
               true,
               true,
               true,
               true,
               true
              ]
             },
             {
              "title": "Arka Match Stats: All"
             }
            ],
            "label": "All",
            "method": "update"
           }
          ],
          "x": 1.1,
          "y": 1.15
         }
        ],
        "xaxis": {
         "title": {
          "text": "Match"
         }
        },
        "yaxis": {
         "title": {
          "text": "Value"
         }
        }
       }
      }
     },
     "metadata": {},
     "output_type": "display_data"
    }
   ],
   "source": [
    "# Create the figure\n",
    "from torch import layout\n",
    "\n",
    "\n",
    "fig = go.Figure()\n",
    "\n",
    "# List of metrics to plot\n",
    "metrics = [\n",
    "    'Goals', 'Possesion_In_%', 'xG', 'Shots', 'Shots_On_Target',\n",
    "       'Shots_Off_Target', 'Shots_Blocked', 'Shots_Outside_Box',\n",
    "       'Shots_Inside_Box', 'Passes', 'Tackles', 'Fouls', 'Corners', 'Offsides',\n",
    "       'Yellow_Cards', 'Red_Cards', 'Penalties', 'Free_Kicks', 'Goal_Kicks',\n",
    "       'Throw_Ins', 'Saves', 'Crosses']\n",
    "\n",
    "# Add traces for each metric\n",
    "for metric in metrics:\n",
    "    fig.add_trace(go.Bar(x=data.index, y=data[metric], name=metric))\n",
    "\n",
    "\n",
    "# Define visibility matrix\n",
    "n = len(metrics)\n",
    "visibility_matrix = {\n",
    "    \"None\": [False] * n,\n",
    "    \"Goals and xG\": [metric in ['Goals', 'xG'] for metric in metrics],\n",
    "    \"Possesion\": [metric in ['Possesion_In_%'] for metric in metrics],\n",
    "    \"Passes\": [metric in ['Passes'] for metric in metrics],\n",
    "    \"Attack\": [metric in ['Shots', 'Shots_On_Target', 'Shots_Off_Target', 'Shots_Inside_Box', 'Shots_Outside_Box'] for metric in metrics],\n",
    "    \"Defense\": [metric in ['Tackles', 'Saves', 'Fouls'] for metric in metrics],\n",
    "    \"Cards\": [metric in ['Yellow_Cards', 'Red_Cards'] for metric in metrics],\n",
    "    \"All\": [True] * n\n",
    "}\n",
    "\n",
    "# Create buttons\n",
    "buttons = [\n",
    "    dict(label=label,\n",
    "         method=\"update\",\n",
    "         args=[{\"visible\": visibility},\n",
    "               {\"title\": f\"Arka Match Stats: {label}\"}])\n",
    "    for label, visibility in visibility_matrix.items()\n",
    "]\n",
    "\n",
    "# Add dropdown to figure\n",
    "fig.update_layout(\n",
    "    updatemenus=[dict(\n",
    "        active=0,\n",
    "        buttons=buttons,\n",
    "        x=1.1,\n",
    "        y=1.15\n",
    "    )],\n",
    "    title=\"Arka Match Stats\",\n",
    "    xaxis_title=\"Match\",\n",
    "    yaxis_title=\"Value\",\n",
    "    barmode='group'\n",
    ")\n",
    "\n",
    "fig.show()\n",
    "fig.write_html(\"Arka_stats.html\")"
   ]
  },
  {
   "cell_type": "code",
   "execution_count": null,
   "id": "b78b31d3",
   "metadata": {},
   "outputs": [],
   "source": []
  }
 ],
 "metadata": {
  "kernelspec": {
   "display_name": "DataScience",
   "language": "python",
   "name": "python3"
  },
  "language_info": {
   "codemirror_mode": {
    "name": "ipython",
    "version": 3
   },
   "file_extension": ".py",
   "mimetype": "text/x-python",
   "name": "python",
   "nbconvert_exporter": "python",
   "pygments_lexer": "ipython3",
   "version": "3.10.13"
  }
 },
 "nbformat": 4,
 "nbformat_minor": 5
}
