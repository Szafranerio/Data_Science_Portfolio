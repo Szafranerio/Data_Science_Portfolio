{
 "cells": [
  {
   "cell_type": "code",
   "execution_count": 7,
   "id": "eb248d3a",
   "metadata": {},
   "outputs": [],
   "source": [
    "import pandas as pd\n",
    "import matplotlib.pyplot as plt\n",
    "import seaborn\n",
    "import numpy as np\n",
    "import plotly.graph_objects as go"
   ]
  },
  {
   "cell_type": "code",
   "execution_count": 8,
   "id": "835128ea",
   "metadata": {},
   "outputs": [
    {
     "data": {
      "application/vnd.microsoft.datawrangler.viewer.v0+json": {
       "columns": [
        {
         "name": "index",
         "rawType": "int64",
         "type": "integer"
        },
        {
         "name": "Unnamed: 0",
         "rawType": "object",
         "type": "string"
        },
        {
         "name": "Goals",
         "rawType": "int64",
         "type": "integer"
        },
        {
         "name": "xG",
         "rawType": "object",
         "type": "string"
        },
        {
         "name": "Ball_Possession",
         "rawType": "int64",
         "type": "integer"
        },
        {
         "name": "Total_Shots",
         "rawType": "int64",
         "type": "integer"
        },
        {
         "name": "Shots_On_Target",
         "rawType": "int64",
         "type": "integer"
        },
        {
         "name": "Corners",
         "rawType": "int64",
         "type": "integer"
        },
        {
         "name": "Passes",
         "rawType": "int64",
         "type": "integer"
        },
        {
         "name": "Accurate_Passes",
         "rawType": "int64",
         "type": "integer"
        },
        {
         "name": "Accurate_Passes_%",
         "rawType": "int64",
         "type": "integer"
        },
        {
         "name": "Long_Passes",
         "rawType": "int64",
         "type": "integer"
        },
        {
         "name": "Accurate_Long_Passes",
         "rawType": "int64",
         "type": "integer"
        },
        {
         "name": "Accurate_Long_Passes_%",
         "rawType": "int64",
         "type": "integer"
        },
        {
         "name": "Crosses",
         "rawType": "int64",
         "type": "integer"
        },
        {
         "name": "Accurate_Crosses",
         "rawType": "int64",
         "type": "integer"
        },
        {
         "name": "Accurate_Crosses_%",
         "rawType": "int64",
         "type": "integer"
        },
        {
         "name": "Fouls",
         "rawType": "int64",
         "type": "integer"
        },
        {
         "name": "Tackels",
         "rawType": "int64",
         "type": "integer"
        },
        {
         "name": "Duels_Won",
         "rawType": "int64",
         "type": "integer"
        },
        {
         "name": "Clearances",
         "rawType": "int64",
         "type": "integer"
        },
        {
         "name": "Interceptions",
         "rawType": "int64",
         "type": "integer"
        },
        {
         "name": "Yellow_Cards",
         "rawType": "int64",
         "type": "integer"
        },
        {
         "name": "Red_Cards",
         "rawType": "int64",
         "type": "integer"
        },
        {
         "name": "Offsides",
         "rawType": "int64",
         "type": "integer"
        },
        {
         "name": "Free_Kicks",
         "rawType": "int64",
         "type": "integer"
        }
       ],
       "ref": "92ba9183-2410-4826-82f5-1391af3dfa98",
       "rows": [
        [
         "0",
         "Arka",
         "2",
         "0,53",
         "44",
         "11",
         "3",
         "6",
         "317",
         "254",
         "80",
         "45",
         "12",
         "27",
         "23",
         "3",
         "13",
         "13",
         "16",
         "39",
         "17",
         "8",
         "3",
         "0",
         "1",
         "14"
        ],
        [
         "1",
         "Pogon",
         "1",
         "2,36",
         "56",
         "13",
         "5",
         "6",
         "398",
         "324",
         "81",
         "47",
         "27",
         "57",
         "23",
         "7",
         "30",
         "14",
         "13",
         "47",
         "37",
         "1",
         "3",
         "0",
         "0",
         "12"
        ]
       ],
       "shape": {
        "columns": 25,
        "rows": 2
       }
      },
      "text/html": [
       "<div>\n",
       "<style scoped>\n",
       "    .dataframe tbody tr th:only-of-type {\n",
       "        vertical-align: middle;\n",
       "    }\n",
       "\n",
       "    .dataframe tbody tr th {\n",
       "        vertical-align: top;\n",
       "    }\n",
       "\n",
       "    .dataframe thead th {\n",
       "        text-align: right;\n",
       "    }\n",
       "</style>\n",
       "<table border=\"1\" class=\"dataframe\">\n",
       "  <thead>\n",
       "    <tr style=\"text-align: right;\">\n",
       "      <th></th>\n",
       "      <th>Unnamed: 0</th>\n",
       "      <th>Goals</th>\n",
       "      <th>xG</th>\n",
       "      <th>Ball_Possession</th>\n",
       "      <th>Total_Shots</th>\n",
       "      <th>Shots_On_Target</th>\n",
       "      <th>Corners</th>\n",
       "      <th>Passes</th>\n",
       "      <th>Accurate_Passes</th>\n",
       "      <th>Accurate_Passes_%</th>\n",
       "      <th>...</th>\n",
       "      <th>Accurate_Crosses_%</th>\n",
       "      <th>Fouls</th>\n",
       "      <th>Tackels</th>\n",
       "      <th>Duels_Won</th>\n",
       "      <th>Clearances</th>\n",
       "      <th>Interceptions</th>\n",
       "      <th>Yellow_Cards</th>\n",
       "      <th>Red_Cards</th>\n",
       "      <th>Offsides</th>\n",
       "      <th>Free_Kicks</th>\n",
       "    </tr>\n",
       "  </thead>\n",
       "  <tbody>\n",
       "    <tr>\n",
       "      <th>0</th>\n",
       "      <td>Arka</td>\n",
       "      <td>2</td>\n",
       "      <td>0,53</td>\n",
       "      <td>44</td>\n",
       "      <td>11</td>\n",
       "      <td>3</td>\n",
       "      <td>6</td>\n",
       "      <td>317</td>\n",
       "      <td>254</td>\n",
       "      <td>80</td>\n",
       "      <td>...</td>\n",
       "      <td>13</td>\n",
       "      <td>13</td>\n",
       "      <td>16</td>\n",
       "      <td>39</td>\n",
       "      <td>17</td>\n",
       "      <td>8</td>\n",
       "      <td>3</td>\n",
       "      <td>0</td>\n",
       "      <td>1</td>\n",
       "      <td>14</td>\n",
       "    </tr>\n",
       "    <tr>\n",
       "      <th>1</th>\n",
       "      <td>Pogon</td>\n",
       "      <td>1</td>\n",
       "      <td>2,36</td>\n",
       "      <td>56</td>\n",
       "      <td>13</td>\n",
       "      <td>5</td>\n",
       "      <td>6</td>\n",
       "      <td>398</td>\n",
       "      <td>324</td>\n",
       "      <td>81</td>\n",
       "      <td>...</td>\n",
       "      <td>30</td>\n",
       "      <td>14</td>\n",
       "      <td>13</td>\n",
       "      <td>47</td>\n",
       "      <td>37</td>\n",
       "      <td>1</td>\n",
       "      <td>3</td>\n",
       "      <td>0</td>\n",
       "      <td>0</td>\n",
       "      <td>12</td>\n",
       "    </tr>\n",
       "  </tbody>\n",
       "</table>\n",
       "<p>2 rows × 25 columns</p>\n",
       "</div>"
      ],
      "text/plain": [
       "  Unnamed: 0  Goals    xG  Ball_Possession  Total_Shots  Shots_On_Target  \\\n",
       "0       Arka      2  0,53               44           11                3   \n",
       "1      Pogon      1  2,36               56           13                5   \n",
       "\n",
       "   Corners  Passes  Accurate_Passes  Accurate_Passes_%  ...  \\\n",
       "0        6     317              254                 80  ...   \n",
       "1        6     398              324                 81  ...   \n",
       "\n",
       "   Accurate_Crosses_%  Fouls  Tackels  Duels_Won  Clearances  Interceptions  \\\n",
       "0                  13     13       16         39          17              8   \n",
       "1                  30     14       13         47          37              1   \n",
       "\n",
       "   Yellow_Cards  Red_Cards  Offsides  Free_Kicks  \n",
       "0             3          0         1          14  \n",
       "1             3          0         0          12  \n",
       "\n",
       "[2 rows x 25 columns]"
      ]
     },
     "execution_count": 8,
     "metadata": {},
     "output_type": "execute_result"
    }
   ],
   "source": [
    "data = pd.read_csv('data/DirectStats/ArkaVSPogon.csv', delimiter=';')\n",
    "data.head()"
   ]
  },
  {
   "cell_type": "code",
   "execution_count": 9,
   "id": "0f562938",
   "metadata": {},
   "outputs": [
    {
     "data": {
      "application/vnd.microsoft.datawrangler.viewer.v0+json": {
       "columns": [
        {
         "name": "Team",
         "rawType": "object",
         "type": "string"
        },
        {
         "name": "Goals",
         "rawType": "int64",
         "type": "integer"
        },
        {
         "name": "xG",
         "rawType": "float64",
         "type": "float"
        },
        {
         "name": "Ball_Possession",
         "rawType": "int64",
         "type": "integer"
        },
        {
         "name": "Total_Shots",
         "rawType": "int64",
         "type": "integer"
        },
        {
         "name": "Shots_On_Target",
         "rawType": "int64",
         "type": "integer"
        },
        {
         "name": "Corners",
         "rawType": "int64",
         "type": "integer"
        },
        {
         "name": "Passes",
         "rawType": "int64",
         "type": "integer"
        },
        {
         "name": "Accurate_Passes",
         "rawType": "int64",
         "type": "integer"
        },
        {
         "name": "Accurate_Passes_%",
         "rawType": "int64",
         "type": "integer"
        },
        {
         "name": "Long_Passes",
         "rawType": "int64",
         "type": "integer"
        },
        {
         "name": "Accurate_Long_Passes",
         "rawType": "int64",
         "type": "integer"
        },
        {
         "name": "Accurate_Long_Passes_%",
         "rawType": "int64",
         "type": "integer"
        },
        {
         "name": "Crosses",
         "rawType": "int64",
         "type": "integer"
        },
        {
         "name": "Accurate_Crosses",
         "rawType": "int64",
         "type": "integer"
        },
        {
         "name": "Accurate_Crosses_%",
         "rawType": "int64",
         "type": "integer"
        },
        {
         "name": "Fouls",
         "rawType": "int64",
         "type": "integer"
        },
        {
         "name": "Tackels",
         "rawType": "int64",
         "type": "integer"
        },
        {
         "name": "Duels_Won",
         "rawType": "int64",
         "type": "integer"
        },
        {
         "name": "Clearances",
         "rawType": "int64",
         "type": "integer"
        },
        {
         "name": "Interceptions",
         "rawType": "int64",
         "type": "integer"
        },
        {
         "name": "Yellow_Cards",
         "rawType": "int64",
         "type": "integer"
        },
        {
         "name": "Red_Cards",
         "rawType": "int64",
         "type": "integer"
        },
        {
         "name": "Offsides",
         "rawType": "int64",
         "type": "integer"
        },
        {
         "name": "Free_Kicks",
         "rawType": "int64",
         "type": "integer"
        }
       ],
       "ref": "b3b645c8-f4f2-42cc-8b0f-2f85357e3d69",
       "rows": [
        [
         "Arka",
         "2",
         "0.53",
         "44",
         "11",
         "3",
         "6",
         "317",
         "254",
         "80",
         "45",
         "12",
         "27",
         "23",
         "3",
         "13",
         "13",
         "16",
         "39",
         "17",
         "8",
         "3",
         "0",
         "1",
         "14"
        ],
        [
         "Pogon",
         "1",
         "2.36",
         "56",
         "13",
         "5",
         "6",
         "398",
         "324",
         "81",
         "47",
         "27",
         "57",
         "23",
         "7",
         "30",
         "14",
         "13",
         "47",
         "37",
         "1",
         "3",
         "0",
         "0",
         "12"
        ]
       ],
       "shape": {
        "columns": 24,
        "rows": 2
       }
      },
      "text/html": [
       "<div>\n",
       "<style scoped>\n",
       "    .dataframe tbody tr th:only-of-type {\n",
       "        vertical-align: middle;\n",
       "    }\n",
       "\n",
       "    .dataframe tbody tr th {\n",
       "        vertical-align: top;\n",
       "    }\n",
       "\n",
       "    .dataframe thead th {\n",
       "        text-align: right;\n",
       "    }\n",
       "</style>\n",
       "<table border=\"1\" class=\"dataframe\">\n",
       "  <thead>\n",
       "    <tr style=\"text-align: right;\">\n",
       "      <th></th>\n",
       "      <th>Goals</th>\n",
       "      <th>xG</th>\n",
       "      <th>Ball_Possession</th>\n",
       "      <th>Total_Shots</th>\n",
       "      <th>Shots_On_Target</th>\n",
       "      <th>Corners</th>\n",
       "      <th>Passes</th>\n",
       "      <th>Accurate_Passes</th>\n",
       "      <th>Accurate_Passes_%</th>\n",
       "      <th>Long_Passes</th>\n",
       "      <th>...</th>\n",
       "      <th>Accurate_Crosses_%</th>\n",
       "      <th>Fouls</th>\n",
       "      <th>Tackels</th>\n",
       "      <th>Duels_Won</th>\n",
       "      <th>Clearances</th>\n",
       "      <th>Interceptions</th>\n",
       "      <th>Yellow_Cards</th>\n",
       "      <th>Red_Cards</th>\n",
       "      <th>Offsides</th>\n",
       "      <th>Free_Kicks</th>\n",
       "    </tr>\n",
       "    <tr>\n",
       "      <th>Team</th>\n",
       "      <th></th>\n",
       "      <th></th>\n",
       "      <th></th>\n",
       "      <th></th>\n",
       "      <th></th>\n",
       "      <th></th>\n",
       "      <th></th>\n",
       "      <th></th>\n",
       "      <th></th>\n",
       "      <th></th>\n",
       "      <th></th>\n",
       "      <th></th>\n",
       "      <th></th>\n",
       "      <th></th>\n",
       "      <th></th>\n",
       "      <th></th>\n",
       "      <th></th>\n",
       "      <th></th>\n",
       "      <th></th>\n",
       "      <th></th>\n",
       "      <th></th>\n",
       "    </tr>\n",
       "  </thead>\n",
       "  <tbody>\n",
       "    <tr>\n",
       "      <th>Arka</th>\n",
       "      <td>2</td>\n",
       "      <td>0.53</td>\n",
       "      <td>44</td>\n",
       "      <td>11</td>\n",
       "      <td>3</td>\n",
       "      <td>6</td>\n",
       "      <td>317</td>\n",
       "      <td>254</td>\n",
       "      <td>80</td>\n",
       "      <td>45</td>\n",
       "      <td>...</td>\n",
       "      <td>13</td>\n",
       "      <td>13</td>\n",
       "      <td>16</td>\n",
       "      <td>39</td>\n",
       "      <td>17</td>\n",
       "      <td>8</td>\n",
       "      <td>3</td>\n",
       "      <td>0</td>\n",
       "      <td>1</td>\n",
       "      <td>14</td>\n",
       "    </tr>\n",
       "    <tr>\n",
       "      <th>Pogon</th>\n",
       "      <td>1</td>\n",
       "      <td>2.36</td>\n",
       "      <td>56</td>\n",
       "      <td>13</td>\n",
       "      <td>5</td>\n",
       "      <td>6</td>\n",
       "      <td>398</td>\n",
       "      <td>324</td>\n",
       "      <td>81</td>\n",
       "      <td>47</td>\n",
       "      <td>...</td>\n",
       "      <td>30</td>\n",
       "      <td>14</td>\n",
       "      <td>13</td>\n",
       "      <td>47</td>\n",
       "      <td>37</td>\n",
       "      <td>1</td>\n",
       "      <td>3</td>\n",
       "      <td>0</td>\n",
       "      <td>0</td>\n",
       "      <td>12</td>\n",
       "    </tr>\n",
       "  </tbody>\n",
       "</table>\n",
       "<p>2 rows × 24 columns</p>\n",
       "</div>"
      ],
      "text/plain": [
       "       Goals    xG  Ball_Possession  Total_Shots  Shots_On_Target  Corners  \\\n",
       "Team                                                                         \n",
       "Arka       2  0.53               44           11                3        6   \n",
       "Pogon      1  2.36               56           13                5        6   \n",
       "\n",
       "       Passes  Accurate_Passes  Accurate_Passes_%  Long_Passes  ...  \\\n",
       "Team                                                            ...   \n",
       "Arka      317              254                 80           45  ...   \n",
       "Pogon     398              324                 81           47  ...   \n",
       "\n",
       "       Accurate_Crosses_%  Fouls  Tackels  Duels_Won  Clearances  \\\n",
       "Team                                                               \n",
       "Arka                   13     13       16         39          17   \n",
       "Pogon                  30     14       13         47          37   \n",
       "\n",
       "       Interceptions  Yellow_Cards  Red_Cards  Offsides  Free_Kicks  \n",
       "Team                                                                 \n",
       "Arka               8             3          0         1          14  \n",
       "Pogon              1             3          0         0          12  \n",
       "\n",
       "[2 rows x 24 columns]"
      ]
     },
     "execution_count": 9,
     "metadata": {},
     "output_type": "execute_result"
    }
   ],
   "source": [
    "data = data.rename(columns={'Unnamed: 0': 'Team'})\n",
    "data = data.set_index('Team')\n",
    "data['xG'] = data['xG'].str.replace(',', '.').astype('float64')\n",
    "data.head()"
   ]
  },
  {
   "cell_type": "code",
   "execution_count": 10,
   "id": "1c9ae865",
   "metadata": {},
   "outputs": [
    {
     "data": {
      "text/plain": [
       "Index(['Goals', 'xG', 'Ball_Possession', 'Total_Shots', 'Shots_On_Target',\n",
       "       'Corners', 'Passes', 'Accurate_Passes', 'Accurate_Passes_%',\n",
       "       'Long_Passes', 'Accurate_Long_Passes', 'Accurate_Long_Passes_%',\n",
       "       'Crosses', 'Accurate_Crosses', 'Accurate_Crosses_%', 'Fouls', 'Tackels',\n",
       "       'Duels_Won', 'Clearances', 'Interceptions', 'Yellow_Cards', 'Red_Cards',\n",
       "       'Offsides', 'Free_Kicks'],\n",
       "      dtype='object')"
      ]
     },
     "execution_count": 10,
     "metadata": {},
     "output_type": "execute_result"
    }
   ],
   "source": [
    "data.columns"
   ]
  },
  {
   "cell_type": "code",
   "execution_count": null,
   "id": "641d5210",
   "metadata": {},
   "outputs": [
    {
     "data": {
      "application/vnd.plotly.v1+json": {
       "config": {
        "plotlyServerURL": "https://plot.ly"
       },
       "data": [
        {
         "name": "Goals",
         "type": "bar",
         "x": [
          "Arka",
          "Pogon"
         ],
         "y": {
          "bdata": "AgE=",
          "dtype": "i1"
         }
        },
        {
         "name": "xG",
         "type": "bar",
         "x": [
          "Arka",
          "Pogon"
         ],
         "y": {
          "bdata": "9ihcj8L14D/hehSuR+ECQA==",
          "dtype": "f8"
         }
        },
        {
         "name": "Ball_Possession",
         "type": "bar",
         "x": [
          "Arka",
          "Pogon"
         ],
         "y": {
          "bdata": "LDg=",
          "dtype": "i1"
         }
        },
        {
         "name": "Total_Shots",
         "type": "bar",
         "x": [
          "Arka",
          "Pogon"
         ],
         "y": {
          "bdata": "Cw0=",
          "dtype": "i1"
         }
        },
        {
         "name": "Shots_On_Target",
         "type": "bar",
         "x": [
          "Arka",
          "Pogon"
         ],
         "y": {
          "bdata": "AwU=",
          "dtype": "i1"
         }
        },
        {
         "name": "Corners",
         "type": "bar",
         "x": [
          "Arka",
          "Pogon"
         ],
         "y": {
          "bdata": "BgY=",
          "dtype": "i1"
         }
        },
        {
         "name": "Passes",
         "type": "bar",
         "x": [
          "Arka",
          "Pogon"
         ],
         "y": {
          "bdata": "PQGOAQ==",
          "dtype": "i2"
         }
        },
        {
         "name": "Accurate_Passes",
         "type": "bar",
         "x": [
          "Arka",
          "Pogon"
         ],
         "y": {
          "bdata": "/gBEAQ==",
          "dtype": "i2"
         }
        },
        {
         "name": "Accurate_Passes_%",
         "type": "bar",
         "x": [
          "Arka",
          "Pogon"
         ],
         "y": {
          "bdata": "UFE=",
          "dtype": "i1"
         }
        },
        {
         "name": "Long_Passes",
         "type": "bar",
         "x": [
          "Arka",
          "Pogon"
         ],
         "y": {
          "bdata": "LS8=",
          "dtype": "i1"
         }
        },
        {
         "name": "Accurate_Long_Passes",
         "type": "bar",
         "x": [
          "Arka",
          "Pogon"
         ],
         "y": {
          "bdata": "DBs=",
          "dtype": "i1"
         }
        },
        {
         "name": "Accurate_Long_Passes_%",
         "type": "bar",
         "x": [
          "Arka",
          "Pogon"
         ],
         "y": {
          "bdata": "Gzk=",
          "dtype": "i1"
         }
        },
        {
         "name": "Crosses",
         "type": "bar",
         "x": [
          "Arka",
          "Pogon"
         ],
         "y": {
          "bdata": "Fxc=",
          "dtype": "i1"
         }
        },
        {
         "name": "Accurate_Crosses",
         "type": "bar",
         "x": [
          "Arka",
          "Pogon"
         ],
         "y": {
          "bdata": "Awc=",
          "dtype": "i1"
         }
        },
        {
         "name": "Accurate_Crosses_%",
         "type": "bar",
         "x": [
          "Arka",
          "Pogon"
         ],
         "y": {
          "bdata": "DR4=",
          "dtype": "i1"
         }
        },
        {
         "name": "Fouls",
         "type": "bar",
         "x": [
          "Arka",
          "Pogon"
         ],
         "y": {
          "bdata": "DQ4=",
          "dtype": "i1"
         }
        },
        {
         "name": "Tackels",
         "type": "bar",
         "x": [
          "Arka",
          "Pogon"
         ],
         "y": {
          "bdata": "EA0=",
          "dtype": "i1"
         }
        },
        {
         "name": "Duels_Won",
         "type": "bar",
         "x": [
          "Arka",
          "Pogon"
         ],
         "y": {
          "bdata": "Jy8=",
          "dtype": "i1"
         }
        },
        {
         "name": "Clearances",
         "type": "bar",
         "x": [
          "Arka",
          "Pogon"
         ],
         "y": {
          "bdata": "ESU=",
          "dtype": "i1"
         }
        },
        {
         "name": "Interceptions",
         "type": "bar",
         "x": [
          "Arka",
          "Pogon"
         ],
         "y": {
          "bdata": "CAE=",
          "dtype": "i1"
         }
        },
        {
         "name": "Yellow_Cards",
         "type": "bar",
         "x": [
          "Arka",
          "Pogon"
         ],
         "y": {
          "bdata": "AwM=",
          "dtype": "i1"
         }
        },
        {
         "name": "Red_Cards",
         "type": "bar",
         "x": [
          "Arka",
          "Pogon"
         ],
         "y": {
          "bdata": "AAA=",
          "dtype": "i1"
         }
        },
        {
         "name": "Offsides",
         "type": "bar",
         "x": [
          "Arka",
          "Pogon"
         ],
         "y": {
          "bdata": "AQA=",
          "dtype": "i1"
         }
        },
        {
         "name": "Free_Kicks",
         "type": "bar",
         "x": [
          "Arka",
          "Pogon"
         ],
         "y": {
          "bdata": "Dgw=",
          "dtype": "i1"
         }
        }
       ],
       "layout": {
        "barmode": "group",
        "template": {
         "data": {
          "bar": [
           {
            "error_x": {
             "color": "#2a3f5f"
            },
            "error_y": {
             "color": "#2a3f5f"
            },
            "marker": {
             "line": {
              "color": "#E5ECF6",
              "width": 0.5
             },
             "pattern": {
              "fillmode": "overlay",
              "size": 10,
              "solidity": 0.2
             }
            },
            "type": "bar"
           }
          ],
          "barpolar": [
           {
            "marker": {
             "line": {
              "color": "#E5ECF6",
              "width": 0.5
             },
             "pattern": {
              "fillmode": "overlay",
              "size": 10,
              "solidity": 0.2
             }
            },
            "type": "barpolar"
           }
          ],
          "carpet": [
           {
            "aaxis": {
             "endlinecolor": "#2a3f5f",
             "gridcolor": "white",
             "linecolor": "white",
             "minorgridcolor": "white",
             "startlinecolor": "#2a3f5f"
            },
            "baxis": {
             "endlinecolor": "#2a3f5f",
             "gridcolor": "white",
             "linecolor": "white",
             "minorgridcolor": "white",
             "startlinecolor": "#2a3f5f"
            },
            "type": "carpet"
           }
          ],
          "choropleth": [
           {
            "colorbar": {
             "outlinewidth": 0,
             "ticks": ""
            },
            "type": "choropleth"
           }
          ],
          "contour": [
           {
            "colorbar": {
             "outlinewidth": 0,
             "ticks": ""
            },
            "colorscale": [
             [
              0,
              "#0d0887"
             ],
             [
              0.1111111111111111,
              "#46039f"
             ],
             [
              0.2222222222222222,
              "#7201a8"
             ],
             [
              0.3333333333333333,
              "#9c179e"
             ],
             [
              0.4444444444444444,
              "#bd3786"
             ],
             [
              0.5555555555555556,
              "#d8576b"
             ],
             [
              0.6666666666666666,
              "#ed7953"
             ],
             [
              0.7777777777777778,
              "#fb9f3a"
             ],
             [
              0.8888888888888888,
              "#fdca26"
             ],
             [
              1,
              "#f0f921"
             ]
            ],
            "type": "contour"
           }
          ],
          "contourcarpet": [
           {
            "colorbar": {
             "outlinewidth": 0,
             "ticks": ""
            },
            "type": "contourcarpet"
           }
          ],
          "heatmap": [
           {
            "colorbar": {
             "outlinewidth": 0,
             "ticks": ""
            },
            "colorscale": [
             [
              0,
              "#0d0887"
             ],
             [
              0.1111111111111111,
              "#46039f"
             ],
             [
              0.2222222222222222,
              "#7201a8"
             ],
             [
              0.3333333333333333,
              "#9c179e"
             ],
             [
              0.4444444444444444,
              "#bd3786"
             ],
             [
              0.5555555555555556,
              "#d8576b"
             ],
             [
              0.6666666666666666,
              "#ed7953"
             ],
             [
              0.7777777777777778,
              "#fb9f3a"
             ],
             [
              0.8888888888888888,
              "#fdca26"
             ],
             [
              1,
              "#f0f921"
             ]
            ],
            "type": "heatmap"
           }
          ],
          "histogram": [
           {
            "marker": {
             "pattern": {
              "fillmode": "overlay",
              "size": 10,
              "solidity": 0.2
             }
            },
            "type": "histogram"
           }
          ],
          "histogram2d": [
           {
            "colorbar": {
             "outlinewidth": 0,
             "ticks": ""
            },
            "colorscale": [
             [
              0,
              "#0d0887"
             ],
             [
              0.1111111111111111,
              "#46039f"
             ],
             [
              0.2222222222222222,
              "#7201a8"
             ],
             [
              0.3333333333333333,
              "#9c179e"
             ],
             [
              0.4444444444444444,
              "#bd3786"
             ],
             [
              0.5555555555555556,
              "#d8576b"
             ],
             [
              0.6666666666666666,
              "#ed7953"
             ],
             [
              0.7777777777777778,
              "#fb9f3a"
             ],
             [
              0.8888888888888888,
              "#fdca26"
             ],
             [
              1,
              "#f0f921"
             ]
            ],
            "type": "histogram2d"
           }
          ],
          "histogram2dcontour": [
           {
            "colorbar": {
             "outlinewidth": 0,
             "ticks": ""
            },
            "colorscale": [
             [
              0,
              "#0d0887"
             ],
             [
              0.1111111111111111,
              "#46039f"
             ],
             [
              0.2222222222222222,
              "#7201a8"
             ],
             [
              0.3333333333333333,
              "#9c179e"
             ],
             [
              0.4444444444444444,
              "#bd3786"
             ],
             [
              0.5555555555555556,
              "#d8576b"
             ],
             [
              0.6666666666666666,
              "#ed7953"
             ],
             [
              0.7777777777777778,
              "#fb9f3a"
             ],
             [
              0.8888888888888888,
              "#fdca26"
             ],
             [
              1,
              "#f0f921"
             ]
            ],
            "type": "histogram2dcontour"
           }
          ],
          "mesh3d": [
           {
            "colorbar": {
             "outlinewidth": 0,
             "ticks": ""
            },
            "type": "mesh3d"
           }
          ],
          "parcoords": [
           {
            "line": {
             "colorbar": {
              "outlinewidth": 0,
              "ticks": ""
             }
            },
            "type": "parcoords"
           }
          ],
          "pie": [
           {
            "automargin": true,
            "type": "pie"
           }
          ],
          "scatter": [
           {
            "fillpattern": {
             "fillmode": "overlay",
             "size": 10,
             "solidity": 0.2
            },
            "type": "scatter"
           }
          ],
          "scatter3d": [
           {
            "line": {
             "colorbar": {
              "outlinewidth": 0,
              "ticks": ""
             }
            },
            "marker": {
             "colorbar": {
              "outlinewidth": 0,
              "ticks": ""
             }
            },
            "type": "scatter3d"
           }
          ],
          "scattercarpet": [
           {
            "marker": {
             "colorbar": {
              "outlinewidth": 0,
              "ticks": ""
             }
            },
            "type": "scattercarpet"
           }
          ],
          "scattergeo": [
           {
            "marker": {
             "colorbar": {
              "outlinewidth": 0,
              "ticks": ""
             }
            },
            "type": "scattergeo"
           }
          ],
          "scattergl": [
           {
            "marker": {
             "colorbar": {
              "outlinewidth": 0,
              "ticks": ""
             }
            },
            "type": "scattergl"
           }
          ],
          "scattermap": [
           {
            "marker": {
             "colorbar": {
              "outlinewidth": 0,
              "ticks": ""
             }
            },
            "type": "scattermap"
           }
          ],
          "scattermapbox": [
           {
            "marker": {
             "colorbar": {
              "outlinewidth": 0,
              "ticks": ""
             }
            },
            "type": "scattermapbox"
           }
          ],
          "scatterpolar": [
           {
            "marker": {
             "colorbar": {
              "outlinewidth": 0,
              "ticks": ""
             }
            },
            "type": "scatterpolar"
           }
          ],
          "scatterpolargl": [
           {
            "marker": {
             "colorbar": {
              "outlinewidth": 0,
              "ticks": ""
             }
            },
            "type": "scatterpolargl"
           }
          ],
          "scatterternary": [
           {
            "marker": {
             "colorbar": {
              "outlinewidth": 0,
              "ticks": ""
             }
            },
            "type": "scatterternary"
           }
          ],
          "surface": [
           {
            "colorbar": {
             "outlinewidth": 0,
             "ticks": ""
            },
            "colorscale": [
             [
              0,
              "#0d0887"
             ],
             [
              0.1111111111111111,
              "#46039f"
             ],
             [
              0.2222222222222222,
              "#7201a8"
             ],
             [
              0.3333333333333333,
              "#9c179e"
             ],
             [
              0.4444444444444444,
              "#bd3786"
             ],
             [
              0.5555555555555556,
              "#d8576b"
             ],
             [
              0.6666666666666666,
              "#ed7953"
             ],
             [
              0.7777777777777778,
              "#fb9f3a"
             ],
             [
              0.8888888888888888,
              "#fdca26"
             ],
             [
              1,
              "#f0f921"
             ]
            ],
            "type": "surface"
           }
          ],
          "table": [
           {
            "cells": {
             "fill": {
              "color": "#EBF0F8"
             },
             "line": {
              "color": "white"
             }
            },
            "header": {
             "fill": {
              "color": "#C8D4E3"
             },
             "line": {
              "color": "white"
             }
            },
            "type": "table"
           }
          ]
         },
         "layout": {
          "annotationdefaults": {
           "arrowcolor": "#2a3f5f",
           "arrowhead": 0,
           "arrowwidth": 1
          },
          "autotypenumbers": "strict",
          "coloraxis": {
           "colorbar": {
            "outlinewidth": 0,
            "ticks": ""
           }
          },
          "colorscale": {
           "diverging": [
            [
             0,
             "#8e0152"
            ],
            [
             0.1,
             "#c51b7d"
            ],
            [
             0.2,
             "#de77ae"
            ],
            [
             0.3,
             "#f1b6da"
            ],
            [
             0.4,
             "#fde0ef"
            ],
            [
             0.5,
             "#f7f7f7"
            ],
            [
             0.6,
             "#e6f5d0"
            ],
            [
             0.7,
             "#b8e186"
            ],
            [
             0.8,
             "#7fbc41"
            ],
            [
             0.9,
             "#4d9221"
            ],
            [
             1,
             "#276419"
            ]
           ],
           "sequential": [
            [
             0,
             "#0d0887"
            ],
            [
             0.1111111111111111,
             "#46039f"
            ],
            [
             0.2222222222222222,
             "#7201a8"
            ],
            [
             0.3333333333333333,
             "#9c179e"
            ],
            [
             0.4444444444444444,
             "#bd3786"
            ],
            [
             0.5555555555555556,
             "#d8576b"
            ],
            [
             0.6666666666666666,
             "#ed7953"
            ],
            [
             0.7777777777777778,
             "#fb9f3a"
            ],
            [
             0.8888888888888888,
             "#fdca26"
            ],
            [
             1,
             "#f0f921"
            ]
           ],
           "sequentialminus": [
            [
             0,
             "#0d0887"
            ],
            [
             0.1111111111111111,
             "#46039f"
            ],
            [
             0.2222222222222222,
             "#7201a8"
            ],
            [
             0.3333333333333333,
             "#9c179e"
            ],
            [
             0.4444444444444444,
             "#bd3786"
            ],
            [
             0.5555555555555556,
             "#d8576b"
            ],
            [
             0.6666666666666666,
             "#ed7953"
            ],
            [
             0.7777777777777778,
             "#fb9f3a"
            ],
            [
             0.8888888888888888,
             "#fdca26"
            ],
            [
             1,
             "#f0f921"
            ]
           ]
          },
          "colorway": [
           "#636efa",
           "#EF553B",
           "#00cc96",
           "#ab63fa",
           "#FFA15A",
           "#19d3f3",
           "#FF6692",
           "#B6E880",
           "#FF97FF",
           "#FECB52"
          ],
          "font": {
           "color": "#2a3f5f"
          },
          "geo": {
           "bgcolor": "white",
           "lakecolor": "white",
           "landcolor": "#E5ECF6",
           "showlakes": true,
           "showland": true,
           "subunitcolor": "white"
          },
          "hoverlabel": {
           "align": "left"
          },
          "hovermode": "closest",
          "mapbox": {
           "style": "light"
          },
          "paper_bgcolor": "white",
          "plot_bgcolor": "#E5ECF6",
          "polar": {
           "angularaxis": {
            "gridcolor": "white",
            "linecolor": "white",
            "ticks": ""
           },
           "bgcolor": "#E5ECF6",
           "radialaxis": {
            "gridcolor": "white",
            "linecolor": "white",
            "ticks": ""
           }
          },
          "scene": {
           "xaxis": {
            "backgroundcolor": "#E5ECF6",
            "gridcolor": "white",
            "gridwidth": 2,
            "linecolor": "white",
            "showbackground": true,
            "ticks": "",
            "zerolinecolor": "white"
           },
           "yaxis": {
            "backgroundcolor": "#E5ECF6",
            "gridcolor": "white",
            "gridwidth": 2,
            "linecolor": "white",
            "showbackground": true,
            "ticks": "",
            "zerolinecolor": "white"
           },
           "zaxis": {
            "backgroundcolor": "#E5ECF6",
            "gridcolor": "white",
            "gridwidth": 2,
            "linecolor": "white",
            "showbackground": true,
            "ticks": "",
            "zerolinecolor": "white"
           }
          },
          "shapedefaults": {
           "line": {
            "color": "#2a3f5f"
           }
          },
          "ternary": {
           "aaxis": {
            "gridcolor": "white",
            "linecolor": "white",
            "ticks": ""
           },
           "baxis": {
            "gridcolor": "white",
            "linecolor": "white",
            "ticks": ""
           },
           "bgcolor": "#E5ECF6",
           "caxis": {
            "gridcolor": "white",
            "linecolor": "white",
            "ticks": ""
           }
          },
          "title": {
           "x": 0.05
          },
          "xaxis": {
           "automargin": true,
           "gridcolor": "white",
           "linecolor": "white",
           "ticks": "",
           "title": {
            "standoff": 15
           },
           "zerolinecolor": "white",
           "zerolinewidth": 2
          },
          "yaxis": {
           "automargin": true,
           "gridcolor": "white",
           "linecolor": "white",
           "ticks": "",
           "title": {
            "standoff": 15
           },
           "zerolinecolor": "white",
           "zerolinewidth": 2
          }
         }
        },
        "title": {
         "text": "Arka Match Stats"
        },
        "updatemenus": [
         {
          "active": 0,
          "buttons": [
           {
            "args": [
             {
              "visible": [
               false,
               false,
               false,
               false,
               false,
               false,
               false,
               false,
               false,
               false,
               false,
               false,
               false,
               false,
               false,
               false,
               false,
               false,
               false,
               false,
               false,
               false,
               false,
               false
              ]
             },
             {
              "title": "Arka Match Stats: None"
             }
            ],
            "label": "None",
            "method": "update"
           },
           {
            "args": [
             {
              "visible": [
               true,
               true,
               false,
               false,
               false,
               false,
               false,
               false,
               false,
               false,
               false,
               false,
               false,
               false,
               false,
               false,
               false,
               false,
               false,
               false,
               false,
               false,
               false,
               false
              ]
             },
             {
              "title": "Arka Match Stats: Goals and xG"
             }
            ],
            "label": "Goals and xG",
            "method": "update"
           },
           {
            "args": [
             {
              "visible": [
               false,
               false,
               true,
               false,
               false,
               false,
               false,
               false,
               false,
               false,
               false,
               false,
               false,
               false,
               false,
               false,
               false,
               false,
               false,
               false,
               false,
               false,
               false,
               false
              ]
             },
             {
              "title": "Arka Match Stats: Possesion"
             }
            ],
            "label": "Possesion",
            "method": "update"
           },
           {
            "args": [
             {
              "visible": [
               false,
               false,
               false,
               false,
               false,
               false,
               true,
               true,
               true,
               false,
               false,
               false,
               false,
               false,
               false,
               false,
               false,
               false,
               false,
               false,
               false,
               false,
               false,
               false
              ]
             },
             {
              "title": "Arka Match Stats: Passes"
             }
            ],
            "label": "Passes",
            "method": "update"
           },
           {
            "args": [
             {
              "visible": [
               false,
               false,
               false,
               false,
               false,
               false,
               false,
               false,
               false,
               true,
               true,
               true,
               true,
               true,
               true,
               false,
               false,
               false,
               false,
               false,
               false,
               false,
               false,
               false
              ]
             },
             {
              "title": "Arka Match Stats: Long Passes"
             }
            ],
            "label": "Long Passes",
            "method": "update"
           },
           {
            "args": [
             {
              "visible": [
               false,
               false,
               false,
               false,
               true,
               false,
               false,
               false,
               false,
               false,
               false,
               false,
               false,
               false,
               false,
               false,
               false,
               false,
               false,
               false,
               false,
               false,
               true,
               false
              ]
             },
             {
              "title": "Arka Match Stats: Attack"
             }
            ],
            "label": "Attack",
            "method": "update"
           },
           {
            "args": [
             {
              "visible": [
               false,
               false,
               false,
               false,
               false,
               false,
               false,
               false,
               false,
               false,
               false,
               false,
               false,
               false,
               false,
               true,
               true,
               true,
               true,
               true,
               true,
               true,
               false,
               false
              ]
             },
             {
              "title": "Arka Match Stats: Defense"
             }
            ],
            "label": "Defense",
            "method": "update"
           },
           {
            "args": [
             {
              "visible": [
               false,
               false,
               false,
               false,
               false,
               false,
               false,
               false,
               false,
               false,
               false,
               false,
               false,
               false,
               false,
               false,
               false,
               false,
               false,
               false,
               true,
               true,
               false,
               false
              ]
             },
             {
              "title": "Arka Match Stats: Cards"
             }
            ],
            "label": "Cards",
            "method": "update"
           },
           {
            "args": [
             {
              "visible": [
               false,
               false,
               false,
               false,
               false,
               true,
               false,
               false,
               false,
               false,
               false,
               false,
               false,
               false,
               false,
               false,
               false,
               false,
               false,
               false,
               false,
               false,
               false,
               true
              ]
             },
             {
              "title": "Arka Match Stats: Set Piece"
             }
            ],
            "label": "Set Piece",
            "method": "update"
           },
           {
            "args": [
             {
              "visible": [
               true,
               true,
               true,
               true,
               true,
               true,
               true,
               true,
               true,
               true,
               true,
               true,
               true,
               true,
               true,
               true,
               true,
               true,
               true,
               true,
               true,
               true,
               true,
               true
              ]
             },
             {
              "title": "Arka Match Stats: All"
             }
            ],
            "label": "All",
            "method": "update"
           }
          ],
          "x": 1.1,
          "y": 1.15
         }
        ],
        "xaxis": {
         "title": {
          "text": "Match"
         }
        },
        "yaxis": {
         "title": {
          "text": "Value"
         }
        }
       }
      }
     },
     "metadata": {},
     "output_type": "display_data"
    }
   ],
   "source": [
    "fig = go.Figure()\n",
    "\n",
    "# List of metrics to plot\n",
    "metrics = ['Goals', 'xG', 'Ball_Possession', 'Total_Shots', 'Shots_On_Target',\n",
    "       'Corners', 'Passes', 'Accurate_Passes', 'Accurate_Passes_%',\n",
    "       'Long_Passes', 'Accurate_Long_Passes', 'Accurate_Long_Passes_%',\n",
    "       'Crosses', 'Accurate_Crosses', 'Accurate_Crosses_%', 'Fouls', 'Tackels',\n",
    "       'Duels_Won', 'Clearances', 'Interceptions', 'Yellow_Cards', 'Red_Cards',\n",
    "       'Offsides', 'Free_Kicks']\n",
    "\n",
    "# Add traces for each metric\n",
    "for metric in metrics:\n",
    "    fig.add_trace(go.Bar(x=data.index, y=data[metric], name=metric))\n",
    "\n",
    "\n",
    "# Define visibility matrix\n",
    "n = len(metrics)\n",
    "visibility_matrix = {\n",
    "    \"None\": [False] * n,\n",
    "    \"Goals and xG\": [metric in ['Goals', 'xG'] for metric in metrics],\n",
    "    \"Possesion\": [metric in ['Ball_Possession'] for metric in metrics],\n",
    "    \"Passes\": [metric in ['Passes', 'Accurate_Passes', 'Accurate_Passes_%'] for metric in metrics],\n",
    "    \"Long Passes\": [metric in ['Long_Passes', 'Accurate_Long_Passes', 'Accurate_Long_Passes_%',\n",
    "       'Crosses', 'Accurate_Crosses', 'Accurate_Crosses_%'] for metric in metrics],\n",
    "    \"Attack\": [metric in ['Shots', 'Shots_On_Target', 'Offsides'] for metric in metrics],\n",
    "    \"Defense\": [metric in ['Fouls', 'Tackels',\n",
    "       'Duels_Won', 'Clearances', 'Interceptions', 'Yellow_Cards', 'Red_Cards'] for metric in metrics],\n",
    "    \"Cards\": [metric in ['Yellow_Cards', 'Red_Cards'] for metric in metrics],\n",
    "    \"Set Piece\": [metric in ['Corners', 'Free_Kicks'] for metric in metrics],\n",
    "    \"All\": [True] * n\n",
    "}\n",
    "\n",
    "# Create buttons\n",
    "buttons = [\n",
    "    dict(label=label,\n",
    "         method=\"update\",\n",
    "         args=[{\"visible\": visibility},\n",
    "               {\"title\": f\"Arka Match Stats: {label}\"}])\n",
    "    for label, visibility in visibility_matrix.items()\n",
    "]\n",
    "\n",
    "# Add dropdown to figure\n",
    "fig.update_layout(\n",
    "    updatemenus=[\n",
    "        dict(\n",
    "            active=0,\n",
    "            buttons=buttons,\n",
    "            x=1.1,\n",
    "            y=1.15\n",
    "        ),\n",
    "    ],\n",
    "    title=\"Arka Match Stats\",\n",
    "    xaxis_title=\"Match\",\n",
    "    yaxis_title=\"Value\",\n",
    "    barmode='group'\n",
    ")\n",
    "fig.show()\n",
    "fig.write_html(\"ARKA_VS_POGON.html\")"
   ]
  },
  {
   "cell_type": "code",
   "execution_count": null,
   "id": "85dc78cc",
   "metadata": {},
   "outputs": [],
   "source": []
  }
 ],
 "metadata": {
  "kernelspec": {
   "display_name": "DataScience",
   "language": "python",
   "name": "python3"
  },
  "language_info": {
   "codemirror_mode": {
    "name": "ipython",
    "version": 3
   },
   "file_extension": ".py",
   "mimetype": "text/x-python",
   "name": "python",
   "nbconvert_exporter": "python",
   "pygments_lexer": "ipython3",
   "version": "3.10.13"
  }
 },
 "nbformat": 4,
 "nbformat_minor": 5
}
