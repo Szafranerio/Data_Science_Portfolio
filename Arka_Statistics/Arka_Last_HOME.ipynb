{
 "cells": [
  {
   "cell_type": "code",
   "execution_count": 7,
   "id": "74bc315b",
   "metadata": {},
   "outputs": [],
   "source": [
    "import pandas as pd\n",
    "import matplotlib.pyplot as plt\n",
    "import seaborn\n",
    "import numpy as np\n",
    "import plotly.graph_objects as go"
   ]
  },
  {
   "cell_type": "code",
   "execution_count": 8,
   "id": "ea96cb2f",
   "metadata": {},
   "outputs": [
    {
     "data": {
      "application/vnd.microsoft.datawrangler.viewer.v0+json": {
       "columns": [
        {
         "name": "index",
         "rawType": "int64",
         "type": "integer"
        },
        {
         "name": "Players",
         "rawType": "object",
         "type": "string"
        },
        {
         "name": "Ratings",
         "rawType": "object",
         "type": "string"
        },
        {
         "name": "Minutes",
         "rawType": "object",
         "type": "string"
        },
        {
         "name": "Goals",
         "rawType": "object",
         "type": "string"
        },
        {
         "name": "Assists",
         "rawType": "object",
         "type": "string"
        },
        {
         "name": "Offsides",
         "rawType": "object",
         "type": "string"
        },
        {
         "name": "Passes",
         "rawType": "object",
         "type": "string"
        },
        {
         "name": "Accurate_Passes",
         "rawType": "object",
         "type": "string"
        },
        {
         "name": "Accurate_Passes_%",
         "rawType": "object",
         "type": "string"
        },
        {
         "name": "Crosses",
         "rawType": "object",
         "type": "string"
        },
        {
         "name": "Tackles",
         "rawType": "object",
         "type": "string"
        },
        {
         "name": "Total_Shots",
         "rawType": "object",
         "type": "string"
        },
        {
         "name": "Shots_on_Target",
         "rawType": "object",
         "type": "string"
        },
        {
         "name": "Blocked_Shots",
         "rawType": "object",
         "type": "string"
        },
        {
         "name": "Yellow_Cards",
         "rawType": "object",
         "type": "string"
        },
        {
         "name": "Red_Cards",
         "rawType": "object",
         "type": "string"
        },
        {
         "name": "Fouls_Committed",
         "rawType": "object",
         "type": "string"
        },
        {
         "name": "Clearances",
         "rawType": "object",
         "type": "string"
        },
        {
         "name": "Saves",
         "rawType": "object",
         "type": "string"
        }
       ],
       "ref": "43c502fd-6f52-4c4e-a5fe-7c7e56bc5789",
       "rows": [
        [
         "0",
         "D. Abramowicz",
         "6,4",
         "90",
         "0",
         "1",
         "0",
         "42",
         "30",
         "71,43",
         "2",
         "1",
         "2",
         "0",
         "0",
         "1",
         "0",
         "1",
         "4",
         "0"
        ],
        [
         "1",
         "S. Kerk",
         "6,3",
         "83",
         "0",
         "0",
         "0",
         "27",
         "21",
         "77,78",
         "7",
         "0",
         "0",
         "0",
         "0",
         "0",
         "0",
         "0",
         "1",
         "0"
        ],
        [
         "2",
         "J. Oliveira",
         "6,1",
         "16",
         "0",
         "0",
         "0",
         "0",
         "0",
         "0,00",
         "0",
         "0",
         "0",
         "0",
         "0",
         "0",
         "0",
         "0",
         "0",
         "0"
        ],
        [
         "3",
         "A. Nguiamba",
         "7,4",
         "16",
         "0",
         "0",
         "0",
         "17",
         "15",
         "88,24",
         "0",
         "2",
         "0",
         "0",
         "0",
         "0",
         "0",
         "0",
         "0",
         "0"
        ],
        [
         "4",
         "D. Zator",
         "0,0",
         "0,0",
         "0,0",
         "0,0",
         "0,0",
         "0,0",
         "0,0",
         "0,00",
         "0,0",
         "0,0",
         "0,0",
         "0,0",
         "0,0",
         "0,0",
         "0,0",
         "0,0",
         "0,0",
         "0,0"
        ]
       ],
       "shape": {
        "columns": 19,
        "rows": 5
       }
      },
      "text/html": [
       "<div>\n",
       "<style scoped>\n",
       "    .dataframe tbody tr th:only-of-type {\n",
       "        vertical-align: middle;\n",
       "    }\n",
       "\n",
       "    .dataframe tbody tr th {\n",
       "        vertical-align: top;\n",
       "    }\n",
       "\n",
       "    .dataframe thead th {\n",
       "        text-align: right;\n",
       "    }\n",
       "</style>\n",
       "<table border=\"1\" class=\"dataframe\">\n",
       "  <thead>\n",
       "    <tr style=\"text-align: right;\">\n",
       "      <th></th>\n",
       "      <th>Players</th>\n",
       "      <th>Ratings</th>\n",
       "      <th>Minutes</th>\n",
       "      <th>Goals</th>\n",
       "      <th>Assists</th>\n",
       "      <th>Offsides</th>\n",
       "      <th>Passes</th>\n",
       "      <th>Accurate_Passes</th>\n",
       "      <th>Accurate_Passes_%</th>\n",
       "      <th>Crosses</th>\n",
       "      <th>Tackles</th>\n",
       "      <th>Total_Shots</th>\n",
       "      <th>Shots_on_Target</th>\n",
       "      <th>Blocked_Shots</th>\n",
       "      <th>Yellow_Cards</th>\n",
       "      <th>Red_Cards</th>\n",
       "      <th>Fouls_Committed</th>\n",
       "      <th>Clearances</th>\n",
       "      <th>Saves</th>\n",
       "    </tr>\n",
       "  </thead>\n",
       "  <tbody>\n",
       "    <tr>\n",
       "      <th>0</th>\n",
       "      <td>D. Abramowicz</td>\n",
       "      <td>6,4</td>\n",
       "      <td>90</td>\n",
       "      <td>0</td>\n",
       "      <td>1</td>\n",
       "      <td>0</td>\n",
       "      <td>42</td>\n",
       "      <td>30</td>\n",
       "      <td>71,43</td>\n",
       "      <td>2</td>\n",
       "      <td>1</td>\n",
       "      <td>2</td>\n",
       "      <td>0</td>\n",
       "      <td>0</td>\n",
       "      <td>1</td>\n",
       "      <td>0</td>\n",
       "      <td>1</td>\n",
       "      <td>4</td>\n",
       "      <td>0</td>\n",
       "    </tr>\n",
       "    <tr>\n",
       "      <th>1</th>\n",
       "      <td>S. Kerk</td>\n",
       "      <td>6,3</td>\n",
       "      <td>83</td>\n",
       "      <td>0</td>\n",
       "      <td>0</td>\n",
       "      <td>0</td>\n",
       "      <td>27</td>\n",
       "      <td>21</td>\n",
       "      <td>77,78</td>\n",
       "      <td>7</td>\n",
       "      <td>0</td>\n",
       "      <td>0</td>\n",
       "      <td>0</td>\n",
       "      <td>0</td>\n",
       "      <td>0</td>\n",
       "      <td>0</td>\n",
       "      <td>0</td>\n",
       "      <td>1</td>\n",
       "      <td>0</td>\n",
       "    </tr>\n",
       "    <tr>\n",
       "      <th>2</th>\n",
       "      <td>J. Oliveira</td>\n",
       "      <td>6,1</td>\n",
       "      <td>16</td>\n",
       "      <td>0</td>\n",
       "      <td>0</td>\n",
       "      <td>0</td>\n",
       "      <td>0</td>\n",
       "      <td>0</td>\n",
       "      <td>0,00</td>\n",
       "      <td>0</td>\n",
       "      <td>0</td>\n",
       "      <td>0</td>\n",
       "      <td>0</td>\n",
       "      <td>0</td>\n",
       "      <td>0</td>\n",
       "      <td>0</td>\n",
       "      <td>0</td>\n",
       "      <td>0</td>\n",
       "      <td>0</td>\n",
       "    </tr>\n",
       "    <tr>\n",
       "      <th>3</th>\n",
       "      <td>A. Nguiamba</td>\n",
       "      <td>7,4</td>\n",
       "      <td>16</td>\n",
       "      <td>0</td>\n",
       "      <td>0</td>\n",
       "      <td>0</td>\n",
       "      <td>17</td>\n",
       "      <td>15</td>\n",
       "      <td>88,24</td>\n",
       "      <td>0</td>\n",
       "      <td>2</td>\n",
       "      <td>0</td>\n",
       "      <td>0</td>\n",
       "      <td>0</td>\n",
       "      <td>0</td>\n",
       "      <td>0</td>\n",
       "      <td>0</td>\n",
       "      <td>0</td>\n",
       "      <td>0</td>\n",
       "    </tr>\n",
       "    <tr>\n",
       "      <th>4</th>\n",
       "      <td>D. Zator</td>\n",
       "      <td>0,0</td>\n",
       "      <td>0,0</td>\n",
       "      <td>0,0</td>\n",
       "      <td>0,0</td>\n",
       "      <td>0,0</td>\n",
       "      <td>0,0</td>\n",
       "      <td>0,0</td>\n",
       "      <td>0,00</td>\n",
       "      <td>0,0</td>\n",
       "      <td>0,0</td>\n",
       "      <td>0,0</td>\n",
       "      <td>0,0</td>\n",
       "      <td>0,0</td>\n",
       "      <td>0,0</td>\n",
       "      <td>0,0</td>\n",
       "      <td>0,0</td>\n",
       "      <td>0,0</td>\n",
       "      <td>0,0</td>\n",
       "    </tr>\n",
       "  </tbody>\n",
       "</table>\n",
       "</div>"
      ],
      "text/plain": [
       "         Players Ratings Minutes Goals Assists Offsides Passes  \\\n",
       "0  D. Abramowicz     6,4      90     0       1        0     42   \n",
       "1        S. Kerk     6,3      83     0       0        0     27   \n",
       "2    J. Oliveira     6,1      16     0       0        0      0   \n",
       "3    A. Nguiamba     7,4      16     0       0        0     17   \n",
       "4       D. Zator     0,0     0,0   0,0     0,0      0,0    0,0   \n",
       "\n",
       "  Accurate_Passes Accurate_Passes_% Crosses Tackles Total_Shots  \\\n",
       "0              30             71,43       2       1           2   \n",
       "1              21             77,78       7       0           0   \n",
       "2               0              0,00       0       0           0   \n",
       "3              15             88,24       0       2           0   \n",
       "4             0,0              0,00     0,0     0,0         0,0   \n",
       "\n",
       "  Shots_on_Target Blocked_Shots Yellow_Cards Red_Cards Fouls_Committed  \\\n",
       "0               0             0            1         0               1   \n",
       "1               0             0            0         0               0   \n",
       "2               0             0            0         0               0   \n",
       "3               0             0            0         0               0   \n",
       "4             0,0           0,0          0,0       0,0             0,0   \n",
       "\n",
       "  Clearances Saves  \n",
       "0          4     0  \n",
       "1          1     0  \n",
       "2          0     0  \n",
       "3          0     0  \n",
       "4        0,0   0,0  "
      ]
     },
     "execution_count": 8,
     "metadata": {},
     "output_type": "execute_result"
    }
   ],
   "source": [
    "data = pd.read_csv('data/Home/vsGKS.csv', delimiter=';')\n",
    "data.head()"
   ]
  },
  {
   "cell_type": "code",
   "execution_count": 9,
   "id": "0088c91d",
   "metadata": {},
   "outputs": [],
   "source": [
    "data = data.set_index('Players')\n",
    "data = data.replace(',', '.', regex=True)\n",
    "data = data.apply(pd.to_numeric, errors='coerce')"
   ]
  },
  {
   "cell_type": "code",
   "execution_count": 10,
   "id": "fb9dfdeb",
   "metadata": {},
   "outputs": [],
   "source": [
    "data = data[data['Ratings'] != 0]"
   ]
  },
  {
   "cell_type": "code",
   "execution_count": 11,
   "id": "97659ba3",
   "metadata": {},
   "outputs": [
    {
     "data": {
      "application/vnd.microsoft.datawrangler.viewer.v0+json": {
       "columns": [
        {
         "name": "Players",
         "rawType": "object",
         "type": "string"
        },
        {
         "name": "Ratings",
         "rawType": "float64",
         "type": "float"
        },
        {
         "name": "Minutes",
         "rawType": "float64",
         "type": "float"
        },
        {
         "name": "Goals",
         "rawType": "float64",
         "type": "float"
        },
        {
         "name": "Assists",
         "rawType": "float64",
         "type": "float"
        },
        {
         "name": "Offsides",
         "rawType": "float64",
         "type": "float"
        },
        {
         "name": "Passes",
         "rawType": "float64",
         "type": "float"
        },
        {
         "name": "Accurate_Passes",
         "rawType": "float64",
         "type": "float"
        },
        {
         "name": "Accurate_Passes_%",
         "rawType": "float64",
         "type": "float"
        },
        {
         "name": "Crosses",
         "rawType": "float64",
         "type": "float"
        },
        {
         "name": "Tackles",
         "rawType": "float64",
         "type": "float"
        },
        {
         "name": "Total_Shots",
         "rawType": "float64",
         "type": "float"
        },
        {
         "name": "Shots_on_Target",
         "rawType": "float64",
         "type": "float"
        },
        {
         "name": "Blocked_Shots",
         "rawType": "float64",
         "type": "float"
        },
        {
         "name": "Yellow_Cards",
         "rawType": "float64",
         "type": "float"
        },
        {
         "name": "Red_Cards",
         "rawType": "float64",
         "type": "float"
        },
        {
         "name": "Fouls_Committed",
         "rawType": "float64",
         "type": "float"
        },
        {
         "name": "Clearances",
         "rawType": "float64",
         "type": "float"
        },
        {
         "name": "Saves",
         "rawType": "float64",
         "type": "float"
        }
       ],
       "ref": "23833248-b60f-4bd3-bb3b-b14530012d3a",
       "rows": [
        [
         "D. Abramowicz",
         "6.4",
         "90.0",
         "0.0",
         "1.0",
         "0.0",
         "42.0",
         "30.0",
         "71.43",
         "2.0",
         "1.0",
         "2.0",
         "0.0",
         "0.0",
         "1.0",
         "0.0",
         "1.0",
         "4.0",
         "0.0"
        ],
        [
         "S. Kerk",
         "6.3",
         "83.0",
         "0.0",
         "0.0",
         "0.0",
         "27.0",
         "21.0",
         "77.78",
         "7.0",
         "0.0",
         "0.0",
         "0.0",
         "0.0",
         "0.0",
         "0.0",
         "0.0",
         "1.0",
         "0.0"
        ],
        [
         "J. Oliveira",
         "6.1",
         "16.0",
         "0.0",
         "0.0",
         "0.0",
         "0.0",
         "0.0",
         "0.0",
         "0.0",
         "0.0",
         "0.0",
         "0.0",
         "0.0",
         "0.0",
         "0.0",
         "0.0",
         "0.0",
         "0.0"
        ],
        [
         "A. Nguiamba",
         "7.4",
         "16.0",
         "0.0",
         "0.0",
         "0.0",
         "17.0",
         "15.0",
         "88.24",
         "0.0",
         "2.0",
         "0.0",
         "0.0",
         "0.0",
         "0.0",
         "0.0",
         "0.0",
         "0.0",
         "0.0"
        ],
        [
         "K. Jakubczyk",
         "5.8",
         "74.0",
         "0.0",
         "0.0",
         "0.0",
         "19.0",
         "17.0",
         "89.47",
         "0.0",
         "1.0",
         "1.0",
         "0.0",
         "0.0",
         "1.0",
         "0.0",
         "1.0",
         "0.0",
         "0.0"
        ]
       ],
       "shape": {
        "columns": 18,
        "rows": 5
       }
      },
      "text/html": [
       "<div>\n",
       "<style scoped>\n",
       "    .dataframe tbody tr th:only-of-type {\n",
       "        vertical-align: middle;\n",
       "    }\n",
       "\n",
       "    .dataframe tbody tr th {\n",
       "        vertical-align: top;\n",
       "    }\n",
       "\n",
       "    .dataframe thead th {\n",
       "        text-align: right;\n",
       "    }\n",
       "</style>\n",
       "<table border=\"1\" class=\"dataframe\">\n",
       "  <thead>\n",
       "    <tr style=\"text-align: right;\">\n",
       "      <th></th>\n",
       "      <th>Ratings</th>\n",
       "      <th>Minutes</th>\n",
       "      <th>Goals</th>\n",
       "      <th>Assists</th>\n",
       "      <th>Offsides</th>\n",
       "      <th>Passes</th>\n",
       "      <th>Accurate_Passes</th>\n",
       "      <th>Accurate_Passes_%</th>\n",
       "      <th>Crosses</th>\n",
       "      <th>Tackles</th>\n",
       "      <th>Total_Shots</th>\n",
       "      <th>Shots_on_Target</th>\n",
       "      <th>Blocked_Shots</th>\n",
       "      <th>Yellow_Cards</th>\n",
       "      <th>Red_Cards</th>\n",
       "      <th>Fouls_Committed</th>\n",
       "      <th>Clearances</th>\n",
       "      <th>Saves</th>\n",
       "    </tr>\n",
       "    <tr>\n",
       "      <th>Players</th>\n",
       "      <th></th>\n",
       "      <th></th>\n",
       "      <th></th>\n",
       "      <th></th>\n",
       "      <th></th>\n",
       "      <th></th>\n",
       "      <th></th>\n",
       "      <th></th>\n",
       "      <th></th>\n",
       "      <th></th>\n",
       "      <th></th>\n",
       "      <th></th>\n",
       "      <th></th>\n",
       "      <th></th>\n",
       "      <th></th>\n",
       "      <th></th>\n",
       "      <th></th>\n",
       "      <th></th>\n",
       "    </tr>\n",
       "  </thead>\n",
       "  <tbody>\n",
       "    <tr>\n",
       "      <th>D. Abramowicz</th>\n",
       "      <td>6.4</td>\n",
       "      <td>90.0</td>\n",
       "      <td>0.0</td>\n",
       "      <td>1.0</td>\n",
       "      <td>0.0</td>\n",
       "      <td>42.0</td>\n",
       "      <td>30.0</td>\n",
       "      <td>71.43</td>\n",
       "      <td>2.0</td>\n",
       "      <td>1.0</td>\n",
       "      <td>2.0</td>\n",
       "      <td>0.0</td>\n",
       "      <td>0.0</td>\n",
       "      <td>1.0</td>\n",
       "      <td>0.0</td>\n",
       "      <td>1.0</td>\n",
       "      <td>4.0</td>\n",
       "      <td>0.0</td>\n",
       "    </tr>\n",
       "    <tr>\n",
       "      <th>S. Kerk</th>\n",
       "      <td>6.3</td>\n",
       "      <td>83.0</td>\n",
       "      <td>0.0</td>\n",
       "      <td>0.0</td>\n",
       "      <td>0.0</td>\n",
       "      <td>27.0</td>\n",
       "      <td>21.0</td>\n",
       "      <td>77.78</td>\n",
       "      <td>7.0</td>\n",
       "      <td>0.0</td>\n",
       "      <td>0.0</td>\n",
       "      <td>0.0</td>\n",
       "      <td>0.0</td>\n",
       "      <td>0.0</td>\n",
       "      <td>0.0</td>\n",
       "      <td>0.0</td>\n",
       "      <td>1.0</td>\n",
       "      <td>0.0</td>\n",
       "    </tr>\n",
       "    <tr>\n",
       "      <th>J. Oliveira</th>\n",
       "      <td>6.1</td>\n",
       "      <td>16.0</td>\n",
       "      <td>0.0</td>\n",
       "      <td>0.0</td>\n",
       "      <td>0.0</td>\n",
       "      <td>0.0</td>\n",
       "      <td>0.0</td>\n",
       "      <td>0.00</td>\n",
       "      <td>0.0</td>\n",
       "      <td>0.0</td>\n",
       "      <td>0.0</td>\n",
       "      <td>0.0</td>\n",
       "      <td>0.0</td>\n",
       "      <td>0.0</td>\n",
       "      <td>0.0</td>\n",
       "      <td>0.0</td>\n",
       "      <td>0.0</td>\n",
       "      <td>0.0</td>\n",
       "    </tr>\n",
       "    <tr>\n",
       "      <th>A. Nguiamba</th>\n",
       "      <td>7.4</td>\n",
       "      <td>16.0</td>\n",
       "      <td>0.0</td>\n",
       "      <td>0.0</td>\n",
       "      <td>0.0</td>\n",
       "      <td>17.0</td>\n",
       "      <td>15.0</td>\n",
       "      <td>88.24</td>\n",
       "      <td>0.0</td>\n",
       "      <td>2.0</td>\n",
       "      <td>0.0</td>\n",
       "      <td>0.0</td>\n",
       "      <td>0.0</td>\n",
       "      <td>0.0</td>\n",
       "      <td>0.0</td>\n",
       "      <td>0.0</td>\n",
       "      <td>0.0</td>\n",
       "      <td>0.0</td>\n",
       "    </tr>\n",
       "    <tr>\n",
       "      <th>K. Jakubczyk</th>\n",
       "      <td>5.8</td>\n",
       "      <td>74.0</td>\n",
       "      <td>0.0</td>\n",
       "      <td>0.0</td>\n",
       "      <td>0.0</td>\n",
       "      <td>19.0</td>\n",
       "      <td>17.0</td>\n",
       "      <td>89.47</td>\n",
       "      <td>0.0</td>\n",
       "      <td>1.0</td>\n",
       "      <td>1.0</td>\n",
       "      <td>0.0</td>\n",
       "      <td>0.0</td>\n",
       "      <td>1.0</td>\n",
       "      <td>0.0</td>\n",
       "      <td>1.0</td>\n",
       "      <td>0.0</td>\n",
       "      <td>0.0</td>\n",
       "    </tr>\n",
       "  </tbody>\n",
       "</table>\n",
       "</div>"
      ],
      "text/plain": [
       "               Ratings  Minutes  Goals  Assists  Offsides  Passes  \\\n",
       "Players                                                             \n",
       "D. Abramowicz      6.4     90.0    0.0      1.0       0.0    42.0   \n",
       "S. Kerk            6.3     83.0    0.0      0.0       0.0    27.0   \n",
       "J. Oliveira        6.1     16.0    0.0      0.0       0.0     0.0   \n",
       "A. Nguiamba        7.4     16.0    0.0      0.0       0.0    17.0   \n",
       "K. Jakubczyk       5.8     74.0    0.0      0.0       0.0    19.0   \n",
       "\n",
       "               Accurate_Passes  Accurate_Passes_%  Crosses  Tackles  \\\n",
       "Players                                                               \n",
       "D. Abramowicz             30.0              71.43      2.0      1.0   \n",
       "S. Kerk                   21.0              77.78      7.0      0.0   \n",
       "J. Oliveira                0.0               0.00      0.0      0.0   \n",
       "A. Nguiamba               15.0              88.24      0.0      2.0   \n",
       "K. Jakubczyk              17.0              89.47      0.0      1.0   \n",
       "\n",
       "               Total_Shots  Shots_on_Target  Blocked_Shots  Yellow_Cards  \\\n",
       "Players                                                                    \n",
       "D. Abramowicz          2.0              0.0            0.0           1.0   \n",
       "S. Kerk                0.0              0.0            0.0           0.0   \n",
       "J. Oliveira            0.0              0.0            0.0           0.0   \n",
       "A. Nguiamba            0.0              0.0            0.0           0.0   \n",
       "K. Jakubczyk           1.0              0.0            0.0           1.0   \n",
       "\n",
       "               Red_Cards  Fouls_Committed  Clearances  Saves  \n",
       "Players                                                       \n",
       "D. Abramowicz        0.0              1.0         4.0    0.0  \n",
       "S. Kerk              0.0              0.0         1.0    0.0  \n",
       "J. Oliveira          0.0              0.0         0.0    0.0  \n",
       "A. Nguiamba          0.0              0.0         0.0    0.0  \n",
       "K. Jakubczyk         0.0              1.0         0.0    0.0  "
      ]
     },
     "execution_count": 11,
     "metadata": {},
     "output_type": "execute_result"
    }
   ],
   "source": [
    "data.head()"
   ]
  },
  {
   "cell_type": "code",
   "execution_count": 12,
   "id": "fe78a88e",
   "metadata": {},
   "outputs": [
    {
     "data": {
      "application/vnd.plotly.v1+json": {
       "config": {
        "plotlyServerURL": "https://plot.ly"
       },
       "data": [
        {
         "name": "Ratings",
         "type": "bar",
         "x": [
          "A. Nguiamba",
          "J. Celestine",
          "A. Sidibe",
          "D. Weglarz",
          "E.Espiau",
          "D. Abramowicz",
          "T. Gaprindashvili",
          "S. Kerk",
          "D. Kocyla",
          "M. Navarro",
          "M. Marcjanik",
          "J. Oliveira",
          "D.Percan",
          "H. Vitalucci",
          "M. Predenkiewicz",
          "K. Jakubczyk"
         ],
         "y": {
          "bdata": "mpmZmZmZHUAzMzMzMzMbQM3MzMzMzBpAZmZmZmZmGkBmZmZmZmYaQJqZmZmZmRlAmpmZmZmZGUAzMzMzMzMZQM3MzMzMzBhAzczMzMzMGEDNzMzMzMwYQGZmZmZmZhhAZmZmZmZmGEBmZmZmZmYYQAAAAAAAABhAMzMzMzMzF0A=",
          "dtype": "f8"
         }
        },
        {
         "name": "Minutes",
         "type": "bar",
         "x": [
          "D. Abramowicz",
          "D. Weglarz",
          "M. Navarro",
          "T. Gaprindashvili",
          "M. Marcjanik",
          "H. Vitalucci",
          "J. Celestine",
          "E.Espiau",
          "S. Kerk",
          "K. Jakubczyk",
          "D. Kocyla",
          "D.Percan",
          "A. Sidibe",
          "J. Oliveira",
          "A. Nguiamba",
          "M. Predenkiewicz"
         ],
         "y": {
          "bdata": "AAAAAACAVkAAAAAAAIBWQAAAAAAAgFZAAAAAAACAVkAAAAAAAIBWQAAAAAAAgFZAAAAAAACAVkAAAAAAAIBWQAAAAAAAwFRAAAAAAACAUkAAAAAAAIBSQAAAAAAAAENAAAAAAAAAQ0AAAAAAAAAwQAAAAAAAADBAAAAAAAAAHEA=",
          "dtype": "f8"
         }
        },
        {
         "name": "Goals",
         "type": "bar",
         "x": [
          "E.Espiau",
          "D. Abramowicz",
          "S. Kerk",
          "J. Oliveira",
          "A. Nguiamba",
          "K. Jakubczyk",
          "D. Kocyla",
          "D. Weglarz",
          "M. Navarro",
          "T. Gaprindashvili",
          "D.Percan",
          "M. Marcjanik",
          "A. Sidibe",
          "H. Vitalucci",
          "J. Celestine",
          "M. Predenkiewicz"
         ],
         "y": {
          "bdata": "AAAAAAAA8D8AAAAAAAD4fwAAAAAAAPh/AAAAAAAA+H8AAAAAAAD4fwAAAAAAAPh/AAAAAAAA+H8AAAAAAAD4fwAAAAAAAPh/AAAAAAAA+H8AAAAAAAD4fwAAAAAAAPh/AAAAAAAA+H8AAAAAAAD4fwAAAAAAAPh/AAAAAAAA+H8=",
          "dtype": "f8"
         }
        },
        {
         "name": "Assists",
         "type": "bar",
         "x": [
          "D. Abramowicz",
          "S. Kerk",
          "J. Oliveira",
          "A. Nguiamba",
          "K. Jakubczyk",
          "D. Kocyla",
          "D. Weglarz",
          "M. Navarro",
          "T. Gaprindashvili",
          "D.Percan",
          "M. Marcjanik",
          "A. Sidibe",
          "H. Vitalucci",
          "J. Celestine",
          "M. Predenkiewicz",
          "E.Espiau"
         ],
         "y": {
          "bdata": "AAAAAAAA8D8AAAAAAAD4fwAAAAAAAPh/AAAAAAAA+H8AAAAAAAD4fwAAAAAAAPh/AAAAAAAA+H8AAAAAAAD4fwAAAAAAAPh/AAAAAAAA+H8AAAAAAAD4fwAAAAAAAPh/AAAAAAAA+H8AAAAAAAD4fwAAAAAAAPh/AAAAAAAA+H8=",
          "dtype": "f8"
         }
        },
        {
         "name": "Offsides",
         "type": "bar",
         "x": [
          "D. Abramowicz",
          "S. Kerk",
          "J. Oliveira",
          "A. Nguiamba",
          "K. Jakubczyk",
          "D. Kocyla",
          "D. Weglarz",
          "M. Navarro",
          "T. Gaprindashvili",
          "D.Percan",
          "M. Marcjanik",
          "A. Sidibe",
          "H. Vitalucci",
          "J. Celestine",
          "M. Predenkiewicz",
          "E.Espiau"
         ],
         "y": {
          "bdata": "AAAAAAAA+H8AAAAAAAD4fwAAAAAAAPh/AAAAAAAA+H8AAAAAAAD4fwAAAAAAAPh/AAAAAAAA+H8AAAAAAAD4fwAAAAAAAPh/AAAAAAAA+H8AAAAAAAD4fwAAAAAAAPh/AAAAAAAA+H8AAAAAAAD4fwAAAAAAAPh/AAAAAAAA+H8=",
          "dtype": "f8"
         }
        },
        {
         "name": "Passes",
         "type": "bar",
         "x": [
          "M. Marcjanik",
          "J. Celestine",
          "D. Abramowicz",
          "M. Navarro",
          "D. Weglarz",
          "H. Vitalucci",
          "S. Kerk",
          "K. Jakubczyk",
          "T. Gaprindashvili",
          "A. Nguiamba",
          "A. Sidibe",
          "E.Espiau",
          "D. Kocyla",
          "D.Percan",
          "M. Predenkiewicz",
          "J. Oliveira"
         ],
         "y": {
          "bdata": "AAAAAACASkAAAAAAAIBKQAAAAAAAAEVAAAAAAACAQ0AAAAAAAABCQAAAAAAAAEFAAAAAAAAAO0AAAAAAAAAzQAAAAAAAADJAAAAAAAAAMUAAAAAAAAAwQAAAAAAAACZAAAAAAAAAGEAAAAAAAAAIQAAAAAAAAAhAAAAAAAAA+H8=",
          "dtype": "f8"
         }
        },
        {
         "name": "Accurate_Passes",
         "type": "bar",
         "x": [
          "M. Marcjanik",
          "J. Celestine",
          "M. Navarro",
          "D. Abramowicz",
          "H. Vitalucci",
          "S. Kerk",
          "D. Weglarz",
          "K. Jakubczyk",
          "T. Gaprindashvili",
          "A. Nguiamba",
          "A. Sidibe",
          "D. Kocyla",
          "E.Espiau",
          "D.Percan",
          "M. Predenkiewicz",
          "J. Oliveira"
         ],
         "y": {
          "bdata": "AAAAAAAASUAAAAAAAABIQAAAAAAAgEBAAAAAAAAAPkAAAAAAAAA9QAAAAAAAADVAAAAAAAAANEAAAAAAAAAxQAAAAAAAADFAAAAAAAAALkAAAAAAAAAsQAAAAAAAABhAAAAAAAAAEEAAAAAAAAAAQAAAAAAAAABAAAAAAAAA+H8=",
          "dtype": "f8"
         }
        },
        {
         "name": "Accurate_Passes_%",
         "type": "bar",
         "x": [
          "D. Kocyla",
          "T. Gaprindashvili",
          "M. Marcjanik",
          "J. Celestine",
          "K. Jakubczyk",
          "A. Nguiamba",
          "A. Sidibe",
          "H. Vitalucci",
          "M. Navarro",
          "S. Kerk",
          "D. Abramowicz",
          "D.Percan",
          "M. Predenkiewicz",
          "D. Weglarz",
          "E.Espiau",
          "J. Oliveira"
         ],
         "y": {
          "bdata": "AAAAAAAAWUBcj8L1KJxXQPYoXI/ClVdAFK5H4XqkVkCuR+F6FF5WQI/C9ShcD1ZAAAAAAADgVUDD9Shcj1JVQEjhehSuJ1VAUrgehetxU0DsUbgehdtRQHsUrkfhqlBAexSuR+GqUEBI4XoUrsdLQK5H4XoULkJAAAAAAAAA+H8=",
          "dtype": "f8"
         }
        },
        {
         "name": "Crosses",
         "type": "bar",
         "x": [
          "S. Kerk",
          "M. Navarro",
          "D. Abramowicz",
          "D. Kocyla",
          "T. Gaprindashvili",
          "A. Sidibe",
          "J. Oliveira",
          "A. Nguiamba",
          "K. Jakubczyk",
          "D. Weglarz",
          "D.Percan",
          "M. Marcjanik",
          "H. Vitalucci",
          "J. Celestine",
          "M. Predenkiewicz",
          "E.Espiau"
         ],
         "y": {
          "bdata": "AAAAAAAAHEAAAAAAAAAYQAAAAAAAAABAAAAAAAAA8D8AAAAAAADwPwAAAAAAAPA/AAAAAAAA+H8AAAAAAAD4fwAAAAAAAPh/AAAAAAAA+H8AAAAAAAD4fwAAAAAAAPh/AAAAAAAA+H8AAAAAAAD4fwAAAAAAAPh/AAAAAAAA+H8=",
          "dtype": "f8"
         }
        },
        {
         "name": "Tackles",
         "type": "bar",
         "x": [
          "M. Navarro",
          "A. Nguiamba",
          "D. Abramowicz",
          "K. Jakubczyk",
          "D. Kocyla",
          "T. Gaprindashvili",
          "J. Celestine",
          "S. Kerk",
          "J. Oliveira",
          "D. Weglarz",
          "D.Percan",
          "M. Marcjanik",
          "A. Sidibe",
          "H. Vitalucci",
          "M. Predenkiewicz",
          "E.Espiau"
         ],
         "y": {
          "bdata": "AAAAAAAACEAAAAAAAAAAQAAAAAAAAPA/AAAAAAAA8D8AAAAAAADwPwAAAAAAAPA/AAAAAAAA8D8AAAAAAAD4fwAAAAAAAPh/AAAAAAAA+H8AAAAAAAD4fwAAAAAAAPh/AAAAAAAA+H8AAAAAAAD4fwAAAAAAAPh/AAAAAAAA+H8=",
          "dtype": "f8"
         }
        },
        {
         "name": "Total_Shots",
         "type": "bar",
         "x": [
          "D. Abramowicz",
          "T. Gaprindashvili",
          "K. Jakubczyk",
          "D. Kocyla",
          "M. Navarro",
          "H. Vitalucci",
          "J. Celestine",
          "E.Espiau",
          "S. Kerk",
          "J. Oliveira",
          "A. Nguiamba",
          "D. Weglarz",
          "D.Percan",
          "M. Marcjanik",
          "A. Sidibe",
          "M. Predenkiewicz"
         ],
         "y": {
          "bdata": "AAAAAAAAAEAAAAAAAAAAQAAAAAAAAPA/AAAAAAAA8D8AAAAAAADwPwAAAAAAAPA/AAAAAAAA8D8AAAAAAADwPwAAAAAAAPh/AAAAAAAA+H8AAAAAAAD4fwAAAAAAAPh/AAAAAAAA+H8AAAAAAAD4fwAAAAAAAPh/AAAAAAAA+H8=",
          "dtype": "f8"
         }
        },
        {
         "name": "Shots_on_Target",
         "type": "bar",
         "x": [
          "T. Gaprindashvili",
          "E.Espiau",
          "D. Abramowicz",
          "S. Kerk",
          "J. Oliveira",
          "A. Nguiamba",
          "K. Jakubczyk",
          "D. Kocyla",
          "D. Weglarz",
          "M. Navarro",
          "D.Percan",
          "M. Marcjanik",
          "A. Sidibe",
          "H. Vitalucci",
          "J. Celestine",
          "M. Predenkiewicz"
         ],
         "y": {
          "bdata": "AAAAAAAA8D8AAAAAAADwPwAAAAAAAPh/AAAAAAAA+H8AAAAAAAD4fwAAAAAAAPh/AAAAAAAA+H8AAAAAAAD4fwAAAAAAAPh/AAAAAAAA+H8AAAAAAAD4fwAAAAAAAPh/AAAAAAAA+H8AAAAAAAD4fwAAAAAAAPh/AAAAAAAA+H8=",
          "dtype": "f8"
         }
        },
        {
         "name": "Blocked_Shots",
         "type": "bar",
         "x": [
          "M. Navarro",
          "T. Gaprindashvili",
          "H. Vitalucci",
          "E.Espiau",
          "D. Abramowicz",
          "S. Kerk",
          "J. Oliveira",
          "A. Nguiamba",
          "K. Jakubczyk",
          "D. Kocyla",
          "D. Weglarz",
          "D.Percan",
          "M. Marcjanik",
          "A. Sidibe",
          "J. Celestine",
          "M. Predenkiewicz"
         ],
         "y": {
          "bdata": "AAAAAAAA8D8AAAAAAADwPwAAAAAAAPA/AAAAAAAA8D8AAAAAAAD4fwAAAAAAAPh/AAAAAAAA+H8AAAAAAAD4fwAAAAAAAPh/AAAAAAAA+H8AAAAAAAD4fwAAAAAAAPh/AAAAAAAA+H8AAAAAAAD4fwAAAAAAAPh/AAAAAAAA+H8=",
          "dtype": "f8"
         }
        },
        {
         "name": "Yellow_Cards",
         "type": "bar",
         "x": [
          "D. Abramowicz",
          "K. Jakubczyk",
          "M. Navarro",
          "E.Espiau",
          "S. Kerk",
          "J. Oliveira",
          "A. Nguiamba",
          "D. Kocyla",
          "D. Weglarz",
          "T. Gaprindashvili",
          "D.Percan",
          "M. Marcjanik",
          "A. Sidibe",
          "H. Vitalucci",
          "J. Celestine",
          "M. Predenkiewicz"
         ],
         "y": {
          "bdata": "AAAAAAAA8D8AAAAAAADwPwAAAAAAAPA/AAAAAAAA8D8AAAAAAAD4fwAAAAAAAPh/AAAAAAAA+H8AAAAAAAD4fwAAAAAAAPh/AAAAAAAA+H8AAAAAAAD4fwAAAAAAAPh/AAAAAAAA+H8AAAAAAAD4fwAAAAAAAPh/AAAAAAAA+H8=",
          "dtype": "f8"
         }
        },
        {
         "name": "Red_Cards",
         "type": "bar",
         "x": [
          "D. Abramowicz",
          "S. Kerk",
          "J. Oliveira",
          "A. Nguiamba",
          "K. Jakubczyk",
          "D. Kocyla",
          "D. Weglarz",
          "M. Navarro",
          "T. Gaprindashvili",
          "D.Percan",
          "M. Marcjanik",
          "A. Sidibe",
          "H. Vitalucci",
          "J. Celestine",
          "M. Predenkiewicz",
          "E.Espiau"
         ],
         "y": {
          "bdata": "AAAAAAAA+H8AAAAAAAD4fwAAAAAAAPh/AAAAAAAA+H8AAAAAAAD4fwAAAAAAAPh/AAAAAAAA+H8AAAAAAAD4fwAAAAAAAPh/AAAAAAAA+H8AAAAAAAD4fwAAAAAAAPh/AAAAAAAA+H8AAAAAAAD4fwAAAAAAAPh/AAAAAAAA+H8=",
          "dtype": "f8"
         }
        },
        {
         "name": "Fouls_Committed",
         "type": "bar",
         "x": [
          "M. Navarro",
          "H. Vitalucci",
          "D. Abramowicz",
          "K. Jakubczyk",
          "D. Kocyla",
          "T. Gaprindashvili",
          "M. Marcjanik",
          "A. Sidibe",
          "J. Celestine",
          "E.Espiau",
          "S. Kerk",
          "J. Oliveira",
          "A. Nguiamba",
          "D. Weglarz",
          "D.Percan",
          "M. Predenkiewicz"
         ],
         "y": {
          "bdata": "AAAAAAAAAEAAAAAAAAAAQAAAAAAAAPA/AAAAAAAA8D8AAAAAAADwPwAAAAAAAPA/AAAAAAAA8D8AAAAAAADwPwAAAAAAAPA/AAAAAAAA8D8AAAAAAAD4fwAAAAAAAPh/AAAAAAAA+H8AAAAAAAD4fwAAAAAAAPh/AAAAAAAA+H8=",
          "dtype": "f8"
         }
        },
        {
         "name": "Clearances",
         "type": "bar",
         "x": [
          "M. Navarro",
          "J. Celestine",
          "M. Marcjanik",
          "D. Abramowicz",
          "D. Weglarz",
          "S. Kerk",
          "D.Percan",
          "H. Vitalucci",
          "E.Espiau",
          "J. Oliveira",
          "A. Nguiamba",
          "K. Jakubczyk",
          "D. Kocyla",
          "T. Gaprindashvili",
          "A. Sidibe",
          "M. Predenkiewicz"
         ],
         "y": {
          "bdata": "AAAAAAAAJEAAAAAAAAAgQAAAAAAAABxAAAAAAAAAEEAAAAAAAAAAQAAAAAAAAPA/AAAAAAAA8D8AAAAAAADwPwAAAAAAAPA/AAAAAAAA+H8AAAAAAAD4fwAAAAAAAPh/AAAAAAAA+H8AAAAAAAD4fwAAAAAAAPh/AAAAAAAA+H8=",
          "dtype": "f8"
         }
        },
        {
         "name": "Saves",
         "type": "bar",
         "x": [
          "D. Weglarz",
          "D. Abramowicz",
          "S. Kerk",
          "J. Oliveira",
          "A. Nguiamba",
          "K. Jakubczyk",
          "D. Kocyla",
          "M. Navarro",
          "T. Gaprindashvili",
          "D.Percan",
          "M. Marcjanik",
          "A. Sidibe",
          "H. Vitalucci",
          "J. Celestine",
          "M. Predenkiewicz",
          "E.Espiau"
         ],
         "y": {
          "bdata": "AAAAAAAAFEAAAAAAAAD4fwAAAAAAAPh/AAAAAAAA+H8AAAAAAAD4fwAAAAAAAPh/AAAAAAAA+H8AAAAAAAD4fwAAAAAAAPh/AAAAAAAA+H8AAAAAAAD4fwAAAAAAAPh/AAAAAAAA+H8AAAAAAAD4fwAAAAAAAPh/AAAAAAAA+H8=",
          "dtype": "f8"
         }
        }
       ],
       "layout": {
        "barmode": "group",
        "template": {
         "data": {
          "bar": [
           {
            "error_x": {
             "color": "#2a3f5f"
            },
            "error_y": {
             "color": "#2a3f5f"
            },
            "marker": {
             "line": {
              "color": "#E5ECF6",
              "width": 0.5
             },
             "pattern": {
              "fillmode": "overlay",
              "size": 10,
              "solidity": 0.2
             }
            },
            "type": "bar"
           }
          ],
          "barpolar": [
           {
            "marker": {
             "line": {
              "color": "#E5ECF6",
              "width": 0.5
             },
             "pattern": {
              "fillmode": "overlay",
              "size": 10,
              "solidity": 0.2
             }
            },
            "type": "barpolar"
           }
          ],
          "carpet": [
           {
            "aaxis": {
             "endlinecolor": "#2a3f5f",
             "gridcolor": "white",
             "linecolor": "white",
             "minorgridcolor": "white",
             "startlinecolor": "#2a3f5f"
            },
            "baxis": {
             "endlinecolor": "#2a3f5f",
             "gridcolor": "white",
             "linecolor": "white",
             "minorgridcolor": "white",
             "startlinecolor": "#2a3f5f"
            },
            "type": "carpet"
           }
          ],
          "choropleth": [
           {
            "colorbar": {
             "outlinewidth": 0,
             "ticks": ""
            },
            "type": "choropleth"
           }
          ],
          "contour": [
           {
            "colorbar": {
             "outlinewidth": 0,
             "ticks": ""
            },
            "colorscale": [
             [
              0,
              "#0d0887"
             ],
             [
              0.1111111111111111,
              "#46039f"
             ],
             [
              0.2222222222222222,
              "#7201a8"
             ],
             [
              0.3333333333333333,
              "#9c179e"
             ],
             [
              0.4444444444444444,
              "#bd3786"
             ],
             [
              0.5555555555555556,
              "#d8576b"
             ],
             [
              0.6666666666666666,
              "#ed7953"
             ],
             [
              0.7777777777777778,
              "#fb9f3a"
             ],
             [
              0.8888888888888888,
              "#fdca26"
             ],
             [
              1,
              "#f0f921"
             ]
            ],
            "type": "contour"
           }
          ],
          "contourcarpet": [
           {
            "colorbar": {
             "outlinewidth": 0,
             "ticks": ""
            },
            "type": "contourcarpet"
           }
          ],
          "heatmap": [
           {
            "colorbar": {
             "outlinewidth": 0,
             "ticks": ""
            },
            "colorscale": [
             [
              0,
              "#0d0887"
             ],
             [
              0.1111111111111111,
              "#46039f"
             ],
             [
              0.2222222222222222,
              "#7201a8"
             ],
             [
              0.3333333333333333,
              "#9c179e"
             ],
             [
              0.4444444444444444,
              "#bd3786"
             ],
             [
              0.5555555555555556,
              "#d8576b"
             ],
             [
              0.6666666666666666,
              "#ed7953"
             ],
             [
              0.7777777777777778,
              "#fb9f3a"
             ],
             [
              0.8888888888888888,
              "#fdca26"
             ],
             [
              1,
              "#f0f921"
             ]
            ],
            "type": "heatmap"
           }
          ],
          "histogram": [
           {
            "marker": {
             "pattern": {
              "fillmode": "overlay",
              "size": 10,
              "solidity": 0.2
             }
            },
            "type": "histogram"
           }
          ],
          "histogram2d": [
           {
            "colorbar": {
             "outlinewidth": 0,
             "ticks": ""
            },
            "colorscale": [
             [
              0,
              "#0d0887"
             ],
             [
              0.1111111111111111,
              "#46039f"
             ],
             [
              0.2222222222222222,
              "#7201a8"
             ],
             [
              0.3333333333333333,
              "#9c179e"
             ],
             [
              0.4444444444444444,
              "#bd3786"
             ],
             [
              0.5555555555555556,
              "#d8576b"
             ],
             [
              0.6666666666666666,
              "#ed7953"
             ],
             [
              0.7777777777777778,
              "#fb9f3a"
             ],
             [
              0.8888888888888888,
              "#fdca26"
             ],
             [
              1,
              "#f0f921"
             ]
            ],
            "type": "histogram2d"
           }
          ],
          "histogram2dcontour": [
           {
            "colorbar": {
             "outlinewidth": 0,
             "ticks": ""
            },
            "colorscale": [
             [
              0,
              "#0d0887"
             ],
             [
              0.1111111111111111,
              "#46039f"
             ],
             [
              0.2222222222222222,
              "#7201a8"
             ],
             [
              0.3333333333333333,
              "#9c179e"
             ],
             [
              0.4444444444444444,
              "#bd3786"
             ],
             [
              0.5555555555555556,
              "#d8576b"
             ],
             [
              0.6666666666666666,
              "#ed7953"
             ],
             [
              0.7777777777777778,
              "#fb9f3a"
             ],
             [
              0.8888888888888888,
              "#fdca26"
             ],
             [
              1,
              "#f0f921"
             ]
            ],
            "type": "histogram2dcontour"
           }
          ],
          "mesh3d": [
           {
            "colorbar": {
             "outlinewidth": 0,
             "ticks": ""
            },
            "type": "mesh3d"
           }
          ],
          "parcoords": [
           {
            "line": {
             "colorbar": {
              "outlinewidth": 0,
              "ticks": ""
             }
            },
            "type": "parcoords"
           }
          ],
          "pie": [
           {
            "automargin": true,
            "type": "pie"
           }
          ],
          "scatter": [
           {
            "fillpattern": {
             "fillmode": "overlay",
             "size": 10,
             "solidity": 0.2
            },
            "type": "scatter"
           }
          ],
          "scatter3d": [
           {
            "line": {
             "colorbar": {
              "outlinewidth": 0,
              "ticks": ""
             }
            },
            "marker": {
             "colorbar": {
              "outlinewidth": 0,
              "ticks": ""
             }
            },
            "type": "scatter3d"
           }
          ],
          "scattercarpet": [
           {
            "marker": {
             "colorbar": {
              "outlinewidth": 0,
              "ticks": ""
             }
            },
            "type": "scattercarpet"
           }
          ],
          "scattergeo": [
           {
            "marker": {
             "colorbar": {
              "outlinewidth": 0,
              "ticks": ""
             }
            },
            "type": "scattergeo"
           }
          ],
          "scattergl": [
           {
            "marker": {
             "colorbar": {
              "outlinewidth": 0,
              "ticks": ""
             }
            },
            "type": "scattergl"
           }
          ],
          "scattermap": [
           {
            "marker": {
             "colorbar": {
              "outlinewidth": 0,
              "ticks": ""
             }
            },
            "type": "scattermap"
           }
          ],
          "scattermapbox": [
           {
            "marker": {
             "colorbar": {
              "outlinewidth": 0,
              "ticks": ""
             }
            },
            "type": "scattermapbox"
           }
          ],
          "scatterpolar": [
           {
            "marker": {
             "colorbar": {
              "outlinewidth": 0,
              "ticks": ""
             }
            },
            "type": "scatterpolar"
           }
          ],
          "scatterpolargl": [
           {
            "marker": {
             "colorbar": {
              "outlinewidth": 0,
              "ticks": ""
             }
            },
            "type": "scatterpolargl"
           }
          ],
          "scatterternary": [
           {
            "marker": {
             "colorbar": {
              "outlinewidth": 0,
              "ticks": ""
             }
            },
            "type": "scatterternary"
           }
          ],
          "surface": [
           {
            "colorbar": {
             "outlinewidth": 0,
             "ticks": ""
            },
            "colorscale": [
             [
              0,
              "#0d0887"
             ],
             [
              0.1111111111111111,
              "#46039f"
             ],
             [
              0.2222222222222222,
              "#7201a8"
             ],
             [
              0.3333333333333333,
              "#9c179e"
             ],
             [
              0.4444444444444444,
              "#bd3786"
             ],
             [
              0.5555555555555556,
              "#d8576b"
             ],
             [
              0.6666666666666666,
              "#ed7953"
             ],
             [
              0.7777777777777778,
              "#fb9f3a"
             ],
             [
              0.8888888888888888,
              "#fdca26"
             ],
             [
              1,
              "#f0f921"
             ]
            ],
            "type": "surface"
           }
          ],
          "table": [
           {
            "cells": {
             "fill": {
              "color": "#EBF0F8"
             },
             "line": {
              "color": "white"
             }
            },
            "header": {
             "fill": {
              "color": "#C8D4E3"
             },
             "line": {
              "color": "white"
             }
            },
            "type": "table"
           }
          ]
         },
         "layout": {
          "annotationdefaults": {
           "arrowcolor": "#2a3f5f",
           "arrowhead": 0,
           "arrowwidth": 1
          },
          "autotypenumbers": "strict",
          "coloraxis": {
           "colorbar": {
            "outlinewidth": 0,
            "ticks": ""
           }
          },
          "colorscale": {
           "diverging": [
            [
             0,
             "#8e0152"
            ],
            [
             0.1,
             "#c51b7d"
            ],
            [
             0.2,
             "#de77ae"
            ],
            [
             0.3,
             "#f1b6da"
            ],
            [
             0.4,
             "#fde0ef"
            ],
            [
             0.5,
             "#f7f7f7"
            ],
            [
             0.6,
             "#e6f5d0"
            ],
            [
             0.7,
             "#b8e186"
            ],
            [
             0.8,
             "#7fbc41"
            ],
            [
             0.9,
             "#4d9221"
            ],
            [
             1,
             "#276419"
            ]
           ],
           "sequential": [
            [
             0,
             "#0d0887"
            ],
            [
             0.1111111111111111,
             "#46039f"
            ],
            [
             0.2222222222222222,
             "#7201a8"
            ],
            [
             0.3333333333333333,
             "#9c179e"
            ],
            [
             0.4444444444444444,
             "#bd3786"
            ],
            [
             0.5555555555555556,
             "#d8576b"
            ],
            [
             0.6666666666666666,
             "#ed7953"
            ],
            [
             0.7777777777777778,
             "#fb9f3a"
            ],
            [
             0.8888888888888888,
             "#fdca26"
            ],
            [
             1,
             "#f0f921"
            ]
           ],
           "sequentialminus": [
            [
             0,
             "#0d0887"
            ],
            [
             0.1111111111111111,
             "#46039f"
            ],
            [
             0.2222222222222222,
             "#7201a8"
            ],
            [
             0.3333333333333333,
             "#9c179e"
            ],
            [
             0.4444444444444444,
             "#bd3786"
            ],
            [
             0.5555555555555556,
             "#d8576b"
            ],
            [
             0.6666666666666666,
             "#ed7953"
            ],
            [
             0.7777777777777778,
             "#fb9f3a"
            ],
            [
             0.8888888888888888,
             "#fdca26"
            ],
            [
             1,
             "#f0f921"
            ]
           ]
          },
          "colorway": [
           "#636efa",
           "#EF553B",
           "#00cc96",
           "#ab63fa",
           "#FFA15A",
           "#19d3f3",
           "#FF6692",
           "#B6E880",
           "#FF97FF",
           "#FECB52"
          ],
          "font": {
           "color": "#2a3f5f"
          },
          "geo": {
           "bgcolor": "white",
           "lakecolor": "white",
           "landcolor": "#E5ECF6",
           "showlakes": true,
           "showland": true,
           "subunitcolor": "white"
          },
          "hoverlabel": {
           "align": "left"
          },
          "hovermode": "closest",
          "mapbox": {
           "style": "light"
          },
          "paper_bgcolor": "white",
          "plot_bgcolor": "#E5ECF6",
          "polar": {
           "angularaxis": {
            "gridcolor": "white",
            "linecolor": "white",
            "ticks": ""
           },
           "bgcolor": "#E5ECF6",
           "radialaxis": {
            "gridcolor": "white",
            "linecolor": "white",
            "ticks": ""
           }
          },
          "scene": {
           "xaxis": {
            "backgroundcolor": "#E5ECF6",
            "gridcolor": "white",
            "gridwidth": 2,
            "linecolor": "white",
            "showbackground": true,
            "ticks": "",
            "zerolinecolor": "white"
           },
           "yaxis": {
            "backgroundcolor": "#E5ECF6",
            "gridcolor": "white",
            "gridwidth": 2,
            "linecolor": "white",
            "showbackground": true,
            "ticks": "",
            "zerolinecolor": "white"
           },
           "zaxis": {
            "backgroundcolor": "#E5ECF6",
            "gridcolor": "white",
            "gridwidth": 2,
            "linecolor": "white",
            "showbackground": true,
            "ticks": "",
            "zerolinecolor": "white"
           }
          },
          "shapedefaults": {
           "line": {
            "color": "#2a3f5f"
           }
          },
          "ternary": {
           "aaxis": {
            "gridcolor": "white",
            "linecolor": "white",
            "ticks": ""
           },
           "baxis": {
            "gridcolor": "white",
            "linecolor": "white",
            "ticks": ""
           },
           "bgcolor": "#E5ECF6",
           "caxis": {
            "gridcolor": "white",
            "linecolor": "white",
            "ticks": ""
           }
          },
          "title": {
           "x": 0.05
          },
          "xaxis": {
           "automargin": true,
           "gridcolor": "white",
           "linecolor": "white",
           "ticks": "",
           "title": {
            "standoff": 15
           },
           "zerolinecolor": "white",
           "zerolinewidth": 2
          },
          "yaxis": {
           "automargin": true,
           "gridcolor": "white",
           "linecolor": "white",
           "ticks": "",
           "title": {
            "standoff": 15
           },
           "zerolinecolor": "white",
           "zerolinewidth": 2
          }
         }
        },
        "title": {
         "text": "Arka Match Stats"
        },
        "updatemenus": [
         {
          "active": 0,
          "buttons": [
           {
            "args": [
             {
              "visible": [
               false,
               false,
               false,
               false,
               false,
               false,
               false,
               false,
               false,
               false,
               false,
               false,
               false,
               false,
               false,
               false,
               false,
               false
              ]
             },
             {
              "title": "Arka Match Stats: None"
             }
            ],
            "label": "None",
            "method": "update"
           },
           {
            "args": [
             {
              "visible": [
               true,
               false,
               false,
               false,
               false,
               false,
               false,
               false,
               false,
               false,
               false,
               false,
               false,
               false,
               false,
               false,
               false,
               false
              ]
             },
             {
              "title": "Arka Match Stats: AVG Rating"
             }
            ],
            "label": "AVG Rating",
            "method": "update"
           },
           {
            "args": [
             {
              "visible": [
               false,
               true,
               false,
               false,
               false,
               false,
               false,
               false,
               false,
               false,
               false,
               false,
               false,
               false,
               false,
               false,
               false,
               false
              ]
             },
             {
              "title": "Arka Match Stats: Minutes"
             }
            ],
            "label": "Minutes",
            "method": "update"
           },
           {
            "args": [
             {
              "visible": [
               false,
               false,
               false,
               false,
               false,
               true,
               true,
               true,
               true,
               false,
               false,
               false,
               false,
               false,
               false,
               false,
               false,
               false
              ]
             },
             {
              "title": "Arka Match Stats: Passes"
             }
            ],
            "label": "Passes",
            "method": "update"
           },
           {
            "args": [
             {
              "visible": [
               false,
               false,
               true,
               true,
               false,
               false,
               false,
               false,
               false,
               false,
               true,
               true,
               false,
               false,
               false,
               false,
               false,
               false
              ]
             },
             {
              "title": "Arka Match Stats: Attack"
             }
            ],
            "label": "Attack",
            "method": "update"
           },
           {
            "args": [
             {
              "visible": [
               false,
               false,
               false,
               false,
               false,
               false,
               false,
               false,
               false,
               true,
               false,
               false,
               false,
               false,
               false,
               true,
               false,
               true
              ]
             },
             {
              "title": "Arka Match Stats: Defense"
             }
            ],
            "label": "Defense",
            "method": "update"
           },
           {
            "args": [
             {
              "visible": [
               false,
               false,
               false,
               false,
               false,
               false,
               false,
               false,
               false,
               false,
               false,
               false,
               false,
               true,
               true,
               false,
               false,
               false
              ]
             },
             {
              "title": "Arka Match Stats: Cards"
             }
            ],
            "label": "Cards",
            "method": "update"
           },
           {
            "args": [
             {
              "visible": [
               true,
               true,
               true,
               true,
               true,
               true,
               true,
               true,
               true,
               true,
               true,
               true,
               true,
               true,
               true,
               true,
               true,
               true
              ]
             },
             {
              "title": "Arka Match Stats: All"
             }
            ],
            "label": "All",
            "method": "update"
           }
          ],
          "x": 1.1,
          "y": 1.15
         }
        ],
        "xaxis": {
         "title": {
          "text": "Match"
         }
        },
        "yaxis": {
         "title": {
          "text": "Value"
         }
        }
       }
      }
     },
     "metadata": {},
     "output_type": "display_data"
    }
   ],
   "source": [
    "# Create the figure\n",
    "fig = go.Figure()\n",
    "\n",
    "# List of metrics to plot\n",
    "metrics = ['Ratings', 'Minutes', 'Goals', 'Assists', 'Offsides', 'Passes',\n",
    "       'Accurate_Passes', 'Accurate_Passes_%', 'Crosses', 'Tackles',\n",
    "       'Total_Shots', 'Shots_on_Target', 'Blocked_Shots', 'Yellow_Cards',\n",
    "       'Red_Cards', 'Fouls_Committed', 'Clearances', 'Saves']\n",
    "\n",
    "# Add traces for each metric\n",
    "for metric in metrics:\n",
    "    filtered_data = data[data[metrics] >  0]\n",
    "    sorted_df = filtered_data.sort_values(by=metric, ascending=False)\n",
    "    \n",
    "    fig.add_trace(go.Bar(x=sorted_df.index, y=sorted_df[metric], name=metric))\n",
    "\n",
    "\n",
    "# Define visibility matrix\n",
    "n = len(metrics)\n",
    "visibility_matrix = {\n",
    "    \"None\": [False] * n,\n",
    "    \"AVG Rating\": [metric in ['Ratings'] for metric in metrics],\n",
    "    \"Minutes\": [metric in ['Minutes'] for metric in metrics],\n",
    "    \"Passes\": [metric in ['Passes', 'Accurate_Passes', 'Accurate_Passes_%', 'Crosses'] for metric in metrics],\n",
    "    \"Attack\": [metric in ['Goals', 'Assists', 'Total_Shots', 'Shots_on_Target', 'Shots_Inside_Box', 'Shots_Outside_Box'] for metric in metrics],\n",
    "    \"Defense\": [metric in ['Tackles', 'Fouls_Drawn', 'Fouls_Committed', 'Saves'] for metric in metrics],\n",
    "    \"Cards\": [metric in ['Yellow_Cards', 'Red_Cards'] for metric in metrics],\n",
    "    \"All\": [True] * n\n",
    "}\n",
    "\n",
    "# Create buttons\n",
    "buttons = [\n",
    "    dict(label=label,\n",
    "         method=\"update\",\n",
    "         args=[{\"visible\": visibility},\n",
    "               {\"title\": f\"Arka Match Stats: {label}\"}])\n",
    "    for label, visibility in visibility_matrix.items()\n",
    "]\n",
    "\n",
    "# Add dropdown to figure\n",
    "fig.update_layout(\n",
    "    updatemenus=[dict(\n",
    "        active=0,\n",
    "        buttons=buttons,\n",
    "        x=1.1,\n",
    "        y=1.15\n",
    "    )],\n",
    "    title=\"Arka Match Stats\",\n",
    "    xaxis_title=\"Match\",\n",
    "    yaxis_title=\"Value\",\n",
    "    barmode='group'\n",
    ")\n",
    "\n",
    "fig.show()\n",
    "fig.write_html(\"arka_player_vs_gks_home.html\")"
   ]
  }
 ],
 "metadata": {
  "kernelspec": {
   "display_name": "DataScience",
   "language": "python",
   "name": "python3"
  },
  "language_info": {
   "codemirror_mode": {
    "name": "ipython",
    "version": 3
   },
   "file_extension": ".py",
   "mimetype": "text/x-python",
   "name": "python",
   "nbconvert_exporter": "python",
   "pygments_lexer": "ipython3",
   "version": "3.10.13"
  }
 },
 "nbformat": 4,
 "nbformat_minor": 5
}
