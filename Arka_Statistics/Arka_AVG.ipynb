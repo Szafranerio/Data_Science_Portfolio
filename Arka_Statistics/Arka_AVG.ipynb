{
 "cells": [
  {
   "cell_type": "code",
   "execution_count": 33,
   "id": "3c5ca929",
   "metadata": {},
   "outputs": [],
   "source": [
    "import pandas as pd\n",
    "import matplotlib.pyplot as plt\n",
    "import seaborn\n",
    "import numpy as np\n",
    "import plotly.graph_objects as go"
   ]
  },
  {
   "cell_type": "code",
   "execution_count": 34,
   "id": "a8292c45",
   "metadata": {},
   "outputs": [
    {
     "data": {
      "application/vnd.microsoft.datawrangler.viewer.v0+json": {
       "columns": [
        {
         "name": "index",
         "rawType": "int64",
         "type": "integer"
        },
        {
         "name": "Players",
         "rawType": "object",
         "type": "string"
        },
        {
         "name": "Ratings",
         "rawType": "object",
         "type": "string"
        },
        {
         "name": "Minutes",
         "rawType": "object",
         "type": "string"
        },
        {
         "name": "Goals",
         "rawType": "object",
         "type": "string"
        },
        {
         "name": "Assists",
         "rawType": "object",
         "type": "string"
        },
        {
         "name": "Offsides",
         "rawType": "object",
         "type": "string"
        },
        {
         "name": "Passes",
         "rawType": "object",
         "type": "string"
        },
        {
         "name": "Accurate_Passes",
         "rawType": "object",
         "type": "string"
        },
        {
         "name": "Accurate_Passes_%",
         "rawType": "object",
         "type": "string"
        },
        {
         "name": "Crosses",
         "rawType": "object",
         "type": "string"
        },
        {
         "name": "Tackles",
         "rawType": "object",
         "type": "string"
        },
        {
         "name": "Total_Shots",
         "rawType": "object",
         "type": "string"
        },
        {
         "name": "Shots_on_Target",
         "rawType": "object",
         "type": "string"
        },
        {
         "name": "Blocked_Shots",
         "rawType": "object",
         "type": "string"
        },
        {
         "name": "Yellow_Cards",
         "rawType": "object",
         "type": "string"
        },
        {
         "name": "Red_Cards",
         "rawType": "object",
         "type": "string"
        },
        {
         "name": "Fouls_Drawn",
         "rawType": "object",
         "type": "string"
        },
        {
         "name": "Fouls_Committed",
         "rawType": "object",
         "type": "string"
        },
        {
         "name": "Clearances",
         "rawType": "object",
         "type": "string"
        },
        {
         "name": "Saves",
         "rawType": "object",
         "type": "string"
        }
       ],
       "ref": "3f051b9b-1e72-40d9-b3de-7000551e95ad",
       "rows": [
        [
         "0",
         "D. Abramowicz",
         "7,53",
         "90,00",
         "0,33",
         "0,00",
         "0,67",
         "24,67",
         "19,00",
         "75,35",
         "2,33",
         "0,33",
         "1,33",
         "0,33",
         "0,00",
         "0,00",
         "0,00",
         "0,67",
         "0,33",
         "7,67",
         "0,00"
        ],
        [
         "1",
         "S. Kerk",
         "6,91",
         "76,33",
         "0,00",
         "0,33",
         "0,00",
         "23,67",
         "17,33",
         "70,40",
         "5,67",
         "0,67",
         "2,00",
         "0,67",
         "0,67",
         "0,00",
         "0,00",
         "0,67",
         "0,67",
         "1,67",
         "0,00"
        ],
        [
         "2",
         "J. Oliveira",
         "6,90",
         "44,33",
         "0,00",
         "0,00",
         "0,67",
         "10,00",
         "8,00",
         "80,00",
         "1,33",
         "0,33",
         "1,00",
         "0,67",
         "0,00",
         "0,00",
         "0,00",
         "1,33",
         "0,00",
         "0,00",
         "0,00"
        ],
        [
         "3",
         "A. Nguiamba",
         "4,49",
         "29,67",
         "0,00",
         "0,00",
         "0,00",
         "11,00",
         "9,33",
         "56,17",
         "0,00",
         "1,33",
         "0,00",
         "0,00",
         "0,00",
         "0,00",
         "0,00",
         "0,33",
         "0,33",
         "0,67",
         "0,00"
        ],
        [
         "4",
         "D. Zator",
         "4,53",
         "22,00",
         "0,00",
         "0,00",
         "0,00",
         "12,33",
         "9,33",
         "49,47",
         "1,00",
         "1,33",
         "0,00",
         "0,00",
         "0,00",
         "0,00",
         "0,00",
         "0,33",
         "0,00",
         "1,00",
         "0,00"
        ]
       ],
       "shape": {
        "columns": 20,
        "rows": 5
       }
      },
      "text/html": [
       "<div>\n",
       "<style scoped>\n",
       "    .dataframe tbody tr th:only-of-type {\n",
       "        vertical-align: middle;\n",
       "    }\n",
       "\n",
       "    .dataframe tbody tr th {\n",
       "        vertical-align: top;\n",
       "    }\n",
       "\n",
       "    .dataframe thead th {\n",
       "        text-align: right;\n",
       "    }\n",
       "</style>\n",
       "<table border=\"1\" class=\"dataframe\">\n",
       "  <thead>\n",
       "    <tr style=\"text-align: right;\">\n",
       "      <th></th>\n",
       "      <th>Players</th>\n",
       "      <th>Ratings</th>\n",
       "      <th>Minutes</th>\n",
       "      <th>Goals</th>\n",
       "      <th>Assists</th>\n",
       "      <th>Offsides</th>\n",
       "      <th>Passes</th>\n",
       "      <th>Accurate_Passes</th>\n",
       "      <th>Accurate_Passes_%</th>\n",
       "      <th>Crosses</th>\n",
       "      <th>Tackles</th>\n",
       "      <th>Total_Shots</th>\n",
       "      <th>Shots_on_Target</th>\n",
       "      <th>Blocked_Shots</th>\n",
       "      <th>Yellow_Cards</th>\n",
       "      <th>Red_Cards</th>\n",
       "      <th>Fouls_Drawn</th>\n",
       "      <th>Fouls_Committed</th>\n",
       "      <th>Clearances</th>\n",
       "      <th>Saves</th>\n",
       "    </tr>\n",
       "  </thead>\n",
       "  <tbody>\n",
       "    <tr>\n",
       "      <th>0</th>\n",
       "      <td>D. Abramowicz</td>\n",
       "      <td>7,53</td>\n",
       "      <td>90,00</td>\n",
       "      <td>0,33</td>\n",
       "      <td>0,00</td>\n",
       "      <td>0,67</td>\n",
       "      <td>24,67</td>\n",
       "      <td>19,00</td>\n",
       "      <td>75,35</td>\n",
       "      <td>2,33</td>\n",
       "      <td>0,33</td>\n",
       "      <td>1,33</td>\n",
       "      <td>0,33</td>\n",
       "      <td>0,00</td>\n",
       "      <td>0,00</td>\n",
       "      <td>0,00</td>\n",
       "      <td>0,67</td>\n",
       "      <td>0,33</td>\n",
       "      <td>7,67</td>\n",
       "      <td>0,00</td>\n",
       "    </tr>\n",
       "    <tr>\n",
       "      <th>1</th>\n",
       "      <td>S. Kerk</td>\n",
       "      <td>6,91</td>\n",
       "      <td>76,33</td>\n",
       "      <td>0,00</td>\n",
       "      <td>0,33</td>\n",
       "      <td>0,00</td>\n",
       "      <td>23,67</td>\n",
       "      <td>17,33</td>\n",
       "      <td>70,40</td>\n",
       "      <td>5,67</td>\n",
       "      <td>0,67</td>\n",
       "      <td>2,00</td>\n",
       "      <td>0,67</td>\n",
       "      <td>0,67</td>\n",
       "      <td>0,00</td>\n",
       "      <td>0,00</td>\n",
       "      <td>0,67</td>\n",
       "      <td>0,67</td>\n",
       "      <td>1,67</td>\n",
       "      <td>0,00</td>\n",
       "    </tr>\n",
       "    <tr>\n",
       "      <th>2</th>\n",
       "      <td>J. Oliveira</td>\n",
       "      <td>6,90</td>\n",
       "      <td>44,33</td>\n",
       "      <td>0,00</td>\n",
       "      <td>0,00</td>\n",
       "      <td>0,67</td>\n",
       "      <td>10,00</td>\n",
       "      <td>8,00</td>\n",
       "      <td>80,00</td>\n",
       "      <td>1,33</td>\n",
       "      <td>0,33</td>\n",
       "      <td>1,00</td>\n",
       "      <td>0,67</td>\n",
       "      <td>0,00</td>\n",
       "      <td>0,00</td>\n",
       "      <td>0,00</td>\n",
       "      <td>1,33</td>\n",
       "      <td>0,00</td>\n",
       "      <td>0,00</td>\n",
       "      <td>0,00</td>\n",
       "    </tr>\n",
       "    <tr>\n",
       "      <th>3</th>\n",
       "      <td>A. Nguiamba</td>\n",
       "      <td>4,49</td>\n",
       "      <td>29,67</td>\n",
       "      <td>0,00</td>\n",
       "      <td>0,00</td>\n",
       "      <td>0,00</td>\n",
       "      <td>11,00</td>\n",
       "      <td>9,33</td>\n",
       "      <td>56,17</td>\n",
       "      <td>0,00</td>\n",
       "      <td>1,33</td>\n",
       "      <td>0,00</td>\n",
       "      <td>0,00</td>\n",
       "      <td>0,00</td>\n",
       "      <td>0,00</td>\n",
       "      <td>0,00</td>\n",
       "      <td>0,33</td>\n",
       "      <td>0,33</td>\n",
       "      <td>0,67</td>\n",
       "      <td>0,00</td>\n",
       "    </tr>\n",
       "    <tr>\n",
       "      <th>4</th>\n",
       "      <td>D. Zator</td>\n",
       "      <td>4,53</td>\n",
       "      <td>22,00</td>\n",
       "      <td>0,00</td>\n",
       "      <td>0,00</td>\n",
       "      <td>0,00</td>\n",
       "      <td>12,33</td>\n",
       "      <td>9,33</td>\n",
       "      <td>49,47</td>\n",
       "      <td>1,00</td>\n",
       "      <td>1,33</td>\n",
       "      <td>0,00</td>\n",
       "      <td>0,00</td>\n",
       "      <td>0,00</td>\n",
       "      <td>0,00</td>\n",
       "      <td>0,00</td>\n",
       "      <td>0,33</td>\n",
       "      <td>0,00</td>\n",
       "      <td>1,00</td>\n",
       "      <td>0,00</td>\n",
       "    </tr>\n",
       "  </tbody>\n",
       "</table>\n",
       "</div>"
      ],
      "text/plain": [
       "         Players Ratings Minutes Goals Assists Offsides Passes  \\\n",
       "0  D. Abramowicz    7,53   90,00  0,33    0,00     0,67  24,67   \n",
       "1        S. Kerk    6,91   76,33  0,00    0,33     0,00  23,67   \n",
       "2    J. Oliveira    6,90   44,33  0,00    0,00     0,67  10,00   \n",
       "3    A. Nguiamba    4,49   29,67  0,00    0,00     0,00  11,00   \n",
       "4       D. Zator    4,53   22,00  0,00    0,00     0,00  12,33   \n",
       "\n",
       "  Accurate_Passes Accurate_Passes_% Crosses Tackles Total_Shots  \\\n",
       "0           19,00             75,35    2,33    0,33        1,33   \n",
       "1           17,33             70,40    5,67    0,67        2,00   \n",
       "2            8,00             80,00    1,33    0,33        1,00   \n",
       "3            9,33             56,17    0,00    1,33        0,00   \n",
       "4            9,33             49,47    1,00    1,33        0,00   \n",
       "\n",
       "  Shots_on_Target Blocked_Shots Yellow_Cards Red_Cards Fouls_Drawn  \\\n",
       "0            0,33          0,00         0,00      0,00        0,67   \n",
       "1            0,67          0,67         0,00      0,00        0,67   \n",
       "2            0,67          0,00         0,00      0,00        1,33   \n",
       "3            0,00          0,00         0,00      0,00        0,33   \n",
       "4            0,00          0,00         0,00      0,00        0,33   \n",
       "\n",
       "  Fouls_Committed Clearances Saves  \n",
       "0            0,33       7,67  0,00  \n",
       "1            0,67       1,67  0,00  \n",
       "2            0,00       0,00  0,00  \n",
       "3            0,33       0,67  0,00  \n",
       "4            0,00       1,00  0,00  "
      ]
     },
     "execution_count": 34,
     "metadata": {},
     "output_type": "execute_result"
    }
   ],
   "source": [
    "data = pd.read_csv('data/AVG.csv', delimiter=';')\n",
    "data.head()"
   ]
  },
  {
   "cell_type": "code",
   "execution_count": 35,
   "id": "5a77a0f2",
   "metadata": {},
   "outputs": [
    {
     "data": {
      "application/vnd.microsoft.datawrangler.viewer.v0+json": {
       "columns": [
        {
         "name": "Players",
         "rawType": "object",
         "type": "string"
        },
        {
         "name": "Ratings",
         "rawType": "object",
         "type": "string"
        },
        {
         "name": "Minutes",
         "rawType": "object",
         "type": "string"
        },
        {
         "name": "Goals",
         "rawType": "object",
         "type": "string"
        },
        {
         "name": "Assists",
         "rawType": "object",
         "type": "string"
        },
        {
         "name": "Offsides",
         "rawType": "object",
         "type": "string"
        },
        {
         "name": "Passes",
         "rawType": "object",
         "type": "string"
        },
        {
         "name": "Accurate_Passes",
         "rawType": "object",
         "type": "string"
        },
        {
         "name": "Accurate_Passes_%",
         "rawType": "object",
         "type": "string"
        },
        {
         "name": "Crosses",
         "rawType": "object",
         "type": "string"
        },
        {
         "name": "Tackles",
         "rawType": "object",
         "type": "string"
        },
        {
         "name": "Total_Shots",
         "rawType": "object",
         "type": "string"
        },
        {
         "name": "Shots_on_Target",
         "rawType": "object",
         "type": "string"
        },
        {
         "name": "Blocked_Shots",
         "rawType": "object",
         "type": "string"
        },
        {
         "name": "Yellow_Cards",
         "rawType": "object",
         "type": "string"
        },
        {
         "name": "Red_Cards",
         "rawType": "object",
         "type": "string"
        },
        {
         "name": "Fouls_Drawn",
         "rawType": "object",
         "type": "string"
        },
        {
         "name": "Fouls_Committed",
         "rawType": "object",
         "type": "string"
        },
        {
         "name": "Clearances",
         "rawType": "object",
         "type": "string"
        },
        {
         "name": "Saves",
         "rawType": "object",
         "type": "string"
        }
       ],
       "ref": "af997f6f-9222-4bda-8a76-8ab54444d4eb",
       "rows": [
        [
         "D. Abramowicz",
         "7,53",
         "90,00",
         "0,33",
         "0,00",
         "0,67",
         "24,67",
         "19,00",
         "75,35",
         "2,33",
         "0,33",
         "1,33",
         "0,33",
         "0,00",
         "0,00",
         "0,00",
         "0,67",
         "0,33",
         "7,67",
         "0,00"
        ],
        [
         "S. Kerk",
         "6,91",
         "76,33",
         "0,00",
         "0,33",
         "0,00",
         "23,67",
         "17,33",
         "70,40",
         "5,67",
         "0,67",
         "2,00",
         "0,67",
         "0,67",
         "0,00",
         "0,00",
         "0,67",
         "0,67",
         "1,67",
         "0,00"
        ],
        [
         "J. Oliveira",
         "6,90",
         "44,33",
         "0,00",
         "0,00",
         "0,67",
         "10,00",
         "8,00",
         "80,00",
         "1,33",
         "0,33",
         "1,00",
         "0,67",
         "0,00",
         "0,00",
         "0,00",
         "1,33",
         "0,00",
         "0,00",
         "0,00"
        ],
        [
         "A. Nguiamba",
         "4,49",
         "29,67",
         "0,00",
         "0,00",
         "0,00",
         "11,00",
         "9,33",
         "56,17",
         "0,00",
         "1,33",
         "0,00",
         "0,00",
         "0,00",
         "0,00",
         "0,00",
         "0,33",
         "0,33",
         "0,67",
         "0,00"
        ],
        [
         "D. Zator",
         "4,53",
         "22,00",
         "0,00",
         "0,00",
         "0,00",
         "12,33",
         "9,33",
         "49,47",
         "1,00",
         "1,33",
         "0,00",
         "0,00",
         "0,00",
         "0,00",
         "0,00",
         "0,33",
         "0,00",
         "1,00",
         "0,00"
        ]
       ],
       "shape": {
        "columns": 19,
        "rows": 5
       }
      },
      "text/html": [
       "<div>\n",
       "<style scoped>\n",
       "    .dataframe tbody tr th:only-of-type {\n",
       "        vertical-align: middle;\n",
       "    }\n",
       "\n",
       "    .dataframe tbody tr th {\n",
       "        vertical-align: top;\n",
       "    }\n",
       "\n",
       "    .dataframe thead th {\n",
       "        text-align: right;\n",
       "    }\n",
       "</style>\n",
       "<table border=\"1\" class=\"dataframe\">\n",
       "  <thead>\n",
       "    <tr style=\"text-align: right;\">\n",
       "      <th></th>\n",
       "      <th>Ratings</th>\n",
       "      <th>Minutes</th>\n",
       "      <th>Goals</th>\n",
       "      <th>Assists</th>\n",
       "      <th>Offsides</th>\n",
       "      <th>Passes</th>\n",
       "      <th>Accurate_Passes</th>\n",
       "      <th>Accurate_Passes_%</th>\n",
       "      <th>Crosses</th>\n",
       "      <th>Tackles</th>\n",
       "      <th>Total_Shots</th>\n",
       "      <th>Shots_on_Target</th>\n",
       "      <th>Blocked_Shots</th>\n",
       "      <th>Yellow_Cards</th>\n",
       "      <th>Red_Cards</th>\n",
       "      <th>Fouls_Drawn</th>\n",
       "      <th>Fouls_Committed</th>\n",
       "      <th>Clearances</th>\n",
       "      <th>Saves</th>\n",
       "    </tr>\n",
       "    <tr>\n",
       "      <th>Players</th>\n",
       "      <th></th>\n",
       "      <th></th>\n",
       "      <th></th>\n",
       "      <th></th>\n",
       "      <th></th>\n",
       "      <th></th>\n",
       "      <th></th>\n",
       "      <th></th>\n",
       "      <th></th>\n",
       "      <th></th>\n",
       "      <th></th>\n",
       "      <th></th>\n",
       "      <th></th>\n",
       "      <th></th>\n",
       "      <th></th>\n",
       "      <th></th>\n",
       "      <th></th>\n",
       "      <th></th>\n",
       "      <th></th>\n",
       "    </tr>\n",
       "  </thead>\n",
       "  <tbody>\n",
       "    <tr>\n",
       "      <th>D. Abramowicz</th>\n",
       "      <td>7,53</td>\n",
       "      <td>90,00</td>\n",
       "      <td>0,33</td>\n",
       "      <td>0,00</td>\n",
       "      <td>0,67</td>\n",
       "      <td>24,67</td>\n",
       "      <td>19,00</td>\n",
       "      <td>75,35</td>\n",
       "      <td>2,33</td>\n",
       "      <td>0,33</td>\n",
       "      <td>1,33</td>\n",
       "      <td>0,33</td>\n",
       "      <td>0,00</td>\n",
       "      <td>0,00</td>\n",
       "      <td>0,00</td>\n",
       "      <td>0,67</td>\n",
       "      <td>0,33</td>\n",
       "      <td>7,67</td>\n",
       "      <td>0,00</td>\n",
       "    </tr>\n",
       "    <tr>\n",
       "      <th>S. Kerk</th>\n",
       "      <td>6,91</td>\n",
       "      <td>76,33</td>\n",
       "      <td>0,00</td>\n",
       "      <td>0,33</td>\n",
       "      <td>0,00</td>\n",
       "      <td>23,67</td>\n",
       "      <td>17,33</td>\n",
       "      <td>70,40</td>\n",
       "      <td>5,67</td>\n",
       "      <td>0,67</td>\n",
       "      <td>2,00</td>\n",
       "      <td>0,67</td>\n",
       "      <td>0,67</td>\n",
       "      <td>0,00</td>\n",
       "      <td>0,00</td>\n",
       "      <td>0,67</td>\n",
       "      <td>0,67</td>\n",
       "      <td>1,67</td>\n",
       "      <td>0,00</td>\n",
       "    </tr>\n",
       "    <tr>\n",
       "      <th>J. Oliveira</th>\n",
       "      <td>6,90</td>\n",
       "      <td>44,33</td>\n",
       "      <td>0,00</td>\n",
       "      <td>0,00</td>\n",
       "      <td>0,67</td>\n",
       "      <td>10,00</td>\n",
       "      <td>8,00</td>\n",
       "      <td>80,00</td>\n",
       "      <td>1,33</td>\n",
       "      <td>0,33</td>\n",
       "      <td>1,00</td>\n",
       "      <td>0,67</td>\n",
       "      <td>0,00</td>\n",
       "      <td>0,00</td>\n",
       "      <td>0,00</td>\n",
       "      <td>1,33</td>\n",
       "      <td>0,00</td>\n",
       "      <td>0,00</td>\n",
       "      <td>0,00</td>\n",
       "    </tr>\n",
       "    <tr>\n",
       "      <th>A. Nguiamba</th>\n",
       "      <td>4,49</td>\n",
       "      <td>29,67</td>\n",
       "      <td>0,00</td>\n",
       "      <td>0,00</td>\n",
       "      <td>0,00</td>\n",
       "      <td>11,00</td>\n",
       "      <td>9,33</td>\n",
       "      <td>56,17</td>\n",
       "      <td>0,00</td>\n",
       "      <td>1,33</td>\n",
       "      <td>0,00</td>\n",
       "      <td>0,00</td>\n",
       "      <td>0,00</td>\n",
       "      <td>0,00</td>\n",
       "      <td>0,00</td>\n",
       "      <td>0,33</td>\n",
       "      <td>0,33</td>\n",
       "      <td>0,67</td>\n",
       "      <td>0,00</td>\n",
       "    </tr>\n",
       "    <tr>\n",
       "      <th>D. Zator</th>\n",
       "      <td>4,53</td>\n",
       "      <td>22,00</td>\n",
       "      <td>0,00</td>\n",
       "      <td>0,00</td>\n",
       "      <td>0,00</td>\n",
       "      <td>12,33</td>\n",
       "      <td>9,33</td>\n",
       "      <td>49,47</td>\n",
       "      <td>1,00</td>\n",
       "      <td>1,33</td>\n",
       "      <td>0,00</td>\n",
       "      <td>0,00</td>\n",
       "      <td>0,00</td>\n",
       "      <td>0,00</td>\n",
       "      <td>0,00</td>\n",
       "      <td>0,33</td>\n",
       "      <td>0,00</td>\n",
       "      <td>1,00</td>\n",
       "      <td>0,00</td>\n",
       "    </tr>\n",
       "  </tbody>\n",
       "</table>\n",
       "</div>"
      ],
      "text/plain": [
       "              Ratings Minutes Goals Assists Offsides Passes Accurate_Passes  \\\n",
       "Players                                                                       \n",
       "D. Abramowicz    7,53   90,00  0,33    0,00     0,67  24,67           19,00   \n",
       "S. Kerk          6,91   76,33  0,00    0,33     0,00  23,67           17,33   \n",
       "J. Oliveira      6,90   44,33  0,00    0,00     0,67  10,00            8,00   \n",
       "A. Nguiamba      4,49   29,67  0,00    0,00     0,00  11,00            9,33   \n",
       "D. Zator         4,53   22,00  0,00    0,00     0,00  12,33            9,33   \n",
       "\n",
       "              Accurate_Passes_% Crosses Tackles Total_Shots Shots_on_Target  \\\n",
       "Players                                                                       \n",
       "D. Abramowicz             75,35    2,33    0,33        1,33            0,33   \n",
       "S. Kerk                   70,40    5,67    0,67        2,00            0,67   \n",
       "J. Oliveira               80,00    1,33    0,33        1,00            0,67   \n",
       "A. Nguiamba               56,17    0,00    1,33        0,00            0,00   \n",
       "D. Zator                  49,47    1,00    1,33        0,00            0,00   \n",
       "\n",
       "              Blocked_Shots Yellow_Cards Red_Cards Fouls_Drawn  \\\n",
       "Players                                                          \n",
       "D. Abramowicz          0,00         0,00      0,00        0,67   \n",
       "S. Kerk                0,67         0,00      0,00        0,67   \n",
       "J. Oliveira            0,00         0,00      0,00        1,33   \n",
       "A. Nguiamba            0,00         0,00      0,00        0,33   \n",
       "D. Zator               0,00         0,00      0,00        0,33   \n",
       "\n",
       "              Fouls_Committed Clearances Saves  \n",
       "Players                                         \n",
       "D. Abramowicz            0,33       7,67  0,00  \n",
       "S. Kerk                  0,67       1,67  0,00  \n",
       "J. Oliveira              0,00       0,00  0,00  \n",
       "A. Nguiamba              0,33       0,67  0,00  \n",
       "D. Zator                 0,00       1,00  0,00  "
      ]
     },
     "execution_count": 35,
     "metadata": {},
     "output_type": "execute_result"
    }
   ],
   "source": [
    "data = data.set_index('Players')\n",
    "data.head()"
   ]
  },
  {
   "cell_type": "code",
   "execution_count": 36,
   "id": "5bba079e",
   "metadata": {},
   "outputs": [
    {
     "name": "stdout",
     "output_type": "stream",
     "text": [
      "<class 'pandas.core.frame.DataFrame'>\n",
      "Index: 19 entries, D. Abramowicz to E.Espiau\n",
      "Data columns (total 19 columns):\n",
      " #   Column             Non-Null Count  Dtype \n",
      "---  ------             --------------  ----- \n",
      " 0   Ratings            19 non-null     object\n",
      " 1   Minutes            19 non-null     object\n",
      " 2   Goals              19 non-null     object\n",
      " 3   Assists            19 non-null     object\n",
      " 4   Offsides           19 non-null     object\n",
      " 5   Passes             19 non-null     object\n",
      " 6   Accurate_Passes    19 non-null     object\n",
      " 7   Accurate_Passes_%  19 non-null     object\n",
      " 8   Crosses            19 non-null     object\n",
      " 9   Tackles            19 non-null     object\n",
      " 10  Total_Shots        19 non-null     object\n",
      " 11  Shots_on_Target    19 non-null     object\n",
      " 12  Blocked_Shots      19 non-null     object\n",
      " 13  Yellow_Cards       19 non-null     object\n",
      " 14  Red_Cards          19 non-null     object\n",
      " 15  Fouls_Drawn        19 non-null     object\n",
      " 16  Fouls_Committed    19 non-null     object\n",
      " 17  Clearances         19 non-null     object\n",
      " 18  Saves              19 non-null     object\n",
      "dtypes: object(19)\n",
      "memory usage: 3.0+ KB\n"
     ]
    }
   ],
   "source": [
    "data.info()"
   ]
  },
  {
   "cell_type": "code",
   "execution_count": 37,
   "id": "3a6c1ba1",
   "metadata": {},
   "outputs": [],
   "source": [
    "data = data.replace(',', '.', regex=True)\n",
    "data = data.apply(pd.to_numeric, errors='coerce')"
   ]
  },
  {
   "cell_type": "code",
   "execution_count": 38,
   "id": "654d87df",
   "metadata": {},
   "outputs": [
    {
     "name": "stdout",
     "output_type": "stream",
     "text": [
      "<class 'pandas.core.frame.DataFrame'>\n",
      "Index: 19 entries, D. Abramowicz to E.Espiau\n",
      "Data columns (total 19 columns):\n",
      " #   Column             Non-Null Count  Dtype  \n",
      "---  ------             --------------  -----  \n",
      " 0   Ratings            19 non-null     float64\n",
      " 1   Minutes            19 non-null     float64\n",
      " 2   Goals              19 non-null     float64\n",
      " 3   Assists            19 non-null     float64\n",
      " 4   Offsides           19 non-null     float64\n",
      " 5   Passes             19 non-null     float64\n",
      " 6   Accurate_Passes    19 non-null     float64\n",
      " 7   Accurate_Passes_%  19 non-null     float64\n",
      " 8   Crosses            19 non-null     float64\n",
      " 9   Tackles            19 non-null     float64\n",
      " 10  Total_Shots        19 non-null     float64\n",
      " 11  Shots_on_Target    19 non-null     float64\n",
      " 12  Blocked_Shots      19 non-null     float64\n",
      " 13  Yellow_Cards       19 non-null     float64\n",
      " 14  Red_Cards          19 non-null     float64\n",
      " 15  Fouls_Drawn        19 non-null     float64\n",
      " 16  Fouls_Committed    19 non-null     float64\n",
      " 17  Clearances         19 non-null     float64\n",
      " 18  Saves              19 non-null     float64\n",
      "dtypes: float64(19)\n",
      "memory usage: 3.0+ KB\n"
     ]
    }
   ],
   "source": [
    "data.info()"
   ]
  },
  {
   "cell_type": "code",
   "execution_count": 43,
   "id": "3b828dc3",
   "metadata": {},
   "outputs": [
    {
     "data": {
      "application/vnd.plotly.v1+json": {
       "config": {
        "plotlyServerURL": "https://plot.ly"
       },
       "data": [
        {
         "name": "Ratings",
         "type": "bar",
         "x": [
          "D. Abramowicz",
          "M. Navarro",
          "S. Kerk",
          "J. Oliveira",
          "A. Sidibe",
          "D. Weglarz",
          "K. Jakubczyk",
          "M. Marcjanik",
          "D. Kocyla",
          "J. Celestine",
          "T. Gaprindashvili",
          "M. Predenkiewicz",
          "D. Zator",
          "A. Nguiamba",
          "D.Percan",
          "S. Sobczak",
          "L.Perea",
          "H. Vitalucci",
          "E.Espiau"
         ],
         "y": {
          "bdata": "H4XrUbgeHkBmZmZmZmYcQKRwPQrXoxtAmpmZmZmZG0BxPQrXo3AbQGZmZmZmZhtA7FG4HoXrGkDhehSuR+EaQNejcD0K1xpApHA9CtejGkAAAAAAAAAaQHE9CtejcBlAH4XrUbgeEkD2KFyPwvURQHsUrkfhehFA4XoUrkfhEECF61G4HoUQQDMzMzMzMwFA4XoUrkfhAEA=",
          "dtype": "f8"
         }
        },
        {
         "name": "Minutes",
         "type": "bar",
         "x": [
          "D. Abramowicz",
          "J. Celestine",
          "A. Sidibe",
          "M. Marcjanik",
          "D. Weglarz",
          "S. Kerk",
          "M. Navarro",
          "D. Kocyla",
          "K. Jakubczyk",
          "T. Gaprindashvili",
          "J. Oliveira",
          "D.Percan",
          "M. Predenkiewicz",
          "S. Sobczak",
          "A. Nguiamba",
          "D. Zator",
          "H. Vitalucci",
          "L.Perea",
          "E.Espiau"
         ],
         "y": {
          "bdata": "AAAAAACAVkAAAAAAAIBWQAAAAAAAgFZAAAAAAACAVkAAAAAAAIBWQIXrUbgeFVNAAAAAAAAAUUCF61G4HhVQQAAAAAAAgE1A9ihcj8JVR0AK16NwPSpGQAAAAAAAgEFAFK5H4XpUP0AUrkfhelQ+QOxRuB6Fqz1AAAAAAAAANkAAAAAAAAA1QAAAAAAAACRAXI/C9ShcDUA=",
          "dtype": "f8"
         }
        },
        {
         "name": "Goals",
         "type": "bar",
         "x": [
          "D. Abramowicz",
          "S. Kerk",
          "J. Oliveira",
          "A. Nguiamba",
          "D. Zator",
          "K. Jakubczyk",
          "D. Kocyla",
          "D. Weglarz",
          "M. Navarro",
          "T. Gaprindashvili",
          "D.Percan",
          "M. Marcjanik",
          "A. Sidibe",
          "H. Vitalucci",
          "J. Celestine",
          "S. Sobczak",
          "M. Predenkiewicz",
          "L.Perea",
          "E.Espiau"
         ],
         "y": {
          "bdata": "H4XrUbge1T8AAAAAAAD4fwAAAAAAAPh/AAAAAAAA+H8AAAAAAAD4fwAAAAAAAPh/AAAAAAAA+H8AAAAAAAD4fwAAAAAAAPh/AAAAAAAA+H8AAAAAAAD4fwAAAAAAAPh/AAAAAAAA+H8AAAAAAAD4fwAAAAAAAPh/AAAAAAAA+H8AAAAAAAD4fwAAAAAAAPh/AAAAAAAA+H8=",
          "dtype": "f8"
         }
        },
        {
         "name": "Assists",
         "type": "bar",
         "x": [
          "S. Kerk",
          "D. Abramowicz",
          "J. Oliveira",
          "A. Nguiamba",
          "D. Zator",
          "K. Jakubczyk",
          "D. Kocyla",
          "D. Weglarz",
          "M. Navarro",
          "T. Gaprindashvili",
          "D.Percan",
          "M. Marcjanik",
          "A. Sidibe",
          "H. Vitalucci",
          "J. Celestine",
          "S. Sobczak",
          "M. Predenkiewicz",
          "L.Perea",
          "E.Espiau"
         ],
         "y": {
          "bdata": "H4XrUbge1T8AAAAAAAD4fwAAAAAAAPh/AAAAAAAA+H8AAAAAAAD4fwAAAAAAAPh/AAAAAAAA+H8AAAAAAAD4fwAAAAAAAPh/AAAAAAAA+H8AAAAAAAD4fwAAAAAAAPh/AAAAAAAA+H8AAAAAAAD4fwAAAAAAAPh/AAAAAAAA+H8AAAAAAAD4fwAAAAAAAPh/AAAAAAAA+H8=",
          "dtype": "f8"
         }
        },
        {
         "name": "Offsides",
         "type": "bar",
         "x": [
          "D. Abramowicz",
          "J. Oliveira",
          "D. Kocyla",
          "T. Gaprindashvili",
          "A. Sidibe",
          "S. Kerk",
          "A. Nguiamba",
          "D. Zator",
          "K. Jakubczyk",
          "D. Weglarz",
          "M. Navarro",
          "D.Percan",
          "M. Marcjanik",
          "H. Vitalucci",
          "J. Celestine",
          "S. Sobczak",
          "M. Predenkiewicz",
          "L.Perea",
          "E.Espiau"
         ],
         "y": {
          "bdata": "cT0K16Nw5T9xPQrXo3DlPx+F61G4HtU/H4XrUbge1T8fhetRuB7VPwAAAAAAAPh/AAAAAAAA+H8AAAAAAAD4fwAAAAAAAPh/AAAAAAAA+H8AAAAAAAD4fwAAAAAAAPh/AAAAAAAA+H8AAAAAAAD4fwAAAAAAAPh/AAAAAAAA+H8AAAAAAAD4fwAAAAAAAPh/AAAAAAAA+H8=",
          "dtype": "f8"
         }
        },
        {
         "name": "Passes",
         "type": "bar",
         "x": [
          "M. Marcjanik",
          "J. Celestine",
          "D. Weglarz",
          "M. Navarro",
          "D. Abramowicz",
          "S. Kerk",
          "A. Sidibe",
          "K. Jakubczyk",
          "D. Zator",
          "A. Nguiamba",
          "T. Gaprindashvili",
          "D. Kocyla",
          "J. Oliveira",
          "D.Percan",
          "M. Predenkiewicz",
          "H. Vitalucci",
          "L.Perea",
          "S. Sobczak",
          "E.Espiau"
         ],
         "y": {
          "bdata": "CtejcD0qRkAAAAAAAABBQBSuR+F6VD5AFK5H4XpUPUDsUbgehas4QOxRuB6FqzdA7FG4HoWrNkAAAAAAAAAuQClcj8L1qChAAAAAAAAAJkDXo3A9ClclQClcj8L1qCRAAAAAAAAAJECuR+F6FK4WQK5H4XoUrhJAUrgehetREUBcj8L1KFwNQKRwPQrXowJAH4XrUbge1T8=",
          "dtype": "f8"
         }
        },
        {
         "name": "Accurate_Passes",
         "type": "bar",
         "x": [
          "M. Marcjanik",
          "J. Celestine",
          "M. Navarro",
          "D. Abramowicz",
          "A. Sidibe",
          "S. Kerk",
          "D. Weglarz",
          "K. Jakubczyk",
          "A. Nguiamba",
          "D. Zator",
          "T. Gaprindashvili",
          "D. Kocyla",
          "J. Oliveira",
          "D.Percan",
          "H. Vitalucci",
          "M. Predenkiewicz",
          "L.Perea",
          "S. Sobczak",
          "E.Espiau"
         ],
         "y": {
          "bdata": "CtejcD0qQkAUrkfhelQ9QAAAAAAAADZAAAAAAAAAM0DsUbgehasxQBSuR+F6VDFA7FG4HoWrMEDXo3A9ClctQClcj8L1qCJAKVyPwvWoIkDXo3A9ClchQNejcD0KVyFAAAAAAAAAIEAAAAAAAAAUQFyPwvUoXAVApHA9CtejAkAAAAAAAAAAQLgehetRuPo/H4XrUbge1T8=",
          "dtype": "f8"
         }
        },
        {
         "name": "Accurate_Passes_%",
         "type": "bar",
         "x": [
          "K. Jakubczyk",
          "J. Celestine",
          "D. Kocyla",
          "M. Marcjanik",
          "J. Oliveira",
          "A. Sidibe",
          "D. Abramowicz",
          "M. Navarro",
          "S. Kerk",
          "D.Percan",
          "M. Predenkiewicz",
          "A. Nguiamba",
          "D. Weglarz",
          "D. Zator",
          "T. Gaprindashvili",
          "S. Sobczak",
          "L.Perea",
          "E.Espiau",
          "H. Vitalucci"
         ],
         "y": {
          "bdata": "H4XrUbieWEDsUbgehatVQNejcD0Kt1RAPQrXo3CNVEAAAAAAAABUQKRwPQrX01NAZmZmZmbWUkD2KFyPwrVSQJqZmZmZmVFACtejcD0KTUCkcD0K1+NMQPYoXI/CFUxAj8L1KFwvS0Bcj8L1KLxIQJqZmZmZeUZACtejcD2qRUCkcD0K1+NCQArXo3A9qkBAw/UoXI+CNEA=",
          "dtype": "f8"
         }
        },
        {
         "name": "Crosses",
         "type": "bar",
         "x": [
          "M. Navarro",
          "S. Kerk",
          "D. Abramowicz",
          "J. Oliveira",
          "D. Zator",
          "D. Kocyla",
          "T. Gaprindashvili",
          "H. Vitalucci",
          "A. Nguiamba",
          "K. Jakubczyk",
          "D. Weglarz",
          "D.Percan",
          "M. Marcjanik",
          "A. Sidibe",
          "J. Celestine",
          "S. Sobczak",
          "M. Predenkiewicz",
          "L.Perea",
          "E.Espiau"
         ],
         "y": {
          "bdata": "UrgehetRGUCuR+F6FK4WQKRwPQrXowJASOF6FK5H9T8AAAAAAADwP3E9CtejcOU/cT0K16Nw5T9xPQrXo3DlPwAAAAAAAPh/AAAAAAAA+H8AAAAAAAD4fwAAAAAAAPh/AAAAAAAA+H8AAAAAAAD4fwAAAAAAAPh/AAAAAAAA+H8AAAAAAAD4fwAAAAAAAPh/AAAAAAAA+H8=",
          "dtype": "f8"
         }
        },
        {
         "name": "Tackles",
         "type": "bar",
         "x": [
          "M. Navarro",
          "A. Sidibe",
          "A. Nguiamba",
          "D. Zator",
          "K. Jakubczyk",
          "D. Kocyla",
          "S. Kerk",
          "D. Abramowicz",
          "J. Oliveira",
          "D.Percan",
          "M. Marcjanik",
          "H. Vitalucci",
          "J. Celestine",
          "S. Sobczak",
          "D. Weglarz",
          "T. Gaprindashvili",
          "M. Predenkiewicz",
          "L.Perea",
          "E.Espiau"
         ],
         "y": {
          "bdata": "pHA9CtejAkCkcD0K16MCQEjhehSuR/U/SOF6FK5H9T9I4XoUrkf1P0jhehSuR/U/cT0K16Nw5T8fhetRuB7VPx+F61G4HtU/H4XrUbge1T8fhetRuB7VPx+F61G4HtU/H4XrUbge1T8fhetRuB7VPwAAAAAAAPh/AAAAAAAA+H8AAAAAAAD4fwAAAAAAAPh/AAAAAAAA+H8=",
          "dtype": "f8"
         }
        },
        {
         "name": "Total_Shots",
         "type": "bar",
         "x": [
          "S. Kerk",
          "D. Abramowicz",
          "J. Oliveira",
          "D. Kocyla",
          "T. Gaprindashvili",
          "M. Marcjanik",
          "J. Celestine",
          "D.Percan",
          "H. Vitalucci",
          "M. Predenkiewicz",
          "A. Nguiamba",
          "D. Zator",
          "K. Jakubczyk",
          "D. Weglarz",
          "M. Navarro",
          "A. Sidibe",
          "S. Sobczak",
          "L.Perea",
          "E.Espiau"
         ],
         "y": {
          "bdata": "AAAAAAAAAEBI4XoUrkf1PwAAAAAAAPA/AAAAAAAA8D9xPQrXo3DlP3E9CtejcOU/cT0K16Nw5T8fhetRuB7VPx+F61G4HtU/H4XrUbge1T8AAAAAAAD4fwAAAAAAAPh/AAAAAAAA+H8AAAAAAAD4fwAAAAAAAPh/AAAAAAAA+H8AAAAAAAD4fwAAAAAAAPh/AAAAAAAA+H8=",
          "dtype": "f8"
         }
        },
        {
         "name": "Shots_on_Target",
         "type": "bar",
         "x": [
          "S. Kerk",
          "J. Oliveira",
          "D. Abramowicz",
          "M. Marcjanik",
          "S. Sobczak",
          "A. Nguiamba",
          "D. Zator",
          "K. Jakubczyk",
          "D. Kocyla",
          "D. Weglarz",
          "M. Navarro",
          "T. Gaprindashvili",
          "D.Percan",
          "A. Sidibe",
          "H. Vitalucci",
          "J. Celestine",
          "M. Predenkiewicz",
          "L.Perea",
          "E.Espiau"
         ],
         "y": {
          "bdata": "cT0K16Nw5T9xPQrXo3DlPx+F61G4HtU/H4XrUbge1T8fhetRuB7VPwAAAAAAAPh/AAAAAAAA+H8AAAAAAAD4fwAAAAAAAPh/AAAAAAAA+H8AAAAAAAD4fwAAAAAAAPh/AAAAAAAA+H8AAAAAAAD4fwAAAAAAAPh/AAAAAAAA+H8AAAAAAAD4fwAAAAAAAPh/AAAAAAAA+H8=",
          "dtype": "f8"
         }
        },
        {
         "name": "Blocked_Shots",
         "type": "bar",
         "x": [
          "S. Kerk",
          "D. Kocyla",
          "M. Marcjanik",
          "H. Vitalucci",
          "J. Celestine",
          "D. Abramowicz",
          "J. Oliveira",
          "A. Nguiamba",
          "D. Zator",
          "K. Jakubczyk",
          "D. Weglarz",
          "M. Navarro",
          "T. Gaprindashvili",
          "D.Percan",
          "A. Sidibe",
          "S. Sobczak",
          "M. Predenkiewicz",
          "L.Perea",
          "E.Espiau"
         ],
         "y": {
          "bdata": "cT0K16Nw5T9xPQrXo3DlP3E9CtejcOU/H4XrUbge1T8fhetRuB7VPwAAAAAAAPh/AAAAAAAA+H8AAAAAAAD4fwAAAAAAAPh/AAAAAAAA+H8AAAAAAAD4fwAAAAAAAPh/AAAAAAAA+H8AAAAAAAD4fwAAAAAAAPh/AAAAAAAA+H8AAAAAAAD4fwAAAAAAAPh/AAAAAAAA+H8=",
          "dtype": "f8"
         }
        },
        {
         "name": "Yellow_Cards",
         "type": "bar",
         "x": [
          "T. Gaprindashvili",
          "K. Jakubczyk",
          "M. Navarro",
          "M. Marcjanik",
          "A. Sidibe",
          "J. Celestine",
          "L.Perea",
          "D. Abramowicz",
          "S. Kerk",
          "J. Oliveira",
          "A. Nguiamba",
          "D. Zator",
          "D. Kocyla",
          "D. Weglarz",
          "D.Percan",
          "H. Vitalucci",
          "S. Sobczak",
          "M. Predenkiewicz",
          "E.Espiau"
         ],
         "y": {
          "bdata": "cT0K16Nw5T8fhetRuB7VPx+F61G4HtU/H4XrUbge1T8fhetRuB7VPx+F61G4HtU/H4XrUbge1T8AAAAAAAD4fwAAAAAAAPh/AAAAAAAA+H8AAAAAAAD4fwAAAAAAAPh/AAAAAAAA+H8AAAAAAAD4fwAAAAAAAPh/AAAAAAAA+H8AAAAAAAD4fwAAAAAAAPh/AAAAAAAA+H8=",
          "dtype": "f8"
         }
        },
        {
         "name": "Red_Cards",
         "type": "bar",
         "x": [
          "D. Abramowicz",
          "S. Kerk",
          "J. Oliveira",
          "A. Nguiamba",
          "D. Zator",
          "K. Jakubczyk",
          "D. Kocyla",
          "D. Weglarz",
          "M. Navarro",
          "T. Gaprindashvili",
          "D.Percan",
          "M. Marcjanik",
          "A. Sidibe",
          "H. Vitalucci",
          "J. Celestine",
          "S. Sobczak",
          "M. Predenkiewicz",
          "L.Perea",
          "E.Espiau"
         ],
         "y": {
          "bdata": "AAAAAAAA+H8AAAAAAAD4fwAAAAAAAPh/AAAAAAAA+H8AAAAAAAD4fwAAAAAAAPh/AAAAAAAA+H8AAAAAAAD4fwAAAAAAAPh/AAAAAAAA+H8AAAAAAAD4fwAAAAAAAPh/AAAAAAAA+H8AAAAAAAD4fwAAAAAAAPh/AAAAAAAA+H8AAAAAAAD4fwAAAAAAAPh/AAAAAAAA+H8=",
          "dtype": "f8"
         }
        },
        {
         "name": "Fouls_Drawn",
         "type": "bar",
         "x": [
          "D. Kocyla",
          "K. Jakubczyk",
          "A. Sidibe",
          "J. Oliveira",
          "D.Percan",
          "D. Abramowicz",
          "S. Kerk",
          "M. Navarro",
          "M. Predenkiewicz",
          "A. Nguiamba",
          "D. Zator",
          "D. Weglarz",
          "T. Gaprindashvili",
          "M. Marcjanik",
          "S. Sobczak",
          "H. Vitalucci",
          "J. Celestine",
          "L.Perea",
          "E.Espiau"
         ],
         "y": {
          "bdata": "AAAAAAAACEAAAAAAAAAAQLgehetRuPo/SOF6FK5H9T8AAAAAAADwP3E9CtejcOU/cT0K16Nw5T9xPQrXo3DlP3E9CtejcOU/H4XrUbge1T8fhetRuB7VPx+F61G4HtU/H4XrUbge1T8fhetRuB7VPx+F61G4HtU/AAAAAAAA+H8AAAAAAAD4fwAAAAAAAPh/AAAAAAAA+H8=",
          "dtype": "f8"
         }
        },
        {
         "name": "Fouls_Committed",
         "type": "bar",
         "x": [
          "K. Jakubczyk",
          "A. Sidibe",
          "J. Celestine",
          "S. Sobczak",
          "M. Predenkiewicz",
          "M. Navarro",
          "T. Gaprindashvili",
          "S. Kerk",
          "D.Percan",
          "M. Marcjanik",
          "L.Perea",
          "D. Abramowicz",
          "A. Nguiamba",
          "H. Vitalucci",
          "J. Oliveira",
          "D. Zator",
          "D. Kocyla",
          "D. Weglarz",
          "E.Espiau"
         ],
         "y": {
          "bdata": "AAAAAAAAAEC4HoXrUbj6P0jhehSuR/U/SOF6FK5H9T9I4XoUrkf1PwAAAAAAAPA/AAAAAAAA8D9xPQrXo3DlP3E9CtejcOU/cT0K16Nw5T9xPQrXo3DlPx+F61G4HtU/H4XrUbge1T8fhetRuB7VPwAAAAAAAPh/AAAAAAAA+H8AAAAAAAD4fwAAAAAAAPh/AAAAAAAA+H8=",
          "dtype": "f8"
         }
        },
        {
         "name": "Clearances",
         "type": "bar",
         "x": [
          "J. Celestine",
          "D. Abramowicz",
          "M. Marcjanik",
          "M. Navarro",
          "A. Sidibe",
          "S. Kerk",
          "K. Jakubczyk",
          "D. Weglarz",
          "D. Zator",
          "A. Nguiamba",
          "D. Kocyla",
          "S. Sobczak",
          "M. Predenkiewicz",
          "L.Perea",
          "T. Gaprindashvili",
          "E.Espiau",
          "J. Oliveira",
          "D.Percan",
          "H. Vitalucci"
         ],
         "y": {
          "bdata": "AAAAAAAAIECuR+F6FK4eQAAAAAAAABxAUrgehetRFUBcj8L1KFwFQLgehetRuPo/SOF6FK5H9T9I4XoUrkf1PwAAAAAAAPA/cT0K16Nw5T9xPQrXo3DlP3E9CtejcOU/cT0K16Nw5T9xPQrXo3DlPx+F61G4HtU/H4XrUbge1T8AAAAAAAD4fwAAAAAAAPh/AAAAAAAA+H8=",
          "dtype": "f8"
         }
        },
        {
         "name": "Saves",
         "type": "bar",
         "x": [
          "D. Weglarz",
          "D. Abramowicz",
          "S. Kerk",
          "J. Oliveira",
          "A. Nguiamba",
          "D. Zator",
          "K. Jakubczyk",
          "D. Kocyla",
          "M. Navarro",
          "T. Gaprindashvili",
          "D.Percan",
          "M. Marcjanik",
          "A. Sidibe",
          "H. Vitalucci",
          "J. Celestine",
          "S. Sobczak",
          "M. Predenkiewicz",
          "L.Perea",
          "E.Espiau"
         ],
         "y": {
          "bdata": "XI/C9ShcBUAAAAAAAAD4fwAAAAAAAPh/AAAAAAAA+H8AAAAAAAD4fwAAAAAAAPh/AAAAAAAA+H8AAAAAAAD4fwAAAAAAAPh/AAAAAAAA+H8AAAAAAAD4fwAAAAAAAPh/AAAAAAAA+H8AAAAAAAD4fwAAAAAAAPh/AAAAAAAA+H8AAAAAAAD4fwAAAAAAAPh/AAAAAAAA+H8=",
          "dtype": "f8"
         }
        }
       ],
       "layout": {
        "barmode": "group",
        "template": {
         "data": {
          "bar": [
           {
            "error_x": {
             "color": "#2a3f5f"
            },
            "error_y": {
             "color": "#2a3f5f"
            },
            "marker": {
             "line": {
              "color": "#E5ECF6",
              "width": 0.5
             },
             "pattern": {
              "fillmode": "overlay",
              "size": 10,
              "solidity": 0.2
             }
            },
            "type": "bar"
           }
          ],
          "barpolar": [
           {
            "marker": {
             "line": {
              "color": "#E5ECF6",
              "width": 0.5
             },
             "pattern": {
              "fillmode": "overlay",
              "size": 10,
              "solidity": 0.2
             }
            },
            "type": "barpolar"
           }
          ],
          "carpet": [
           {
            "aaxis": {
             "endlinecolor": "#2a3f5f",
             "gridcolor": "white",
             "linecolor": "white",
             "minorgridcolor": "white",
             "startlinecolor": "#2a3f5f"
            },
            "baxis": {
             "endlinecolor": "#2a3f5f",
             "gridcolor": "white",
             "linecolor": "white",
             "minorgridcolor": "white",
             "startlinecolor": "#2a3f5f"
            },
            "type": "carpet"
           }
          ],
          "choropleth": [
           {
            "colorbar": {
             "outlinewidth": 0,
             "ticks": ""
            },
            "type": "choropleth"
           }
          ],
          "contour": [
           {
            "colorbar": {
             "outlinewidth": 0,
             "ticks": ""
            },
            "colorscale": [
             [
              0,
              "#0d0887"
             ],
             [
              0.1111111111111111,
              "#46039f"
             ],
             [
              0.2222222222222222,
              "#7201a8"
             ],
             [
              0.3333333333333333,
              "#9c179e"
             ],
             [
              0.4444444444444444,
              "#bd3786"
             ],
             [
              0.5555555555555556,
              "#d8576b"
             ],
             [
              0.6666666666666666,
              "#ed7953"
             ],
             [
              0.7777777777777778,
              "#fb9f3a"
             ],
             [
              0.8888888888888888,
              "#fdca26"
             ],
             [
              1,
              "#f0f921"
             ]
            ],
            "type": "contour"
           }
          ],
          "contourcarpet": [
           {
            "colorbar": {
             "outlinewidth": 0,
             "ticks": ""
            },
            "type": "contourcarpet"
           }
          ],
          "heatmap": [
           {
            "colorbar": {
             "outlinewidth": 0,
             "ticks": ""
            },
            "colorscale": [
             [
              0,
              "#0d0887"
             ],
             [
              0.1111111111111111,
              "#46039f"
             ],
             [
              0.2222222222222222,
              "#7201a8"
             ],
             [
              0.3333333333333333,
              "#9c179e"
             ],
             [
              0.4444444444444444,
              "#bd3786"
             ],
             [
              0.5555555555555556,
              "#d8576b"
             ],
             [
              0.6666666666666666,
              "#ed7953"
             ],
             [
              0.7777777777777778,
              "#fb9f3a"
             ],
             [
              0.8888888888888888,
              "#fdca26"
             ],
             [
              1,
              "#f0f921"
             ]
            ],
            "type": "heatmap"
           }
          ],
          "histogram": [
           {
            "marker": {
             "pattern": {
              "fillmode": "overlay",
              "size": 10,
              "solidity": 0.2
             }
            },
            "type": "histogram"
           }
          ],
          "histogram2d": [
           {
            "colorbar": {
             "outlinewidth": 0,
             "ticks": ""
            },
            "colorscale": [
             [
              0,
              "#0d0887"
             ],
             [
              0.1111111111111111,
              "#46039f"
             ],
             [
              0.2222222222222222,
              "#7201a8"
             ],
             [
              0.3333333333333333,
              "#9c179e"
             ],
             [
              0.4444444444444444,
              "#bd3786"
             ],
             [
              0.5555555555555556,
              "#d8576b"
             ],
             [
              0.6666666666666666,
              "#ed7953"
             ],
             [
              0.7777777777777778,
              "#fb9f3a"
             ],
             [
              0.8888888888888888,
              "#fdca26"
             ],
             [
              1,
              "#f0f921"
             ]
            ],
            "type": "histogram2d"
           }
          ],
          "histogram2dcontour": [
           {
            "colorbar": {
             "outlinewidth": 0,
             "ticks": ""
            },
            "colorscale": [
             [
              0,
              "#0d0887"
             ],
             [
              0.1111111111111111,
              "#46039f"
             ],
             [
              0.2222222222222222,
              "#7201a8"
             ],
             [
              0.3333333333333333,
              "#9c179e"
             ],
             [
              0.4444444444444444,
              "#bd3786"
             ],
             [
              0.5555555555555556,
              "#d8576b"
             ],
             [
              0.6666666666666666,
              "#ed7953"
             ],
             [
              0.7777777777777778,
              "#fb9f3a"
             ],
             [
              0.8888888888888888,
              "#fdca26"
             ],
             [
              1,
              "#f0f921"
             ]
            ],
            "type": "histogram2dcontour"
           }
          ],
          "mesh3d": [
           {
            "colorbar": {
             "outlinewidth": 0,
             "ticks": ""
            },
            "type": "mesh3d"
           }
          ],
          "parcoords": [
           {
            "line": {
             "colorbar": {
              "outlinewidth": 0,
              "ticks": ""
             }
            },
            "type": "parcoords"
           }
          ],
          "pie": [
           {
            "automargin": true,
            "type": "pie"
           }
          ],
          "scatter": [
           {
            "fillpattern": {
             "fillmode": "overlay",
             "size": 10,
             "solidity": 0.2
            },
            "type": "scatter"
           }
          ],
          "scatter3d": [
           {
            "line": {
             "colorbar": {
              "outlinewidth": 0,
              "ticks": ""
             }
            },
            "marker": {
             "colorbar": {
              "outlinewidth": 0,
              "ticks": ""
             }
            },
            "type": "scatter3d"
           }
          ],
          "scattercarpet": [
           {
            "marker": {
             "colorbar": {
              "outlinewidth": 0,
              "ticks": ""
             }
            },
            "type": "scattercarpet"
           }
          ],
          "scattergeo": [
           {
            "marker": {
             "colorbar": {
              "outlinewidth": 0,
              "ticks": ""
             }
            },
            "type": "scattergeo"
           }
          ],
          "scattergl": [
           {
            "marker": {
             "colorbar": {
              "outlinewidth": 0,
              "ticks": ""
             }
            },
            "type": "scattergl"
           }
          ],
          "scattermap": [
           {
            "marker": {
             "colorbar": {
              "outlinewidth": 0,
              "ticks": ""
             }
            },
            "type": "scattermap"
           }
          ],
          "scattermapbox": [
           {
            "marker": {
             "colorbar": {
              "outlinewidth": 0,
              "ticks": ""
             }
            },
            "type": "scattermapbox"
           }
          ],
          "scatterpolar": [
           {
            "marker": {
             "colorbar": {
              "outlinewidth": 0,
              "ticks": ""
             }
            },
            "type": "scatterpolar"
           }
          ],
          "scatterpolargl": [
           {
            "marker": {
             "colorbar": {
              "outlinewidth": 0,
              "ticks": ""
             }
            },
            "type": "scatterpolargl"
           }
          ],
          "scatterternary": [
           {
            "marker": {
             "colorbar": {
              "outlinewidth": 0,
              "ticks": ""
             }
            },
            "type": "scatterternary"
           }
          ],
          "surface": [
           {
            "colorbar": {
             "outlinewidth": 0,
             "ticks": ""
            },
            "colorscale": [
             [
              0,
              "#0d0887"
             ],
             [
              0.1111111111111111,
              "#46039f"
             ],
             [
              0.2222222222222222,
              "#7201a8"
             ],
             [
              0.3333333333333333,
              "#9c179e"
             ],
             [
              0.4444444444444444,
              "#bd3786"
             ],
             [
              0.5555555555555556,
              "#d8576b"
             ],
             [
              0.6666666666666666,
              "#ed7953"
             ],
             [
              0.7777777777777778,
              "#fb9f3a"
             ],
             [
              0.8888888888888888,
              "#fdca26"
             ],
             [
              1,
              "#f0f921"
             ]
            ],
            "type": "surface"
           }
          ],
          "table": [
           {
            "cells": {
             "fill": {
              "color": "#EBF0F8"
             },
             "line": {
              "color": "white"
             }
            },
            "header": {
             "fill": {
              "color": "#C8D4E3"
             },
             "line": {
              "color": "white"
             }
            },
            "type": "table"
           }
          ]
         },
         "layout": {
          "annotationdefaults": {
           "arrowcolor": "#2a3f5f",
           "arrowhead": 0,
           "arrowwidth": 1
          },
          "autotypenumbers": "strict",
          "coloraxis": {
           "colorbar": {
            "outlinewidth": 0,
            "ticks": ""
           }
          },
          "colorscale": {
           "diverging": [
            [
             0,
             "#8e0152"
            ],
            [
             0.1,
             "#c51b7d"
            ],
            [
             0.2,
             "#de77ae"
            ],
            [
             0.3,
             "#f1b6da"
            ],
            [
             0.4,
             "#fde0ef"
            ],
            [
             0.5,
             "#f7f7f7"
            ],
            [
             0.6,
             "#e6f5d0"
            ],
            [
             0.7,
             "#b8e186"
            ],
            [
             0.8,
             "#7fbc41"
            ],
            [
             0.9,
             "#4d9221"
            ],
            [
             1,
             "#276419"
            ]
           ],
           "sequential": [
            [
             0,
             "#0d0887"
            ],
            [
             0.1111111111111111,
             "#46039f"
            ],
            [
             0.2222222222222222,
             "#7201a8"
            ],
            [
             0.3333333333333333,
             "#9c179e"
            ],
            [
             0.4444444444444444,
             "#bd3786"
            ],
            [
             0.5555555555555556,
             "#d8576b"
            ],
            [
             0.6666666666666666,
             "#ed7953"
            ],
            [
             0.7777777777777778,
             "#fb9f3a"
            ],
            [
             0.8888888888888888,
             "#fdca26"
            ],
            [
             1,
             "#f0f921"
            ]
           ],
           "sequentialminus": [
            [
             0,
             "#0d0887"
            ],
            [
             0.1111111111111111,
             "#46039f"
            ],
            [
             0.2222222222222222,
             "#7201a8"
            ],
            [
             0.3333333333333333,
             "#9c179e"
            ],
            [
             0.4444444444444444,
             "#bd3786"
            ],
            [
             0.5555555555555556,
             "#d8576b"
            ],
            [
             0.6666666666666666,
             "#ed7953"
            ],
            [
             0.7777777777777778,
             "#fb9f3a"
            ],
            [
             0.8888888888888888,
             "#fdca26"
            ],
            [
             1,
             "#f0f921"
            ]
           ]
          },
          "colorway": [
           "#636efa",
           "#EF553B",
           "#00cc96",
           "#ab63fa",
           "#FFA15A",
           "#19d3f3",
           "#FF6692",
           "#B6E880",
           "#FF97FF",
           "#FECB52"
          ],
          "font": {
           "color": "#2a3f5f"
          },
          "geo": {
           "bgcolor": "white",
           "lakecolor": "white",
           "landcolor": "#E5ECF6",
           "showlakes": true,
           "showland": true,
           "subunitcolor": "white"
          },
          "hoverlabel": {
           "align": "left"
          },
          "hovermode": "closest",
          "mapbox": {
           "style": "light"
          },
          "paper_bgcolor": "white",
          "plot_bgcolor": "#E5ECF6",
          "polar": {
           "angularaxis": {
            "gridcolor": "white",
            "linecolor": "white",
            "ticks": ""
           },
           "bgcolor": "#E5ECF6",
           "radialaxis": {
            "gridcolor": "white",
            "linecolor": "white",
            "ticks": ""
           }
          },
          "scene": {
           "xaxis": {
            "backgroundcolor": "#E5ECF6",
            "gridcolor": "white",
            "gridwidth": 2,
            "linecolor": "white",
            "showbackground": true,
            "ticks": "",
            "zerolinecolor": "white"
           },
           "yaxis": {
            "backgroundcolor": "#E5ECF6",
            "gridcolor": "white",
            "gridwidth": 2,
            "linecolor": "white",
            "showbackground": true,
            "ticks": "",
            "zerolinecolor": "white"
           },
           "zaxis": {
            "backgroundcolor": "#E5ECF6",
            "gridcolor": "white",
            "gridwidth": 2,
            "linecolor": "white",
            "showbackground": true,
            "ticks": "",
            "zerolinecolor": "white"
           }
          },
          "shapedefaults": {
           "line": {
            "color": "#2a3f5f"
           }
          },
          "ternary": {
           "aaxis": {
            "gridcolor": "white",
            "linecolor": "white",
            "ticks": ""
           },
           "baxis": {
            "gridcolor": "white",
            "linecolor": "white",
            "ticks": ""
           },
           "bgcolor": "#E5ECF6",
           "caxis": {
            "gridcolor": "white",
            "linecolor": "white",
            "ticks": ""
           }
          },
          "title": {
           "x": 0.05
          },
          "xaxis": {
           "automargin": true,
           "gridcolor": "white",
           "linecolor": "white",
           "ticks": "",
           "title": {
            "standoff": 15
           },
           "zerolinecolor": "white",
           "zerolinewidth": 2
          },
          "yaxis": {
           "automargin": true,
           "gridcolor": "white",
           "linecolor": "white",
           "ticks": "",
           "title": {
            "standoff": 15
           },
           "zerolinecolor": "white",
           "zerolinewidth": 2
          }
         }
        },
        "title": {
         "text": "Arka Match Stats"
        },
        "updatemenus": [
         {
          "active": 0,
          "buttons": [
           {
            "args": [
             {
              "visible": [
               false,
               false,
               false,
               false,
               false,
               false,
               false,
               false,
               false,
               false,
               false,
               false,
               false,
               false,
               false,
               false,
               false,
               false,
               false
              ]
             },
             {
              "title": "Arka Match Stats: None"
             }
            ],
            "label": "None",
            "method": "update"
           },
           {
            "args": [
             {
              "visible": [
               true,
               false,
               false,
               false,
               false,
               false,
               false,
               false,
               false,
               false,
               false,
               false,
               false,
               false,
               false,
               false,
               false,
               false,
               false
              ]
             },
             {
              "title": "Arka Match Stats: AVG Rating"
             }
            ],
            "label": "AVG Rating",
            "method": "update"
           },
           {
            "args": [
             {
              "visible": [
               false,
               true,
               false,
               false,
               false,
               false,
               false,
               false,
               false,
               false,
               false,
               false,
               false,
               false,
               false,
               false,
               false,
               false,
               false
              ]
             },
             {
              "title": "Arka Match Stats: Minutes"
             }
            ],
            "label": "Minutes",
            "method": "update"
           },
           {
            "args": [
             {
              "visible": [
               false,
               false,
               false,
               false,
               false,
               true,
               true,
               true,
               true,
               false,
               false,
               false,
               false,
               false,
               false,
               false,
               false,
               false,
               false
              ]
             },
             {
              "title": "Arka Match Stats: Passes"
             }
            ],
            "label": "Passes",
            "method": "update"
           },
           {
            "args": [
             {
              "visible": [
               false,
               false,
               true,
               true,
               false,
               false,
               false,
               false,
               false,
               false,
               true,
               true,
               false,
               false,
               false,
               false,
               false,
               false,
               false
              ]
             },
             {
              "title": "Arka Match Stats: Attack"
             }
            ],
            "label": "Attack",
            "method": "update"
           },
           {
            "args": [
             {
              "visible": [
               false,
               false,
               false,
               false,
               false,
               false,
               false,
               false,
               false,
               true,
               false,
               false,
               false,
               false,
               false,
               true,
               true,
               false,
               true
              ]
             },
             {
              "title": "Arka Match Stats: Defense"
             }
            ],
            "label": "Defense",
            "method": "update"
           },
           {
            "args": [
             {
              "visible": [
               false,
               false,
               false,
               false,
               false,
               false,
               false,
               false,
               false,
               false,
               false,
               false,
               false,
               true,
               true,
               false,
               false,
               false,
               false
              ]
             },
             {
              "title": "Arka Match Stats: Cards"
             }
            ],
            "label": "Cards",
            "method": "update"
           },
           {
            "args": [
             {
              "visible": [
               true,
               true,
               true,
               true,
               true,
               true,
               true,
               true,
               true,
               true,
               true,
               true,
               true,
               true,
               true,
               true,
               true,
               true,
               true
              ]
             },
             {
              "title": "Arka Match Stats: All"
             }
            ],
            "label": "All",
            "method": "update"
           }
          ],
          "x": 1.1,
          "y": 1.15
         }
        ],
        "xaxis": {
         "title": {
          "text": "Match"
         }
        },
        "yaxis": {
         "title": {
          "text": "Value"
         }
        }
       }
      }
     },
     "metadata": {},
     "output_type": "display_data"
    }
   ],
   "source": [
    "# Create the figure\n",
    "from torch import layout\n",
    "\n",
    "\n",
    "fig = go.Figure()\n",
    "\n",
    "# List of metrics to plot\n",
    "metrics = ['Ratings', 'Minutes', 'Goals', 'Assists', 'Offsides', 'Passes',\n",
    "       'Accurate_Passes', 'Accurate_Passes_%', 'Crosses', 'Tackles',\n",
    "       'Total_Shots', 'Shots_on_Target', 'Blocked_Shots', 'Yellow_Cards',\n",
    "       'Red_Cards', 'Fouls_Drawn', 'Fouls_Committed', 'Clearances', 'Saves']\n",
    "\n",
    "# Add traces for each metric\n",
    "for metric in metrics:\n",
    "    filtered_data = data[data[metrics] >  0]\n",
    "    sorted_df = filtered_data.sort_values(by=metric, ascending=False)\n",
    "    \n",
    "    fig.add_trace(go.Bar(x=sorted_df.index, y=sorted_df[metric], name=metric))\n",
    "\n",
    "\n",
    "# Define visibility matrix\n",
    "n = len(metrics)\n",
    "visibility_matrix = {\n",
    "    \"None\": [False] * n,\n",
    "    \"AVG Rating\": [metric in ['Ratings'] for metric in metrics],\n",
    "    \"Minutes\": [metric in ['Minutes'] for metric in metrics],\n",
    "    \"Passes\": [metric in ['Passes', 'Accurate_Passes', 'Accurate_Passes_%', 'Crosses'] for metric in metrics],\n",
    "    \"Attack\": [metric in ['Goals', 'Assists', 'Total_Shots', 'Shots_on_Target', 'Shots_Inside_Box', 'Shots_Outside_Box'] for metric in metrics],\n",
    "    \"Defense\": [metric in ['Tackles', 'Fouls_Drawn', 'Fouls_Committed', 'Saves'] for metric in metrics],\n",
    "    \"Cards\": [metric in ['Yellow_Cards', 'Red_Cards'] for metric in metrics],\n",
    "    \"All\": [True] * n\n",
    "}\n",
    "\n",
    "# Create buttons\n",
    "buttons = [\n",
    "    dict(label=label,\n",
    "         method=\"update\",\n",
    "         args=[{\"visible\": visibility},\n",
    "               {\"title\": f\"Arka Match Stats: {label}\"}])\n",
    "    for label, visibility in visibility_matrix.items()\n",
    "]\n",
    "\n",
    "# Add dropdown to figure\n",
    "fig.update_layout(\n",
    "    updatemenus=[dict(\n",
    "        active=0,\n",
    "        buttons=buttons,\n",
    "        x=1.1,\n",
    "        y=1.15\n",
    "    )],\n",
    "    title=\"Arka Match Stats\",\n",
    "    xaxis_title=\"Match\",\n",
    "    yaxis_title=\"Value\",\n",
    "    barmode='group'\n",
    ")\n",
    "\n",
    "fig.show()\n",
    "fig.write_html(\"arka_stats_players.html\")"
   ]
  },
  {
   "cell_type": "code",
   "execution_count": null,
   "id": "1142f112",
   "metadata": {},
   "outputs": [],
   "source": []
  }
 ],
 "metadata": {
  "kernelspec": {
   "display_name": "DataScience",
   "language": "python",
   "name": "python3"
  },
  "language_info": {
   "codemirror_mode": {
    "name": "ipython",
    "version": 3
   },
   "file_extension": ".py",
   "mimetype": "text/x-python",
   "name": "python",
   "nbconvert_exporter": "python",
   "pygments_lexer": "ipython3",
   "version": "3.10.13"
  }
 },
 "nbformat": 4,
 "nbformat_minor": 5
}
