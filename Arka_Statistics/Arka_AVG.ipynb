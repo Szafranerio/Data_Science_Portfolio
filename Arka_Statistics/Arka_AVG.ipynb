{
 "cells": [
  {
   "cell_type": "code",
   "execution_count": 1,
   "id": "3c5ca929",
   "metadata": {},
   "outputs": [],
   "source": [
    "import pandas as pd\n",
    "import matplotlib.pyplot as plt\n",
    "import seaborn\n",
    "import numpy as np\n",
    "import plotly.graph_objects as go"
   ]
  },
  {
   "cell_type": "code",
   "execution_count": 2,
   "id": "a8292c45",
   "metadata": {},
   "outputs": [
    {
     "data": {
      "application/vnd.microsoft.datawrangler.viewer.v0+json": {
       "columns": [
        {
         "name": "index",
         "rawType": "int64",
         "type": "integer"
        },
        {
         "name": "Players",
         "rawType": "object",
         "type": "string"
        },
        {
         "name": "Ratings",
         "rawType": "object",
         "type": "string"
        },
        {
         "name": "Minutes",
         "rawType": "object",
         "type": "string"
        },
        {
         "name": "Goals",
         "rawType": "object",
         "type": "string"
        },
        {
         "name": "Assists",
         "rawType": "object",
         "type": "string"
        },
        {
         "name": "Offsides",
         "rawType": "object",
         "type": "string"
        },
        {
         "name": "Passes",
         "rawType": "object",
         "type": "string"
        },
        {
         "name": "Accurate_Passes",
         "rawType": "object",
         "type": "string"
        },
        {
         "name": "Accurate_Passes_%",
         "rawType": "object",
         "type": "string"
        },
        {
         "name": "Crosses",
         "rawType": "object",
         "type": "string"
        },
        {
         "name": "Tackles",
         "rawType": "object",
         "type": "string"
        },
        {
         "name": "Total_Shots",
         "rawType": "object",
         "type": "string"
        },
        {
         "name": "Shots_on_Target",
         "rawType": "object",
         "type": "string"
        },
        {
         "name": "Blocked_Shots",
         "rawType": "object",
         "type": "string"
        },
        {
         "name": "Yellow_Cards",
         "rawType": "object",
         "type": "string"
        },
        {
         "name": "Red_Cards",
         "rawType": "object",
         "type": "string"
        },
        {
         "name": "Fouls_Committed",
         "rawType": "object",
         "type": "string"
        },
        {
         "name": "Clearances",
         "rawType": "object",
         "type": "string"
        },
        {
         "name": "Saves",
         "rawType": "object",
         "type": "string"
        }
       ],
       "ref": "658c29b0-fdb2-4504-baf1-8670b05e60f6",
       "rows": [
        [
         "0",
         "D. Abramowicz",
         "7,10",
         "90,00",
         "0,20",
         "0,20",
         "0,40",
         "28,00",
         "21,60",
         "76,99",
         "1,80",
         "0,40",
         "1,20",
         "0,20",
         "0,00",
         "0,20",
         "0,00",
         "1,00",
         "5,40",
         "0,00"
        ],
        [
         "1",
         "S. Kerk",
         "7,02",
         "80,40",
         "0,20",
         "0,20",
         "0,00",
         "25,20",
         "18,40",
         "71,37",
         "6,60",
         "0,80",
         "1,60",
         "0,60",
         "0,40",
         "0,00",
         "0,00",
         "0,60",
         "1,40",
         "0,00"
        ],
        [
         "2",
         "J. Oliveira",
         "6,66",
         "34,60",
         "0,00",
         "0,00",
         "0,40",
         "7,20",
         "5,60",
         "61,33",
         "1,00",
         "0,40",
         "0,80",
         "0,60",
         "0,00",
         "0,00",
         "0,00",
         "0,00",
         "0,00",
         "0,00"
        ],
        [
         "3",
         "A. Nguiamba",
         "5,43",
         "24,20",
         "0,00",
         "0,00",
         "0,00",
         "11,40",
         "9,40",
         "62,78",
         "0,20",
         "1,60",
         "0,00",
         "0,00",
         "0,00",
         "0,00",
         "0,00",
         "0,20",
         "0,40",
         "0,00"
        ],
        [
         "4",
         "D. Zator",
         "2,72",
         "13,20",
         "0,00",
         "0,00",
         "0,00",
         "7,40",
         "5,60",
         "29,68",
         "0,60",
         "0,80",
         "0,00",
         "0,00",
         "0,00",
         "0,00",
         "0,00",
         "0,00",
         "0,60",
         "0,00"
        ]
       ],
       "shape": {
        "columns": 19,
        "rows": 5
       }
      },
      "text/html": [
       "<div>\n",
       "<style scoped>\n",
       "    .dataframe tbody tr th:only-of-type {\n",
       "        vertical-align: middle;\n",
       "    }\n",
       "\n",
       "    .dataframe tbody tr th {\n",
       "        vertical-align: top;\n",
       "    }\n",
       "\n",
       "    .dataframe thead th {\n",
       "        text-align: right;\n",
       "    }\n",
       "</style>\n",
       "<table border=\"1\" class=\"dataframe\">\n",
       "  <thead>\n",
       "    <tr style=\"text-align: right;\">\n",
       "      <th></th>\n",
       "      <th>Players</th>\n",
       "      <th>Ratings</th>\n",
       "      <th>Minutes</th>\n",
       "      <th>Goals</th>\n",
       "      <th>Assists</th>\n",
       "      <th>Offsides</th>\n",
       "      <th>Passes</th>\n",
       "      <th>Accurate_Passes</th>\n",
       "      <th>Accurate_Passes_%</th>\n",
       "      <th>Crosses</th>\n",
       "      <th>Tackles</th>\n",
       "      <th>Total_Shots</th>\n",
       "      <th>Shots_on_Target</th>\n",
       "      <th>Blocked_Shots</th>\n",
       "      <th>Yellow_Cards</th>\n",
       "      <th>Red_Cards</th>\n",
       "      <th>Fouls_Committed</th>\n",
       "      <th>Clearances</th>\n",
       "      <th>Saves</th>\n",
       "    </tr>\n",
       "  </thead>\n",
       "  <tbody>\n",
       "    <tr>\n",
       "      <th>0</th>\n",
       "      <td>D. Abramowicz</td>\n",
       "      <td>7,10</td>\n",
       "      <td>90,00</td>\n",
       "      <td>0,20</td>\n",
       "      <td>0,20</td>\n",
       "      <td>0,40</td>\n",
       "      <td>28,00</td>\n",
       "      <td>21,60</td>\n",
       "      <td>76,99</td>\n",
       "      <td>1,80</td>\n",
       "      <td>0,40</td>\n",
       "      <td>1,20</td>\n",
       "      <td>0,20</td>\n",
       "      <td>0,00</td>\n",
       "      <td>0,20</td>\n",
       "      <td>0,00</td>\n",
       "      <td>1,00</td>\n",
       "      <td>5,40</td>\n",
       "      <td>0,00</td>\n",
       "    </tr>\n",
       "    <tr>\n",
       "      <th>1</th>\n",
       "      <td>S. Kerk</td>\n",
       "      <td>7,02</td>\n",
       "      <td>80,40</td>\n",
       "      <td>0,20</td>\n",
       "      <td>0,20</td>\n",
       "      <td>0,00</td>\n",
       "      <td>25,20</td>\n",
       "      <td>18,40</td>\n",
       "      <td>71,37</td>\n",
       "      <td>6,60</td>\n",
       "      <td>0,80</td>\n",
       "      <td>1,60</td>\n",
       "      <td>0,60</td>\n",
       "      <td>0,40</td>\n",
       "      <td>0,00</td>\n",
       "      <td>0,00</td>\n",
       "      <td>0,60</td>\n",
       "      <td>1,40</td>\n",
       "      <td>0,00</td>\n",
       "    </tr>\n",
       "    <tr>\n",
       "      <th>2</th>\n",
       "      <td>J. Oliveira</td>\n",
       "      <td>6,66</td>\n",
       "      <td>34,60</td>\n",
       "      <td>0,00</td>\n",
       "      <td>0,00</td>\n",
       "      <td>0,40</td>\n",
       "      <td>7,20</td>\n",
       "      <td>5,60</td>\n",
       "      <td>61,33</td>\n",
       "      <td>1,00</td>\n",
       "      <td>0,40</td>\n",
       "      <td>0,80</td>\n",
       "      <td>0,60</td>\n",
       "      <td>0,00</td>\n",
       "      <td>0,00</td>\n",
       "      <td>0,00</td>\n",
       "      <td>0,00</td>\n",
       "      <td>0,00</td>\n",
       "      <td>0,00</td>\n",
       "    </tr>\n",
       "    <tr>\n",
       "      <th>3</th>\n",
       "      <td>A. Nguiamba</td>\n",
       "      <td>5,43</td>\n",
       "      <td>24,20</td>\n",
       "      <td>0,00</td>\n",
       "      <td>0,00</td>\n",
       "      <td>0,00</td>\n",
       "      <td>11,40</td>\n",
       "      <td>9,40</td>\n",
       "      <td>62,78</td>\n",
       "      <td>0,20</td>\n",
       "      <td>1,60</td>\n",
       "      <td>0,00</td>\n",
       "      <td>0,00</td>\n",
       "      <td>0,00</td>\n",
       "      <td>0,00</td>\n",
       "      <td>0,00</td>\n",
       "      <td>0,20</td>\n",
       "      <td>0,40</td>\n",
       "      <td>0,00</td>\n",
       "    </tr>\n",
       "    <tr>\n",
       "      <th>4</th>\n",
       "      <td>D. Zator</td>\n",
       "      <td>2,72</td>\n",
       "      <td>13,20</td>\n",
       "      <td>0,00</td>\n",
       "      <td>0,00</td>\n",
       "      <td>0,00</td>\n",
       "      <td>7,40</td>\n",
       "      <td>5,60</td>\n",
       "      <td>29,68</td>\n",
       "      <td>0,60</td>\n",
       "      <td>0,80</td>\n",
       "      <td>0,00</td>\n",
       "      <td>0,00</td>\n",
       "      <td>0,00</td>\n",
       "      <td>0,00</td>\n",
       "      <td>0,00</td>\n",
       "      <td>0,00</td>\n",
       "      <td>0,60</td>\n",
       "      <td>0,00</td>\n",
       "    </tr>\n",
       "  </tbody>\n",
       "</table>\n",
       "</div>"
      ],
      "text/plain": [
       "         Players Ratings Minutes Goals Assists Offsides Passes  \\\n",
       "0  D. Abramowicz    7,10   90,00  0,20    0,20     0,40  28,00   \n",
       "1        S. Kerk    7,02   80,40  0,20    0,20     0,00  25,20   \n",
       "2    J. Oliveira    6,66   34,60  0,00    0,00     0,40   7,20   \n",
       "3    A. Nguiamba    5,43   24,20  0,00    0,00     0,00  11,40   \n",
       "4       D. Zator    2,72   13,20  0,00    0,00     0,00   7,40   \n",
       "\n",
       "  Accurate_Passes Accurate_Passes_% Crosses Tackles Total_Shots  \\\n",
       "0           21,60             76,99    1,80    0,40        1,20   \n",
       "1           18,40             71,37    6,60    0,80        1,60   \n",
       "2            5,60             61,33    1,00    0,40        0,80   \n",
       "3            9,40             62,78    0,20    1,60        0,00   \n",
       "4            5,60             29,68    0,60    0,80        0,00   \n",
       "\n",
       "  Shots_on_Target Blocked_Shots Yellow_Cards Red_Cards Fouls_Committed  \\\n",
       "0            0,20          0,00         0,20      0,00            1,00   \n",
       "1            0,60          0,40         0,00      0,00            0,60   \n",
       "2            0,60          0,00         0,00      0,00            0,00   \n",
       "3            0,00          0,00         0,00      0,00            0,20   \n",
       "4            0,00          0,00         0,00      0,00            0,00   \n",
       "\n",
       "  Clearances Saves  \n",
       "0       5,40  0,00  \n",
       "1       1,40  0,00  \n",
       "2       0,00  0,00  \n",
       "3       0,40  0,00  \n",
       "4       0,60  0,00  "
      ]
     },
     "execution_count": 2,
     "metadata": {},
     "output_type": "execute_result"
    }
   ],
   "source": [
    "data = pd.read_csv('data/AVG.csv', delimiter=';')\n",
    "data.head()"
   ]
  },
  {
   "cell_type": "code",
   "execution_count": 3,
   "id": "5a77a0f2",
   "metadata": {},
   "outputs": [
    {
     "data": {
      "application/vnd.microsoft.datawrangler.viewer.v0+json": {
       "columns": [
        {
         "name": "Players",
         "rawType": "object",
         "type": "string"
        },
        {
         "name": "Ratings",
         "rawType": "object",
         "type": "string"
        },
        {
         "name": "Minutes",
         "rawType": "object",
         "type": "string"
        },
        {
         "name": "Goals",
         "rawType": "object",
         "type": "string"
        },
        {
         "name": "Assists",
         "rawType": "object",
         "type": "string"
        },
        {
         "name": "Offsides",
         "rawType": "object",
         "type": "string"
        },
        {
         "name": "Passes",
         "rawType": "object",
         "type": "string"
        },
        {
         "name": "Accurate_Passes",
         "rawType": "object",
         "type": "string"
        },
        {
         "name": "Accurate_Passes_%",
         "rawType": "object",
         "type": "string"
        },
        {
         "name": "Crosses",
         "rawType": "object",
         "type": "string"
        },
        {
         "name": "Tackles",
         "rawType": "object",
         "type": "string"
        },
        {
         "name": "Total_Shots",
         "rawType": "object",
         "type": "string"
        },
        {
         "name": "Shots_on_Target",
         "rawType": "object",
         "type": "string"
        },
        {
         "name": "Blocked_Shots",
         "rawType": "object",
         "type": "string"
        },
        {
         "name": "Yellow_Cards",
         "rawType": "object",
         "type": "string"
        },
        {
         "name": "Red_Cards",
         "rawType": "object",
         "type": "string"
        },
        {
         "name": "Fouls_Committed",
         "rawType": "object",
         "type": "string"
        },
        {
         "name": "Clearances",
         "rawType": "object",
         "type": "string"
        },
        {
         "name": "Saves",
         "rawType": "object",
         "type": "string"
        }
       ],
       "ref": "c00281f2-d386-417b-b3c0-c5298bbea22e",
       "rows": [
        [
         "D. Abramowicz",
         "7,10",
         "90,00",
         "0,20",
         "0,20",
         "0,40",
         "28,00",
         "21,60",
         "76,99",
         "1,80",
         "0,40",
         "1,20",
         "0,20",
         "0,00",
         "0,20",
         "0,00",
         "1,00",
         "5,40",
         "0,00"
        ],
        [
         "S. Kerk",
         "7,02",
         "80,40",
         "0,20",
         "0,20",
         "0,00",
         "25,20",
         "18,40",
         "71,37",
         "6,60",
         "0,80",
         "1,60",
         "0,60",
         "0,40",
         "0,00",
         "0,00",
         "0,60",
         "1,40",
         "0,00"
        ],
        [
         "J. Oliveira",
         "6,66",
         "34,60",
         "0,00",
         "0,00",
         "0,40",
         "7,20",
         "5,60",
         "61,33",
         "1,00",
         "0,40",
         "0,80",
         "0,60",
         "0,00",
         "0,00",
         "0,00",
         "0,00",
         "0,00",
         "0,00"
        ],
        [
         "A. Nguiamba",
         "5,43",
         "24,20",
         "0,00",
         "0,00",
         "0,00",
         "11,40",
         "9,40",
         "62,78",
         "0,20",
         "1,60",
         "0,00",
         "0,00",
         "0,00",
         "0,00",
         "0,00",
         "0,20",
         "0,40",
         "0,00"
        ],
        [
         "D. Zator",
         "2,72",
         "13,20",
         "0,00",
         "0,00",
         "0,00",
         "7,40",
         "5,60",
         "29,68",
         "0,60",
         "0,80",
         "0,00",
         "0,00",
         "0,00",
         "0,00",
         "0,00",
         "0,00",
         "0,60",
         "0,00"
        ]
       ],
       "shape": {
        "columns": 18,
        "rows": 5
       }
      },
      "text/html": [
       "<div>\n",
       "<style scoped>\n",
       "    .dataframe tbody tr th:only-of-type {\n",
       "        vertical-align: middle;\n",
       "    }\n",
       "\n",
       "    .dataframe tbody tr th {\n",
       "        vertical-align: top;\n",
       "    }\n",
       "\n",
       "    .dataframe thead th {\n",
       "        text-align: right;\n",
       "    }\n",
       "</style>\n",
       "<table border=\"1\" class=\"dataframe\">\n",
       "  <thead>\n",
       "    <tr style=\"text-align: right;\">\n",
       "      <th></th>\n",
       "      <th>Ratings</th>\n",
       "      <th>Minutes</th>\n",
       "      <th>Goals</th>\n",
       "      <th>Assists</th>\n",
       "      <th>Offsides</th>\n",
       "      <th>Passes</th>\n",
       "      <th>Accurate_Passes</th>\n",
       "      <th>Accurate_Passes_%</th>\n",
       "      <th>Crosses</th>\n",
       "      <th>Tackles</th>\n",
       "      <th>Total_Shots</th>\n",
       "      <th>Shots_on_Target</th>\n",
       "      <th>Blocked_Shots</th>\n",
       "      <th>Yellow_Cards</th>\n",
       "      <th>Red_Cards</th>\n",
       "      <th>Fouls_Committed</th>\n",
       "      <th>Clearances</th>\n",
       "      <th>Saves</th>\n",
       "    </tr>\n",
       "    <tr>\n",
       "      <th>Players</th>\n",
       "      <th></th>\n",
       "      <th></th>\n",
       "      <th></th>\n",
       "      <th></th>\n",
       "      <th></th>\n",
       "      <th></th>\n",
       "      <th></th>\n",
       "      <th></th>\n",
       "      <th></th>\n",
       "      <th></th>\n",
       "      <th></th>\n",
       "      <th></th>\n",
       "      <th></th>\n",
       "      <th></th>\n",
       "      <th></th>\n",
       "      <th></th>\n",
       "      <th></th>\n",
       "      <th></th>\n",
       "    </tr>\n",
       "  </thead>\n",
       "  <tbody>\n",
       "    <tr>\n",
       "      <th>D. Abramowicz</th>\n",
       "      <td>7,10</td>\n",
       "      <td>90,00</td>\n",
       "      <td>0,20</td>\n",
       "      <td>0,20</td>\n",
       "      <td>0,40</td>\n",
       "      <td>28,00</td>\n",
       "      <td>21,60</td>\n",
       "      <td>76,99</td>\n",
       "      <td>1,80</td>\n",
       "      <td>0,40</td>\n",
       "      <td>1,20</td>\n",
       "      <td>0,20</td>\n",
       "      <td>0,00</td>\n",
       "      <td>0,20</td>\n",
       "      <td>0,00</td>\n",
       "      <td>1,00</td>\n",
       "      <td>5,40</td>\n",
       "      <td>0,00</td>\n",
       "    </tr>\n",
       "    <tr>\n",
       "      <th>S. Kerk</th>\n",
       "      <td>7,02</td>\n",
       "      <td>80,40</td>\n",
       "      <td>0,20</td>\n",
       "      <td>0,20</td>\n",
       "      <td>0,00</td>\n",
       "      <td>25,20</td>\n",
       "      <td>18,40</td>\n",
       "      <td>71,37</td>\n",
       "      <td>6,60</td>\n",
       "      <td>0,80</td>\n",
       "      <td>1,60</td>\n",
       "      <td>0,60</td>\n",
       "      <td>0,40</td>\n",
       "      <td>0,00</td>\n",
       "      <td>0,00</td>\n",
       "      <td>0,60</td>\n",
       "      <td>1,40</td>\n",
       "      <td>0,00</td>\n",
       "    </tr>\n",
       "    <tr>\n",
       "      <th>J. Oliveira</th>\n",
       "      <td>6,66</td>\n",
       "      <td>34,60</td>\n",
       "      <td>0,00</td>\n",
       "      <td>0,00</td>\n",
       "      <td>0,40</td>\n",
       "      <td>7,20</td>\n",
       "      <td>5,60</td>\n",
       "      <td>61,33</td>\n",
       "      <td>1,00</td>\n",
       "      <td>0,40</td>\n",
       "      <td>0,80</td>\n",
       "      <td>0,60</td>\n",
       "      <td>0,00</td>\n",
       "      <td>0,00</td>\n",
       "      <td>0,00</td>\n",
       "      <td>0,00</td>\n",
       "      <td>0,00</td>\n",
       "      <td>0,00</td>\n",
       "    </tr>\n",
       "    <tr>\n",
       "      <th>A. Nguiamba</th>\n",
       "      <td>5,43</td>\n",
       "      <td>24,20</td>\n",
       "      <td>0,00</td>\n",
       "      <td>0,00</td>\n",
       "      <td>0,00</td>\n",
       "      <td>11,40</td>\n",
       "      <td>9,40</td>\n",
       "      <td>62,78</td>\n",
       "      <td>0,20</td>\n",
       "      <td>1,60</td>\n",
       "      <td>0,00</td>\n",
       "      <td>0,00</td>\n",
       "      <td>0,00</td>\n",
       "      <td>0,00</td>\n",
       "      <td>0,00</td>\n",
       "      <td>0,20</td>\n",
       "      <td>0,40</td>\n",
       "      <td>0,00</td>\n",
       "    </tr>\n",
       "    <tr>\n",
       "      <th>D. Zator</th>\n",
       "      <td>2,72</td>\n",
       "      <td>13,20</td>\n",
       "      <td>0,00</td>\n",
       "      <td>0,00</td>\n",
       "      <td>0,00</td>\n",
       "      <td>7,40</td>\n",
       "      <td>5,60</td>\n",
       "      <td>29,68</td>\n",
       "      <td>0,60</td>\n",
       "      <td>0,80</td>\n",
       "      <td>0,00</td>\n",
       "      <td>0,00</td>\n",
       "      <td>0,00</td>\n",
       "      <td>0,00</td>\n",
       "      <td>0,00</td>\n",
       "      <td>0,00</td>\n",
       "      <td>0,60</td>\n",
       "      <td>0,00</td>\n",
       "    </tr>\n",
       "  </tbody>\n",
       "</table>\n",
       "</div>"
      ],
      "text/plain": [
       "              Ratings Minutes Goals Assists Offsides Passes Accurate_Passes  \\\n",
       "Players                                                                       \n",
       "D. Abramowicz    7,10   90,00  0,20    0,20     0,40  28,00           21,60   \n",
       "S. Kerk          7,02   80,40  0,20    0,20     0,00  25,20           18,40   \n",
       "J. Oliveira      6,66   34,60  0,00    0,00     0,40   7,20            5,60   \n",
       "A. Nguiamba      5,43   24,20  0,00    0,00     0,00  11,40            9,40   \n",
       "D. Zator         2,72   13,20  0,00    0,00     0,00   7,40            5,60   \n",
       "\n",
       "              Accurate_Passes_% Crosses Tackles Total_Shots Shots_on_Target  \\\n",
       "Players                                                                       \n",
       "D. Abramowicz             76,99    1,80    0,40        1,20            0,20   \n",
       "S. Kerk                   71,37    6,60    0,80        1,60            0,60   \n",
       "J. Oliveira               61,33    1,00    0,40        0,80            0,60   \n",
       "A. Nguiamba               62,78    0,20    1,60        0,00            0,00   \n",
       "D. Zator                  29,68    0,60    0,80        0,00            0,00   \n",
       "\n",
       "              Blocked_Shots Yellow_Cards Red_Cards Fouls_Committed Clearances  \\\n",
       "Players                                                                         \n",
       "D. Abramowicz          0,00         0,20      0,00            1,00       5,40   \n",
       "S. Kerk                0,40         0,00      0,00            0,60       1,40   \n",
       "J. Oliveira            0,00         0,00      0,00            0,00       0,00   \n",
       "A. Nguiamba            0,00         0,00      0,00            0,20       0,40   \n",
       "D. Zator               0,00         0,00      0,00            0,00       0,60   \n",
       "\n",
       "              Saves  \n",
       "Players              \n",
       "D. Abramowicz  0,00  \n",
       "S. Kerk        0,00  \n",
       "J. Oliveira    0,00  \n",
       "A. Nguiamba    0,00  \n",
       "D. Zator       0,00  "
      ]
     },
     "execution_count": 3,
     "metadata": {},
     "output_type": "execute_result"
    }
   ],
   "source": [
    "data = data.set_index('Players')\n",
    "data.head()"
   ]
  },
  {
   "cell_type": "code",
   "execution_count": 4,
   "id": "3a6c1ba1",
   "metadata": {},
   "outputs": [],
   "source": [
    "data = data.replace(',', '.', regex=True)\n",
    "data = data.apply(pd.to_numeric, errors='coerce')"
   ]
  },
  {
   "cell_type": "code",
   "execution_count": 5,
   "id": "3b828dc3",
   "metadata": {},
   "outputs": [
    {
     "data": {
      "application/vnd.plotly.v1+json": {
       "config": {
        "plotlyServerURL": "https://plot.ly"
       },
       "data": [
        {
         "name": "Ratings",
         "type": "bar",
         "x": [
          "D. Abramowicz",
          "S. Kerk",
          "M. Navarro",
          "D. Weglarz",
          "A. Sidibe",
          "J. Oliveira",
          "J. Celestine",
          "D. Kocyla",
          "K. Jakubczyk",
          "M. Marcjanik",
          "T. Gaprindashvili",
          "M. Predenkiewicz",
          "A. Nguiamba",
          "D.Percan",
          "E.Espiau",
          "D. Zator",
          "S. Sobczak",
          "H. Vitalucci",
          "L.Perea"
         ],
         "y": {
          "bdata": "ZmZmZmZmHEAUrkfhehQcQNejcD0K1xtAexSuR+F6G0A9CtejcD0bQKRwPQrXoxpAj8L1KFyPGkCF61G4HoUaQHsUrkfhehpAXI/C9ShcGkDsUbgehesZQMP1KFyPwhlAuB6F61G4FUBI4XoUrkcVQHsUrkfheg5Aw/UoXI/CBUA9CtejcD0EQBSuR+F6FARA16NwPQrXA0A=",
          "dtype": "f8"
         }
        },
        {
         "name": "Minutes",
         "type": "bar",
         "x": [
          "D. Abramowicz",
          "J. Celestine",
          "M. Marcjanik",
          "D. Weglarz",
          "S. Kerk",
          "A. Sidibe",
          "M. Navarro",
          "D. Kocyla",
          "K. Jakubczyk",
          "T. Gaprindashvili",
          "D.Percan",
          "M. Predenkiewicz",
          "J. Oliveira",
          "H. Vitalucci",
          "E.Espiau",
          "A. Nguiamba",
          "S. Sobczak",
          "D. Zator",
          "L.Perea"
         ],
         "y": {
          "bdata": "AAAAAACAVkAAAAAAAIBWQAAAAAAAgFZAAAAAAACAVkCamZmZmRlUQGZmZmZm5lNAMzMzMzMzU0CamZmZmdlRQDMzMzMz81BAZmZmZmZmSUDNzMzMzExHQJqZmZmZGUNAzczMzMxMQUCamZmZmZk+QAAAAAAAADlAMzMzMzMzOEAzMzMzMzMyQGZmZmZmZipAAAAAAAAAGEA=",
          "dtype": "f8"
         }
        },
        {
         "name": "Goals",
         "type": "bar",
         "x": [
          "D. Abramowicz",
          "S. Kerk",
          "K. Jakubczyk",
          "E.Espiau",
          "J. Oliveira",
          "A. Nguiamba",
          "D. Zator",
          "D. Kocyla",
          "D. Weglarz",
          "M. Navarro",
          "T. Gaprindashvili",
          "D.Percan",
          "M. Marcjanik",
          "A. Sidibe",
          "H. Vitalucci",
          "J. Celestine",
          "S. Sobczak",
          "M. Predenkiewicz",
          "L.Perea"
         ],
         "y": {
          "bdata": "mpmZmZmZyT+amZmZmZnJP5qZmZmZmck/mpmZmZmZyT8AAAAAAAD4fwAAAAAAAPh/AAAAAAAA+H8AAAAAAAD4fwAAAAAAAPh/AAAAAAAA+H8AAAAAAAD4fwAAAAAAAPh/AAAAAAAA+H8AAAAAAAD4fwAAAAAAAPh/AAAAAAAA+H8AAAAAAAD4fwAAAAAAAPh/AAAAAAAA+H8=",
          "dtype": "f8"
         }
        },
        {
         "name": "Assists",
         "type": "bar",
         "x": [
          "D. Abramowicz",
          "S. Kerk",
          "D.Percan",
          "J. Oliveira",
          "A. Nguiamba",
          "D. Zator",
          "K. Jakubczyk",
          "D. Kocyla",
          "D. Weglarz",
          "M. Navarro",
          "T. Gaprindashvili",
          "M. Marcjanik",
          "A. Sidibe",
          "H. Vitalucci",
          "J. Celestine",
          "S. Sobczak",
          "M. Predenkiewicz",
          "L.Perea",
          "E.Espiau"
         ],
         "y": {
          "bdata": "mpmZmZmZyT+amZmZmZnJP5qZmZmZmck/AAAAAAAA+H8AAAAAAAD4fwAAAAAAAPh/AAAAAAAA+H8AAAAAAAD4fwAAAAAAAPh/AAAAAAAA+H8AAAAAAAD4fwAAAAAAAPh/AAAAAAAA+H8AAAAAAAD4fwAAAAAAAPh/AAAAAAAA+H8AAAAAAAD4fwAAAAAAAPh/AAAAAAAA+H8=",
          "dtype": "f8"
         }
        },
        {
         "name": "Offsides",
         "type": "bar",
         "x": [
          "D. Abramowicz",
          "J. Oliveira",
          "D. Kocyla",
          "T. Gaprindashvili",
          "M. Marcjanik",
          "A. Sidibe",
          "S. Kerk",
          "A. Nguiamba",
          "D. Zator",
          "K. Jakubczyk",
          "D. Weglarz",
          "M. Navarro",
          "D.Percan",
          "H. Vitalucci",
          "J. Celestine",
          "S. Sobczak",
          "M. Predenkiewicz",
          "L.Perea",
          "E.Espiau"
         ],
         "y": {
          "bdata": "mpmZmZmZ2T+amZmZmZnZP5qZmZmZmck/mpmZmZmZyT+amZmZmZnJP5qZmZmZmck/AAAAAAAA+H8AAAAAAAD4fwAAAAAAAPh/AAAAAAAA+H8AAAAAAAD4fwAAAAAAAPh/AAAAAAAA+H8AAAAAAAD4fwAAAAAAAPh/AAAAAAAA+H8AAAAAAAD4fwAAAAAAAPh/AAAAAAAA+H8=",
          "dtype": "f8"
         }
        },
        {
         "name": "Passes",
         "type": "bar",
         "x": [
          "M. Marcjanik",
          "J. Celestine",
          "M. Navarro",
          "D. Weglarz",
          "D. Abramowicz",
          "S. Kerk",
          "A. Sidibe",
          "K. Jakubczyk",
          "A. Nguiamba",
          "T. Gaprindashvili",
          "H. Vitalucci",
          "D. Kocyla",
          "D. Zator",
          "J. Oliveira",
          "D.Percan",
          "M. Predenkiewicz",
          "E.Espiau",
          "L.Perea",
          "S. Sobczak"
         ],
         "y": {
          "bdata": "AAAAAAAAR0BmZmZmZuZDQGZmZmZm5kBAmpmZmZmZP0AAAAAAAAA8QDMzMzMzMzlAzczMzMzMNkBmZmZmZmYxQM3MzMzMzCZAmpmZmZmZJUDNzMzMzMwiQM3MzMzMzCBAmpmZmZmZHUDNzMzMzMwcQM3MzMzMzBhAAAAAAAAAGEAzMzMzMzMLQJqZmZmZmQFAZmZmZmZm9j8=",
          "dtype": "f8"
         }
        },
        {
         "name": "Accurate_Passes",
         "type": "bar",
         "x": [
          "M. Marcjanik",
          "J. Celestine",
          "M. Navarro",
          "D. Abramowicz",
          "A. Sidibe",
          "S. Kerk",
          "D. Weglarz",
          "K. Jakubczyk",
          "T. Gaprindashvili",
          "A. Nguiamba",
          "H. Vitalucci",
          "D. Kocyla",
          "D. Zator",
          "J. Oliveira",
          "D.Percan",
          "M. Predenkiewicz",
          "E.Espiau",
          "L.Perea",
          "S. Sobczak"
         ],
         "y": {
          "bdata": "zczMzMzMQ0AzMzMzM7NBQGZmZmZmZjpAmpmZmZmZNUBmZmZmZmYyQGZmZmZmZjJAMzMzMzMzMkAzMzMzMzMwQM3MzMzMzCJAzczMzMzMIkCamZmZmZkdQM3MzMzMzBxAZmZmZmZmFkBmZmZmZmYWQJqZmZmZmRFAAAAAAAAAEECamZmZmZn5PzMzMzMzM/M/AAAAAAAA8D8=",
          "dtype": "f8"
         }
        },
        {
         "name": "Accurate_Passes_%",
         "type": "bar",
         "x": [
          "K. Jakubczyk",
          "J. Celestine",
          "M. Marcjanik",
          "D. Kocyla",
          "A. Sidibe",
          "M. Navarro",
          "D. Abramowicz",
          "S. Kerk",
          "T. Gaprindashvili",
          "M. Predenkiewicz",
          "A. Nguiamba",
          "J. Oliveira",
          "D. Weglarz",
          "D.Percan",
          "E.Espiau",
          "D. Zator",
          "H. Vitalucci",
          "S. Sobczak",
          "L.Perea"
         ],
         "y": {
          "bdata": "uB6F61GYV0BxPQrXozBWQHsUrkfhelVAPQrXo3BtVUAAAAAAAHBUQMP1KFyPYlNAj8L1KFw/U0BI4XoUrtdRQNejcD0Kd1BAexSuR+E6UECkcD0K12NPQArXo3A9qk5ApHA9CtejTEDD9Shcj6JMQMP1KFyPokNArkfhehSuPUAfhetRuF49QAAAAAAAADpA7FG4HoWrNkA=",
          "dtype": "f8"
         }
        },
        {
         "name": "Crosses",
         "type": "bar",
         "x": [
          "M. Navarro",
          "S. Kerk",
          "D. Abramowicz",
          "J. Oliveira",
          "T. Gaprindashvili",
          "D. Zator",
          "D. Kocyla",
          "H. Vitalucci",
          "M. Predenkiewicz",
          "A. Nguiamba",
          "A. Sidibe",
          "K. Jakubczyk",
          "D. Weglarz",
          "D.Percan",
          "M. Marcjanik",
          "J. Celestine",
          "S. Sobczak",
          "L.Perea",
          "E.Espiau"
         ],
         "y": {
          "bdata": "MzMzMzMzG0BmZmZmZmYaQM3MzMzMzPw/AAAAAAAA8D+amZmZmZnpPzMzMzMzM+M/MzMzMzMz4z+amZmZmZnZP5qZmZmZmdk/mpmZmZmZyT+amZmZmZnJPwAAAAAAAPh/AAAAAAAA+H8AAAAAAAD4fwAAAAAAAPh/AAAAAAAA+H8AAAAAAAD4fwAAAAAAAPh/AAAAAAAA+H8=",
          "dtype": "f8"
         }
        },
        {
         "name": "Tackles",
         "type": "bar",
         "x": [
          "M. Navarro",
          "A. Sidibe",
          "A. Nguiamba",
          "D. Kocyla",
          "K. Jakubczyk",
          "S. Kerk",
          "D. Zator",
          "D. Abramowicz",
          "J. Oliveira",
          "D.Percan",
          "J. Celestine",
          "T. Gaprindashvili",
          "M. Marcjanik",
          "H. Vitalucci",
          "S. Sobczak",
          "M. Predenkiewicz",
          "D. Weglarz",
          "L.Perea",
          "E.Espiau"
         ],
         "y": {
          "bdata": "mpmZmZmZCUDNzMzMzMz8P5qZmZmZmfk/MzMzMzMz8z8AAAAAAADwP5qZmZmZmek/mpmZmZmZ6T+amZmZmZnZP5qZmZmZmdk/mpmZmZmZ2T+amZmZmZnZP5qZmZmZmck/mpmZmZmZyT+amZmZmZnJP5qZmZmZmck/mpmZmZmZyT8AAAAAAAD4fwAAAAAAAPh/AAAAAAAA+H8=",
          "dtype": "f8"
         }
        },
        {
         "name": "Total_Shots",
         "type": "bar",
         "x": [
          "S. Kerk",
          "D. Abramowicz",
          "D. Kocyla",
          "J. Oliveira",
          "T. Gaprindashvili",
          "J. Celestine",
          "M. Predenkiewicz",
          "K. Jakubczyk",
          "M. Navarro",
          "M. Marcjanik",
          "H. Vitalucci",
          "D.Percan",
          "A. Sidibe",
          "E.Espiau",
          "A. Nguiamba",
          "D. Zator",
          "D. Weglarz",
          "S. Sobczak",
          "L.Perea"
         ],
         "y": {
          "bdata": "mpmZmZmZ+T8zMzMzMzPzPzMzMzMzM/M/mpmZmZmZ6T+amZmZmZnpPzMzMzMzM+M/MzMzMzMz4z+amZmZmZnZP5qZmZmZmdk/mpmZmZmZ2T+amZmZmZnZP5qZmZmZmck/mpmZmZmZyT+amZmZmZnJPwAAAAAAAPh/AAAAAAAA+H8AAAAAAAD4fwAAAAAAAPh/AAAAAAAA+H8=",
          "dtype": "f8"
         }
        },
        {
         "name": "Shots_on_Target",
         "type": "bar",
         "x": [
          "S. Kerk",
          "J. Oliveira",
          "M. Marcjanik",
          "M. Predenkiewicz",
          "D. Abramowicz",
          "K. Jakubczyk",
          "D. Kocyla",
          "T. Gaprindashvili",
          "A. Sidibe",
          "S. Sobczak",
          "E.Espiau",
          "A. Nguiamba",
          "D. Zator",
          "D. Weglarz",
          "M. Navarro",
          "D.Percan",
          "H. Vitalucci",
          "J. Celestine",
          "L.Perea"
         ],
         "y": {
          "bdata": "MzMzMzMz4z8zMzMzMzPjP5qZmZmZmdk/mpmZmZmZ2T+amZmZmZnJP5qZmZmZmck/mpmZmZmZyT+amZmZmZnJP5qZmZmZmck/mpmZmZmZyT+amZmZmZnJPwAAAAAAAPh/AAAAAAAA+H8AAAAAAAD4fwAAAAAAAPh/AAAAAAAA+H8AAAAAAAD4fwAAAAAAAPh/AAAAAAAA+H8=",
          "dtype": "f8"
         }
        },
        {
         "name": "Blocked_Shots",
         "type": "bar",
         "x": [
          "D. Kocyla",
          "S. Kerk",
          "M. Navarro",
          "M. Marcjanik",
          "H. Vitalucci",
          "T. Gaprindashvili",
          "A. Sidibe",
          "J. Celestine",
          "E.Espiau",
          "D. Abramowicz",
          "J. Oliveira",
          "A. Nguiamba",
          "D. Zator",
          "K. Jakubczyk",
          "D. Weglarz",
          "D.Percan",
          "S. Sobczak",
          "M. Predenkiewicz",
          "L.Perea"
         ],
         "y": {
          "bdata": "MzMzMzMz4z+amZmZmZnZP5qZmZmZmdk/mpmZmZmZ2T+amZmZmZnZP5qZmZmZmck/mpmZmZmZyT+amZmZmZnJP5qZmZmZmck/AAAAAAAA+H8AAAAAAAD4fwAAAAAAAPh/AAAAAAAA+H8AAAAAAAD4fwAAAAAAAPh/AAAAAAAA+H8AAAAAAAD4fwAAAAAAAPh/AAAAAAAA+H8=",
          "dtype": "f8"
         }
        },
        {
         "name": "Yellow_Cards",
         "type": "bar",
         "x": [
          "K. Jakubczyk",
          "M. Navarro",
          "T. Gaprindashvili",
          "J. Celestine",
          "D. Abramowicz",
          "D.Percan",
          "M. Marcjanik",
          "A. Sidibe",
          "L.Perea",
          "E.Espiau",
          "S. Kerk",
          "J. Oliveira",
          "A. Nguiamba",
          "D. Zator",
          "D. Kocyla",
          "D. Weglarz",
          "H. Vitalucci",
          "S. Sobczak",
          "M. Predenkiewicz"
         ],
         "y": {
          "bdata": "MzMzMzMz4z+amZmZmZnZP5qZmZmZmdk/mpmZmZmZ2T+amZmZmZnJP5qZmZmZmck/mpmZmZmZyT+amZmZmZnJP5qZmZmZmck/mpmZmZmZyT8AAAAAAAD4fwAAAAAAAPh/AAAAAAAA+H8AAAAAAAD4fwAAAAAAAPh/AAAAAAAA+H8AAAAAAAD4fwAAAAAAAPh/AAAAAAAA+H8=",
          "dtype": "f8"
         }
        },
        {
         "name": "Red_Cards",
         "type": "bar",
         "x": [
          "D. Abramowicz",
          "S. Kerk",
          "J. Oliveira",
          "A. Nguiamba",
          "D. Zator",
          "K. Jakubczyk",
          "D. Kocyla",
          "D. Weglarz",
          "M. Navarro",
          "T. Gaprindashvili",
          "D.Percan",
          "M. Marcjanik",
          "A. Sidibe",
          "H. Vitalucci",
          "J. Celestine",
          "S. Sobczak",
          "M. Predenkiewicz",
          "L.Perea",
          "E.Espiau"
         ],
         "y": {
          "bdata": "AAAAAAAA+H8AAAAAAAD4fwAAAAAAAPh/AAAAAAAA+H8AAAAAAAD4fwAAAAAAAPh/AAAAAAAA+H8AAAAAAAD4fwAAAAAAAPh/AAAAAAAA+H8AAAAAAAD4fwAAAAAAAPh/AAAAAAAA+H8AAAAAAAD4fwAAAAAAAPh/AAAAAAAA+H8AAAAAAAD4fwAAAAAAAPh/AAAAAAAA+H8=",
          "dtype": "f8"
         }
        },
        {
         "name": "Fouls_Committed",
         "type": "bar",
         "x": [
          "K. Jakubczyk",
          "A. Sidibe",
          "J. Celestine",
          "D. Abramowicz",
          "M. Navarro",
          "M. Marcjanik",
          "T. Gaprindashvili",
          "S. Sobczak",
          "M. Predenkiewicz",
          "S. Kerk",
          "D.Percan",
          "H. Vitalucci",
          "L.Perea",
          "A. Nguiamba",
          "D. Kocyla",
          "E.Espiau",
          "J. Oliveira",
          "D. Zator",
          "D. Weglarz"
         ],
         "y": {
          "bdata": "zczMzMzM/D9mZmZmZmb2P2ZmZmZmZvY/AAAAAAAA8D8AAAAAAADwPwAAAAAAAPA/mpmZmZmZ6T+amZmZmZnpP5qZmZmZmek/MzMzMzMz4z8zMzMzMzPjPzMzMzMzM+M/mpmZmZmZ2T+amZmZmZnJP5qZmZmZmck/mpmZmZmZyT8AAAAAAAD4fwAAAAAAAPh/AAAAAAAA+H8=",
          "dtype": "f8"
         }
        },
        {
         "name": "Clearances",
         "type": "bar",
         "x": [
          "J. Celestine",
          "M. Marcjanik",
          "D. Abramowicz",
          "M. Navarro",
          "A. Sidibe",
          "S. Kerk",
          "D. Weglarz",
          "D.Percan",
          "K. Jakubczyk",
          "D. Zator",
          "D. Kocyla",
          "A. Nguiamba",
          "S. Sobczak",
          "M. Predenkiewicz",
          "L.Perea",
          "E.Espiau",
          "T. Gaprindashvili",
          "H. Vitalucci",
          "J. Oliveira"
         ],
         "y": {
          "bdata": "mpmZmZmZHUCamZmZmZkZQJqZmZmZmRVAmpmZmZmZFUAAAAAAAAAAQGZmZmZmZvY/ZmZmZmZm9j+amZmZmZnpP5qZmZmZmek/MzMzMzMz4z+amZmZmZnZP5qZmZmZmdk/mpmZmZmZ2T+amZmZmZnZP5qZmZmZmdk/mpmZmZmZ2T+amZmZmZnJP5qZmZmZmck/AAAAAAAA+H8=",
          "dtype": "f8"
         }
        },
        {
         "name": "Saves",
         "type": "bar",
         "x": [
          "D. Weglarz",
          "D. Abramowicz",
          "S. Kerk",
          "J. Oliveira",
          "A. Nguiamba",
          "D. Zator",
          "K. Jakubczyk",
          "D. Kocyla",
          "M. Navarro",
          "T. Gaprindashvili",
          "D.Percan",
          "M. Marcjanik",
          "A. Sidibe",
          "H. Vitalucci",
          "J. Celestine",
          "S. Sobczak",
          "M. Predenkiewicz",
          "L.Perea",
          "E.Espiau"
         ],
         "y": {
          "bdata": "AAAAAAAACEAAAAAAAAD4fwAAAAAAAPh/AAAAAAAA+H8AAAAAAAD4fwAAAAAAAPh/AAAAAAAA+H8AAAAAAAD4fwAAAAAAAPh/AAAAAAAA+H8AAAAAAAD4fwAAAAAAAPh/AAAAAAAA+H8AAAAAAAD4fwAAAAAAAPh/AAAAAAAA+H8AAAAAAAD4fwAAAAAAAPh/AAAAAAAA+H8=",
          "dtype": "f8"
         }
        }
       ],
       "layout": {
        "barmode": "group",
        "template": {
         "data": {
          "bar": [
           {
            "error_x": {
             "color": "#2a3f5f"
            },
            "error_y": {
             "color": "#2a3f5f"
            },
            "marker": {
             "line": {
              "color": "#E5ECF6",
              "width": 0.5
             },
             "pattern": {
              "fillmode": "overlay",
              "size": 10,
              "solidity": 0.2
             }
            },
            "type": "bar"
           }
          ],
          "barpolar": [
           {
            "marker": {
             "line": {
              "color": "#E5ECF6",
              "width": 0.5
             },
             "pattern": {
              "fillmode": "overlay",
              "size": 10,
              "solidity": 0.2
             }
            },
            "type": "barpolar"
           }
          ],
          "carpet": [
           {
            "aaxis": {
             "endlinecolor": "#2a3f5f",
             "gridcolor": "white",
             "linecolor": "white",
             "minorgridcolor": "white",
             "startlinecolor": "#2a3f5f"
            },
            "baxis": {
             "endlinecolor": "#2a3f5f",
             "gridcolor": "white",
             "linecolor": "white",
             "minorgridcolor": "white",
             "startlinecolor": "#2a3f5f"
            },
            "type": "carpet"
           }
          ],
          "choropleth": [
           {
            "colorbar": {
             "outlinewidth": 0,
             "ticks": ""
            },
            "type": "choropleth"
           }
          ],
          "contour": [
           {
            "colorbar": {
             "outlinewidth": 0,
             "ticks": ""
            },
            "colorscale": [
             [
              0,
              "#0d0887"
             ],
             [
              0.1111111111111111,
              "#46039f"
             ],
             [
              0.2222222222222222,
              "#7201a8"
             ],
             [
              0.3333333333333333,
              "#9c179e"
             ],
             [
              0.4444444444444444,
              "#bd3786"
             ],
             [
              0.5555555555555556,
              "#d8576b"
             ],
             [
              0.6666666666666666,
              "#ed7953"
             ],
             [
              0.7777777777777778,
              "#fb9f3a"
             ],
             [
              0.8888888888888888,
              "#fdca26"
             ],
             [
              1,
              "#f0f921"
             ]
            ],
            "type": "contour"
           }
          ],
          "contourcarpet": [
           {
            "colorbar": {
             "outlinewidth": 0,
             "ticks": ""
            },
            "type": "contourcarpet"
           }
          ],
          "heatmap": [
           {
            "colorbar": {
             "outlinewidth": 0,
             "ticks": ""
            },
            "colorscale": [
             [
              0,
              "#0d0887"
             ],
             [
              0.1111111111111111,
              "#46039f"
             ],
             [
              0.2222222222222222,
              "#7201a8"
             ],
             [
              0.3333333333333333,
              "#9c179e"
             ],
             [
              0.4444444444444444,
              "#bd3786"
             ],
             [
              0.5555555555555556,
              "#d8576b"
             ],
             [
              0.6666666666666666,
              "#ed7953"
             ],
             [
              0.7777777777777778,
              "#fb9f3a"
             ],
             [
              0.8888888888888888,
              "#fdca26"
             ],
             [
              1,
              "#f0f921"
             ]
            ],
            "type": "heatmap"
           }
          ],
          "histogram": [
           {
            "marker": {
             "pattern": {
              "fillmode": "overlay",
              "size": 10,
              "solidity": 0.2
             }
            },
            "type": "histogram"
           }
          ],
          "histogram2d": [
           {
            "colorbar": {
             "outlinewidth": 0,
             "ticks": ""
            },
            "colorscale": [
             [
              0,
              "#0d0887"
             ],
             [
              0.1111111111111111,
              "#46039f"
             ],
             [
              0.2222222222222222,
              "#7201a8"
             ],
             [
              0.3333333333333333,
              "#9c179e"
             ],
             [
              0.4444444444444444,
              "#bd3786"
             ],
             [
              0.5555555555555556,
              "#d8576b"
             ],
             [
              0.6666666666666666,
              "#ed7953"
             ],
             [
              0.7777777777777778,
              "#fb9f3a"
             ],
             [
              0.8888888888888888,
              "#fdca26"
             ],
             [
              1,
              "#f0f921"
             ]
            ],
            "type": "histogram2d"
           }
          ],
          "histogram2dcontour": [
           {
            "colorbar": {
             "outlinewidth": 0,
             "ticks": ""
            },
            "colorscale": [
             [
              0,
              "#0d0887"
             ],
             [
              0.1111111111111111,
              "#46039f"
             ],
             [
              0.2222222222222222,
              "#7201a8"
             ],
             [
              0.3333333333333333,
              "#9c179e"
             ],
             [
              0.4444444444444444,
              "#bd3786"
             ],
             [
              0.5555555555555556,
              "#d8576b"
             ],
             [
              0.6666666666666666,
              "#ed7953"
             ],
             [
              0.7777777777777778,
              "#fb9f3a"
             ],
             [
              0.8888888888888888,
              "#fdca26"
             ],
             [
              1,
              "#f0f921"
             ]
            ],
            "type": "histogram2dcontour"
           }
          ],
          "mesh3d": [
           {
            "colorbar": {
             "outlinewidth": 0,
             "ticks": ""
            },
            "type": "mesh3d"
           }
          ],
          "parcoords": [
           {
            "line": {
             "colorbar": {
              "outlinewidth": 0,
              "ticks": ""
             }
            },
            "type": "parcoords"
           }
          ],
          "pie": [
           {
            "automargin": true,
            "type": "pie"
           }
          ],
          "scatter": [
           {
            "fillpattern": {
             "fillmode": "overlay",
             "size": 10,
             "solidity": 0.2
            },
            "type": "scatter"
           }
          ],
          "scatter3d": [
           {
            "line": {
             "colorbar": {
              "outlinewidth": 0,
              "ticks": ""
             }
            },
            "marker": {
             "colorbar": {
              "outlinewidth": 0,
              "ticks": ""
             }
            },
            "type": "scatter3d"
           }
          ],
          "scattercarpet": [
           {
            "marker": {
             "colorbar": {
              "outlinewidth": 0,
              "ticks": ""
             }
            },
            "type": "scattercarpet"
           }
          ],
          "scattergeo": [
           {
            "marker": {
             "colorbar": {
              "outlinewidth": 0,
              "ticks": ""
             }
            },
            "type": "scattergeo"
           }
          ],
          "scattergl": [
           {
            "marker": {
             "colorbar": {
              "outlinewidth": 0,
              "ticks": ""
             }
            },
            "type": "scattergl"
           }
          ],
          "scattermap": [
           {
            "marker": {
             "colorbar": {
              "outlinewidth": 0,
              "ticks": ""
             }
            },
            "type": "scattermap"
           }
          ],
          "scattermapbox": [
           {
            "marker": {
             "colorbar": {
              "outlinewidth": 0,
              "ticks": ""
             }
            },
            "type": "scattermapbox"
           }
          ],
          "scatterpolar": [
           {
            "marker": {
             "colorbar": {
              "outlinewidth": 0,
              "ticks": ""
             }
            },
            "type": "scatterpolar"
           }
          ],
          "scatterpolargl": [
           {
            "marker": {
             "colorbar": {
              "outlinewidth": 0,
              "ticks": ""
             }
            },
            "type": "scatterpolargl"
           }
          ],
          "scatterternary": [
           {
            "marker": {
             "colorbar": {
              "outlinewidth": 0,
              "ticks": ""
             }
            },
            "type": "scatterternary"
           }
          ],
          "surface": [
           {
            "colorbar": {
             "outlinewidth": 0,
             "ticks": ""
            },
            "colorscale": [
             [
              0,
              "#0d0887"
             ],
             [
              0.1111111111111111,
              "#46039f"
             ],
             [
              0.2222222222222222,
              "#7201a8"
             ],
             [
              0.3333333333333333,
              "#9c179e"
             ],
             [
              0.4444444444444444,
              "#bd3786"
             ],
             [
              0.5555555555555556,
              "#d8576b"
             ],
             [
              0.6666666666666666,
              "#ed7953"
             ],
             [
              0.7777777777777778,
              "#fb9f3a"
             ],
             [
              0.8888888888888888,
              "#fdca26"
             ],
             [
              1,
              "#f0f921"
             ]
            ],
            "type": "surface"
           }
          ],
          "table": [
           {
            "cells": {
             "fill": {
              "color": "#EBF0F8"
             },
             "line": {
              "color": "white"
             }
            },
            "header": {
             "fill": {
              "color": "#C8D4E3"
             },
             "line": {
              "color": "white"
             }
            },
            "type": "table"
           }
          ]
         },
         "layout": {
          "annotationdefaults": {
           "arrowcolor": "#2a3f5f",
           "arrowhead": 0,
           "arrowwidth": 1
          },
          "autotypenumbers": "strict",
          "coloraxis": {
           "colorbar": {
            "outlinewidth": 0,
            "ticks": ""
           }
          },
          "colorscale": {
           "diverging": [
            [
             0,
             "#8e0152"
            ],
            [
             0.1,
             "#c51b7d"
            ],
            [
             0.2,
             "#de77ae"
            ],
            [
             0.3,
             "#f1b6da"
            ],
            [
             0.4,
             "#fde0ef"
            ],
            [
             0.5,
             "#f7f7f7"
            ],
            [
             0.6,
             "#e6f5d0"
            ],
            [
             0.7,
             "#b8e186"
            ],
            [
             0.8,
             "#7fbc41"
            ],
            [
             0.9,
             "#4d9221"
            ],
            [
             1,
             "#276419"
            ]
           ],
           "sequential": [
            [
             0,
             "#0d0887"
            ],
            [
             0.1111111111111111,
             "#46039f"
            ],
            [
             0.2222222222222222,
             "#7201a8"
            ],
            [
             0.3333333333333333,
             "#9c179e"
            ],
            [
             0.4444444444444444,
             "#bd3786"
            ],
            [
             0.5555555555555556,
             "#d8576b"
            ],
            [
             0.6666666666666666,
             "#ed7953"
            ],
            [
             0.7777777777777778,
             "#fb9f3a"
            ],
            [
             0.8888888888888888,
             "#fdca26"
            ],
            [
             1,
             "#f0f921"
            ]
           ],
           "sequentialminus": [
            [
             0,
             "#0d0887"
            ],
            [
             0.1111111111111111,
             "#46039f"
            ],
            [
             0.2222222222222222,
             "#7201a8"
            ],
            [
             0.3333333333333333,
             "#9c179e"
            ],
            [
             0.4444444444444444,
             "#bd3786"
            ],
            [
             0.5555555555555556,
             "#d8576b"
            ],
            [
             0.6666666666666666,
             "#ed7953"
            ],
            [
             0.7777777777777778,
             "#fb9f3a"
            ],
            [
             0.8888888888888888,
             "#fdca26"
            ],
            [
             1,
             "#f0f921"
            ]
           ]
          },
          "colorway": [
           "#636efa",
           "#EF553B",
           "#00cc96",
           "#ab63fa",
           "#FFA15A",
           "#19d3f3",
           "#FF6692",
           "#B6E880",
           "#FF97FF",
           "#FECB52"
          ],
          "font": {
           "color": "#2a3f5f"
          },
          "geo": {
           "bgcolor": "white",
           "lakecolor": "white",
           "landcolor": "#E5ECF6",
           "showlakes": true,
           "showland": true,
           "subunitcolor": "white"
          },
          "hoverlabel": {
           "align": "left"
          },
          "hovermode": "closest",
          "mapbox": {
           "style": "light"
          },
          "paper_bgcolor": "white",
          "plot_bgcolor": "#E5ECF6",
          "polar": {
           "angularaxis": {
            "gridcolor": "white",
            "linecolor": "white",
            "ticks": ""
           },
           "bgcolor": "#E5ECF6",
           "radialaxis": {
            "gridcolor": "white",
            "linecolor": "white",
            "ticks": ""
           }
          },
          "scene": {
           "xaxis": {
            "backgroundcolor": "#E5ECF6",
            "gridcolor": "white",
            "gridwidth": 2,
            "linecolor": "white",
            "showbackground": true,
            "ticks": "",
            "zerolinecolor": "white"
           },
           "yaxis": {
            "backgroundcolor": "#E5ECF6",
            "gridcolor": "white",
            "gridwidth": 2,
            "linecolor": "white",
            "showbackground": true,
            "ticks": "",
            "zerolinecolor": "white"
           },
           "zaxis": {
            "backgroundcolor": "#E5ECF6",
            "gridcolor": "white",
            "gridwidth": 2,
            "linecolor": "white",
            "showbackground": true,
            "ticks": "",
            "zerolinecolor": "white"
           }
          },
          "shapedefaults": {
           "line": {
            "color": "#2a3f5f"
           }
          },
          "ternary": {
           "aaxis": {
            "gridcolor": "white",
            "linecolor": "white",
            "ticks": ""
           },
           "baxis": {
            "gridcolor": "white",
            "linecolor": "white",
            "ticks": ""
           },
           "bgcolor": "#E5ECF6",
           "caxis": {
            "gridcolor": "white",
            "linecolor": "white",
            "ticks": ""
           }
          },
          "title": {
           "x": 0.05
          },
          "xaxis": {
           "automargin": true,
           "gridcolor": "white",
           "linecolor": "white",
           "ticks": "",
           "title": {
            "standoff": 15
           },
           "zerolinecolor": "white",
           "zerolinewidth": 2
          },
          "yaxis": {
           "automargin": true,
           "gridcolor": "white",
           "linecolor": "white",
           "ticks": "",
           "title": {
            "standoff": 15
           },
           "zerolinecolor": "white",
           "zerolinewidth": 2
          }
         }
        },
        "title": {
         "text": "Arka Match Stats"
        },
        "updatemenus": [
         {
          "active": 0,
          "buttons": [
           {
            "args": [
             {
              "visible": [
               false,
               false,
               false,
               false,
               false,
               false,
               false,
               false,
               false,
               false,
               false,
               false,
               false,
               false,
               false,
               false,
               false,
               false
              ]
             },
             {
              "title": "Arka Match Stats: None"
             }
            ],
            "label": "None",
            "method": "update"
           },
           {
            "args": [
             {
              "visible": [
               true,
               false,
               false,
               false,
               false,
               false,
               false,
               false,
               false,
               false,
               false,
               false,
               false,
               false,
               false,
               false,
               false,
               false
              ]
             },
             {
              "title": "Arka Match Stats: AVG Rating"
             }
            ],
            "label": "AVG Rating",
            "method": "update"
           },
           {
            "args": [
             {
              "visible": [
               false,
               true,
               false,
               false,
               false,
               false,
               false,
               false,
               false,
               false,
               false,
               false,
               false,
               false,
               false,
               false,
               false,
               false
              ]
             },
             {
              "title": "Arka Match Stats: Minutes"
             }
            ],
            "label": "Minutes",
            "method": "update"
           },
           {
            "args": [
             {
              "visible": [
               false,
               false,
               false,
               false,
               false,
               true,
               true,
               true,
               true,
               false,
               false,
               false,
               false,
               false,
               false,
               false,
               false,
               false
              ]
             },
             {
              "title": "Arka Match Stats: Passes"
             }
            ],
            "label": "Passes",
            "method": "update"
           },
           {
            "args": [
             {
              "visible": [
               false,
               false,
               true,
               true,
               false,
               false,
               false,
               false,
               false,
               false,
               true,
               true,
               false,
               false,
               false,
               false,
               false,
               false
              ]
             },
             {
              "title": "Arka Match Stats: Attack"
             }
            ],
            "label": "Attack",
            "method": "update"
           },
           {
            "args": [
             {
              "visible": [
               false,
               false,
               false,
               false,
               false,
               false,
               false,
               false,
               false,
               true,
               false,
               false,
               false,
               false,
               false,
               true,
               false,
               true
              ]
             },
             {
              "title": "Arka Match Stats: Defense"
             }
            ],
            "label": "Defense",
            "method": "update"
           },
           {
            "args": [
             {
              "visible": [
               false,
               false,
               false,
               false,
               false,
               false,
               false,
               false,
               false,
               false,
               false,
               false,
               false,
               true,
               true,
               false,
               false,
               false
              ]
             },
             {
              "title": "Arka Match Stats: Cards"
             }
            ],
            "label": "Cards",
            "method": "update"
           },
           {
            "args": [
             {
              "visible": [
               true,
               true,
               true,
               true,
               true,
               true,
               true,
               true,
               true,
               true,
               true,
               true,
               true,
               true,
               true,
               true,
               true,
               true
              ]
             },
             {
              "title": "Arka Match Stats: All"
             }
            ],
            "label": "All",
            "method": "update"
           }
          ],
          "x": 1.1,
          "y": 1.15
         }
        ],
        "xaxis": {
         "title": {
          "text": "Match"
         }
        },
        "yaxis": {
         "title": {
          "text": "Value"
         }
        }
       }
      }
     },
     "metadata": {},
     "output_type": "display_data"
    }
   ],
   "source": [
    "fig = go.Figure()\n",
    "\n",
    "# List of metrics to plot\n",
    "metrics = ['Ratings', 'Minutes', 'Goals', 'Assists', 'Offsides', 'Passes',\n",
    "       'Accurate_Passes', 'Accurate_Passes_%', 'Crosses', 'Tackles',\n",
    "       'Total_Shots', 'Shots_on_Target', 'Blocked_Shots', 'Yellow_Cards',\n",
    "       'Red_Cards', 'Fouls_Committed', 'Clearances', 'Saves']\n",
    "\n",
    "# Add traces for each metric\n",
    "for metric in metrics:\n",
    "    filtered_data = data[data[metrics] >  0]\n",
    "    sorted_df = filtered_data.sort_values(by=metric, ascending=False)\n",
    "    \n",
    "    fig.add_trace(go.Bar(x=sorted_df.index, y=sorted_df[metric], name=metric))\n",
    "\n",
    "\n",
    "# Define visibility matrix\n",
    "n = len(metrics)\n",
    "visibility_matrix = {\n",
    "    \"None\": [False] * n,\n",
    "    \"AVG Rating\": [metric in ['Ratings'] for metric in metrics],\n",
    "    \"Minutes\": [metric in ['Minutes'] for metric in metrics],\n",
    "    \"Passes\": [metric in ['Passes', 'Accurate_Passes', 'Accurate_Passes_%', 'Crosses'] for metric in metrics],\n",
    "    \"Attack\": [metric in ['Goals', 'Assists', 'Total_Shots', 'Shots_on_Target', 'Shots_Inside_Box', 'Shots_Outside_Box'] for metric in metrics],\n",
    "    \"Defense\": [metric in ['Tackles', 'Fouls_Drawn', 'Fouls_Committed', 'Saves'] for metric in metrics],\n",
    "    \"Cards\": [metric in ['Yellow_Cards', 'Red_Cards'] for metric in metrics],\n",
    "    \"All\": [True] * n\n",
    "}\n",
    "\n",
    "# Create buttons\n",
    "buttons = [\n",
    "    dict(label=label,\n",
    "         method=\"update\",\n",
    "         args=[{\"visible\": visibility},\n",
    "               {\"title\": f\"Arka Match Stats: {label}\"}])\n",
    "    for label, visibility in visibility_matrix.items()\n",
    "]\n",
    "\n",
    "# Add dropdown to figure\n",
    "fig.update_layout(\n",
    "    updatemenus=[dict(\n",
    "        active=0,\n",
    "        buttons=buttons,\n",
    "        x=1.1,\n",
    "        y=1.15\n",
    "    )],\n",
    "    title=\"Arka Match Stats\",\n",
    "    xaxis_title=\"Match\",\n",
    "    yaxis_title=\"Value\",\n",
    "    barmode='group'\n",
    ")\n",
    "\n",
    "fig.show()\n",
    "fig.write_html(\"Arka_stats_players_AVG.html\")"
   ]
  },
  {
   "cell_type": "code",
   "execution_count": null,
   "id": "3d549753",
   "metadata": {},
   "outputs": [],
   "source": []
  }
 ],
 "metadata": {
  "kernelspec": {
   "display_name": "DataScience",
   "language": "python",
   "name": "python3"
  },
  "language_info": {
   "codemirror_mode": {
    "name": "ipython",
    "version": 3
   },
   "file_extension": ".py",
   "mimetype": "text/x-python",
   "name": "python",
   "nbconvert_exporter": "python",
   "pygments_lexer": "ipython3",
   "version": "3.10.13"
  }
 },
 "nbformat": 4,
 "nbformat_minor": 5
}
