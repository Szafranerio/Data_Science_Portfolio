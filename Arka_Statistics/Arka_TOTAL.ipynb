{
 "cells": [
  {
   "cell_type": "code",
   "execution_count": 7,
   "id": "0cd1ed24",
   "metadata": {},
   "outputs": [],
   "source": [
    "import pandas as pd\n",
    "import matplotlib.pyplot as plt\n",
    "import seaborn\n",
    "import numpy as np\n",
    "import plotly.graph_objects as go"
   ]
  },
  {
   "cell_type": "code",
   "execution_count": 8,
   "id": "c39f46e5",
   "metadata": {},
   "outputs": [
    {
     "data": {
      "application/vnd.microsoft.datawrangler.viewer.v0+json": {
       "columns": [
        {
         "name": "index",
         "rawType": "int64",
         "type": "integer"
        },
        {
         "name": "Players",
         "rawType": "object",
         "type": "string"
        },
        {
         "name": "Ratings",
         "rawType": "object",
         "type": "string"
        },
        {
         "name": "Minutes",
         "rawType": "object",
         "type": "string"
        },
        {
         "name": "Goals",
         "rawType": "object",
         "type": "string"
        },
        {
         "name": "Assists",
         "rawType": "object",
         "type": "string"
        },
        {
         "name": "Offsides",
         "rawType": "object",
         "type": "string"
        },
        {
         "name": "Passes",
         "rawType": "object",
         "type": "string"
        },
        {
         "name": "Accurate_Passes",
         "rawType": "object",
         "type": "string"
        },
        {
         "name": "Accurate_Passes_%",
         "rawType": "object",
         "type": "string"
        },
        {
         "name": "Crosses",
         "rawType": "object",
         "type": "string"
        },
        {
         "name": "Tackles",
         "rawType": "object",
         "type": "string"
        },
        {
         "name": "Total_Shots",
         "rawType": "object",
         "type": "string"
        },
        {
         "name": "Shots_on_Target",
         "rawType": "object",
         "type": "string"
        },
        {
         "name": "Blocked_Shots",
         "rawType": "object",
         "type": "string"
        },
        {
         "name": "Yellow_Cards",
         "rawType": "object",
         "type": "string"
        },
        {
         "name": "Red_Cards",
         "rawType": "object",
         "type": "string"
        },
        {
         "name": "Fouls_Committed",
         "rawType": "object",
         "type": "string"
        },
        {
         "name": "Clearances",
         "rawType": "object",
         "type": "string"
        },
        {
         "name": "Saves",
         "rawType": "object",
         "type": "string"
        }
       ],
       "ref": "fc77e967-d140-4784-87fa-3d6931648e79",
       "rows": [
        [
         "0",
         "D. Abramowicz",
         "7,27",
         "360,00",
         "1,00",
         "0,00",
         "2,00",
         "98,00",
         "78,00",
         "79,59",
         "7,00",
         "1,00",
         "4,00",
         "1,00",
         "0,00",
         "0,00",
         "0,00",
         "4,00",
         "23,00",
         "0,00"
        ],
        [
         "1",
         "S. Kerk",
         "7,21",
         "319,00",
         "1,00",
         "1,00",
         "0,00",
         "99,00",
         "71,00",
         "71,72",
         "26,00",
         "4,00",
         "8,00",
         "3,00",
         "2,00",
         "0,00",
         "0,00",
         "3,00",
         "6,00",
         "0,00"
        ],
        [
         "2",
         "J. Oliveira",
         "6,80",
         "157,00",
         "0,00",
         "0,00",
         "2,00",
         "36,00",
         "28,00",
         "77,78",
         "5,00",
         "2,00",
         "4,00",
         "3,00",
         "0,00",
         "0,00",
         "0,00",
         "0,00",
         "0,00",
         "0,00"
        ],
        [
         "3",
         "A. Nguiamba",
         "4,94",
         "105,00",
         "0,00",
         "0,00",
         "0,00",
         "40,00",
         "32,00",
         "80,00",
         "1,00",
         "6,00",
         "0,00",
         "0,00",
         "0,00",
         "0,00",
         "0,00",
         "1,00",
         "2,00",
         "0,00"
        ],
        [
         "4",
         "D. Zator",
         "3,40",
         "66,00",
         "0,00",
         "0,00",
         "0,00",
         "37,00",
         "28,00",
         "75,68",
         "3,00",
         "4,00",
         "0,00",
         "0,00",
         "0,00",
         "0,00",
         "0,00",
         "0,00",
         "3,00",
         "0,00"
        ]
       ],
       "shape": {
        "columns": 19,
        "rows": 5
       }
      },
      "text/html": [
       "<div>\n",
       "<style scoped>\n",
       "    .dataframe tbody tr th:only-of-type {\n",
       "        vertical-align: middle;\n",
       "    }\n",
       "\n",
       "    .dataframe tbody tr th {\n",
       "        vertical-align: top;\n",
       "    }\n",
       "\n",
       "    .dataframe thead th {\n",
       "        text-align: right;\n",
       "    }\n",
       "</style>\n",
       "<table border=\"1\" class=\"dataframe\">\n",
       "  <thead>\n",
       "    <tr style=\"text-align: right;\">\n",
       "      <th></th>\n",
       "      <th>Players</th>\n",
       "      <th>Ratings</th>\n",
       "      <th>Minutes</th>\n",
       "      <th>Goals</th>\n",
       "      <th>Assists</th>\n",
       "      <th>Offsides</th>\n",
       "      <th>Passes</th>\n",
       "      <th>Accurate_Passes</th>\n",
       "      <th>Accurate_Passes_%</th>\n",
       "      <th>Crosses</th>\n",
       "      <th>Tackles</th>\n",
       "      <th>Total_Shots</th>\n",
       "      <th>Shots_on_Target</th>\n",
       "      <th>Blocked_Shots</th>\n",
       "      <th>Yellow_Cards</th>\n",
       "      <th>Red_Cards</th>\n",
       "      <th>Fouls_Committed</th>\n",
       "      <th>Clearances</th>\n",
       "      <th>Saves</th>\n",
       "    </tr>\n",
       "  </thead>\n",
       "  <tbody>\n",
       "    <tr>\n",
       "      <th>0</th>\n",
       "      <td>D. Abramowicz</td>\n",
       "      <td>7,27</td>\n",
       "      <td>360,00</td>\n",
       "      <td>1,00</td>\n",
       "      <td>0,00</td>\n",
       "      <td>2,00</td>\n",
       "      <td>98,00</td>\n",
       "      <td>78,00</td>\n",
       "      <td>79,59</td>\n",
       "      <td>7,00</td>\n",
       "      <td>1,00</td>\n",
       "      <td>4,00</td>\n",
       "      <td>1,00</td>\n",
       "      <td>0,00</td>\n",
       "      <td>0,00</td>\n",
       "      <td>0,00</td>\n",
       "      <td>4,00</td>\n",
       "      <td>23,00</td>\n",
       "      <td>0,00</td>\n",
       "    </tr>\n",
       "    <tr>\n",
       "      <th>1</th>\n",
       "      <td>S. Kerk</td>\n",
       "      <td>7,21</td>\n",
       "      <td>319,00</td>\n",
       "      <td>1,00</td>\n",
       "      <td>1,00</td>\n",
       "      <td>0,00</td>\n",
       "      <td>99,00</td>\n",
       "      <td>71,00</td>\n",
       "      <td>71,72</td>\n",
       "      <td>26,00</td>\n",
       "      <td>4,00</td>\n",
       "      <td>8,00</td>\n",
       "      <td>3,00</td>\n",
       "      <td>2,00</td>\n",
       "      <td>0,00</td>\n",
       "      <td>0,00</td>\n",
       "      <td>3,00</td>\n",
       "      <td>6,00</td>\n",
       "      <td>0,00</td>\n",
       "    </tr>\n",
       "    <tr>\n",
       "      <th>2</th>\n",
       "      <td>J. Oliveira</td>\n",
       "      <td>6,80</td>\n",
       "      <td>157,00</td>\n",
       "      <td>0,00</td>\n",
       "      <td>0,00</td>\n",
       "      <td>2,00</td>\n",
       "      <td>36,00</td>\n",
       "      <td>28,00</td>\n",
       "      <td>77,78</td>\n",
       "      <td>5,00</td>\n",
       "      <td>2,00</td>\n",
       "      <td>4,00</td>\n",
       "      <td>3,00</td>\n",
       "      <td>0,00</td>\n",
       "      <td>0,00</td>\n",
       "      <td>0,00</td>\n",
       "      <td>0,00</td>\n",
       "      <td>0,00</td>\n",
       "      <td>0,00</td>\n",
       "    </tr>\n",
       "    <tr>\n",
       "      <th>3</th>\n",
       "      <td>A. Nguiamba</td>\n",
       "      <td>4,94</td>\n",
       "      <td>105,00</td>\n",
       "      <td>0,00</td>\n",
       "      <td>0,00</td>\n",
       "      <td>0,00</td>\n",
       "      <td>40,00</td>\n",
       "      <td>32,00</td>\n",
       "      <td>80,00</td>\n",
       "      <td>1,00</td>\n",
       "      <td>6,00</td>\n",
       "      <td>0,00</td>\n",
       "      <td>0,00</td>\n",
       "      <td>0,00</td>\n",
       "      <td>0,00</td>\n",
       "      <td>0,00</td>\n",
       "      <td>1,00</td>\n",
       "      <td>2,00</td>\n",
       "      <td>0,00</td>\n",
       "    </tr>\n",
       "    <tr>\n",
       "      <th>4</th>\n",
       "      <td>D. Zator</td>\n",
       "      <td>3,40</td>\n",
       "      <td>66,00</td>\n",
       "      <td>0,00</td>\n",
       "      <td>0,00</td>\n",
       "      <td>0,00</td>\n",
       "      <td>37,00</td>\n",
       "      <td>28,00</td>\n",
       "      <td>75,68</td>\n",
       "      <td>3,00</td>\n",
       "      <td>4,00</td>\n",
       "      <td>0,00</td>\n",
       "      <td>0,00</td>\n",
       "      <td>0,00</td>\n",
       "      <td>0,00</td>\n",
       "      <td>0,00</td>\n",
       "      <td>0,00</td>\n",
       "      <td>3,00</td>\n",
       "      <td>0,00</td>\n",
       "    </tr>\n",
       "  </tbody>\n",
       "</table>\n",
       "</div>"
      ],
      "text/plain": [
       "         Players Ratings Minutes Goals Assists Offsides Passes  \\\n",
       "0  D. Abramowicz    7,27  360,00  1,00    0,00     2,00  98,00   \n",
       "1        S. Kerk    7,21  319,00  1,00    1,00     0,00  99,00   \n",
       "2    J. Oliveira    6,80  157,00  0,00    0,00     2,00  36,00   \n",
       "3    A. Nguiamba    4,94  105,00  0,00    0,00     0,00  40,00   \n",
       "4       D. Zator    3,40   66,00  0,00    0,00     0,00  37,00   \n",
       "\n",
       "  Accurate_Passes Accurate_Passes_% Crosses Tackles Total_Shots  \\\n",
       "0           78,00             79,59    7,00    1,00        4,00   \n",
       "1           71,00             71,72   26,00    4,00        8,00   \n",
       "2           28,00             77,78    5,00    2,00        4,00   \n",
       "3           32,00             80,00    1,00    6,00        0,00   \n",
       "4           28,00             75,68    3,00    4,00        0,00   \n",
       "\n",
       "  Shots_on_Target Blocked_Shots Yellow_Cards Red_Cards Fouls_Committed  \\\n",
       "0            1,00          0,00         0,00      0,00            4,00   \n",
       "1            3,00          2,00         0,00      0,00            3,00   \n",
       "2            3,00          0,00         0,00      0,00            0,00   \n",
       "3            0,00          0,00         0,00      0,00            1,00   \n",
       "4            0,00          0,00         0,00      0,00            0,00   \n",
       "\n",
       "  Clearances Saves  \n",
       "0      23,00  0,00  \n",
       "1       6,00  0,00  \n",
       "2       0,00  0,00  \n",
       "3       2,00  0,00  \n",
       "4       3,00  0,00  "
      ]
     },
     "execution_count": 8,
     "metadata": {},
     "output_type": "execute_result"
    }
   ],
   "source": [
    "data = pd.read_csv('data/TOTAL.csv', delimiter=';')\n",
    "data.head()"
   ]
  },
  {
   "cell_type": "code",
   "execution_count": 9,
   "id": "fb5c3e1c",
   "metadata": {},
   "outputs": [
    {
     "data": {
      "application/vnd.microsoft.datawrangler.viewer.v0+json": {
       "columns": [
        {
         "name": "Players",
         "rawType": "object",
         "type": "string"
        },
        {
         "name": "Ratings",
         "rawType": "object",
         "type": "string"
        },
        {
         "name": "Minutes",
         "rawType": "object",
         "type": "string"
        },
        {
         "name": "Goals",
         "rawType": "object",
         "type": "string"
        },
        {
         "name": "Assists",
         "rawType": "object",
         "type": "string"
        },
        {
         "name": "Offsides",
         "rawType": "object",
         "type": "string"
        },
        {
         "name": "Passes",
         "rawType": "object",
         "type": "string"
        },
        {
         "name": "Accurate_Passes",
         "rawType": "object",
         "type": "string"
        },
        {
         "name": "Accurate_Passes_%",
         "rawType": "object",
         "type": "string"
        },
        {
         "name": "Crosses",
         "rawType": "object",
         "type": "string"
        },
        {
         "name": "Tackles",
         "rawType": "object",
         "type": "string"
        },
        {
         "name": "Total_Shots",
         "rawType": "object",
         "type": "string"
        },
        {
         "name": "Shots_on_Target",
         "rawType": "object",
         "type": "string"
        },
        {
         "name": "Blocked_Shots",
         "rawType": "object",
         "type": "string"
        },
        {
         "name": "Yellow_Cards",
         "rawType": "object",
         "type": "string"
        },
        {
         "name": "Red_Cards",
         "rawType": "object",
         "type": "string"
        },
        {
         "name": "Fouls_Committed",
         "rawType": "object",
         "type": "string"
        },
        {
         "name": "Clearances",
         "rawType": "object",
         "type": "string"
        },
        {
         "name": "Saves",
         "rawType": "object",
         "type": "string"
        }
       ],
       "ref": "2c8ef58d-c1ab-401d-bb3f-cded82391181",
       "rows": [
        [
         "D. Abramowicz",
         "7,27",
         "360,00",
         "1,00",
         "0,00",
         "2,00",
         "98,00",
         "78,00",
         "79,59",
         "7,00",
         "1,00",
         "4,00",
         "1,00",
         "0,00",
         "0,00",
         "0,00",
         "4,00",
         "23,00",
         "0,00"
        ],
        [
         "S. Kerk",
         "7,21",
         "319,00",
         "1,00",
         "1,00",
         "0,00",
         "99,00",
         "71,00",
         "71,72",
         "26,00",
         "4,00",
         "8,00",
         "3,00",
         "2,00",
         "0,00",
         "0,00",
         "3,00",
         "6,00",
         "0,00"
        ],
        [
         "J. Oliveira",
         "6,80",
         "157,00",
         "0,00",
         "0,00",
         "2,00",
         "36,00",
         "28,00",
         "77,78",
         "5,00",
         "2,00",
         "4,00",
         "3,00",
         "0,00",
         "0,00",
         "0,00",
         "0,00",
         "0,00",
         "0,00"
        ],
        [
         "A. Nguiamba",
         "4,94",
         "105,00",
         "0,00",
         "0,00",
         "0,00",
         "40,00",
         "32,00",
         "80,00",
         "1,00",
         "6,00",
         "0,00",
         "0,00",
         "0,00",
         "0,00",
         "0,00",
         "1,00",
         "2,00",
         "0,00"
        ],
        [
         "D. Zator",
         "3,40",
         "66,00",
         "0,00",
         "0,00",
         "0,00",
         "37,00",
         "28,00",
         "75,68",
         "3,00",
         "4,00",
         "0,00",
         "0,00",
         "0,00",
         "0,00",
         "0,00",
         "0,00",
         "3,00",
         "0,00"
        ]
       ],
       "shape": {
        "columns": 18,
        "rows": 5
       }
      },
      "text/html": [
       "<div>\n",
       "<style scoped>\n",
       "    .dataframe tbody tr th:only-of-type {\n",
       "        vertical-align: middle;\n",
       "    }\n",
       "\n",
       "    .dataframe tbody tr th {\n",
       "        vertical-align: top;\n",
       "    }\n",
       "\n",
       "    .dataframe thead th {\n",
       "        text-align: right;\n",
       "    }\n",
       "</style>\n",
       "<table border=\"1\" class=\"dataframe\">\n",
       "  <thead>\n",
       "    <tr style=\"text-align: right;\">\n",
       "      <th></th>\n",
       "      <th>Ratings</th>\n",
       "      <th>Minutes</th>\n",
       "      <th>Goals</th>\n",
       "      <th>Assists</th>\n",
       "      <th>Offsides</th>\n",
       "      <th>Passes</th>\n",
       "      <th>Accurate_Passes</th>\n",
       "      <th>Accurate_Passes_%</th>\n",
       "      <th>Crosses</th>\n",
       "      <th>Tackles</th>\n",
       "      <th>Total_Shots</th>\n",
       "      <th>Shots_on_Target</th>\n",
       "      <th>Blocked_Shots</th>\n",
       "      <th>Yellow_Cards</th>\n",
       "      <th>Red_Cards</th>\n",
       "      <th>Fouls_Committed</th>\n",
       "      <th>Clearances</th>\n",
       "      <th>Saves</th>\n",
       "    </tr>\n",
       "    <tr>\n",
       "      <th>Players</th>\n",
       "      <th></th>\n",
       "      <th></th>\n",
       "      <th></th>\n",
       "      <th></th>\n",
       "      <th></th>\n",
       "      <th></th>\n",
       "      <th></th>\n",
       "      <th></th>\n",
       "      <th></th>\n",
       "      <th></th>\n",
       "      <th></th>\n",
       "      <th></th>\n",
       "      <th></th>\n",
       "      <th></th>\n",
       "      <th></th>\n",
       "      <th></th>\n",
       "      <th></th>\n",
       "      <th></th>\n",
       "    </tr>\n",
       "  </thead>\n",
       "  <tbody>\n",
       "    <tr>\n",
       "      <th>D. Abramowicz</th>\n",
       "      <td>7,27</td>\n",
       "      <td>360,00</td>\n",
       "      <td>1,00</td>\n",
       "      <td>0,00</td>\n",
       "      <td>2,00</td>\n",
       "      <td>98,00</td>\n",
       "      <td>78,00</td>\n",
       "      <td>79,59</td>\n",
       "      <td>7,00</td>\n",
       "      <td>1,00</td>\n",
       "      <td>4,00</td>\n",
       "      <td>1,00</td>\n",
       "      <td>0,00</td>\n",
       "      <td>0,00</td>\n",
       "      <td>0,00</td>\n",
       "      <td>4,00</td>\n",
       "      <td>23,00</td>\n",
       "      <td>0,00</td>\n",
       "    </tr>\n",
       "    <tr>\n",
       "      <th>S. Kerk</th>\n",
       "      <td>7,21</td>\n",
       "      <td>319,00</td>\n",
       "      <td>1,00</td>\n",
       "      <td>1,00</td>\n",
       "      <td>0,00</td>\n",
       "      <td>99,00</td>\n",
       "      <td>71,00</td>\n",
       "      <td>71,72</td>\n",
       "      <td>26,00</td>\n",
       "      <td>4,00</td>\n",
       "      <td>8,00</td>\n",
       "      <td>3,00</td>\n",
       "      <td>2,00</td>\n",
       "      <td>0,00</td>\n",
       "      <td>0,00</td>\n",
       "      <td>3,00</td>\n",
       "      <td>6,00</td>\n",
       "      <td>0,00</td>\n",
       "    </tr>\n",
       "    <tr>\n",
       "      <th>J. Oliveira</th>\n",
       "      <td>6,80</td>\n",
       "      <td>157,00</td>\n",
       "      <td>0,00</td>\n",
       "      <td>0,00</td>\n",
       "      <td>2,00</td>\n",
       "      <td>36,00</td>\n",
       "      <td>28,00</td>\n",
       "      <td>77,78</td>\n",
       "      <td>5,00</td>\n",
       "      <td>2,00</td>\n",
       "      <td>4,00</td>\n",
       "      <td>3,00</td>\n",
       "      <td>0,00</td>\n",
       "      <td>0,00</td>\n",
       "      <td>0,00</td>\n",
       "      <td>0,00</td>\n",
       "      <td>0,00</td>\n",
       "      <td>0,00</td>\n",
       "    </tr>\n",
       "    <tr>\n",
       "      <th>A. Nguiamba</th>\n",
       "      <td>4,94</td>\n",
       "      <td>105,00</td>\n",
       "      <td>0,00</td>\n",
       "      <td>0,00</td>\n",
       "      <td>0,00</td>\n",
       "      <td>40,00</td>\n",
       "      <td>32,00</td>\n",
       "      <td>80,00</td>\n",
       "      <td>1,00</td>\n",
       "      <td>6,00</td>\n",
       "      <td>0,00</td>\n",
       "      <td>0,00</td>\n",
       "      <td>0,00</td>\n",
       "      <td>0,00</td>\n",
       "      <td>0,00</td>\n",
       "      <td>1,00</td>\n",
       "      <td>2,00</td>\n",
       "      <td>0,00</td>\n",
       "    </tr>\n",
       "    <tr>\n",
       "      <th>D. Zator</th>\n",
       "      <td>3,40</td>\n",
       "      <td>66,00</td>\n",
       "      <td>0,00</td>\n",
       "      <td>0,00</td>\n",
       "      <td>0,00</td>\n",
       "      <td>37,00</td>\n",
       "      <td>28,00</td>\n",
       "      <td>75,68</td>\n",
       "      <td>3,00</td>\n",
       "      <td>4,00</td>\n",
       "      <td>0,00</td>\n",
       "      <td>0,00</td>\n",
       "      <td>0,00</td>\n",
       "      <td>0,00</td>\n",
       "      <td>0,00</td>\n",
       "      <td>0,00</td>\n",
       "      <td>3,00</td>\n",
       "      <td>0,00</td>\n",
       "    </tr>\n",
       "  </tbody>\n",
       "</table>\n",
       "</div>"
      ],
      "text/plain": [
       "              Ratings Minutes Goals Assists Offsides Passes Accurate_Passes  \\\n",
       "Players                                                                       \n",
       "D. Abramowicz    7,27  360,00  1,00    0,00     2,00  98,00           78,00   \n",
       "S. Kerk          7,21  319,00  1,00    1,00     0,00  99,00           71,00   \n",
       "J. Oliveira      6,80  157,00  0,00    0,00     2,00  36,00           28,00   \n",
       "A. Nguiamba      4,94  105,00  0,00    0,00     0,00  40,00           32,00   \n",
       "D. Zator         3,40   66,00  0,00    0,00     0,00  37,00           28,00   \n",
       "\n",
       "              Accurate_Passes_% Crosses Tackles Total_Shots Shots_on_Target  \\\n",
       "Players                                                                       \n",
       "D. Abramowicz             79,59    7,00    1,00        4,00            1,00   \n",
       "S. Kerk                   71,72   26,00    4,00        8,00            3,00   \n",
       "J. Oliveira               77,78    5,00    2,00        4,00            3,00   \n",
       "A. Nguiamba               80,00    1,00    6,00        0,00            0,00   \n",
       "D. Zator                  75,68    3,00    4,00        0,00            0,00   \n",
       "\n",
       "              Blocked_Shots Yellow_Cards Red_Cards Fouls_Committed Clearances  \\\n",
       "Players                                                                         \n",
       "D. Abramowicz          0,00         0,00      0,00            4,00      23,00   \n",
       "S. Kerk                2,00         0,00      0,00            3,00       6,00   \n",
       "J. Oliveira            0,00         0,00      0,00            0,00       0,00   \n",
       "A. Nguiamba            0,00         0,00      0,00            1,00       2,00   \n",
       "D. Zator               0,00         0,00      0,00            0,00       3,00   \n",
       "\n",
       "              Saves  \n",
       "Players              \n",
       "D. Abramowicz  0,00  \n",
       "S. Kerk        0,00  \n",
       "J. Oliveira    0,00  \n",
       "A. Nguiamba    0,00  \n",
       "D. Zator       0,00  "
      ]
     },
     "execution_count": 9,
     "metadata": {},
     "output_type": "execute_result"
    }
   ],
   "source": [
    "data = data.set_index('Players')\n",
    "data.head()"
   ]
  },
  {
   "cell_type": "code",
   "execution_count": 10,
   "id": "ee713314",
   "metadata": {},
   "outputs": [],
   "source": [
    "data = data.replace(',', '.', regex=True)\n",
    "data = data.apply(pd.to_numeric, errors='coerce')"
   ]
  },
  {
   "cell_type": "code",
   "execution_count": 11,
   "id": "59321c30",
   "metadata": {},
   "outputs": [
    {
     "data": {
      "application/vnd.plotly.v1+json": {
       "config": {
        "plotlyServerURL": "https://plot.ly"
       },
       "data": [
        {
         "name": "Ratings",
         "type": "bar",
         "x": [
          "D. Abramowicz",
          "S. Kerk",
          "M. Navarro",
          "D. Weglarz",
          "A. Sidibe",
          "K. Jakubczyk",
          "J. Oliveira",
          "D. Kocyla",
          "M. Marcjanik",
          "J. Celestine",
          "M. Predenkiewicz",
          "T. Gaprindashvili",
          "D.Percan",
          "A. Nguiamba",
          "D. Zator",
          "S. Sobczak",
          "E.Espiau",
          "L.Perea",
          "H. Vitalucci"
         ],
         "y": {
          "bdata": "FK5H4XoUHUDXo3A9CtccQJqZmZmZmRxAw/UoXI/CG0Bcj8L1KFwbQEjhehSuRxtAMzMzMzMzG0D2KFyPwvUaQMP1KFyPwhpAZmZmZmZmGkAzMzMzMzMaQAAAAAAAABpAhetRuB6FFEDD9Shcj8ITQDMzMzMzMwtAXI/C9ShcCUDhehSuR+EIQM3MzMzMzAhAw/UoXI/C+T8=",
          "dtype": "f8"
         }
        },
        {
         "name": "Minutes",
         "type": "bar",
         "x": [
          "D. Abramowicz",
          "M. Marcjanik",
          "J. Celestine",
          "A. Sidibe",
          "D. Weglarz",
          "S. Kerk",
          "M. Navarro",
          "D. Kocyla",
          "K. Jakubczyk",
          "D.Percan",
          "M. Predenkiewicz",
          "T. Gaprindashvili",
          "J. Oliveira",
          "A. Nguiamba",
          "S. Sobczak",
          "D. Zator",
          "H. Vitalucci",
          "E.Espiau",
          "L.Perea"
         ],
         "y": {
          "bdata": "AAAAAACAdkAAAAAAAIB2QAAAAAAAgHZAAAAAAACAdkAAAAAAAIB2QAAAAAAA8HNAAAAAAABgckAAAAAAALBxQAAAAAAAkHBAAAAAAABgaEAAAAAAAABnQAAAAAAAgGRAAAAAAACgY0AAAAAAAEBaQAAAAAAAwFZAAAAAAACAUEAAAAAAAIBPQAAAAAAAgEFAAAAAAAAAPkA=",
          "dtype": "f8"
         }
        },
        {
         "name": "Goals",
         "type": "bar",
         "x": [
          "D. Abramowicz",
          "S. Kerk",
          "K. Jakubczyk",
          "J. Oliveira",
          "A. Nguiamba",
          "D. Zator",
          "D. Kocyla",
          "D. Weglarz",
          "M. Navarro",
          "T. Gaprindashvili",
          "D.Percan",
          "M. Marcjanik",
          "A. Sidibe",
          "H. Vitalucci",
          "J. Celestine",
          "S. Sobczak",
          "M. Predenkiewicz",
          "L.Perea",
          "E.Espiau"
         ],
         "y": {
          "bdata": "AAAAAAAA8D8AAAAAAADwPwAAAAAAAPA/AAAAAAAA+H8AAAAAAAD4fwAAAAAAAPh/AAAAAAAA+H8AAAAAAAD4fwAAAAAAAPh/AAAAAAAA+H8AAAAAAAD4fwAAAAAAAPh/AAAAAAAA+H8AAAAAAAD4fwAAAAAAAPh/AAAAAAAA+H8AAAAAAAD4fwAAAAAAAPh/AAAAAAAA+H8=",
          "dtype": "f8"
         }
        },
        {
         "name": "Assists",
         "type": "bar",
         "x": [
          "S. Kerk",
          "D.Percan",
          "D. Abramowicz",
          "J. Oliveira",
          "A. Nguiamba",
          "D. Zator",
          "K. Jakubczyk",
          "D. Kocyla",
          "D. Weglarz",
          "M. Navarro",
          "T. Gaprindashvili",
          "M. Marcjanik",
          "A. Sidibe",
          "H. Vitalucci",
          "J. Celestine",
          "S. Sobczak",
          "M. Predenkiewicz",
          "L.Perea",
          "E.Espiau"
         ],
         "y": {
          "bdata": "AAAAAAAA8D8AAAAAAADwPwAAAAAAAPh/AAAAAAAA+H8AAAAAAAD4fwAAAAAAAPh/AAAAAAAA+H8AAAAAAAD4fwAAAAAAAPh/AAAAAAAA+H8AAAAAAAD4fwAAAAAAAPh/AAAAAAAA+H8AAAAAAAD4fwAAAAAAAPh/AAAAAAAA+H8AAAAAAAD4fwAAAAAAAPh/AAAAAAAA+H8=",
          "dtype": "f8"
         }
        },
        {
         "name": "Offsides",
         "type": "bar",
         "x": [
          "D. Abramowicz",
          "J. Oliveira",
          "D. Kocyla",
          "T. Gaprindashvili",
          "M. Marcjanik",
          "A. Sidibe",
          "S. Kerk",
          "A. Nguiamba",
          "D. Zator",
          "K. Jakubczyk",
          "D. Weglarz",
          "M. Navarro",
          "D.Percan",
          "H. Vitalucci",
          "J. Celestine",
          "S. Sobczak",
          "M. Predenkiewicz",
          "L.Perea",
          "E.Espiau"
         ],
         "y": {
          "bdata": "AAAAAAAAAEAAAAAAAAAAQAAAAAAAAPA/AAAAAAAA8D8AAAAAAADwPwAAAAAAAPA/AAAAAAAA+H8AAAAAAAD4fwAAAAAAAPh/AAAAAAAA+H8AAAAAAAD4fwAAAAAAAPh/AAAAAAAA+H8AAAAAAAD4fwAAAAAAAPh/AAAAAAAA+H8AAAAAAAD4fwAAAAAAAPh/AAAAAAAA+H8=",
          "dtype": "f8"
         }
        },
        {
         "name": "Passes",
         "type": "bar",
         "x": [
          "M. Marcjanik",
          "J. Celestine",
          "M. Navarro",
          "D. Weglarz",
          "S. Kerk",
          "D. Abramowicz",
          "A. Sidibe",
          "K. Jakubczyk",
          "A. Nguiamba",
          "D. Zator",
          "T. Gaprindashvili",
          "D. Kocyla",
          "J. Oliveira",
          "D.Percan",
          "M. Predenkiewicz",
          "H. Vitalucci",
          "L.Perea",
          "S. Sobczak",
          "E.Espiau"
         ],
         "y": {
          "bdata": "AAAAAAAgZkAAAAAAAEBiQAAAAAAAQGBAAAAAAACAXkAAAAAAAMBYQAAAAAAAgFhAAAAAAACAWEAAAAAAAABRQAAAAAAAAERAAAAAAACAQkAAAAAAAABCQAAAAAAAAEJAAAAAAAAAQkAAAAAAAAA8QAAAAAAAADtAAAAAAAAAKkAAAAAAAAAmQAAAAAAAABxAAAAAAAAAGEA=",
          "dtype": "f8"
         }
        },
        {
         "name": "Accurate_Passes",
         "type": "bar",
         "x": [
          "M. Marcjanik",
          "J. Celestine",
          "M. Navarro",
          "D. Abramowicz",
          "A. Sidibe",
          "S. Kerk",
          "D. Weglarz",
          "K. Jakubczyk",
          "A. Nguiamba",
          "T. Gaprindashvili",
          "D. Kocyla",
          "D. Zator",
          "J. Oliveira",
          "D.Percan",
          "M. Predenkiewicz",
          "H. Vitalucci",
          "L.Perea",
          "S. Sobczak",
          "E.Espiau"
         ],
         "y": {
          "bdata": "AAAAAACAYkAAAAAAACBgQAAAAAAAwFhAAAAAAACAU0AAAAAAAIBTQAAAAAAAwFFAAAAAAADAUUAAAAAAAABQQAAAAAAAAEBAAAAAAAAAPkAAAAAAAAA+QAAAAAAAADxAAAAAAAAAPEAAAAAAAAA0QAAAAAAAADJAAAAAAAAAIEAAAAAAAAAYQAAAAAAAABRAAAAAAAAAEEA=",
          "dtype": "f8"
         }
        },
        {
         "name": "Accurate_Passes_%",
         "type": "bar",
         "x": [
          "K. Jakubczyk",
          "J. Celestine",
          "M. Marcjanik",
          "T. Gaprindashvili",
          "D. Kocyla",
          "A. Nguiamba",
          "A. Sidibe",
          "D. Abramowicz",
          "J. Oliveira",
          "M. Navarro",
          "D. Zator",
          "S. Kerk",
          "D.Percan",
          "S. Sobczak",
          "M. Predenkiewicz",
          "E.Espiau",
          "H. Vitalucci",
          "D. Weglarz",
          "L.Perea"
         ],
         "y": {
          "bdata": "SOF6FK6HV0DXo3A9ChdWQEjhehSu51RAhetRuB7VVECF61G4HtVUQAAAAAAAAFRA9ihcj8LlU0D2KFyPwuVTQFK4HoXrcVNAmpmZmZkJU0DsUbgehetSQK5H4XoU7lFA7FG4HoXbUUDsUbgehdtRQHsUrkfhqlBAexSuR+GqUECF61G4HsVOQJqZmZmZGU1AZmZmZmZGS0A=",
          "dtype": "f8"
         }
        },
        {
         "name": "Crosses",
         "type": "bar",
         "x": [
          "M. Navarro",
          "S. Kerk",
          "D. Abramowicz",
          "J. Oliveira",
          "D. Zator",
          "T. Gaprindashvili",
          "D. Kocyla",
          "H. Vitalucci",
          "M. Predenkiewicz",
          "A. Nguiamba",
          "K. Jakubczyk",
          "D. Weglarz",
          "D.Percan",
          "M. Marcjanik",
          "A. Sidibe",
          "J. Celestine",
          "S. Sobczak",
          "L.Perea",
          "E.Espiau"
         ],
         "y": {
          "bdata": "AAAAAAAAPEAAAAAAAAA6QAAAAAAAABxAAAAAAAAAFEAAAAAAAAAIQAAAAAAAAAhAAAAAAAAAAEAAAAAAAAAAQAAAAAAAAABAAAAAAAAA8D8AAAAAAAD4fwAAAAAAAPh/AAAAAAAA+H8AAAAAAAD4fwAAAAAAAPh/AAAAAAAA+H8AAAAAAAD4fwAAAAAAAPh/AAAAAAAA+H8=",
          "dtype": "f8"
         }
        },
        {
         "name": "Tackles",
         "type": "bar",
         "x": [
          "M. Navarro",
          "A. Sidibe",
          "A. Nguiamba",
          "D. Kocyla",
          "S. Kerk",
          "D. Zator",
          "K. Jakubczyk",
          "J. Oliveira",
          "D.Percan",
          "D. Abramowicz",
          "M. Marcjanik",
          "H. Vitalucci",
          "J. Celestine",
          "S. Sobczak",
          "M. Predenkiewicz",
          "D. Weglarz",
          "T. Gaprindashvili",
          "L.Perea",
          "E.Espiau"
         ],
         "y": {
          "bdata": "AAAAAAAAKkAAAAAAAAAiQAAAAAAAABhAAAAAAAAAFEAAAAAAAAAQQAAAAAAAABBAAAAAAAAAEEAAAAAAAAAAQAAAAAAAAABAAAAAAAAA8D8AAAAAAADwPwAAAAAAAPA/AAAAAAAA8D8AAAAAAADwPwAAAAAAAPA/AAAAAAAA+H8AAAAAAAD4fwAAAAAAAPh/AAAAAAAA+H8=",
          "dtype": "f8"
         }
        },
        {
         "name": "Total_Shots",
         "type": "bar",
         "x": [
          "S. Kerk",
          "D. Kocyla",
          "D. Abramowicz",
          "J. Oliveira",
          "M. Predenkiewicz",
          "T. Gaprindashvili",
          "M. Marcjanik",
          "J. Celestine",
          "K. Jakubczyk",
          "M. Navarro",
          "D.Percan",
          "A. Sidibe",
          "H. Vitalucci",
          "A. Nguiamba",
          "D. Zator",
          "D. Weglarz",
          "S. Sobczak",
          "L.Perea",
          "E.Espiau"
         ],
         "y": {
          "bdata": "AAAAAAAAIEAAAAAAAAAUQAAAAAAAABBAAAAAAAAAEEAAAAAAAAAIQAAAAAAAAABAAAAAAAAAAEAAAAAAAAAAQAAAAAAAAPA/AAAAAAAA8D8AAAAAAADwPwAAAAAAAPA/AAAAAAAA8D8AAAAAAAD4fwAAAAAAAPh/AAAAAAAA+H8AAAAAAAD4fwAAAAAAAPh/AAAAAAAA+H8=",
          "dtype": "f8"
         }
        },
        {
         "name": "Shots_on_Target",
         "type": "bar",
         "x": [
          "S. Kerk",
          "J. Oliveira",
          "M. Marcjanik",
          "M. Predenkiewicz",
          "D. Abramowicz",
          "K. Jakubczyk",
          "D. Kocyla",
          "A. Sidibe",
          "S. Sobczak",
          "A. Nguiamba",
          "D. Zator",
          "D. Weglarz",
          "M. Navarro",
          "T. Gaprindashvili",
          "D.Percan",
          "H. Vitalucci",
          "J. Celestine",
          "L.Perea",
          "E.Espiau"
         ],
         "y": {
          "bdata": "AAAAAAAACEAAAAAAAAAIQAAAAAAAAABAAAAAAAAAAEAAAAAAAADwPwAAAAAAAPA/AAAAAAAA8D8AAAAAAADwPwAAAAAAAPA/AAAAAAAA+H8AAAAAAAD4fwAAAAAAAPh/AAAAAAAA+H8AAAAAAAD4fwAAAAAAAPh/AAAAAAAA+H8AAAAAAAD4fwAAAAAAAPh/AAAAAAAA+H8=",
          "dtype": "f8"
         }
        },
        {
         "name": "Blocked_Shots",
         "type": "bar",
         "x": [
          "D. Kocyla",
          "S. Kerk",
          "M. Marcjanik",
          "M. Navarro",
          "A. Sidibe",
          "H. Vitalucci",
          "J. Celestine",
          "D. Abramowicz",
          "J. Oliveira",
          "A. Nguiamba",
          "D. Zator",
          "K. Jakubczyk",
          "D. Weglarz",
          "T. Gaprindashvili",
          "D.Percan",
          "S. Sobczak",
          "M. Predenkiewicz",
          "L.Perea",
          "E.Espiau"
         ],
         "y": {
          "bdata": "AAAAAAAACEAAAAAAAAAAQAAAAAAAAABAAAAAAAAA8D8AAAAAAADwPwAAAAAAAPA/AAAAAAAA8D8AAAAAAAD4fwAAAAAAAPh/AAAAAAAA+H8AAAAAAAD4fwAAAAAAAPh/AAAAAAAA+H8AAAAAAAD4fwAAAAAAAPh/AAAAAAAA+H8AAAAAAAD4fwAAAAAAAPh/AAAAAAAA+H8=",
          "dtype": "f8"
         }
        },
        {
         "name": "Yellow_Cards",
         "type": "bar",
         "x": [
          "K. Jakubczyk",
          "T. Gaprindashvili",
          "J. Celestine",
          "M. Navarro",
          "D.Percan",
          "M. Marcjanik",
          "A. Sidibe",
          "L.Perea",
          "D. Abramowicz",
          "S. Kerk",
          "J. Oliveira",
          "A. Nguiamba",
          "D. Zator",
          "D. Kocyla",
          "D. Weglarz",
          "H. Vitalucci",
          "S. Sobczak",
          "M. Predenkiewicz",
          "E.Espiau"
         ],
         "y": {
          "bdata": "AAAAAAAAAEAAAAAAAAAAQAAAAAAAAABAAAAAAAAA8D8AAAAAAADwPwAAAAAAAPA/AAAAAAAA8D8AAAAAAADwPwAAAAAAAPh/AAAAAAAA+H8AAAAAAAD4fwAAAAAAAPh/AAAAAAAA+H8AAAAAAAD4fwAAAAAAAPh/AAAAAAAA+H8AAAAAAAD4fwAAAAAAAPh/AAAAAAAA+H8=",
          "dtype": "f8"
         }
        },
        {
         "name": "Red_Cards",
         "type": "bar",
         "x": [
          "D. Abramowicz",
          "S. Kerk",
          "J. Oliveira",
          "A. Nguiamba",
          "D. Zator",
          "K. Jakubczyk",
          "D. Kocyla",
          "D. Weglarz",
          "M. Navarro",
          "T. Gaprindashvili",
          "D.Percan",
          "M. Marcjanik",
          "A. Sidibe",
          "H. Vitalucci",
          "J. Celestine",
          "S. Sobczak",
          "M. Predenkiewicz",
          "L.Perea",
          "E.Espiau"
         ],
         "y": {
          "bdata": "AAAAAAAA+H8AAAAAAAD4fwAAAAAAAPh/AAAAAAAA+H8AAAAAAAD4fwAAAAAAAPh/AAAAAAAA+H8AAAAAAAD4fwAAAAAAAPh/AAAAAAAA+H8AAAAAAAD4fwAAAAAAAPh/AAAAAAAA+H8AAAAAAAD4fwAAAAAAAPh/AAAAAAAA+H8AAAAAAAD4fwAAAAAAAPh/AAAAAAAA+H8=",
          "dtype": "f8"
         }
        },
        {
         "name": "Fouls_Committed",
         "type": "bar",
         "x": [
          "K. Jakubczyk",
          "A. Sidibe",
          "J. Celestine",
          "D. Abramowicz",
          "M. Marcjanik",
          "S. Sobczak",
          "M. Predenkiewicz",
          "S. Kerk",
          "M. Navarro",
          "T. Gaprindashvili",
          "D.Percan",
          "L.Perea",
          "A. Nguiamba",
          "H. Vitalucci",
          "J. Oliveira",
          "D. Zator",
          "D. Kocyla",
          "D. Weglarz",
          "E.Espiau"
         ],
         "y": {
          "bdata": "AAAAAAAAIEAAAAAAAAAYQAAAAAAAABhAAAAAAAAAEEAAAAAAAAAQQAAAAAAAABBAAAAAAAAAEEAAAAAAAAAIQAAAAAAAAAhAAAAAAAAACEAAAAAAAAAIQAAAAAAAAABAAAAAAAAA8D8AAAAAAADwPwAAAAAAAPh/AAAAAAAA+H8AAAAAAAD4fwAAAAAAAPh/AAAAAAAA+H8=",
          "dtype": "f8"
         }
        },
        {
         "name": "Clearances",
         "type": "bar",
         "x": [
          "J. Celestine",
          "M. Marcjanik",
          "D. Abramowicz",
          "M. Navarro",
          "A. Sidibe",
          "S. Kerk",
          "D. Weglarz",
          "K. Jakubczyk",
          "D. Zator",
          "D.Percan",
          "L.Perea",
          "A. Nguiamba",
          "D. Kocyla",
          "S. Sobczak",
          "M. Predenkiewicz",
          "T. Gaprindashvili",
          "E.Espiau",
          "J. Oliveira",
          "H. Vitalucci"
         ],
         "y": {
          "bdata": "AAAAAAAAPUAAAAAAAAA5QAAAAAAAADdAAAAAAAAAMUAAAAAAAAAkQAAAAAAAABhAAAAAAAAAFEAAAAAAAAAQQAAAAAAAAAhAAAAAAAAACEAAAAAAAAAAQAAAAAAAAABAAAAAAAAAAEAAAAAAAAAAQAAAAAAAAABAAAAAAAAA8D8AAAAAAADwPwAAAAAAAPh/AAAAAAAA+H8=",
          "dtype": "f8"
         }
        },
        {
         "name": "Saves",
         "type": "bar",
         "x": [
          "D. Weglarz",
          "D. Abramowicz",
          "S. Kerk",
          "J. Oliveira",
          "A. Nguiamba",
          "D. Zator",
          "K. Jakubczyk",
          "D. Kocyla",
          "M. Navarro",
          "T. Gaprindashvili",
          "D.Percan",
          "M. Marcjanik",
          "A. Sidibe",
          "H. Vitalucci",
          "J. Celestine",
          "S. Sobczak",
          "M. Predenkiewicz",
          "L.Perea",
          "E.Espiau"
         ],
         "y": {
          "bdata": "AAAAAAAAJEAAAAAAAAD4fwAAAAAAAPh/AAAAAAAA+H8AAAAAAAD4fwAAAAAAAPh/AAAAAAAA+H8AAAAAAAD4fwAAAAAAAPh/AAAAAAAA+H8AAAAAAAD4fwAAAAAAAPh/AAAAAAAA+H8AAAAAAAD4fwAAAAAAAPh/AAAAAAAA+H8AAAAAAAD4fwAAAAAAAPh/AAAAAAAA+H8=",
          "dtype": "f8"
         }
        }
       ],
       "layout": {
        "barmode": "group",
        "template": {
         "data": {
          "bar": [
           {
            "error_x": {
             "color": "#2a3f5f"
            },
            "error_y": {
             "color": "#2a3f5f"
            },
            "marker": {
             "line": {
              "color": "#E5ECF6",
              "width": 0.5
             },
             "pattern": {
              "fillmode": "overlay",
              "size": 10,
              "solidity": 0.2
             }
            },
            "type": "bar"
           }
          ],
          "barpolar": [
           {
            "marker": {
             "line": {
              "color": "#E5ECF6",
              "width": 0.5
             },
             "pattern": {
              "fillmode": "overlay",
              "size": 10,
              "solidity": 0.2
             }
            },
            "type": "barpolar"
           }
          ],
          "carpet": [
           {
            "aaxis": {
             "endlinecolor": "#2a3f5f",
             "gridcolor": "white",
             "linecolor": "white",
             "minorgridcolor": "white",
             "startlinecolor": "#2a3f5f"
            },
            "baxis": {
             "endlinecolor": "#2a3f5f",
             "gridcolor": "white",
             "linecolor": "white",
             "minorgridcolor": "white",
             "startlinecolor": "#2a3f5f"
            },
            "type": "carpet"
           }
          ],
          "choropleth": [
           {
            "colorbar": {
             "outlinewidth": 0,
             "ticks": ""
            },
            "type": "choropleth"
           }
          ],
          "contour": [
           {
            "colorbar": {
             "outlinewidth": 0,
             "ticks": ""
            },
            "colorscale": [
             [
              0,
              "#0d0887"
             ],
             [
              0.1111111111111111,
              "#46039f"
             ],
             [
              0.2222222222222222,
              "#7201a8"
             ],
             [
              0.3333333333333333,
              "#9c179e"
             ],
             [
              0.4444444444444444,
              "#bd3786"
             ],
             [
              0.5555555555555556,
              "#d8576b"
             ],
             [
              0.6666666666666666,
              "#ed7953"
             ],
             [
              0.7777777777777778,
              "#fb9f3a"
             ],
             [
              0.8888888888888888,
              "#fdca26"
             ],
             [
              1,
              "#f0f921"
             ]
            ],
            "type": "contour"
           }
          ],
          "contourcarpet": [
           {
            "colorbar": {
             "outlinewidth": 0,
             "ticks": ""
            },
            "type": "contourcarpet"
           }
          ],
          "heatmap": [
           {
            "colorbar": {
             "outlinewidth": 0,
             "ticks": ""
            },
            "colorscale": [
             [
              0,
              "#0d0887"
             ],
             [
              0.1111111111111111,
              "#46039f"
             ],
             [
              0.2222222222222222,
              "#7201a8"
             ],
             [
              0.3333333333333333,
              "#9c179e"
             ],
             [
              0.4444444444444444,
              "#bd3786"
             ],
             [
              0.5555555555555556,
              "#d8576b"
             ],
             [
              0.6666666666666666,
              "#ed7953"
             ],
             [
              0.7777777777777778,
              "#fb9f3a"
             ],
             [
              0.8888888888888888,
              "#fdca26"
             ],
             [
              1,
              "#f0f921"
             ]
            ],
            "type": "heatmap"
           }
          ],
          "histogram": [
           {
            "marker": {
             "pattern": {
              "fillmode": "overlay",
              "size": 10,
              "solidity": 0.2
             }
            },
            "type": "histogram"
           }
          ],
          "histogram2d": [
           {
            "colorbar": {
             "outlinewidth": 0,
             "ticks": ""
            },
            "colorscale": [
             [
              0,
              "#0d0887"
             ],
             [
              0.1111111111111111,
              "#46039f"
             ],
             [
              0.2222222222222222,
              "#7201a8"
             ],
             [
              0.3333333333333333,
              "#9c179e"
             ],
             [
              0.4444444444444444,
              "#bd3786"
             ],
             [
              0.5555555555555556,
              "#d8576b"
             ],
             [
              0.6666666666666666,
              "#ed7953"
             ],
             [
              0.7777777777777778,
              "#fb9f3a"
             ],
             [
              0.8888888888888888,
              "#fdca26"
             ],
             [
              1,
              "#f0f921"
             ]
            ],
            "type": "histogram2d"
           }
          ],
          "histogram2dcontour": [
           {
            "colorbar": {
             "outlinewidth": 0,
             "ticks": ""
            },
            "colorscale": [
             [
              0,
              "#0d0887"
             ],
             [
              0.1111111111111111,
              "#46039f"
             ],
             [
              0.2222222222222222,
              "#7201a8"
             ],
             [
              0.3333333333333333,
              "#9c179e"
             ],
             [
              0.4444444444444444,
              "#bd3786"
             ],
             [
              0.5555555555555556,
              "#d8576b"
             ],
             [
              0.6666666666666666,
              "#ed7953"
             ],
             [
              0.7777777777777778,
              "#fb9f3a"
             ],
             [
              0.8888888888888888,
              "#fdca26"
             ],
             [
              1,
              "#f0f921"
             ]
            ],
            "type": "histogram2dcontour"
           }
          ],
          "mesh3d": [
           {
            "colorbar": {
             "outlinewidth": 0,
             "ticks": ""
            },
            "type": "mesh3d"
           }
          ],
          "parcoords": [
           {
            "line": {
             "colorbar": {
              "outlinewidth": 0,
              "ticks": ""
             }
            },
            "type": "parcoords"
           }
          ],
          "pie": [
           {
            "automargin": true,
            "type": "pie"
           }
          ],
          "scatter": [
           {
            "fillpattern": {
             "fillmode": "overlay",
             "size": 10,
             "solidity": 0.2
            },
            "type": "scatter"
           }
          ],
          "scatter3d": [
           {
            "line": {
             "colorbar": {
              "outlinewidth": 0,
              "ticks": ""
             }
            },
            "marker": {
             "colorbar": {
              "outlinewidth": 0,
              "ticks": ""
             }
            },
            "type": "scatter3d"
           }
          ],
          "scattercarpet": [
           {
            "marker": {
             "colorbar": {
              "outlinewidth": 0,
              "ticks": ""
             }
            },
            "type": "scattercarpet"
           }
          ],
          "scattergeo": [
           {
            "marker": {
             "colorbar": {
              "outlinewidth": 0,
              "ticks": ""
             }
            },
            "type": "scattergeo"
           }
          ],
          "scattergl": [
           {
            "marker": {
             "colorbar": {
              "outlinewidth": 0,
              "ticks": ""
             }
            },
            "type": "scattergl"
           }
          ],
          "scattermap": [
           {
            "marker": {
             "colorbar": {
              "outlinewidth": 0,
              "ticks": ""
             }
            },
            "type": "scattermap"
           }
          ],
          "scattermapbox": [
           {
            "marker": {
             "colorbar": {
              "outlinewidth": 0,
              "ticks": ""
             }
            },
            "type": "scattermapbox"
           }
          ],
          "scatterpolar": [
           {
            "marker": {
             "colorbar": {
              "outlinewidth": 0,
              "ticks": ""
             }
            },
            "type": "scatterpolar"
           }
          ],
          "scatterpolargl": [
           {
            "marker": {
             "colorbar": {
              "outlinewidth": 0,
              "ticks": ""
             }
            },
            "type": "scatterpolargl"
           }
          ],
          "scatterternary": [
           {
            "marker": {
             "colorbar": {
              "outlinewidth": 0,
              "ticks": ""
             }
            },
            "type": "scatterternary"
           }
          ],
          "surface": [
           {
            "colorbar": {
             "outlinewidth": 0,
             "ticks": ""
            },
            "colorscale": [
             [
              0,
              "#0d0887"
             ],
             [
              0.1111111111111111,
              "#46039f"
             ],
             [
              0.2222222222222222,
              "#7201a8"
             ],
             [
              0.3333333333333333,
              "#9c179e"
             ],
             [
              0.4444444444444444,
              "#bd3786"
             ],
             [
              0.5555555555555556,
              "#d8576b"
             ],
             [
              0.6666666666666666,
              "#ed7953"
             ],
             [
              0.7777777777777778,
              "#fb9f3a"
             ],
             [
              0.8888888888888888,
              "#fdca26"
             ],
             [
              1,
              "#f0f921"
             ]
            ],
            "type": "surface"
           }
          ],
          "table": [
           {
            "cells": {
             "fill": {
              "color": "#EBF0F8"
             },
             "line": {
              "color": "white"
             }
            },
            "header": {
             "fill": {
              "color": "#C8D4E3"
             },
             "line": {
              "color": "white"
             }
            },
            "type": "table"
           }
          ]
         },
         "layout": {
          "annotationdefaults": {
           "arrowcolor": "#2a3f5f",
           "arrowhead": 0,
           "arrowwidth": 1
          },
          "autotypenumbers": "strict",
          "coloraxis": {
           "colorbar": {
            "outlinewidth": 0,
            "ticks": ""
           }
          },
          "colorscale": {
           "diverging": [
            [
             0,
             "#8e0152"
            ],
            [
             0.1,
             "#c51b7d"
            ],
            [
             0.2,
             "#de77ae"
            ],
            [
             0.3,
             "#f1b6da"
            ],
            [
             0.4,
             "#fde0ef"
            ],
            [
             0.5,
             "#f7f7f7"
            ],
            [
             0.6,
             "#e6f5d0"
            ],
            [
             0.7,
             "#b8e186"
            ],
            [
             0.8,
             "#7fbc41"
            ],
            [
             0.9,
             "#4d9221"
            ],
            [
             1,
             "#276419"
            ]
           ],
           "sequential": [
            [
             0,
             "#0d0887"
            ],
            [
             0.1111111111111111,
             "#46039f"
            ],
            [
             0.2222222222222222,
             "#7201a8"
            ],
            [
             0.3333333333333333,
             "#9c179e"
            ],
            [
             0.4444444444444444,
             "#bd3786"
            ],
            [
             0.5555555555555556,
             "#d8576b"
            ],
            [
             0.6666666666666666,
             "#ed7953"
            ],
            [
             0.7777777777777778,
             "#fb9f3a"
            ],
            [
             0.8888888888888888,
             "#fdca26"
            ],
            [
             1,
             "#f0f921"
            ]
           ],
           "sequentialminus": [
            [
             0,
             "#0d0887"
            ],
            [
             0.1111111111111111,
             "#46039f"
            ],
            [
             0.2222222222222222,
             "#7201a8"
            ],
            [
             0.3333333333333333,
             "#9c179e"
            ],
            [
             0.4444444444444444,
             "#bd3786"
            ],
            [
             0.5555555555555556,
             "#d8576b"
            ],
            [
             0.6666666666666666,
             "#ed7953"
            ],
            [
             0.7777777777777778,
             "#fb9f3a"
            ],
            [
             0.8888888888888888,
             "#fdca26"
            ],
            [
             1,
             "#f0f921"
            ]
           ]
          },
          "colorway": [
           "#636efa",
           "#EF553B",
           "#00cc96",
           "#ab63fa",
           "#FFA15A",
           "#19d3f3",
           "#FF6692",
           "#B6E880",
           "#FF97FF",
           "#FECB52"
          ],
          "font": {
           "color": "#2a3f5f"
          },
          "geo": {
           "bgcolor": "white",
           "lakecolor": "white",
           "landcolor": "#E5ECF6",
           "showlakes": true,
           "showland": true,
           "subunitcolor": "white"
          },
          "hoverlabel": {
           "align": "left"
          },
          "hovermode": "closest",
          "mapbox": {
           "style": "light"
          },
          "paper_bgcolor": "white",
          "plot_bgcolor": "#E5ECF6",
          "polar": {
           "angularaxis": {
            "gridcolor": "white",
            "linecolor": "white",
            "ticks": ""
           },
           "bgcolor": "#E5ECF6",
           "radialaxis": {
            "gridcolor": "white",
            "linecolor": "white",
            "ticks": ""
           }
          },
          "scene": {
           "xaxis": {
            "backgroundcolor": "#E5ECF6",
            "gridcolor": "white",
            "gridwidth": 2,
            "linecolor": "white",
            "showbackground": true,
            "ticks": "",
            "zerolinecolor": "white"
           },
           "yaxis": {
            "backgroundcolor": "#E5ECF6",
            "gridcolor": "white",
            "gridwidth": 2,
            "linecolor": "white",
            "showbackground": true,
            "ticks": "",
            "zerolinecolor": "white"
           },
           "zaxis": {
            "backgroundcolor": "#E5ECF6",
            "gridcolor": "white",
            "gridwidth": 2,
            "linecolor": "white",
            "showbackground": true,
            "ticks": "",
            "zerolinecolor": "white"
           }
          },
          "shapedefaults": {
           "line": {
            "color": "#2a3f5f"
           }
          },
          "ternary": {
           "aaxis": {
            "gridcolor": "white",
            "linecolor": "white",
            "ticks": ""
           },
           "baxis": {
            "gridcolor": "white",
            "linecolor": "white",
            "ticks": ""
           },
           "bgcolor": "#E5ECF6",
           "caxis": {
            "gridcolor": "white",
            "linecolor": "white",
            "ticks": ""
           }
          },
          "title": {
           "x": 0.05
          },
          "xaxis": {
           "automargin": true,
           "gridcolor": "white",
           "linecolor": "white",
           "ticks": "",
           "title": {
            "standoff": 15
           },
           "zerolinecolor": "white",
           "zerolinewidth": 2
          },
          "yaxis": {
           "automargin": true,
           "gridcolor": "white",
           "linecolor": "white",
           "ticks": "",
           "title": {
            "standoff": 15
           },
           "zerolinecolor": "white",
           "zerolinewidth": 2
          }
         }
        },
        "title": {
         "text": "Arka Match Stats"
        },
        "updatemenus": [
         {
          "active": 0,
          "buttons": [
           {
            "args": [
             {
              "visible": [
               false,
               false,
               false,
               false,
               false,
               false,
               false,
               false,
               false,
               false,
               false,
               false,
               false,
               false,
               false,
               false,
               false,
               false
              ]
             },
             {
              "title": "Arka Match Stats: None"
             }
            ],
            "label": "None",
            "method": "update"
           },
           {
            "args": [
             {
              "visible": [
               true,
               false,
               false,
               false,
               false,
               false,
               false,
               false,
               false,
               false,
               false,
               false,
               false,
               false,
               false,
               false,
               false,
               false
              ]
             },
             {
              "title": "Arka Match Stats: AVG Rating"
             }
            ],
            "label": "AVG Rating",
            "method": "update"
           },
           {
            "args": [
             {
              "visible": [
               false,
               true,
               false,
               false,
               false,
               false,
               false,
               false,
               false,
               false,
               false,
               false,
               false,
               false,
               false,
               false,
               false,
               false
              ]
             },
             {
              "title": "Arka Match Stats: Minutes"
             }
            ],
            "label": "Minutes",
            "method": "update"
           },
           {
            "args": [
             {
              "visible": [
               false,
               false,
               false,
               false,
               false,
               true,
               true,
               true,
               true,
               false,
               false,
               false,
               false,
               false,
               false,
               false,
               false,
               false
              ]
             },
             {
              "title": "Arka Match Stats: Passes"
             }
            ],
            "label": "Passes",
            "method": "update"
           },
           {
            "args": [
             {
              "visible": [
               false,
               false,
               true,
               true,
               false,
               false,
               false,
               false,
               false,
               false,
               true,
               true,
               false,
               false,
               false,
               false,
               false,
               false
              ]
             },
             {
              "title": "Arka Match Stats: Attack"
             }
            ],
            "label": "Attack",
            "method": "update"
           },
           {
            "args": [
             {
              "visible": [
               false,
               false,
               false,
               false,
               false,
               false,
               false,
               false,
               false,
               true,
               false,
               false,
               false,
               false,
               false,
               true,
               false,
               true
              ]
             },
             {
              "title": "Arka Match Stats: Defense"
             }
            ],
            "label": "Defense",
            "method": "update"
           },
           {
            "args": [
             {
              "visible": [
               false,
               false,
               false,
               false,
               false,
               false,
               false,
               false,
               false,
               false,
               false,
               false,
               false,
               true,
               true,
               false,
               false,
               false
              ]
             },
             {
              "title": "Arka Match Stats: Cards"
             }
            ],
            "label": "Cards",
            "method": "update"
           },
           {
            "args": [
             {
              "visible": [
               true,
               true,
               true,
               true,
               true,
               true,
               true,
               true,
               true,
               true,
               true,
               true,
               true,
               true,
               true,
               true,
               true,
               true
              ]
             },
             {
              "title": "Arka Match Stats: All"
             }
            ],
            "label": "All",
            "method": "update"
           }
          ],
          "x": 1.1,
          "y": 1.15
         }
        ],
        "xaxis": {
         "title": {
          "text": "Match"
         }
        },
        "yaxis": {
         "title": {
          "text": "Value"
         }
        }
       }
      }
     },
     "metadata": {},
     "output_type": "display_data"
    }
   ],
   "source": [
    "# Create the figure\n",
    "from torch import layout\n",
    "\n",
    "\n",
    "fig = go.Figure()\n",
    "\n",
    "# List of metrics to plot\n",
    "metrics = ['Ratings', 'Minutes', 'Goals', 'Assists', 'Offsides', 'Passes',\n",
    "       'Accurate_Passes', 'Accurate_Passes_%', 'Crosses', 'Tackles',\n",
    "       'Total_Shots', 'Shots_on_Target', 'Blocked_Shots', 'Yellow_Cards',\n",
    "       'Red_Cards', 'Fouls_Committed', 'Clearances', 'Saves']\n",
    "\n",
    "# Add traces for each metric\n",
    "for metric in metrics:\n",
    "    filtered_data = data[data[metrics] >  0]\n",
    "    sorted_df = filtered_data.sort_values(by=metric, ascending=False)\n",
    "    \n",
    "    fig.add_trace(go.Bar(x=sorted_df.index, y=sorted_df[metric], name=metric))\n",
    "\n",
    "\n",
    "# Define visibility matrix\n",
    "n = len(metrics)\n",
    "visibility_matrix = {\n",
    "    \"None\": [False] * n,\n",
    "    \"AVG Rating\": [metric in ['Ratings'] for metric in metrics],\n",
    "    \"Minutes\": [metric in ['Minutes'] for metric in metrics],\n",
    "    \"Passes\": [metric in ['Passes', 'Accurate_Passes', 'Accurate_Passes_%', 'Crosses'] for metric in metrics],\n",
    "    \"Attack\": [metric in ['Goals', 'Assists', 'Total_Shots', 'Shots_on_Target', 'Shots_Inside_Box', 'Shots_Outside_Box'] for metric in metrics],\n",
    "    \"Defense\": [metric in ['Tackles', 'Fouls_Drawn', 'Fouls_Committed', 'Saves'] for metric in metrics],\n",
    "    \"Cards\": [metric in ['Yellow_Cards', 'Red_Cards'] for metric in metrics],\n",
    "    \"All\": [True] * n\n",
    "}\n",
    "\n",
    "# Create buttons\n",
    "buttons = [\n",
    "    dict(label=label,\n",
    "         method=\"update\",\n",
    "         args=[{\"visible\": visibility},\n",
    "               {\"title\": f\"Arka Match Stats: {label}\"}])\n",
    "    for label, visibility in visibility_matrix.items()\n",
    "]\n",
    "\n",
    "# Add dropdown to figure\n",
    "fig.update_layout(\n",
    "    updatemenus=[dict(\n",
    "        active=0,\n",
    "        buttons=buttons,\n",
    "        x=1.1,\n",
    "        y=1.15\n",
    "    )],\n",
    "    title=\"Arka Match Stats\",\n",
    "    xaxis_title=\"Match\",\n",
    "    yaxis_title=\"Value\",\n",
    "    barmode='group'\n",
    ")\n",
    "\n",
    "fig.show()\n",
    "fig.write_html(\"Arka_stats_players_TOTAL.html\")"
   ]
  },
  {
   "cell_type": "code",
   "execution_count": null,
   "id": "cf8ab611",
   "metadata": {},
   "outputs": [],
   "source": []
  }
 ],
 "metadata": {
  "kernelspec": {
   "display_name": "DataScience",
   "language": "python",
   "name": "python3"
  },
  "language_info": {
   "codemirror_mode": {
    "name": "ipython",
    "version": 3
   },
   "file_extension": ".py",
   "mimetype": "text/x-python",
   "name": "python",
   "nbconvert_exporter": "python",
   "pygments_lexer": "ipython3",
   "version": "3.10.13"
  }
 },
 "nbformat": 4,
 "nbformat_minor": 5
}
