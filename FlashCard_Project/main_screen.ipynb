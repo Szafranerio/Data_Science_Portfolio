{
 "cells": [
  {
   "cell_type": "code",
   "execution_count": 1,
   "metadata": {},
   "outputs": [],
   "source": [
    "from tkinter import *\n",
    "import pandas as pd\n",
    "import random\n",
    "import json\n",
    "from tkinter import messagebox, ttk, END\n",
    "import os\n",
    "import re\n",
    "import smtplib\n",
    "import locale\n",
    "from dotenv import load_dotenv\n",
    "from email.mime.multipart import MIMEMultipart\n",
    "from email.mime.text import MIMEText\n",
    "from email.mime.application import MIMEApplication\n",
    "from tkinter import ttk\n",
    "from natsort import natsorted, ns"
   ]
  },
  {
   "cell_type": "code",
   "execution_count": 15,
   "metadata": {},
   "outputs": [],
   "source": [
    "BACKGROUND_COLOR = \"#B1DDC6\"\n",
    "main_window = Tk()\n",
    "main_window.config(padx=50, pady=50, background=BACKGROUND_COLOR)\n",
    "main_window.title('Main Menu')\n",
    "main_window.geometry('800x526')\n",
    "\n",
    "\n",
    "\n",
    "\n",
    "\n",
    "main_window.mainloop()"
   ]
  },
  {
   "cell_type": "code",
   "execution_count": null,
   "metadata": {},
   "outputs": [],
   "source": []
  }
 ],
 "metadata": {
  "kernelspec": {
   "display_name": "DataScience",
   "language": "python",
   "name": "python3"
  },
  "language_info": {
   "codemirror_mode": {
    "name": "ipython",
    "version": 3
   },
   "file_extension": ".py",
   "mimetype": "text/x-python",
   "name": "python",
   "nbconvert_exporter": "python",
   "pygments_lexer": "ipython3",
   "version": "3.11.9"
  }
 },
 "nbformat": 4,
 "nbformat_minor": 2
}
