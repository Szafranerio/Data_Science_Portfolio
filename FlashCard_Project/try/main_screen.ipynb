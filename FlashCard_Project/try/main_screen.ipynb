{
 "cells": [
  {
   "cell_type": "code",
   "execution_count": 3,
   "metadata": {},
   "outputs": [
    {
     "ename": "ModuleNotFoundError",
     "evalue": "No module named 'flashcard'",
     "output_type": "error",
     "traceback": [
      "\u001b[0;31m---------------------------------------------------------------------------\u001b[0m",
      "\u001b[0;31mModuleNotFoundError\u001b[0m                       Traceback (most recent call last)",
      "Cell \u001b[0;32mIn[3], line 16\u001b[0m\n\u001b[1;32m     14\u001b[0m \u001b[38;5;28;01mfrom\u001b[39;00m \u001b[38;5;21;01mtkinter\u001b[39;00m \u001b[38;5;28;01mimport\u001b[39;00m ttk\n\u001b[1;32m     15\u001b[0m \u001b[38;5;28;01mfrom\u001b[39;00m \u001b[38;5;21;01mnatsort\u001b[39;00m \u001b[38;5;28;01mimport\u001b[39;00m natsorted, ns\n\u001b[0;32m---> 16\u001b[0m \u001b[38;5;28;01mimport\u001b[39;00m \u001b[38;5;21;01mflashcard\u001b[39;00m \n",
      "\u001b[0;31mModuleNotFoundError\u001b[0m: No module named 'flashcard'"
     ]
    }
   ],
   "source": [
    "from tkinter import *\n",
    "import pandas as pd\n",
    "import random\n",
    "import json\n",
    "from tkinter import messagebox, ttk, END\n",
    "import os\n",
    "import re\n",
    "import smtplib\n",
    "import locale\n",
    "from dotenv import load_dotenv\n",
    "from email.mime.multipart import MIMEMultipart\n",
    "from email.mime.text import MIMEText\n",
    "from email.mime.application import MIMEApplication\n",
    "from tkinter import ttk\n",
    "from natsort import natsorted, ns\n",
    "import flashcard "
   ]
  },
  {
   "cell_type": "code",
   "execution_count": null,
   "metadata": {},
   "outputs": [],
   "source": [
    "BACKGROUND_COLOR = \"#B1DDC6\"\n",
    "main_window = Tk()\n",
    "main_window.config(padx=50, pady=50, background=BACKGROUND_COLOR)\n",
    "main_window.title('Main Menu')\n",
    "main_window.geometry('800x526')\n",
    "\n",
    "def open_flashcards():\n",
    "    flashcards.run_flashcards()\n",
    "\n",
    "flashcards = Button(text='Flashcards', highlightbackground=BACKGROUND_COLOR,\n",
    "                          highlightcolor=BACKGROUND_COLOR, highlightthickness=4, relief='solid', commnad=open_flashcard)\n",
    "flashcards.grid(column=0, row=1)\n",
    "\n",
    "dictionary = Button(text='Dictionary', highlightbackground=BACKGROUND_COLOR,\n",
    "                          highlightcolor=BACKGROUND_COLOR, highlightthickness=4, relief='solid')\n",
    "dictionary.grid(column=0, row=2)\n",
    "\n",
    "random_game = Button(text='Random Guessing Game', highlightbackground=BACKGROUND_COLOR,\n",
    "                          highlightcolor=BACKGROUND_COLOR, h