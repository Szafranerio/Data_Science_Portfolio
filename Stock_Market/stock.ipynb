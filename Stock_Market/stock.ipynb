{
 "cells": [
  {
   "cell_type": "code",
   "execution_count": 2,
   "metadata": {},
   "outputs": [
    {
     "name": "stderr",
     "output_type": "stream",
     "text": [
      "/opt/anaconda3/envs/DataScience/lib/python3.11/site-packages/tqdm/auto.py:21: TqdmWarning: IProgress not found. Please update jupyter and ipywidgets. See https://ipywidgets.readthedocs.io/en/stable/user_install.html\n",
      "  from .autonotebook import tqdm as notebook_tqdm\n"
     ]
    }
   ],
   "source": [
    "import pandas as pd\n",
    "import yfinance as yf\n",
    "from datetime import datetime\n",
    "from datetime import date,timedelta\n",
    "import yfinance as yf\n",
    "import plotly.graph_objects as go\n",
    "import plotly.express as px\n",
    "import matplotlib.pyplot as plt\n",
    "from prophet import Prophet\n",
    "from prophet.plot import plot_plotly, plot_components_plotly\n",
    "import seaborn as sns\n",
    "import pandas_ta as ta\n",
    "import numpy as np\n",
    "import json\n",
    "from tkinter import *\n",
    "from tkinter import messagebox, ttk, END"
   ]
  },
  {
   "cell_type": "code",
   "execution_count": 3,
   "metadata": {},
   "outputs": [
    {
     "name": "stdout",
     "output_type": "stream",
     "text": [
      "Inside selected_item: ['Price', 'Candlestick', 'RSI', 'MACD', 'Bollinger_Bands']\n"
     ]
    },
    {
     "name": "stderr",
     "output_type": "stream",
     "text": [
      "2025-02-01 14:19:20.187 python[42197:3390469] Warning: Expected min height of view: (<NSButton: 0x7f91481298a0>) to be less than or equal to 30 but got a height of 32.000000. This error will be logged once per view in violation.\n"
     ]
    }
   ],
   "source": [
    "FONT_NAME = \"Courier\"\n",
    "analysis = ['Price', 'Candlestick', 'RSI', 'MACD', 'Bollinger_Bands', 'M10_M20']\n",
    "\n",
    "# Global variable to store the selected analysis\n",
    "global_selected_analysis = []\n",
    "\n",
    "# Functions\n",
    "def send_data():\n",
    "    global global_selected_analysis\n",
    "\n",
    "    ticker = input_ticker.get().upper()\n",
    "    days = input_time.get()\n",
    "    mail = input_mail.get()\n",
    "    name = input_name.get() \n",
    "\n",
    "    \n",
    "    try:\n",
    "        days = int(days)\n",
    "    except ValueError:\n",
    "        messagebox.showwarning(title=\"Warning\", message=\"Days must be a number\")\n",
    "        return\n",
    "\n",
    "    new_data = {\n",
    "        \"stock\": {\n",
    "            \"ticker\": ticker,\n",
    "            \"days\": days,\n",
    "            \"mail\": mail,\n",
    "            \"analysis\": global_selected_analysis,\n",
    "            \"name\": name\n",
    "        }\n",
    "    }\n",
    "\n",
    "    # Validation checks\n",
    "    if len(ticker) == 0 or days == 0 or len(mail) == 0:\n",
    "        messagebox.showwarning(title=\"Warning\", message=\"Check your data\")\n",
    "    elif len(ticker) >= 8:\n",
    "        messagebox.showwarning(title=\"Warning\", message='Ticker too long')\n",
    "    elif days < 14 or days > 720:\n",
    "        messagebox.showwarning(title=\"Warning\", message='Check your date period, min 14 days max 720 days')\n",
    "    elif \"@\" not in mail or \".\" not in mail or len(mail) < 6:\n",
    "        messagebox.showwarning(title=\"Warning\", message='Check your mail')\n",
    "        return\n",
    "    else:\n",
    "        messagebox.showinfo(title=\"Check your mail\", message='Data was sent, close the program or input next ticker.')\n",
    "\n",
    "    # Save data to file\n",
    "    try:\n",
    "        data_file_path = './data/data.json'\n",
    "        try:\n",
    "            with open(data_file_path, mode=\"r\") as data_file:\n",
    "                data = json.load(data_file)\n",
    "        except json.JSONDecodeError:\n",
    "            data = {}\n",
    "\n",
    "        data.update(new_data)\n",
    "\n",
    "        with open(data_file_path, mode=\"w\") as data_file:\n",
    "            json.dump(data, data_file, indent=4)\n",
    "\n",
    "    except Exception as e:\n",
    "        messagebox.showerror(title=\"Error\", message=f\"An error occurred: {e}\")\n",
    "    finally:\n",
    "        # Clear the input fields, but keep the mail for next mails, while program runs.\n",
    "        input_ticker.delete(0, END)\n",
    "        input_time.delete(0, END)\n",
    "        input_name.delete(0, END)\n",
    "\n",
    "# Function to get selected analysis\n",
    "def selected_item():\n",
    "    global global_selected_analysis  \n",
    "    global_selected_analysis.clear()  \n",
    "    chosen = listbox.curselection()  \n",
    "    for v in chosen:\n",
    "        op = listbox.get(v)\n",
    "        global_selected_analysis.append(op)\n",
    "\n",
    "    print(f\"Inside selected_item: {global_selected_analysis}\")\n",
    "\n",
    "# UI\n",
    "window = Tk()\n",
    "window.config(padx=25, pady=25)\n",
    "window.title('Stock Market Analysis')\n",
    "\n",
    "# Load and display the stock graph image\n",
    "canvas = Canvas(width=600, height=350, highlightthickness=0)\n",
    "stock_png = PhotoImage(file='./images/stock_graph.png')\n",
    "canvas.create_image(300, 150, image=stock_png)\n",
    "canvas.grid(column=0, row=0, columnspan=3)\n",
    "\n",
    "FONT_NAME = \"Arial\"\n",
    "\n",
    "# Ticker Input\n",
    "Label(text='Ticker Name:', font=(FONT_NAME, 12)).grid(column=0, row=1, sticky='e', padx=10, pady=5)\n",
    "input_ticker = Entry(width=30)\n",
    "input_ticker.grid(column=1, row=1, padx=10, pady=5)\n",
    "\n",
    "# Stock/Company Full Name\n",
    "Label(text='Company/Stock Full Name:', font=(FONT_NAME, 12)).grid(column=0, row=2, sticky='e', padx=10, pady=5)\n",
    "input_name = Entry(width=30)\n",
    "input_name.grid(column=1, row=2, padx=10, pady=5)\n",
    "\n",
    "# Time Period Input\n",
    "Label(text='Time Period (days, max 720):', font=(FONT_NAME, 12)).grid(column=0, row=3, sticky='e', padx=10, pady=5)\n",
    "input_time = Entry(width=30)\n",
    "input_time.grid(column=1, row=3, padx=10, pady=5)\n",
    "\n",
    "# Email Input\n",
    "Label(text='Your Email:', font=(FONT_NAME, 12)).grid(column=0, row=4, sticky='e', padx=10, pady=5)\n",
    "input_mail = Entry(width=30)\n",
    "input_mail.grid(column=1, row=4, padx=10, pady=5)\n",
    "\n",
    "# Analysis Selection\n",
    "Label(text='Choose Analysis Type:', font=(FONT_NAME, 12)).grid(column=0, row=5, sticky='e', padx=10, pady=5)\n",
    "listbox = Listbox(window, selectmode='multiple', exportselection=0, width=30, height=5)\n",
    "listbox.grid(column=1, row=5, padx=10, pady=5)\n",
    "\n",
    "# Insert options into the listbox\n",
    "for value in analysis:\n",
    "    listbox.insert(END, value)\n",
    "\n",
    "# Button to send data\n",
    "button = Button(text='Send', command=lambda: [selected_item(), send_data()])  # First get selected item, then send data\n",
    "button.grid(column=2, row=4)\n",
    "\n",
    "window.mainloop()"
   ]
  },
  {
   "cell_type": "code",
   "execution_count": 4,
   "metadata": {},
   "outputs": [
    {
     "name": "stdout",
     "output_type": "stream",
     "text": [
      "                                                     stock\n",
      "ticker                                             BTC-USD\n",
      "days                                                   300\n",
      "mail                              bartekszafran@icloud.com\n",
      "analysis  [Price, Candlestick, RSI, MACD, Bollinger_Bands]\n",
      "name                                               bitcoin\n"
     ]
    }
   ],
   "source": [
    "data = pd.read_json('./data/data.json')\n",
    "print(data)"
   ]
  },
  {
   "cell_type": "code",
   "execution_count": 5,
   "metadata": {},
   "outputs": [],
   "source": [
    "ticker = data['stock']['ticker']\n",
    "time = data['stock']['days']\n",
    "name = data['stock']['name'].title()"
   ]
  },
  {
   "cell_type": "code",
   "execution_count": 6,
   "metadata": {},
   "outputs": [],
   "source": [
    "today = date.today()\n",
    "today = today.strftime('%Y-%m-%d')\n",
    "start_date = date.today() - timedelta(days=time)\n",
    "start_date = start_date.strftime('%Y-%m-%d')"
   ]
  },
  {
   "cell_type": "code",
   "execution_count": 7,
   "metadata": {},
   "outputs": [
    {
     "data": {
      "text/html": [
       "<div>\n",
       "<style scoped>\n",
       "    .dataframe tbody tr th:only-of-type {\n",
       "        vertical-align: middle;\n",
       "    }\n",
       "\n",
       "    .dataframe tbody tr th {\n",
       "        vertical-align: top;\n",
       "    }\n",
       "\n",
       "    .dataframe thead th {\n",
       "        text-align: right;\n",
       "    }\n",
       "</style>\n",
       "<table border=\"1\" class=\"dataframe\">\n",
       "  <thead>\n",
       "    <tr style=\"text-align: right;\">\n",
       "      <th></th>\n",
       "      <th>Open</th>\n",
       "      <th>High</th>\n",
       "      <th>Low</th>\n",
       "      <th>Close</th>\n",
       "      <th>Adj Close</th>\n",
       "      <th>Volume</th>\n",
       "    </tr>\n",
       "    <tr>\n",
       "      <th>Date</th>\n",
       "      <th></th>\n",
       "      <th></th>\n",
       "      <th></th>\n",
       "      <th></th>\n",
       "      <th></th>\n",
       "      <th></th>\n",
       "    </tr>\n",
       "  </thead>\n",
       "  <tbody>\n",
       "    <tr>\n",
       "      <th>2024-04-07</th>\n",
       "      <td>68897.109375</td>\n",
       "      <td>70284.429688</td>\n",
       "      <td>68851.632812</td>\n",
       "      <td>69362.554688</td>\n",
       "      <td>69362.554688</td>\n",
       "      <td>21204930369</td>\n",
       "    </tr>\n",
       "    <tr>\n",
       "      <th>2024-04-08</th>\n",
       "      <td>69362.554688</td>\n",
       "      <td>72715.359375</td>\n",
       "      <td>69064.242188</td>\n",
       "      <td>71631.359375</td>\n",
       "      <td>71631.359375</td>\n",
       "      <td>37261432669</td>\n",
       "    </tr>\n",
       "    <tr>\n",
       "      <th>2024-04-09</th>\n",
       "      <td>71632.500000</td>\n",
       "      <td>71742.507812</td>\n",
       "      <td>68212.921875</td>\n",
       "      <td>69139.015625</td>\n",
       "      <td>69139.015625</td>\n",
       "      <td>36426900409</td>\n",
       "    </tr>\n",
       "    <tr>\n",
       "      <th>2024-04-10</th>\n",
       "      <td>69140.242188</td>\n",
       "      <td>71093.429688</td>\n",
       "      <td>67503.562500</td>\n",
       "      <td>70587.882812</td>\n",
       "      <td>70587.882812</td>\n",
       "      <td>38318601774</td>\n",
       "    </tr>\n",
       "    <tr>\n",
       "      <th>2024-04-11</th>\n",
       "      <td>70575.734375</td>\n",
       "      <td>71256.234375</td>\n",
       "      <td>69571.812500</td>\n",
       "      <td>70060.609375</td>\n",
       "      <td>70060.609375</td>\n",
       "      <td>30153382941</td>\n",
       "    </tr>\n",
       "    <tr>\n",
       "      <th>...</th>\n",
       "      <td>...</td>\n",
       "      <td>...</td>\n",
       "      <td>...</td>\n",
       "      <td>...</td>\n",
       "      <td>...</td>\n",
       "      <td>...</td>\n",
       "    </tr>\n",
       "    <tr>\n",
       "      <th>2025-01-27</th>\n",
       "      <td>102680.304688</td>\n",
       "      <td>103214.109375</td>\n",
       "      <td>97795.937500</td>\n",
       "      <td>102087.687500</td>\n",
       "      <td>102087.687500</td>\n",
       "      <td>89006608428</td>\n",
       "    </tr>\n",
       "    <tr>\n",
       "      <th>2025-01-28</th>\n",
       "      <td>102095.414062</td>\n",
       "      <td>103730.820312</td>\n",
       "      <td>100238.187500</td>\n",
       "      <td>101332.476562</td>\n",
       "      <td>101332.476562</td>\n",
       "      <td>47180685494</td>\n",
       "    </tr>\n",
       "    <tr>\n",
       "      <th>2025-01-29</th>\n",
       "      <td>101317.523438</td>\n",
       "      <td>104750.804688</td>\n",
       "      <td>101283.820312</td>\n",
       "      <td>103703.210938</td>\n",
       "      <td>103703.210938</td>\n",
       "      <td>47432049818</td>\n",
       "    </tr>\n",
       "    <tr>\n",
       "      <th>2025-01-30</th>\n",
       "      <td>103709.335938</td>\n",
       "      <td>106418.765625</td>\n",
       "      <td>103321.648438</td>\n",
       "      <td>104735.304688</td>\n",
       "      <td>104735.304688</td>\n",
       "      <td>41915744521</td>\n",
       "    </tr>\n",
       "    <tr>\n",
       "      <th>2025-01-31</th>\n",
       "      <td>104737.562500</td>\n",
       "      <td>106026.351562</td>\n",
       "      <td>101543.882812</td>\n",
       "      <td>102405.023438</td>\n",
       "      <td>102405.023438</td>\n",
       "      <td>45732764360</td>\n",
       "    </tr>\n",
       "  </tbody>\n",
       "</table>\n",
       "<p>300 rows × 6 columns</p>\n",
       "</div>"
      ],
      "text/plain": [
       "                     Open           High            Low          Close  \\\n",
       "Date                                                                     \n",
       "2024-04-07   68897.109375   70284.429688   68851.632812   69362.554688   \n",
       "2024-04-08   69362.554688   72715.359375   69064.242188   71631.359375   \n",
       "2024-04-09   71632.500000   71742.507812   68212.921875   69139.015625   \n",
       "2024-04-10   69140.242188   71093.429688   67503.562500   70587.882812   \n",
       "2024-04-11   70575.734375   71256.234375   69571.812500   70060.609375   \n",
       "...                   ...            ...            ...            ...   \n",
       "2025-01-27  102680.304688  103214.109375   97795.937500  102087.687500   \n",
       "2025-01-28  102095.414062  103730.820312  100238.187500  101332.476562   \n",
       "2025-01-29  101317.523438  104750.804688  101283.820312  103703.210938   \n",
       "2025-01-30  103709.335938  106418.765625  103321.648438  104735.304688   \n",
       "2025-01-31  104737.562500  106026.351562  101543.882812  102405.023438   \n",
       "\n",
       "                Adj Close       Volume  \n",
       "Date                                    \n",
       "2024-04-07   69362.554688  21204930369  \n",
       "2024-04-08   71631.359375  37261432669  \n",
       "2024-04-09   69139.015625  36426900409  \n",
       "2024-04-10   70587.882812  38318601774  \n",
       "2024-04-11   70060.609375  30153382941  \n",
       "...                   ...          ...  \n",
       "2025-01-27  102087.687500  89006608428  \n",
       "2025-01-28  101332.476562  47180685494  \n",
       "2025-01-29  103703.210938  47432049818  \n",
       "2025-01-30  104735.304688  41915744521  \n",
       "2025-01-31  102405.023438  45732764360  \n",
       "\n",
       "[300 rows x 6 columns]"
      ]
     },
     "execution_count": 7,
     "metadata": {},
     "output_type": "execute_result"
    }
   ],
   "source": [
    "ticker = ticker\n",
    "stock_data = yf.download(ticker, start = start_date, end = today, progress=False)\n",
    "stock_data"
   ]
  },
  {
   "cell_type": "code",
   "execution_count": 8,
   "metadata": {},
   "outputs": [
    {
     "data": {
      "text/html": [
       "<div>\n",
       "<style scoped>\n",
       "    .dataframe tbody tr th:only-of-type {\n",
       "        vertical-align: middle;\n",
       "    }\n",
       "\n",
       "    .dataframe tbody tr th {\n",
       "        vertical-align: top;\n",
       "    }\n",
       "\n",
       "    .dataframe thead th {\n",
       "        text-align: right;\n",
       "    }\n",
       "</style>\n",
       "<table border=\"1\" class=\"dataframe\">\n",
       "  <thead>\n",
       "    <tr style=\"text-align: right;\">\n",
       "      <th></th>\n",
       "      <th>Open</th>\n",
       "      <th>High</th>\n",
       "      <th>Low</th>\n",
       "      <th>Close</th>\n",
       "      <th>Adj Close</th>\n",
       "      <th>Volume</th>\n",
       "      <th>RSI</th>\n",
       "      <th>Garman</th>\n",
       "      <th>ATR</th>\n",
       "      <th>MACD</th>\n",
       "      <th>Signal</th>\n",
       "      <th>MACD_Histogram</th>\n",
       "    </tr>\n",
       "    <tr>\n",
       "      <th>Date</th>\n",
       "      <th></th>\n",
       "      <th></th>\n",
       "      <th></th>\n",
       "      <th></th>\n",
       "      <th></th>\n",
       "      <th></th>\n",
       "      <th></th>\n",
       "      <th></th>\n",
       "      <th></th>\n",
       "      <th></th>\n",
       "      <th></th>\n",
       "      <th></th>\n",
       "    </tr>\n",
       "  </thead>\n",
       "  <tbody>\n",
       "    <tr>\n",
       "      <th>2025-01-18</th>\n",
       "      <td>104124.953125</td>\n",
       "      <td>104913.203125</td>\n",
       "      <td>102226.617188</td>\n",
       "      <td>104408.070312</td>\n",
       "      <td>104408.070312</td>\n",
       "      <td>50445655726</td>\n",
       "      <td>64.489956</td>\n",
       "      <td>0.000334</td>\n",
       "      <td>1.221428</td>\n",
       "      <td>1279.385744</td>\n",
       "      <td>294.161642</td>\n",
       "      <td>985.224102</td>\n",
       "    </tr>\n",
       "    <tr>\n",
       "      <th>2025-01-19</th>\n",
       "      <td>104411.289062</td>\n",
       "      <td>106299.796875</td>\n",
       "      <td>99570.531250</td>\n",
       "      <td>101089.609375</td>\n",
       "      <td>101089.609375</td>\n",
       "      <td>76789928525</td>\n",
       "      <td>56.400777</td>\n",
       "      <td>0.001735</td>\n",
       "      <td>1.506040</td>\n",
       "      <td>1347.878037</td>\n",
       "      <td>504.904921</td>\n",
       "      <td>842.973116</td>\n",
       "    </tr>\n",
       "    <tr>\n",
       "      <th>2025-01-20</th>\n",
       "      <td>101083.750000</td>\n",
       "      <td>109114.882812</td>\n",
       "      <td>99471.359375</td>\n",
       "      <td>102016.664062</td>\n",
       "      <td>102016.664062</td>\n",
       "      <td>126279678351</td>\n",
       "      <td>57.986244</td>\n",
       "      <td>0.004248</td>\n",
       "      <td>2.046787</td>\n",
       "      <td>1460.132737</td>\n",
       "      <td>695.950484</td>\n",
       "      <td>764.182253</td>\n",
       "    </tr>\n",
       "    <tr>\n",
       "      <th>2025-01-21</th>\n",
       "      <td>102052.578125</td>\n",
       "      <td>107180.921875</td>\n",
       "      <td>100103.953125</td>\n",
       "      <td>106146.265625</td>\n",
       "      <td>106146.265625</td>\n",
       "      <td>88733878242</td>\n",
       "      <td>64.226806</td>\n",
       "      <td>0.001736</td>\n",
       "      <td>2.305430</td>\n",
       "      <td>1860.868793</td>\n",
       "      <td>928.934146</td>\n",
       "      <td>931.934647</td>\n",
       "    </tr>\n",
       "    <tr>\n",
       "      <th>2025-01-22</th>\n",
       "      <td>106136.382812</td>\n",
       "      <td>106294.343750</td>\n",
       "      <td>103360.265625</td>\n",
       "      <td>103653.070312</td>\n",
       "      <td>103653.070312</td>\n",
       "      <td>53878181052</td>\n",
       "      <td>58.570368</td>\n",
       "      <td>0.000175</td>\n",
       "      <td>2.152578</td>\n",
       "      <td>1954.741930</td>\n",
       "      <td>1134.095703</td>\n",
       "      <td>820.646227</td>\n",
       "    </tr>\n",
       "    <tr>\n",
       "      <th>2025-01-23</th>\n",
       "      <td>103657.671875</td>\n",
       "      <td>106820.328125</td>\n",
       "      <td>101257.804688</td>\n",
       "      <td>103960.171875</td>\n",
       "      <td>103960.171875</td>\n",
       "      <td>104104515428</td>\n",
       "      <td>59.048782</td>\n",
       "      <td>0.001427</td>\n",
       "      <td>2.259995</td>\n",
       "      <td>2030.511129</td>\n",
       "      <td>1313.378788</td>\n",
       "      <td>717.132341</td>\n",
       "    </tr>\n",
       "    <tr>\n",
       "      <th>2025-01-24</th>\n",
       "      <td>103965.671875</td>\n",
       "      <td>107098.546875</td>\n",
       "      <td>102772.125000</td>\n",
       "      <td>104819.484375</td>\n",
       "      <td>104819.484375</td>\n",
       "      <td>52388229265</td>\n",
       "      <td>60.425859</td>\n",
       "      <td>0.000824</td>\n",
       "      <td>2.242475</td>\n",
       "      <td>2135.283879</td>\n",
       "      <td>1477.759806</td>\n",
       "      <td>657.524073</td>\n",
       "    </tr>\n",
       "    <tr>\n",
       "      <th>2025-01-25</th>\n",
       "      <td>104824.031250</td>\n",
       "      <td>105243.789062</td>\n",
       "      <td>104120.375000</td>\n",
       "      <td>104714.648438</td>\n",
       "      <td>104714.648438</td>\n",
       "      <td>23888996502</td>\n",
       "      <td>60.160066</td>\n",
       "      <td>0.000057</td>\n",
       "      <td>1.922350</td>\n",
       "      <td>2184.674091</td>\n",
       "      <td>1619.142663</td>\n",
       "      <td>565.531428</td>\n",
       "    </tr>\n",
       "    <tr>\n",
       "      <th>2025-01-26</th>\n",
       "      <td>104713.210938</td>\n",
       "      <td>105438.648438</td>\n",
       "      <td>102507.710938</td>\n",
       "      <td>102682.500000</td>\n",
       "      <td>102682.500000</td>\n",
       "      <td>22543395879</td>\n",
       "      <td>55.100578</td>\n",
       "      <td>0.000249</td>\n",
       "      <td>1.796564</td>\n",
       "      <td>2036.364848</td>\n",
       "      <td>1702.587100</td>\n",
       "      <td>333.777748</td>\n",
       "    </tr>\n",
       "    <tr>\n",
       "      <th>2025-01-27</th>\n",
       "      <td>102680.304688</td>\n",
       "      <td>103214.109375</td>\n",
       "      <td>97795.937500</td>\n",
       "      <td>102087.687500</td>\n",
       "      <td>102087.687500</td>\n",
       "      <td>89006608428</td>\n",
       "      <td>53.677592</td>\n",
       "      <td>0.001441</td>\n",
       "      <td>1.915716</td>\n",
       "      <td>1849.512280</td>\n",
       "      <td>1731.972136</td>\n",
       "      <td>117.540144</td>\n",
       "    </tr>\n",
       "    <tr>\n",
       "      <th>2025-01-28</th>\n",
       "      <td>102095.414062</td>\n",
       "      <td>103730.820312</td>\n",
       "      <td>100238.187500</td>\n",
       "      <td>101332.476562</td>\n",
       "      <td>101332.476562</td>\n",
       "      <td>47180685494</td>\n",
       "      <td>51.846799</td>\n",
       "      <td>0.000565</td>\n",
       "      <td>1.843690</td>\n",
       "      <td>1621.796008</td>\n",
       "      <td>1709.936911</td>\n",
       "      <td>-88.140902</td>\n",
       "    </tr>\n",
       "    <tr>\n",
       "      <th>2025-01-29</th>\n",
       "      <td>101317.523438</td>\n",
       "      <td>104750.804688</td>\n",
       "      <td>101283.820312</td>\n",
       "      <td>103703.210938</td>\n",
       "      <td>103703.210938</td>\n",
       "      <td>47432049818</td>\n",
       "      <td>56.825057</td>\n",
       "      <td>0.000357</td>\n",
       "      <td>1.774374</td>\n",
       "      <td>1614.022230</td>\n",
       "      <td>1690.753974</td>\n",
       "      <td>-76.731745</td>\n",
       "    </tr>\n",
       "    <tr>\n",
       "      <th>2025-01-30</th>\n",
       "      <td>103709.335938</td>\n",
       "      <td>106418.765625</td>\n",
       "      <td>103321.648438</td>\n",
       "      <td>104735.304688</td>\n",
       "      <td>104735.304688</td>\n",
       "      <td>41915744521</td>\n",
       "      <td>58.821003</td>\n",
       "      <td>0.000399</td>\n",
       "      <td>1.674923</td>\n",
       "      <td>1671.870512</td>\n",
       "      <td>1686.977282</td>\n",
       "      <td>-15.106770</td>\n",
       "    </tr>\n",
       "    <tr>\n",
       "      <th>2025-01-31</th>\n",
       "      <td>104737.562500</td>\n",
       "      <td>106026.351562</td>\n",
       "      <td>101543.882812</td>\n",
       "      <td>102405.023438</td>\n",
       "      <td>102405.023438</td>\n",
       "      <td>45732764360</td>\n",
       "      <td>52.877261</td>\n",
       "      <td>0.000737</td>\n",
       "      <td>1.713997</td>\n",
       "      <td>1512.249202</td>\n",
       "      <td>1652.031666</td>\n",
       "      <td>-139.782464</td>\n",
       "    </tr>\n",
       "  </tbody>\n",
       "</table>\n",
       "</div>"
      ],
      "text/plain": [
       "                     Open           High            Low          Close  \\\n",
       "Date                                                                     \n",
       "2025-01-18  104124.953125  104913.203125  102226.617188  104408.070312   \n",
       "2025-01-19  104411.289062  106299.796875   99570.531250  101089.609375   \n",
       "2025-01-20  101083.750000  109114.882812   99471.359375  102016.664062   \n",
       "2025-01-21  102052.578125  107180.921875  100103.953125  106146.265625   \n",
       "2025-01-22  106136.382812  106294.343750  103360.265625  103653.070312   \n",
       "2025-01-23  103657.671875  106820.328125  101257.804688  103960.171875   \n",
       "2025-01-24  103965.671875  107098.546875  102772.125000  104819.484375   \n",
       "2025-01-25  104824.031250  105243.789062  104120.375000  104714.648438   \n",
       "2025-01-26  104713.210938  105438.648438  102507.710938  102682.500000   \n",
       "2025-01-27  102680.304688  103214.109375   97795.937500  102087.687500   \n",
       "2025-01-28  102095.414062  103730.820312  100238.187500  101332.476562   \n",
       "2025-01-29  101317.523438  104750.804688  101283.820312  103703.210938   \n",
       "2025-01-30  103709.335938  106418.765625  103321.648438  104735.304688   \n",
       "2025-01-31  104737.562500  106026.351562  101543.882812  102405.023438   \n",
       "\n",
       "                Adj Close        Volume        RSI    Garman       ATR  \\\n",
       "Date                                                                     \n",
       "2025-01-18  104408.070312   50445655726  64.489956  0.000334  1.221428   \n",
       "2025-01-19  101089.609375   76789928525  56.400777  0.001735  1.506040   \n",
       "2025-01-20  102016.664062  126279678351  57.986244  0.004248  2.046787   \n",
       "2025-01-21  106146.265625   88733878242  64.226806  0.001736  2.305430   \n",
       "2025-01-22  103653.070312   53878181052  58.570368  0.000175  2.152578   \n",
       "2025-01-23  103960.171875  104104515428  59.048782  0.001427  2.259995   \n",
       "2025-01-24  104819.484375   52388229265  60.425859  0.000824  2.242475   \n",
       "2025-01-25  104714.648438   23888996502  60.160066  0.000057  1.922350   \n",
       "2025-01-26  102682.500000   22543395879  55.100578  0.000249  1.796564   \n",
       "2025-01-27  102087.687500   89006608428  53.677592  0.001441  1.915716   \n",
       "2025-01-28  101332.476562   47180685494  51.846799  0.000565  1.843690   \n",
       "2025-01-29  103703.210938   47432049818  56.825057  0.000357  1.774374   \n",
       "2025-01-30  104735.304688   41915744521  58.821003  0.000399  1.674923   \n",
       "2025-01-31  102405.023438   45732764360  52.877261  0.000737  1.713997   \n",
       "\n",
       "                   MACD       Signal  MACD_Histogram  \n",
       "Date                                                  \n",
       "2025-01-18  1279.385744   294.161642      985.224102  \n",
       "2025-01-19  1347.878037   504.904921      842.973116  \n",
       "2025-01-20  1460.132737   695.950484      764.182253  \n",
       "2025-01-21  1860.868793   928.934146      931.934647  \n",
       "2025-01-22  1954.741930  1134.095703      820.646227  \n",
       "2025-01-23  2030.511129  1313.378788      717.132341  \n",
       "2025-01-24  2135.283879  1477.759806      657.524073  \n",
       "2025-01-25  2184.674091  1619.142663      565.531428  \n",
       "2025-01-26  2036.364848  1702.587100      333.777748  \n",
       "2025-01-27  1849.512280  1731.972136      117.540144  \n",
       "2025-01-28  1621.796008  1709.936911      -88.140902  \n",
       "2025-01-29  1614.022230  1690.753974      -76.731745  \n",
       "2025-01-30  1671.870512  1686.977282      -15.106770  \n",
       "2025-01-31  1512.249202  1652.031666     -139.782464  "
      ]
     },
     "execution_count": 8,
     "metadata": {},
     "output_type": "execute_result"
    }
   ],
   "source": [
    "#RSI, Garman, ATR, MACD\n",
    "stock_data['RSI'] = ta.rsi(close = stock_data[\"Adj Close\"], length=14)\n",
    "\n",
    "stock_data['Garman'] = ((np.log(stock_data['High'])- np.log(stock_data['Low']))**2)/2-(2*np.log(2)-1)*((np.log(stock_data['Adj Close']) -np.log(stock_data['Open']))**2)\n",
    "\n",
    "def compute_atr(stock_data):\n",
    "    atr = ta.atr(high=stock_data['High'], low=stock_data['Low'], close=stock_data['Close'], length=14)\n",
    "    return atr.sub(atr.mean()).div(atr.std())\n",
    "stock_data['ATR'] = compute_atr(stock_data)\n",
    "\n",
    "def compute_macd(stock_data, short_period=12, long_period=26, signal_period=9):\n",
    "    # Compute MACD, Signal Line, and Histogram using pandas_ta\n",
    "    macd = ta.macd(\n",
    "        close=stock_data['Close'], \n",
    "        fast=short_period, \n",
    "        slow=long_period, \n",
    "        signal=signal_period\n",
    "    )\n",
    "    \n",
    "    # Assign the results to new columns in the DataFrame\n",
    "    stock_data['MACD'] = macd['MACD_12_26_9']  # Default naming format\n",
    "    stock_data['Signal'] = macd['MACDs_12_26_9']\n",
    "    stock_data['MACD_Histogram'] = macd['MACDh_12_26_9']\n",
    "    \n",
    "    return stock_data\n",
    "\n",
    "# Apply the function to compute MACD\n",
    "stock_data = compute_macd(stock_data)\n",
    "\n",
    "today = date.today() \n",
    "two_weeks = today - timedelta(days=14)\n",
    "\n",
    "#Last 14 days\n",
    "technical_analysis = stock_data.iloc[-14:]\n",
    "technical_analysis"
   ]
  },
  {
   "cell_type": "code",
   "execution_count": 9,
   "metadata": {},
   "outputs": [
    {
     "data": {
      "application/vnd.plotly.v1+json": {
       "config": {
        "plotlyServerURL": "https://plot.ly"
       },
       "data": [
        {
         "close": [
          69362.5546875,
          71631.359375,
          69139.015625,
          70587.8828125,
          70060.609375,
          67195.8671875,
          63821.47265625,
          65738.7265625,
          63426.2109375,
          63811.86328125,
          61276.69140625,
          63512.75390625,
          63843.5703125,
          64994.44140625,
          64926.64453125,
          66837.6796875,
          66407.2734375,
          64276.8984375,
          64481.70703125,
          63755.3203125,
          63419.140625,
          63113.23046875,
          63841.12109375,
          60636.85546875,
          58254.01171875,
          59123.43359375,
          62889.8359375,
          63891.47265625,
          64031.1328125,
          63161.94921875,
          62334.81640625,
          61187.94140625,
          63049.9609375,
          60792.77734375,
          60793.7109375,
          61448.39453125,
          62901.44921875,
          61552.7890625,
          66267.4921875,
          65231.58203125,
          67051.875,
          66940.8046875,
          66278.3671875,
          71448.1953125,
          70136.53125,
          69122.3359375,
          67929.5625,
          68526.1015625,
          69265.9453125,
          68518.09375,
          69394.5546875,
          68296.21875,
          67578.09375,
          68364.9921875,
          67491.4140625,
          67706.9375,
          67751.6015625,
          68804.78125,
          70567.765625,
          71082.8203125,
          70757.1640625,
          69342.5859375,
          69305.7734375,
          69647.9921875,
          69512.28125,
          67332.03125,
          68241.1875,
          66756.3984375,
          66011.09375,
          66191,
          66639.046875,
          66490.296875,
          65140.74609375,
          64960.296875,
          64828.65625,
          64096.19921875,
          64252.578125,
          63180.796875,
          60277.4140625,
          61804.640625,
          60811.27734375,
          61604.80078125,
          60320.13671875,
          60887.37890625,
          62678.29296875,
          62851.98046875,
          62029.015625,
          60173.921875,
          56977.703125,
          56662.375,
          58303.5390625,
          55849.109375,
          56705.09765625,
          58009.2265625,
          57742.49609375,
          57344.9140625,
          57899.46484375,
          59231.953125,
          60787.79296875,
          64870.15234375,
          65097.1484375,
          64118.79296875,
          63974.06640625,
          66710.15625,
          67163.6484375,
          68154.5234375,
          67585.25,
          65927.671875,
          65372.1328125,
          65777.2265625,
          67912.0625,
          67813.3359375,
          68255.8671875,
          66819.9140625,
          66201.015625,
          64619.25,
          65357.5,
          61415.06640625,
          60680.09375,
          58116.9765625,
          53991.45703125,
          56034.31640625,
          55027.4609375,
          61710.13671875,
          60880.11328125,
          60945.8125,
          58719.484375,
          59354.515625,
          60609.56640625,
          58737.26953125,
          57560.09765625,
          58894.10546875,
          59478.97265625,
          58483.96484375,
          59493.453125,
          59012.79296875,
          61175.19140625,
          60381.9140625,
          64094.35546875,
          64178.9921875,
          64333.54296875,
          62880.66015625,
          59504.1328125,
          59027.625,
          59388.1796875,
          59119.4765625,
          58969.8984375,
          57325.48828125,
          59112.48046875,
          57431.0234375,
          57971.5390625,
          56160.48828125,
          53948.75390625,
          54139.6875,
          54841.56640625,
          57019.53515625,
          57648.7109375,
          57343.171875,
          58127.01171875,
          60571.30078125,
          60005.12109375,
          59182.8359375,
          58192.5078125,
          60308.5390625,
          61649.6796875,
          62940.45703125,
          63192.9765625,
          63394.83984375,
          63648.7109375,
          63329.80078125,
          64301.96875,
          63143.14453125,
          65181.01953125,
          65790.6640625,
          65887.6484375,
          65635.3046875,
          63329.5,
          60837.0078125,
          60632.78515625,
          60759.40234375,
          62067.4765625,
          62089.94921875,
          62818.953125,
          62236.66015625,
          62131.96875,
          60582.1015625,
          60274.5,
          62445.08984375,
          63193.0234375,
          62851.375,
          66046.125,
          67041.109375,
          67612.71875,
          67399.8359375,
          68418.7890625,
          68362.734375,
          69001.703125,
          67367.8515625,
          67361.40625,
          66432.1953125,
          68161.0546875,
          66642.4140625,
          67014.6953125,
          67929.296875,
          69907.7578125,
          72720.4921875,
          72339.5390625,
          70215.1875,
          69482.46875,
          69289.2734375,
          68741.1171875,
          67811.5078125,
          69359.5625,
          75639.078125,
          75904.859375,
          76545.4765625,
          76778.8671875,
          80474.1875,
          88701.484375,
          87955.8125,
          90584.1640625,
          87250.4296875,
          91066.0078125,
          90558.4765625,
          89845.8515625,
          90542.640625,
          92343.7890625,
          94339.4921875,
          98504.7265625,
          98997.6640625,
          97777.28125,
          98013.8203125,
          93102.296875,
          91985.3203125,
          95962.53125,
          95652.46875,
          97461.5234375,
          96449.0546875,
          97279.7890625,
          95865.3046875,
          96002.1640625,
          98768.53125,
          96593.5703125,
          99920.7109375,
          99923.3359375,
          101236.015625,
          97432.71875,
          96675.4296875,
          101173.03125,
          100043,
          101459.2578125,
          101372.96875,
          104298.6953125,
          106029.71875,
          106140.6015625,
          100041.5390625,
          97490.953125,
          97755.9296875,
          97224.7265625,
          95104.9375,
          94686.2421875,
          98676.09375,
          99299.1953125,
          95795.515625,
          94164.859375,
          95163.9296875,
          93530.2265625,
          92643.2109375,
          93429.203125,
          94419.7578125,
          96886.875,
          98107.4296875,
          98236.2265625,
          98314.9609375,
          102078.0859375,
          96922.703125,
          95043.5234375,
          92484.0390625,
          94701.453125,
          94566.59375,
          94488.4375,
          94516.5234375,
          96534.046875,
          100504.4921875,
          99756.90625,
          104462.0390625,
          104408.0703125,
          101089.609375,
          102016.6640625,
          106146.265625,
          103653.0703125,
          103960.171875,
          104819.484375,
          104714.6484375,
          102682.5,
          102087.6875,
          101332.4765625,
          103703.2109375,
          104735.3046875,
          102405.0234375
         ],
         "high": [
          70284.4296875,
          72715.359375,
          71742.5078125,
          71093.4296875,
          71256.234375,
          71222.7421875,
          67931.4296875,
          65824.4296875,
          66878.6484375,
          64355.66796875,
          64486.36328125,
          64125.6875,
          65481.59765625,
          65442.45703125,
          65723.2421875,
          67233.9609375,
          67199.2421875,
          67075.3671875,
          65275.20703125,
          64789.65625,
          63898.36328125,
          64321.484375,
          64174.87890625,
          64703.33203125,
          60780.5,
          59602.296875,
          63320.50390625,
          64494.95703125,
          64610.890625,
          65494.90234375,
          64390.45703125,
          62986.0859375,
          63404.9140625,
          63446.7421875,
          61451.15234375,
          61818.15625,
          63422.66015625,
          63092.125,
          66454.453125,
          66712.4296875,
          67459.4609375,
          67387.328125,
          67694.296875,
          71483.5625,
          71946.4609375,
          70623.6953125,
          70041.2734375,
          69220.296875,
          69579.3203125,
          69506.2265625,
          70597.8828125,
          69514.640625,
          68852.4609375,
          69500.5390625,
          68999.5625,
          67839.765625,
          68409.1640625,
          70230.8203125,
          71047.40625,
          71735.4140625,
          71625.734375,
          71907.8515625,
          69533.3203125,
          69817.5234375,
          70146.0703125,
          69549.4140625,
          69977.890625,
          68365.78125,
          67294.6484375,
          66402.1875,
          66894.84375,
          67188.3203125,
          66556.703125,
          65695.3515625,
          66438.9609375,
          65007.546875,
          64475.46875,
          64491.703125,
          63292.52734375,
          62258.26171875,
          62434.13671875,
          62293.86328125,
          62126.09765625,
          61097.62109375,
          62892.828125,
          63777.2265625,
          63203.359375,
          62187.703125,
          60399.67578125,
          57497.15234375,
          58472.546875,
          58371.12109375,
          58131.3359375,
          58239.1953125,
          59359.43359375,
          59299.43359375,
          58532.5546875,
          59787.078125,
          61329.52734375,
          64870.15234375,
          65354.33984375,
          66066.734375,
          65104.66015625,
          67442.640625,
          67610.734375,
          68372.90625,
          68480.0625,
          67779.015625,
          67113.984375,
          66112.421875,
          68207.6015625,
          69398.5078125,
          68301.8515625,
          69987.5390625,
          66987.671875,
          66810.2109375,
          65593.2421875,
          65523.22265625,
          62148.37109375,
          61062.98828125,
          58268.828125,
          57059.91796875,
          57726.8828125,
          62673.765625,
          61751.86328125,
          61464.51171875,
          61778.66015625,
          60680.33203125,
          61572.3984375,
          61687.7578125,
          59838.6484375,
          59847.359375,
          59694.66796875,
          60262.71875,
          59612.66015625,
          61396.328125,
          61834.3515625,
          61408.109375,
          64947.0625,
          64513.7890625,
          64996.421875,
          64489.70703125,
          63210.796875,
          60236.44921875,
          61184.08203125,
          59896.88671875,
          59432.59375,
          59062.0703125,
          59403.0703125,
          59815.05859375,
          58511.5703125,
          58300.58203125,
          56976.109375,
          54838.14453125,
          55300.859375,
          58041.125,
          58029.9765625,
          57991.3203125,
          58534.359375,
          60648.0234375,
          60656.72265625,
          60381.91796875,
          59205.51171875,
          61316.08984375,
          61664.06640625,
          63872.44140625,
          64119.53125,
          63543.359375,
          63993.421875,
          64733.55859375,
          64695.21484375,
          64804.50390625,
          65790.796875,
          66480.6953125,
          66255.53125,
          66069.34375,
          65635.0546875,
          64110.98046875,
          62357.6875,
          61469.0390625,
          62465.9921875,
          62371.0234375,
          62959.5703125,
          64443.70703125,
          63174.3046875,
          62508.8359375,
          61236.72265625,
          63400.87109375,
          63448.78515625,
          63272.65234375,
          66482.4921875,
          67881.6796875,
          68375.2890625,
          67912.2109375,
          68969.75,
          68668.0078125,
          69359.0078125,
          69462.734375,
          67801.578125,
          67402.7421875,
          68798.9609375,
          68722.15625,
          67317.921875,
          68221.3125,
          70212.265625,
          73577.2109375,
          72905.296875,
          72662.3125,
          71559.015625,
          69867.3515625,
          69361.65625,
          69433.1796875,
          70522.7890625,
          76460.15625,
          76943.1171875,
          77252.75,
          76932.765625,
          81474.421875,
          89604.5,
          89956.8828125,
          93434.3515625,
          91765.21875,
          91868.7421875,
          91763.9453125,
          91433.0390625,
          92596.7890625,
          94002.8671875,
          94902.0234375,
          99014.21875,
          99655.5,
          99014.6796875,
          98647.1796875,
          98935.03125,
          94991.75,
          97361.1796875,
          96650.203125,
          98693.171875,
          97499.34375,
          97888.125,
          98152.6015625,
          96297.203125,
          99207.328125,
          103900.46875,
          102039.8828125,
          100563.3828125,
          101399.9921875,
          101272.5078125,
          98270.15625,
          101913.359375,
          102524.9140625,
          101888.8046875,
          102618.8828125,
          105047.5390625,
          107780.578125,
          108268.4453125,
          106470.609375,
          102748.1484375,
          98098.9140625,
          99507.1015625,
          97360.265625,
          96416.2109375,
          99404.0625,
          99478.75,
          99884.5703125,
          97294.84375,
          95525.8984375,
          95174.875,
          94903.3203125,
          96090.6015625,
          94929.8671875,
          97739.8203125,
          98956.9140625,
          98734.4296875,
          98813.3046875,
          102482.875,
          102712.484375,
          97258.3203125,
          95349.71875,
          95770.609375,
          94977.6875,
          95367.5390625,
          95837,
          97352.6640625,
          100697.234375,
          100781.5859375,
          105884.2265625,
          104913.203125,
          106299.796875,
          109114.8828125,
          107180.921875,
          106294.34375,
          106820.328125,
          107098.546875,
          105243.7890625,
          105438.6484375,
          103214.109375,
          103730.8203125,
          104750.8046875,
          106418.765625,
          106026.3515625
         ],
         "low": [
          68851.6328125,
          69064.2421875,
          68212.921875,
          67503.5625,
          69571.8125,
          65254.8359375,
          60919.10546875,
          62205.8515625,
          62332.0703125,
          61716.40234375,
          59768.5859375,
          60833.48046875,
          59651.390625,
          63172.40234375,
          64277.72265625,
          64548.1796875,
          65864.8671875,
          63589.87109375,
          62783.6328125,
          63322.3984375,
          62424.71875,
          62793.59765625,
          61795.45703125,
          59120.06640625,
          56555.29296875,
          56937.203125,
          58848.3125,
          62599.3515625,
          62955.3046875,
          62746.23828125,
          62285.98046875,
          60877.12890625,
          60648.07421875,
          60208.78125,
          60492.625,
          60632.6015625,
          60769.83984375,
          61123.765625,
          61330.41015625,
          64613.0546875,
          65119.31640625,
          66663.5,
          65937.1796875,
          66086.171875,
          69191.125,
          68977.6953125,
          66356.953125,
          66622.671875,
          68515.8203125,
          68183.890625,
          68232.5,
          67227.15625,
          67101.4921875,
          67118.078125,
          66633.421875,
          67386.1953125,
          67315.5234375,
          67589.8359375,
          68564.640625,
          70390.7109375,
          70119.125,
          68507.2578125,
          69210.7421875,
          69160.84375,
          69232.421875,
          66123.6015625,
          66902.453125,
          66304.5625,
          65056.89453125,
          65871.7734375,
          66018.25,
          65094.96484375,
          64066.95703125,
          64693.30078125,
          64547.84765625,
          63378.89453125,
          63929.7578125,
          63180.796875,
          58601.69921875,
          60239.75,
          60695.1875,
          60585.33203125,
          59985.40234375,
          60300.96484375,
          60632.94921875,
          62495.51171875,
          61752.74609375,
          59419.38671875,
          56777.8046875,
          53717.375,
          56038.9609375,
          55793.32421875,
          54321.01953125,
          56316.875,
          57178.4140625,
          57120.37890625,
          56590.17578125,
          57796.44140625,
          59225.25,
          60704.9296875,
          62487.96875,
          63896.0859375,
          63246.1640625,
          63329.34375,
          66299.6171875,
          65842.296875,
          66611.296875,
          65484.4609375,
          65146.99609375,
          63473.47265625,
          65743.765625,
          66705.21875,
          67085.828125,
          66532.59375,
          65323.19140625,
          64532.046875,
          62248.94140625,
          61184.89453125,
          59836.52734375,
          57210.8046875,
          49121.23828125,
          53973.2734375,
          54620.5078125,
          54766.7265625,
          59587.859375,
          60287.56640625,
          58348.82421875,
          57688.8984375,
          58506.25390625,
          58472.875,
          56161.59375,
          57110.01953125,
          58814.83203125,
          58445.40234375,
          57864.7109375,
          58610.8828125,
          58823.4453125,
          59815.25390625,
          60372.05078125,
          63619.91796875,
          63833.51953125,
          62849.55859375,
          58116.75,
          57890.67578125,
          58786.2265625,
          57768.53125,
          58768.78515625,
          57217.82421875,
          57136.02734375,
          57425.16796875,
          55673.1640625,
          55712.453125,
          52598.69921875,
          53740.0703125,
          53653.7578125,
          54598.43359375,
          56419.4140625,
          55567.33984375,
          57330.1015625,
          57650.11328125,
          59517.8828125,
          58696.30859375,
          57501.33984375,
          57628.0703125,
          59218.25390625,
          61609.8671875,
          62364.60546875,
          62783.10546875,
          62440.7265625,
          62628.078125,
          62737.41796875,
          62945.375,
          62669.26953125,
          64852.9921875,
          65458.03515625,
          65450.015625,
          62873.6171875,
          60189.27734375,
          59996.94921875,
          59878.8046875,
          60459.94140625,
          61689.58203125,
          61833.1484375,
          62152.55078125,
          61843.5625,
          60314.61328125,
          58895.20703125,
          60046.125,
          62443.26953125,
          62035.63671875,
          62442.15234375,
          64809.1953125,
          66758.7265625,
          66647.390625,
          67177.8203125,
          68024.640625,
          68105.71875,
          66829.8515625,
          66581.3671875,
          65188.03515625,
          66454.1015625,
          65521.79296875,
          66360.59375,
          66847.2265625,
          67535.1328125,
          69729.9140625,
          71411.734375,
          69590.5,
          68779.703125,
          69033.71875,
          67482.5234375,
          66803.6484375,
          67458.8671875,
          69322.03125,
          74480.421875,
          75648.7421875,
          75773.7890625,
          76565.4296875,
          80283.25,
          85155.109375,
          86256.9296875,
          86682.8125,
          87124.8984375,
          90094.2265625,
          88741.6640625,
          89393.59375,
          90426.984375,
          91619.5,
          94132.6015625,
          97222.6640625,
          97232.890625,
          95788.078125,
          92642.9140625,
          90770.8125,
          91778.6640625,
          94677.3515625,
          95407.8828125,
          96144.21875,
          95770.1875,
          94482.8671875,
          93629.5625,
          94660.5234375,
          91998.78125,
          96514.875,
          99030.8828125,
          98771.515625,
          94355.9140625,
          94321.2578125,
          95747.2265625,
          99339.953125,
          99233.28125,
          100634.0546875,
          101227.03125,
          103322.984375,
          105291.734375,
          100041.5390625,
          95587.6796875,
          92175.1796875,
          96426.5234375,
          94202.1875,
          92403.1328125,
          93448.015625,
          97593.46875,
          95137.8828125,
          93310.7421875,
          94014.2890625,
          92881.7890625,
          91317.1328125,
          91914.03125,
          92788.125,
          94201.5703125,
          96034.6171875,
          97562.9765625,
          97291.765625,
          97926.1484375,
          96132.875,
          92525.84375,
          91220.84375,
          92250.09375,
          93840.046875,
          93712.5078125,
          89260.1015625,
          94322.15625,
          96501.640625,
          97364.4453125,
          99948.90625,
          102226.6171875,
          99570.53125,
          99471.359375,
          100103.953125,
          103360.265625,
          101257.8046875,
          102772.125,
          104120.375,
          102507.7109375,
          97795.9375,
          100238.1875,
          101283.8203125,
          103321.6484375,
          101543.8828125
         ],
         "open": [
          68897.109375,
          69362.5546875,
          71632.5,
          69140.2421875,
          70575.734375,
          70061.3828125,
          67188.375,
          63836.23046875,
          65739.6484375,
          63419.296875,
          63831.84765625,
          61275.31640625,
          63510.75,
          63851.1015625,
          64992.81640625,
          64935.6328125,
          66839.890625,
          66408.71875,
          64275.01953125,
          64485.37109375,
          63750.98828125,
          63423.515625,
          63106.36328125,
          63839.41796875,
          60609.49609375,
          58253.703125,
          59122.30078125,
          62891.03125,
          63892.453125,
          64038.3125,
          63162.76171875,
          62332.640625,
          61191.19921875,
          63055.19140625,
          60793.35546875,
          60793.50390625,
          61451.21875,
          62900.7734375,
          61553.98828125,
          66256.109375,
          65231.296875,
          67066.2109375,
          66937.9296875,
          66278.7421875,
          71443.0625,
          70135.3203125,
          69121.3046875,
          67928.1328125,
          68526.921875,
          69264.2890625,
          68512.1796875,
          69392.1953125,
          68296.3515625,
          67576.0859375,
          68362.515625,
          67489.609375,
          67710.2734375,
          67753.8984375,
          68804.5703125,
          70568.3515625,
          71082.84375,
          70759.1875,
          69324.1796875,
          69297.4921875,
          69644.3125,
          69508.078125,
          67321.375,
          68243.1015625,
          66747.5703125,
          66006.7421875,
          66189.359375,
          66636.515625,
          66490.9765625,
          65146.66015625,
          64960.296875,
          64837.98828125,
          64113.86328125,
          64248.96484375,
          63173.3515625,
          60266.28125,
          61789.67578125,
          60811.2265625,
          61612.8046875,
          60319.875,
          60888.4453125,
          62673.60546875,
          62844.41015625,
          62034.33203125,
          60147.13671875,
          57022.80859375,
          56659.07421875,
          58239.4296875,
          55849.57421875,
          56704.59765625,
          58033.8828125,
          57729.890625,
          57341.1953125,
          57908.73828125,
          59225.25,
          60815.45703125,
          64784.41796875,
          65091.83203125,
          64104.73828125,
          63972.32421875,
          66709.921875,
          67164.9140625,
          68152.9765625,
          67584.8046875,
          65927.859375,
          65375.875,
          65771.8125,
          67911.8125,
          67808.65625,
          68259.0546875,
          66819.0546875,
          66201.2734375,
          64625.83984375,
          65353.5,
          61414.80859375,
          60676.09375,
          58110.296875,
          53991.34765625,
          56040.6328125,
          55030.02734375,
          61728.20703125,
          60881.23046875,
          60944.890625,
          58719.39453125,
          59356.20703125,
          60611.05078125,
          58733.26171875,
          57560.2734375,
          58893.53125,
          59468.1328125,
          58480.7109375,
          59493.453125,
          59014.98828125,
          61168.31640625,
          60380.953125,
          64103.87109375,
          64176.3671875,
          64342.2265625,
          62879.70703125,
          59507.92578125,
          59027.46875,
          59388.6015625,
          59117.48046875,
          58969.80078125,
          57326.96875,
          59106.19140625,
          57430.34765625,
          57971.703125,
          56160.19140625,
          53949.0859375,
          54147.93359375,
          54851.88671875,
          57020.09765625,
          57650.2890625,
          57343.171875,
          58130.32421875,
          60569.1171875,
          60000.7265625,
          59185.2265625,
          58192.5078125,
          60309,
          61651.15625,
          62941.42578125,
          63184.33984375,
          63396.8046875,
          63643.1015625,
          63326.83984375,
          64302.58984375,
          63138.546875,
          65180.6640625,
          65792.1796875,
          65888.8984375,
          65634.65625,
          63335.60546875,
          60836.32421875,
          60632.484375,
          60754.625,
          62067.609375,
          62084.98828125,
          62819.109375,
          62221.64453125,
          62131.7265625,
          60581.9296875,
          60275.4609375,
          62444.6171875,
          63192.9453125,
          62848.3984375,
          66050.3671875,
          67042.4609375,
          67617.078125,
          67419.109375,
          68418.9765625,
          68364.1796875,
          69002,
          67360.703125,
          67362.375,
          66653.703125,
          68165.296875,
          66628.734375,
          67023.4765625,
          67922.671875,
          69910.046875,
          72715.3671875,
          72335.046875,
          70216.8984375,
          69486.0234375,
          69296.3828125,
          68742.1328125,
          67811.171875,
          69358.5,
          75637.0859375,
          75902.8359375,
          76556.1875,
          76775.546875,
          80471.4140625,
          88705.5625,
          87929.96875,
          90574.8828125,
          87284.1796875,
          91064.3671875,
          90558.4609375,
          89843.71875,
          90536.8125,
          92341.890625,
          94334.640625,
          98496.4296875,
          99006.7421875,
          97778.09375,
          98033.4453125,
          93087.28125,
          91978.140625,
          95954.9453125,
          95653.953125,
          97468.8125,
          96461.3359375,
          97276.0078125,
          95854.59375,
          95988.53125,
          98741.5390625,
          97074.2265625,
          99916.7109375,
          99921.9140625,
          101237.0625,
          97441.234375,
          96656.0625,
          101167.8046875,
          100046.6484375,
          101451.4375,
          101373.53125,
          104293.578125,
          106030.6875,
          106147.296875,
          100070.6875,
          97484.6953125,
          97756.1953125,
          97218.3203125,
          95099.390625,
          94684.34375,
          98675.9140625,
          99297.6953125,
          95704.9765625,
          94160.1875,
          95174.0546875,
          93527.1953125,
          92643.25,
          93425.1015625,
          94416.2890625,
          96881.7265625,
          98106.9921875,
          98233.90625,
          98314.953125,
          102248.8515625,
          96924.1640625,
          95043.484375,
          92494.4921875,
          94700.8359375,
          94565.7265625,
          94488.890625,
          94519.0078125,
          96534.046875,
          100505.296875,
          100025.765625,
          104124.953125,
          104411.2890625,
          101083.75,
          102052.578125,
          106136.3828125,
          103657.671875,
          103965.671875,
          104824.03125,
          104713.2109375,
          102680.3046875,
          102095.4140625,
          101317.5234375,
          103709.3359375,
          104737.5625
         ],
         "type": "candlestick",
         "x": [
          "2024-04-07T00:00:00",
          "2024-04-08T00:00:00",
          "2024-04-09T00:00:00",
          "2024-04-10T00:00:00",
          "2024-04-11T00:00:00",
          "2024-04-12T00:00:00",
          "2024-04-13T00:00:00",
          "2024-04-14T00:00:00",
          "2024-04-15T00:00:00",
          "2024-04-16T00:00:00",
          "2024-04-17T00:00:00",
          "2024-04-18T00:00:00",
          "2024-04-19T00:00:00",
          "2024-04-20T00:00:00",
          "2024-04-21T00:00:00",
          "2024-04-22T00:00:00",
          "2024-04-23T00:00:00",
          "2024-04-24T00:00:00",
          "2024-04-25T00:00:00",
          "2024-04-26T00:00:00",
          "2024-04-27T00:00:00",
          "2024-04-28T00:00:00",
          "2024-04-29T00:00:00",
          "2024-04-30T00:00:00",
          "2024-05-01T00:00:00",
          "2024-05-02T00:00:00",
          "2024-05-03T00:00:00",
          "2024-05-04T00:00:00",
          "2024-05-05T00:00:00",
          "2024-05-06T00:00:00",
          "2024-05-07T00:00:00",
          "2024-05-08T00:00:00",
          "2024-05-09T00:00:00",
          "2024-05-10T00:00:00",
          "2024-05-11T00:00:00",
          "2024-05-12T00:00:00",
          "2024-05-13T00:00:00",
          "2024-05-14T00:00:00",
          "2024-05-15T00:00:00",
          "2024-05-16T00:00:00",
          "2024-05-17T00:00:00",
          "2024-05-18T00:00:00",
          "2024-05-19T00:00:00",
          "2024-05-20T00:00:00",
          "2024-05-21T00:00:00",
          "2024-05-22T00:00:00",
          "2024-05-23T00:00:00",
          "2024-05-24T00:00:00",
          "2024-05-25T00:00:00",
          "2024-05-26T00:00:00",
          "2024-05-27T00:00:00",
          "2024-05-28T00:00:00",
          "2024-05-29T00:00:00",
          "2024-05-30T00:00:00",
          "2024-05-31T00:00:00",
          "2024-06-01T00:00:00",
          "2024-06-02T00:00:00",
          "2024-06-03T00:00:00",
          "2024-06-04T00:00:00",
          "2024-06-05T00:00:00",
          "2024-06-06T00:00:00",
          "2024-06-07T00:00:00",
          "2024-06-08T00:00:00",
          "2024-06-09T00:00:00",
          "2024-06-10T00:00:00",
          "2024-06-11T00:00:00",
          "2024-06-12T00:00:00",
          "2024-06-13T00:00:00",
          "2024-06-14T00:00:00",
          "2024-06-15T00:00:00",
          "2024-06-16T00:00:00",
          "2024-06-17T00:00:00",
          "2024-06-18T00:00:00",
          "2024-06-19T00:00:00",
          "2024-06-20T00:00:00",
          "2024-06-21T00:00:00",
          "2024-06-22T00:00:00",
          "2024-06-23T00:00:00",
          "2024-06-24T00:00:00",
          "2024-06-25T00:00:00",
          "2024-06-26T00:00:00",
          "2024-06-27T00:00:00",
          "2024-06-28T00:00:00",
          "2024-06-29T00:00:00",
          "2024-06-30T00:00:00",
          "2024-07-01T00:00:00",
          "2024-07-02T00:00:00",
          "2024-07-03T00:00:00",
          "2024-07-04T00:00:00",
          "2024-07-05T00:00:00",
          "2024-07-06T00:00:00",
          "2024-07-07T00:00:00",
          "2024-07-08T00:00:00",
          "2024-07-09T00:00:00",
          "2024-07-10T00:00:00",
          "2024-07-11T00:00:00",
          "2024-07-12T00:00:00",
          "2024-07-13T00:00:00",
          "2024-07-14T00:00:00",
          "2024-07-15T00:00:00",
          "2024-07-16T00:00:00",
          "2024-07-17T00:00:00",
          "2024-07-18T00:00:00",
          "2024-07-19T00:00:00",
          "2024-07-20T00:00:00",
          "2024-07-21T00:00:00",
          "2024-07-22T00:00:00",
          "2024-07-23T00:00:00",
          "2024-07-24T00:00:00",
          "2024-07-25T00:00:00",
          "2024-07-26T00:00:00",
          "2024-07-27T00:00:00",
          "2024-07-28T00:00:00",
          "2024-07-29T00:00:00",
          "2024-07-30T00:00:00",
          "2024-07-31T00:00:00",
          "2024-08-01T00:00:00",
          "2024-08-02T00:00:00",
          "2024-08-03T00:00:00",
          "2024-08-04T00:00:00",
          "2024-08-05T00:00:00",
          "2024-08-06T00:00:00",
          "2024-08-07T00:00:00",
          "2024-08-08T00:00:00",
          "2024-08-09T00:00:00",
          "2024-08-10T00:00:00",
          "2024-08-11T00:00:00",
          "2024-08-12T00:00:00",
          "2024-08-13T00:00:00",
          "2024-08-14T00:00:00",
          "2024-08-15T00:00:00",
          "2024-08-16T00:00:00",
          "2024-08-17T00:00:00",
          "2024-08-18T00:00:00",
          "2024-08-19T00:00:00",
          "2024-08-20T00:00:00",
          "2024-08-21T00:00:00",
          "2024-08-22T00:00:00",
          "2024-08-23T00:00:00",
          "2024-08-24T00:00:00",
          "2024-08-25T00:00:00",
          "2024-08-26T00:00:00",
          "2024-08-27T00:00:00",
          "2024-08-28T00:00:00",
          "2024-08-29T00:00:00",
          "2024-08-30T00:00:00",
          "2024-08-31T00:00:00",
          "2024-09-01T00:00:00",
          "2024-09-02T00:00:00",
          "2024-09-03T00:00:00",
          "2024-09-04T00:00:00",
          "2024-09-05T00:00:00",
          "2024-09-06T00:00:00",
          "2024-09-07T00:00:00",
          "2024-09-08T00:00:00",
          "2024-09-09T00:00:00",
          "2024-09-10T00:00:00",
          "2024-09-11T00:00:00",
          "2024-09-12T00:00:00",
          "2024-09-13T00:00:00",
          "2024-09-14T00:00:00",
          "2024-09-15T00:00:00",
          "2024-09-16T00:00:00",
          "2024-09-17T00:00:00",
          "2024-09-18T00:00:00",
          "2024-09-19T00:00:00",
          "2024-09-20T00:00:00",
          "2024-09-21T00:00:00",
          "2024-09-22T00:00:00",
          "2024-09-23T00:00:00",
          "2024-09-24T00:00:00",
          "2024-09-25T00:00:00",
          "2024-09-26T00:00:00",
          "2024-09-27T00:00:00",
          "2024-09-28T00:00:00",
          "2024-09-29T00:00:00",
          "2024-09-30T00:00:00",
          "2024-10-01T00:00:00",
          "2024-10-02T00:00:00",
          "2024-10-03T00:00:00",
          "2024-10-04T00:00:00",
          "2024-10-05T00:00:00",
          "2024-10-06T00:00:00",
          "2024-10-07T00:00:00",
          "2024-10-08T00:00:00",
          "2024-10-09T00:00:00",
          "2024-10-10T00:00:00",
          "2024-10-11T00:00:00",
          "2024-10-12T00:00:00",
          "2024-10-13T00:00:00",
          "2024-10-14T00:00:00",
          "2024-10-15T00:00:00",
          "2024-10-16T00:00:00",
          "2024-10-17T00:00:00",
          "2024-10-18T00:00:00",
          "2024-10-19T00:00:00",
          "2024-10-20T00:00:00",
          "2024-10-21T00:00:00",
          "2024-10-22T00:00:00",
          "2024-10-23T00:00:00",
          "2024-10-24T00:00:00",
          "2024-10-25T00:00:00",
          "2024-10-26T00:00:00",
          "2024-10-27T00:00:00",
          "2024-10-28T00:00:00",
          "2024-10-29T00:00:00",
          "2024-10-30T00:00:00",
          "2024-10-31T00:00:00",
          "2024-11-01T00:00:00",
          "2024-11-02T00:00:00",
          "2024-11-03T00:00:00",
          "2024-11-04T00:00:00",
          "2024-11-05T00:00:00",
          "2024-11-06T00:00:00",
          "2024-11-07T00:00:00",
          "2024-11-08T00:00:00",
          "2024-11-09T00:00:00",
          "2024-11-10T00:00:00",
          "2024-11-11T00:00:00",
          "2024-11-12T00:00:00",
          "2024-11-13T00:00:00",
          "2024-11-14T00:00:00",
          "2024-11-15T00:00:00",
          "2024-11-16T00:00:00",
          "2024-11-17T00:00:00",
          "2024-11-18T00:00:00",
          "2024-11-19T00:00:00",
          "2024-11-20T00:00:00",
          "2024-11-21T00:00:00",
          "2024-11-22T00:00:00",
          "2024-11-23T00:00:00",
          "2024-11-24T00:00:00",
          "2024-11-25T00:00:00",
          "2024-11-26T00:00:00",
          "2024-11-27T00:00:00",
          "2024-11-28T00:00:00",
          "2024-11-29T00:00:00",
          "2024-11-30T00:00:00",
          "2024-12-01T00:00:00",
          "2024-12-02T00:00:00",
          "2024-12-03T00:00:00",
          "2024-12-04T00:00:00",
          "2024-12-05T00:00:00",
          "2024-12-06T00:00:00",
          "2024-12-07T00:00:00",
          "2024-12-08T00:00:00",
          "2024-12-09T00:00:00",
          "2024-12-10T00:00:00",
          "2024-12-11T00:00:00",
          "2024-12-12T00:00:00",
          "2024-12-13T00:00:00",
          "2024-12-14T00:00:00",
          "2024-12-15T00:00:00",
          "2024-12-16T00:00:00",
          "2024-12-17T00:00:00",
          "2024-12-18T00:00:00",
          "2024-12-19T00:00:00",
          "2024-12-20T00:00:00",
          "2024-12-21T00:00:00",
          "2024-12-22T00:00:00",
          "2024-12-23T00:00:00",
          "2024-12-24T00:00:00",
          "2024-12-25T00:00:00",
          "2024-12-26T00:00:00",
          "2024-12-27T00:00:00",
          "2024-12-28T00:00:00",
          "2024-12-29T00:00:00",
          "2024-12-30T00:00:00",
          "2024-12-31T00:00:00",
          "2025-01-01T00:00:00",
          "2025-01-02T00:00:00",
          "2025-01-03T00:00:00",
          "2025-01-04T00:00:00",
          "2025-01-05T00:00:00",
          "2025-01-06T00:00:00",
          "2025-01-07T00:00:00",
          "2025-01-08T00:00:00",
          "2025-01-09T00:00:00",
          "2025-01-10T00:00:00",
          "2025-01-11T00:00:00",
          "2025-01-12T00:00:00",
          "2025-01-13T00:00:00",
          "2025-01-14T00:00:00",
          "2025-01-15T00:00:00",
          "2025-01-16T00:00:00",
          "2025-01-17T00:00:00",
          "2025-01-18T00:00:00",
          "2025-01-19T00:00:00",
          "2025-01-20T00:00:00",
          "2025-01-21T00:00:00",
          "2025-01-22T00:00:00",
          "2025-01-23T00:00:00",
          "2025-01-24T00:00:00",
          "2025-01-25T00:00:00",
          "2025-01-26T00:00:00",
          "2025-01-27T00:00:00",
          "2025-01-28T00:00:00",
          "2025-01-29T00:00:00",
          "2025-01-30T00:00:00",
          "2025-01-31T00:00:00"
         ]
        }
       ],
       "layout": {
        "height": 600,
        "plot_bgcolor": "lightgrey",
        "template": {
         "data": {
          "bar": [
           {
            "error_x": {
             "color": "#2a3f5f"
            },
            "error_y": {
             "color": "#2a3f5f"
            },
            "marker": {
             "line": {
              "color": "#E5ECF6",
              "width": 0.5
             },
             "pattern": {
              "fillmode": "overlay",
              "size": 10,
              "solidity": 0.2
             }
            },
            "type": "bar"
           }
          ],
          "barpolar": [
           {
            "marker": {
             "line": {
              "color": "#E5ECF6",
              "width": 0.5
             },
             "pattern": {
              "fillmode": "overlay",
              "size": 10,
              "solidity": 0.2
             }
            },
            "type": "barpolar"
           }
          ],
          "carpet": [
           {
            "aaxis": {
             "endlinecolor": "#2a3f5f",
             "gridcolor": "white",
             "linecolor": "white",
             "minorgridcolor": "white",
             "startlinecolor": "#2a3f5f"
            },
            "baxis": {
             "endlinecolor": "#2a3f5f",
             "gridcolor": "white",
             "linecolor": "white",
             "minorgridcolor": "white",
             "startlinecolor": "#2a3f5f"
            },
            "type": "carpet"
           }
          ],
          "choropleth": [
           {
            "colorbar": {
             "outlinewidth": 0,
             "ticks": ""
            },
            "type": "choropleth"
           }
          ],
          "contour": [
           {
            "colorbar": {
             "outlinewidth": 0,
             "ticks": ""
            },
            "colorscale": [
             [
              0,
              "#0d0887"
             ],
             [
              0.1111111111111111,
              "#46039f"
             ],
             [
              0.2222222222222222,
              "#7201a8"
             ],
             [
              0.3333333333333333,
              "#9c179e"
             ],
             [
              0.4444444444444444,
              "#bd3786"
             ],
             [
              0.5555555555555556,
              "#d8576b"
             ],
             [
              0.6666666666666666,
              "#ed7953"
             ],
             [
              0.7777777777777778,
              "#fb9f3a"
             ],
             [
              0.8888888888888888,
              "#fdca26"
             ],
             [
              1,
              "#f0f921"
             ]
            ],
            "type": "contour"
           }
          ],
          "contourcarpet": [
           {
            "colorbar": {
             "outlinewidth": 0,
             "ticks": ""
            },
            "type": "contourcarpet"
           }
          ],
          "heatmap": [
           {
            "colorbar": {
             "outlinewidth": 0,
             "ticks": ""
            },
            "colorscale": [
             [
              0,
              "#0d0887"
             ],
             [
              0.1111111111111111,
              "#46039f"
             ],
             [
              0.2222222222222222,
              "#7201a8"
             ],
             [
              0.3333333333333333,
              "#9c179e"
             ],
             [
              0.4444444444444444,
              "#bd3786"
             ],
             [
              0.5555555555555556,
              "#d8576b"
             ],
             [
              0.6666666666666666,
              "#ed7953"
             ],
             [
              0.7777777777777778,
              "#fb9f3a"
             ],
             [
              0.8888888888888888,
              "#fdca26"
             ],
             [
              1,
              "#f0f921"
             ]
            ],
            "type": "heatmap"
           }
          ],
          "heatmapgl": [
           {
            "colorbar": {
             "outlinewidth": 0,
             "ticks": ""
            },
            "colorscale": [
             [
              0,
              "#0d0887"
             ],
             [
              0.1111111111111111,
              "#46039f"
             ],
             [
              0.2222222222222222,
              "#7201a8"
             ],
             [
              0.3333333333333333,
              "#9c179e"
             ],
             [
              0.4444444444444444,
              "#bd3786"
             ],
             [
              0.5555555555555556,
              "#d8576b"
             ],
             [
              0.6666666666666666,
              "#ed7953"
             ],
             [
              0.7777777777777778,
              "#fb9f3a"
             ],
             [
              0.8888888888888888,
              "#fdca26"
             ],
             [
              1,
              "#f0f921"
             ]
            ],
            "type": "heatmapgl"
           }
          ],
          "histogram": [
           {
            "marker": {
             "pattern": {
              "fillmode": "overlay",
              "size": 10,
              "solidity": 0.2
             }
            },
            "type": "histogram"
           }
          ],
          "histogram2d": [
           {
            "colorbar": {
             "outlinewidth": 0,
             "ticks": ""
            },
            "colorscale": [
             [
              0,
              "#0d0887"
             ],
             [
              0.1111111111111111,
              "#46039f"
             ],
             [
              0.2222222222222222,
              "#7201a8"
             ],
             [
              0.3333333333333333,
              "#9c179e"
             ],
             [
              0.4444444444444444,
              "#bd3786"
             ],
             [
              0.5555555555555556,
              "#d8576b"
             ],
             [
              0.6666666666666666,
              "#ed7953"
             ],
             [
              0.7777777777777778,
              "#fb9f3a"
             ],
             [
              0.8888888888888888,
              "#fdca26"
             ],
             [
              1,
              "#f0f921"
             ]
            ],
            "type": "histogram2d"
           }
          ],
          "histogram2dcontour": [
           {
            "colorbar": {
             "outlinewidth": 0,
             "ticks": ""
            },
            "colorscale": [
             [
              0,
              "#0d0887"
             ],
             [
              0.1111111111111111,
              "#46039f"
             ],
             [
              0.2222222222222222,
              "#7201a8"
             ],
             [
              0.3333333333333333,
              "#9c179e"
             ],
             [
              0.4444444444444444,
              "#bd3786"
             ],
             [
              0.5555555555555556,
              "#d8576b"
             ],
             [
              0.6666666666666666,
              "#ed7953"
             ],
             [
              0.7777777777777778,
              "#fb9f3a"
             ],
             [
              0.8888888888888888,
              "#fdca26"
             ],
             [
              1,
              "#f0f921"
             ]
            ],
            "type": "histogram2dcontour"
           }
          ],
          "mesh3d": [
           {
            "colorbar": {
             "outlinewidth": 0,
             "ticks": ""
            },
            "type": "mesh3d"
           }
          ],
          "parcoords": [
           {
            "line": {
             "colorbar": {
              "outlinewidth": 0,
              "ticks": ""
             }
            },
            "type": "parcoords"
           }
          ],
          "pie": [
           {
            "automargin": true,
            "type": "pie"
           }
          ],
          "scatter": [
           {
            "fillpattern": {
             "fillmode": "overlay",
             "size": 10,
             "solidity": 0.2
            },
            "type": "scatter"
           }
          ],
          "scatter3d": [
           {
            "line": {
             "colorbar": {
              "outlinewidth": 0,
              "ticks": ""
             }
            },
            "marker": {
             "colorbar": {
              "outlinewidth": 0,
              "ticks": ""
             }
            },
            "type": "scatter3d"
           }
          ],
          "scattercarpet": [
           {
            "marker": {
             "colorbar": {
              "outlinewidth": 0,
              "ticks": ""
             }
            },
            "type": "scattercarpet"
           }
          ],
          "scattergeo": [
           {
            "marker": {
             "colorbar": {
              "outlinewidth": 0,
              "ticks": ""
             }
            },
            "type": "scattergeo"
           }
          ],
          "scattergl": [
           {
            "marker": {
             "colorbar": {
              "outlinewidth": 0,
              "ticks": ""
             }
            },
            "type": "scattergl"
           }
          ],
          "scattermapbox": [
           {
            "marker": {
             "colorbar": {
              "outlinewidth": 0,
              "ticks": ""
             }
            },
            "type": "scattermapbox"
           }
          ],
          "scatterpolar": [
           {
            "marker": {
             "colorbar": {
              "outlinewidth": 0,
              "ticks": ""
             }
            },
            "type": "scatterpolar"
           }
          ],
          "scatterpolargl": [
           {
            "marker": {
             "colorbar": {
              "outlinewidth": 0,
              "ticks": ""
             }
            },
            "type": "scatterpolargl"
           }
          ],
          "scatterternary": [
           {
            "marker": {
             "colorbar": {
              "outlinewidth": 0,
              "ticks": ""
             }
            },
            "type": "scatterternary"
           }
          ],
          "surface": [
           {
            "colorbar": {
             "outlinewidth": 0,
             "ticks": ""
            },
            "colorscale": [
             [
              0,
              "#0d0887"
             ],
             [
              0.1111111111111111,
              "#46039f"
             ],
             [
              0.2222222222222222,
              "#7201a8"
             ],
             [
              0.3333333333333333,
              "#9c179e"
             ],
             [
              0.4444444444444444,
              "#bd3786"
             ],
             [
              0.5555555555555556,
              "#d8576b"
             ],
             [
              0.6666666666666666,
              "#ed7953"
             ],
             [
              0.7777777777777778,
              "#fb9f3a"
             ],
             [
              0.8888888888888888,
              "#fdca26"
             ],
             [
              1,
              "#f0f921"
             ]
            ],
            "type": "surface"
           }
          ],
          "table": [
           {
            "cells": {
             "fill": {
              "color": "#EBF0F8"
             },
             "line": {
              "color": "white"
             }
            },
            "header": {
             "fill": {
              "color": "#C8D4E3"
             },
             "line": {
              "color": "white"
             }
            },
            "type": "table"
           }
          ]
         },
         "layout": {
          "annotationdefaults": {
           "arrowcolor": "#2a3f5f",
           "arrowhead": 0,
           "arrowwidth": 1
          },
          "autotypenumbers": "strict",
          "coloraxis": {
           "colorbar": {
            "outlinewidth": 0,
            "ticks": ""
           }
          },
          "colorscale": {
           "diverging": [
            [
             0,
             "#8e0152"
            ],
            [
             0.1,
             "#c51b7d"
            ],
            [
             0.2,
             "#de77ae"
            ],
            [
             0.3,
             "#f1b6da"
            ],
            [
             0.4,
             "#fde0ef"
            ],
            [
             0.5,
             "#f7f7f7"
            ],
            [
             0.6,
             "#e6f5d0"
            ],
            [
             0.7,
             "#b8e186"
            ],
            [
             0.8,
             "#7fbc41"
            ],
            [
             0.9,
             "#4d9221"
            ],
            [
             1,
             "#276419"
            ]
           ],
           "sequential": [
            [
             0,
             "#0d0887"
            ],
            [
             0.1111111111111111,
             "#46039f"
            ],
            [
             0.2222222222222222,
             "#7201a8"
            ],
            [
             0.3333333333333333,
             "#9c179e"
            ],
            [
             0.4444444444444444,
             "#bd3786"
            ],
            [
             0.5555555555555556,
             "#d8576b"
            ],
            [
             0.6666666666666666,
             "#ed7953"
            ],
            [
             0.7777777777777778,
             "#fb9f3a"
            ],
            [
             0.8888888888888888,
             "#fdca26"
            ],
            [
             1,
             "#f0f921"
            ]
           ],
           "sequentialminus": [
            [
             0,
             "#0d0887"
            ],
            [
             0.1111111111111111,
             "#46039f"
            ],
            [
             0.2222222222222222,
             "#7201a8"
            ],
            [
             0.3333333333333333,
             "#9c179e"
            ],
            [
             0.4444444444444444,
             "#bd3786"
            ],
            [
             0.5555555555555556,
             "#d8576b"
            ],
            [
             0.6666666666666666,
             "#ed7953"
            ],
            [
             0.7777777777777778,
             "#fb9f3a"
            ],
            [
             0.8888888888888888,
             "#fdca26"
            ],
            [
             1,
             "#f0f921"
            ]
           ]
          },
          "colorway": [
           "#636efa",
           "#EF553B",
           "#00cc96",
           "#ab63fa",
           "#FFA15A",
           "#19d3f3",
           "#FF6692",
           "#B6E880",
           "#FF97FF",
           "#FECB52"
          ],
          "font": {
           "color": "#2a3f5f"
          },
          "geo": {
           "bgcolor": "white",
           "lakecolor": "white",
           "landcolor": "#E5ECF6",
           "showlakes": true,
           "showland": true,
           "subunitcolor": "white"
          },
          "hoverlabel": {
           "align": "left"
          },
          "hovermode": "closest",
          "mapbox": {
           "style": "light"
          },
          "paper_bgcolor": "white",
          "plot_bgcolor": "#E5ECF6",
          "polar": {
           "angularaxis": {
            "gridcolor": "white",
            "linecolor": "white",
            "ticks": ""
           },
           "bgcolor": "#E5ECF6",
           "radialaxis": {
            "gridcolor": "white",
            "linecolor": "white",
            "ticks": ""
           }
          },
          "scene": {
           "xaxis": {
            "backgroundcolor": "#E5ECF6",
            "gridcolor": "white",
            "gridwidth": 2,
            "linecolor": "white",
            "showbackground": true,
            "ticks": "",
            "zerolinecolor": "white"
           },
           "yaxis": {
            "backgroundcolor": "#E5ECF6",
            "gridcolor": "white",
            "gridwidth": 2,
            "linecolor": "white",
            "showbackground": true,
            "ticks": "",
            "zerolinecolor": "white"
           },
           "zaxis": {
            "backgroundcolor": "#E5ECF6",
            "gridcolor": "white",
            "gridwidth": 2,
            "linecolor": "white",
            "showbackground": true,
            "ticks": "",
            "zerolinecolor": "white"
           }
          },
          "shapedefaults": {
           "line": {
            "color": "#2a3f5f"
           }
          },
          "ternary": {
           "aaxis": {
            "gridcolor": "white",
            "linecolor": "white",
            "ticks": ""
           },
           "baxis": {
            "gridcolor": "white",
            "linecolor": "white",
            "ticks": ""
           },
           "bgcolor": "#E5ECF6",
           "caxis": {
            "gridcolor": "white",
            "linecolor": "white",
            "ticks": ""
           }
          },
          "title": {
           "x": 0.05
          },
          "xaxis": {
           "automargin": true,
           "gridcolor": "white",
           "linecolor": "white",
           "ticks": "",
           "title": {
            "standoff": 15
           },
           "zerolinecolor": "white",
           "zerolinewidth": 2
          },
          "yaxis": {
           "automargin": true,
           "gridcolor": "white",
           "linecolor": "white",
           "ticks": "",
           "title": {
            "standoff": 15
           },
           "zerolinecolor": "white",
           "zerolinewidth": 2
          }
         }
        },
        "width": 1050,
        "xaxis": {
         "rangeslider": {
          "visible": false
         },
         "title": {
          "text": "Date"
         }
        },
        "yaxis": {
         "title": {
          "text": "BTC-USD stock"
         }
        }
       }
      }
     },
     "metadata": {},
     "output_type": "display_data"
    }
   ],
   "source": [
    "#Candlestick\n",
    "fig = go.Figure(data=[go.Candlestick(x=stock_data.index, open = stock_data['Open'], close=stock_data['Close'], high = stock_data['High'], low=stock_data['Low'])])\n",
    "fig.update_layout(xaxis_rangeslider_visible=False, yaxis_title=f'{ticker} stock', xaxis_title='Date', plot_bgcolor='lightgrey',\n",
    "                  width=1050, height = 600)\n",
    "fig.show()\n",
    "#Save it to the folder\n",
    "fig.write_image('./images/Candlestick.png')"
   ]
  },
  {
   "cell_type": "code",
   "execution_count": 10,
   "metadata": {},
   "outputs": [
    {
     "data": {
      "application/vnd.plotly.v1+json": {
       "config": {
        "plotlyServerURL": "https://plot.ly"
       },
       "data": [
        {
         "mode": "lines",
         "name": "Adj Close",
         "type": "scatter",
         "x": [
          "2024-04-07T00:00:00",
          "2024-04-08T00:00:00",
          "2024-04-09T00:00:00",
          "2024-04-10T00:00:00",
          "2024-04-11T00:00:00",
          "2024-04-12T00:00:00",
          "2024-04-13T00:00:00",
          "2024-04-14T00:00:00",
          "2024-04-15T00:00:00",
          "2024-04-16T00:00:00",
          "2024-04-17T00:00:00",
          "2024-04-18T00:00:00",
          "2024-04-19T00:00:00",
          "2024-04-20T00:00:00",
          "2024-04-21T00:00:00",
          "2024-04-22T00:00:00",
          "2024-04-23T00:00:00",
          "2024-04-24T00:00:00",
          "2024-04-25T00:00:00",
          "2024-04-26T00:00:00",
          "2024-04-27T00:00:00",
          "2024-04-28T00:00:00",
          "2024-04-29T00:00:00",
          "2024-04-30T00:00:00",
          "2024-05-01T00:00:00",
          "2024-05-02T00:00:00",
          "2024-05-03T00:00:00",
          "2024-05-04T00:00:00",
          "2024-05-05T00:00:00",
          "2024-05-06T00:00:00",
          "2024-05-07T00:00:00",
          "2024-05-08T00:00:00",
          "2024-05-09T00:00:00",
          "2024-05-10T00:00:00",
          "2024-05-11T00:00:00",
          "2024-05-12T00:00:00",
          "2024-05-13T00:00:00",
          "2024-05-14T00:00:00",
          "2024-05-15T00:00:00",
          "2024-05-16T00:00:00",
          "2024-05-17T00:00:00",
          "2024-05-18T00:00:00",
          "2024-05-19T00:00:00",
          "2024-05-20T00:00:00",
          "2024-05-21T00:00:00",
          "2024-05-22T00:00:00",
          "2024-05-23T00:00:00",
          "2024-05-24T00:00:00",
          "2024-05-25T00:00:00",
          "2024-05-26T00:00:00",
          "2024-05-27T00:00:00",
          "2024-05-28T00:00:00",
          "2024-05-29T00:00:00",
          "2024-05-30T00:00:00",
          "2024-05-31T00:00:00",
          "2024-06-01T00:00:00",
          "2024-06-02T00:00:00",
          "2024-06-03T00:00:00",
          "2024-06-04T00:00:00",
          "2024-06-05T00:00:00",
          "2024-06-06T00:00:00",
          "2024-06-07T00:00:00",
          "2024-06-08T00:00:00",
          "2024-06-09T00:00:00",
          "2024-06-10T00:00:00",
          "2024-06-11T00:00:00",
          "2024-06-12T00:00:00",
          "2024-06-13T00:00:00",
          "2024-06-14T00:00:00",
          "2024-06-15T00:00:00",
          "2024-06-16T00:00:00",
          "2024-06-17T00:00:00",
          "2024-06-18T00:00:00",
          "2024-06-19T00:00:00",
          "2024-06-20T00:00:00",
          "2024-06-21T00:00:00",
          "2024-06-22T00:00:00",
          "2024-06-23T00:00:00",
          "2024-06-24T00:00:00",
          "2024-06-25T00:00:00",
          "2024-06-26T00:00:00",
          "2024-06-27T00:00:00",
          "2024-06-28T00:00:00",
          "2024-06-29T00:00:00",
          "2024-06-30T00:00:00",
          "2024-07-01T00:00:00",
          "2024-07-02T00:00:00",
          "2024-07-03T00:00:00",
          "2024-07-04T00:00:00",
          "2024-07-05T00:00:00",
          "2024-07-06T00:00:00",
          "2024-07-07T00:00:00",
          "2024-07-08T00:00:00",
          "2024-07-09T00:00:00",
          "2024-07-10T00:00:00",
          "2024-07-11T00:00:00",
          "2024-07-12T00:00:00",
          "2024-07-13T00:00:00",
          "2024-07-14T00:00:00",
          "2024-07-15T00:00:00",
          "2024-07-16T00:00:00",
          "2024-07-17T00:00:00",
          "2024-07-18T00:00:00",
          "2024-07-19T00:00:00",
          "2024-07-20T00:00:00",
          "2024-07-21T00:00:00",
          "2024-07-22T00:00:00",
          "2024-07-23T00:00:00",
          "2024-07-24T00:00:00",
          "2024-07-25T00:00:00",
          "2024-07-26T00:00:00",
          "2024-07-27T00:00:00",
          "2024-07-28T00:00:00",
          "2024-07-29T00:00:00",
          "2024-07-30T00:00:00",
          "2024-07-31T00:00:00",
          "2024-08-01T00:00:00",
          "2024-08-02T00:00:00",
          "2024-08-03T00:00:00",
          "2024-08-04T00:00:00",
          "2024-08-05T00:00:00",
          "2024-08-06T00:00:00",
          "2024-08-07T00:00:00",
          "2024-08-08T00:00:00",
          "2024-08-09T00:00:00",
          "2024-08-10T00:00:00",
          "2024-08-11T00:00:00",
          "2024-08-12T00:00:00",
          "2024-08-13T00:00:00",
          "2024-08-14T00:00:00",
          "2024-08-15T00:00:00",
          "2024-08-16T00:00:00",
          "2024-08-17T00:00:00",
          "2024-08-18T00:00:00",
          "2024-08-19T00:00:00",
          "2024-08-20T00:00:00",
          "2024-08-21T00:00:00",
          "2024-08-22T00:00:00",
          "2024-08-23T00:00:00",
          "2024-08-24T00:00:00",
          "2024-08-25T00:00:00",
          "2024-08-26T00:00:00",
          "2024-08-27T00:00:00",
          "2024-08-28T00:00:00",
          "2024-08-29T00:00:00",
          "2024-08-30T00:00:00",
          "2024-08-31T00:00:00",
          "2024-09-01T00:00:00",
          "2024-09-02T00:00:00",
          "2024-09-03T00:00:00",
          "2024-09-04T00:00:00",
          "2024-09-05T00:00:00",
          "2024-09-06T00:00:00",
          "2024-09-07T00:00:00",
          "2024-09-08T00:00:00",
          "2024-09-09T00:00:00",
          "2024-09-10T00:00:00",
          "2024-09-11T00:00:00",
          "2024-09-12T00:00:00",
          "2024-09-13T00:00:00",
          "2024-09-14T00:00:00",
          "2024-09-15T00:00:00",
          "2024-09-16T00:00:00",
          "2024-09-17T00:00:00",
          "2024-09-18T00:00:00",
          "2024-09-19T00:00:00",
          "2024-09-20T00:00:00",
          "2024-09-21T00:00:00",
          "2024-09-22T00:00:00",
          "2024-09-23T00:00:00",
          "2024-09-24T00:00:00",
          "2024-09-25T00:00:00",
          "2024-09-26T00:00:00",
          "2024-09-27T00:00:00",
          "2024-09-28T00:00:00",
          "2024-09-29T00:00:00",
          "2024-09-30T00:00:00",
          "2024-10-01T00:00:00",
          "2024-10-02T00:00:00",
          "2024-10-03T00:00:00",
          "2024-10-04T00:00:00",
          "2024-10-05T00:00:00",
          "2024-10-06T00:00:00",
          "2024-10-07T00:00:00",
          "2024-10-08T00:00:00",
          "2024-10-09T00:00:00",
          "2024-10-10T00:00:00",
          "2024-10-11T00:00:00",
          "2024-10-12T00:00:00",
          "2024-10-13T00:00:00",
          "2024-10-14T00:00:00",
          "2024-10-15T00:00:00",
          "2024-10-16T00:00:00",
          "2024-10-17T00:00:00",
          "2024-10-18T00:00:00",
          "2024-10-19T00:00:00",
          "2024-10-20T00:00:00",
          "2024-10-21T00:00:00",
          "2024-10-22T00:00:00",
          "2024-10-23T00:00:00",
          "2024-10-24T00:00:00",
          "2024-10-25T00:00:00",
          "2024-10-26T00:00:00",
          "2024-10-27T00:00:00",
          "2024-10-28T00:00:00",
          "2024-10-29T00:00:00",
          "2024-10-30T00:00:00",
          "2024-10-31T00:00:00",
          "2024-11-01T00:00:00",
          "2024-11-02T00:00:00",
          "2024-11-03T00:00:00",
          "2024-11-04T00:00:00",
          "2024-11-05T00:00:00",
          "2024-11-06T00:00:00",
          "2024-11-07T00:00:00",
          "2024-11-08T00:00:00",
          "2024-11-09T00:00:00",
          "2024-11-10T00:00:00",
          "2024-11-11T00:00:00",
          "2024-11-12T00:00:00",
          "2024-11-13T00:00:00",
          "2024-11-14T00:00:00",
          "2024-11-15T00:00:00",
          "2024-11-16T00:00:00",
          "2024-11-17T00:00:00",
          "2024-11-18T00:00:00",
          "2024-11-19T00:00:00",
          "2024-11-20T00:00:00",
          "2024-11-21T00:00:00",
          "2024-11-22T00:00:00",
          "2024-11-23T00:00:00",
          "2024-11-24T00:00:00",
          "2024-11-25T00:00:00",
          "2024-11-26T00:00:00",
          "2024-11-27T00:00:00",
          "2024-11-28T00:00:00",
          "2024-11-29T00:00:00",
          "2024-11-30T00:00:00",
          "2024-12-01T00:00:00",
          "2024-12-02T00:00:00",
          "2024-12-03T00:00:00",
          "2024-12-04T00:00:00",
          "2024-12-05T00:00:00",
          "2024-12-06T00:00:00",
          "2024-12-07T00:00:00",
          "2024-12-08T00:00:00",
          "2024-12-09T00:00:00",
          "2024-12-10T00:00:00",
          "2024-12-11T00:00:00",
          "2024-12-12T00:00:00",
          "2024-12-13T00:00:00",
          "2024-12-14T00:00:00",
          "2024-12-15T00:00:00",
          "2024-12-16T00:00:00",
          "2024-12-17T00:00:00",
          "2024-12-18T00:00:00",
          "2024-12-19T00:00:00",
          "2024-12-20T00:00:00",
          "2024-12-21T00:00:00",
          "2024-12-22T00:00:00",
          "2024-12-23T00:00:00",
          "2024-12-24T00:00:00",
          "2024-12-25T00:00:00",
          "2024-12-26T00:00:00",
          "2024-12-27T00:00:00",
          "2024-12-28T00:00:00",
          "2024-12-29T00:00:00",
          "2024-12-30T00:00:00",
          "2024-12-31T00:00:00",
          "2025-01-01T00:00:00",
          "2025-01-02T00:00:00",
          "2025-01-03T00:00:00",
          "2025-01-04T00:00:00",
          "2025-01-05T00:00:00",
          "2025-01-06T00:00:00",
          "2025-01-07T00:00:00",
          "2025-01-08T00:00:00",
          "2025-01-09T00:00:00",
          "2025-01-10T00:00:00",
          "2025-01-11T00:00:00",
          "2025-01-12T00:00:00",
          "2025-01-13T00:00:00",
          "2025-01-14T00:00:00",
          "2025-01-15T00:00:00",
          "2025-01-16T00:00:00",
          "2025-01-17T00:00:00",
          "2025-01-18T00:00:00",
          "2025-01-19T00:00:00",
          "2025-01-20T00:00:00",
          "2025-01-21T00:00:00",
          "2025-01-22T00:00:00",
          "2025-01-23T00:00:00",
          "2025-01-24T00:00:00",
          "2025-01-25T00:00:00",
          "2025-01-26T00:00:00",
          "2025-01-27T00:00:00",
          "2025-01-28T00:00:00",
          "2025-01-29T00:00:00",
          "2025-01-30T00:00:00",
          "2025-01-31T00:00:00"
         ],
         "y": [
          69362.5546875,
          71631.359375,
          69139.015625,
          70587.8828125,
          70060.609375,
          67195.8671875,
          63821.47265625,
          65738.7265625,
          63426.2109375,
          63811.86328125,
          61276.69140625,
          63512.75390625,
          63843.5703125,
          64994.44140625,
          64926.64453125,
          66837.6796875,
          66407.2734375,
          64276.8984375,
          64481.70703125,
          63755.3203125,
          63419.140625,
          63113.23046875,
          63841.12109375,
          60636.85546875,
          58254.01171875,
          59123.43359375,
          62889.8359375,
          63891.47265625,
          64031.1328125,
          63161.94921875,
          62334.81640625,
          61187.94140625,
          63049.9609375,
          60792.77734375,
          60793.7109375,
          61448.39453125,
          62901.44921875,
          61552.7890625,
          66267.4921875,
          65231.58203125,
          67051.875,
          66940.8046875,
          66278.3671875,
          71448.1953125,
          70136.53125,
          69122.3359375,
          67929.5625,
          68526.1015625,
          69265.9453125,
          68518.09375,
          69394.5546875,
          68296.21875,
          67578.09375,
          68364.9921875,
          67491.4140625,
          67706.9375,
          67751.6015625,
          68804.78125,
          70567.765625,
          71082.8203125,
          70757.1640625,
          69342.5859375,
          69305.7734375,
          69647.9921875,
          69512.28125,
          67332.03125,
          68241.1875,
          66756.3984375,
          66011.09375,
          66191,
          66639.046875,
          66490.296875,
          65140.74609375,
          64960.296875,
          64828.65625,
          64096.19921875,
          64252.578125,
          63180.796875,
          60277.4140625,
          61804.640625,
          60811.27734375,
          61604.80078125,
          60320.13671875,
          60887.37890625,
          62678.29296875,
          62851.98046875,
          62029.015625,
          60173.921875,
          56977.703125,
          56662.375,
          58303.5390625,
          55849.109375,
          56705.09765625,
          58009.2265625,
          57742.49609375,
          57344.9140625,
          57899.46484375,
          59231.953125,
          60787.79296875,
          64870.15234375,
          65097.1484375,
          64118.79296875,
          63974.06640625,
          66710.15625,
          67163.6484375,
          68154.5234375,
          67585.25,
          65927.671875,
          65372.1328125,
          65777.2265625,
          67912.0625,
          67813.3359375,
          68255.8671875,
          66819.9140625,
          66201.015625,
          64619.25,
          65357.5,
          61415.06640625,
          60680.09375,
          58116.9765625,
          53991.45703125,
          56034.31640625,
          55027.4609375,
          61710.13671875,
          60880.11328125,
          60945.8125,
          58719.484375,
          59354.515625,
          60609.56640625,
          58737.26953125,
          57560.09765625,
          58894.10546875,
          59478.97265625,
          58483.96484375,
          59493.453125,
          59012.79296875,
          61175.19140625,
          60381.9140625,
          64094.35546875,
          64178.9921875,
          64333.54296875,
          62880.66015625,
          59504.1328125,
          59027.625,
          59388.1796875,
          59119.4765625,
          58969.8984375,
          57325.48828125,
          59112.48046875,
          57431.0234375,
          57971.5390625,
          56160.48828125,
          53948.75390625,
          54139.6875,
          54841.56640625,
          57019.53515625,
          57648.7109375,
          57343.171875,
          58127.01171875,
          60571.30078125,
          60005.12109375,
          59182.8359375,
          58192.5078125,
          60308.5390625,
          61649.6796875,
          62940.45703125,
          63192.9765625,
          63394.83984375,
          63648.7109375,
          63329.80078125,
          64301.96875,
          63143.14453125,
          65181.01953125,
          65790.6640625,
          65887.6484375,
          65635.3046875,
          63329.5,
          60837.0078125,
          60632.78515625,
          60759.40234375,
          62067.4765625,
          62089.94921875,
          62818.953125,
          62236.66015625,
          62131.96875,
          60582.1015625,
          60274.5,
          62445.08984375,
          63193.0234375,
          62851.375,
          66046.125,
          67041.109375,
          67612.71875,
          67399.8359375,
          68418.7890625,
          68362.734375,
          69001.703125,
          67367.8515625,
          67361.40625,
          66432.1953125,
          68161.0546875,
          66642.4140625,
          67014.6953125,
          67929.296875,
          69907.7578125,
          72720.4921875,
          72339.5390625,
          70215.1875,
          69482.46875,
          69289.2734375,
          68741.1171875,
          67811.5078125,
          69359.5625,
          75639.078125,
          75904.859375,
          76545.4765625,
          76778.8671875,
          80474.1875,
          88701.484375,
          87955.8125,
          90584.1640625,
          87250.4296875,
          91066.0078125,
          90558.4765625,
          89845.8515625,
          90542.640625,
          92343.7890625,
          94339.4921875,
          98504.7265625,
          98997.6640625,
          97777.28125,
          98013.8203125,
          93102.296875,
          91985.3203125,
          95962.53125,
          95652.46875,
          97461.5234375,
          96449.0546875,
          97279.7890625,
          95865.3046875,
          96002.1640625,
          98768.53125,
          96593.5703125,
          99920.7109375,
          99923.3359375,
          101236.015625,
          97432.71875,
          96675.4296875,
          101173.03125,
          100043,
          101459.2578125,
          101372.96875,
          104298.6953125,
          106029.71875,
          106140.6015625,
          100041.5390625,
          97490.953125,
          97755.9296875,
          97224.7265625,
          95104.9375,
          94686.2421875,
          98676.09375,
          99299.1953125,
          95795.515625,
          94164.859375,
          95163.9296875,
          93530.2265625,
          92643.2109375,
          93429.203125,
          94419.7578125,
          96886.875,
          98107.4296875,
          98236.2265625,
          98314.9609375,
          102078.0859375,
          96922.703125,
          95043.5234375,
          92484.0390625,
          94701.453125,
          94566.59375,
          94488.4375,
          94516.5234375,
          96534.046875,
          100504.4921875,
          99756.90625,
          104462.0390625,
          104408.0703125,
          101089.609375,
          102016.6640625,
          106146.265625,
          103653.0703125,
          103960.171875,
          104819.484375,
          104714.6484375,
          102682.5,
          102087.6875,
          101332.4765625,
          103703.2109375,
          104735.3046875,
          102405.0234375
         ]
        }
       ],
       "layout": {
        "height": 600,
        "plot_bgcolor": "lightgrey",
        "template": {
         "data": {
          "bar": [
           {
            "error_x": {
             "color": "#2a3f5f"
            },
            "error_y": {
             "color": "#2a3f5f"
            },
            "marker": {
             "line": {
              "color": "#E5ECF6",
              "width": 0.5
             },
             "pattern": {
              "fillmode": "overlay",
              "size": 10,
              "solidity": 0.2
             }
            },
            "type": "bar"
           }
          ],
          "barpolar": [
           {
            "marker": {
             "line": {
              "color": "#E5ECF6",
              "width": 0.5
             },
             "pattern": {
              "fillmode": "overlay",
              "size": 10,
              "solidity": 0.2
             }
            },
            "type": "barpolar"
           }
          ],
          "carpet": [
           {
            "aaxis": {
             "endlinecolor": "#2a3f5f",
             "gridcolor": "white",
             "linecolor": "white",
             "minorgridcolor": "white",
             "startlinecolor": "#2a3f5f"
            },
            "baxis": {
             "endlinecolor": "#2a3f5f",
             "gridcolor": "white",
             "linecolor": "white",
             "minorgridcolor": "white",
             "startlinecolor": "#2a3f5f"
            },
            "type": "carpet"
           }
          ],
          "choropleth": [
           {
            "colorbar": {
             "outlinewidth": 0,
             "ticks": ""
            },
            "type": "choropleth"
           }
          ],
          "contour": [
           {
            "colorbar": {
             "outlinewidth": 0,
             "ticks": ""
            },
            "colorscale": [
             [
              0,
              "#0d0887"
             ],
             [
              0.1111111111111111,
              "#46039f"
             ],
             [
              0.2222222222222222,
              "#7201a8"
             ],
             [
              0.3333333333333333,
              "#9c179e"
             ],
             [
              0.4444444444444444,
              "#bd3786"
             ],
             [
              0.5555555555555556,
              "#d8576b"
             ],
             [
              0.6666666666666666,
              "#ed7953"
             ],
             [
              0.7777777777777778,
              "#fb9f3a"
             ],
             [
              0.8888888888888888,
              "#fdca26"
             ],
             [
              1,
              "#f0f921"
             ]
            ],
            "type": "contour"
           }
          ],
          "contourcarpet": [
           {
            "colorbar": {
             "outlinewidth": 0,
             "ticks": ""
            },
            "type": "contourcarpet"
           }
          ],
          "heatmap": [
           {
            "colorbar": {
             "outlinewidth": 0,
             "ticks": ""
            },
            "colorscale": [
             [
              0,
              "#0d0887"
             ],
             [
              0.1111111111111111,
              "#46039f"
             ],
             [
              0.2222222222222222,
              "#7201a8"
             ],
             [
              0.3333333333333333,
              "#9c179e"
             ],
             [
              0.4444444444444444,
              "#bd3786"
             ],
             [
              0.5555555555555556,
              "#d8576b"
             ],
             [
              0.6666666666666666,
              "#ed7953"
             ],
             [
              0.7777777777777778,
              "#fb9f3a"
             ],
             [
              0.8888888888888888,
              "#fdca26"
             ],
             [
              1,
              "#f0f921"
             ]
            ],
            "type": "heatmap"
           }
          ],
          "heatmapgl": [
           {
            "colorbar": {
             "outlinewidth": 0,
             "ticks": ""
            },
            "colorscale": [
             [
              0,
              "#0d0887"
             ],
             [
              0.1111111111111111,
              "#46039f"
             ],
             [
              0.2222222222222222,
              "#7201a8"
             ],
             [
              0.3333333333333333,
              "#9c179e"
             ],
             [
              0.4444444444444444,
              "#bd3786"
             ],
             [
              0.5555555555555556,
              "#d8576b"
             ],
             [
              0.6666666666666666,
              "#ed7953"
             ],
             [
              0.7777777777777778,
              "#fb9f3a"
             ],
             [
              0.8888888888888888,
              "#fdca26"
             ],
             [
              1,
              "#f0f921"
             ]
            ],
            "type": "heatmapgl"
           }
          ],
          "histogram": [
           {
            "marker": {
             "pattern": {
              "fillmode": "overlay",
              "size": 10,
              "solidity": 0.2
             }
            },
            "type": "histogram"
           }
          ],
          "histogram2d": [
           {
            "colorbar": {
             "outlinewidth": 0,
             "ticks": ""
            },
            "colorscale": [
             [
              0,
              "#0d0887"
             ],
             [
              0.1111111111111111,
              "#46039f"
             ],
             [
              0.2222222222222222,
              "#7201a8"
             ],
             [
              0.3333333333333333,
              "#9c179e"
             ],
             [
              0.4444444444444444,
              "#bd3786"
             ],
             [
              0.5555555555555556,
              "#d8576b"
             ],
             [
              0.6666666666666666,
              "#ed7953"
             ],
             [
              0.7777777777777778,
              "#fb9f3a"
             ],
             [
              0.8888888888888888,
              "#fdca26"
             ],
             [
              1,
              "#f0f921"
             ]
            ],
            "type": "histogram2d"
           }
          ],
          "histogram2dcontour": [
           {
            "colorbar": {
             "outlinewidth": 0,
             "ticks": ""
            },
            "colorscale": [
             [
              0,
              "#0d0887"
             ],
             [
              0.1111111111111111,
              "#46039f"
             ],
             [
              0.2222222222222222,
              "#7201a8"
             ],
             [
              0.3333333333333333,
              "#9c179e"
             ],
             [
              0.4444444444444444,
              "#bd3786"
             ],
             [
              0.5555555555555556,
              "#d8576b"
             ],
             [
              0.6666666666666666,
              "#ed7953"
             ],
             [
              0.7777777777777778,
              "#fb9f3a"
             ],
             [
              0.8888888888888888,
              "#fdca26"
             ],
             [
              1,
              "#f0f921"
             ]
            ],
            "type": "histogram2dcontour"
           }
          ],
          "mesh3d": [
           {
            "colorbar": {
             "outlinewidth": 0,
             "ticks": ""
            },
            "type": "mesh3d"
           }
          ],
          "parcoords": [
           {
            "line": {
             "colorbar": {
              "outlinewidth": 0,
              "ticks": ""
             }
            },
            "type": "parcoords"
           }
          ],
          "pie": [
           {
            "automargin": true,
            "type": "pie"
           }
          ],
          "scatter": [
           {
            "fillpattern": {
             "fillmode": "overlay",
             "size": 10,
             "solidity": 0.2
            },
            "type": "scatter"
           }
          ],
          "scatter3d": [
           {
            "line": {
             "colorbar": {
              "outlinewidth": 0,
              "ticks": ""
             }
            },
            "marker": {
             "colorbar": {
              "outlinewidth": 0,
              "ticks": ""
             }
            },
            "type": "scatter3d"
           }
          ],
          "scattercarpet": [
           {
            "marker": {
             "colorbar": {
              "outlinewidth": 0,
              "ticks": ""
             }
            },
            "type": "scattercarpet"
           }
          ],
          "scattergeo": [
           {
            "marker": {
             "colorbar": {
              "outlinewidth": 0,
              "ticks": ""
             }
            },
            "type": "scattergeo"
           }
          ],
          "scattergl": [
           {
            "marker": {
             "colorbar": {
              "outlinewidth": 0,
              "ticks": ""
             }
            },
            "type": "scattergl"
           }
          ],
          "scattermapbox": [
           {
            "marker": {
             "colorbar": {
              "outlinewidth": 0,
              "ticks": ""
             }
            },
            "type": "scattermapbox"
           }
          ],
          "scatterpolar": [
           {
            "marker": {
             "colorbar": {
              "outlinewidth": 0,
              "ticks": ""
             }
            },
            "type": "scatterpolar"
           }
          ],
          "scatterpolargl": [
           {
            "marker": {
             "colorbar": {
              "outlinewidth": 0,
              "ticks": ""
             }
            },
            "type": "scatterpolargl"
           }
          ],
          "scatterternary": [
           {
            "marker": {
             "colorbar": {
              "outlinewidth": 0,
              "ticks": ""
             }
            },
            "type": "scatterternary"
           }
          ],
          "surface": [
           {
            "colorbar": {
             "outlinewidth": 0,
             "ticks": ""
            },
            "colorscale": [
             [
              0,
              "#0d0887"
             ],
             [
              0.1111111111111111,
              "#46039f"
             ],
             [
              0.2222222222222222,
              "#7201a8"
             ],
             [
              0.3333333333333333,
              "#9c179e"
             ],
             [
              0.4444444444444444,
              "#bd3786"
             ],
             [
              0.5555555555555556,
              "#d8576b"
             ],
             [
              0.6666666666666666,
              "#ed7953"
             ],
             [
              0.7777777777777778,
              "#fb9f3a"
             ],
             [
              0.8888888888888888,
              "#fdca26"
             ],
             [
              1,
              "#f0f921"
             ]
            ],
            "type": "surface"
           }
          ],
          "table": [
           {
            "cells": {
             "fill": {
              "color": "#EBF0F8"
             },
             "line": {
              "color": "white"
             }
            },
            "header": {
             "fill": {
              "color": "#C8D4E3"
             },
             "line": {
              "color": "white"
             }
            },
            "type": "table"
           }
          ]
         },
         "layout": {
          "annotationdefaults": {
           "arrowcolor": "#2a3f5f",
           "arrowhead": 0,
           "arrowwidth": 1
          },
          "autotypenumbers": "strict",
          "coloraxis": {
           "colorbar": {
            "outlinewidth": 0,
            "ticks": ""
           }
          },
          "colorscale": {
           "diverging": [
            [
             0,
             "#8e0152"
            ],
            [
             0.1,
             "#c51b7d"
            ],
            [
             0.2,
             "#de77ae"
            ],
            [
             0.3,
             "#f1b6da"
            ],
            [
             0.4,
             "#fde0ef"
            ],
            [
             0.5,
             "#f7f7f7"
            ],
            [
             0.6,
             "#e6f5d0"
            ],
            [
             0.7,
             "#b8e186"
            ],
            [
             0.8,
             "#7fbc41"
            ],
            [
             0.9,
             "#4d9221"
            ],
            [
             1,
             "#276419"
            ]
           ],
           "sequential": [
            [
             0,
             "#0d0887"
            ],
            [
             0.1111111111111111,
             "#46039f"
            ],
            [
             0.2222222222222222,
             "#7201a8"
            ],
            [
             0.3333333333333333,
             "#9c179e"
            ],
            [
             0.4444444444444444,
             "#bd3786"
            ],
            [
             0.5555555555555556,
             "#d8576b"
            ],
            [
             0.6666666666666666,
             "#ed7953"
            ],
            [
             0.7777777777777778,
             "#fb9f3a"
            ],
            [
             0.8888888888888888,
             "#fdca26"
            ],
            [
             1,
             "#f0f921"
            ]
           ],
           "sequentialminus": [
            [
             0,
             "#0d0887"
            ],
            [
             0.1111111111111111,
             "#46039f"
            ],
            [
             0.2222222222222222,
             "#7201a8"
            ],
            [
             0.3333333333333333,
             "#9c179e"
            ],
            [
             0.4444444444444444,
             "#bd3786"
            ],
            [
             0.5555555555555556,
             "#d8576b"
            ],
            [
             0.6666666666666666,
             "#ed7953"
            ],
            [
             0.7777777777777778,
             "#fb9f3a"
            ],
            [
             0.8888888888888888,
             "#fdca26"
            ],
            [
             1,
             "#f0f921"
            ]
           ]
          },
          "colorway": [
           "#636efa",
           "#EF553B",
           "#00cc96",
           "#ab63fa",
           "#FFA15A",
           "#19d3f3",
           "#FF6692",
           "#B6E880",
           "#FF97FF",
           "#FECB52"
          ],
          "font": {
           "color": "#2a3f5f"
          },
          "geo": {
           "bgcolor": "white",
           "lakecolor": "white",
           "landcolor": "#E5ECF6",
           "showlakes": true,
           "showland": true,
           "subunitcolor": "white"
          },
          "hoverlabel": {
           "align": "left"
          },
          "hovermode": "closest",
          "mapbox": {
           "style": "light"
          },
          "paper_bgcolor": "white",
          "plot_bgcolor": "#E5ECF6",
          "polar": {
           "angularaxis": {
            "gridcolor": "white",
            "linecolor": "white",
            "ticks": ""
           },
           "bgcolor": "#E5ECF6",
           "radialaxis": {
            "gridcolor": "white",
            "linecolor": "white",
            "ticks": ""
           }
          },
          "scene": {
           "xaxis": {
            "backgroundcolor": "#E5ECF6",
            "gridcolor": "white",
            "gridwidth": 2,
            "linecolor": "white",
            "showbackground": true,
            "ticks": "",
            "zerolinecolor": "white"
           },
           "yaxis": {
            "backgroundcolor": "#E5ECF6",
            "gridcolor": "white",
            "gridwidth": 2,
            "linecolor": "white",
            "showbackground": true,
            "ticks": "",
            "zerolinecolor": "white"
           },
           "zaxis": {
            "backgroundcolor": "#E5ECF6",
            "gridcolor": "white",
            "gridwidth": 2,
            "linecolor": "white",
            "showbackground": true,
            "ticks": "",
            "zerolinecolor": "white"
           }
          },
          "shapedefaults": {
           "line": {
            "color": "#2a3f5f"
           }
          },
          "ternary": {
           "aaxis": {
            "gridcolor": "white",
            "linecolor": "white",
            "ticks": ""
           },
           "baxis": {
            "gridcolor": "white",
            "linecolor": "white",
            "ticks": ""
           },
           "bgcolor": "#E5ECF6",
           "caxis": {
            "gridcolor": "white",
            "linecolor": "white",
            "ticks": ""
           }
          },
          "title": {
           "x": 0.05
          },
          "xaxis": {
           "automargin": true,
           "gridcolor": "white",
           "linecolor": "white",
           "ticks": "",
           "title": {
            "standoff": 15
           },
           "zerolinecolor": "white",
           "zerolinewidth": 2
          },
          "yaxis": {
           "automargin": true,
           "gridcolor": "white",
           "linecolor": "white",
           "ticks": "",
           "title": {
            "standoff": 15
           },
           "zerolinecolor": "white",
           "zerolinewidth": 2
          }
         }
        },
        "width": 1050,
        "xaxis": {
         "rangeslider": {
          "visible": false
         },
         "title": {
          "text": "Date"
         }
        },
        "yaxis": {
         "title": {
          "text": "BTC-USD Price"
         }
        }
       }
      }
     },
     "metadata": {},
     "output_type": "display_data"
    }
   ],
   "source": [
    "#Price chart\n",
    "fig = go.Figure(data=[go.Scatter(x=stock_data.index, y=stock_data['Adj Close'], mode='lines', name='Adj Close')])\n",
    "fig.update_layout(\n",
    "    xaxis_rangeslider_visible=False,\n",
    "    yaxis_title=f'{ticker} Price',\n",
    "    xaxis_title='Date',\n",
    "    plot_bgcolor='lightgrey',\n",
    "    width=1050,\n",
    "    height=600\n",
    ")\n",
    "fig.show()\n",
    "fig.write_image('./images/Price.png')\n"
   ]
  },
  {
   "cell_type": "code",
   "execution_count": 11,
   "metadata": {},
   "outputs": [
    {
     "data": {
      "application/vnd.plotly.v1+json": {
       "config": {
        "plotlyServerURL": "https://plot.ly"
       },
       "data": [
        {
         "mode": "lines",
         "name": "RSI",
         "type": "scatter",
         "x": [
          "2024-04-07T00:00:00",
          "2024-04-08T00:00:00",
          "2024-04-09T00:00:00",
          "2024-04-10T00:00:00",
          "2024-04-11T00:00:00",
          "2024-04-12T00:00:00",
          "2024-04-13T00:00:00",
          "2024-04-14T00:00:00",
          "2024-04-15T00:00:00",
          "2024-04-16T00:00:00",
          "2024-04-17T00:00:00",
          "2024-04-18T00:00:00",
          "2024-04-19T00:00:00",
          "2024-04-20T00:00:00",
          "2024-04-21T00:00:00",
          "2024-04-22T00:00:00",
          "2024-04-23T00:00:00",
          "2024-04-24T00:00:00",
          "2024-04-25T00:00:00",
          "2024-04-26T00:00:00",
          "2024-04-27T00:00:00",
          "2024-04-28T00:00:00",
          "2024-04-29T00:00:00",
          "2024-04-30T00:00:00",
          "2024-05-01T00:00:00",
          "2024-05-02T00:00:00",
          "2024-05-03T00:00:00",
          "2024-05-04T00:00:00",
          "2024-05-05T00:00:00",
          "2024-05-06T00:00:00",
          "2024-05-07T00:00:00",
          "2024-05-08T00:00:00",
          "2024-05-09T00:00:00",
          "2024-05-10T00:00:00",
          "2024-05-11T00:00:00",
          "2024-05-12T00:00:00",
          "2024-05-13T00:00:00",
          "2024-05-14T00:00:00",
          "2024-05-15T00:00:00",
          "2024-05-16T00:00:00",
          "2024-05-17T00:00:00",
          "2024-05-18T00:00:00",
          "2024-05-19T00:00:00",
          "2024-05-20T00:00:00",
          "2024-05-21T00:00:00",
          "2024-05-22T00:00:00",
          "2024-05-23T00:00:00",
          "2024-05-24T00:00:00",
          "2024-05-25T00:00:00",
          "2024-05-26T00:00:00",
          "2024-05-27T00:00:00",
          "2024-05-28T00:00:00",
          "2024-05-29T00:00:00",
          "2024-05-30T00:00:00",
          "2024-05-31T00:00:00",
          "2024-06-01T00:00:00",
          "2024-06-02T00:00:00",
          "2024-06-03T00:00:00",
          "2024-06-04T00:00:00",
          "2024-06-05T00:00:00",
          "2024-06-06T00:00:00",
          "2024-06-07T00:00:00",
          "2024-06-08T00:00:00",
          "2024-06-09T00:00:00",
          "2024-06-10T00:00:00",
          "2024-06-11T00:00:00",
          "2024-06-12T00:00:00",
          "2024-06-13T00:00:00",
          "2024-06-14T00:00:00",
          "2024-06-15T00:00:00",
          "2024-06-16T00:00:00",
          "2024-06-17T00:00:00",
          "2024-06-18T00:00:00",
          "2024-06-19T00:00:00",
          "2024-06-20T00:00:00",
          "2024-06-21T00:00:00",
          "2024-06-22T00:00:00",
          "2024-06-23T00:00:00",
          "2024-06-24T00:00:00",
          "2024-06-25T00:00:00",
          "2024-06-26T00:00:00",
          "2024-06-27T00:00:00",
          "2024-06-28T00:00:00",
          "2024-06-29T00:00:00",
          "2024-06-30T00:00:00",
          "2024-07-01T00:00:00",
          "2024-07-02T00:00:00",
          "2024-07-03T00:00:00",
          "2024-07-04T00:00:00",
          "2024-07-05T00:00:00",
          "2024-07-06T00:00:00",
          "2024-07-07T00:00:00",
          "2024-07-08T00:00:00",
          "2024-07-09T00:00:00",
          "2024-07-10T00:00:00",
          "2024-07-11T00:00:00",
          "2024-07-12T00:00:00",
          "2024-07-13T00:00:00",
          "2024-07-14T00:00:00",
          "2024-07-15T00:00:00",
          "2024-07-16T00:00:00",
          "2024-07-17T00:00:00",
          "2024-07-18T00:00:00",
          "2024-07-19T00:00:00",
          "2024-07-20T00:00:00",
          "2024-07-21T00:00:00",
          "2024-07-22T00:00:00",
          "2024-07-23T00:00:00",
          "2024-07-24T00:00:00",
          "2024-07-25T00:00:00",
          "2024-07-26T00:00:00",
          "2024-07-27T00:00:00",
          "2024-07-28T00:00:00",
          "2024-07-29T00:00:00",
          "2024-07-30T00:00:00",
          "2024-07-31T00:00:00",
          "2024-08-01T00:00:00",
          "2024-08-02T00:00:00",
          "2024-08-03T00:00:00",
          "2024-08-04T00:00:00",
          "2024-08-05T00:00:00",
          "2024-08-06T00:00:00",
          "2024-08-07T00:00:00",
          "2024-08-08T00:00:00",
          "2024-08-09T00:00:00",
          "2024-08-10T00:00:00",
          "2024-08-11T00:00:00",
          "2024-08-12T00:00:00",
          "2024-08-13T00:00:00",
          "2024-08-14T00:00:00",
          "2024-08-15T00:00:00",
          "2024-08-16T00:00:00",
          "2024-08-17T00:00:00",
          "2024-08-18T00:00:00",
          "2024-08-19T00:00:00",
          "2024-08-20T00:00:00",
          "2024-08-21T00:00:00",
          "2024-08-22T00:00:00",
          "2024-08-23T00:00:00",
          "2024-08-24T00:00:00",
          "2024-08-25T00:00:00",
          "2024-08-26T00:00:00",
          "2024-08-27T00:00:00",
          "2024-08-28T00:00:00",
          "2024-08-29T00:00:00",
          "2024-08-30T00:00:00",
          "2024-08-31T00:00:00",
          "2024-09-01T00:00:00",
          "2024-09-02T00:00:00",
          "2024-09-03T00:00:00",
          "2024-09-04T00:00:00",
          "2024-09-05T00:00:00",
          "2024-09-06T00:00:00",
          "2024-09-07T00:00:00",
          "2024-09-08T00:00:00",
          "2024-09-09T00:00:00",
          "2024-09-10T00:00:00",
          "2024-09-11T00:00:00",
          "2024-09-12T00:00:00",
          "2024-09-13T00:00:00",
          "2024-09-14T00:00:00",
          "2024-09-15T00:00:00",
          "2024-09-16T00:00:00",
          "2024-09-17T00:00:00",
          "2024-09-18T00:00:00",
          "2024-09-19T00:00:00",
          "2024-09-20T00:00:00",
          "2024-09-21T00:00:00",
          "2024-09-22T00:00:00",
          "2024-09-23T00:00:00",
          "2024-09-24T00:00:00",
          "2024-09-25T00:00:00",
          "2024-09-26T00:00:00",
          "2024-09-27T00:00:00",
          "2024-09-28T00:00:00",
          "2024-09-29T00:00:00",
          "2024-09-30T00:00:00",
          "2024-10-01T00:00:00",
          "2024-10-02T00:00:00",
          "2024-10-03T00:00:00",
          "2024-10-04T00:00:00",
          "2024-10-05T00:00:00",
          "2024-10-06T00:00:00",
          "2024-10-07T00:00:00",
          "2024-10-08T00:00:00",
          "2024-10-09T00:00:00",
          "2024-10-10T00:00:00",
          "2024-10-11T00:00:00",
          "2024-10-12T00:00:00",
          "2024-10-13T00:00:00",
          "2024-10-14T00:00:00",
          "2024-10-15T00:00:00",
          "2024-10-16T00:00:00",
          "2024-10-17T00:00:00",
          "2024-10-18T00:00:00",
          "2024-10-19T00:00:00",
          "2024-10-20T00:00:00",
          "2024-10-21T00:00:00",
          "2024-10-22T00:00:00",
          "2024-10-23T00:00:00",
          "2024-10-24T00:00:00",
          "2024-10-25T00:00:00",
          "2024-10-26T00:00:00",
          "2024-10-27T00:00:00",
          "2024-10-28T00:00:00",
          "2024-10-29T00:00:00",
          "2024-10-30T00:00:00",
          "2024-10-31T00:00:00",
          "2024-11-01T00:00:00",
          "2024-11-02T00:00:00",
          "2024-11-03T00:00:00",
          "2024-11-04T00:00:00",
          "2024-11-05T00:00:00",
          "2024-11-06T00:00:00",
          "2024-11-07T00:00:00",
          "2024-11-08T00:00:00",
          "2024-11-09T00:00:00",
          "2024-11-10T00:00:00",
          "2024-11-11T00:00:00",
          "2024-11-12T00:00:00",
          "2024-11-13T00:00:00",
          "2024-11-14T00:00:00",
          "2024-11-15T00:00:00",
          "2024-11-16T00:00:00",
          "2024-11-17T00:00:00",
          "2024-11-18T00:00:00",
          "2024-11-19T00:00:00",
          "2024-11-20T00:00:00",
          "2024-11-21T00:00:00",
          "2024-11-22T00:00:00",
          "2024-11-23T00:00:00",
          "2024-11-24T00:00:00",
          "2024-11-25T00:00:00",
          "2024-11-26T00:00:00",
          "2024-11-27T00:00:00",
          "2024-11-28T00:00:00",
          "2024-11-29T00:00:00",
          "2024-11-30T00:00:00",
          "2024-12-01T00:00:00",
          "2024-12-02T00:00:00",
          "2024-12-03T00:00:00",
          "2024-12-04T00:00:00",
          "2024-12-05T00:00:00",
          "2024-12-06T00:00:00",
          "2024-12-07T00:00:00",
          "2024-12-08T00:00:00",
          "2024-12-09T00:00:00",
          "2024-12-10T00:00:00",
          "2024-12-11T00:00:00",
          "2024-12-12T00:00:00",
          "2024-12-13T00:00:00",
          "2024-12-14T00:00:00",
          "2024-12-15T00:00:00",
          "2024-12-16T00:00:00",
          "2024-12-17T00:00:00",
          "2024-12-18T00:00:00",
          "2024-12-19T00:00:00",
          "2024-12-20T00:00:00",
          "2024-12-21T00:00:00",
          "2024-12-22T00:00:00",
          "2024-12-23T00:00:00",
          "2024-12-24T00:00:00",
          "2024-12-25T00:00:00",
          "2024-12-26T00:00:00",
          "2024-12-27T00:00:00",
          "2024-12-28T00:00:00",
          "2024-12-29T00:00:00",
          "2024-12-30T00:00:00",
          "2024-12-31T00:00:00",
          "2025-01-01T00:00:00",
          "2025-01-02T00:00:00",
          "2025-01-03T00:00:00",
          "2025-01-04T00:00:00",
          "2025-01-05T00:00:00",
          "2025-01-06T00:00:00",
          "2025-01-07T00:00:00",
          "2025-01-08T00:00:00",
          "2025-01-09T00:00:00",
          "2025-01-10T00:00:00",
          "2025-01-11T00:00:00",
          "2025-01-12T00:00:00",
          "2025-01-13T00:00:00",
          "2025-01-14T00:00:00",
          "2025-01-15T00:00:00",
          "2025-01-16T00:00:00",
          "2025-01-17T00:00:00",
          "2025-01-18T00:00:00",
          "2025-01-19T00:00:00",
          "2025-01-20T00:00:00",
          "2025-01-21T00:00:00",
          "2025-01-22T00:00:00",
          "2025-01-23T00:00:00",
          "2025-01-24T00:00:00",
          "2025-01-25T00:00:00",
          "2025-01-26T00:00:00",
          "2025-01-27T00:00:00",
          "2025-01-28T00:00:00",
          "2025-01-29T00:00:00",
          "2025-01-30T00:00:00",
          "2025-01-31T00:00:00"
         ],
         "y": [
          null,
          null,
          null,
          null,
          null,
          null,
          null,
          null,
          null,
          null,
          null,
          null,
          null,
          null,
          42.954884193900924,
          50.21852751620053,
          48.714052836828905,
          42.006027530105214,
          42.821205115123576,
          40.63937565651122,
          39.63289378542248,
          38.69380326053963,
          42.203046986987694,
          33.195028452103664,
          28.34910495664128,
          32.23616429230264,
          45.92274645219529,
          48.87979093743021,
          49.29611492907253,
          46.74462322182162,
          44.39003293687348,
          41.284765388251635,
          47.68364402428398,
          41.744550097599685,
          41.747781856531624,
          44.090117784788376,
          48.992487316151475,
          45.044594112512634,
          57.835908235917934,
          54.81685162939795,
          58.878876275508,
          58.533089089787694,
          56.40543069579957,
          66.6070861580521,
          62.60420268357061,
          59.62065542512255,
          56.22679627406444,
          57.528930859357445,
          59.15188182961962,
          56.789550985778874,
          58.86306024235239,
          55.282955255550675,
          53.01266142503214,
          55.1844753972155,
          52.294680367068345,
          52.94930687190421,
          53.09295937901668,
          56.468041367451534,
          61.46628933055419,
          62.809759837721735,
          61.35324275207646,
          55.34909739974312,
          55.197710672962856,
          56.391804742355085,
          55.757154181936144,
          46.66991757872909,
          50.306923733227855,
          44.91909598264418,
          42.46083360667859,
          43.26792547834843,
          45.32481768412128,
          44.74479682350926,
          39.77198775815543,
          39.14552987486215,
          38.66703742087735,
          36.02820142589056,
          37.016479443637536,
          33.22766712581929,
          25.587285847567703,
          34.16297847612253,
          31.611148943501618,
          35.740391070679735,
          32.33638015733205,
          35.26804293029366,
          43.579657730344486,
          44.3262706231854,
          41.5225109839733,
          35.99542573367799,
          28.866000941362028,
          28.2710783665644,
          35.69897262707006,
          30.596039226461183,
          34.13225599012529,
          39.213814165978896,
          38.558601658807866,
          37.55141897942324,
          39.90915166776807,
          45.257317051834185,
          50.76714102164495,
          61.66884878803653,
          62.17045445852552,
          58.61046495187905,
          58.08064010252592,
          64.59647982827697,
          65.55222275790204,
          67.60973707573895,
          65.20028716353288,
          58.64655170231803,
          56.59335700855737,
          57.75478112752696,
          63.32417773983554,
          62.91111865014961,
          64.04330269521591,
          57.87012577148028,
          55.3918770405539,
          49.551333775085276,
          52.090409358555505,
          40.39742772272905,
          38.655345937104684,
          33.26748090526814,
          26.793979669970245,
          33.676266841387616,
          32.07569415846839,
          49.299574624764325,
          47.68228607817881,
          47.82817921615359,
          43.41049659619778,
          44.971797456304344,
          48.02394094862331,
          44.09473780892552,
          41.7801860151673,
          45.28518770499402,
          46.797471365129496,
          44.54192753832268,
          47.31629915277263,
          46.132897639620474,
          51.95466511076563,
          49.82715634273309,
          58.41038937354417,
          58.5843418628087,
          58.922212080759316,
          54.427060997352044,
          45.70104931241185,
          44.61398225598988,
          45.66710457359649,
          44.98068291982848,
          44.57898670269554,
          40.31633817026892,
          46.323019559995245,
          42.03606398468409,
          43.835438868822635,
          39.41987576666119,
          34.808476038803974,
          35.50984253830272,
          38.1443404213408,
          45.57424168178256,
          47.53480088717671,
          46.6558571547513,
          49.24850488805348,
          56.36972816253054,
          54.46340317705456,
          51.727352721646284,
          48.56312795995119,
          54.90993866380678,
          58.412462687378266,
          61.511276635021936,
          62.10615651365651,
          62.603745678822015,
          63.257199825354796,
          61.796402429919915,
          64.4885915274713,
          59.13882386252701,
          64.68679095961707,
          66.16675280699047,
          66.40794303323925,
          65.1074084751302,
          54.58754548204007,
          45.945465154513506,
          45.31247448335965,
          45.81094520882589,
          50.80023594484379,
          50.88390363604919,
          53.638227030053955,
          51.16990362648028,
          50.71800194870337,
          44.458341876899375,
          43.31569346083116,
          52.57789276335975,
          55.28893483416152,
          53.77659364563976,
          63.75933535454994,
          66.20714077391514,
          67.56262421301963,
          66.49290323684619,
          69.02119372474529,
          68.71402431111856,
          70.33470175484426,
          61.554148616962046,
          61.521520249217275,
          56.84338305056796,
          62.54941890269396,
          55.59582519865035,
          56.86186746828033,
          59.88771644246991,
          65.52165986684798,
          71.62371996205319,
          69.82134217364614,
          60.65501781204533,
          57.83474295314156,
          57.08110795453974,
          54.89535867077783,
          51.30723526346494,
          56.4161412415058,
          70.11406735733198,
          70.53615385212825,
          71.57810325656827,
          71.96705473417899,
          77.27077254233218,
          84.3638114409417,
          81.87008848041381,
          83.69912851189287,
          73.56203438621783,
          76.99609632322948,
          75.58962970315213,
          73.55786784159281,
          74.28566578585163,
          76.1157020561014,
          77.9852209522299,
          81.2788719770046,
          81.62916322544098,
          77.75043790319849,
          77.96894744153084,
          63.92954619993805,
          61.22932757935278,
          66.63347869841041,
          65.86271880378979,
          68.17570255319539,
          65.50081830768002,
          66.65679210105493,
          62.798382675799964,
          63.0214188084172,
          67.29026394798714,
          61.29873089512737,
          66.24947659643051,
          66.2531445308128,
          68.11903702226401,
          58.096268719002346,
          56.319368231143066,
          63.466201817891196,
          60.77560747344738,
          62.898526470308106,
          62.675951538783515,
          66.94678078919836,
          69.19287771361131,
          69.33661873965445,
          54.32268838839121,
          49.4958568148243,
          49.99298003500998,
          48.952697018350406,
          44.93443308876488,
          44.16332766177694,
          52.524175698879816,
          53.69041710470481,
          46.73799323068728,
          43.8894531080538,
          46.05861848038171,
          43.12287795677353,
          41.573469768252856,
          43.51033218895862,
          45.94247861384062,
          51.53889493779022,
          54.07216785382773,
          54.343389967041276,
          54.52020183783443,
          62.079054176045595,
          49.85437281287027,
          46.27711067575072,
          41.87031794683088,
          46.6134703303745,
          46.36567975180441,
          46.21235977225189,
          46.28110445175189,
          51.11448653886062,
          58.943564351390116,
          57.08963044040455,
          64.62993887707607,
          64.48995626460466,
          56.400776832892035,
          57.98624389565368,
          64.22680553369806,
          58.5703684991421,
          59.048782478371045,
          60.425859000873096,
          60.160066148241455,
          55.10057837625525,
          53.67759241267884,
          51.84679926990793,
          56.825056528143335,
          58.821002932521,
          52.87726124801682
         ]
        }
       ],
       "layout": {
        "height": 600,
        "plot_bgcolor": "lightgrey",
        "template": {
         "data": {
          "bar": [
           {
            "error_x": {
             "color": "#2a3f5f"
            },
            "error_y": {
             "color": "#2a3f5f"
            },
            "marker": {
             "line": {
              "color": "#E5ECF6",
              "width": 0.5
             },
             "pattern": {
              "fillmode": "overlay",
              "size": 10,
              "solidity": 0.2
             }
            },
            "type": "bar"
           }
          ],
          "barpolar": [
           {
            "marker": {
             "line": {
              "color": "#E5ECF6",
              "width": 0.5
             },
             "pattern": {
              "fillmode": "overlay",
              "size": 10,
              "solidity": 0.2
             }
            },
            "type": "barpolar"
           }
          ],
          "carpet": [
           {
            "aaxis": {
             "endlinecolor": "#2a3f5f",
             "gridcolor": "white",
             "linecolor": "white",
             "minorgridcolor": "white",
             "startlinecolor": "#2a3f5f"
            },
            "baxis": {
             "endlinecolor": "#2a3f5f",
             "gridcolor": "white",
             "linecolor": "white",
             "minorgridcolor": "white",
             "startlinecolor": "#2a3f5f"
            },
            "type": "carpet"
           }
          ],
          "choropleth": [
           {
            "colorbar": {
             "outlinewidth": 0,
             "ticks": ""
            },
            "type": "choropleth"
           }
          ],
          "contour": [
           {
            "colorbar": {
             "outlinewidth": 0,
             "ticks": ""
            },
            "colorscale": [
             [
              0,
              "#0d0887"
             ],
             [
              0.1111111111111111,
              "#46039f"
             ],
             [
              0.2222222222222222,
              "#7201a8"
             ],
             [
              0.3333333333333333,
              "#9c179e"
             ],
             [
              0.4444444444444444,
              "#bd3786"
             ],
             [
              0.5555555555555556,
              "#d8576b"
             ],
             [
              0.6666666666666666,
              "#ed7953"
             ],
             [
              0.7777777777777778,
              "#fb9f3a"
             ],
             [
              0.8888888888888888,
              "#fdca26"
             ],
             [
              1,
              "#f0f921"
             ]
            ],
            "type": "contour"
           }
          ],
          "contourcarpet": [
           {
            "colorbar": {
             "outlinewidth": 0,
             "ticks": ""
            },
            "type": "contourcarpet"
           }
          ],
          "heatmap": [
           {
            "colorbar": {
             "outlinewidth": 0,
             "ticks": ""
            },
            "colorscale": [
             [
              0,
              "#0d0887"
             ],
             [
              0.1111111111111111,
              "#46039f"
             ],
             [
              0.2222222222222222,
              "#7201a8"
             ],
             [
              0.3333333333333333,
              "#9c179e"
             ],
             [
              0.4444444444444444,
              "#bd3786"
             ],
             [
              0.5555555555555556,
              "#d8576b"
             ],
             [
              0.6666666666666666,
              "#ed7953"
             ],
             [
              0.7777777777777778,
              "#fb9f3a"
             ],
             [
              0.8888888888888888,
              "#fdca26"
             ],
             [
              1,
              "#f0f921"
             ]
            ],
            "type": "heatmap"
           }
          ],
          "heatmapgl": [
           {
            "colorbar": {
             "outlinewidth": 0,
             "ticks": ""
            },
            "colorscale": [
             [
              0,
              "#0d0887"
             ],
             [
              0.1111111111111111,
              "#46039f"
             ],
             [
              0.2222222222222222,
              "#7201a8"
             ],
             [
              0.3333333333333333,
              "#9c179e"
             ],
             [
              0.4444444444444444,
              "#bd3786"
             ],
             [
              0.5555555555555556,
              "#d8576b"
             ],
             [
              0.6666666666666666,
              "#ed7953"
             ],
             [
              0.7777777777777778,
              "#fb9f3a"
             ],
             [
              0.8888888888888888,
              "#fdca26"
             ],
             [
              1,
              "#f0f921"
             ]
            ],
            "type": "heatmapgl"
           }
          ],
          "histogram": [
           {
            "marker": {
             "pattern": {
              "fillmode": "overlay",
              "size": 10,
              "solidity": 0.2
             }
            },
            "type": "histogram"
           }
          ],
          "histogram2d": [
           {
            "colorbar": {
             "outlinewidth": 0,
             "ticks": ""
            },
            "colorscale": [
             [
              0,
              "#0d0887"
             ],
             [
              0.1111111111111111,
              "#46039f"
             ],
             [
              0.2222222222222222,
              "#7201a8"
             ],
             [
              0.3333333333333333,
              "#9c179e"
             ],
             [
              0.4444444444444444,
              "#bd3786"
             ],
             [
              0.5555555555555556,
              "#d8576b"
             ],
             [
              0.6666666666666666,
              "#ed7953"
             ],
             [
              0.7777777777777778,
              "#fb9f3a"
             ],
             [
              0.8888888888888888,
              "#fdca26"
             ],
             [
              1,
              "#f0f921"
             ]
            ],
            "type": "histogram2d"
           }
          ],
          "histogram2dcontour": [
           {
            "colorbar": {
             "outlinewidth": 0,
             "ticks": ""
            },
            "colorscale": [
             [
              0,
              "#0d0887"
             ],
             [
              0.1111111111111111,
              "#46039f"
             ],
             [
              0.2222222222222222,
              "#7201a8"
             ],
             [
              0.3333333333333333,
              "#9c179e"
             ],
             [
              0.4444444444444444,
              "#bd3786"
             ],
             [
              0.5555555555555556,
              "#d8576b"
             ],
             [
              0.6666666666666666,
              "#ed7953"
             ],
             [
              0.7777777777777778,
              "#fb9f3a"
             ],
             [
              0.8888888888888888,
              "#fdca26"
             ],
             [
              1,
              "#f0f921"
             ]
            ],
            "type": "histogram2dcontour"
           }
          ],
          "mesh3d": [
           {
            "colorbar": {
             "outlinewidth": 0,
             "ticks": ""
            },
            "type": "mesh3d"
           }
          ],
          "parcoords": [
           {
            "line": {
             "colorbar": {
              "outlinewidth": 0,
              "ticks": ""
             }
            },
            "type": "parcoords"
           }
          ],
          "pie": [
           {
            "automargin": true,
            "type": "pie"
           }
          ],
          "scatter": [
           {
            "fillpattern": {
             "fillmode": "overlay",
             "size": 10,
             "solidity": 0.2
            },
            "type": "scatter"
           }
          ],
          "scatter3d": [
           {
            "line": {
             "colorbar": {
              "outlinewidth": 0,
              "ticks": ""
             }
            },
            "marker": {
             "colorbar": {
              "outlinewidth": 0,
              "ticks": ""
             }
            },
            "type": "scatter3d"
           }
          ],
          "scattercarpet": [
           {
            "marker": {
             "colorbar": {
              "outlinewidth": 0,
              "ticks": ""
             }
            },
            "type": "scattercarpet"
           }
          ],
          "scattergeo": [
           {
            "marker": {
             "colorbar": {
              "outlinewidth": 0,
              "ticks": ""
             }
            },
            "type": "scattergeo"
           }
          ],
          "scattergl": [
           {
            "marker": {
             "colorbar": {
              "outlinewidth": 0,
              "ticks": ""
             }
            },
            "type": "scattergl"
           }
          ],
          "scattermapbox": [
           {
            "marker": {
             "colorbar": {
              "outlinewidth": 0,
              "ticks": ""
             }
            },
            "type": "scattermapbox"
           }
          ],
          "scatterpolar": [
           {
            "marker": {
             "colorbar": {
              "outlinewidth": 0,
              "ticks": ""
             }
            },
            "type": "scatterpolar"
           }
          ],
          "scatterpolargl": [
           {
            "marker": {
             "colorbar": {
              "outlinewidth": 0,
              "ticks": ""
             }
            },
            "type": "scatterpolargl"
           }
          ],
          "scatterternary": [
           {
            "marker": {
             "colorbar": {
              "outlinewidth": 0,
              "ticks": ""
             }
            },
            "type": "scatterternary"
           }
          ],
          "surface": [
           {
            "colorbar": {
             "outlinewidth": 0,
             "ticks": ""
            },
            "colorscale": [
             [
              0,
              "#0d0887"
             ],
             [
              0.1111111111111111,
              "#46039f"
             ],
             [
              0.2222222222222222,
              "#7201a8"
             ],
             [
              0.3333333333333333,
              "#9c179e"
             ],
             [
              0.4444444444444444,
              "#bd3786"
             ],
             [
              0.5555555555555556,
              "#d8576b"
             ],
             [
              0.6666666666666666,
              "#ed7953"
             ],
             [
              0.7777777777777778,
              "#fb9f3a"
             ],
             [
              0.8888888888888888,
              "#fdca26"
             ],
             [
              1,
              "#f0f921"
             ]
            ],
            "type": "surface"
           }
          ],
          "table": [
           {
            "cells": {
             "fill": {
              "color": "#EBF0F8"
             },
             "line": {
              "color": "white"
             }
            },
            "header": {
             "fill": {
              "color": "#C8D4E3"
             },
             "line": {
              "color": "white"
             }
            },
            "type": "table"
           }
          ]
         },
         "layout": {
          "annotationdefaults": {
           "arrowcolor": "#2a3f5f",
           "arrowhead": 0,
           "arrowwidth": 1
          },
          "autotypenumbers": "strict",
          "coloraxis": {
           "colorbar": {
            "outlinewidth": 0,
            "ticks": ""
           }
          },
          "colorscale": {
           "diverging": [
            [
             0,
             "#8e0152"
            ],
            [
             0.1,
             "#c51b7d"
            ],
            [
             0.2,
             "#de77ae"
            ],
            [
             0.3,
             "#f1b6da"
            ],
            [
             0.4,
             "#fde0ef"
            ],
            [
             0.5,
             "#f7f7f7"
            ],
            [
             0.6,
             "#e6f5d0"
            ],
            [
             0.7,
             "#b8e186"
            ],
            [
             0.8,
             "#7fbc41"
            ],
            [
             0.9,
             "#4d9221"
            ],
            [
             1,
             "#276419"
            ]
           ],
           "sequential": [
            [
             0,
             "#0d0887"
            ],
            [
             0.1111111111111111,
             "#46039f"
            ],
            [
             0.2222222222222222,
             "#7201a8"
            ],
            [
             0.3333333333333333,
             "#9c179e"
            ],
            [
             0.4444444444444444,
             "#bd3786"
            ],
            [
             0.5555555555555556,
             "#d8576b"
            ],
            [
             0.6666666666666666,
             "#ed7953"
            ],
            [
             0.7777777777777778,
             "#fb9f3a"
            ],
            [
             0.8888888888888888,
             "#fdca26"
            ],
            [
             1,
             "#f0f921"
            ]
           ],
           "sequentialminus": [
            [
             0,
             "#0d0887"
            ],
            [
             0.1111111111111111,
             "#46039f"
            ],
            [
             0.2222222222222222,
             "#7201a8"
            ],
            [
             0.3333333333333333,
             "#9c179e"
            ],
            [
             0.4444444444444444,
             "#bd3786"
            ],
            [
             0.5555555555555556,
             "#d8576b"
            ],
            [
             0.6666666666666666,
             "#ed7953"
            ],
            [
             0.7777777777777778,
             "#fb9f3a"
            ],
            [
             0.8888888888888888,
             "#fdca26"
            ],
            [
             1,
             "#f0f921"
            ]
           ]
          },
          "colorway": [
           "#636efa",
           "#EF553B",
           "#00cc96",
           "#ab63fa",
           "#FFA15A",
           "#19d3f3",
           "#FF6692",
           "#B6E880",
           "#FF97FF",
           "#FECB52"
          ],
          "font": {
           "color": "#2a3f5f"
          },
          "geo": {
           "bgcolor": "white",
           "lakecolor": "white",
           "landcolor": "#E5ECF6",
           "showlakes": true,
           "showland": true,
           "subunitcolor": "white"
          },
          "hoverlabel": {
           "align": "left"
          },
          "hovermode": "closest",
          "mapbox": {
           "style": "light"
          },
          "paper_bgcolor": "white",
          "plot_bgcolor": "#E5ECF6",
          "polar": {
           "angularaxis": {
            "gridcolor": "white",
            "linecolor": "white",
            "ticks": ""
           },
           "bgcolor": "#E5ECF6",
           "radialaxis": {
            "gridcolor": "white",
            "linecolor": "white",
            "ticks": ""
           }
          },
          "scene": {
           "xaxis": {
            "backgroundcolor": "#E5ECF6",
            "gridcolor": "white",
            "gridwidth": 2,
            "linecolor": "white",
            "showbackground": true,
            "ticks": "",
            "zerolinecolor": "white"
           },
           "yaxis": {
            "backgroundcolor": "#E5ECF6",
            "gridcolor": "white",
            "gridwidth": 2,
            "linecolor": "white",
            "showbackground": true,
            "ticks": "",
            "zerolinecolor": "white"
           },
           "zaxis": {
            "backgroundcolor": "#E5ECF6",
            "gridcolor": "white",
            "gridwidth": 2,
            "linecolor": "white",
            "showbackground": true,
            "ticks": "",
            "zerolinecolor": "white"
           }
          },
          "shapedefaults": {
           "line": {
            "color": "#2a3f5f"
           }
          },
          "ternary": {
           "aaxis": {
            "gridcolor": "white",
            "linecolor": "white",
            "ticks": ""
           },
           "baxis": {
            "gridcolor": "white",
            "linecolor": "white",
            "ticks": ""
           },
           "bgcolor": "#E5ECF6",
           "caxis": {
            "gridcolor": "white",
            "linecolor": "white",
            "ticks": ""
           }
          },
          "title": {
           "x": 0.05
          },
          "xaxis": {
           "automargin": true,
           "gridcolor": "white",
           "linecolor": "white",
           "ticks": "",
           "title": {
            "standoff": 15
           },
           "zerolinecolor": "white",
           "zerolinewidth": 2
          },
          "yaxis": {
           "automargin": true,
           "gridcolor": "white",
           "linecolor": "white",
           "ticks": "",
           "title": {
            "standoff": 15
           },
           "zerolinecolor": "white",
           "zerolinewidth": 2
          }
         }
        },
        "width": 1050,
        "xaxis": {
         "rangeslider": {
          "visible": false
         },
         "title": {
          "text": "Date"
         }
        },
        "yaxis": {
         "title": {
          "text": "BTC-USD RSI"
         }
        }
       }
      }
     },
     "metadata": {},
     "output_type": "display_data"
    }
   ],
   "source": [
    "#RSI\n",
    "fig = go.Figure(data=[go.Scatter(x=stock_data.index, y=stock_data['RSI'], mode='lines', name='RSI')])\n",
    "fig.update_layout(\n",
    "    xaxis_rangeslider_visible=False,\n",
    "    yaxis_title=f'{ticker} RSI',\n",
    "    xaxis_title='Date',\n",
    "    plot_bgcolor='lightgrey',\n",
    "    width=1050,\n",
    "    height=600\n",
    ")\n",
    "fig.show()\n",
    "fig.write_image('./images/RSI.png')"
   ]
  },
  {
   "cell_type": "code",
   "execution_count": 12,
   "metadata": {},
   "outputs": [
    {
     "data": {
      "application/vnd.plotly.v1+json": {
       "config": {
        "plotlyServerURL": "https://plot.ly"
       },
       "data": [
        {
         "line": {
          "color": "blue",
          "width": 2
         },
         "mode": "lines",
         "name": "MACD Line",
         "type": "scatter",
         "x": [
          "2024-04-07T00:00:00",
          "2024-04-08T00:00:00",
          "2024-04-09T00:00:00",
          "2024-04-10T00:00:00",
          "2024-04-11T00:00:00",
          "2024-04-12T00:00:00",
          "2024-04-13T00:00:00",
          "2024-04-14T00:00:00",
          "2024-04-15T00:00:00",
          "2024-04-16T00:00:00",
          "2024-04-17T00:00:00",
          "2024-04-18T00:00:00",
          "2024-04-19T00:00:00",
          "2024-04-20T00:00:00",
          "2024-04-21T00:00:00",
          "2024-04-22T00:00:00",
          "2024-04-23T00:00:00",
          "2024-04-24T00:00:00",
          "2024-04-25T00:00:00",
          "2024-04-26T00:00:00",
          "2024-04-27T00:00:00",
          "2024-04-28T00:00:00",
          "2024-04-29T00:00:00",
          "2024-04-30T00:00:00",
          "2024-05-01T00:00:00",
          "2024-05-02T00:00:00",
          "2024-05-03T00:00:00",
          "2024-05-04T00:00:00",
          "2024-05-05T00:00:00",
          "2024-05-06T00:00:00",
          "2024-05-07T00:00:00",
          "2024-05-08T00:00:00",
          "2024-05-09T00:00:00",
          "2024-05-10T00:00:00",
          "2024-05-11T00:00:00",
          "2024-05-12T00:00:00",
          "2024-05-13T00:00:00",
          "2024-05-14T00:00:00",
          "2024-05-15T00:00:00",
          "2024-05-16T00:00:00",
          "2024-05-17T00:00:00",
          "2024-05-18T00:00:00",
          "2024-05-19T00:00:00",
          "2024-05-20T00:00:00",
          "2024-05-21T00:00:00",
          "2024-05-22T00:00:00",
          "2024-05-23T00:00:00",
          "2024-05-24T00:00:00",
          "2024-05-25T00:00:00",
          "2024-05-26T00:00:00",
          "2024-05-27T00:00:00",
          "2024-05-28T00:00:00",
          "2024-05-29T00:00:00",
          "2024-05-30T00:00:00",
          "2024-05-31T00:00:00",
          "2024-06-01T00:00:00",
          "2024-06-02T00:00:00",
          "2024-06-03T00:00:00",
          "2024-06-04T00:00:00",
          "2024-06-05T00:00:00",
          "2024-06-06T00:00:00",
          "2024-06-07T00:00:00",
          "2024-06-08T00:00:00",
          "2024-06-09T00:00:00",
          "2024-06-10T00:00:00",
          "2024-06-11T00:00:00",
          "2024-06-12T00:00:00",
          "2024-06-13T00:00:00",
          "2024-06-14T00:00:00",
          "2024-06-15T00:00:00",
          "2024-06-16T00:00:00",
          "2024-06-17T00:00:00",
          "2024-06-18T00:00:00",
          "2024-06-19T00:00:00",
          "2024-06-20T00:00:00",
          "2024-06-21T00:00:00",
          "2024-06-22T00:00:00",
          "2024-06-23T00:00:00",
          "2024-06-24T00:00:00",
          "2024-06-25T00:00:00",
          "2024-06-26T00:00:00",
          "2024-06-27T00:00:00",
          "2024-06-28T00:00:00",
          "2024-06-29T00:00:00",
          "2024-06-30T00:00:00",
          "2024-07-01T00:00:00",
          "2024-07-02T00:00:00",
          "2024-07-03T00:00:00",
          "2024-07-04T00:00:00",
          "2024-07-05T00:00:00",
          "2024-07-06T00:00:00",
          "2024-07-07T00:00:00",
          "2024-07-08T00:00:00",
          "2024-07-09T00:00:00",
          "2024-07-10T00:00:00",
          "2024-07-11T00:00:00",
          "2024-07-12T00:00:00",
          "2024-07-13T00:00:00",
          "2024-07-14T00:00:00",
          "2024-07-15T00:00:00",
          "2024-07-16T00:00:00",
          "2024-07-17T00:00:00",
          "2024-07-18T00:00:00",
          "2024-07-19T00:00:00",
          "2024-07-20T00:00:00",
          "2024-07-21T00:00:00",
          "2024-07-22T00:00:00",
          "2024-07-23T00:00:00",
          "2024-07-24T00:00:00",
          "2024-07-25T00:00:00",
          "2024-07-26T00:00:00",
          "2024-07-27T00:00:00",
          "2024-07-28T00:00:00",
          "2024-07-29T00:00:00",
          "2024-07-30T00:00:00",
          "2024-07-31T00:00:00",
          "2024-08-01T00:00:00",
          "2024-08-02T00:00:00",
          "2024-08-03T00:00:00",
          "2024-08-04T00:00:00",
          "2024-08-05T00:00:00",
          "2024-08-06T00:00:00",
          "2024-08-07T00:00:00",
          "2024-08-08T00:00:00",
          "2024-08-09T00:00:00",
          "2024-08-10T00:00:00",
          "2024-08-11T00:00:00",
          "2024-08-12T00:00:00",
          "2024-08-13T00:00:00",
          "2024-08-14T00:00:00",
          "2024-08-15T00:00:00",
          "2024-08-16T00:00:00",
          "2024-08-17T00:00:00",
          "2024-08-18T00:00:00",
          "2024-08-19T00:00:00",
          "2024-08-20T00:00:00",
          "2024-08-21T00:00:00",
          "2024-08-22T00:00:00",
          "2024-08-23T00:00:00",
          "2024-08-24T00:00:00",
          "2024-08-25T00:00:00",
          "2024-08-26T00:00:00",
          "2024-08-27T00:00:00",
          "2024-08-28T00:00:00",
          "2024-08-29T00:00:00",
          "2024-08-30T00:00:00",
          "2024-08-31T00:00:00",
          "2024-09-01T00:00:00",
          "2024-09-02T00:00:00",
          "2024-09-03T00:00:00",
          "2024-09-04T00:00:00",
          "2024-09-05T00:00:00",
          "2024-09-06T00:00:00",
          "2024-09-07T00:00:00",
          "2024-09-08T00:00:00",
          "2024-09-09T00:00:00",
          "2024-09-10T00:00:00",
          "2024-09-11T00:00:00",
          "2024-09-12T00:00:00",
          "2024-09-13T00:00:00",
          "2024-09-14T00:00:00",
          "2024-09-15T00:00:00",
          "2024-09-16T00:00:00",
          "2024-09-17T00:00:00",
          "2024-09-18T00:00:00",
          "2024-09-19T00:00:00",
          "2024-09-20T00:00:00",
          "2024-09-21T00:00:00",
          "2024-09-22T00:00:00",
          "2024-09-23T00:00:00",
          "2024-09-24T00:00:00",
          "2024-09-25T00:00:00",
          "2024-09-26T00:00:00",
          "2024-09-27T00:00:00",
          "2024-09-28T00:00:00",
          "2024-09-29T00:00:00",
          "2024-09-30T00:00:00",
          "2024-10-01T00:00:00",
          "2024-10-02T00:00:00",
          "2024-10-03T00:00:00",
          "2024-10-04T00:00:00",
          "2024-10-05T00:00:00",
          "2024-10-06T00:00:00",
          "2024-10-07T00:00:00",
          "2024-10-08T00:00:00",
          "2024-10-09T00:00:00",
          "2024-10-10T00:00:00",
          "2024-10-11T00:00:00",
          "2024-10-12T00:00:00",
          "2024-10-13T00:00:00",
          "2024-10-14T00:00:00",
          "2024-10-15T00:00:00",
          "2024-10-16T00:00:00",
          "2024-10-17T00:00:00",
          "2024-10-18T00:00:00",
          "2024-10-19T00:00:00",
          "2024-10-20T00:00:00",
          "2024-10-21T00:00:00",
          "2024-10-22T00:00:00",
          "2024-10-23T00:00:00",
          "2024-10-24T00:00:00",
          "2024-10-25T00:00:00",
          "2024-10-26T00:00:00",
          "2024-10-27T00:00:00",
          "2024-10-28T00:00:00",
          "2024-10-29T00:00:00",
          "2024-10-30T00:00:00",
          "2024-10-31T00:00:00",
          "2024-11-01T00:00:00",
          "2024-11-02T00:00:00",
          "2024-11-03T00:00:00",
          "2024-11-04T00:00:00",
          "2024-11-05T00:00:00",
          "2024-11-06T00:00:00",
          "2024-11-07T00:00:00",
          "2024-11-08T00:00:00",
          "2024-11-09T00:00:00",
          "2024-11-10T00:00:00",
          "2024-11-11T00:00:00",
          "2024-11-12T00:00:00",
          "2024-11-13T00:00:00",
          "2024-11-14T00:00:00",
          "2024-11-15T00:00:00",
          "2024-11-16T00:00:00",
          "2024-11-17T00:00:00",
          "2024-11-18T00:00:00",
          "2024-11-19T00:00:00",
          "2024-11-20T00:00:00",
          "2024-11-21T00:00:00",
          "2024-11-22T00:00:00",
          "2024-11-23T00:00:00",
          "2024-11-24T00:00:00",
          "2024-11-25T00:00:00",
          "2024-11-26T00:00:00",
          "2024-11-27T00:00:00",
          "2024-11-28T00:00:00",
          "2024-11-29T00:00:00",
          "2024-11-30T00:00:00",
          "2024-12-01T00:00:00",
          "2024-12-02T00:00:00",
          "2024-12-03T00:00:00",
          "2024-12-04T00:00:00",
          "2024-12-05T00:00:00",
          "2024-12-06T00:00:00",
          "2024-12-07T00:00:00",
          "2024-12-08T00:00:00",
          "2024-12-09T00:00:00",
          "2024-12-10T00:00:00",
          "2024-12-11T00:00:00",
          "2024-12-12T00:00:00",
          "2024-12-13T00:00:00",
          "2024-12-14T00:00:00",
          "2024-12-15T00:00:00",
          "2024-12-16T00:00:00",
          "2024-12-17T00:00:00",
          "2024-12-18T00:00:00",
          "2024-12-19T00:00:00",
          "2024-12-20T00:00:00",
          "2024-12-21T00:00:00",
          "2024-12-22T00:00:00",
          "2024-12-23T00:00:00",
          "2024-12-24T00:00:00",
          "2024-12-25T00:00:00",
          "2024-12-26T00:00:00",
          "2024-12-27T00:00:00",
          "2024-12-28T00:00:00",
          "2024-12-29T00:00:00",
          "2024-12-30T00:00:00",
          "2024-12-31T00:00:00",
          "2025-01-01T00:00:00",
          "2025-01-02T00:00:00",
          "2025-01-03T00:00:00",
          "2025-01-04T00:00:00",
          "2025-01-05T00:00:00",
          "2025-01-06T00:00:00",
          "2025-01-07T00:00:00",
          "2025-01-08T00:00:00",
          "2025-01-09T00:00:00",
          "2025-01-10T00:00:00",
          "2025-01-11T00:00:00",
          "2025-01-12T00:00:00",
          "2025-01-13T00:00:00",
          "2025-01-14T00:00:00",
          "2025-01-15T00:00:00",
          "2025-01-16T00:00:00",
          "2025-01-17T00:00:00",
          "2025-01-18T00:00:00",
          "2025-01-19T00:00:00",
          "2025-01-20T00:00:00",
          "2025-01-21T00:00:00",
          "2025-01-22T00:00:00",
          "2025-01-23T00:00:00",
          "2025-01-24T00:00:00",
          "2025-01-25T00:00:00",
          "2025-01-26T00:00:00",
          "2025-01-27T00:00:00",
          "2025-01-28T00:00:00",
          "2025-01-29T00:00:00",
          "2025-01-30T00:00:00",
          "2025-01-31T00:00:00"
         ],
         "y": [
          null,
          null,
          null,
          null,
          null,
          null,
          null,
          null,
          null,
          null,
          null,
          null,
          null,
          null,
          null,
          null,
          null,
          null,
          null,
          null,
          null,
          null,
          null,
          null,
          null,
          -2415.9928720453026,
          -2204.8908395445833,
          -1934.4679038725735,
          -1689.411883074019,
          -1547.5004510885483,
          -1484.6630526544832,
          -1510.0008396060875,
          -1364.107224729356,
          -1414.3179587321429,
          -1437.464794603482,
          -1386.9929429260083,
          -1215.7300875613,
          -1175.2807394116244,
          -754.0944681899418,
          -498.14826282321155,
          -146.73514985414658,
          121.40039976382832,
          277.2506121452752,
          808.6038698555931,
          1111.0572505989476,
          1254.4560595790608,
          1257.3597404372267,
          1292.8929798225436,
          1365.0174639013712,
          1346.311821497031,
          1386.2309306218667,
          1314.0925404134323,
          1185.312120273913,
          1133.6804742070672,
          1010.6217503745575,
          919.8839161710348,
          841.8729579925275,
          855.1736016362411,
          996.4856959253375,
          1136.9313209846005,
          1208.032308469963,
          1137.1276213605306,
          1065.6801870570198,
          1024.8578503570316,
          970.3693026535329,
          742.6974284966273,
          628.3835250574921,
          413.21557264727016,
          180.4731781931332,
          10.41996968127205,
          -87.1897161292145,
          -174.53702306188643,
          -348.63896946997556,
          -495.46534414048074,
          -615.3551708009618,
          -760.7029728619964,
          -853.43580562649,
          -1001.8621896371187,
          -1338.3423195356227,
          -1464.8845494328998,
          -1626.5761360397955,
          -1671.4200833980212,
          -1789.9870319448091,
          -1817.23256320574,
          -1675.0046346984236,
          -1530.628711968202,
          -1465.7202277126999,
          -1546.1473243477012,
          -1846.5091114623283,
          -2085.9468394129653,
          -2118.849956446502,
          -2316.2772744192625,
          -2376.2765093760463,
          -2292.171307668388,
          -2221.4329527530645,
          -2172.411634981763,
          -2065.0101227252526,
          -1851.0353984049143,
          -1538.184383001164,
          -949.8857241178775,
          -460.0351123960063,
          -149.05190570626291,
          84.74936412992975,
          485.2247697522471,
          829.6339398865166,
          1169.059826004399,
          1376.257042894431,
          1390.6787493707234,
          1341.8131098650265,
          1320.551918117082,
          1459.1455672534066,
          1543.2262723630192,
          1626.8164826641296,
          1559.2192017585621,
          1439.1186738210672,
          1202.441872174073,
          1062.200026186547,
          625.7229652853712,
          217.99271461879835,
          -308.40349917545245,
          -1046.4088885535675,
          -1449.7302105614508,
          -1829.5205120854516,
          -1573.1368340106856,
          -1420.5516415417296,
          -1279.5752523105912,
          -1332.1404359350709,
          -1307.4851332370454,
          -1173.1501741205066,
          -1203.8897696944914,
          -1308.1594056035174,
          -1268.527763160695,
          -1176.3651022649137,
          -1170.125861793691,
          -1071.3738206205744,
          -1020.1378598510928,
          -795.8712020134553,
          -674.3753328157181,
          -275.3519005204507,
          47.16285619829432,
          311.63672670502274,
          399.39470030197845,
          194.2468322477289,
          -6.707212749170139,
          -135.3112078293707,
          -255.9623226890253,
          -359.5047580042592,
          -567.7088464791086,
          -581.8100080023869,
          -720.3609375234446,
          -777.5849385724359,
          -958.0284781997398,
          -1264.9185693242762,
          -1475.7133276061722,
          -1568.0583300053113,
          -1448.797695645604,
          -1288.6587010401854,
          -1172.8815940012937,
          -1006.2783277998606,
          -669.2951219121314,
          -442.8149770210366,
          -325.9223406161036,
          -309.62611020635813,
          -124.5296919627508,
          128.89358805104712,
          428.94371134616813,
          679.2814775449588,
          883.7770093668587,
          1054.1745986504975,
          1150.2234712527716,
          1289.9193379354401,
          1292.2259130379753,
          1441.8723646079088,
          1591.317753776857,
          1698.0065671852644,
          1742.1141809133842,
          1572.8794396073426,
          1223.5322804404204,
          919.592587370149,
          681.0840269889304,
          590.8045053712922,
          515.1325620911448,
          508.1291282580787,
          450.40074095856835,
          391.68772430273384,
          217.58769089087582,
          54.16688262356183,
          98.6658165865083,
          192.06947527160082,
          235.80614760013123,
          522.237373525888,
          820.0698525443513,
          1089.667330663724,
          1271.4904600374357,
          1480.7385689765288,
          1623.333282458996,
          1767.5251288346117,
          1730.0174749541475,
          1680.4016816010262,
          1548.253943286174,
          1564.9901788709903,
          1439.1228471625654,
          1353.806230044429,
          1344.494404182129,
          1479.7028842993313,
          1793.1504141997139,
          1987.9047776350635,
          1948.3719773050834,
          1836.7448177610204,
          1712.9444847249542,
          1552.7016228337452,
          1335.3037424593203,
          1273.2521731635934,
          1711.056296385883,
          2055.7679308604856,
          2353.516959370667,
          2578.593462227698,
          3020.333157916495,
          3988.314343622347,
          4641.769489475977,
          5310.507184353031,
          5507.989448893684,
          5904.319512862654,
          6107.062004429652,
          6139.462110307737,
          6150.465741148888,
          6232.677398603933,
          6385.261967566112,
          6764.311172963062,
          7023.52352849672,
          7049.217502592917,
          7007.884359049,
          6503.836472551076,
          5945.705821761512,
          5757.937029726818,
          5520.472881782538,
          5415.826155395625,
          5191.352424974015,
          5022.591390598391,
          4720.297337847151,
          4440.582262753189,
          4391.506213032815,
          4129.509504271467,
          4142.594417586399,
          4105.8464788150595,
          4134.98027417867,
          3807.2867132905667,
          3446.7483376569726,
          3483.779098626008,
          3382.9456737598375,
          3378.370870958621,
          3329.4032128270774,
          3486.487614287238,
          3707.914725952185,
          3847.987419838377,
          3427.3443746513367,
          2855.2571348364,
          2395.639825040227,
          1965.864876339081,
          1437.6436109596689,
          974.0114423751074,
          917.9457774741022,
          913.2648737485433,
          619.6941065989085,
          252.54563824406068,
          41.713608043050044,
          -254.267446764512,
          -554.0228820494522,
          -719.8601240014832,
          -762.5674453427928,
          -590.5303010051575,
          -351.64748862093256,
          -150.206816654696,
          15.609635075597907,
          445.53722962125903,
          366.04213227531,
          149.68215635156957,
          -225.71181659554713,
          -340.36395774675475,
          -437.07035514160816,
          -514.0913034693076,
          -566.3362873047299,
          -439.872951565485,
          -19.04851314795087,
          251.23783547714993,
          835.4757650498068,
          1279.3857438881969,
          1347.8780372072943,
          1460.1327373894164,
          1860.8687925191189,
          1954.7419299567118,
          2030.5111288897751,
          2135.283878721777,
          2184.674090798464,
          2036.3648478010145,
          1849.5122802354745,
          1621.7960082939826,
          1614.0222296128195,
          1671.8705115052144,
          1512.2492023154336
         ]
        },
        {
         "line": {
          "color": "orange",
          "width": 2
         },
         "mode": "lines",
         "name": "Signal Line",
         "type": "scatter",
         "x": [
          "2024-04-07T00:00:00",
          "2024-04-08T00:00:00",
          "2024-04-09T00:00:00",
          "2024-04-10T00:00:00",
          "2024-04-11T00:00:00",
          "2024-04-12T00:00:00",
          "2024-04-13T00:00:00",
          "2024-04-14T00:00:00",
          "2024-04-15T00:00:00",
          "2024-04-16T00:00:00",
          "2024-04-17T00:00:00",
          "2024-04-18T00:00:00",
          "2024-04-19T00:00:00",
          "2024-04-20T00:00:00",
          "2024-04-21T00:00:00",
          "2024-04-22T00:00:00",
          "2024-04-23T00:00:00",
          "2024-04-24T00:00:00",
          "2024-04-25T00:00:00",
          "2024-04-26T00:00:00",
          "2024-04-27T00:00:00",
          "2024-04-28T00:00:00",
          "2024-04-29T00:00:00",
          "2024-04-30T00:00:00",
          "2024-05-01T00:00:00",
          "2024-05-02T00:00:00",
          "2024-05-03T00:00:00",
          "2024-05-04T00:00:00",
          "2024-05-05T00:00:00",
          "2024-05-06T00:00:00",
          "2024-05-07T00:00:00",
          "2024-05-08T00:00:00",
          "2024-05-09T00:00:00",
          "2024-05-10T00:00:00",
          "2024-05-11T00:00:00",
          "2024-05-12T00:00:00",
          "2024-05-13T00:00:00",
          "2024-05-14T00:00:00",
          "2024-05-15T00:00:00",
          "2024-05-16T00:00:00",
          "2024-05-17T00:00:00",
          "2024-05-18T00:00:00",
          "2024-05-19T00:00:00",
          "2024-05-20T00:00:00",
          "2024-05-21T00:00:00",
          "2024-05-22T00:00:00",
          "2024-05-23T00:00:00",
          "2024-05-24T00:00:00",
          "2024-05-25T00:00:00",
          "2024-05-26T00:00:00",
          "2024-05-27T00:00:00",
          "2024-05-28T00:00:00",
          "2024-05-29T00:00:00",
          "2024-05-30T00:00:00",
          "2024-05-31T00:00:00",
          "2024-06-01T00:00:00",
          "2024-06-02T00:00:00",
          "2024-06-03T00:00:00",
          "2024-06-04T00:00:00",
          "2024-06-05T00:00:00",
          "2024-06-06T00:00:00",
          "2024-06-07T00:00:00",
          "2024-06-08T00:00:00",
          "2024-06-09T00:00:00",
          "2024-06-10T00:00:00",
          "2024-06-11T00:00:00",
          "2024-06-12T00:00:00",
          "2024-06-13T00:00:00",
          "2024-06-14T00:00:00",
          "2024-06-15T00:00:00",
          "2024-06-16T00:00:00",
          "2024-06-17T00:00:00",
          "2024-06-18T00:00:00",
          "2024-06-19T00:00:00",
          "2024-06-20T00:00:00",
          "2024-06-21T00:00:00",
          "2024-06-22T00:00:00",
          "2024-06-23T00:00:00",
          "2024-06-24T00:00:00",
          "2024-06-25T00:00:00",
          "2024-06-26T00:00:00",
          "2024-06-27T00:00:00",
          "2024-06-28T00:00:00",
          "2024-06-29T00:00:00",
          "2024-06-30T00:00:00",
          "2024-07-01T00:00:00",
          "2024-07-02T00:00:00",
          "2024-07-03T00:00:00",
          "2024-07-04T00:00:00",
          "2024-07-05T00:00:00",
          "2024-07-06T00:00:00",
          "2024-07-07T00:00:00",
          "2024-07-08T00:00:00",
          "2024-07-09T00:00:00",
          "2024-07-10T00:00:00",
          "2024-07-11T00:00:00",
          "2024-07-12T00:00:00",
          "2024-07-13T00:00:00",
          "2024-07-14T00:00:00",
          "2024-07-15T00:00:00",
          "2024-07-16T00:00:00",
          "2024-07-17T00:00:00",
          "2024-07-18T00:00:00",
          "2024-07-19T00:00:00",
          "2024-07-20T00:00:00",
          "2024-07-21T00:00:00",
          "2024-07-22T00:00:00",
          "2024-07-23T00:00:00",
          "2024-07-24T00:00:00",
          "2024-07-25T00:00:00",
          "2024-07-26T00:00:00",
          "2024-07-27T00:00:00",
          "2024-07-28T00:00:00",
          "2024-07-29T00:00:00",
          "2024-07-30T00:00:00",
          "2024-07-31T00:00:00",
          "2024-08-01T00:00:00",
          "2024-08-02T00:00:00",
          "2024-08-03T00:00:00",
          "2024-08-04T00:00:00",
          "2024-08-05T00:00:00",
          "2024-08-06T00:00:00",
          "2024-08-07T00:00:00",
          "2024-08-08T00:00:00",
          "2024-08-09T00:00:00",
          "2024-08-10T00:00:00",
          "2024-08-11T00:00:00",
          "2024-08-12T00:00:00",
          "2024-08-13T00:00:00",
          "2024-08-14T00:00:00",
          "2024-08-15T00:00:00",
          "2024-08-16T00:00:00",
          "2024-08-17T00:00:00",
          "2024-08-18T00:00:00",
          "2024-08-19T00:00:00",
          "2024-08-20T00:00:00",
          "2024-08-21T00:00:00",
          "2024-08-22T00:00:00",
          "2024-08-23T00:00:00",
          "2024-08-24T00:00:00",
          "2024-08-25T00:00:00",
          "2024-08-26T00:00:00",
          "2024-08-27T00:00:00",
          "2024-08-28T00:00:00",
          "2024-08-29T00:00:00",
          "2024-08-30T00:00:00",
          "2024-08-31T00:00:00",
          "2024-09-01T00:00:00",
          "2024-09-02T00:00:00",
          "2024-09-03T00:00:00",
          "2024-09-04T00:00:00",
          "2024-09-05T00:00:00",
          "2024-09-06T00:00:00",
          "2024-09-07T00:00:00",
          "2024-09-08T00:00:00",
          "2024-09-09T00:00:00",
          "2024-09-10T00:00:00",
          "2024-09-11T00:00:00",
          "2024-09-12T00:00:00",
          "2024-09-13T00:00:00",
          "2024-09-14T00:00:00",
          "2024-09-15T00:00:00",
          "2024-09-16T00:00:00",
          "2024-09-17T00:00:00",
          "2024-09-18T00:00:00",
          "2024-09-19T00:00:00",
          "2024-09-20T00:00:00",
          "2024-09-21T00:00:00",
          "2024-09-22T00:00:00",
          "2024-09-23T00:00:00",
          "2024-09-24T00:00:00",
          "2024-09-25T00:00:00",
          "2024-09-26T00:00:00",
          "2024-09-27T00:00:00",
          "2024-09-28T00:00:00",
          "2024-09-29T00:00:00",
          "2024-09-30T00:00:00",
          "2024-10-01T00:00:00",
          "2024-10-02T00:00:00",
          "2024-10-03T00:00:00",
          "2024-10-04T00:00:00",
          "2024-10-05T00:00:00",
          "2024-10-06T00:00:00",
          "2024-10-07T00:00:00",
          "2024-10-08T00:00:00",
          "2024-10-09T00:00:00",
          "2024-10-10T00:00:00",
          "2024-10-11T00:00:00",
          "2024-10-12T00:00:00",
          "2024-10-13T00:00:00",
          "2024-10-14T00:00:00",
          "2024-10-15T00:00:00",
          "2024-10-16T00:00:00",
          "2024-10-17T00:00:00",
          "2024-10-18T00:00:00",
          "2024-10-19T00:00:00",
          "2024-10-20T00:00:00",
          "2024-10-21T00:00:00",
          "2024-10-22T00:00:00",
          "2024-10-23T00:00:00",
          "2024-10-24T00:00:00",
          "2024-10-25T00:00:00",
          "2024-10-26T00:00:00",
          "2024-10-27T00:00:00",
          "2024-10-28T00:00:00",
          "2024-10-29T00:00:00",
          "2024-10-30T00:00:00",
          "2024-10-31T00:00:00",
          "2024-11-01T00:00:00",
          "2024-11-02T00:00:00",
          "2024-11-03T00:00:00",
          "2024-11-04T00:00:00",
          "2024-11-05T00:00:00",
          "2024-11-06T00:00:00",
          "2024-11-07T00:00:00",
          "2024-11-08T00:00:00",
          "2024-11-09T00:00:00",
          "2024-11-10T00:00:00",
          "2024-11-11T00:00:00",
          "2024-11-12T00:00:00",
          "2024-11-13T00:00:00",
          "2024-11-14T00:00:00",
          "2024-11-15T00:00:00",
          "2024-11-16T00:00:00",
          "2024-11-17T00:00:00",
          "2024-11-18T00:00:00",
          "2024-11-19T00:00:00",
          "2024-11-20T00:00:00",
          "2024-11-21T00:00:00",
          "2024-11-22T00:00:00",
          "2024-11-23T00:00:00",
          "2024-11-24T00:00:00",
          "2024-11-25T00:00:00",
          "2024-11-26T00:00:00",
          "2024-11-27T00:00:00",
          "2024-11-28T00:00:00",
          "2024-11-29T00:00:00",
          "2024-11-30T00:00:00",
          "2024-12-01T00:00:00",
          "2024-12-02T00:00:00",
          "2024-12-03T00:00:00",
          "2024-12-04T00:00:00",
          "2024-12-05T00:00:00",
          "2024-12-06T00:00:00",
          "2024-12-07T00:00:00",
          "2024-12-08T00:00:00",
          "2024-12-09T00:00:00",
          "2024-12-10T00:00:00",
          "2024-12-11T00:00:00",
          "2024-12-12T00:00:00",
          "2024-12-13T00:00:00",
          "2024-12-14T00:00:00",
          "2024-12-15T00:00:00",
          "2024-12-16T00:00:00",
          "2024-12-17T00:00:00",
          "2024-12-18T00:00:00",
          "2024-12-19T00:00:00",
          "2024-12-20T00:00:00",
          "2024-12-21T00:00:00",
          "2024-12-22T00:00:00",
          "2024-12-23T00:00:00",
          "2024-12-24T00:00:00",
          "2024-12-25T00:00:00",
          "2024-12-26T00:00:00",
          "2024-12-27T00:00:00",
          "2024-12-28T00:00:00",
          "2024-12-29T00:00:00",
          "2024-12-30T00:00:00",
          "2024-12-31T00:00:00",
          "2025-01-01T00:00:00",
          "2025-01-02T00:00:00",
          "2025-01-03T00:00:00",
          "2025-01-04T00:00:00",
          "2025-01-05T00:00:00",
          "2025-01-06T00:00:00",
          "2025-01-07T00:00:00",
          "2025-01-08T00:00:00",
          "2025-01-09T00:00:00",
          "2025-01-10T00:00:00",
          "2025-01-11T00:00:00",
          "2025-01-12T00:00:00",
          "2025-01-13T00:00:00",
          "2025-01-14T00:00:00",
          "2025-01-15T00:00:00",
          "2025-01-16T00:00:00",
          "2025-01-17T00:00:00",
          "2025-01-18T00:00:00",
          "2025-01-19T00:00:00",
          "2025-01-20T00:00:00",
          "2025-01-21T00:00:00",
          "2025-01-22T00:00:00",
          "2025-01-23T00:00:00",
          "2025-01-24T00:00:00",
          "2025-01-25T00:00:00",
          "2025-01-26T00:00:00",
          "2025-01-27T00:00:00",
          "2025-01-28T00:00:00",
          "2025-01-29T00:00:00",
          "2025-01-30T00:00:00",
          "2025-01-31T00:00:00"
         ],
         "y": [
          null,
          null,
          null,
          null,
          null,
          null,
          null,
          null,
          null,
          null,
          null,
          null,
          null,
          null,
          null,
          null,
          null,
          null,
          null,
          null,
          null,
          null,
          null,
          null,
          null,
          null,
          null,
          null,
          null,
          null,
          null,
          null,
          null,
          -1729.4836694830108,
          -1671.079894507105,
          -1614.262504190886,
          -1534.5560208649688,
          -1462.7009645743,
          -1320.9796652974285,
          -1156.4133848025851,
          -954.4777378128975,
          -739.3021102975524,
          -535.9915658089869,
          -267.0724786760709,
          8.553467178932806,
          257.73398565895843,
          457.6591366146121,
          624.7059052561984,
          772.768216985233,
          887.4769378875926,
          987.2277364344475,
          1052.6006972302446,
          1079.1429818389784,
          1090.0504803125962,
          1074.1647343249883,
          1043.3085706941977,
          1003.0214481538637,
          973.4518788503393,
          978.058642265339,
          1009.8331780091914,
          1049.4730041013459,
          1067.0039275531828,
          1066.7391794539503,
          1058.3629136345667,
          1040.7641914383598,
          981.1508388500134,
          910.5973760915092,
          811.1210154026614,
          684.9914479607559,
          550.077152304859,
          422.62377861804435,
          303.19161828205824,
          172.8255007316515,
          39.16733175722506,
          -91.73716875441232,
          -225.53032957592916,
          -351.11142478604137,
          -481.2615777562569,
          -652.6777261121301,
          -815.1190907762841,
          -977.4104998289865,
          -1116.2124165427936,
          -1250.9673396231967,
          -1364.2203843397056,
          -1426.377234411449,
          -1447.2275299227997,
          -1450.9260694807797,
          -1469.9703204541643,
          -1545.2780786557971,
          -1653.411830807231,
          -1746.4994559350853,
          -1860.4550196319208,
          -1963.6193175807462,
          -2029.3297155982748,
          -2067.7503630292326,
          -2088.6826174197386,
          -2083.9481184808415,
          -2037.365574465656,
          -1937.5293361727577,
          -1740.0006137617818,
          -1484.0075134886267,
          -1217.016391932154,
          -956.6632407197372,
          -668.2856386253404,
          -368.701722922969,
          -61.1494131374954,
          226.33187806888986,
          459.2012523292566,
          635.7236238364106,
          772.689282692545,
          909.9805396047174,
          1036.6296861563778,
          1154.6670454579282,
          1235.577476718055,
          1276.2857161386576,
          1261.5169473457406,
          1221.6535631139018,
          1102.4674435481957,
          925.5724977623162,
          678.7772983747625,
          333.7400609890965,
          -22.953993321012945,
          -384.26729707390075,
          -622.0412044612578,
          -781.7432918773522,
          -881.309683964,
          -971.4758343582142,
          -1038.6776941339806,
          -1065.5721901312859,
          -1093.235706043927,
          -1136.2204459558452,
          -1162.6819093968152,
          -1165.418547970435,
          -1166.3600107350862,
          -1147.3627727121839,
          -1121.9177901399657,
          -1056.7084725146638,
          -980.2418445748747,
          -839.26385576399,
          -661.9785133715333,
          -467.25546535622203,
          -293.925432224582,
          -196.29097933011982,
          -158.3742260139299,
          -153.76162237701806,
          -174.2017624394195,
          -211.26236155238743,
          -282.55165853773167,
          -342.4033284306627,
          -417.9948502492191,
          -489.9128679138625,
          -583.5359899710379,
          -719.8125058416856,
          -870.992670194583,
          -1010.4058021567287,
          -1098.0841808545038,
          -1136.1990848916403,
          -1143.535586713571,
          -1116.0841349308291,
          -1026.7263323270897,
          -909.9440612658791,
          -793.1397171359241,
          -696.436995750011,
          -582.0555349925589,
          -439.8657103838378,
          -266.1038260378366,
          -77.02676532127754,
          115.13398961634971,
          302.94211142317926,
          472.3983833890977,
          635.9025742983663,
          767.1672420462882,
          902.1082665586123,
          1039.9501640022613,
          1171.561444638862,
          1285.6719918937665,
          1343.1134814364818,
          1319.1972412372697,
          1239.2763104638457,
          1127.6378537688627,
          1020.2711840893487,
          919.2434596897081,
          837.0205934033822,
          759.6966229144194,
          686.0948431920824,
          592.3934127318412,
          484.74810671018537,
          407.53164868544997,
          364.43921400268016,
          338.7126007221704,
          375.4175552829139,
          464.3480147352014,
          589.4118779209059,
          725.8275943442119,
          876.8097892706753,
          1026.1144879083395,
          1174.3966160935938,
          1285.5207878657047,
          1364.4969666127693,
          1401.2483619474503,
          1433.9967253321583,
          1435.0219496982397,
          1418.7788057674777,
          1403.921925450408,
          1419.0781172201928,
          1493.8925766160971,
          1592.6950168198905,
          1663.8304089169292,
          1698.4132906857476,
          1701.319529493589,
          1671.5959481616205,
          1604.3375070211607,
          1538.1204402496473,
          1572.7076114768945,
          1669.3196753536129,
          1806.1591321570238,
          1960.6459981711587,
          2172.5834301202262,
          2535.729612820651,
          2956.937588151716,
          3427.651507391979,
          3843.7190956923205,
          4255.8391791263875,
          4626.083744187041,
          4928.75941741118,
          5173.100682158722,
          5385.016025447764,
          5585.065213871434,
          5820.914405689759,
          6061.436230251152,
          6258.992484719505,
          6408.770859585405,
          6427.78398217854,
          6331.368350095135,
          6216.682086021472,
          6077.440245173686,
          5945.117427218074,
          5794.3644267692625,
          5640.009819535088,
          5456.067323197501,
          5252.970311108638,
          5080.677491493474,
          4890.443894049073,
          4740.873998756539,
          4613.868494768243,
          4518.090850650329,
          4375.930023178377,
          4190.093686074097,
          4048.830768584479,
          3915.6537496195506,
          3808.1971738873644,
          3712.4383816753075,
          3667.248228197694,
          3675.3815277485924,
          3709.9027061665497,
          3653.391039863507,
          3493.7642588580857,
          3274.1393720945143,
          3012.4844729434276,
          2697.516300546676,
          2352.8153289123625,
          2065.8414186247105,
          1835.326109649477,
          1592.1997090393634,
          1324.268894880303,
          1067.7578375128523,
          803.3527806573795,
          531.8776481160132,
          281.53009369251396,
          72.71058588545262,
          -59.93759149266941,
          -118.27957091832204,
          -124.66502006559683,
          -96.6100890373579,
          11.819374694365479,
          82.66392621055438,
          96.06757223875742,
          31.711694471896514,
          -42.70343597183374,
          -121.57681980578863,
          -200.07971653849245,
          -273.33103069173995,
          -306.639414866489,
          -249.12123452278138,
          -149.04942052279512,
          47.855616591725266,
          294.1616420510196,
          504.9049210822746,
          695.950484343703,
          928.9341459787862,
          1134.0957027743714,
          1313.378787997452,
          1477.759806142317,
          1619.1426630735466,
          1702.5871000190402,
          1731.972136062327,
          1709.9369105086582,
          1690.7539743294906,
          1686.9772817646356,
          1652.0316658747952
         ]
        },
        {
         "marker": {
          "color": "green"
         },
         "name": "MACD Histogram",
         "opacity": 0.5,
         "type": "bar",
         "x": [
          "2024-04-07T00:00:00",
          "2024-04-08T00:00:00",
          "2024-04-09T00:00:00",
          "2024-04-10T00:00:00",
          "2024-04-11T00:00:00",
          "2024-04-12T00:00:00",
          "2024-04-13T00:00:00",
          "2024-04-14T00:00:00",
          "2024-04-15T00:00:00",
          "2024-04-16T00:00:00",
          "2024-04-17T00:00:00",
          "2024-04-18T00:00:00",
          "2024-04-19T00:00:00",
          "2024-04-20T00:00:00",
          "2024-04-21T00:00:00",
          "2024-04-22T00:00:00",
          "2024-04-23T00:00:00",
          "2024-04-24T00:00:00",
          "2024-04-25T00:00:00",
          "2024-04-26T00:00:00",
          "2024-04-27T00:00:00",
          "2024-04-28T00:00:00",
          "2024-04-29T00:00:00",
          "2024-04-30T00:00:00",
          "2024-05-01T00:00:00",
          "2024-05-02T00:00:00",
          "2024-05-03T00:00:00",
          "2024-05-04T00:00:00",
          "2024-05-05T00:00:00",
          "2024-05-06T00:00:00",
          "2024-05-07T00:00:00",
          "2024-05-08T00:00:00",
          "2024-05-09T00:00:00",
          "2024-05-10T00:00:00",
          "2024-05-11T00:00:00",
          "2024-05-12T00:00:00",
          "2024-05-13T00:00:00",
          "2024-05-14T00:00:00",
          "2024-05-15T00:00:00",
          "2024-05-16T00:00:00",
          "2024-05-17T00:00:00",
          "2024-05-18T00:00:00",
          "2024-05-19T00:00:00",
          "2024-05-20T00:00:00",
          "2024-05-21T00:00:00",
          "2024-05-22T00:00:00",
          "2024-05-23T00:00:00",
          "2024-05-24T00:00:00",
          "2024-05-25T00:00:00",
          "2024-05-26T00:00:00",
          "2024-05-27T00:00:00",
          "2024-05-28T00:00:00",
          "2024-05-29T00:00:00",
          "2024-05-30T00:00:00",
          "2024-05-31T00:00:00",
          "2024-06-01T00:00:00",
          "2024-06-02T00:00:00",
          "2024-06-03T00:00:00",
          "2024-06-04T00:00:00",
          "2024-06-05T00:00:00",
          "2024-06-06T00:00:00",
          "2024-06-07T00:00:00",
          "2024-06-08T00:00:00",
          "2024-06-09T00:00:00",
          "2024-06-10T00:00:00",
          "2024-06-11T00:00:00",
          "2024-06-12T00:00:00",
          "2024-06-13T00:00:00",
          "2024-06-14T00:00:00",
          "2024-06-15T00:00:00",
          "2024-06-16T00:00:00",
          "2024-06-17T00:00:00",
          "2024-06-18T00:00:00",
          "2024-06-19T00:00:00",
          "2024-06-20T00:00:00",
          "2024-06-21T00:00:00",
          "2024-06-22T00:00:00",
          "2024-06-23T00:00:00",
          "2024-06-24T00:00:00",
          "2024-06-25T00:00:00",
          "2024-06-26T00:00:00",
          "2024-06-27T00:00:00",
          "2024-06-28T00:00:00",
          "2024-06-29T00:00:00",
          "2024-06-30T00:00:00",
          "2024-07-01T00:00:00",
          "2024-07-02T00:00:00",
          "2024-07-03T00:00:00",
          "2024-07-04T00:00:00",
          "2024-07-05T00:00:00",
          "2024-07-06T00:00:00",
          "2024-07-07T00:00:00",
          "2024-07-08T00:00:00",
          "2024-07-09T00:00:00",
          "2024-07-10T00:00:00",
          "2024-07-11T00:00:00",
          "2024-07-12T00:00:00",
          "2024-07-13T00:00:00",
          "2024-07-14T00:00:00",
          "2024-07-15T00:00:00",
          "2024-07-16T00:00:00",
          "2024-07-17T00:00:00",
          "2024-07-18T00:00:00",
          "2024-07-19T00:00:00",
          "2024-07-20T00:00:00",
          "2024-07-21T00:00:00",
          "2024-07-22T00:00:00",
          "2024-07-23T00:00:00",
          "2024-07-24T00:00:00",
          "2024-07-25T00:00:00",
          "2024-07-26T00:00:00",
          "2024-07-27T00:00:00",
          "2024-07-28T00:00:00",
          "2024-07-29T00:00:00",
          "2024-07-30T00:00:00",
          "2024-07-31T00:00:00",
          "2024-08-01T00:00:00",
          "2024-08-02T00:00:00",
          "2024-08-03T00:00:00",
          "2024-08-04T00:00:00",
          "2024-08-05T00:00:00",
          "2024-08-06T00:00:00",
          "2024-08-07T00:00:00",
          "2024-08-08T00:00:00",
          "2024-08-09T00:00:00",
          "2024-08-10T00:00:00",
          "2024-08-11T00:00:00",
          "2024-08-12T00:00:00",
          "2024-08-13T00:00:00",
          "2024-08-14T00:00:00",
          "2024-08-15T00:00:00",
          "2024-08-16T00:00:00",
          "2024-08-17T00:00:00",
          "2024-08-18T00:00:00",
          "2024-08-19T00:00:00",
          "2024-08-20T00:00:00",
          "2024-08-21T00:00:00",
          "2024-08-22T00:00:00",
          "2024-08-23T00:00:00",
          "2024-08-24T00:00:00",
          "2024-08-25T00:00:00",
          "2024-08-26T00:00:00",
          "2024-08-27T00:00:00",
          "2024-08-28T00:00:00",
          "2024-08-29T00:00:00",
          "2024-08-30T00:00:00",
          "2024-08-31T00:00:00",
          "2024-09-01T00:00:00",
          "2024-09-02T00:00:00",
          "2024-09-03T00:00:00",
          "2024-09-04T00:00:00",
          "2024-09-05T00:00:00",
          "2024-09-06T00:00:00",
          "2024-09-07T00:00:00",
          "2024-09-08T00:00:00",
          "2024-09-09T00:00:00",
          "2024-09-10T00:00:00",
          "2024-09-11T00:00:00",
          "2024-09-12T00:00:00",
          "2024-09-13T00:00:00",
          "2024-09-14T00:00:00",
          "2024-09-15T00:00:00",
          "2024-09-16T00:00:00",
          "2024-09-17T00:00:00",
          "2024-09-18T00:00:00",
          "2024-09-19T00:00:00",
          "2024-09-20T00:00:00",
          "2024-09-21T00:00:00",
          "2024-09-22T00:00:00",
          "2024-09-23T00:00:00",
          "2024-09-24T00:00:00",
          "2024-09-25T00:00:00",
          "2024-09-26T00:00:00",
          "2024-09-27T00:00:00",
          "2024-09-28T00:00:00",
          "2024-09-29T00:00:00",
          "2024-09-30T00:00:00",
          "2024-10-01T00:00:00",
          "2024-10-02T00:00:00",
          "2024-10-03T00:00:00",
          "2024-10-04T00:00:00",
          "2024-10-05T00:00:00",
          "2024-10-06T00:00:00",
          "2024-10-07T00:00:00",
          "2024-10-08T00:00:00",
          "2024-10-09T00:00:00",
          "2024-10-10T00:00:00",
          "2024-10-11T00:00:00",
          "2024-10-12T00:00:00",
          "2024-10-13T00:00:00",
          "2024-10-14T00:00:00",
          "2024-10-15T00:00:00",
          "2024-10-16T00:00:00",
          "2024-10-17T00:00:00",
          "2024-10-18T00:00:00",
          "2024-10-19T00:00:00",
          "2024-10-20T00:00:00",
          "2024-10-21T00:00:00",
          "2024-10-22T00:00:00",
          "2024-10-23T00:00:00",
          "2024-10-24T00:00:00",
          "2024-10-25T00:00:00",
          "2024-10-26T00:00:00",
          "2024-10-27T00:00:00",
          "2024-10-28T00:00:00",
          "2024-10-29T00:00:00",
          "2024-10-30T00:00:00",
          "2024-10-31T00:00:00",
          "2024-11-01T00:00:00",
          "2024-11-02T00:00:00",
          "2024-11-03T00:00:00",
          "2024-11-04T00:00:00",
          "2024-11-05T00:00:00",
          "2024-11-06T00:00:00",
          "2024-11-07T00:00:00",
          "2024-11-08T00:00:00",
          "2024-11-09T00:00:00",
          "2024-11-10T00:00:00",
          "2024-11-11T00:00:00",
          "2024-11-12T00:00:00",
          "2024-11-13T00:00:00",
          "2024-11-14T00:00:00",
          "2024-11-15T00:00:00",
          "2024-11-16T00:00:00",
          "2024-11-17T00:00:00",
          "2024-11-18T00:00:00",
          "2024-11-19T00:00:00",
          "2024-11-20T00:00:00",
          "2024-11-21T00:00:00",
          "2024-11-22T00:00:00",
          "2024-11-23T00:00:00",
          "2024-11-24T00:00:00",
          "2024-11-25T00:00:00",
          "2024-11-26T00:00:00",
          "2024-11-27T00:00:00",
          "2024-11-28T00:00:00",
          "2024-11-29T00:00:00",
          "2024-11-30T00:00:00",
          "2024-12-01T00:00:00",
          "2024-12-02T00:00:00",
          "2024-12-03T00:00:00",
          "2024-12-04T00:00:00",
          "2024-12-05T00:00:00",
          "2024-12-06T00:00:00",
          "2024-12-07T00:00:00",
          "2024-12-08T00:00:00",
          "2024-12-09T00:00:00",
          "2024-12-10T00:00:00",
          "2024-12-11T00:00:00",
          "2024-12-12T00:00:00",
          "2024-12-13T00:00:00",
          "2024-12-14T00:00:00",
          "2024-12-15T00:00:00",
          "2024-12-16T00:00:00",
          "2024-12-17T00:00:00",
          "2024-12-18T00:00:00",
          "2024-12-19T00:00:00",
          "2024-12-20T00:00:00",
          "2024-12-21T00:00:00",
          "2024-12-22T00:00:00",
          "2024-12-23T00:00:00",
          "2024-12-24T00:00:00",
          "2024-12-25T00:00:00",
          "2024-12-26T00:00:00",
          "2024-12-27T00:00:00",
          "2024-12-28T00:00:00",
          "2024-12-29T00:00:00",
          "2024-12-30T00:00:00",
          "2024-12-31T00:00:00",
          "2025-01-01T00:00:00",
          "2025-01-02T00:00:00",
          "2025-01-03T00:00:00",
          "2025-01-04T00:00:00",
          "2025-01-05T00:00:00",
          "2025-01-06T00:00:00",
          "2025-01-07T00:00:00",
          "2025-01-08T00:00:00",
          "2025-01-09T00:00:00",
          "2025-01-10T00:00:00",
          "2025-01-11T00:00:00",
          "2025-01-12T00:00:00",
          "2025-01-13T00:00:00",
          "2025-01-14T00:00:00",
          "2025-01-15T00:00:00",
          "2025-01-16T00:00:00",
          "2025-01-17T00:00:00",
          "2025-01-18T00:00:00",
          "2025-01-19T00:00:00",
          "2025-01-20T00:00:00",
          "2025-01-21T00:00:00",
          "2025-01-22T00:00:00",
          "2025-01-23T00:00:00",
          "2025-01-24T00:00:00",
          "2025-01-25T00:00:00",
          "2025-01-26T00:00:00",
          "2025-01-27T00:00:00",
          "2025-01-28T00:00:00",
          "2025-01-29T00:00:00",
          "2025-01-30T00:00:00",
          "2025-01-31T00:00:00"
         ],
         "y": [
          null,
          null,
          null,
          null,
          null,
          null,
          null,
          null,
          null,
          null,
          null,
          null,
          null,
          null,
          null,
          null,
          null,
          null,
          null,
          null,
          null,
          null,
          null,
          null,
          null,
          null,
          null,
          null,
          null,
          null,
          null,
          null,
          null,
          315.1657107508679,
          233.6150999036231,
          227.26956126487767,
          318.82593330366876,
          287.4202251626757,
          566.8851971074866,
          658.2651219793736,
          807.742587958751,
          860.7025100613807,
          813.2421779542622,
          1075.676348531664,
          1102.5037834200148,
          996.7220739201024,
          799.7006038226145,
          668.1870745663451,
          592.2492469161382,
          458.8348836094383,
          399.00319418741924,
          261.4918431831877,
          106.16913843493467,
          43.629993894471,
          -63.54298395043088,
          -123.42465452316287,
          -161.1484901613362,
          -118.27827721409824,
          18.427053659998478,
          127.09814297540902,
          158.55930436861718,
          70.12369380734776,
          -1.0589923969305346,
          -33.5050632775351,
          -70.39488878482689,
          -238.45341035338618,
          -282.2138510340171,
          -397.9054427553913,
          -504.51826976762266,
          -539.657182623587,
          -509.81349474725886,
          -477.7286413439447,
          -521.464470201627,
          -534.6326758977058,
          -523.6180020465495,
          -535.1726432860672,
          -502.32438084044867,
          -520.6006118808618,
          -685.6645934234925,
          -649.7654586566157,
          -649.165636210809,
          -555.2076668552277,
          -539.0196923216124,
          -453.01217886603445,
          -248.62740028697453,
          -83.40118204540227,
          -14.794158231920164,
          -76.17700389353695,
          -301.2310328065312,
          -432.53500860573445,
          -372.3505005114166,
          -455.82225478734176,
          -412.65719179530015,
          -262.8415920701134,
          -153.68258972383182,
          -83.72901756202464,
          18.937995755588872,
          186.33017606074168,
          399.3449531715937,
          790.1148896439042,
          1023.9724010926204,
          1067.964486225891,
          1041.4126048496669,
          1153.5104083775875,
          1198.3356628094857,
          1230.2092391418944,
          1149.925164825541,
          931.4774970414668,
          706.0894860286159,
          547.8626354245371,
          549.1650276486893,
          506.5965862066414,
          472.14943720620136,
          323.641725040507,
          162.83295768240964,
          -59.07507517166755,
          -159.4535369273549,
          -476.7444782628245,
          -707.5797831435178,
          -987.180797550215,
          -1380.148949542664,
          -1426.7762172404377,
          -1445.2532150115508,
          -951.0956295494277,
          -638.8083496643774,
          -398.2655683465912,
          -360.6646015768566,
          -268.8074391030648,
          -107.57798398922068,
          -110.65406365056447,
          -171.93895964767216,
          -105.84585376387986,
          -10.946554294478801,
          -3.765851058604767,
          75.98895209160946,
          101.77993028887295,
          260.8372705012084,
          305.86651175915654,
          563.9119552435393,
          709.1413695698276,
          778.8921920612447,
          693.3201325265604,
          390.53781157784874,
          151.66701326475976,
          18.45041454764737,
          -81.76056024960582,
          -148.24239645187177,
          -285.15718794137695,
          -239.40667957172417,
          -302.3660872742255,
          -287.67207065857343,
          -374.49248822870186,
          -545.1060634825906,
          -604.7206574115893,
          -557.6525278485826,
          -350.71351479110035,
          -152.45961614854514,
          -29.346007287722614,
          109.80580713096856,
          357.4312104149583,
          467.1290842448425,
          467.2173765198205,
          386.81088554365283,
          457.52584302980813,
          568.7592984348848,
          695.0475373840047,
          756.3082428662362,
          768.643019750509,
          751.2324872273182,
          677.8250878636738,
          654.0167636370738,
          525.0586709916871,
          539.7640980492965,
          551.3675897745957,
          526.4451225464024,
          456.4421890196177,
          229.7659581708608,
          -95.6649607968493,
          -319.6837230936967,
          -446.55382677993225,
          -429.4666787180565,
          -404.11089759856327,
          -328.8914651453035,
          -309.2958819558511,
          -294.40711888934857,
          -374.80572184096536,
          -430.58122408662354,
          -308.86583209894167,
          -172.36973873107934,
          -102.90645312203918,
          146.81981824297407,
          355.7218378091499,
          500.2554527428181,
          545.6628656932238,
          603.9287797058535,
          597.2187945506566,
          593.1285127410179,
          444.49668708844274,
          315.90471498825696,
          147.0055813387237,
          130.993453538832,
          4.100897464325726,
          -64.97257572304875,
          -59.42752126827895,
          60.624767079138564,
          299.2578375836167,
          395.209760815173,
          284.54156838815425,
          138.3315270752728,
          11.62495523136522,
          -118.89432532787532,
          -269.03376456184037,
          -264.86826708605395,
          138.3486849089884,
          386.4482555068728,
          547.3578272136431,
          617.9474640565395,
          847.7497277962689,
          1452.5847308016964,
          1684.8319013242608,
          1882.8556769610523,
          1664.2703532013638,
          1648.4803337362664,
          1480.9782602426112,
          1210.702692896557,
          977.3650589901663,
          847.6613731561692,
          800.1967536946777,
          943.3967672733024,
          962.0872982455685,
          790.2250178734121,
          599.113499463595,
          76.05249037253634,
          -385.6625283336225,
          -458.7450562946542,
          -556.967363391148,
          -529.2912718224488,
          -603.0120017952477,
          -617.4184289366976,
          -735.76998535035,
          -812.3880483554494,
          -689.1712784606589,
          -760.9343897776052,
          -598.2795811701399,
          -508.02201595318365,
          -383.11057647165944,
          -568.6433098878106,
          -743.3453484171241,
          -565.0516699584709,
          -532.7080758597131,
          -429.82630292874364,
          -383.0351688482301,
          -180.76061391045596,
          32.53319820359275,
          138.0847136718271,
          -226.0466652121704,
          -638.5071240216857,
          -878.4995470542872,
          -1046.6195966043465,
          -1259.8726895870072,
          -1378.803886537255,
          -1147.8956411506083,
          -922.0612359009338,
          -972.5056024404548,
          -1071.7232566362422,
          -1026.0442294698023,
          -1057.6202274218915,
          -1085.9005301654654,
          -1001.3902176939971,
          -835.2780312282454,
          -530.5927095124881,
          -233.36791770261053,
          -25.541796589099178,
          112.2197241129558,
          433.71785492689355,
          283.3782060647556,
          53.61458411281215,
          -257.42351106744366,
          -297.660521774921,
          -315.4935353358195,
          -314.01158693081516,
          -293.00525661298997,
          -133.23353669899598,
          230.0727213748305,
          400.28725599994505,
          787.6201484580815,
          985.2241018371773,
          842.9731161250197,
          764.1822530457134,
          931.9346465403327,
          820.6462271823405,
          717.1323408923231,
          657.5240725794599,
          565.5314277249174,
          333.7777477819743,
          117.54014417314738,
          -88.14090221467563,
          -76.73174471667107,
          -15.106770259421182,
          -139.78246355936153
         ]
        }
       ],
       "layout": {
        "height": 600,
        "legend": {
         "orientation": "h",
         "x": 1,
         "xanchor": "right",
         "y": 1.02,
         "yanchor": "bottom"
        },
        "plot_bgcolor": "lightgrey",
        "template": {
         "data": {
          "bar": [
           {
            "error_x": {
             "color": "#2a3f5f"
            },
            "error_y": {
             "color": "#2a3f5f"
            },
            "marker": {
             "line": {
              "color": "#E5ECF6",
              "width": 0.5
             },
             "pattern": {
              "fillmode": "overlay",
              "size": 10,
              "solidity": 0.2
             }
            },
            "type": "bar"
           }
          ],
          "barpolar": [
           {
            "marker": {
             "line": {
              "color": "#E5ECF6",
              "width": 0.5
             },
             "pattern": {
              "fillmode": "overlay",
              "size": 10,
              "solidity": 0.2
             }
            },
            "type": "barpolar"
           }
          ],
          "carpet": [
           {
            "aaxis": {
             "endlinecolor": "#2a3f5f",
             "gridcolor": "white",
             "linecolor": "white",
             "minorgridcolor": "white",
             "startlinecolor": "#2a3f5f"
            },
            "baxis": {
             "endlinecolor": "#2a3f5f",
             "gridcolor": "white",
             "linecolor": "white",
             "minorgridcolor": "white",
             "startlinecolor": "#2a3f5f"
            },
            "type": "carpet"
           }
          ],
          "choropleth": [
           {
            "colorbar": {
             "outlinewidth": 0,
             "ticks": ""
            },
            "type": "choropleth"
           }
          ],
          "contour": [
           {
            "colorbar": {
             "outlinewidth": 0,
             "ticks": ""
            },
            "colorscale": [
             [
              0,
              "#0d0887"
             ],
             [
              0.1111111111111111,
              "#46039f"
             ],
             [
              0.2222222222222222,
              "#7201a8"
             ],
             [
              0.3333333333333333,
              "#9c179e"
             ],
             [
              0.4444444444444444,
              "#bd3786"
             ],
             [
              0.5555555555555556,
              "#d8576b"
             ],
             [
              0.6666666666666666,
              "#ed7953"
             ],
             [
              0.7777777777777778,
              "#fb9f3a"
             ],
             [
              0.8888888888888888,
              "#fdca26"
             ],
             [
              1,
              "#f0f921"
             ]
            ],
            "type": "contour"
           }
          ],
          "contourcarpet": [
           {
            "colorbar": {
             "outlinewidth": 0,
             "ticks": ""
            },
            "type": "contourcarpet"
           }
          ],
          "heatmap": [
           {
            "colorbar": {
             "outlinewidth": 0,
             "ticks": ""
            },
            "colorscale": [
             [
              0,
              "#0d0887"
             ],
             [
              0.1111111111111111,
              "#46039f"
             ],
             [
              0.2222222222222222,
              "#7201a8"
             ],
             [
              0.3333333333333333,
              "#9c179e"
             ],
             [
              0.4444444444444444,
              "#bd3786"
             ],
             [
              0.5555555555555556,
              "#d8576b"
             ],
             [
              0.6666666666666666,
              "#ed7953"
             ],
             [
              0.7777777777777778,
              "#fb9f3a"
             ],
             [
              0.8888888888888888,
              "#fdca26"
             ],
             [
              1,
              "#f0f921"
             ]
            ],
            "type": "heatmap"
           }
          ],
          "heatmapgl": [
           {
            "colorbar": {
             "outlinewidth": 0,
             "ticks": ""
            },
            "colorscale": [
             [
              0,
              "#0d0887"
             ],
             [
              0.1111111111111111,
              "#46039f"
             ],
             [
              0.2222222222222222,
              "#7201a8"
             ],
             [
              0.3333333333333333,
              "#9c179e"
             ],
             [
              0.4444444444444444,
              "#bd3786"
             ],
             [
              0.5555555555555556,
              "#d8576b"
             ],
             [
              0.6666666666666666,
              "#ed7953"
             ],
             [
              0.7777777777777778,
              "#fb9f3a"
             ],
             [
              0.8888888888888888,
              "#fdca26"
             ],
             [
              1,
              "#f0f921"
             ]
            ],
            "type": "heatmapgl"
           }
          ],
          "histogram": [
           {
            "marker": {
             "pattern": {
              "fillmode": "overlay",
              "size": 10,
              "solidity": 0.2
             }
            },
            "type": "histogram"
           }
          ],
          "histogram2d": [
           {
            "colorbar": {
             "outlinewidth": 0,
             "ticks": ""
            },
            "colorscale": [
             [
              0,
              "#0d0887"
             ],
             [
              0.1111111111111111,
              "#46039f"
             ],
             [
              0.2222222222222222,
              "#7201a8"
             ],
             [
              0.3333333333333333,
              "#9c179e"
             ],
             [
              0.4444444444444444,
              "#bd3786"
             ],
             [
              0.5555555555555556,
              "#d8576b"
             ],
             [
              0.6666666666666666,
              "#ed7953"
             ],
             [
              0.7777777777777778,
              "#fb9f3a"
             ],
             [
              0.8888888888888888,
              "#fdca26"
             ],
             [
              1,
              "#f0f921"
             ]
            ],
            "type": "histogram2d"
           }
          ],
          "histogram2dcontour": [
           {
            "colorbar": {
             "outlinewidth": 0,
             "ticks": ""
            },
            "colorscale": [
             [
              0,
              "#0d0887"
             ],
             [
              0.1111111111111111,
              "#46039f"
             ],
             [
              0.2222222222222222,
              "#7201a8"
             ],
             [
              0.3333333333333333,
              "#9c179e"
             ],
             [
              0.4444444444444444,
              "#bd3786"
             ],
             [
              0.5555555555555556,
              "#d8576b"
             ],
             [
              0.6666666666666666,
              "#ed7953"
             ],
             [
              0.7777777777777778,
              "#fb9f3a"
             ],
             [
              0.8888888888888888,
              "#fdca26"
             ],
             [
              1,
              "#f0f921"
             ]
            ],
            "type": "histogram2dcontour"
           }
          ],
          "mesh3d": [
           {
            "colorbar": {
             "outlinewidth": 0,
             "ticks": ""
            },
            "type": "mesh3d"
           }
          ],
          "parcoords": [
           {
            "line": {
             "colorbar": {
              "outlinewidth": 0,
              "ticks": ""
             }
            },
            "type": "parcoords"
           }
          ],
          "pie": [
           {
            "automargin": true,
            "type": "pie"
           }
          ],
          "scatter": [
           {
            "fillpattern": {
             "fillmode": "overlay",
             "size": 10,
             "solidity": 0.2
            },
            "type": "scatter"
           }
          ],
          "scatter3d": [
           {
            "line": {
             "colorbar": {
              "outlinewidth": 0,
              "ticks": ""
             }
            },
            "marker": {
             "colorbar": {
              "outlinewidth": 0,
              "ticks": ""
             }
            },
            "type": "scatter3d"
           }
          ],
          "scattercarpet": [
           {
            "marker": {
             "colorbar": {
              "outlinewidth": 0,
              "ticks": ""
             }
            },
            "type": "scattercarpet"
           }
          ],
          "scattergeo": [
           {
            "marker": {
             "colorbar": {
              "outlinewidth": 0,
              "ticks": ""
             }
            },
            "type": "scattergeo"
           }
          ],
          "scattergl": [
           {
            "marker": {
             "colorbar": {
              "outlinewidth": 0,
              "ticks": ""
             }
            },
            "type": "scattergl"
           }
          ],
          "scattermapbox": [
           {
            "marker": {
             "colorbar": {
              "outlinewidth": 0,
              "ticks": ""
             }
            },
            "type": "scattermapbox"
           }
          ],
          "scatterpolar": [
           {
            "marker": {
             "colorbar": {
              "outlinewidth": 0,
              "ticks": ""
             }
            },
            "type": "scatterpolar"
           }
          ],
          "scatterpolargl": [
           {
            "marker": {
             "colorbar": {
              "outlinewidth": 0,
              "ticks": ""
             }
            },
            "type": "scatterpolargl"
           }
          ],
          "scatterternary": [
           {
            "marker": {
             "colorbar": {
              "outlinewidth": 0,
              "ticks": ""
             }
            },
            "type": "scatterternary"
           }
          ],
          "surface": [
           {
            "colorbar": {
             "outlinewidth": 0,
             "ticks": ""
            },
            "colorscale": [
             [
              0,
              "#0d0887"
             ],
             [
              0.1111111111111111,
              "#46039f"
             ],
             [
              0.2222222222222222,
              "#7201a8"
             ],
             [
              0.3333333333333333,
              "#9c179e"
             ],
             [
              0.4444444444444444,
              "#bd3786"
             ],
             [
              0.5555555555555556,
              "#d8576b"
             ],
             [
              0.6666666666666666,
              "#ed7953"
             ],
             [
              0.7777777777777778,
              "#fb9f3a"
             ],
             [
              0.8888888888888888,
              "#fdca26"
             ],
             [
              1,
              "#f0f921"
             ]
            ],
            "type": "surface"
           }
          ],
          "table": [
           {
            "cells": {
             "fill": {
              "color": "#EBF0F8"
             },
             "line": {
              "color": "white"
             }
            },
            "header": {
             "fill": {
              "color": "#C8D4E3"
             },
             "line": {
              "color": "white"
             }
            },
            "type": "table"
           }
          ]
         },
         "layout": {
          "annotationdefaults": {
           "arrowcolor": "#2a3f5f",
           "arrowhead": 0,
           "arrowwidth": 1
          },
          "autotypenumbers": "strict",
          "coloraxis": {
           "colorbar": {
            "outlinewidth": 0,
            "ticks": ""
           }
          },
          "colorscale": {
           "diverging": [
            [
             0,
             "#8e0152"
            ],
            [
             0.1,
             "#c51b7d"
            ],
            [
             0.2,
             "#de77ae"
            ],
            [
             0.3,
             "#f1b6da"
            ],
            [
             0.4,
             "#fde0ef"
            ],
            [
             0.5,
             "#f7f7f7"
            ],
            [
             0.6,
             "#e6f5d0"
            ],
            [
             0.7,
             "#b8e186"
            ],
            [
             0.8,
             "#7fbc41"
            ],
            [
             0.9,
             "#4d9221"
            ],
            [
             1,
             "#276419"
            ]
           ],
           "sequential": [
            [
             0,
             "#0d0887"
            ],
            [
             0.1111111111111111,
             "#46039f"
            ],
            [
             0.2222222222222222,
             "#7201a8"
            ],
            [
             0.3333333333333333,
             "#9c179e"
            ],
            [
             0.4444444444444444,
             "#bd3786"
            ],
            [
             0.5555555555555556,
             "#d8576b"
            ],
            [
             0.6666666666666666,
             "#ed7953"
            ],
            [
             0.7777777777777778,
             "#fb9f3a"
            ],
            [
             0.8888888888888888,
             "#fdca26"
            ],
            [
             1,
             "#f0f921"
            ]
           ],
           "sequentialminus": [
            [
             0,
             "#0d0887"
            ],
            [
             0.1111111111111111,
             "#46039f"
            ],
            [
             0.2222222222222222,
             "#7201a8"
            ],
            [
             0.3333333333333333,
             "#9c179e"
            ],
            [
             0.4444444444444444,
             "#bd3786"
            ],
            [
             0.5555555555555556,
             "#d8576b"
            ],
            [
             0.6666666666666666,
             "#ed7953"
            ],
            [
             0.7777777777777778,
             "#fb9f3a"
            ],
            [
             0.8888888888888888,
             "#fdca26"
            ],
            [
             1,
             "#f0f921"
            ]
           ]
          },
          "colorway": [
           "#636efa",
           "#EF553B",
           "#00cc96",
           "#ab63fa",
           "#FFA15A",
           "#19d3f3",
           "#FF6692",
           "#B6E880",
           "#FF97FF",
           "#FECB52"
          ],
          "font": {
           "color": "#2a3f5f"
          },
          "geo": {
           "bgcolor": "white",
           "lakecolor": "white",
           "landcolor": "#E5ECF6",
           "showlakes": true,
           "showland": true,
           "subunitcolor": "white"
          },
          "hoverlabel": {
           "align": "left"
          },
          "hovermode": "closest",
          "mapbox": {
           "style": "light"
          },
          "paper_bgcolor": "white",
          "plot_bgcolor": "#E5ECF6",
          "polar": {
           "angularaxis": {
            "gridcolor": "white",
            "linecolor": "white",
            "ticks": ""
           },
           "bgcolor": "#E5ECF6",
           "radialaxis": {
            "gridcolor": "white",
            "linecolor": "white",
            "ticks": ""
           }
          },
          "scene": {
           "xaxis": {
            "backgroundcolor": "#E5ECF6",
            "gridcolor": "white",
            "gridwidth": 2,
            "linecolor": "white",
            "showbackground": true,
            "ticks": "",
            "zerolinecolor": "white"
           },
           "yaxis": {
            "backgroundcolor": "#E5ECF6",
            "gridcolor": "white",
            "gridwidth": 2,
            "linecolor": "white",
            "showbackground": true,
            "ticks": "",
            "zerolinecolor": "white"
           },
           "zaxis": {
            "backgroundcolor": "#E5ECF6",
            "gridcolor": "white",
            "gridwidth": 2,
            "linecolor": "white",
            "showbackground": true,
            "ticks": "",
            "zerolinecolor": "white"
           }
          },
          "shapedefaults": {
           "line": {
            "color": "#2a3f5f"
           }
          },
          "ternary": {
           "aaxis": {
            "gridcolor": "white",
            "linecolor": "white",
            "ticks": ""
           },
           "baxis": {
            "gridcolor": "white",
            "linecolor": "white",
            "ticks": ""
           },
           "bgcolor": "#E5ECF6",
           "caxis": {
            "gridcolor": "white",
            "linecolor": "white",
            "ticks": ""
           }
          },
          "title": {
           "x": 0.05
          },
          "xaxis": {
           "automargin": true,
           "gridcolor": "white",
           "linecolor": "white",
           "ticks": "",
           "title": {
            "standoff": 15
           },
           "zerolinecolor": "white",
           "zerolinewidth": 2
          },
          "yaxis": {
           "automargin": true,
           "gridcolor": "white",
           "linecolor": "white",
           "ticks": "",
           "title": {
            "standoff": 15
           },
           "zerolinecolor": "white",
           "zerolinewidth": 2
          }
         }
        },
        "title": {
         "text": "BTC-USD MACD Analysis"
        },
        "width": 1050,
        "xaxis": {
         "rangeslider": {
          "visible": false
         },
         "title": {
          "text": "Date"
         }
        },
        "yaxis": {
         "title": {
          "text": "BTC-USD MACD Value"
         }
        }
       }
      }
     },
     "metadata": {},
     "output_type": "display_data"
    }
   ],
   "source": [
    "#MACD\n",
    "fig = go.Figure()\n",
    "\n",
    "fig.add_trace(go.Scatter(\n",
    "    x=stock_data.index,\n",
    "    y=stock_data['MACD'],\n",
    "    mode='lines',\n",
    "    name='MACD Line',\n",
    "    line=dict(color='blue', width=2)\n",
    "))\n",
    "\n",
    "fig.add_trace(go.Scatter(\n",
    "    x=stock_data.index,\n",
    "    y=stock_data['Signal'],\n",
    "    mode='lines',\n",
    "    name='Signal Line',\n",
    "    line=dict(color='orange', width=2)\n",
    "))\n",
    "\n",
    "fig.add_trace(go.Bar(\n",
    "    x=stock_data.index,\n",
    "    y=stock_data['MACD_Histogram'],\n",
    "    name='MACD Histogram',\n",
    "    marker_color='green',\n",
    "    opacity=0.5\n",
    "))\n",
    "\n",
    "fig.update_layout(\n",
    "    title=f'{ticker} MACD Analysis',\n",
    "    xaxis_title='Date',\n",
    "    yaxis_title=f'{ticker} MACD Value',\n",
    "    plot_bgcolor='lightgrey',\n",
    "    xaxis_rangeslider_visible=False,\n",
    "    legend=dict(\n",
    "        orientation='h',\n",
    "        yanchor='bottom',\n",
    "        y=1.02,\n",
    "        xanchor='right',\n",
    "        x=1\n",
    "    ),\n",
    "    width=1050,\n",
    "    height=600\n",
    ")\n",
    "\n",
    "# Display and save the chart\n",
    "fig.show()\n",
    "fig.write_image('./images/MACD.png')"
   ]
  },
  {
   "cell_type": "code",
   "execution_count": 13,
   "metadata": {},
   "outputs": [],
   "source": [
    "#MA\n",
    "stock_data['M10'] = stock_data['Close'].rolling(window=10).mean()\n",
    "stock_data['M20'] = stock_data['Close'].rolling(window=20).mean()\n",
    "\n",
    "#Bolinger Bands\n",
    "stock_data['SD'] = stock_data['Close'].rolling(window=20).std()\n",
    "# Calculate the Upper Bollinger Band (UB) and Lower Bollinger Band (LB)\n",
    "stock_data['UB'] = stock_data['M20'] + 2 * stock_data['SD']\n",
    "stock_data['LB'] = stock_data['M20'] - 2 * stock_data['SD']"
   ]
  },
  {
   "cell_type": "code",
   "execution_count": 14,
   "metadata": {},
   "outputs": [
    {
     "data": {
      "application/vnd.plotly.v1+json": {
       "config": {
        "plotlyServerURL": "https://plot.ly"
       },
       "data": [
        {
         "line": {
          "color": "red"
         },
         "mode": "lines",
         "name": "Upper Bollinger Band",
         "type": "scatter",
         "visible": true,
         "x": [
          "2024-04-07T00:00:00",
          "2024-04-08T00:00:00",
          "2024-04-09T00:00:00",
          "2024-04-10T00:00:00",
          "2024-04-11T00:00:00",
          "2024-04-12T00:00:00",
          "2024-04-13T00:00:00",
          "2024-04-14T00:00:00",
          "2024-04-15T00:00:00",
          "2024-04-16T00:00:00",
          "2024-04-17T00:00:00",
          "2024-04-18T00:00:00",
          "2024-04-19T00:00:00",
          "2024-04-20T00:00:00",
          "2024-04-21T00:00:00",
          "2024-04-22T00:00:00",
          "2024-04-23T00:00:00",
          "2024-04-24T00:00:00",
          "2024-04-25T00:00:00",
          "2024-04-26T00:00:00",
          "2024-04-27T00:00:00",
          "2024-04-28T00:00:00",
          "2024-04-29T00:00:00",
          "2024-04-30T00:00:00",
          "2024-05-01T00:00:00",
          "2024-05-02T00:00:00",
          "2024-05-03T00:00:00",
          "2024-05-04T00:00:00",
          "2024-05-05T00:00:00",
          "2024-05-06T00:00:00",
          "2024-05-07T00:00:00",
          "2024-05-08T00:00:00",
          "2024-05-09T00:00:00",
          "2024-05-10T00:00:00",
          "2024-05-11T00:00:00",
          "2024-05-12T00:00:00",
          "2024-05-13T00:00:00",
          "2024-05-14T00:00:00",
          "2024-05-15T00:00:00",
          "2024-05-16T00:00:00",
          "2024-05-17T00:00:00",
          "2024-05-18T00:00:00",
          "2024-05-19T00:00:00",
          "2024-05-20T00:00:00",
          "2024-05-21T00:00:00",
          "2024-05-22T00:00:00",
          "2024-05-23T00:00:00",
          "2024-05-24T00:00:00",
          "2024-05-25T00:00:00",
          "2024-05-26T00:00:00",
          "2024-05-27T00:00:00",
          "2024-05-28T00:00:00",
          "2024-05-29T00:00:00",
          "2024-05-30T00:00:00",
          "2024-05-31T00:00:00",
          "2024-06-01T00:00:00",
          "2024-06-02T00:00:00",
          "2024-06-03T00:00:00",
          "2024-06-04T00:00:00",
          "2024-06-05T00:00:00",
          "2024-06-06T00:00:00",
          "2024-06-07T00:00:00",
          "2024-06-08T00:00:00",
          "2024-06-09T00:00:00",
          "2024-06-10T00:00:00",
          "2024-06-11T00:00:00",
          "2024-06-12T00:00:00",
          "2024-06-13T00:00:00",
          "2024-06-14T00:00:00",
          "2024-06-15T00:00:00",
          "2024-06-16T00:00:00",
          "2024-06-17T00:00:00",
          "2024-06-18T00:00:00",
          "2024-06-19T00:00:00",
          "2024-06-20T00:00:00",
          "2024-06-21T00:00:00",
          "2024-06-22T00:00:00",
          "2024-06-23T00:00:00",
          "2024-06-24T00:00:00",
          "2024-06-25T00:00:00",
          "2024-06-26T00:00:00",
          "2024-06-27T00:00:00",
          "2024-06-28T00:00:00",
          "2024-06-29T00:00:00",
          "2024-06-30T00:00:00",
          "2024-07-01T00:00:00",
          "2024-07-02T00:00:00",
          "2024-07-03T00:00:00",
          "2024-07-04T00:00:00",
          "2024-07-05T00:00:00",
          "2024-07-06T00:00:00",
          "2024-07-07T00:00:00",
          "2024-07-08T00:00:00",
          "2024-07-09T00:00:00",
          "2024-07-10T00:00:00",
          "2024-07-11T00:00:00",
          "2024-07-12T00:00:00",
          "2024-07-13T00:00:00",
          "2024-07-14T00:00:00",
          "2024-07-15T00:00:00",
          "2024-07-16T00:00:00",
          "2024-07-17T00:00:00",
          "2024-07-18T00:00:00",
          "2024-07-19T00:00:00",
          "2024-07-20T00:00:00",
          "2024-07-21T00:00:00",
          "2024-07-22T00:00:00",
          "2024-07-23T00:00:00",
          "2024-07-24T00:00:00",
          "2024-07-25T00:00:00",
          "2024-07-26T00:00:00",
          "2024-07-27T00:00:00",
          "2024-07-28T00:00:00",
          "2024-07-29T00:00:00",
          "2024-07-30T00:00:00",
          "2024-07-31T00:00:00",
          "2024-08-01T00:00:00",
          "2024-08-02T00:00:00",
          "2024-08-03T00:00:00",
          "2024-08-04T00:00:00",
          "2024-08-05T00:00:00",
          "2024-08-06T00:00:00",
          "2024-08-07T00:00:00",
          "2024-08-08T00:00:00",
          "2024-08-09T00:00:00",
          "2024-08-10T00:00:00",
          "2024-08-11T00:00:00",
          "2024-08-12T00:00:00",
          "2024-08-13T00:00:00",
          "2024-08-14T00:00:00",
          "2024-08-15T00:00:00",
          "2024-08-16T00:00:00",
          "2024-08-17T00:00:00",
          "2024-08-18T00:00:00",
          "2024-08-19T00:00:00",
          "2024-08-20T00:00:00",
          "2024-08-21T00:00:00",
          "2024-08-22T00:00:00",
          "2024-08-23T00:00:00",
          "2024-08-24T00:00:00",
          "2024-08-25T00:00:00",
          "2024-08-26T00:00:00",
          "2024-08-27T00:00:00",
          "2024-08-28T00:00:00",
          "2024-08-29T00:00:00",
          "2024-08-30T00:00:00",
          "2024-08-31T00:00:00",
          "2024-09-01T00:00:00",
          "2024-09-02T00:00:00",
          "2024-09-03T00:00:00",
          "2024-09-04T00:00:00",
          "2024-09-05T00:00:00",
          "2024-09-06T00:00:00",
          "2024-09-07T00:00:00",
          "2024-09-08T00:00:00",
          "2024-09-09T00:00:00",
          "2024-09-10T00:00:00",
          "2024-09-11T00:00:00",
          "2024-09-12T00:00:00",
          "2024-09-13T00:00:00",
          "2024-09-14T00:00:00",
          "2024-09-15T00:00:00",
          "2024-09-16T00:00:00",
          "2024-09-17T00:00:00",
          "2024-09-18T00:00:00",
          "2024-09-19T00:00:00",
          "2024-09-20T00:00:00",
          "2024-09-21T00:00:00",
          "2024-09-22T00:00:00",
          "2024-09-23T00:00:00",
          "2024-09-24T00:00:00",
          "2024-09-25T00:00:00",
          "2024-09-26T00:00:00",
          "2024-09-27T00:00:00",
          "2024-09-28T00:00:00",
          "2024-09-29T00:00:00",
          "2024-09-30T00:00:00",
          "2024-10-01T00:00:00",
          "2024-10-02T00:00:00",
          "2024-10-03T00:00:00",
          "2024-10-04T00:00:00",
          "2024-10-05T00:00:00",
          "2024-10-06T00:00:00",
          "2024-10-07T00:00:00",
          "2024-10-08T00:00:00",
          "2024-10-09T00:00:00",
          "2024-10-10T00:00:00",
          "2024-10-11T00:00:00",
          "2024-10-12T00:00:00",
          "2024-10-13T00:00:00",
          "2024-10-14T00:00:00",
          "2024-10-15T00:00:00",
          "2024-10-16T00:00:00",
          "2024-10-17T00:00:00",
          "2024-10-18T00:00:00",
          "2024-10-19T00:00:00",
          "2024-10-20T00:00:00",
          "2024-10-21T00:00:00",
          "2024-10-22T00:00:00",
          "2024-10-23T00:00:00",
          "2024-10-24T00:00:00",
          "2024-10-25T00:00:00",
          "2024-10-26T00:00:00",
          "2024-10-27T00:00:00",
          "2024-10-28T00:00:00",
          "2024-10-29T00:00:00",
          "2024-10-30T00:00:00",
          "2024-10-31T00:00:00",
          "2024-11-01T00:00:00",
          "2024-11-02T00:00:00",
          "2024-11-03T00:00:00",
          "2024-11-04T00:00:00",
          "2024-11-05T00:00:00",
          "2024-11-06T00:00:00",
          "2024-11-07T00:00:00",
          "2024-11-08T00:00:00",
          "2024-11-09T00:00:00",
          "2024-11-10T00:00:00",
          "2024-11-11T00:00:00",
          "2024-11-12T00:00:00",
          "2024-11-13T00:00:00",
          "2024-11-14T00:00:00",
          "2024-11-15T00:00:00",
          "2024-11-16T00:00:00",
          "2024-11-17T00:00:00",
          "2024-11-18T00:00:00",
          "2024-11-19T00:00:00",
          "2024-11-20T00:00:00",
          "2024-11-21T00:00:00",
          "2024-11-22T00:00:00",
          "2024-11-23T00:00:00",
          "2024-11-24T00:00:00",
          "2024-11-25T00:00:00",
          "2024-11-26T00:00:00",
          "2024-11-27T00:00:00",
          "2024-11-28T00:00:00",
          "2024-11-29T00:00:00",
          "2024-11-30T00:00:00",
          "2024-12-01T00:00:00",
          "2024-12-02T00:00:00",
          "2024-12-03T00:00:00",
          "2024-12-04T00:00:00",
          "2024-12-05T00:00:00",
          "2024-12-06T00:00:00",
          "2024-12-07T00:00:00",
          "2024-12-08T00:00:00",
          "2024-12-09T00:00:00",
          "2024-12-10T00:00:00",
          "2024-12-11T00:00:00",
          "2024-12-12T00:00:00",
          "2024-12-13T00:00:00",
          "2024-12-14T00:00:00",
          "2024-12-15T00:00:00",
          "2024-12-16T00:00:00",
          "2024-12-17T00:00:00",
          "2024-12-18T00:00:00",
          "2024-12-19T00:00:00",
          "2024-12-20T00:00:00",
          "2024-12-21T00:00:00",
          "2024-12-22T00:00:00",
          "2024-12-23T00:00:00",
          "2024-12-24T00:00:00",
          "2024-12-25T00:00:00",
          "2024-12-26T00:00:00",
          "2024-12-27T00:00:00",
          "2024-12-28T00:00:00",
          "2024-12-29T00:00:00",
          "2024-12-30T00:00:00",
          "2024-12-31T00:00:00",
          "2025-01-01T00:00:00",
          "2025-01-02T00:00:00",
          "2025-01-03T00:00:00",
          "2025-01-04T00:00:00",
          "2025-01-05T00:00:00",
          "2025-01-06T00:00:00",
          "2025-01-07T00:00:00",
          "2025-01-08T00:00:00",
          "2025-01-09T00:00:00",
          "2025-01-10T00:00:00",
          "2025-01-11T00:00:00",
          "2025-01-12T00:00:00",
          "2025-01-13T00:00:00",
          "2025-01-14T00:00:00",
          "2025-01-15T00:00:00",
          "2025-01-16T00:00:00",
          "2025-01-17T00:00:00",
          "2025-01-18T00:00:00",
          "2025-01-19T00:00:00",
          "2025-01-20T00:00:00",
          "2025-01-21T00:00:00",
          "2025-01-22T00:00:00",
          "2025-01-23T00:00:00",
          "2025-01-24T00:00:00",
          "2025-01-25T00:00:00",
          "2025-01-26T00:00:00",
          "2025-01-27T00:00:00",
          "2025-01-28T00:00:00",
          "2025-01-29T00:00:00",
          "2025-01-30T00:00:00",
          "2025-01-31T00:00:00"
         ],
         "y": [
          null,
          null,
          null,
          null,
          null,
          null,
          null,
          null,
          null,
          null,
          null,
          null,
          null,
          null,
          null,
          null,
          null,
          null,
          null,
          71657.88282464609,
          71230.89397034713,
          70145.66965284273,
          69554.18617204676,
          68628.06361193888,
          68047.54012939472,
          67849.6412584858,
          67807.36167405124,
          67585.83823418766,
          67627.38284117734,
          67590.48902992455,
          67561.25492928023,
          67558.16580867203,
          67510.83410699577,
          67348.45133433962,
          67153.2811243549,
          66482.5346312509,
          65871.25480108181,
          65633.0650235801,
          66049.09311449579,
          66296.82937112846,
          66984.5300776011,
          67587.08766490796,
          67940.8253586045,
          69645.78367810338,
          70424.99159170901,
          70874.46990338748,
          71251.89789954158,
          71678.90356665401,
          72185.38102910646,
          72523.76807603643,
          72908.44235708089,
          72974.76140357132,
          73051.20331839504,
          72903.63791825419,
          72526.15185365643,
          72106.1399522847,
          71808.19085189383,
          70959.40618155099,
          71238.67367733439,
          71397.59277341452,
          71638.06432955309,
          71627.58961863171,
          71479.72301165243,
          71136.88078066299,
          71052.5980360053,
          71080.93871692954,
          71073.3333757656,
          71177.82355355831,
          71303.13631824004,
          71399.61258758849,
          71345.0941113614,
          71371.40620863222,
          71543.87620895075,
          71659.76706746007,
          71786.08146704914,
          71950.29335602606,
          72039.85923119535,
          72101.46884407537,
          72226.72454348045,
          71772.22435569075,
          71352.16318419701,
          70986.70998665251,
          70642.78518756261,
          70014.60704389843,
          69184.82806638813,
          68755.5627203094,
          68055.02634982004,
          67713.74295986649,
          67877.82989262012,
          67835.9460885552,
          67307.5988591345,
          66971.79447227599,
          66629.14694322873,
          66098.96079061537,
          65509.02687343018,
          64998.412495039105,
          64322.47027857512,
          63815.33886072584,
          63867.87673256092,
          64546.98107725481,
          65322.564436848676,
          65728.50174064349,
          66186.90621714485,
          67155.09615434865,
          67969.81851045952,
          68923.9126430282,
          69734.16830486798,
          70264.31696932128,
          70585.03431785415,
          70843.88587890819,
          71450.82824763205,
          71667.56668331833,
          71878.23550023562,
          71885.37005907834,
          71641.48762092968,
          71020.26754113416,
          70262.88576728533,
          69816.17375535742,
          69837.99818757156,
          70706.28289178589,
          72181.91531228992,
          72754.85153422075,
          73300.5200095995,
          73006.70739465978,
          72623.75758027789,
          72039.26209205778,
          71522.84111280607,
          71159.05800654969,
          70823.64083050036,
          70400.5125674013,
          69543.49788151844,
          68534.59354595632,
          67250.97961731786,
          66147.32275462423,
          65055.90203811938,
          64227.35899350265,
          63225.73056143367,
          63074.29379670639,
          63792.271290678385,
          64580.201182311415,
          64865.87945403028,
          65007.75090106042,
          64553.77945423476,
          64431.61207681389,
          64373.74693514941,
          64304.56520670482,
          64299.19058940584,
          64387.01131699668,
          64329.459065955794,
          64387.31202722539,
          64363.576831629245,
          64535.68602548421,
          64961.82064333899,
          65261.920529479175,
          65369.088112090525,
          65342.13468170242,
          65112.50020862064,
          64953.93426785369,
          64121.03542623347,
          63373.63993057146,
          62382.103784677194,
          61603.03795878932,
          61460.37105354424,
          61658.120203479615,
          62085.264828823165,
          62820.80311330137,
          63542.40324715754,
          64283.81581062547,
          64937.26230814673,
          65502.59380702636,
          66187.3594876854,
          66532.06683408716,
          66891.6946188507,
          67190.25360791822,
          67394.35082400119,
          67689.9876927686,
          67622.90574919488,
          67331.04859716873,
          67108.50244157144,
          67101.36852454675,
          67050.33420447541,
          66890.71567430253,
          66493.87284963226,
          66368.5076084032,
          66352.55949907414,
          66438.15723633242,
          66510.5620492404,
          66460.85435129824,
          66422.70561328891,
          66391.22361508333,
          66708.95230402007,
          67331.47820703374,
          67828.21529774924,
          68147.79188092778,
          68674.59290468803,
          69181.53665910204,
          69966.57694329352,
          70315.29544710218,
          70573.39666931833,
          70646.98887093346,
          70989.88477433429,
          71079.55460449496,
          71211.04296054893,
          71370.22945541123,
          71762.54388972868,
          72435.9586699709,
          72663.83407577143,
          72638.3674795138,
          72486.84357606381,
          72060.76108685539,
          72017.14350754261,
          72000.3714193971,
          72069.4235526803,
          73631.02975414888,
          74912.87310468001,
          76138.18053038545,
          77223.02859100493,
          79089.05572632213,
          83202.50923347942,
          86024.75493701872,
          89090.09900332562,
          90756.56258847963,
          92972.02241599878,
          94737.58296021206,
          96171.87323697732,
          97613.24939506272,
          99158.9221837009,
          100693.44621673896,
          102653.73367517404,
          104231.4041312722,
          105029.74504785027,
          105188.11734953128,
          104289.23696353467,
          103874.81367552491,
          103601.8153150349,
          102929.51672800267,
          101899.4319441304,
          100909.45065808992,
          101198.77032110737,
          101113.63774731822,
          101214.4423802211,
          101139.40394961956,
          101156.28386711542,
          101523.6048606047,
          101591.37992197314,
          101842.29202702596,
          101640.11809410373,
          101580.0310989786,
          102032.78663060514,
          102185.66840829766,
          102705.51325846031,
          103148.62178122223,
          104005.30078035327,
          104899.7586450279,
          106033.42951029356,
          106000.71622677305,
          105999.98877569816,
          105948.77930566005,
          105950.7590031397,
          106022.35680432357,
          106145.6905975503,
          106143.90428034619,
          106120.31068527729,
          106161.7266681977,
          106303.59211635537,
          106172.00091421363,
          106358.83482904553,
          106599.08653933313,
          106435.14281089745,
          106274.90655550288,
          105888.84061563715,
          105545.93908144436,
          104598.87795516614,
          102978.46242952229,
          101643.25961881502,
          101229.70081786478,
          101125.59654237534,
          101117.32093337292,
          101000.10575868809,
          100998.77453773667,
          101000.14904577022,
          100659.98754230428,
          100248.3959559094,
          100976.33923379629,
          101476.65837181763,
          103084.71776530048,
          104335.28687015298,
          104640.75076792254,
          105060.09965922666,
          106316.32336276709,
          106932.16167943721,
          107523.9331100261,
          108206.50274835325,
          108806.15731921961,
          108872.10936942615,
          109070.04063680471,
          109067.65350896266,
          108874.23608537107,
          108951.03018832774,
          108591.19671832562
         ]
        },
        {
         "fill": "tonexty",
         "line": {
          "color": "green"
         },
         "mode": "lines",
         "name": "Lower Bollinger Band",
         "type": "scatter",
         "visible": true,
         "x": [
          "2024-04-07T00:00:00",
          "2024-04-08T00:00:00",
          "2024-04-09T00:00:00",
          "2024-04-10T00:00:00",
          "2024-04-11T00:00:00",
          "2024-04-12T00:00:00",
          "2024-04-13T00:00:00",
          "2024-04-14T00:00:00",
          "2024-04-15T00:00:00",
          "2024-04-16T00:00:00",
          "2024-04-17T00:00:00",
          "2024-04-18T00:00:00",
          "2024-04-19T00:00:00",
          "2024-04-20T00:00:00",
          "2024-04-21T00:00:00",
          "2024-04-22T00:00:00",
          "2024-04-23T00:00:00",
          "2024-04-24T00:00:00",
          "2024-04-25T00:00:00",
          "2024-04-26T00:00:00",
          "2024-04-27T00:00:00",
          "2024-04-28T00:00:00",
          "2024-04-29T00:00:00",
          "2024-04-30T00:00:00",
          "2024-05-01T00:00:00",
          "2024-05-02T00:00:00",
          "2024-05-03T00:00:00",
          "2024-05-04T00:00:00",
          "2024-05-05T00:00:00",
          "2024-05-06T00:00:00",
          "2024-05-07T00:00:00",
          "2024-05-08T00:00:00",
          "2024-05-09T00:00:00",
          "2024-05-10T00:00:00",
          "2024-05-11T00:00:00",
          "2024-05-12T00:00:00",
          "2024-05-13T00:00:00",
          "2024-05-14T00:00:00",
          "2024-05-15T00:00:00",
          "2024-05-16T00:00:00",
          "2024-05-17T00:00:00",
          "2024-05-18T00:00:00",
          "2024-05-19T00:00:00",
          "2024-05-20T00:00:00",
          "2024-05-21T00:00:00",
          "2024-05-22T00:00:00",
          "2024-05-23T00:00:00",
          "2024-05-24T00:00:00",
          "2024-05-25T00:00:00",
          "2024-05-26T00:00:00",
          "2024-05-27T00:00:00",
          "2024-05-28T00:00:00",
          "2024-05-29T00:00:00",
          "2024-05-30T00:00:00",
          "2024-05-31T00:00:00",
          "2024-06-01T00:00:00",
          "2024-06-02T00:00:00",
          "2024-06-03T00:00:00",
          "2024-06-04T00:00:00",
          "2024-06-05T00:00:00",
          "2024-06-06T00:00:00",
          "2024-06-07T00:00:00",
          "2024-06-08T00:00:00",
          "2024-06-09T00:00:00",
          "2024-06-10T00:00:00",
          "2024-06-11T00:00:00",
          "2024-06-12T00:00:00",
          "2024-06-13T00:00:00",
          "2024-06-14T00:00:00",
          "2024-06-15T00:00:00",
          "2024-06-16T00:00:00",
          "2024-06-17T00:00:00",
          "2024-06-18T00:00:00",
          "2024-06-19T00:00:00",
          "2024-06-20T00:00:00",
          "2024-06-21T00:00:00",
          "2024-06-22T00:00:00",
          "2024-06-23T00:00:00",
          "2024-06-24T00:00:00",
          "2024-06-25T00:00:00",
          "2024-06-26T00:00:00",
          "2024-06-27T00:00:00",
          "2024-06-28T00:00:00",
          "2024-06-29T00:00:00",
          "2024-06-30T00:00:00",
          "2024-07-01T00:00:00",
          "2024-07-02T00:00:00",
          "2024-07-03T00:00:00",
          "2024-07-04T00:00:00",
          "2024-07-05T00:00:00",
          "2024-07-06T00:00:00",
          "2024-07-07T00:00:00",
          "2024-07-08T00:00:00",
          "2024-07-09T00:00:00",
          "2024-07-10T00:00:00",
          "2024-07-11T00:00:00",
          "2024-07-12T00:00:00",
          "2024-07-13T00:00:00",
          "2024-07-14T00:00:00",
          "2024-07-15T00:00:00",
          "2024-07-16T00:00:00",
          "2024-07-17T00:00:00",
          "2024-07-18T00:00:00",
          "2024-07-19T00:00:00",
          "2024-07-20T00:00:00",
          "2024-07-21T00:00:00",
          "2024-07-22T00:00:00",
          "2024-07-23T00:00:00",
          "2024-07-24T00:00:00",
          "2024-07-25T00:00:00",
          "2024-07-26T00:00:00",
          "2024-07-27T00:00:00",
          "2024-07-28T00:00:00",
          "2024-07-29T00:00:00",
          "2024-07-30T00:00:00",
          "2024-07-31T00:00:00",
          "2024-08-01T00:00:00",
          "2024-08-02T00:00:00",
          "2024-08-03T00:00:00",
          "2024-08-04T00:00:00",
          "2024-08-05T00:00:00",
          "2024-08-06T00:00:00",
          "2024-08-07T00:00:00",
          "2024-08-08T00:00:00",
          "2024-08-09T00:00:00",
          "2024-08-10T00:00:00",
          "2024-08-11T00:00:00",
          "2024-08-12T00:00:00",
          "2024-08-13T00:00:00",
          "2024-08-14T00:00:00",
          "2024-08-15T00:00:00",
          "2024-08-16T00:00:00",
          "2024-08-17T00:00:00",
          "2024-08-18T00:00:00",
          "2024-08-19T00:00:00",
          "2024-08-20T00:00:00",
          "2024-08-21T00:00:00",
          "2024-08-22T00:00:00",
          "2024-08-23T00:00:00",
          "2024-08-24T00:00:00",
          "2024-08-25T00:00:00",
          "2024-08-26T00:00:00",
          "2024-08-27T00:00:00",
          "2024-08-28T00:00:00",
          "2024-08-29T00:00:00",
          "2024-08-30T00:00:00",
          "2024-08-31T00:00:00",
          "2024-09-01T00:00:00",
          "2024-09-02T00:00:00",
          "2024-09-03T00:00:00",
          "2024-09-04T00:00:00",
          "2024-09-05T00:00:00",
          "2024-09-06T00:00:00",
          "2024-09-07T00:00:00",
          "2024-09-08T00:00:00",
          "2024-09-09T00:00:00",
          "2024-09-10T00:00:00",
          "2024-09-11T00:00:00",
          "2024-09-12T00:00:00",
          "2024-09-13T00:00:00",
          "2024-09-14T00:00:00",
          "2024-09-15T00:00:00",
          "2024-09-16T00:00:00",
          "2024-09-17T00:00:00",
          "2024-09-18T00:00:00",
          "2024-09-19T00:00:00",
          "2024-09-20T00:00:00",
          "2024-09-21T00:00:00",
          "2024-09-22T00:00:00",
          "2024-09-23T00:00:00",
          "2024-09-24T00:00:00",
          "2024-09-25T00:00:00",
          "2024-09-26T00:00:00",
          "2024-09-27T00:00:00",
          "2024-09-28T00:00:00",
          "2024-09-29T00:00:00",
          "2024-09-30T00:00:00",
          "2024-10-01T00:00:00",
          "2024-10-02T00:00:00",
          "2024-10-03T00:00:00",
          "2024-10-04T00:00:00",
          "2024-10-05T00:00:00",
          "2024-10-06T00:00:00",
          "2024-10-07T00:00:00",
          "2024-10-08T00:00:00",
          "2024-10-09T00:00:00",
          "2024-10-10T00:00:00",
          "2024-10-11T00:00:00",
          "2024-10-12T00:00:00",
          "2024-10-13T00:00:00",
          "2024-10-14T00:00:00",
          "2024-10-15T00:00:00",
          "2024-10-16T00:00:00",
          "2024-10-17T00:00:00",
          "2024-10-18T00:00:00",
          "2024-10-19T00:00:00",
          "2024-10-20T00:00:00",
          "2024-10-21T00:00:00",
          "2024-10-22T00:00:00",
          "2024-10-23T00:00:00",
          "2024-10-24T00:00:00",
          "2024-10-25T00:00:00",
          "2024-10-26T00:00:00",
          "2024-10-27T00:00:00",
          "2024-10-28T00:00:00",
          "2024-10-29T00:00:00",
          "2024-10-30T00:00:00",
          "2024-10-31T00:00:00",
          "2024-11-01T00:00:00",
          "2024-11-02T00:00:00",
          "2024-11-03T00:00:00",
          "2024-11-04T00:00:00",
          "2024-11-05T00:00:00",
          "2024-11-06T00:00:00",
          "2024-11-07T00:00:00",
          "2024-11-08T00:00:00",
          "2024-11-09T00:00:00",
          "2024-11-10T00:00:00",
          "2024-11-11T00:00:00",
          "2024-11-12T00:00:00",
          "2024-11-13T00:00:00",
          "2024-11-14T00:00:00",
          "2024-11-15T00:00:00",
          "2024-11-16T00:00:00",
          "2024-11-17T00:00:00",
          "2024-11-18T00:00:00",
          "2024-11-19T00:00:00",
          "2024-11-20T00:00:00",
          "2024-11-21T00:00:00",
          "2024-11-22T00:00:00",
          "2024-11-23T00:00:00",
          "2024-11-24T00:00:00",
          "2024-11-25T00:00:00",
          "2024-11-26T00:00:00",
          "2024-11-27T00:00:00",
          "2024-11-28T00:00:00",
          "2024-11-29T00:00:00",
          "2024-11-30T00:00:00",
          "2024-12-01T00:00:00",
          "2024-12-02T00:00:00",
          "2024-12-03T00:00:00",
          "2024-12-04T00:00:00",
          "2024-12-05T00:00:00",
          "2024-12-06T00:00:00",
          "2024-12-07T00:00:00",
          "2024-12-08T00:00:00",
          "2024-12-09T00:00:00",
          "2024-12-10T00:00:00",
          "2024-12-11T00:00:00",
          "2024-12-12T00:00:00",
          "2024-12-13T00:00:00",
          "2024-12-14T00:00:00",
          "2024-12-15T00:00:00",
          "2024-12-16T00:00:00",
          "2024-12-17T00:00:00",
          "2024-12-18T00:00:00",
          "2024-12-19T00:00:00",
          "2024-12-20T00:00:00",
          "2024-12-21T00:00:00",
          "2024-12-22T00:00:00",
          "2024-12-23T00:00:00",
          "2024-12-24T00:00:00",
          "2024-12-25T00:00:00",
          "2024-12-26T00:00:00",
          "2024-12-27T00:00:00",
          "2024-12-28T00:00:00",
          "2024-12-29T00:00:00",
          "2024-12-30T00:00:00",
          "2024-12-31T00:00:00",
          "2025-01-01T00:00:00",
          "2025-01-02T00:00:00",
          "2025-01-03T00:00:00",
          "2025-01-04T00:00:00",
          "2025-01-05T00:00:00",
          "2025-01-06T00:00:00",
          "2025-01-07T00:00:00",
          "2025-01-08T00:00:00",
          "2025-01-09T00:00:00",
          "2025-01-10T00:00:00",
          "2025-01-11T00:00:00",
          "2025-01-12T00:00:00",
          "2025-01-13T00:00:00",
          "2025-01-14T00:00:00",
          "2025-01-15T00:00:00",
          "2025-01-16T00:00:00",
          "2025-01-17T00:00:00",
          "2025-01-18T00:00:00",
          "2025-01-19T00:00:00",
          "2025-01-20T00:00:00",
          "2025-01-21T00:00:00",
          "2025-01-22T00:00:00",
          "2025-01-23T00:00:00",
          "2025-01-24T00:00:00",
          "2025-01-25T00:00:00",
          "2025-01-26T00:00:00",
          "2025-01-27T00:00:00",
          "2025-01-28T00:00:00",
          "2025-01-29T00:00:00",
          "2025-01-30T00:00:00",
          "2025-01-31T00:00:00"
         ],
         "y": [
          null,
          null,
          null,
          null,
          null,
          null,
          null,
          null,
          null,
          null,
          null,
          null,
          null,
          null,
          null,
          null,
          null,
          null,
          null,
          60250.97147222892,
          60083.61892027786,
          60317.03034715727,
          60378.724374828256,
          60309.744200561116,
          59709.60791748027,
          59100.263429014194,
          59049.37934157376,
          59086.17739081234,
          59105.12497132266,
          59077.02737632545,
          59212.07397696977,
          58982.68184757797,
          58950.65261175423,
          58692.868978160375,
          58474.7458287701,
          58606.5638062491,
          58867.261214543185,
          58833.04005454489,
          58595.59047925421,
          58495.48039449654,
          58171.053125523904,
          57951.252960092046,
          57841.2398757705,
          57217.415540646616,
          57626.45958016599,
          58176.871502862516,
          58303.416162958405,
          58339.87338647099,
          58356.87717401855,
          58554.10458021356,
          58875.40412729412,
          59519.91281517868,
          59896.28418160495,
          60801.07106612082,
          61848.32744321859,
          62894.193641465296,
          63677.15797623116,
          65251.141865324,
          65401.90171329061,
          65828.10644533548,
          65958.1637954469,
          66208.81663136829,
          66659.42386334758,
          66822.245781837,
          66844.1035264947,
          66636.73237682045,
          66675.5002179844,
          66394.03972769169,
          65943.24180675995,
          65614.05616241152,
          65393.02385738861,
          65186.11957261779,
          64769.91480667426,
          64313.554416914914,
          63920.96423607587,
          63395.67851897394,
          62956.210300054634,
          62332.202249674614,
          61177.91139401954,
          60704.59361305924,
          60130.066112677996,
          59721.74079459748,
          59167.1019218124,
          58919.21873735156,
          59065.598886736865,
          59046.8591546906,
          59126.178337679965,
          58809.21407138352,
          57741.78807612988,
          56830.809380194805,
          56525.6058283655,
          55797.291465224014,
          55296.37415052127,
          55131.45327188463,
          55012.771173444824,
          54848.25703621089,
          54888.887924549876,
          55001.134967399164,
          54999.63498618908,
          54627.0818133702,
          54280.08556315132,
          54125.547478106506,
          54032.53597035516,
          53646.623767526355,
          53280.436958290484,
          52856.597122596795,
          52601.96489825702,
          52647.19123380373,
          53165.91685402085,
          53818.55044921682,
          54172.46042424295,
          55152.14464480666,
          56096.55278101438,
          56970.486972171646,
          58060.22136344533,
          59408.87503699084,
          60912.06032646468,
          61577.08366651757,
          61544.48931242843,
          60000.887030089114,
          57414.685468960095,
          56033.30159077924,
          54592.97256852551,
          54386.783230340225,
          54141.37952909711,
          54005.00392356723,
          53634.848340318924,
          53341.31582157531,
          53200.47635699964,
          52919.60891697372,
          52741.42711848156,
          52858.40840716868,
          53264.33288268214,
          53534.39482350078,
          53955.05929000563,
          54222.956631497356,
          54806.354204191324,
          54854.47573454361,
          54477.92441244662,
          54296.19608331358,
          55044.72640534473,
          55587.48933331458,
          56489.12796764024,
          56343.04417318611,
          56251.71595547559,
          56138.26409017018,
          56168.68011371916,
          55877.956651753324,
          55785.8003090442,
          55597.32273839961,
          55662.20207462075,
          55216.73116201579,
          54237.574669161004,
          53503.04704864582,
          52930.69079415947,
          52758.31844329758,
          52635.30486950437,
          52489.99659152131,
          52726.16105814153,
          53112.787413178536,
          53671.48137157281,
          54080.76477558568,
          54092.26918083076,
          54022.61143714539,
          53821.61681180183,
          53468.17657419863,
          53168.884252842465,
          53034.40684562453,
          52834.58339497827,
          52859.12963047364,
          52807.40691856459,
          53160.96519716283,
          53924.56397489929,
          54791.10264208178,
          55691.613629123814,
          56257.5537134814,
          56892.71456330512,
          57533.95530908126,
          58007.07880842856,
          58033.02288170325,
          58290.29274864958,
          58740.62260694748,
          59600.10996286775,
          59918.28731347179,
          59982.46432905087,
          59661.03104491758,
          59296.7785757596,
          59251.511273701755,
          59244.09126171108,
          59227.73068179166,
          59084.417617854924,
          58851.68819921627,
          58598.12103037577,
          58439.46163469722,
          58165.77467343698,
          57931.57388777297,
          57713.75391608148,
          58018.11978727282,
          58432.88067443166,
          58926.56776969154,
          59193.029678790714,
          59558.60633300504,
          59846.69219570106,
          60256.76937271378,
          60642.03384464632,
          61182.458126904115,
          62161.08662735358,
          62963.562989236205,
          63744.0314239362,
          64813.90375689462,
          65127.02055495738,
          65220.832486852916,
          65326.4647285697,
          64588.78274585112,
          64055.54642656999,
          63648.51321961456,
          63341.381565245065,
          62785.98802367789,
          60806.54232902059,
          60136.65834423126,
          59313.62521542437,
          59707.96319277038,
          59897.63461525123,
          60394.99203978795,
          60954.51113802267,
          61295.34982368727,
          61750.10203504911,
          62628.008470761044,
          63569.946793575975,
          64963.11539997781,
          67068.39088964972,
          69930.24983796872,
          73203.40366146533,
          75252.45116822507,
          77531.21671621512,
          80114.21452199735,
          83212.56493086962,
          85800.03293566007,
          86368.54374139263,
          87244.62553393177,
          87685.62090102892,
          88912.46948788044,
          89448.3458203846,
          90017.2482643953,
          90957.22164052686,
          91775.64703547403,
          92486.71393714627,
          92780.3946822714,
          92594.46961939486,
          92546.12143545235,
          92394.47424153968,
          92287.28056252777,
          92550.24140714672,
          93060.22338622209,
          92944.35955220644,
          93415.97986697697,
          93419.65028680184,
          93601.54725683996,
          93594.0613093603,
          93446.42678942643,
          93191.5008086997,
          93184.04337590381,
          93478.19947097272,
          93024.2639568023,
          92306.55085239463,
          91830.93346078639,
          91253.85032720446,
          90610.37674191687,
          89999.93765785256,
          89597.84969449713,
          89526.67735311286,
          89543.02498105563,
          89883.83923233386,
          90732.7789767277,
          91661.73022493497,
          91763.40543213523,
          91622.76673887466,
          91103.85328537709,
          90968.7411163119,
          90916.23796226335,
          90895.08298547978,
          90819.28745769571,
          90954.36420034061,
          90697.31857870371,
          90756.20412818236,
          90077.95567219952,
          89915.17094234703,
          90454.34688832746,
          90893.74409077334,
          90810.17116848292,
          90870.9523830628,
          90864.45517122389,
          90840.21131414674,
          90880.52549328038,
          90875.01484932384,
          91193.58201944528,
          91824.86445978735,
          93140.19907087892,
          94066.79012417226,
          95210.46656292437
         ]
        },
        {
         "line": {
          "color": "blue"
         },
         "mode": "lines",
         "name": "Middle Bollinger Band",
         "type": "scatter",
         "visible": true,
         "x": [
          "2024-04-07T00:00:00",
          "2024-04-08T00:00:00",
          "2024-04-09T00:00:00",
          "2024-04-10T00:00:00",
          "2024-04-11T00:00:00",
          "2024-04-12T00:00:00",
          "2024-04-13T00:00:00",
          "2024-04-14T00:00:00",
          "2024-04-15T00:00:00",
          "2024-04-16T00:00:00",
          "2024-04-17T00:00:00",
          "2024-04-18T00:00:00",
          "2024-04-19T00:00:00",
          "2024-04-20T00:00:00",
          "2024-04-21T00:00:00",
          "2024-04-22T00:00:00",
          "2024-04-23T00:00:00",
          "2024-04-24T00:00:00",
          "2024-04-25T00:00:00",
          "2024-04-26T00:00:00",
          "2024-04-27T00:00:00",
          "2024-04-28T00:00:00",
          "2024-04-29T00:00:00",
          "2024-04-30T00:00:00",
          "2024-05-01T00:00:00",
          "2024-05-02T00:00:00",
          "2024-05-03T00:00:00",
          "2024-05-04T00:00:00",
          "2024-05-05T00:00:00",
          "2024-05-06T00:00:00",
          "2024-05-07T00:00:00",
          "2024-05-08T00:00:00",
          "2024-05-09T00:00:00",
          "2024-05-10T00:00:00",
          "2024-05-11T00:00:00",
          "2024-05-12T00:00:00",
          "2024-05-13T00:00:00",
          "2024-05-14T00:00:00",
          "2024-05-15T00:00:00",
          "2024-05-16T00:00:00",
          "2024-05-17T00:00:00",
          "2024-05-18T00:00:00",
          "2024-05-19T00:00:00",
          "2024-05-20T00:00:00",
          "2024-05-21T00:00:00",
          "2024-05-22T00:00:00",
          "2024-05-23T00:00:00",
          "2024-05-24T00:00:00",
          "2024-05-25T00:00:00",
          "2024-05-26T00:00:00",
          "2024-05-27T00:00:00",
          "2024-05-28T00:00:00",
          "2024-05-29T00:00:00",
          "2024-05-30T00:00:00",
          "2024-05-31T00:00:00",
          "2024-06-01T00:00:00",
          "2024-06-02T00:00:00",
          "2024-06-03T00:00:00",
          "2024-06-04T00:00:00",
          "2024-06-05T00:00:00",
          "2024-06-06T00:00:00",
          "2024-06-07T00:00:00",
          "2024-06-08T00:00:00",
          "2024-06-09T00:00:00",
          "2024-06-10T00:00:00",
          "2024-06-11T00:00:00",
          "2024-06-12T00:00:00",
          "2024-06-13T00:00:00",
          "2024-06-14T00:00:00",
          "2024-06-15T00:00:00",
          "2024-06-16T00:00:00",
          "2024-06-17T00:00:00",
          "2024-06-18T00:00:00",
          "2024-06-19T00:00:00",
          "2024-06-20T00:00:00",
          "2024-06-21T00:00:00",
          "2024-06-22T00:00:00",
          "2024-06-23T00:00:00",
          "2024-06-24T00:00:00",
          "2024-06-25T00:00:00",
          "2024-06-26T00:00:00",
          "2024-06-27T00:00:00",
          "2024-06-28T00:00:00",
          "2024-06-29T00:00:00",
          "2024-06-30T00:00:00",
          "2024-07-01T00:00:00",
          "2024-07-02T00:00:00",
          "2024-07-03T00:00:00",
          "2024-07-04T00:00:00",
          "2024-07-05T00:00:00",
          "2024-07-06T00:00:00",
          "2024-07-07T00:00:00",
          "2024-07-08T00:00:00",
          "2024-07-09T00:00:00",
          "2024-07-10T00:00:00",
          "2024-07-11T00:00:00",
          "2024-07-12T00:00:00",
          "2024-07-13T00:00:00",
          "2024-07-14T00:00:00",
          "2024-07-15T00:00:00",
          "2024-07-16T00:00:00",
          "2024-07-17T00:00:00",
          "2024-07-18T00:00:00",
          "2024-07-19T00:00:00",
          "2024-07-20T00:00:00",
          "2024-07-21T00:00:00",
          "2024-07-22T00:00:00",
          "2024-07-23T00:00:00",
          "2024-07-24T00:00:00",
          "2024-07-25T00:00:00",
          "2024-07-26T00:00:00",
          "2024-07-27T00:00:00",
          "2024-07-28T00:00:00",
          "2024-07-29T00:00:00",
          "2024-07-30T00:00:00",
          "2024-07-31T00:00:00",
          "2024-08-01T00:00:00",
          "2024-08-02T00:00:00",
          "2024-08-03T00:00:00",
          "2024-08-04T00:00:00",
          "2024-08-05T00:00:00",
          "2024-08-06T00:00:00",
          "2024-08-07T00:00:00",
          "2024-08-08T00:00:00",
          "2024-08-09T00:00:00",
          "2024-08-10T00:00:00",
          "2024-08-11T00:00:00",
          "2024-08-12T00:00:00",
          "2024-08-13T00:00:00",
          "2024-08-14T00:00:00",
          "2024-08-15T00:00:00",
          "2024-08-16T00:00:00",
          "2024-08-17T00:00:00",
          "2024-08-18T00:00:00",
          "2024-08-19T00:00:00",
          "2024-08-20T00:00:00",
          "2024-08-21T00:00:00",
          "2024-08-22T00:00:00",
          "2024-08-23T00:00:00",
          "2024-08-24T00:00:00",
          "2024-08-25T00:00:00",
          "2024-08-26T00:00:00",
          "2024-08-27T00:00:00",
          "2024-08-28T00:00:00",
          "2024-08-29T00:00:00",
          "2024-08-30T00:00:00",
          "2024-08-31T00:00:00",
          "2024-09-01T00:00:00",
          "2024-09-02T00:00:00",
          "2024-09-03T00:00:00",
          "2024-09-04T00:00:00",
          "2024-09-05T00:00:00",
          "2024-09-06T00:00:00",
          "2024-09-07T00:00:00",
          "2024-09-08T00:00:00",
          "2024-09-09T00:00:00",
          "2024-09-10T00:00:00",
          "2024-09-11T00:00:00",
          "2024-09-12T00:00:00",
          "2024-09-13T00:00:00",
          "2024-09-14T00:00:00",
          "2024-09-15T00:00:00",
          "2024-09-16T00:00:00",
          "2024-09-17T00:00:00",
          "2024-09-18T00:00:00",
          "2024-09-19T00:00:00",
          "2024-09-20T00:00:00",
          "2024-09-21T00:00:00",
          "2024-09-22T00:00:00",
          "2024-09-23T00:00:00",
          "2024-09-24T00:00:00",
          "2024-09-25T00:00:00",
          "2024-09-26T00:00:00",
          "2024-09-27T00:00:00",
          "2024-09-28T00:00:00",
          "2024-09-29T00:00:00",
          "2024-09-30T00:00:00",
          "2024-10-01T00:00:00",
          "2024-10-02T00:00:00",
          "2024-10-03T00:00:00",
          "2024-10-04T00:00:00",
          "2024-10-05T00:00:00",
          "2024-10-06T00:00:00",
          "2024-10-07T00:00:00",
          "2024-10-08T00:00:00",
          "2024-10-09T00:00:00",
          "2024-10-10T00:00:00",
          "2024-10-11T00:00:00",
          "2024-10-12T00:00:00",
          "2024-10-13T00:00:00",
          "2024-10-14T00:00:00",
          "2024-10-15T00:00:00",
          "2024-10-16T00:00:00",
          "2024-10-17T00:00:00",
          "2024-10-18T00:00:00",
          "2024-10-19T00:00:00",
          "2024-10-20T00:00:00",
          "2024-10-21T00:00:00",
          "2024-10-22T00:00:00",
          "2024-10-23T00:00:00",
          "2024-10-24T00:00:00",
          "2024-10-25T00:00:00",
          "2024-10-26T00:00:00",
          "2024-10-27T00:00:00",
          "2024-10-28T00:00:00",
          "2024-10-29T00:00:00",
          "2024-10-30T00:00:00",
          "2024-10-31T00:00:00",
          "2024-11-01T00:00:00",
          "2024-11-02T00:00:00",
          "2024-11-03T00:00:00",
          "2024-11-04T00:00:00",
          "2024-11-05T00:00:00",
          "2024-11-06T00:00:00",
          "2024-11-07T00:00:00",
          "2024-11-08T00:00:00",
          "2024-11-09T00:00:00",
          "2024-11-10T00:00:00",
          "2024-11-11T00:00:00",
          "2024-11-12T00:00:00",
          "2024-11-13T00:00:00",
          "2024-11-14T00:00:00",
          "2024-11-15T00:00:00",
          "2024-11-16T00:00:00",
          "2024-11-17T00:00:00",
          "2024-11-18T00:00:00",
          "2024-11-19T00:00:00",
          "2024-11-20T00:00:00",
          "2024-11-21T00:00:00",
          "2024-11-22T00:00:00",
          "2024-11-23T00:00:00",
          "2024-11-24T00:00:00",
          "2024-11-25T00:00:00",
          "2024-11-26T00:00:00",
          "2024-11-27T00:00:00",
          "2024-11-28T00:00:00",
          "2024-11-29T00:00:00",
          "2024-11-30T00:00:00",
          "2024-12-01T00:00:00",
          "2024-12-02T00:00:00",
          "2024-12-03T00:00:00",
          "2024-12-04T00:00:00",
          "2024-12-05T00:00:00",
          "2024-12-06T00:00:00",
          "2024-12-07T00:00:00",
          "2024-12-08T00:00:00",
          "2024-12-09T00:00:00",
          "2024-12-10T00:00:00",
          "2024-12-11T00:00:00",
          "2024-12-12T00:00:00",
          "2024-12-13T00:00:00",
          "2024-12-14T00:00:00",
          "2024-12-15T00:00:00",
          "2024-12-16T00:00:00",
          "2024-12-17T00:00:00",
          "2024-12-18T00:00:00",
          "2024-12-19T00:00:00",
          "2024-12-20T00:00:00",
          "2024-12-21T00:00:00",
          "2024-12-22T00:00:00",
          "2024-12-23T00:00:00",
          "2024-12-24T00:00:00",
          "2024-12-25T00:00:00",
          "2024-12-26T00:00:00",
          "2024-12-27T00:00:00",
          "2024-12-28T00:00:00",
          "2024-12-29T00:00:00",
          "2024-12-30T00:00:00",
          "2024-12-31T00:00:00",
          "2025-01-01T00:00:00",
          "2025-01-02T00:00:00",
          "2025-01-03T00:00:00",
          "2025-01-04T00:00:00",
          "2025-01-05T00:00:00",
          "2025-01-06T00:00:00",
          "2025-01-07T00:00:00",
          "2025-01-08T00:00:00",
          "2025-01-09T00:00:00",
          "2025-01-10T00:00:00",
          "2025-01-11T00:00:00",
          "2025-01-12T00:00:00",
          "2025-01-13T00:00:00",
          "2025-01-14T00:00:00",
          "2025-01-15T00:00:00",
          "2025-01-16T00:00:00",
          "2025-01-17T00:00:00",
          "2025-01-18T00:00:00",
          "2025-01-19T00:00:00",
          "2025-01-20T00:00:00",
          "2025-01-21T00:00:00",
          "2025-01-22T00:00:00",
          "2025-01-23T00:00:00",
          "2025-01-24T00:00:00",
          "2025-01-25T00:00:00",
          "2025-01-26T00:00:00",
          "2025-01-27T00:00:00",
          "2025-01-28T00:00:00",
          "2025-01-29T00:00:00",
          "2025-01-30T00:00:00",
          "2025-01-31T00:00:00"
         ],
         "y": [
          null,
          null,
          null,
          null,
          null,
          null,
          null,
          null,
          null,
          null,
          null,
          null,
          null,
          null,
          null,
          null,
          null,
          null,
          null,
          65954.4271484375,
          65657.2564453125,
          65231.35,
          64966.4552734375,
          64468.90390625,
          63878.5740234375,
          63474.95234375,
          63428.3705078125,
          63336.0078125,
          63366.25390625,
          63333.758203125,
          63386.664453125,
          63270.423828125,
          63230.743359375,
          63020.66015625,
          62814.0134765625,
          62544.54921875,
          62369.2580078125,
          62233.0525390625,
          62322.341796875,
          62396.1548828125,
          62577.7916015625,
          62769.1703125,
          62891.0326171875,
          63431.599609375,
          64025.7255859375,
          64525.670703125,
          64777.65703125,
          65009.3884765625,
          65271.1291015625,
          65538.936328125,
          65891.9232421875,
          66247.337109375,
          66473.74375,
          66852.3544921875,
          67187.2396484375,
          67500.166796875,
          67742.6744140625,
          68105.2740234375,
          68320.2876953125,
          68612.849609375,
          68798.1140625,
          68918.203125,
          69069.5734375,
          68979.56328125,
          68948.35078125,
          68858.835546875,
          68874.416796875,
          68785.931640625,
          68623.1890625,
          68506.834375,
          68369.058984375,
          68278.762890625,
          68156.8955078125,
          67986.6607421875,
          67853.5228515625,
          67672.9859375,
          67498.034765625,
          67216.835546875,
          66702.31796875,
          66238.408984375,
          65741.1146484375,
          65354.225390625,
          64904.9435546875,
          64466.912890625,
          64125.2134765625,
          63901.2109375,
          63590.60234375,
          63261.478515625,
          62809.808984375,
          62333.377734375,
          61916.60234375,
          61384.54296875,
          60962.760546875,
          60615.20703125,
          60260.8990234375,
          59923.334765625,
          59605.6791015625,
          59408.2369140625,
          59433.755859375,
          59587.0314453125,
          59801.325,
          59927.024609375,
          60109.72109375,
          60400.8599609375,
          60625.127734375,
          60890.2548828125,
          61168.0666015625,
          61455.7541015625,
          61875.4755859375,
          62331.2181640625,
          62811.6443359375,
          63409.8556640625,
          63987.394140625,
          64427.928515625,
          64850.8544921875,
          65214.5712890625,
          65587.473046875,
          65696.6287109375,
          65691.24375,
          65353.5849609375,
          64798.300390625,
          64394.0765625,
          63946.7462890625,
          63696.7453125,
          63382.5685546875,
          63022.1330078125,
          62578.8447265625,
          62250.1869140625,
          62012.05859375,
          61660.0607421875,
          61142.4625,
          60696.5009765625,
          60257.65625,
          59840.8587890625,
          59505.4806640625,
          59225.1578125,
          59016.0423828125,
          58964.384765625,
          59135.0978515625,
          59438.1986328125,
          59955.3029296875,
          60297.6201171875,
          60521.4537109375,
          60387.328125,
          60312.7314453125,
          60221.4146484375,
          60233.9353515625,
          60132.483984375,
          60057.6296875,
          59992.3173828125,
          60012.889453125,
          59876.20859375,
          59599.69765625,
          59382.4837890625,
          59149.889453125,
          59050.2265625,
          58873.9025390625,
          58721.9654296875,
          58423.5982421875,
          58243.213671875,
          58026.792578125,
          57841.9013671875,
          57776.3201171875,
          57840.3658203125,
          57953.4408203125,
          58144.48984375,
          58355.64375,
          58659.111328125,
          58885.9228515625,
          59180.86171875,
          59497.383203125,
          59846.516015625,
          60408.129296875,
          60990.678125,
          61542.9822265625,
          61973.770703125,
          62257.81015625,
          62432.501953125,
          62557.790625,
          62567.195703125,
          62670.3134765625,
          62815.669140625,
          63046.99140625,
          63143.3974609375,
          63167.5119140625,
          63049.594140625,
          62903.6703125,
          62856.1828125,
          62833.3984375,
          62809.4771484375,
          62896.6849609375,
          63091.583203125,
          63213.1681640625,
          63293.6267578125,
          63420.1837890625,
          63556.5552734375,
          63840.1654296875,
          64166.7076171875,
          64503.138671875,
          64786.7783203125,
          65091.4572265625,
          65319.08046875,
          65528.867578125,
          65813.4994140625,
          66202.2888671875,
          66809.2083984375,
          67412.4603515625,
          67800.965234375,
          68115.4375,
          68437.332421875,
          68572.08203125,
          68610.601953125,
          68697.944140625,
          69109.90625,
          69484.209765625,
          69893.346875,
          70282.205078125,
          70937.521875,
          72004.52578125,
          73080.706640625,
          74201.862109375,
          75232.262890625,
          76434.828515625,
          77566.2875,
          78563.1921875,
          79454.299609375,
          80454.512109375,
          81660.72734375,
          83111.840234375,
          84597.259765625,
          86049.06796875,
          87559.18359375,
          88746.3203125,
          89563.632421875,
          90566.516015625,
          91521.865625,
          92555.9984375,
          93354.741796875,
          93783.65703125,
          94179.131640625,
          94450.031640625,
          95025.93671875,
          95302.31484375,
          95770.4265625,
          96274.30078125,
          96808.96953125,
          97063.416015625,
          97180.212890625,
          97313.628125,
          97365.894921875,
          97549.99375,
          97717.951171875,
          98277.77109375,
          98979.991015625,
          99488.89453125,
          99708.348046875,
          99709.81953125,
          99775.16328125,
          99772.41015625,
          99734.391796875,
          99668.595703125,
          99663.973828125,
          99799.255078125,
          99592.9953125,
          99305.071484375,
          99001.4671875,
          98806.342578125,
          98604.731640625,
          98217.540234375,
          97936.378125,
          97707.758984375,
          97544.48203125,
          97241.35859375,
          96855.620703125,
          96652.494921875,
          96496.553125,
          96374.181640625,
          96110.587109375,
          95984.4234375,
          95957.50625,
          95947.616015625,
          95739.6375,
          95601.380078125,
          95836.82890625,
          96116.43125,
          96581.33671875,
          97125.22890625,
          97547.548828125,
          97976.921875,
          98563.247265625,
          98901.55703125,
          99194.194140625,
          99523.35703125,
          99843.34140625,
          99873.562109375,
          100131.811328125,
          100446.258984375,
          101007.217578125,
          101508.91015625,
          101900.831640625
         ]
        },
        {
         "line": {
          "color": "black"
         },
         "mode": "lines",
         "name": "Price (Bollinger)",
         "type": "scatter",
         "visible": true,
         "x": [
          "2024-04-07T00:00:00",
          "2024-04-08T00:00:00",
          "2024-04-09T00:00:00",
          "2024-04-10T00:00:00",
          "2024-04-11T00:00:00",
          "2024-04-12T00:00:00",
          "2024-04-13T00:00:00",
          "2024-04-14T00:00:00",
          "2024-04-15T00:00:00",
          "2024-04-16T00:00:00",
          "2024-04-17T00:00:00",
          "2024-04-18T00:00:00",
          "2024-04-19T00:00:00",
          "2024-04-20T00:00:00",
          "2024-04-21T00:00:00",
          "2024-04-22T00:00:00",
          "2024-04-23T00:00:00",
          "2024-04-24T00:00:00",
          "2024-04-25T00:00:00",
          "2024-04-26T00:00:00",
          "2024-04-27T00:00:00",
          "2024-04-28T00:00:00",
          "2024-04-29T00:00:00",
          "2024-04-30T00:00:00",
          "2024-05-01T00:00:00",
          "2024-05-02T00:00:00",
          "2024-05-03T00:00:00",
          "2024-05-04T00:00:00",
          "2024-05-05T00:00:00",
          "2024-05-06T00:00:00",
          "2024-05-07T00:00:00",
          "2024-05-08T00:00:00",
          "2024-05-09T00:00:00",
          "2024-05-10T00:00:00",
          "2024-05-11T00:00:00",
          "2024-05-12T00:00:00",
          "2024-05-13T00:00:00",
          "2024-05-14T00:00:00",
          "2024-05-15T00:00:00",
          "2024-05-16T00:00:00",
          "2024-05-17T00:00:00",
          "2024-05-18T00:00:00",
          "2024-05-19T00:00:00",
          "2024-05-20T00:00:00",
          "2024-05-21T00:00:00",
          "2024-05-22T00:00:00",
          "2024-05-23T00:00:00",
          "2024-05-24T00:00:00",
          "2024-05-25T00:00:00",
          "2024-05-26T00:00:00",
          "2024-05-27T00:00:00",
          "2024-05-28T00:00:00",
          "2024-05-29T00:00:00",
          "2024-05-30T00:00:00",
          "2024-05-31T00:00:00",
          "2024-06-01T00:00:00",
          "2024-06-02T00:00:00",
          "2024-06-03T00:00:00",
          "2024-06-04T00:00:00",
          "2024-06-05T00:00:00",
          "2024-06-06T00:00:00",
          "2024-06-07T00:00:00",
          "2024-06-08T00:00:00",
          "2024-06-09T00:00:00",
          "2024-06-10T00:00:00",
          "2024-06-11T00:00:00",
          "2024-06-12T00:00:00",
          "2024-06-13T00:00:00",
          "2024-06-14T00:00:00",
          "2024-06-15T00:00:00",
          "2024-06-16T00:00:00",
          "2024-06-17T00:00:00",
          "2024-06-18T00:00:00",
          "2024-06-19T00:00:00",
          "2024-06-20T00:00:00",
          "2024-06-21T00:00:00",
          "2024-06-22T00:00:00",
          "2024-06-23T00:00:00",
          "2024-06-24T00:00:00",
          "2024-06-25T00:00:00",
          "2024-06-26T00:00:00",
          "2024-06-27T00:00:00",
          "2024-06-28T00:00:00",
          "2024-06-29T00:00:00",
          "2024-06-30T00:00:00",
          "2024-07-01T00:00:00",
          "2024-07-02T00:00:00",
          "2024-07-03T00:00:00",
          "2024-07-04T00:00:00",
          "2024-07-05T00:00:00",
          "2024-07-06T00:00:00",
          "2024-07-07T00:00:00",
          "2024-07-08T00:00:00",
          "2024-07-09T00:00:00",
          "2024-07-10T00:00:00",
          "2024-07-11T00:00:00",
          "2024-07-12T00:00:00",
          "2024-07-13T00:00:00",
          "2024-07-14T00:00:00",
          "2024-07-15T00:00:00",
          "2024-07-16T00:00:00",
          "2024-07-17T00:00:00",
          "2024-07-18T00:00:00",
          "2024-07-19T00:00:00",
          "2024-07-20T00:00:00",
          "2024-07-21T00:00:00",
          "2024-07-22T00:00:00",
          "2024-07-23T00:00:00",
          "2024-07-24T00:00:00",
          "2024-07-25T00:00:00",
          "2024-07-26T00:00:00",
          "2024-07-27T00:00:00",
          "2024-07-28T00:00:00",
          "2024-07-29T00:00:00",
          "2024-07-30T00:00:00",
          "2024-07-31T00:00:00",
          "2024-08-01T00:00:00",
          "2024-08-02T00:00:00",
          "2024-08-03T00:00:00",
          "2024-08-04T00:00:00",
          "2024-08-05T00:00:00",
          "2024-08-06T00:00:00",
          "2024-08-07T00:00:00",
          "2024-08-08T00:00:00",
          "2024-08-09T00:00:00",
          "2024-08-10T00:00:00",
          "2024-08-11T00:00:00",
          "2024-08-12T00:00:00",
          "2024-08-13T00:00:00",
          "2024-08-14T00:00:00",
          "2024-08-15T00:00:00",
          "2024-08-16T00:00:00",
          "2024-08-17T00:00:00",
          "2024-08-18T00:00:00",
          "2024-08-19T00:00:00",
          "2024-08-20T00:00:00",
          "2024-08-21T00:00:00",
          "2024-08-22T00:00:00",
          "2024-08-23T00:00:00",
          "2024-08-24T00:00:00",
          "2024-08-25T00:00:00",
          "2024-08-26T00:00:00",
          "2024-08-27T00:00:00",
          "2024-08-28T00:00:00",
          "2024-08-29T00:00:00",
          "2024-08-30T00:00:00",
          "2024-08-31T00:00:00",
          "2024-09-01T00:00:00",
          "2024-09-02T00:00:00",
          "2024-09-03T00:00:00",
          "2024-09-04T00:00:00",
          "2024-09-05T00:00:00",
          "2024-09-06T00:00:00",
          "2024-09-07T00:00:00",
          "2024-09-08T00:00:00",
          "2024-09-09T00:00:00",
          "2024-09-10T00:00:00",
          "2024-09-11T00:00:00",
          "2024-09-12T00:00:00",
          "2024-09-13T00:00:00",
          "2024-09-14T00:00:00",
          "2024-09-15T00:00:00",
          "2024-09-16T00:00:00",
          "2024-09-17T00:00:00",
          "2024-09-18T00:00:00",
          "2024-09-19T00:00:00",
          "2024-09-20T00:00:00",
          "2024-09-21T00:00:00",
          "2024-09-22T00:00:00",
          "2024-09-23T00:00:00",
          "2024-09-24T00:00:00",
          "2024-09-25T00:00:00",
          "2024-09-26T00:00:00",
          "2024-09-27T00:00:00",
          "2024-09-28T00:00:00",
          "2024-09-29T00:00:00",
          "2024-09-30T00:00:00",
          "2024-10-01T00:00:00",
          "2024-10-02T00:00:00",
          "2024-10-03T00:00:00",
          "2024-10-04T00:00:00",
          "2024-10-05T00:00:00",
          "2024-10-06T00:00:00",
          "2024-10-07T00:00:00",
          "2024-10-08T00:00:00",
          "2024-10-09T00:00:00",
          "2024-10-10T00:00:00",
          "2024-10-11T00:00:00",
          "2024-10-12T00:00:00",
          "2024-10-13T00:00:00",
          "2024-10-14T00:00:00",
          "2024-10-15T00:00:00",
          "2024-10-16T00:00:00",
          "2024-10-17T00:00:00",
          "2024-10-18T00:00:00",
          "2024-10-19T00:00:00",
          "2024-10-20T00:00:00",
          "2024-10-21T00:00:00",
          "2024-10-22T00:00:00",
          "2024-10-23T00:00:00",
          "2024-10-24T00:00:00",
          "2024-10-25T00:00:00",
          "2024-10-26T00:00:00",
          "2024-10-27T00:00:00",
          "2024-10-28T00:00:00",
          "2024-10-29T00:00:00",
          "2024-10-30T00:00:00",
          "2024-10-31T00:00:00",
          "2024-11-01T00:00:00",
          "2024-11-02T00:00:00",
          "2024-11-03T00:00:00",
          "2024-11-04T00:00:00",
          "2024-11-05T00:00:00",
          "2024-11-06T00:00:00",
          "2024-11-07T00:00:00",
          "2024-11-08T00:00:00",
          "2024-11-09T00:00:00",
          "2024-11-10T00:00:00",
          "2024-11-11T00:00:00",
          "2024-11-12T00:00:00",
          "2024-11-13T00:00:00",
          "2024-11-14T00:00:00",
          "2024-11-15T00:00:00",
          "2024-11-16T00:00:00",
          "2024-11-17T00:00:00",
          "2024-11-18T00:00:00",
          "2024-11-19T00:00:00",
          "2024-11-20T00:00:00",
          "2024-11-21T00:00:00",
          "2024-11-22T00:00:00",
          "2024-11-23T00:00:00",
          "2024-11-24T00:00:00",
          "2024-11-25T00:00:00",
          "2024-11-26T00:00:00",
          "2024-11-27T00:00:00",
          "2024-11-28T00:00:00",
          "2024-11-29T00:00:00",
          "2024-11-30T00:00:00",
          "2024-12-01T00:00:00",
          "2024-12-02T00:00:00",
          "2024-12-03T00:00:00",
          "2024-12-04T00:00:00",
          "2024-12-05T00:00:00",
          "2024-12-06T00:00:00",
          "2024-12-07T00:00:00",
          "2024-12-08T00:00:00",
          "2024-12-09T00:00:00",
          "2024-12-10T00:00:00",
          "2024-12-11T00:00:00",
          "2024-12-12T00:00:00",
          "2024-12-13T00:00:00",
          "2024-12-14T00:00:00",
          "2024-12-15T00:00:00",
          "2024-12-16T00:00:00",
          "2024-12-17T00:00:00",
          "2024-12-18T00:00:00",
          "2024-12-19T00:00:00",
          "2024-12-20T00:00:00",
          "2024-12-21T00:00:00",
          "2024-12-22T00:00:00",
          "2024-12-23T00:00:00",
          "2024-12-24T00:00:00",
          "2024-12-25T00:00:00",
          "2024-12-26T00:00:00",
          "2024-12-27T00:00:00",
          "2024-12-28T00:00:00",
          "2024-12-29T00:00:00",
          "2024-12-30T00:00:00",
          "2024-12-31T00:00:00",
          "2025-01-01T00:00:00",
          "2025-01-02T00:00:00",
          "2025-01-03T00:00:00",
          "2025-01-04T00:00:00",
          "2025-01-05T00:00:00",
          "2025-01-06T00:00:00",
          "2025-01-07T00:00:00",
          "2025-01-08T00:00:00",
          "2025-01-09T00:00:00",
          "2025-01-10T00:00:00",
          "2025-01-11T00:00:00",
          "2025-01-12T00:00:00",
          "2025-01-13T00:00:00",
          "2025-01-14T00:00:00",
          "2025-01-15T00:00:00",
          "2025-01-16T00:00:00",
          "2025-01-17T00:00:00",
          "2025-01-18T00:00:00",
          "2025-01-19T00:00:00",
          "2025-01-20T00:00:00",
          "2025-01-21T00:00:00",
          "2025-01-22T00:00:00",
          "2025-01-23T00:00:00",
          "2025-01-24T00:00:00",
          "2025-01-25T00:00:00",
          "2025-01-26T00:00:00",
          "2025-01-27T00:00:00",
          "2025-01-28T00:00:00",
          "2025-01-29T00:00:00",
          "2025-01-30T00:00:00",
          "2025-01-31T00:00:00"
         ],
         "y": [
          69362.5546875,
          71631.359375,
          69139.015625,
          70587.8828125,
          70060.609375,
          67195.8671875,
          63821.47265625,
          65738.7265625,
          63426.2109375,
          63811.86328125,
          61276.69140625,
          63512.75390625,
          63843.5703125,
          64994.44140625,
          64926.64453125,
          66837.6796875,
          66407.2734375,
          64276.8984375,
          64481.70703125,
          63755.3203125,
          63419.140625,
          63113.23046875,
          63841.12109375,
          60636.85546875,
          58254.01171875,
          59123.43359375,
          62889.8359375,
          63891.47265625,
          64031.1328125,
          63161.94921875,
          62334.81640625,
          61187.94140625,
          63049.9609375,
          60792.77734375,
          60793.7109375,
          61448.39453125,
          62901.44921875,
          61552.7890625,
          66267.4921875,
          65231.58203125,
          67051.875,
          66940.8046875,
          66278.3671875,
          71448.1953125,
          70136.53125,
          69122.3359375,
          67929.5625,
          68526.1015625,
          69265.9453125,
          68518.09375,
          69394.5546875,
          68296.21875,
          67578.09375,
          68364.9921875,
          67491.4140625,
          67706.9375,
          67751.6015625,
          68804.78125,
          70567.765625,
          71082.8203125,
          70757.1640625,
          69342.5859375,
          69305.7734375,
          69647.9921875,
          69512.28125,
          67332.03125,
          68241.1875,
          66756.3984375,
          66011.09375,
          66191,
          66639.046875,
          66490.296875,
          65140.74609375,
          64960.296875,
          64828.65625,
          64096.19921875,
          64252.578125,
          63180.796875,
          60277.4140625,
          61804.640625,
          60811.27734375,
          61604.80078125,
          60320.13671875,
          60887.37890625,
          62678.29296875,
          62851.98046875,
          62029.015625,
          60173.921875,
          56977.703125,
          56662.375,
          58303.5390625,
          55849.109375,
          56705.09765625,
          58009.2265625,
          57742.49609375,
          57344.9140625,
          57899.46484375,
          59231.953125,
          60787.79296875,
          64870.15234375,
          65097.1484375,
          64118.79296875,
          63974.06640625,
          66710.15625,
          67163.6484375,
          68154.5234375,
          67585.25,
          65927.671875,
          65372.1328125,
          65777.2265625,
          67912.0625,
          67813.3359375,
          68255.8671875,
          66819.9140625,
          66201.015625,
          64619.25,
          65357.5,
          61415.06640625,
          60680.09375,
          58116.9765625,
          53991.45703125,
          56034.31640625,
          55027.4609375,
          61710.13671875,
          60880.11328125,
          60945.8125,
          58719.484375,
          59354.515625,
          60609.56640625,
          58737.26953125,
          57560.09765625,
          58894.10546875,
          59478.97265625,
          58483.96484375,
          59493.453125,
          59012.79296875,
          61175.19140625,
          60381.9140625,
          64094.35546875,
          64178.9921875,
          64333.54296875,
          62880.66015625,
          59504.1328125,
          59027.625,
          59388.1796875,
          59119.4765625,
          58969.8984375,
          57325.48828125,
          59112.48046875,
          57431.0234375,
          57971.5390625,
          56160.48828125,
          53948.75390625,
          54139.6875,
          54841.56640625,
          57019.53515625,
          57648.7109375,
          57343.171875,
          58127.01171875,
          60571.30078125,
          60005.12109375,
          59182.8359375,
          58192.5078125,
          60308.5390625,
          61649.6796875,
          62940.45703125,
          63192.9765625,
          63394.83984375,
          63648.7109375,
          63329.80078125,
          64301.96875,
          63143.14453125,
          65181.01953125,
          65790.6640625,
          65887.6484375,
          65635.3046875,
          63329.5,
          60837.0078125,
          60632.78515625,
          60759.40234375,
          62067.4765625,
          62089.94921875,
          62818.953125,
          62236.66015625,
          62131.96875,
          60582.1015625,
          60274.5,
          62445.08984375,
          63193.0234375,
          62851.375,
          66046.125,
          67041.109375,
          67612.71875,
          67399.8359375,
          68418.7890625,
          68362.734375,
          69001.703125,
          67367.8515625,
          67361.40625,
          66432.1953125,
          68161.0546875,
          66642.4140625,
          67014.6953125,
          67929.296875,
          69907.7578125,
          72720.4921875,
          72339.5390625,
          70215.1875,
          69482.46875,
          69289.2734375,
          68741.1171875,
          67811.5078125,
          69359.5625,
          75639.078125,
          75904.859375,
          76545.4765625,
          76778.8671875,
          80474.1875,
          88701.484375,
          87955.8125,
          90584.1640625,
          87250.4296875,
          91066.0078125,
          90558.4765625,
          89845.8515625,
          90542.640625,
          92343.7890625,
          94339.4921875,
          98504.7265625,
          98997.6640625,
          97777.28125,
          98013.8203125,
          93102.296875,
          91985.3203125,
          95962.53125,
          95652.46875,
          97461.5234375,
          96449.0546875,
          97279.7890625,
          95865.3046875,
          96002.1640625,
          98768.53125,
          96593.5703125,
          99920.7109375,
          99923.3359375,
          101236.015625,
          97432.71875,
          96675.4296875,
          101173.03125,
          100043,
          101459.2578125,
          101372.96875,
          104298.6953125,
          106029.71875,
          106140.6015625,
          100041.5390625,
          97490.953125,
          97755.9296875,
          97224.7265625,
          95104.9375,
          94686.2421875,
          98676.09375,
          99299.1953125,
          95795.515625,
          94164.859375,
          95163.9296875,
          93530.2265625,
          92643.2109375,
          93429.203125,
          94419.7578125,
          96886.875,
          98107.4296875,
          98236.2265625,
          98314.9609375,
          102078.0859375,
          96922.703125,
          95043.5234375,
          92484.0390625,
          94701.453125,
          94566.59375,
          94488.4375,
          94516.5234375,
          96534.046875,
          100504.4921875,
          99756.90625,
          104462.0390625,
          104408.0703125,
          101089.609375,
          102016.6640625,
          106146.265625,
          103653.0703125,
          103960.171875,
          104819.484375,
          104714.6484375,
          102682.5,
          102087.6875,
          101332.4765625,
          103703.2109375,
          104735.3046875,
          102405.0234375
         ]
        }
       ],
       "layout": {
        "height": 600,
        "plot_bgcolor": "lightgrey",
        "template": {
         "data": {
          "bar": [
           {
            "error_x": {
             "color": "#2a3f5f"
            },
            "error_y": {
             "color": "#2a3f5f"
            },
            "marker": {
             "line": {
              "color": "#E5ECF6",
              "width": 0.5
             },
             "pattern": {
              "fillmode": "overlay",
              "size": 10,
              "solidity": 0.2
             }
            },
            "type": "bar"
           }
          ],
          "barpolar": [
           {
            "marker": {
             "line": {
              "color": "#E5ECF6",
              "width": 0.5
             },
             "pattern": {
              "fillmode": "overlay",
              "size": 10,
              "solidity": 0.2
             }
            },
            "type": "barpolar"
           }
          ],
          "carpet": [
           {
            "aaxis": {
             "endlinecolor": "#2a3f5f",
             "gridcolor": "white",
             "linecolor": "white",
             "minorgridcolor": "white",
             "startlinecolor": "#2a3f5f"
            },
            "baxis": {
             "endlinecolor": "#2a3f5f",
             "gridcolor": "white",
             "linecolor": "white",
             "minorgridcolor": "white",
             "startlinecolor": "#2a3f5f"
            },
            "type": "carpet"
           }
          ],
          "choropleth": [
           {
            "colorbar": {
             "outlinewidth": 0,
             "ticks": ""
            },
            "type": "choropleth"
           }
          ],
          "contour": [
           {
            "colorbar": {
             "outlinewidth": 0,
             "ticks": ""
            },
            "colorscale": [
             [
              0,
              "#0d0887"
             ],
             [
              0.1111111111111111,
              "#46039f"
             ],
             [
              0.2222222222222222,
              "#7201a8"
             ],
             [
              0.3333333333333333,
              "#9c179e"
             ],
             [
              0.4444444444444444,
              "#bd3786"
             ],
             [
              0.5555555555555556,
              "#d8576b"
             ],
             [
              0.6666666666666666,
              "#ed7953"
             ],
             [
              0.7777777777777778,
              "#fb9f3a"
             ],
             [
              0.8888888888888888,
              "#fdca26"
             ],
             [
              1,
              "#f0f921"
             ]
            ],
            "type": "contour"
           }
          ],
          "contourcarpet": [
           {
            "colorbar": {
             "outlinewidth": 0,
             "ticks": ""
            },
            "type": "contourcarpet"
           }
          ],
          "heatmap": [
           {
            "colorbar": {
             "outlinewidth": 0,
             "ticks": ""
            },
            "colorscale": [
             [
              0,
              "#0d0887"
             ],
             [
              0.1111111111111111,
              "#46039f"
             ],
             [
              0.2222222222222222,
              "#7201a8"
             ],
             [
              0.3333333333333333,
              "#9c179e"
             ],
             [
              0.4444444444444444,
              "#bd3786"
             ],
             [
              0.5555555555555556,
              "#d8576b"
             ],
             [
              0.6666666666666666,
              "#ed7953"
             ],
             [
              0.7777777777777778,
              "#fb9f3a"
             ],
             [
              0.8888888888888888,
              "#fdca26"
             ],
             [
              1,
              "#f0f921"
             ]
            ],
            "type": "heatmap"
           }
          ],
          "heatmapgl": [
           {
            "colorbar": {
             "outlinewidth": 0,
             "ticks": ""
            },
            "colorscale": [
             [
              0,
              "#0d0887"
             ],
             [
              0.1111111111111111,
              "#46039f"
             ],
             [
              0.2222222222222222,
              "#7201a8"
             ],
             [
              0.3333333333333333,
              "#9c179e"
             ],
             [
              0.4444444444444444,
              "#bd3786"
             ],
             [
              0.5555555555555556,
              "#d8576b"
             ],
             [
              0.6666666666666666,
              "#ed7953"
             ],
             [
              0.7777777777777778,
              "#fb9f3a"
             ],
             [
              0.8888888888888888,
              "#fdca26"
             ],
             [
              1,
              "#f0f921"
             ]
            ],
            "type": "heatmapgl"
           }
          ],
          "histogram": [
           {
            "marker": {
             "pattern": {
              "fillmode": "overlay",
              "size": 10,
              "solidity": 0.2
             }
            },
            "type": "histogram"
           }
          ],
          "histogram2d": [
           {
            "colorbar": {
             "outlinewidth": 0,
             "ticks": ""
            },
            "colorscale": [
             [
              0,
              "#0d0887"
             ],
             [
              0.1111111111111111,
              "#46039f"
             ],
             [
              0.2222222222222222,
              "#7201a8"
             ],
             [
              0.3333333333333333,
              "#9c179e"
             ],
             [
              0.4444444444444444,
              "#bd3786"
             ],
             [
              0.5555555555555556,
              "#d8576b"
             ],
             [
              0.6666666666666666,
              "#ed7953"
             ],
             [
              0.7777777777777778,
              "#fb9f3a"
             ],
             [
              0.8888888888888888,
              "#fdca26"
             ],
             [
              1,
              "#f0f921"
             ]
            ],
            "type": "histogram2d"
           }
          ],
          "histogram2dcontour": [
           {
            "colorbar": {
             "outlinewidth": 0,
             "ticks": ""
            },
            "colorscale": [
             [
              0,
              "#0d0887"
             ],
             [
              0.1111111111111111,
              "#46039f"
             ],
             [
              0.2222222222222222,
              "#7201a8"
             ],
             [
              0.3333333333333333,
              "#9c179e"
             ],
             [
              0.4444444444444444,
              "#bd3786"
             ],
             [
              0.5555555555555556,
              "#d8576b"
             ],
             [
              0.6666666666666666,
              "#ed7953"
             ],
             [
              0.7777777777777778,
              "#fb9f3a"
             ],
             [
              0.8888888888888888,
              "#fdca26"
             ],
             [
              1,
              "#f0f921"
             ]
            ],
            "type": "histogram2dcontour"
           }
          ],
          "mesh3d": [
           {
            "colorbar": {
             "outlinewidth": 0,
             "ticks": ""
            },
            "type": "mesh3d"
           }
          ],
          "parcoords": [
           {
            "line": {
             "colorbar": {
              "outlinewidth": 0,
              "ticks": ""
             }
            },
            "type": "parcoords"
           }
          ],
          "pie": [
           {
            "automargin": true,
            "type": "pie"
           }
          ],
          "scatter": [
           {
            "fillpattern": {
             "fillmode": "overlay",
             "size": 10,
             "solidity": 0.2
            },
            "type": "scatter"
           }
          ],
          "scatter3d": [
           {
            "line": {
             "colorbar": {
              "outlinewidth": 0,
              "ticks": ""
             }
            },
            "marker": {
             "colorbar": {
              "outlinewidth": 0,
              "ticks": ""
             }
            },
            "type": "scatter3d"
           }
          ],
          "scattercarpet": [
           {
            "marker": {
             "colorbar": {
              "outlinewidth": 0,
              "ticks": ""
             }
            },
            "type": "scattercarpet"
           }
          ],
          "scattergeo": [
           {
            "marker": {
             "colorbar": {
              "outlinewidth": 0,
              "ticks": ""
             }
            },
            "type": "scattergeo"
           }
          ],
          "scattergl": [
           {
            "marker": {
             "colorbar": {
              "outlinewidth": 0,
              "ticks": ""
             }
            },
            "type": "scattergl"
           }
          ],
          "scattermapbox": [
           {
            "marker": {
             "colorbar": {
              "outlinewidth": 0,
              "ticks": ""
             }
            },
            "type": "scattermapbox"
           }
          ],
          "scatterpolar": [
           {
            "marker": {
             "colorbar": {
              "outlinewidth": 0,
              "ticks": ""
             }
            },
            "type": "scatterpolar"
           }
          ],
          "scatterpolargl": [
           {
            "marker": {
             "colorbar": {
              "outlinewidth": 0,
              "ticks": ""
             }
            },
            "type": "scatterpolargl"
           }
          ],
          "scatterternary": [
           {
            "marker": {
             "colorbar": {
              "outlinewidth": 0,
              "ticks": ""
             }
            },
            "type": "scatterternary"
           }
          ],
          "surface": [
           {
            "colorbar": {
             "outlinewidth": 0,
             "ticks": ""
            },
            "colorscale": [
             [
              0,
              "#0d0887"
             ],
             [
              0.1111111111111111,
              "#46039f"
             ],
             [
              0.2222222222222222,
              "#7201a8"
             ],
             [
              0.3333333333333333,
              "#9c179e"
             ],
             [
              0.4444444444444444,
              "#bd3786"
             ],
             [
              0.5555555555555556,
              "#d8576b"
             ],
             [
              0.6666666666666666,
              "#ed7953"
             ],
             [
              0.7777777777777778,
              "#fb9f3a"
             ],
             [
              0.8888888888888888,
              "#fdca26"
             ],
             [
              1,
              "#f0f921"
             ]
            ],
            "type": "surface"
           }
          ],
          "table": [
           {
            "cells": {
             "fill": {
              "color": "#EBF0F8"
             },
             "line": {
              "color": "white"
             }
            },
            "header": {
             "fill": {
              "color": "#C8D4E3"
             },
             "line": {
              "color": "white"
             }
            },
            "type": "table"
           }
          ]
         },
         "layout": {
          "annotationdefaults": {
           "arrowcolor": "#2a3f5f",
           "arrowhead": 0,
           "arrowwidth": 1
          },
          "autotypenumbers": "strict",
          "coloraxis": {
           "colorbar": {
            "outlinewidth": 0,
            "ticks": ""
           }
          },
          "colorscale": {
           "diverging": [
            [
             0,
             "#8e0152"
            ],
            [
             0.1,
             "#c51b7d"
            ],
            [
             0.2,
             "#de77ae"
            ],
            [
             0.3,
             "#f1b6da"
            ],
            [
             0.4,
             "#fde0ef"
            ],
            [
             0.5,
             "#f7f7f7"
            ],
            [
             0.6,
             "#e6f5d0"
            ],
            [
             0.7,
             "#b8e186"
            ],
            [
             0.8,
             "#7fbc41"
            ],
            [
             0.9,
             "#4d9221"
            ],
            [
             1,
             "#276419"
            ]
           ],
           "sequential": [
            [
             0,
             "#0d0887"
            ],
            [
             0.1111111111111111,
             "#46039f"
            ],
            [
             0.2222222222222222,
             "#7201a8"
            ],
            [
             0.3333333333333333,
             "#9c179e"
            ],
            [
             0.4444444444444444,
             "#bd3786"
            ],
            [
             0.5555555555555556,
             "#d8576b"
            ],
            [
             0.6666666666666666,
             "#ed7953"
            ],
            [
             0.7777777777777778,
             "#fb9f3a"
            ],
            [
             0.8888888888888888,
             "#fdca26"
            ],
            [
             1,
             "#f0f921"
            ]
           ],
           "sequentialminus": [
            [
             0,
             "#0d0887"
            ],
            [
             0.1111111111111111,
             "#46039f"
            ],
            [
             0.2222222222222222,
             "#7201a8"
            ],
            [
             0.3333333333333333,
             "#9c179e"
            ],
            [
             0.4444444444444444,
             "#bd3786"
            ],
            [
             0.5555555555555556,
             "#d8576b"
            ],
            [
             0.6666666666666666,
             "#ed7953"
            ],
            [
             0.7777777777777778,
             "#fb9f3a"
            ],
            [
             0.8888888888888888,
             "#fdca26"
            ],
            [
             1,
             "#f0f921"
            ]
           ]
          },
          "colorway": [
           "#636efa",
           "#EF553B",
           "#00cc96",
           "#ab63fa",
           "#FFA15A",
           "#19d3f3",
           "#FF6692",
           "#B6E880",
           "#FF97FF",
           "#FECB52"
          ],
          "font": {
           "color": "#2a3f5f"
          },
          "geo": {
           "bgcolor": "white",
           "lakecolor": "white",
           "landcolor": "#E5ECF6",
           "showlakes": true,
           "showland": true,
           "subunitcolor": "white"
          },
          "hoverlabel": {
           "align": "left"
          },
          "hovermode": "closest",
          "mapbox": {
           "style": "light"
          },
          "paper_bgcolor": "white",
          "plot_bgcolor": "#E5ECF6",
          "polar": {
           "angularaxis": {
            "gridcolor": "white",
            "linecolor": "white",
            "ticks": ""
           },
           "bgcolor": "#E5ECF6",
           "radialaxis": {
            "gridcolor": "white",
            "linecolor": "white",
            "ticks": ""
           }
          },
          "scene": {
           "xaxis": {
            "backgroundcolor": "#E5ECF6",
            "gridcolor": "white",
            "gridwidth": 2,
            "linecolor": "white",
            "showbackground": true,
            "ticks": "",
            "zerolinecolor": "white"
           },
           "yaxis": {
            "backgroundcolor": "#E5ECF6",
            "gridcolor": "white",
            "gridwidth": 2,
            "linecolor": "white",
            "showbackground": true,
            "ticks": "",
            "zerolinecolor": "white"
           },
           "zaxis": {
            "backgroundcolor": "#E5ECF6",
            "gridcolor": "white",
            "gridwidth": 2,
            "linecolor": "white",
            "showbackground": true,
            "ticks": "",
            "zerolinecolor": "white"
           }
          },
          "shapedefaults": {
           "line": {
            "color": "#2a3f5f"
           }
          },
          "ternary": {
           "aaxis": {
            "gridcolor": "white",
            "linecolor": "white",
            "ticks": ""
           },
           "baxis": {
            "gridcolor": "white",
            "linecolor": "white",
            "ticks": ""
           },
           "bgcolor": "#E5ECF6",
           "caxis": {
            "gridcolor": "white",
            "linecolor": "white",
            "ticks": ""
           }
          },
          "title": {
           "x": 0.05
          },
          "xaxis": {
           "automargin": true,
           "gridcolor": "white",
           "linecolor": "white",
           "ticks": "",
           "title": {
            "standoff": 15
           },
           "zerolinecolor": "white",
           "zerolinewidth": 2
          },
          "yaxis": {
           "automargin": true,
           "gridcolor": "white",
           "linecolor": "white",
           "ticks": "",
           "title": {
            "standoff": 15
           },
           "zerolinecolor": "white",
           "zerolinewidth": 2
          }
         }
        },
        "width": 1050,
        "xaxis": {
         "rangeslider": {
          "visible": false
         },
         "title": {
          "text": "Date"
         }
        },
        "yaxis": {
         "title": {
          "text": "BTC-USD Bolinger Bands"
         }
        }
       }
      }
     },
     "metadata": {},
     "output_type": "display_data"
    }
   ],
   "source": [
    "#BB\n",
    "fig = go.Figure()\n",
    "fig.add_trace(go.Scatter(x=stock_data.index, y=stock_data['UB'], mode='lines', name='Upper Bollinger Band', visible=True, line=dict(color='red')))\n",
    "fig.add_trace(go.Scatter(x=stock_data.index, y=stock_data['LB'], fill='tonexty', mode='lines', name='Lower Bollinger Band', visible=True, line=dict(color='green')))\n",
    "fig.add_trace(go.Scatter(x=stock_data.index, y=stock_data['M20'], mode='lines', name='Middle Bollinger Band', visible=True, line=dict(color='blue')))\n",
    "fig.add_trace(go.Scatter(x=stock_data.index, y=stock_data['Close'], mode='lines', name='Price (Bollinger)', visible=True, line=dict(color='black')))\n",
    "fig.update_layout(\n",
    "    xaxis_rangeslider_visible=False,\n",
    "    yaxis_title=f'{ticker} Bolinger Bands',\n",
    "    xaxis_title='Date',\n",
    "    plot_bgcolor='lightgrey',\n",
    "    width=1050,\n",
    "    height=600\n",
    ")\n",
    "fig.show()\n",
    "fig.write_image('./images/Bollinger_Bands.png')"
   ]
  },
  {
   "cell_type": "code",
   "execution_count": 15,
   "metadata": {},
   "outputs": [
    {
     "data": {
      "image/png": "[encoded data removed]",
      "text/plain": [
       "<Figure size 1200x800 with 1 Axes>"
      ]
     },
     "metadata": {},
     "output_type": "display_data"
    },
    {
     "data": {
      "text/plain": [
       "<Figure size 640x480 with 0 Axes>"
      ]
     },
     "metadata": {},
     "output_type": "display_data"
    }
   ],
   "source": [
    "plt.figure(figsize=(12,8))\n",
    "plt.plot(stock_data.index, stock_data['Close'], label='Stock Price', linewidth=0.8, alpha=0.2)\n",
    "\n",
    "plt.plot(stock_data.index, stock_data['M10'], label='M10', linewidth=1, alpha=1)\n",
    "plt.plot(stock_data.index, stock_data['M20'], label='M20', linewidth=1, alpha=1)\n",
    "\n",
    "plt.xlabel('Date', fontsize=12)\n",
    "plt.ylabel('Price', fontsize=12)\n",
    "plt.title('Stock Price with M10 and M20 Moving Averages', fontsize=14)\n",
    "plt.legend(fontsize=12)\n",
    "plt.xticks(rotation=45)\n",
    "plt.show()\n",
    "plt.savefig('./images/M10_M20.png')"
   ]
  },
  {
   "cell_type": "markdown",
   "metadata": {},
   "source": [
    "Sharpe and Sortino Ratio"
   ]
  },
  {
   "cell_type": "code",
   "execution_count": null,
   "metadata": {},
   "outputs": [],
   "source": []
  }
 ],
 "metadata": {
  "kernelspec": {
   "display_name": "DataScience",
   "language": "python",
   "name": "python3"
  },
  "language_info": {
   "codemirror_mode": {
    "name": "ipython",
    "version": 3
   },
   "file_extension": ".py",
   "mimetype": "text/x-python",
   "name": "python",
   "nbconvert_exporter": "python",
   "pygments_lexer": "ipython3",
   "version": "3.11.9"
  }
 },
 "nbformat": 4,
 "nbformat_minor": 2
}
