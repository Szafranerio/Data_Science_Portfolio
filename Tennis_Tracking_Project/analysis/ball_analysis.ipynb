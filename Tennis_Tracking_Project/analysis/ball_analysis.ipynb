{
 "cells": [
  {
   "cell_type": "code",
   "execution_count": 14,
   "metadata": {},
   "outputs": [],
   "source": [
    "import pickle\n",
    "import pandas as pd\n",
    "import matplotlib.pyplot as plt"
   ]
  },
  {
   "cell_type": "code",
   "execution_count": 15,
   "metadata": {},
   "outputs": [],
   "source": [
    "with open('../tracker_stubs/ball_detections.pkl', 'rb') as f:\n",
    "    ball_positions = pickle.load(f)"
   ]
  },
  {
   "cell_type": "code",
   "execution_count": 16,
   "metadata": {},
   "outputs": [],
   "source": [
    "ball_positions = [x.get(1,[]) for x in ball_positions]\n",
    "        #Convert list to dataframe\n",
    "df_ball_positions = pd.DataFrame(ball_positions, columns=['x1', 'y1', 'x','y2'])\n",
    "        \n",
    "        #Interpolate missing values\n",
    "df_ball_positions = df_ball_positions.interpolate()\n",
    "df_ball_positions = df_ball_positions.bfill()\n",
    "        "
   ]
  },
  {
   "cell_type": "code",
   "execution_count": 17,
   "metadata": {},
   "outputs": [
    {
     "data": {
      "application/vnd.microsoft.datawrangler.viewer.v0+json": {
       "columns": [
        {
         "name": "index",
         "rawType": "int64",
         "type": "integer"
        },
        {
         "name": "x1",
         "rawType": "float64",
         "type": "float"
        },
        {
         "name": "y1",
         "rawType": "float64",
         "type": "float"
        },
        {
         "name": "x",
         "rawType": "float64",
         "type": "float"
        },
        {
         "name": "y2",
         "rawType": "float64",
         "type": "float"
        }
       ],
       "conversionMethod": "pd.DataFrame",
       "ref": "2a280967-fa2c-48e1-a384-ce57f5f8fcf2",
       "rows": [
        [
         "0",
         "892.0748291015625",
         "612.5906372070312",
         "913.81787109375",
         "637.8134155273438"
        ],
        [
         "1",
         "892.0748291015625",
         "612.5906372070312",
         "913.81787109375",
         "637.8134155273438"
        ],
        [
         "2",
         "877.8343139648438",
         "627.543896484375",
         "898.9328247070313",
         "651.5756469726563"
        ],
        [
         "3",
         "863.593798828125",
         "642.4971557617188",
         "884.0477783203125",
         "665.3378784179688"
        ],
        [
         "4",
         "849.3532836914062",
         "657.4504150390625",
         "869.1627319335937",
         "679.1001098632812"
        ],
        [
         "5",
         "835.1127685546875",
         "672.4036743164063",
         "854.277685546875",
         "692.8623413085937"
        ],
        [
         "6",
         "820.8722534179688",
         "687.35693359375",
         "839.3926391601562",
         "706.6245727539062"
        ],
        [
         "7",
         "811.3956909179688",
         "695.209716796875",
         "831.0787963867188",
         "717.6956176757812"
        ],
        [
         "8",
         "796.7531127929688",
         "718.4324340820312",
         "814.6842651367188",
         "738.13916015625"
        ],
        [
         "9",
         "781.02685546875",
         "743.9619140625",
         "797.6162109375",
         "761.2033081054688"
        ],
        [
         "10",
         "767.5997314453125",
         "758.3452758789062",
         "789.72216796875",
         "782.1962280273438"
        ],
        [
         "11",
         "777.444580078125",
         "716.86328125",
         "796.779052734375",
         "737.6292724609375"
        ],
        [
         "12",
         "785.8359375",
         "681.6314392089844",
         "805.1907348632812",
         "702.7625427246094"
        ],
        [
         "13",
         "794.227294921875",
         "646.3995971679688",
         "813.6024169921875",
         "667.8958129882812"
        ],
        [
         "14",
         "802.6751098632812",
         "606.7346801757812",
         "823.1248779296875",
         "627.2681274414062"
        ],
        [
         "15",
         "814.85595703125",
         "569.3412475585938",
         "831.3519287109375",
         "587.9661865234375"
        ],
        [
         "16",
         "818.6026611328125",
         "550.8919067382812",
         "836.5587158203125",
         "571.2074584960938"
        ],
        [
         "17",
         "826.0391235351562",
         "521.6098022460938",
         "844.067138671875",
         "539.7877807617188"
        ],
        [
         "18",
         "832.104736328125",
         "501.3279724121094",
         "849.7530822753906",
         "519.3314819335938"
        ],
        [
         "19",
         "838.1703491210938",
         "481.046142578125",
         "855.4390258789062",
         "498.87518310546875"
        ],
        [
         "20",
         "844.2359619140625",
         "460.7643127441406",
         "861.1249694824219",
         "478.41888427734375"
        ],
        [
         "21",
         "850.3015747070312",
         "440.48248291015625",
         "866.8109130859375",
         "457.96258544921875"
        ],
        [
         "22",
         "856.3671875",
         "420.2006530761719",
         "872.4968566894531",
         "437.50628662109375"
        ],
        [
         "23",
         "862.4328002929688",
         "399.9188232421875",
         "878.1828002929688",
         "417.04998779296875"
        ],
        [
         "24",
         "866.9059753417969",
         "388.44419860839844",
         "883.0185241699219",
         "405.83253479003906"
        ],
        [
         "25",
         "871.379150390625",
         "376.9695739746094",
         "887.854248046875",
         "394.6150817871094"
        ],
        [
         "26",
         "877.1653442382812",
         "359.9363708496094",
         "893.6580200195312",
         "377.2944030761719"
        ],
        [
         "27",
         "880.597900390625",
         "351.4220428466797",
         "897.6631469726562",
         "369.3373718261719"
        ],
        [
         "28",
         "884.0304565429688",
         "342.90771484375",
         "901.6682739257812",
         "361.3803405761719"
        ],
        [
         "29",
         "890.4737548828125",
         "333.3049621582031",
         "904.970947265625",
         "348.154541015625"
        ],
        [
         "30",
         "893.7932739257812",
         "324.2364196777344",
         "909.1909790039062",
         "339.7915954589844"
        ],
        [
         "31",
         "896.4656982421875",
         "319.64788818359375",
         "911.3822021484375",
         "337.12774658203125"
        ],
        [
         "32",
         "899.0279497419085",
         "318.93170166015625",
         "914.1362697056362",
         "336.435300554548"
        ],
        [
         "33",
         "901.5902012416294",
         "318.21551513671875",
         "916.8903372628348",
         "335.7428545270647"
        ],
        [
         "34",
         "904.1524527413504",
         "317.49932861328125",
         "919.6444048200335",
         "335.05040849958147"
        ],
        [
         "35",
         "906.7147042410714",
         "316.78314208984375",
         "922.3984723772321",
         "334.3579624720982"
        ],
        [
         "36",
         "909.2769557407925",
         "316.06695556640625",
         "925.1525399344308",
         "333.665516444615"
        ],
        [
         "37",
         "911.8392072405134",
         "315.35076904296875",
         "927.9066074916294",
         "332.9730704171317"
        ],
        [
         "38",
         "914.4014587402344",
         "314.63458251953125",
         "930.6606750488281",
         "332.28062438964844"
        ],
        [
         "39",
         "916.9637102399554",
         "313.91839599609375",
         "933.4147426060268",
         "331.5881783621652"
        ],
        [
         "40",
         "919.5259617396763",
         "313.20220947265625",
         "936.1688101632254",
         "330.8957323346819"
        ],
        [
         "41",
         "922.0882132393973",
         "312.48602294921875",
         "938.9228777204241",
         "330.20328630719865"
        ],
        [
         "42",
         "924.6504647391183",
         "311.76983642578125",
         "941.6769452776227",
         "329.5108402797154"
        ],
        [
         "43",
         "927.2127162388393",
         "311.05364990234375",
         "944.4310128348214",
         "328.81839425223217"
        ],
        [
         "44",
         "929.7749677385602",
         "310.33746337890625",
         "947.18508039202",
         "328.12594822474887"
        ],
        [
         "45",
         "932.3372192382812",
         "309.62127685546875",
         "949.9391479492188",
         "327.4335021972656"
        ],
        [
         "46",
         "933.147216796875",
         "315.1134338378906",
         "948.4984130859375",
         "331.18756103515625"
        ],
        [
         "47",
         "935.0685882568359",
         "305.13671875",
         "950.4868011474609",
         "321.1419982910156"
        ],
        [
         "48",
         "936.9899597167969",
         "295.1600036621094",
         "952.4751892089844",
         "311.096435546875"
        ],
        [
         "49",
         "938.9113311767578",
         "285.18328857421875",
         "954.4635772705078",
         "301.0508728027344"
        ]
       ],
       "shape": {
        "columns": 4,
        "rows": 214
       }
      },
      "text/html": [
       "<div>\n",
       "<style scoped>\n",
       "    .dataframe tbody tr th:only-of-type {\n",
       "        vertical-align: middle;\n",
       "    }\n",
       "\n",
       "    .dataframe tbody tr th {\n",
       "        vertical-align: top;\n",
       "    }\n",
       "\n",
       "    .dataframe thead th {\n",
       "        text-align: right;\n",
       "    }\n",
       "</style>\n",
       "<table border=\"1\" class=\"dataframe\">\n",
       "  <thead>\n",
       "    <tr style=\"text-align: right;\">\n",
       "      <th></th>\n",
       "      <th>x1</th>\n",
       "      <th>y1</th>\n",
       "      <th>x</th>\n",
       "      <th>y2</th>\n",
       "    </tr>\n",
       "  </thead>\n",
       "  <tbody>\n",
       "    <tr>\n",
       "      <th>0</th>\n",
       "      <td>892.074829</td>\n",
       "      <td>612.590637</td>\n",
       "      <td>913.817871</td>\n",
       "      <td>637.813416</td>\n",
       "    </tr>\n",
       "    <tr>\n",
       "      <th>1</th>\n",
       "      <td>892.074829</td>\n",
       "      <td>612.590637</td>\n",
       "      <td>913.817871</td>\n",
       "      <td>637.813416</td>\n",
       "    </tr>\n",
       "    <tr>\n",
       "      <th>2</th>\n",
       "      <td>877.834314</td>\n",
       "      <td>627.543896</td>\n",
       "      <td>898.932825</td>\n",
       "      <td>651.575647</td>\n",
       "    </tr>\n",
       "    <tr>\n",
       "      <th>3</th>\n",
       "      <td>863.593799</td>\n",
       "      <td>642.497156</td>\n",
       "      <td>884.047778</td>\n",
       "      <td>665.337878</td>\n",
       "    </tr>\n",
       "    <tr>\n",
       "      <th>4</th>\n",
       "      <td>849.353284</td>\n",
       "      <td>657.450415</td>\n",
       "      <td>869.162732</td>\n",
       "      <td>679.100110</td>\n",
       "    </tr>\n",
       "    <tr>\n",
       "      <th>...</th>\n",
       "      <td>...</td>\n",
       "      <td>...</td>\n",
       "      <td>...</td>\n",
       "      <td>...</td>\n",
       "    </tr>\n",
       "    <tr>\n",
       "      <th>209</th>\n",
       "      <td>1185.265991</td>\n",
       "      <td>247.428406</td>\n",
       "      <td>1201.234253</td>\n",
       "      <td>265.520416</td>\n",
       "    </tr>\n",
       "    <tr>\n",
       "      <th>210</th>\n",
       "      <td>1183.700073</td>\n",
       "      <td>232.743530</td>\n",
       "      <td>1198.370483</td>\n",
       "      <td>248.152588</td>\n",
       "    </tr>\n",
       "    <tr>\n",
       "      <th>211</th>\n",
       "      <td>1184.037720</td>\n",
       "      <td>225.709045</td>\n",
       "      <td>1198.459839</td>\n",
       "      <td>241.708252</td>\n",
       "    </tr>\n",
       "    <tr>\n",
       "      <th>212</th>\n",
       "      <td>1180.887207</td>\n",
       "      <td>214.220581</td>\n",
       "      <td>1196.540771</td>\n",
       "      <td>229.638336</td>\n",
       "    </tr>\n",
       "    <tr>\n",
       "      <th>213</th>\n",
       "      <td>1180.015991</td>\n",
       "      <td>204.711685</td>\n",
       "      <td>1193.255615</td>\n",
       "      <td>218.738617</td>\n",
       "    </tr>\n",
       "  </tbody>\n",
       "</table>\n",
       "<p>214 rows × 4 columns</p>\n",
       "</div>"
      ],
      "text/plain": [
       "              x1          y1            x          y2\n",
       "0     892.074829  612.590637   913.817871  637.813416\n",
       "1     892.074829  612.590637   913.817871  637.813416\n",
       "2     877.834314  627.543896   898.932825  651.575647\n",
       "3     863.593799  642.497156   884.047778  665.337878\n",
       "4     849.353284  657.450415   869.162732  679.100110\n",
       "..           ...         ...          ...         ...\n",
       "209  1185.265991  247.428406  1201.234253  265.520416\n",
       "210  1183.700073  232.743530  1198.370483  248.152588\n",
       "211  1184.037720  225.709045  1198.459839  241.708252\n",
       "212  1180.887207  214.220581  1196.540771  229.638336\n",
       "213  1180.015991  204.711685  1193.255615  218.738617\n",
       "\n",
       "[214 rows x 4 columns]"
      ]
     },
     "execution_count": 17,
     "metadata": {},
     "output_type": "execute_result"
    }
   ],
   "source": [
    "df_ball_positions"
   ]
  },
  {
   "cell_type": "code",
   "execution_count": null,
   "metadata": {},
   "outputs": [],
   "source": [
    "df_ball_positions['mid_y'] = (df_ball_positions['y1'] + df_ball_positions['y2'])/2\n",
    "df_ball_positions['mid_y_rolling_mean'] = df_ball_positions['mid_y'].rolling(window=5, min_periods=1, center=False).mean()\n",
    "df_ball_positions['delta_y'] = df_ball_positions['mid_y_rolling_mean'].diff()"
   ]
  },
  {
   "cell_type": "code",
   "execution_count": 19,
   "metadata": {},
   "outputs": [
    {
     "data": {
      "text/plain": [
       "[<matplotlib.lines.Line2D at 0x129788d60>]"
      ]
     },
     "execution_count": 19,
     "metadata": {},
     "output_type": "execute_result"
    },
    {
     "data": {
      "image/png": "[encoded data removed]",
      "text/plain": [
       "<Figure size 640x480 with 1 Axes>"
      ]
     },
     "metadata": {},
     "output_type": "display_data"
    }
   ],
   "source": [
    "#Plot\n",
    "plt.plot(df_ball_positions['mid_y_rolling_mean'])"
   ]
  },
  {
   "cell_type": "code",
   "execution_count": 20,
   "metadata": {},
   "outputs": [],
   "source": [
    "df_ball_positions['delta_y'] = df_ball_positions['mid_y_rolling_mean'].diff()"
   ]
  },
  {
   "cell_type": "code",
   "execution_count": 22,
   "metadata": {},
   "outputs": [
    {
     "data": {
      "text/plain": [
       "[<matplotlib.lines.Line2D at 0x12977ea70>]"
      ]
     },
     "execution_count": 22,
     "metadata": {},
     "output_type": "execute_result"
    },
    {
     "data": {
      "image/png": "[encoded data removed]",
      "text/plain": [
       "<Figure size 640x480 with 1 Axes>"
      ]
     },
     "metadata": {},
     "output_type": "display_data"
    }
   ],
   "source": [
    "#When ball was hit\n",
    "plt.plot(df_ball_positions['delta_y'])"
   ]
  },
  {
   "cell_type": "code",
   "execution_count": 23,
   "metadata": {},
   "outputs": [],
   "source": [
    "df_ball_positions['ball_hit'] = 0"
   ]
  },
  {
   "cell_type": "code",
   "execution_count": 34,
   "metadata": {},
   "outputs": [
    {
     "name": "stderr",
     "output_type": "stream",
     "text": [
      "/var/folders/bj/p18ygv1s6wbg6865d00fd5h80000gn/T/ipykernel_5753/1153886114.py:19: FutureWarning: ChainedAssignmentError: behaviour will change in pandas 3.0!\n",
      "You are setting values through chained assignment. Currently this works in certain cases, but when using Copy-on-Write (which will become the default behaviour in pandas 3.0) this will never work to update the original DataFrame or Series, because the intermediate object on which we are setting values will behave as a copy.\n",
      "A typical example is when you are setting values in a column of a DataFrame, like:\n",
      "\n",
      "df[\"col\"][row_indexer] = value\n",
      "\n",
      "Use `df.loc[row_indexer, \"col\"] = values` instead, to perform the assignment in a single step and ensure this keeps updating the original `df`.\n",
      "\n",
      "See the caveats in the documentation: https://pandas.pydata.org/pandas-docs/stable/user_guide/indexing.html#returning-a-view-versus-a-copy\n",
      "\n",
      "  df_ball_positions['ball_hit'].iloc[i] = 1\n",
      "/var/folders/bj/p18ygv1s6wbg6865d00fd5h80000gn/T/ipykernel_5753/1153886114.py:19: SettingWithCopyWarning: \n",
      "A value is trying to be set on a copy of a slice from a DataFrame\n",
      "\n",
      "See the caveats in the documentation: https://pandas.pydata.org/pandas-docs/stable/user_guide/indexing.html#returning-a-view-versus-a-copy\n",
      "  df_ball_positions['ball_hit'].iloc[i] = 1\n",
      "/var/folders/bj/p18ygv1s6wbg6865d00fd5h80000gn/T/ipykernel_5753/1153886114.py:19: FutureWarning: ChainedAssignmentError: behaviour will change in pandas 3.0!\n",
      "You are setting values through chained assignment. Currently this works in certain cases, but when using Copy-on-Write (which will become the default behaviour in pandas 3.0) this will never work to update the original DataFrame or Series, because the intermediate object on which we are setting values will behave as a copy.\n",
      "A typical example is when you are setting values in a column of a DataFrame, like:\n",
      "\n",
      "df[\"col\"][row_indexer] = value\n",
      "\n",
      "Use `df.loc[row_indexer, \"col\"] = values` instead, to perform the assignment in a single step and ensure this keeps updating the original `df`.\n",
      "\n",
      "See the caveats in the documentation: https://pandas.pydata.org/pandas-docs/stable/user_guide/indexing.html#returning-a-view-versus-a-copy\n",
      "\n",
      "  df_ball_positions['ball_hit'].iloc[i] = 1\n",
      "/var/folders/bj/p18ygv1s6wbg6865d00fd5h80000gn/T/ipykernel_5753/1153886114.py:19: SettingWithCopyWarning: \n",
      "A value is trying to be set on a copy of a slice from a DataFrame\n",
      "\n",
      "See the caveats in the documentation: https://pandas.pydata.org/pandas-docs/stable/user_guide/indexing.html#returning-a-view-versus-a-copy\n",
      "  df_ball_positions['ball_hit'].iloc[i] = 1\n",
      "/var/folders/bj/p18ygv1s6wbg6865d00fd5h80000gn/T/ipykernel_5753/1153886114.py:19: FutureWarning: ChainedAssignmentError: behaviour will change in pandas 3.0!\n",
      "You are setting values through chained assignment. Currently this works in certain cases, but when using Copy-on-Write (which will become the default behaviour in pandas 3.0) this will never work to update the original DataFrame or Series, because the intermediate object on which we are setting values will behave as a copy.\n",
      "A typical example is when you are setting values in a column of a DataFrame, like:\n",
      "\n",
      "df[\"col\"][row_indexer] = value\n",
      "\n",
      "Use `df.loc[row_indexer, \"col\"] = values` instead, to perform the assignment in a single step and ensure this keeps updating the original `df`.\n",
      "\n",
      "See the caveats in the documentation: https://pandas.pydata.org/pandas-docs/stable/user_guide/indexing.html#returning-a-view-versus-a-copy\n",
      "\n",
      "  df_ball_positions['ball_hit'].iloc[i] = 1\n",
      "/var/folders/bj/p18ygv1s6wbg6865d00fd5h80000gn/T/ipykernel_5753/1153886114.py:19: SettingWithCopyWarning: \n",
      "A value is trying to be set on a copy of a slice from a DataFrame\n",
      "\n",
      "See the caveats in the documentation: https://pandas.pydata.org/pandas-docs/stable/user_guide/indexing.html#returning-a-view-versus-a-copy\n",
      "  df_ball_positions['ball_hit'].iloc[i] = 1\n",
      "/var/folders/bj/p18ygv1s6wbg6865d00fd5h80000gn/T/ipykernel_5753/1153886114.py:19: FutureWarning: ChainedAssignmentError: behaviour will change in pandas 3.0!\n",
      "You are setting values through chained assignment. Currently this works in certain cases, but when using Copy-on-Write (which will become the default behaviour in pandas 3.0) this will never work to update the original DataFrame or Series, because the intermediate object on which we are setting values will behave as a copy.\n",
      "A typical example is when you are setting values in a column of a DataFrame, like:\n",
      "\n",
      "df[\"col\"][row_indexer] = value\n",
      "\n",
      "Use `df.loc[row_indexer, \"col\"] = values` instead, to perform the assignment in a single step and ensure this keeps updating the original `df`.\n",
      "\n",
      "See the caveats in the documentation: https://pandas.pydata.org/pandas-docs/stable/user_guide/indexing.html#returning-a-view-versus-a-copy\n",
      "\n",
      "  df_ball_positions['ball_hit'].iloc[i] = 1\n",
      "/var/folders/bj/p18ygv1s6wbg6865d00fd5h80000gn/T/ipykernel_5753/1153886114.py:19: SettingWithCopyWarning: \n",
      "A value is trying to be set on a copy of a slice from a DataFrame\n",
      "\n",
      "See the caveats in the documentation: https://pandas.pydata.org/pandas-docs/stable/user_guide/indexing.html#returning-a-view-versus-a-copy\n",
      "  df_ball_positions['ball_hit'].iloc[i] = 1\n",
      "/var/folders/bj/p18ygv1s6wbg6865d00fd5h80000gn/T/ipykernel_5753/1153886114.py:19: FutureWarning: ChainedAssignmentError: behaviour will change in pandas 3.0!\n",
      "You are setting values through chained assignment. Currently this works in certain cases, but when using Copy-on-Write (which will become the default behaviour in pandas 3.0) this will never work to update the original DataFrame or Series, because the intermediate object on which we are setting values will behave as a copy.\n",
      "A typical example is when you are setting values in a column of a DataFrame, like:\n",
      "\n",
      "df[\"col\"][row_indexer] = value\n",
      "\n",
      "Use `df.loc[row_indexer, \"col\"] = values` instead, to perform the assignment in a single step and ensure this keeps updating the original `df`.\n",
      "\n",
      "See the caveats in the documentation: https://pandas.pydata.org/pandas-docs/stable/user_guide/indexing.html#returning-a-view-versus-a-copy\n",
      "\n",
      "  df_ball_positions['ball_hit'].iloc[i] = 1\n",
      "/var/folders/bj/p18ygv1s6wbg6865d00fd5h80000gn/T/ipykernel_5753/1153886114.py:19: SettingWithCopyWarning: \n",
      "A value is trying to be set on a copy of a slice from a DataFrame\n",
      "\n",
      "See the caveats in the documentation: https://pandas.pydata.org/pandas-docs/stable/user_guide/indexing.html#returning-a-view-versus-a-copy\n",
      "  df_ball_positions['ball_hit'].iloc[i] = 1\n"
     ]
    }
   ],
   "source": [
    "minimum_change_for_hit = 20\n",
    "for i in range(1,len(df_ball_positions) - int(minimum_change_for_hit*1.2)):\n",
    "    negative_pos_change = df_ball_positions['delta_y'].iloc[i] > 0 and df_ball_positions['delta_y'].iloc[i+1] < 0\n",
    "    positive_pos_change = df_ball_positions['delta_y'].iloc[i] < 0 and df_ball_positions['delta_y'].iloc[i+1] > 0\n",
    "    \n",
    "    if negative_pos_change or positive_pos_change:\n",
    "        change_count = 0\n",
    "        for change_frame in range (i+1, i+int(minimum_change_for_hit*1.2)+1):\n",
    "            negative_pos_change_following_frame = df_ball_positions['delta_y'].iloc[i] > 0 and df_ball_positions['delta_y'].iloc[change_frame] < 0\n",
    "            positive_pos_change_following_frame = df_ball_positions['delta_y'].iloc[i] < 0 and df_ball_positions['delta_y'].iloc[change_frame] > 0\n",
    "            \n",
    "            if negative_pos_change and negative_pos_change_following_frame:\n",
    "                change_count += 1\n",
    "                \n",
    "            elif positive_pos_change and positive_pos_change_following_frame:\n",
    "                change_count += 1 \n",
    "        \n",
    "        if change_count > minimum_change_for_hit - 1:\n",
    "            df_ball_positions['ball_hit'].iloc[i] = 1   \n",
    "frame_nums_with_ball_hits = df_ball_positions[df_ball_positions['ball_hit']==1].index.tolist()     "
   ]
  },
  {
   "cell_type": "code",
   "execution_count": null,
   "metadata": {},
   "outputs": [
    {
     "data": {
      "application/vnd.microsoft.datawrangler.viewer.v0+json": {
       "columns": [
        {
         "name": "index",
         "rawType": "int64",
         "type": "integer"
        },
        {
         "name": "x1",
         "rawType": "float64",
         "type": "float"
        },
        {
         "name": "y1",
         "rawType": "float64",
         "type": "float"
        },
        {
         "name": "x",
         "rawType": "float64",
         "type": "float"
        },
        {
         "name": "y2",
         "rawType": "float64",
         "type": "float"
        },
        {
         "name": "mid_y",
         "rawType": "float64",
         "type": "float"
        },
        {
         "name": "mid_y_rolling_mean",
         "rawType": "float64",
         "type": "float"
        },
        {
         "name": "delta_y",
         "rawType": "float64",
         "type": "float"
        },
        {
         "name": "ball_hit",
         "rawType": "int64",
         "type": "integer"
        }
       ],
       "conversionMethod": "pd.DataFrame",
       "ref": "c2d54588-1e18-4d2c-bccd-f2071ac2643d",
       "rows": [
        [
         "11",
         "777.444580078125",
         "716.86328125",
         "796.779052734375",
         "737.6292724609375",
         "727.2462768554688",
         "736.9676208496094",
         "6.0511047363281705",
         "1"
        ],
        [
         "58",
         "922.4379577636719",
         "235.14674377441406",
         "940.5068969726562",
         "254.17507934570312",
         "244.6609115600586",
         "241.61504211425782",
         "-2.2793762207031136",
         "1"
        ],
        [
         "95",
         "616.0224609375",
         "773.4644165039062",
         "639.1349487304688",
         "799.8532104492188",
         "786.6588134765625",
         "780.6844665527344",
         "6.061285400390716",
         "1"
        ],
        [
         "132",
         "722.0401960100446",
         "224.80775233677454",
         "736.9880632672991",
         "239.6466522216797",
         "232.22720227922713",
         "230.33568137032643",
         "-0.4546068464007078",
         "1"
        ],
        [
         "181",
         "1284.3261311848958",
         "716.2817586263021",
         "1300.1762288411458",
         "734.2020467122396",
         "725.2419026692709",
         "728.5173563639323",
         "2.0323832194010265",
         "1"
        ]
       ],
       "shape": {
        "columns": 8,
        "rows": 5
       }
      },
      "text/html": [
       "<div>\n",
       "<style scoped>\n",
       "    .dataframe tbody tr th:only-of-type {\n",
       "        vertical-align: middle;\n",
       "    }\n",
       "\n",
       "    .dataframe tbody tr th {\n",
       "        vertical-align: top;\n",
       "    }\n",
       "\n",
       "    .dataframe thead th {\n",
       "        text-align: right;\n",
       "    }\n",
       "</style>\n",
       "<table border=\"1\" class=\"dataframe\">\n",
       "  <thead>\n",
       "    <tr style=\"text-align: right;\">\n",
       "      <th></th>\n",
       "      <th>x1</th>\n",
       "      <th>y1</th>\n",
       "      <th>x</th>\n",
       "      <th>y2</th>\n",
       "      <th>mid_y</th>\n",
       "      <th>mid_y_rolling_mean</th>\n",
       "      <th>delta_y</th>\n",
       "      <th>ball_hit</th>\n",
       "    </tr>\n",
       "  </thead>\n",
       "  <tbody>\n",
       "    <tr>\n",
       "      <th>11</th>\n",
       "      <td>777.444580</td>\n",
       "      <td>716.863281</td>\n",
       "      <td>796.779053</td>\n",
       "      <td>737.629272</td>\n",
       "      <td>727.246277</td>\n",
       "      <td>736.967621</td>\n",
       "      <td>6.051105</td>\n",
       "      <td>1</td>\n",
       "    </tr>\n",
       "    <tr>\n",
       "      <th>58</th>\n",
       "      <td>922.437958</td>\n",
       "      <td>235.146744</td>\n",
       "      <td>940.506897</td>\n",
       "      <td>254.175079</td>\n",
       "      <td>244.660912</td>\n",
       "      <td>241.615042</td>\n",
       "      <td>-2.279376</td>\n",
       "      <td>1</td>\n",
       "    </tr>\n",
       "    <tr>\n",
       "      <th>95</th>\n",
       "      <td>616.022461</td>\n",
       "      <td>773.464417</td>\n",
       "      <td>639.134949</td>\n",
       "      <td>799.853210</td>\n",
       "      <td>786.658813</td>\n",
       "      <td>780.684467</td>\n",
       "      <td>6.061285</td>\n",
       "      <td>1</td>\n",
       "    </tr>\n",
       "    <tr>\n",
       "      <th>132</th>\n",
       "      <td>722.040196</td>\n",
       "      <td>224.807752</td>\n",
       "      <td>736.988063</td>\n",
       "      <td>239.646652</td>\n",
       "      <td>232.227202</td>\n",
       "      <td>230.335681</td>\n",
       "      <td>-0.454607</td>\n",
       "      <td>1</td>\n",
       "    </tr>\n",
       "    <tr>\n",
       "      <th>181</th>\n",
       "      <td>1284.326131</td>\n",
       "      <td>716.281759</td>\n",
       "      <td>1300.176229</td>\n",
       "      <td>734.202047</td>\n",
       "      <td>725.241903</td>\n",
       "      <td>728.517356</td>\n",
       "      <td>2.032383</td>\n",
       "      <td>1</td>\n",
       "    </tr>\n",
       "  </tbody>\n",
       "</table>\n",
       "</div>"
      ],
      "text/plain": [
       "              x1          y1            x          y2       mid_y  \\\n",
       "11    777.444580  716.863281   796.779053  737.629272  727.246277   \n",
       "58    922.437958  235.146744   940.506897  254.175079  244.660912   \n",
       "95    616.022461  773.464417   639.134949  799.853210  786.658813   \n",
       "132   722.040196  224.807752   736.988063  239.646652  232.227202   \n",
       "181  1284.326131  716.281759  1300.176229  734.202047  725.241903   \n",
       "\n",
       "     mid_y_rolling_mean   delta_y  ball_hit  \n",
       "11           736.967621  6.051105         1  \n",
       "58           241.615042 -2.279376         1  \n",
       "95           780.684467  6.061285         1  \n",
       "132          230.335681 -0.454607         1  \n",
       "181          728.517356  2.032383         1  "
      ]
     },
     "execution_count": 31,
     "metadata": {},
     "output_type": "execute_result"
    }
   ],
   "source": [
    "#Ball hits\n",
    "df_ball_positions[df_ball_positions['ball_hit']==1]"
   ]
  },
  {
   "cell_type": "code",
   "execution_count": 33,
   "metadata": {},
   "outputs": [],
   "source": [
    "frame_nums_with_ball_hits = df_ball_positions[df_ball_positions['ball_hit']==1].index.tolist()"
   ]
  },
  {
   "cell_type": "code",
   "execution_count": null,
   "metadata": {},
   "outputs": [],
   "source": []
  }
 ],
 "metadata": {
  "kernelspec": {
   "display_name": "DataScience",
   "language": "python",
   "name": "python3"
  },
  "language_info": {
   "codemirror_mode": {
    "name": "ipython",
    "version": 3
   },
   "file_extension": ".py",
   "mimetype": "text/x-python",
   "name": "python",
   "nbconvert_exporter": "python",
   "pygments_lexer": "ipython3",
   "version": "3.10.13"
  }
 },
 "nbformat": 4,
 "nbformat_minor": 2
}
