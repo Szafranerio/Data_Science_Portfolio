{
 "cells": [
  {
   "cell_type": "code",
   "execution_count": 24,
   "metadata": {},
   "outputs": [],
   "source": [
    "import pandas as pd \n",
    "import numpy as np\n",
    "import seaborn as sns\n",
    "import matplotlib.pyplot as plt\n",
    "import pycountry\n",
    "import plotly.graph_objects as go\n",
    "import plotly.express as px\n",
    "from pandas.plotting import parallel_coordinates"
   ]
  },
  {
   "cell_type": "code",
   "execution_count": 25,
   "metadata": {},
   "outputs": [
    {
     "name": "stderr",
     "output_type": "stream",
     "text": [
      "/var/folders/yk/fs7s5htj44b8ds6qh_c6gb0m0000gn/T/ipykernel_73059/1346339099.py:1: DtypeWarning:\n",
      "\n",
      "Columns (33) have mixed types. Specify dtype option on import or set low_memory=False.\n",
      "\n"
     ]
    },
    {
     "data": {
      "text/html": [
       "<div>\n",
       "<style scoped>\n",
       "    .dataframe tbody tr th:only-of-type {\n",
       "        vertical-align: middle;\n",
       "    }\n",
       "\n",
       "    .dataframe tbody tr th {\n",
       "        vertical-align: top;\n",
       "    }\n",
       "\n",
       "    .dataframe thead th {\n",
       "        text-align: right;\n",
       "    }\n",
       "</style>\n",
       "<table border=\"1\" class=\"dataframe\">\n",
       "  <thead>\n",
       "    <tr style=\"text-align: right;\">\n",
       "      <th></th>\n",
       "      <th>Rank</th>\n",
       "      <th>Name</th>\n",
       "      <th>OVR</th>\n",
       "      <th>PAC</th>\n",
       "      <th>SHO</th>\n",
       "      <th>PAS</th>\n",
       "      <th>DRI</th>\n",
       "      <th>DEF</th>\n",
       "      <th>PHY</th>\n",
       "      <th>Acceleration</th>\n",
       "      <th>...</th>\n",
       "      <th>Strength</th>\n",
       "      <th>Aggression</th>\n",
       "      <th>Position</th>\n",
       "      <th>Weak foot</th>\n",
       "      <th>Skill moves</th>\n",
       "      <th>Preferred foot</th>\n",
       "      <th>Age</th>\n",
       "      <th>Nation</th>\n",
       "      <th>League</th>\n",
       "      <th>Team</th>\n",
       "    </tr>\n",
       "  </thead>\n",
       "  <tbody>\n",
       "    <tr>\n",
       "      <th>0</th>\n",
       "      <td>1</td>\n",
       "      <td>Kylian Mbappé</td>\n",
       "      <td>91</td>\n",
       "      <td>97</td>\n",
       "      <td>90</td>\n",
       "      <td>80</td>\n",
       "      <td>92</td>\n",
       "      <td>36</td>\n",
       "      <td>78</td>\n",
       "      <td>97</td>\n",
       "      <td>...</td>\n",
       "      <td>77</td>\n",
       "      <td>64</td>\n",
       "      <td>ST</td>\n",
       "      <td>4</td>\n",
       "      <td>5</td>\n",
       "      <td>Right</td>\n",
       "      <td>25</td>\n",
       "      <td>France</td>\n",
       "      <td>LALIGA EA SPORTS</td>\n",
       "      <td>Real Madrid</td>\n",
       "    </tr>\n",
       "    <tr>\n",
       "      <th>1</th>\n",
       "      <td>2</td>\n",
       "      <td>Rodri</td>\n",
       "      <td>91</td>\n",
       "      <td>66</td>\n",
       "      <td>80</td>\n",
       "      <td>86</td>\n",
       "      <td>84</td>\n",
       "      <td>87</td>\n",
       "      <td>85</td>\n",
       "      <td>65</td>\n",
       "      <td>...</td>\n",
       "      <td>83</td>\n",
       "      <td>85</td>\n",
       "      <td>CDM</td>\n",
       "      <td>4</td>\n",
       "      <td>3</td>\n",
       "      <td>Right</td>\n",
       "      <td>28</td>\n",
       "      <td>Spain</td>\n",
       "      <td>Premier League</td>\n",
       "      <td>Manchester City</td>\n",
       "    </tr>\n",
       "    <tr>\n",
       "      <th>2</th>\n",
       "      <td>4</td>\n",
       "      <td>Erling Haaland</td>\n",
       "      <td>91</td>\n",
       "      <td>88</td>\n",
       "      <td>92</td>\n",
       "      <td>70</td>\n",
       "      <td>81</td>\n",
       "      <td>45</td>\n",
       "      <td>88</td>\n",
       "      <td>80</td>\n",
       "      <td>...</td>\n",
       "      <td>93</td>\n",
       "      <td>88</td>\n",
       "      <td>ST</td>\n",
       "      <td>3</td>\n",
       "      <td>3</td>\n",
       "      <td>Left</td>\n",
       "      <td>24</td>\n",
       "      <td>Norway</td>\n",
       "      <td>Premier League</td>\n",
       "      <td>Manchester City</td>\n",
       "    </tr>\n",
       "    <tr>\n",
       "      <th>3</th>\n",
       "      <td>5</td>\n",
       "      <td>Jude Bellingham</td>\n",
       "      <td>90</td>\n",
       "      <td>80</td>\n",
       "      <td>87</td>\n",
       "      <td>83</td>\n",
       "      <td>88</td>\n",
       "      <td>78</td>\n",
       "      <td>83</td>\n",
       "      <td>81</td>\n",
       "      <td>...</td>\n",
       "      <td>77</td>\n",
       "      <td>85</td>\n",
       "      <td>CAM</td>\n",
       "      <td>4</td>\n",
       "      <td>4</td>\n",
       "      <td>Right</td>\n",
       "      <td>21</td>\n",
       "      <td>England</td>\n",
       "      <td>LALIGA EA SPORTS</td>\n",
       "      <td>Real Madrid</td>\n",
       "    </tr>\n",
       "    <tr>\n",
       "      <th>4</th>\n",
       "      <td>7</td>\n",
       "      <td>Vini Jr.</td>\n",
       "      <td>90</td>\n",
       "      <td>95</td>\n",
       "      <td>84</td>\n",
       "      <td>81</td>\n",
       "      <td>91</td>\n",
       "      <td>29</td>\n",
       "      <td>69</td>\n",
       "      <td>95</td>\n",
       "      <td>...</td>\n",
       "      <td>65</td>\n",
       "      <td>58</td>\n",
       "      <td>LW</td>\n",
       "      <td>4</td>\n",
       "      <td>5</td>\n",
       "      <td>Right</td>\n",
       "      <td>24</td>\n",
       "      <td>Brazil</td>\n",
       "      <td>LALIGA EA SPORTS</td>\n",
       "      <td>Real Madrid</td>\n",
       "    </tr>\n",
       "    <tr>\n",
       "      <th>...</th>\n",
       "      <td>...</td>\n",
       "      <td>...</td>\n",
       "      <td>...</td>\n",
       "      <td>...</td>\n",
       "      <td>...</td>\n",
       "      <td>...</td>\n",
       "      <td>...</td>\n",
       "      <td>...</td>\n",
       "      <td>...</td>\n",
       "      <td>...</td>\n",
       "      <td>...</td>\n",
       "      <td>...</td>\n",
       "      <td>...</td>\n",
       "      <td>...</td>\n",
       "      <td>...</td>\n",
       "      <td>...</td>\n",
       "      <td>...</td>\n",
       "      <td>...</td>\n",
       "      <td>...</td>\n",
       "      <td>...</td>\n",
       "      <td>...</td>\n",
       "    </tr>\n",
       "    <tr>\n",
       "      <th>17732</th>\n",
       "      <td>17146</td>\n",
       "      <td>Araya Dennis</td>\n",
       "      <td>53</td>\n",
       "      <td>42</td>\n",
       "      <td>57</td>\n",
       "      <td>49</td>\n",
       "      <td>52</td>\n",
       "      <td>25</td>\n",
       "      <td>42</td>\n",
       "      <td>44</td>\n",
       "      <td>...</td>\n",
       "      <td>38</td>\n",
       "      <td>35</td>\n",
       "      <td>ST</td>\n",
       "      <td>3</td>\n",
       "      <td>2</td>\n",
       "      <td>Right</td>\n",
       "      <td>18</td>\n",
       "      <td>England</td>\n",
       "      <td>Barclays WSL</td>\n",
       "      <td>Spurs</td>\n",
       "    </tr>\n",
       "    <tr>\n",
       "      <th>17733</th>\n",
       "      <td>17146</td>\n",
       "      <td>Alexia Férnandez</td>\n",
       "      <td>53</td>\n",
       "      <td>53</td>\n",
       "      <td>55</td>\n",
       "      <td>51</td>\n",
       "      <td>53</td>\n",
       "      <td>34</td>\n",
       "      <td>47</td>\n",
       "      <td>52</td>\n",
       "      <td>...</td>\n",
       "      <td>54</td>\n",
       "      <td>41</td>\n",
       "      <td>LW</td>\n",
       "      <td>3</td>\n",
       "      <td>2</td>\n",
       "      <td>Right</td>\n",
       "      <td>22</td>\n",
       "      <td>Spain</td>\n",
       "      <td>Liga F</td>\n",
       "      <td>Granada CF</td>\n",
       "    </tr>\n",
       "    <tr>\n",
       "      <th>17734</th>\n",
       "      <td>17146</td>\n",
       "      <td>Aleigh Gambone</td>\n",
       "      <td>53</td>\n",
       "      <td>60</td>\n",
       "      <td>58</td>\n",
       "      <td>53</td>\n",
       "      <td>56</td>\n",
       "      <td>49</td>\n",
       "      <td>53</td>\n",
       "      <td>58</td>\n",
       "      <td>...</td>\n",
       "      <td>51</td>\n",
       "      <td>51</td>\n",
       "      <td>CM</td>\n",
       "      <td>4</td>\n",
       "      <td>4</td>\n",
       "      <td>Right</td>\n",
       "      <td>23</td>\n",
       "      <td>United States</td>\n",
       "      <td>Scottish Women's League</td>\n",
       "      <td>Glasgow City FC</td>\n",
       "    </tr>\n",
       "    <tr>\n",
       "      <th>17735</th>\n",
       "      <td>17146</td>\n",
       "      <td>Joy Lysser</td>\n",
       "      <td>53</td>\n",
       "      <td>61</td>\n",
       "      <td>52</td>\n",
       "      <td>48</td>\n",
       "      <td>56</td>\n",
       "      <td>53</td>\n",
       "      <td>58</td>\n",
       "      <td>60</td>\n",
       "      <td>...</td>\n",
       "      <td>60</td>\n",
       "      <td>50</td>\n",
       "      <td>CM</td>\n",
       "      <td>3</td>\n",
       "      <td>2</td>\n",
       "      <td>Left</td>\n",
       "      <td>20</td>\n",
       "      <td>Switzerland</td>\n",
       "      <td>Schweizer Damen Liga</td>\n",
       "      <td>FC Zürich</td>\n",
       "    </tr>\n",
       "    <tr>\n",
       "      <th>17736</th>\n",
       "      <td>17146</td>\n",
       "      <td>Kateřina Vithová</td>\n",
       "      <td>53</td>\n",
       "      <td>60</td>\n",
       "      <td>49</td>\n",
       "      <td>53</td>\n",
       "      <td>54</td>\n",
       "      <td>27</td>\n",
       "      <td>55</td>\n",
       "      <td>59</td>\n",
       "      <td>...</td>\n",
       "      <td>66</td>\n",
       "      <td>42</td>\n",
       "      <td>LM</td>\n",
       "      <td>3</td>\n",
       "      <td>3</td>\n",
       "      <td>Left</td>\n",
       "      <td>18</td>\n",
       "      <td>Czech Republic</td>\n",
       "      <td>Ceska Liga Žen</td>\n",
       "      <td>Slavia Praha</td>\n",
       "    </tr>\n",
       "  </tbody>\n",
       "</table>\n",
       "<p>17737 rows × 46 columns</p>\n",
       "</div>"
      ],
      "text/plain": [
       "        Rank              Name  OVR  PAC  SHO  PAS  DRI  DEF  PHY  \\\n",
       "0          1     Kylian Mbappé   91   97   90   80   92   36   78   \n",
       "1          2             Rodri   91   66   80   86   84   87   85   \n",
       "2          4    Erling Haaland   91   88   92   70   81   45   88   \n",
       "3          5   Jude Bellingham   90   80   87   83   88   78   83   \n",
       "4          7          Vini Jr.   90   95   84   81   91   29   69   \n",
       "...      ...               ...  ...  ...  ...  ...  ...  ...  ...   \n",
       "17732  17146      Araya Dennis   53   42   57   49   52   25   42   \n",
       "17733  17146  Alexia Férnandez   53   53   55   51   53   34   47   \n",
       "17734  17146    Aleigh Gambone   53   60   58   53   56   49   53   \n",
       "17735  17146        Joy Lysser   53   61   52   48   56   53   58   \n",
       "17736  17146  Kateřina Vithová   53   60   49   53   54   27   55   \n",
       "\n",
       "       Acceleration  ...  Strength Aggression Position  Weak foot Skill moves  \\\n",
       "0                97  ...        77         64       ST          4           5   \n",
       "1                65  ...        83         85      CDM          4           3   \n",
       "2                80  ...        93         88       ST          3           3   \n",
       "3                81  ...        77         85      CAM          4           4   \n",
       "4                95  ...        65         58       LW          4           5   \n",
       "...             ...  ...       ...        ...      ...        ...         ...   \n",
       "17732            44  ...        38         35       ST          3           2   \n",
       "17733            52  ...        54         41       LW          3           2   \n",
       "17734            58  ...        51         51       CM          4           4   \n",
       "17735            60  ...        60         50       CM          3           2   \n",
       "17736            59  ...        66         42       LM          3           3   \n",
       "\n",
       "      Preferred foot  Age          Nation                   League  \\\n",
       "0              Right   25          France         LALIGA EA SPORTS   \n",
       "1              Right   28           Spain           Premier League   \n",
       "2               Left   24          Norway           Premier League   \n",
       "3              Right   21         England         LALIGA EA SPORTS   \n",
       "4              Right   24          Brazil         LALIGA EA SPORTS   \n",
       "...              ...  ...             ...                      ...   \n",
       "17732          Right   18         England             Barclays WSL   \n",
       "17733          Right   22           Spain                   Liga F   \n",
       "17734          Right   23   United States  Scottish Women's League   \n",
       "17735           Left   20     Switzerland     Schweizer Damen Liga   \n",
       "17736           Left   18  Czech Republic           Ceska Liga Žen   \n",
       "\n",
       "                  Team  \n",
       "0          Real Madrid  \n",
       "1      Manchester City  \n",
       "2      Manchester City  \n",
       "3          Real Madrid  \n",
       "4          Real Madrid  \n",
       "...                ...  \n",
       "17732            Spurs  \n",
       "17733       Granada CF  \n",
       "17734  Glasgow City FC  \n",
       "17735        FC Zürich  \n",
       "17736     Slavia Praha  \n",
       "\n",
       "[17737 rows x 46 columns]"
      ]
     },
     "execution_count": 25,
     "metadata": {},
     "output_type": "execute_result"
    }
   ],
   "source": [
    "all_data = pd.read_csv('./data/fifa/all_players.csv')\n",
    "all_data.drop(['Unnamed: 0', 'Height', 'Weight', 'Alternative positions', 'play style', 'url', 'GK Diving',\t'GK Handling',\t'GK Kicking',\t'GK Positioning',\t'GK Reflexes'], axis = 1, inplace= True)\n",
    "\n",
    "all_data"
   ]
  },
  {
   "cell_type": "code",
   "execution_count": 26,
   "metadata": {},
   "outputs": [
    {
     "data": {
      "text/html": [
       "<div>\n",
       "<style scoped>\n",
       "    .dataframe tbody tr th:only-of-type {\n",
       "        vertical-align: middle;\n",
       "    }\n",
       "\n",
       "    .dataframe tbody tr th {\n",
       "        vertical-align: top;\n",
       "    }\n",
       "\n",
       "    .dataframe thead th {\n",
       "        text-align: right;\n",
       "    }\n",
       "</style>\n",
       "<table border=\"1\" class=\"dataframe\">\n",
       "  <thead>\n",
       "    <tr style=\"text-align: right;\">\n",
       "      <th></th>\n",
       "      <th>Rank</th>\n",
       "      <th>Name</th>\n",
       "      <th>OVR</th>\n",
       "      <th>PAC</th>\n",
       "      <th>SHO</th>\n",
       "      <th>PAS</th>\n",
       "      <th>DRI</th>\n",
       "      <th>DEF</th>\n",
       "      <th>PHY</th>\n",
       "      <th>Acceleration</th>\n",
       "      <th>...</th>\n",
       "      <th>Strength</th>\n",
       "      <th>Aggression</th>\n",
       "      <th>Position</th>\n",
       "      <th>Weak foot</th>\n",
       "      <th>Skill moves</th>\n",
       "      <th>Preferred foot</th>\n",
       "      <th>Age</th>\n",
       "      <th>Nation</th>\n",
       "      <th>League</th>\n",
       "      <th>Team</th>\n",
       "    </tr>\n",
       "  </thead>\n",
       "  <tbody>\n",
       "    <tr>\n",
       "      <th>0</th>\n",
       "      <td>1</td>\n",
       "      <td>Kylian Mbappé</td>\n",
       "      <td>91</td>\n",
       "      <td>97</td>\n",
       "      <td>90</td>\n",
       "      <td>80</td>\n",
       "      <td>92</td>\n",
       "      <td>36</td>\n",
       "      <td>78</td>\n",
       "      <td>97</td>\n",
       "      <td>...</td>\n",
       "      <td>77</td>\n",
       "      <td>64</td>\n",
       "      <td>ST</td>\n",
       "      <td>4</td>\n",
       "      <td>5</td>\n",
       "      <td>Right</td>\n",
       "      <td>25</td>\n",
       "      <td>France</td>\n",
       "      <td>LALIGA EA SPORTS</td>\n",
       "      <td>Real Madrid</td>\n",
       "    </tr>\n",
       "    <tr>\n",
       "      <th>1</th>\n",
       "      <td>4</td>\n",
       "      <td>Erling Haaland</td>\n",
       "      <td>91</td>\n",
       "      <td>88</td>\n",
       "      <td>92</td>\n",
       "      <td>70</td>\n",
       "      <td>81</td>\n",
       "      <td>45</td>\n",
       "      <td>88</td>\n",
       "      <td>80</td>\n",
       "      <td>...</td>\n",
       "      <td>93</td>\n",
       "      <td>88</td>\n",
       "      <td>ST</td>\n",
       "      <td>3</td>\n",
       "      <td>3</td>\n",
       "      <td>Left</td>\n",
       "      <td>24</td>\n",
       "      <td>Norway</td>\n",
       "      <td>Premier League</td>\n",
       "      <td>Manchester City</td>\n",
       "    </tr>\n",
       "    <tr>\n",
       "      <th>2</th>\n",
       "      <td>10</td>\n",
       "      <td>Sam Kerr</td>\n",
       "      <td>90</td>\n",
       "      <td>85</td>\n",
       "      <td>88</td>\n",
       "      <td>74</td>\n",
       "      <td>90</td>\n",
       "      <td>42</td>\n",
       "      <td>83</td>\n",
       "      <td>86</td>\n",
       "      <td>...</td>\n",
       "      <td>86</td>\n",
       "      <td>70</td>\n",
       "      <td>ST</td>\n",
       "      <td>4</td>\n",
       "      <td>4</td>\n",
       "      <td>Right</td>\n",
       "      <td>31</td>\n",
       "      <td>Australia</td>\n",
       "      <td>Barclays WSL</td>\n",
       "      <td>Chelsea</td>\n",
       "    </tr>\n",
       "    <tr>\n",
       "      <th>3</th>\n",
       "      <td>11</td>\n",
       "      <td>Harry Kane</td>\n",
       "      <td>90</td>\n",
       "      <td>65</td>\n",
       "      <td>93</td>\n",
       "      <td>84</td>\n",
       "      <td>83</td>\n",
       "      <td>49</td>\n",
       "      <td>82</td>\n",
       "      <td>64</td>\n",
       "      <td>...</td>\n",
       "      <td>86</td>\n",
       "      <td>80</td>\n",
       "      <td>ST</td>\n",
       "      <td>4</td>\n",
       "      <td>3</td>\n",
       "      <td>Right</td>\n",
       "      <td>31</td>\n",
       "      <td>England</td>\n",
       "      <td>Bundesliga</td>\n",
       "      <td>FC Bayern München</td>\n",
       "    </tr>\n",
       "    <tr>\n",
       "      <th>4</th>\n",
       "      <td>17</td>\n",
       "      <td>Ada Hegerberg</td>\n",
       "      <td>89</td>\n",
       "      <td>74</td>\n",
       "      <td>89</td>\n",
       "      <td>77</td>\n",
       "      <td>86</td>\n",
       "      <td>39</td>\n",
       "      <td>79</td>\n",
       "      <td>73</td>\n",
       "      <td>...</td>\n",
       "      <td>85</td>\n",
       "      <td>65</td>\n",
       "      <td>ST</td>\n",
       "      <td>4</td>\n",
       "      <td>4</td>\n",
       "      <td>Right</td>\n",
       "      <td>29</td>\n",
       "      <td>Norway</td>\n",
       "      <td>Arkema PL</td>\n",
       "      <td>OL</td>\n",
       "    </tr>\n",
       "  </tbody>\n",
       "</table>\n",
       "<p>5 rows × 46 columns</p>\n",
       "</div>"
      ],
      "text/plain": [
       "   Rank            Name  OVR  PAC  SHO  PAS  DRI  DEF  PHY  Acceleration  ...  \\\n",
       "0     1   Kylian Mbappé   91   97   90   80   92   36   78            97  ...   \n",
       "1     4  Erling Haaland   91   88   92   70   81   45   88            80  ...   \n",
       "2    10        Sam Kerr   90   85   88   74   90   42   83            86  ...   \n",
       "3    11      Harry Kane   90   65   93   84   83   49   82            64  ...   \n",
       "4    17   Ada Hegerberg   89   74   89   77   86   39   79            73  ...   \n",
       "\n",
       "   Strength Aggression Position  Weak foot Skill moves Preferred foot  Age  \\\n",
       "0        77         64       ST          4           5          Right   25   \n",
       "1        93         88       ST          3           3           Left   24   \n",
       "2        86         70       ST          4           4          Right   31   \n",
       "3        86         80       ST          4           3          Right   31   \n",
       "4        85         65       ST          4           4          Right   29   \n",
       "\n",
       "      Nation            League               Team  \n",
       "0     France  LALIGA EA SPORTS        Real Madrid  \n",
       "1     Norway    Premier League    Manchester City  \n",
       "2  Australia      Barclays WSL            Chelsea  \n",
       "3    England        Bundesliga  FC Bayern München  \n",
       "4     Norway         Arkema PL                 OL  \n",
       "\n",
       "[5 rows x 46 columns]"
      ]
     },
     "execution_count": 26,
     "metadata": {},
     "output_type": "execute_result"
    }
   ],
   "source": [
    "st_stats = ['OVR', 'PAC', 'SHO', 'Positioning', 'Finishing', 'Shot Power', 'Long Shots', 'Volleys']\n",
    "st_data = all_data[all_data['Position'] == 'ST']\n",
    "st_data = st_data.sort_values('OVR', ascending=False)[:30]\n",
    "st_data.reset_index(inplace=True)\n",
    "st_data.drop(columns='index', axis=1, inplace=True)\n",
    "st_data.head()"
   ]
  },
  {
   "cell_type": "code",
   "execution_count": 27,
   "metadata": {},
   "outputs": [
    {
     "data": {
      "application/vnd.plotly.v1+json": {
       "config": {
        "plotlyServerURL": "https://plot.ly"
       },
       "data": [
        {
         "name": "Kylian Mbappé",
         "type": "bar",
         "visible": true,
         "x": [
          "OVR",
          "PAC",
          "SHO",
          "Positioning",
          "Finishing",
          "Shot Power",
          "Long Shots",
          "Volleys"
         ],
         "y": [
          91,
          97,
          90,
          "93",
          "94",
          90,
          "83",
          "84"
         ]
        },
        {
         "name": "Erling Haaland",
         "type": "bar",
         "visible": false,
         "x": [
          "OVR",
          "PAC",
          "SHO",
          "Positioning",
          "Finishing",
          "Shot Power",
          "Long Shots",
          "Volleys"
         ],
         "y": [
          91,
          88,
          92,
          "96",
          "96",
          94,
          "83",
          "90"
         ]
        },
        {
         "name": "Sam Kerr",
         "type": "bar",
         "visible": false,
         "x": [
          "OVR",
          "PAC",
          "SHO",
          "Positioning",
          "Finishing",
          "Shot Power",
          "Long Shots",
          "Volleys"
         ],
         "y": [
          90,
          85,
          88,
          "92",
          "92",
          85,
          "85",
          "92"
         ]
        },
        {
         "name": "Harry Kane",
         "type": "bar",
         "visible": false,
         "x": [
          "OVR",
          "PAC",
          "SHO",
          "Positioning",
          "Finishing",
          "Shot Power",
          "Long Shots",
          "Volleys"
         ],
         "y": [
          90,
          65,
          93,
          "94",
          "95",
          94,
          "89",
          "89"
         ]
        },
        {
         "name": "Ada Hegerberg",
         "type": "bar",
         "visible": false,
         "x": [
          "OVR",
          "PAC",
          "SHO",
          "Positioning",
          "Finishing",
          "Shot Power",
          "Long Shots",
          "Volleys"
         ],
         "y": [
          89,
          74,
          89,
          "93",
          "91",
          85,
          "86",
          "90"
         ]
        },
        {
         "name": "Sophia Smith",
         "type": "bar",
         "visible": false,
         "x": [
          "OVR",
          "PAC",
          "SHO",
          "Positioning",
          "Finishing",
          "Shot Power",
          "Long Shots",
          "Volleys"
         ],
         "y": [
          89,
          93,
          86,
          "89",
          "89",
          86,
          "82",
          "84"
         ]
        },
        {
         "name": "Lautaro Martínez",
         "type": "bar",
         "visible": false,
         "x": [
          "OVR",
          "PAC",
          "SHO",
          "Positioning",
          "Finishing",
          "Shot Power",
          "Long Shots",
          "Volleys"
         ],
         "y": [
          89,
          82,
          88,
          "92",
          "93",
          87,
          "80",
          "92"
         ]
        },
        {
         "name": "Marie Katoto",
         "type": "bar",
         "visible": false,
         "x": [
          "OVR",
          "PAC",
          "SHO",
          "Positioning",
          "Finishing",
          "Shot Power",
          "Long Shots",
          "Volleys"
         ],
         "y": [
          88,
          85,
          87,
          "91",
          "90",
          84,
          "83",
          "91"
         ]
        },
        {
         "name": "Robert Lewandowski",
         "type": "bar",
         "visible": false,
         "x": [
          "OVR",
          "PAC",
          "SHO",
          "Positioning",
          "Finishing",
          "Shot Power",
          "Long Shots",
          "Volleys"
         ],
         "y": [
          88,
          75,
          88,
          "90",
          "90",
          89,
          "82",
          "86"
         ]
        },
        {
         "name": "Antoine Griezmann",
         "type": "bar",
         "visible": false,
         "x": [
          "OVR",
          "PAC",
          "SHO",
          "Positioning",
          "Finishing",
          "Shot Power",
          "Long Shots",
          "Volleys"
         ],
         "y": [
          88,
          80,
          88,
          "90",
          "90",
          85,
          "87",
          "86"
         ]
        },
        {
         "name": "Alexandra Popp",
         "type": "bar",
         "visible": false,
         "x": [
          "OVR",
          "PAC",
          "SHO",
          "Positioning",
          "Finishing",
          "Shot Power",
          "Long Shots",
          "Volleys"
         ],
         "y": [
          87,
          76,
          87,
          "91",
          "86",
          91,
          "85",
          "88"
         ]
        },
        {
         "name": "Alex Morgan",
         "type": "bar",
         "visible": false,
         "x": [
          "OVR",
          "PAC",
          "SHO",
          "Positioning",
          "Finishing",
          "Shot Power",
          "Long Shots",
          "Volleys"
         ],
         "y": [
          87,
          79,
          87,
          "90",
          "93",
          86,
          "77",
          "77"
         ]
        },
        {
         "name": "Ewa Pajor",
         "type": "bar",
         "visible": false,
         "x": [
          "OVR",
          "PAC",
          "SHO",
          "Positioning",
          "Finishing",
          "Shot Power",
          "Long Shots",
          "Volleys"
         ],
         "y": [
          87,
          88,
          88,
          "90",
          "91",
          85,
          "85",
          "89"
         ]
        },
        {
         "name": "Heung Min Son",
         "type": "bar",
         "visible": false,
         "x": [
          "OVR",
          "PAC",
          "SHO",
          "Positioning",
          "Finishing",
          "Shot Power",
          "Long Shots",
          "Volleys"
         ],
         "y": [
          87,
          87,
          89,
          "91",
          "90",
          89,
          "89",
          "83"
         ]
        },
        {
         "name": "Victor Osimhen",
         "type": "bar",
         "visible": false,
         "x": [
          "OVR",
          "PAC",
          "SHO",
          "Positioning",
          "Finishing",
          "Shot Power",
          "Long Shots",
          "Volleys"
         ],
         "y": [
          87,
          89,
          84,
          "92",
          "88",
          86,
          "74",
          "83"
         ]
        },
        {
         "name": "Karim Benzema",
         "type": "bar",
         "visible": false,
         "x": [
          "OVR",
          "PAC",
          "SHO",
          "Positioning",
          "Finishing",
          "Shot Power",
          "Long Shots",
          "Volleys"
         ],
         "y": [
          86,
          77,
          85,
          "88",
          "87",
          87,
          "81",
          "87"
         ]
        },
        {
         "name": "Khadija Shaw",
         "type": "bar",
         "visible": false,
         "x": [
          "OVR",
          "PAC",
          "SHO",
          "Positioning",
          "Finishing",
          "Shot Power",
          "Long Shots",
          "Volleys"
         ],
         "y": [
          86,
          69,
          86,
          "89",
          "90",
          88,
          "80",
          "77"
         ]
        },
        {
         "name": "Lea Schüller",
         "type": "bar",
         "visible": false,
         "x": [
          "OVR",
          "PAC",
          "SHO",
          "Positioning",
          "Finishing",
          "Shot Power",
          "Long Shots",
          "Volleys"
         ],
         "y": [
          86,
          87,
          83,
          "91",
          "92",
          78,
          "72",
          "73"
         ]
        },
        {
         "name": "Cristiano Ronaldo",
         "type": "bar",
         "visible": false,
         "x": [
          "OVR",
          "PAC",
          "SHO",
          "Positioning",
          "Finishing",
          "Shot Power",
          "Long Shots",
          "Volleys"
         ],
         "y": [
          86,
          77,
          88,
          "90",
          "87",
          92,
          "85",
          "83"
         ]
        },
        {
         "name": "Vivianne Miedema",
         "type": "bar",
         "visible": false,
         "x": [
          "OVR",
          "PAC",
          "SHO",
          "Positioning",
          "Finishing",
          "Shot Power",
          "Long Shots",
          "Volleys"
         ],
         "y": [
          85,
          82,
          84,
          "86",
          "85",
          86,
          "84",
          "83"
         ]
        },
        {
         "name": "Diogo Jota",
         "type": "bar",
         "visible": false,
         "x": [
          "OVR",
          "PAC",
          "SHO",
          "Positioning",
          "Finishing",
          "Shot Power",
          "Long Shots",
          "Volleys"
         ],
         "y": [
          85,
          82,
          82,
          "88",
          "85",
          86,
          "76",
          "79"
         ]
        },
        {
         "name": "Loïs Openda",
         "type": "bar",
         "visible": false,
         "x": [
          "OVR",
          "PAC",
          "SHO",
          "Positioning",
          "Finishing",
          "Shot Power",
          "Long Shots",
          "Volleys"
         ],
         "y": [
          85,
          93,
          84,
          "86",
          "87",
          85,
          "77",
          "78"
         ]
        },
        {
         "name": "Alessia Russo",
         "type": "bar",
         "visible": false,
         "x": [
          "OVR",
          "PAC",
          "SHO",
          "Positioning",
          "Finishing",
          "Shot Power",
          "Long Shots",
          "Volleys"
         ],
         "y": [
          85,
          82,
          83,
          "86",
          "87",
          85,
          "78",
          "77"
         ]
        },
        {
         "name": "Asisat Oshoala",
         "type": "bar",
         "visible": false,
         "x": [
          "OVR",
          "PAC",
          "SHO",
          "Positioning",
          "Finishing",
          "Shot Power",
          "Long Shots",
          "Volleys"
         ],
         "y": [
          85,
          91,
          84,
          "82",
          "90",
          78,
          "79",
          "85"
         ]
        },
        {
         "name": "Eugénie Le Sommer",
         "type": "bar",
         "visible": false,
         "x": [
          "OVR",
          "PAC",
          "SHO",
          "Positioning",
          "Finishing",
          "Shot Power",
          "Long Shots",
          "Volleys"
         ],
         "y": [
          85,
          70,
          85,
          "90",
          "86",
          86,
          "81",
          "82"
         ]
        },
        {
         "name": "Cristiana Girelli",
         "type": "bar",
         "visible": false,
         "x": [
          "OVR",
          "PAC",
          "SHO",
          "Positioning",
          "Finishing",
          "Shot Power",
          "Long Shots",
          "Volleys"
         ],
         "y": [
          85,
          80,
          85,
          "88",
          "92",
          79,
          "76",
          "70"
         ]
        },
        {
         "name": "Rachel Daly",
         "type": "bar",
         "visible": false,
         "x": [
          "OVR",
          "PAC",
          "SHO",
          "Positioning",
          "Finishing",
          "Shot Power",
          "Long Shots",
          "Volleys"
         ],
         "y": [
          85,
          77,
          85,
          "89",
          "90",
          85,
          "75",
          "77"
         ]
        },
        {
         "name": "Alexander Isak",
         "type": "bar",
         "visible": false,
         "x": [
          "OVR",
          "PAC",
          "SHO",
          "Positioning",
          "Finishing",
          "Shot Power",
          "Long Shots",
          "Volleys"
         ],
         "y": [
          85,
          85,
          84,
          "86",
          "87",
          82,
          "78",
          "79"
         ]
        },
        {
         "name": "Ollie Watkins",
         "type": "bar",
         "visible": false,
         "x": [
          "OVR",
          "PAC",
          "SHO",
          "Positioning",
          "Finishing",
          "Shot Power",
          "Long Shots",
          "Volleys"
         ],
         "y": [
          85,
          85,
          83,
          "87",
          "86",
          84,
          "76",
          "80"
         ]
        },
        {
         "name": "Tabitha Chawinga",
         "type": "bar",
         "visible": false,
         "x": [
          "OVR",
          "PAC",
          "SHO",
          "Positioning",
          "Finishing",
          "Shot Power",
          "Long Shots",
          "Volleys"
         ],
         "y": [
          84,
          94,
          81,
          "87",
          "85",
          79,
          "78",
          "74"
         ]
        }
       ],
       "layout": {
        "showlegend": false,
        "template": {
         "data": {
          "bar": [
           {
            "error_x": {
             "color": "#2a3f5f"
            },
            "error_y": {
             "color": "#2a3f5f"
            },
            "marker": {
             "line": {
              "color": "#E5ECF6",
              "width": 0.5
             },
             "pattern": {
              "fillmode": "overlay",
              "size": 10,
              "solidity": 0.2
             }
            },
            "type": "bar"
           }
          ],
          "barpolar": [
           {
            "marker": {
             "line": {
              "color": "#E5ECF6",
              "width": 0.5
             },
             "pattern": {
              "fillmode": "overlay",
              "size": 10,
              "solidity": 0.2
             }
            },
            "type": "barpolar"
           }
          ],
          "carpet": [
           {
            "aaxis": {
             "endlinecolor": "#2a3f5f",
             "gridcolor": "white",
             "linecolor": "white",
             "minorgridcolor": "white",
             "startlinecolor": "#2a3f5f"
            },
            "baxis": {
             "endlinecolor": "#2a3f5f",
             "gridcolor": "white",
             "linecolor": "white",
             "minorgridcolor": "white",
             "startlinecolor": "#2a3f5f"
            },
            "type": "carpet"
           }
          ],
          "choropleth": [
           {
            "colorbar": {
             "outlinewidth": 0,
             "ticks": ""
            },
            "type": "choropleth"
           }
          ],
          "contour": [
           {
            "colorbar": {
             "outlinewidth": 0,
             "ticks": ""
            },
            "colorscale": [
             [
              0,
              "#0d0887"
             ],
             [
              0.1111111111111111,
              "#46039f"
             ],
             [
              0.2222222222222222,
              "#7201a8"
             ],
             [
              0.3333333333333333,
              "#9c179e"
             ],
             [
              0.4444444444444444,
              "#bd3786"
             ],
             [
              0.5555555555555556,
              "#d8576b"
             ],
             [
              0.6666666666666666,
              "#ed7953"
             ],
             [
              0.7777777777777778,
              "#fb9f3a"
             ],
             [
              0.8888888888888888,
              "#fdca26"
             ],
             [
              1,
              "#f0f921"
             ]
            ],
            "type": "contour"
           }
          ],
          "contourcarpet": [
           {
            "colorbar": {
             "outlinewidth": 0,
             "ticks": ""
            },
            "type": "contourcarpet"
           }
          ],
          "heatmap": [
           {
            "colorbar": {
             "outlinewidth": 0,
             "ticks": ""
            },
            "colorscale": [
             [
              0,
              "#0d0887"
             ],
             [
              0.1111111111111111,
              "#46039f"
             ],
             [
              0.2222222222222222,
              "#7201a8"
             ],
             [
              0.3333333333333333,
              "#9c179e"
             ],
             [
              0.4444444444444444,
              "#bd3786"
             ],
             [
              0.5555555555555556,
              "#d8576b"
             ],
             [
              0.6666666666666666,
              "#ed7953"
             ],
             [
              0.7777777777777778,
              "#fb9f3a"
             ],
             [
              0.8888888888888888,
              "#fdca26"
             ],
             [
              1,
              "#f0f921"
             ]
            ],
            "type": "heatmap"
           }
          ],
          "heatmapgl": [
           {
            "colorbar": {
             "outlinewidth": 0,
             "ticks": ""
            },
            "colorscale": [
             [
              0,
              "#0d0887"
             ],
             [
              0.1111111111111111,
              "#46039f"
             ],
             [
              0.2222222222222222,
              "#7201a8"
             ],
             [
              0.3333333333333333,
              "#9c179e"
             ],
             [
              0.4444444444444444,
              "#bd3786"
             ],
             [
              0.5555555555555556,
              "#d8576b"
             ],
             [
              0.6666666666666666,
              "#ed7953"
             ],
             [
              0.7777777777777778,
              "#fb9f3a"
             ],
             [
              0.8888888888888888,
              "#fdca26"
             ],
             [
              1,
              "#f0f921"
             ]
            ],
            "type": "heatmapgl"
           }
          ],
          "histogram": [
           {
            "marker": {
             "pattern": {
              "fillmode": "overlay",
              "size": 10,
              "solidity": 0.2
             }
            },
            "type": "histogram"
           }
          ],
          "histogram2d": [
           {
            "colorbar": {
             "outlinewidth": 0,
             "ticks": ""
            },
            "colorscale": [
             [
              0,
              "#0d0887"
             ],
             [
              0.1111111111111111,
              "#46039f"
             ],
             [
              0.2222222222222222,
              "#7201a8"
             ],
             [
              0.3333333333333333,
              "#9c179e"
             ],
             [
              0.4444444444444444,
              "#bd3786"
             ],
             [
              0.5555555555555556,
              "#d8576b"
             ],
             [
              0.6666666666666666,
              "#ed7953"
             ],
             [
              0.7777777777777778,
              "#fb9f3a"
             ],
             [
              0.8888888888888888,
              "#fdca26"
             ],
             [
              1,
              "#f0f921"
             ]
            ],
            "type": "histogram2d"
           }
          ],
          "histogram2dcontour": [
           {
            "colorbar": {
             "outlinewidth": 0,
             "ticks": ""
            },
            "colorscale": [
             [
              0,
              "#0d0887"
             ],
             [
              0.1111111111111111,
              "#46039f"
             ],
             [
              0.2222222222222222,
              "#7201a8"
             ],
             [
              0.3333333333333333,
              "#9c179e"
             ],
             [
              0.4444444444444444,
              "#bd3786"
             ],
             [
              0.5555555555555556,
              "#d8576b"
             ],
             [
              0.6666666666666666,
              "#ed7953"
             ],
             [
              0.7777777777777778,
              "#fb9f3a"
             ],
             [
              0.8888888888888888,
              "#fdca26"
             ],
             [
              1,
              "#f0f921"
             ]
            ],
            "type": "histogram2dcontour"
           }
          ],
          "mesh3d": [
           {
            "colorbar": {
             "outlinewidth": 0,
             "ticks": ""
            },
            "type": "mesh3d"
           }
          ],
          "parcoords": [
           {
            "line": {
             "colorbar": {
              "outlinewidth": 0,
              "ticks": ""
             }
            },
            "type": "parcoords"
           }
          ],
          "pie": [
           {
            "automargin": true,
            "type": "pie"
           }
          ],
          "scatter": [
           {
            "fillpattern": {
             "fillmode": "overlay",
             "size": 10,
             "solidity": 0.2
            },
            "type": "scatter"
           }
          ],
          "scatter3d": [
           {
            "line": {
             "colorbar": {
              "outlinewidth": 0,
              "ticks": ""
             }
            },
            "marker": {
             "colorbar": {
              "outlinewidth": 0,
              "ticks": ""
             }
            },
            "type": "scatter3d"
           }
          ],
          "scattercarpet": [
           {
            "marker": {
             "colorbar": {
              "outlinewidth": 0,
              "ticks": ""
             }
            },
            "type": "scattercarpet"
           }
          ],
          "scattergeo": [
           {
            "marker": {
             "colorbar": {
              "outlinewidth": 0,
              "ticks": ""
             }
            },
            "type": "scattergeo"
           }
          ],
          "scattergl": [
           {
            "marker": {
             "colorbar": {
              "outlinewidth": 0,
              "ticks": ""
             }
            },
            "type": "scattergl"
           }
          ],
          "scattermapbox": [
           {
            "marker": {
             "colorbar": {
              "outlinewidth": 0,
              "ticks": ""
             }
            },
            "type": "scattermapbox"
           }
          ],
          "scatterpolar": [
           {
            "marker": {
             "colorbar": {
              "outlinewidth": 0,
              "ticks": ""
             }
            },
            "type": "scatterpolar"
           }
          ],
          "scatterpolargl": [
           {
            "marker": {
             "colorbar": {
              "outlinewidth": 0,
              "ticks": ""
             }
            },
            "type": "scatterpolargl"
           }
          ],
          "scatterternary": [
           {
            "marker": {
             "colorbar": {
              "outlinewidth": 0,
              "ticks": ""
             }
            },
            "type": "scatterternary"
           }
          ],
          "surface": [
           {
            "colorbar": {
             "outlinewidth": 0,
             "ticks": ""
            },
            "colorscale": [
             [
              0,
              "#0d0887"
             ],
             [
              0.1111111111111111,
              "#46039f"
             ],
             [
              0.2222222222222222,
              "#7201a8"
             ],
             [
              0.3333333333333333,
              "#9c179e"
             ],
             [
              0.4444444444444444,
              "#bd3786"
             ],
             [
              0.5555555555555556,
              "#d8576b"
             ],
             [
              0.6666666666666666,
              "#ed7953"
             ],
             [
              0.7777777777777778,
              "#fb9f3a"
             ],
             [
              0.8888888888888888,
              "#fdca26"
             ],
             [
              1,
              "#f0f921"
             ]
            ],
            "type": "surface"
           }
          ],
          "table": [
           {
            "cells": {
             "fill": {
              "color": "#EBF0F8"
             },
             "line": {
              "color": "white"
             }
            },
            "header": {
             "fill": {
              "color": "#C8D4E3"
             },
             "line": {
              "color": "white"
             }
            },
            "type": "table"
           }
          ]
         },
         "layout": {
          "annotationdefaults": {
           "arrowcolor": "#2a3f5f",
           "arrowhead": 0,
           "arrowwidth": 1
          },
          "autotypenumbers": "strict",
          "coloraxis": {
           "colorbar": {
            "outlinewidth": 0,
            "ticks": ""
           }
          },
          "colorscale": {
           "diverging": [
            [
             0,
             "#8e0152"
            ],
            [
             0.1,
             "#c51b7d"
            ],
            [
             0.2,
             "#de77ae"
            ],
            [
             0.3,
             "#f1b6da"
            ],
            [
             0.4,
             "#fde0ef"
            ],
            [
             0.5,
             "#f7f7f7"
            ],
            [
             0.6,
             "#e6f5d0"
            ],
            [
             0.7,
             "#b8e186"
            ],
            [
             0.8,
             "#7fbc41"
            ],
            [
             0.9,
             "#4d9221"
            ],
            [
             1,
             "#276419"
            ]
           ],
           "sequential": [
            [
             0,
             "#0d0887"
            ],
            [
             0.1111111111111111,
             "#46039f"
            ],
            [
             0.2222222222222222,
             "#7201a8"
            ],
            [
             0.3333333333333333,
             "#9c179e"
            ],
            [
             0.4444444444444444,
             "#bd3786"
            ],
            [
             0.5555555555555556,
             "#d8576b"
            ],
            [
             0.6666666666666666,
             "#ed7953"
            ],
            [
             0.7777777777777778,
             "#fb9f3a"
            ],
            [
             0.8888888888888888,
             "#fdca26"
            ],
            [
             1,
             "#f0f921"
            ]
           ],
           "sequentialminus": [
            [
             0,
             "#0d0887"
            ],
            [
             0.1111111111111111,
             "#46039f"
            ],
            [
             0.2222222222222222,
             "#7201a8"
            ],
            [
             0.3333333333333333,
             "#9c179e"
            ],
            [
             0.4444444444444444,
             "#bd3786"
            ],
            [
             0.5555555555555556,
             "#d8576b"
            ],
            [
             0.6666666666666666,
             "#ed7953"
            ],
            [
             0.7777777777777778,
             "#fb9f3a"
            ],
            [
             0.8888888888888888,
             "#fdca26"
            ],
            [
             1,
             "#f0f921"
            ]
           ]
          },
          "colorway": [
           "#636efa",
           "#EF553B",
           "#00cc96",
           "#ab63fa",
           "#FFA15A",
           "#19d3f3",
           "#FF6692",
           "#B6E880",
           "#FF97FF",
           "#FECB52"
          ],
          "font": {
           "color": "#2a3f5f"
          },
          "geo": {
           "bgcolor": "white",
           "lakecolor": "white",
           "landcolor": "#E5ECF6",
           "showlakes": true,
           "showland": true,
           "subunitcolor": "white"
          },
          "hoverlabel": {
           "align": "left"
          },
          "hovermode": "closest",
          "mapbox": {
           "style": "light"
          },
          "paper_bgcolor": "white",
          "plot_bgcolor": "#E5ECF6",
          "polar": {
           "angularaxis": {
            "gridcolor": "white",
            "linecolor": "white",
            "ticks": ""
           },
           "bgcolor": "#E5ECF6",
           "radialaxis": {
            "gridcolor": "white",
            "linecolor": "white",
            "ticks": ""
           }
          },
          "scene": {
           "xaxis": {
            "backgroundcolor": "#E5ECF6",
            "gridcolor": "white",
            "gridwidth": 2,
            "linecolor": "white",
            "showbackground": true,
            "ticks": "",
            "zerolinecolor": "white"
           },
           "yaxis": {
            "backgroundcolor": "#E5ECF6",
            "gridcolor": "white",
            "gridwidth": 2,
            "linecolor": "white",
            "showbackground": true,
            "ticks": "",
            "zerolinecolor": "white"
           },
           "zaxis": {
            "backgroundcolor": "#E5ECF6",
            "gridcolor": "white",
            "gridwidth": 2,
            "linecolor": "white",
            "showbackground": true,
            "ticks": "",
            "zerolinecolor": "white"
           }
          },
          "shapedefaults": {
           "line": {
            "color": "#2a3f5f"
           }
          },
          "ternary": {
           "aaxis": {
            "gridcolor": "white",
            "linecolor": "white",
            "ticks": ""
           },
           "baxis": {
            "gridcolor": "white",
            "linecolor": "white",
            "ticks": ""
           },
           "bgcolor": "#E5ECF6",
           "caxis": {
            "gridcolor": "white",
            "linecolor": "white",
            "ticks": ""
           }
          },
          "title": {
           "x": 0.05
          },
          "xaxis": {
           "automargin": true,
           "gridcolor": "white",
           "linecolor": "white",
           "ticks": "",
           "title": {
            "standoff": 15
           },
           "zerolinecolor": "white",
           "zerolinewidth": 2
          },
          "yaxis": {
           "automargin": true,
           "gridcolor": "white",
           "linecolor": "white",
           "ticks": "",
           "title": {
            "standoff": 15
           },
           "zerolinecolor": "white",
           "zerolinewidth": 2
          }
         }
        },
        "title": {
         "text": "Best 30 ST"
        },
        "updatemenus": [
         {
          "buttons": [
           {
            "args": [
             {
              "visible": [
               true,
               false,
               false,
               false,
               false,
               false,
               false,
               false,
               false,
               false,
               false,
               false,
               false,
               false,
               false,
               false,
               false,
               false,
               false,
               false,
               false,
               false,
               false,
               false,
               false,
               false,
               false,
               false,
               false,
               false
              ]
             }
            ],
            "label": "Kylian Mbappé",
            "method": "update"
           },
           {
            "args": [
             {
              "visible": [
               false,
               true,
               false,
               false,
               false,
               false,
               false,
               false,
               false,
               false,
               false,
               false,
               false,
               false,
               false,
               false,
               false,
               false,
               false,
               false,
               false,
               false,
               false,
               false,
               false,
               false,
               false,
               false,
               false,
               false
              ]
             }
            ],
            "label": "Erling Haaland",
            "method": "update"
           },
           {
            "args": [
             {
              "visible": [
               false,
               false,
               true,
               false,
               false,
               false,
               false,
               false,
               false,
               false,
               false,
               false,
               false,
               false,
               false,
               false,
               false,
               false,
               false,
               false,
               false,
               false,
               false,
               false,
               false,
               false,
               false,
               false,
               false,
               false
              ]
             }
            ],
            "label": "Sam Kerr",
            "method": "update"
           },
           {
            "args": [
             {
              "visible": [
               false,
               false,
               false,
               true,
               false,
               false,
               false,
               false,
               false,
               false,
               false,
               false,
               false,
               false,
               false,
               false,
               false,
               false,
               false,
               false,
               false,
               false,
               false,
               false,
               false,
               false,
               false,
               false,
               false,
               false
              ]
             }
            ],
            "label": "Harry Kane",
            "method": "update"
           },
           {
            "args": [
             {
              "visible": [
               false,
               false,
               false,
               false,
               true,
               false,
               false,
               false,
               false,
               false,
               false,
               false,
               false,
               false,
               false,
               false,
               false,
               false,
               false,
               false,
               false,
               false,
               false,
               false,
               false,
               false,
               false,
               false,
               false,
               false
              ]
             }
            ],
            "label": "Ada Hegerberg",
            "method": "update"
           },
           {
            "args": [
             {
              "visible": [
               false,
               false,
               false,
               false,
               false,
               true,
               false,
               false,
               false,
               false,
               false,
               false,
               false,
               false,
               false,
               false,
               false,
               false,
               false,
               false,
               false,
               false,
               false,
               false,
               false,
               false,
               false,
               false,
               false,
               false
              ]
             }
            ],
            "label": "Sophia Smith",
            "method": "update"
           },
           {
            "args": [
             {
              "visible": [
               false,
               false,
               false,
               false,
               false,
               false,
               true,
               false,
               false,
               false,
               false,
               false,
               false,
               false,
               false,
               false,
               false,
               false,
               false,
               false,
               false,
               false,
               false,
               false,
               false,
               false,
               false,
               false,
               false,
               false
              ]
             }
            ],
            "label": "Lautaro Martínez",
            "method": "update"
           },
           {
            "args": [
             {
              "visible": [
               false,
               false,
               false,
               false,
               false,
               false,
               false,
               true,
               false,
               false,
               false,
               false,
               false,
               false,
               false,
               false,
               false,
               false,
               false,
               false,
               false,
               false,
               false,
               false,
               false,
               false,
               false,
               false,
               false,
               false
              ]
             }
            ],
            "label": "Marie Katoto",
            "method": "update"
           },
           {
            "args": [
             {
              "visible": [
               false,
               false,
               false,
               false,
               false,
               false,
               false,
               false,
               true,
               false,
               false,
               false,
               false,
               false,
               false,
               false,
               false,
               false,
               false,
               false,
               false,
               false,
               false,
               false,
               false,
               false,
               false,
               false,
               false,
               false
              ]
             }
            ],
            "label": "Robert Lewandowski",
            "method": "update"
           },
           {
            "args": [
             {
              "visible": [
               false,
               false,
               false,
               false,
               false,
               false,
               false,
               false,
               false,
               true,
               false,
               false,
               false,
               false,
               false,
               false,
               false,
               false,
               false,
               false,
               false,
               false,
               false,
               false,
               false,
               false,
               false,
               false,
               false,
               false
              ]
             }
            ],
            "label": "Antoine Griezmann",
            "method": "update"
           },
           {
            "args": [
             {
              "visible": [
               false,
               false,
               false,
               false,
               false,
               false,
               false,
               false,
               false,
               false,
               true,
               false,
               false,
               false,
               false,
               false,
               false,
               false,
               false,
               false,
               false,
               false,
               false,
               false,
               false,
               false,
               false,
               false,
               false,
               false
              ]
             }
            ],
            "label": "Alexandra Popp",
            "method": "update"
           },
           {
            "args": [
             {
              "visible": [
               false,
               false,
               false,
               false,
               false,
               false,
               false,
               false,
               false,
               false,
               false,
               true,
               false,
               false,
               false,
               false,
               false,
               false,
               false,
               false,
               false,
               false,
               false,
               false,
               false,
               false,
               false,
               false,
               false,
               false
              ]
             }
            ],
            "label": "Alex Morgan",
            "method": "update"
           },
           {
            "args": [
             {
              "visible": [
               false,
               false,
               false,
               false,
               false,
               false,
               false,
               false,
               false,
               false,
               false,
               false,
               true,
               false,
               false,
               false,
               false,
               false,
               false,
               false,
               false,
               false,
               false,
               false,
               false,
               false,
               false,
               false,
               false,
               false
              ]
             }
            ],
            "label": "Ewa Pajor",
            "method": "update"
           },
           {
            "args": [
             {
              "visible": [
               false,
               false,
               false,
               false,
               false,
               false,
               false,
               false,
               false,
               false,
               false,
               false,
               false,
               true,
               false,
               false,
               false,
               false,
               false,
               false,
               false,
               false,
               false,
               false,
               false,
               false,
               false,
               false,
               false,
               false
              ]
             }
            ],
            "label": "Heung Min Son",
            "method": "update"
           },
           {
            "args": [
             {
              "visible": [
               false,
               false,
               false,
               false,
               false,
               false,
               false,
               false,
               false,
               false,
               false,
               false,
               false,
               false,
               true,
               false,
               false,
               false,
               false,
               false,
               false,
               false,
               false,
               false,
               false,
               false,
               false,
               false,
               false,
               false
              ]
             }
            ],
            "label": "Victor Osimhen",
            "method": "update"
           },
           {
            "args": [
             {
              "visible": [
               false,
               false,
               false,
               false,
               false,
               false,
               false,
               false,
               false,
               false,
               false,
               false,
               false,
               false,
               false,
               true,
               false,
               false,
               false,
               false,
               false,
               false,
               false,
               false,
               false,
               false,
               false,
               false,
               false,
               false
              ]
             }
            ],
            "label": "Karim Benzema",
            "method": "update"
           },
           {
            "args": [
             {
              "visible": [
               false,
               false,
               false,
               false,
               false,
               false,
               false,
               false,
               false,
               false,
               false,
               false,
               false,
               false,
               false,
               false,
               true,
               false,
               false,
               false,
               false,
               false,
               false,
               false,
               false,
               false,
               false,
               false,
               false,
               false
              ]
             }
            ],
            "label": "Khadija Shaw",
            "method": "update"
           },
           {
            "args": [
             {
              "visible": [
               false,
               false,
               false,
               false,
               false,
               false,
               false,
               false,
               false,
               false,
               false,
               false,
               false,
               false,
               false,
               false,
               false,
               true,
               false,
               false,
               false,
               false,
               false,
               false,
               false,
               false,
               false,
               false,
               false,
               false
              ]
             }
            ],
            "label": "Lea Schüller",
            "method": "update"
           },
           {
            "args": [
             {
              "visible": [
               false,
               false,
               false,
               false,
               false,
               false,
               false,
               false,
               false,
               false,
               false,
               false,
               false,
               false,
               false,
               false,
               false,
               false,
               true,
               false,
               false,
               false,
               false,
               false,
               false,
               false,
               false,
               false,
               false,
               false
              ]
             }
            ],
            "label": "Cristiano Ronaldo",
            "method": "update"
           },
           {
            "args": [
             {
              "visible": [
               false,
               false,
               false,
               false,
               false,
               false,
               false,
               false,
               false,
               false,
               false,
               false,
               false,
               false,
               false,
               false,
               false,
               false,
               false,
               true,
               false,
               false,
               false,
               false,
               false,
               false,
               false,
               false,
               false,
               false
              ]
             }
            ],
            "label": "Vivianne Miedema",
            "method": "update"
           },
           {
            "args": [
             {
              "visible": [
               false,
               false,
               false,
               false,
               false,
               false,
               false,
               false,
               false,
               false,
               false,
               false,
               false,
               false,
               false,
               false,
               false,
               false,
               false,
               false,
               true,
               false,
               false,
               false,
               false,
               false,
               false,
               false,
               false,
               false
              ]
             }
            ],
            "label": "Diogo Jota",
            "method": "update"
           },
           {
            "args": [
             {
              "visible": [
               false,
               false,
               false,
               false,
               false,
               false,
               false,
               false,
               false,
               false,
               false,
               false,
               false,
               false,
               false,
               false,
               false,
               false,
               false,
               false,
               false,
               true,
               false,
               false,
               false,
               false,
               false,
               false,
               false,
               false
              ]
             }
            ],
            "label": "Loïs Openda",
            "method": "update"
           },
           {
            "args": [
             {
              "visible": [
               false,
               false,
               false,
               false,
               false,
               false,
               false,
               false,
               false,
               false,
               false,
               false,
               false,
               false,
               false,
               false,
               false,
               false,
               false,
               false,
               false,
               false,
               true,
               false,
               false,
               false,
               false,
               false,
               false,
               false
              ]
             }
            ],
            "label": "Alessia Russo",
            "method": "update"
           },
           {
            "args": [
             {
              "visible": [
               false,
               false,
               false,
               false,
               false,
               false,
               false,
               false,
               false,
               false,
               false,
               false,
               false,
               false,
               false,
               false,
               false,
               false,
               false,
               false,
               false,
               false,
               false,
               true,
               false,
               false,
               false,
               false,
               false,
               false
              ]
             }
            ],
            "label": "Asisat Oshoala",
            "method": "update"
           },
           {
            "args": [
             {
              "visible": [
               false,
               false,
               false,
               false,
               false,
               false,
               false,
               false,
               false,
               false,
               false,
               false,
               false,
               false,
               false,
               false,
               false,
               false,
               false,
               false,
               false,
               false,
               false,
               false,
               true,
               false,
               false,
               false,
               false,
               false
              ]
             }
            ],
            "label": "Eugénie Le Sommer",
            "method": "update"
           },
           {
            "args": [
             {
              "visible": [
               false,
               false,
               false,
               false,
               false,
               false,
               false,
               false,
               false,
               false,
               false,
               false,
               false,
               false,
               false,
               false,
               false,
               false,
               false,
               false,
               false,
               false,
               false,
               false,
               false,
               true,
               false,
               false,
               false,
               false
              ]
             }
            ],
            "label": "Cristiana Girelli",
            "method": "update"
           },
           {
            "args": [
             {
              "visible": [
               false,
               false,
               false,
               false,
               false,
               false,
               false,
               false,
               false,
               false,
               false,
               false,
               false,
               false,
               false,
               false,
               false,
               false,
               false,
               false,
               false,
               false,
               false,
               false,
               false,
               false,
               true,
               false,
               false,
               false
              ]
             }
            ],
            "label": "Rachel Daly",
            "method": "update"
           },
           {
            "args": [
             {
              "visible": [
               false,
               false,
               false,
               false,
               false,
               false,
               false,
               false,
               false,
               false,
               false,
               false,
               false,
               false,
               false,
               false,
               false,
               false,
               false,
               false,
               false,
               false,
               false,
               false,
               false,
               false,
               false,
               true,
               false,
               false
              ]
             }
            ],
            "label": "Alexander Isak",
            "method": "update"
           },
           {
            "args": [
             {
              "visible": [
               false,
               false,
               false,
               false,
               false,
               false,
               false,
               false,
               false,
               false,
               false,
               false,
               false,
               false,
               false,
               false,
               false,
               false,
               false,
               false,
               false,
               false,
               false,
               false,
               false,
               false,
               false,
               false,
               true,
               false
              ]
             }
            ],
            "label": "Ollie Watkins",
            "method": "update"
           },
           {
            "args": [
             {
              "visible": [
               false,
               false,
               false,
               false,
               false,
               false,
               false,
               false,
               false,
               false,
               false,
               false,
               false,
               false,
               false,
               false,
               false,
               false,
               false,
               false,
               false,
               false,
               false,
               false,
               false,
               false,
               false,
               false,
               false,
               true
              ]
             }
            ],
            "label": "Tabitha Chawinga",
            "method": "update"
           }
          ],
          "direction": "down",
          "showactive": true
         }
        ],
        "xaxis": {
         "title": {
          "text": "Attributes"
         }
        },
        "yaxis": {
         "title": {
          "text": "Value"
         }
        }
       }
      }
     },
     "metadata": {},
     "output_type": "display_data"
    }
   ],
   "source": [
    "fig = go.Figure()\n",
    "\n",
    "for player in st_data['Name']:\n",
    "    player_data = st_data[st_data['Name'] == player][st_stats].values.flatten()\n",
    "    fig.add_trace(\n",
    "        go.Bar(\n",
    "            x=st_stats,\n",
    "            y=player_data,\n",
    "            name=player,\n",
    "            visible=False\n",
    "        )\n",
    "    )\n",
    "\n",
    "fig.data[0].visible = True\n",
    "\n",
    "fig.update_layout(\n",
    "    updatemenus=[\n",
    "        dict(\n",
    "            buttons=[\n",
    "                dict(\n",
    "                    args=[{\"visible\": [i == j for i in range(len(st_data['Name']))]}],  \n",
    "                    label=player,\n",
    "                    method='update'\n",
    "                )\n",
    "                for j, player in enumerate(st_data['Name'])  \n",
    "            ],\n",
    "            direction='down',\n",
    "            showactive=True,\n",
    "        )\n",
    "    ]\n",
    ")\n",
    "\n",
    "fig.update_layout(\n",
    "    title='Best 30 ST',\n",
    "    xaxis_title='Attributes',\n",
    "    yaxis_title='Value',\n",
    "    showlegend=False\n",
    ")\n",
    "\n",
    "fig.show()"
   ]
  },
  {
   "cell_type": "code",
   "execution_count": 28,
   "metadata": {},
   "outputs": [
    {
     "name": "stdout",
     "output_type": "stream",
     "text": [
      "Name Kylian Mbappé, index: 0, best atribute is: OVR and its value is: 91\n",
      "Name Kylian Mbappé, index: 0, best atribute is: PAC and its value is: 97\n",
      "Name Harry Kane, index: 3, best atribute is: SHO and its value is: 93\n",
      "Name Erling Haaland, index: 1, best atribute is: Positioning and its value is: 96\n",
      "Name Erling Haaland, index: 1, best atribute is: Finishing and its value is: 96\n",
      "Name Erling Haaland, index: 1, best atribute is: Shot Power and its value is: 94\n",
      "Name Harry Kane, index: 3, best atribute is: Long Shots and its value is: 89\n",
      "Name Sam Kerr, index: 2, best atribute is: Volleys and its value is: 92\n"
     ]
    }
   ],
   "source": [
    "for stat in st_stats:\n",
    "    print(f'Name {st_data.Name[st_data[stat].idxmax()]}, index: {st_data[stat].idxmax()}, best atribute is: {stat} and its value is: {st_data[stat].iloc[st_data[stat].idxmax()]}')"
   ]
  },
  {
   "cell_type": "code",
   "execution_count": 29,
   "metadata": {},
   "outputs": [
    {
     "data": {
      "image/png": "[encoded data removed]",
      "text/plain": [
       "<Figure size 1200x800 with 1 Axes>"
      ]
     },
     "metadata": {},
     "output_type": "display_data"
    }
   ],
   "source": [
    "best_st = st_data.loc[st_data[st_stats].idxmax()]\n",
    "\n",
    "plt.figure(figsize=(12,8))\n",
    "parallel_coordinates(best_st, class_column='Name', cols=st_stats)\n",
    "plt.legend(loc='center left', bbox_to_anchor=(1,0.5))\n",
    "plt.show()"
   ]
  },
  {
   "cell_type": "markdown",
   "metadata": {},
   "source": [
    "1) Haaland\n",
    "2) Harry Kane/Kylian Mbappé"
   ]
  }
 ],
 "metadata": {
  "kernelspec": {
   "display_name": "DataScience",
   "language": "python",
   "name": "python3"
  },
  "language_info": {
   "codemirror_mode": {
    "name": "ipython",
    "version": 3
   },
   "file_extension": ".py",
   "mimetype": "text/x-python",
   "name": "python",
   "nbconvert_exporter": "python",
   "pygments_lexer": "ipython3",
   "version": "3.11.9"
  }
 },
 "nbformat": 4,
 "nbformat_minor": 2
}
