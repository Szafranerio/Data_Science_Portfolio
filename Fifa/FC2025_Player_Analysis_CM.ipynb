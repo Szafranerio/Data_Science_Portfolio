{
 "cells": [
  {
   "cell_type": "code",
   "execution_count": 1,
   "metadata": {},
   "outputs": [],
   "source": [
    "import pandas as pd \n",
    "import numpy as np\n",
    "import seaborn as sns\n",
    "import matplotlib.pyplot as plt\n",
    "import pycountry\n",
    "import plotly.graph_objects as go\n",
    "import plotly.express as px\n",
    "from pandas.plotting import parallel_coordinates"
   ]
  },
  {
   "cell_type": "code",
   "execution_count": 2,
   "metadata": {},
   "outputs": [
    {
     "name": "stderr",
     "output_type": "stream",
     "text": [
      "/var/folders/yk/fs7s5htj44b8ds6qh_c6gb0m0000gn/T/ipykernel_75552/2329133090.py:1: DtypeWarning: Columns (33) have mixed types. Specify dtype option on import or set low_memory=False.\n",
      "  all_data = pd.read_csv('./data/fifa/all_players.csv')\n"
     ]
    },
    {
     "data": {
      "text/html": [
       "<div>\n",
       "<style scoped>\n",
       "    .dataframe tbody tr th:only-of-type {\n",
       "        vertical-align: middle;\n",
       "    }\n",
       "\n",
       "    .dataframe tbody tr th {\n",
       "        vertical-align: top;\n",
       "    }\n",
       "\n",
       "    .dataframe thead th {\n",
       "        text-align: right;\n",
       "    }\n",
       "</style>\n",
       "<table border=\"1\" class=\"dataframe\">\n",
       "  <thead>\n",
       "    <tr style=\"text-align: right;\">\n",
       "      <th></th>\n",
       "      <th>Rank</th>\n",
       "      <th>Name</th>\n",
       "      <th>OVR</th>\n",
       "      <th>PAC</th>\n",
       "      <th>SHO</th>\n",
       "      <th>PAS</th>\n",
       "      <th>DRI</th>\n",
       "      <th>DEF</th>\n",
       "      <th>PHY</th>\n",
       "      <th>Acceleration</th>\n",
       "      <th>...</th>\n",
       "      <th>Preferred foot</th>\n",
       "      <th>Age</th>\n",
       "      <th>Nation</th>\n",
       "      <th>League</th>\n",
       "      <th>Team</th>\n",
       "      <th>GK Diving</th>\n",
       "      <th>GK Handling</th>\n",
       "      <th>GK Kicking</th>\n",
       "      <th>GK Positioning</th>\n",
       "      <th>GK Reflexes</th>\n",
       "    </tr>\n",
       "  </thead>\n",
       "  <tbody>\n",
       "    <tr>\n",
       "      <th>0</th>\n",
       "      <td>1</td>\n",
       "      <td>Kylian Mbappé</td>\n",
       "      <td>91</td>\n",
       "      <td>97</td>\n",
       "      <td>90</td>\n",
       "      <td>80</td>\n",
       "      <td>92</td>\n",
       "      <td>36</td>\n",
       "      <td>78</td>\n",
       "      <td>97</td>\n",
       "      <td>...</td>\n",
       "      <td>Right</td>\n",
       "      <td>25</td>\n",
       "      <td>France</td>\n",
       "      <td>LALIGA EA SPORTS</td>\n",
       "      <td>Real Madrid</td>\n",
       "      <td>NaN</td>\n",
       "      <td>NaN</td>\n",
       "      <td>NaN</td>\n",
       "      <td>NaN</td>\n",
       "      <td>NaN</td>\n",
       "    </tr>\n",
       "    <tr>\n",
       "      <th>1</th>\n",
       "      <td>2</td>\n",
       "      <td>Rodri</td>\n",
       "      <td>91</td>\n",
       "      <td>66</td>\n",
       "      <td>80</td>\n",
       "      <td>86</td>\n",
       "      <td>84</td>\n",
       "      <td>87</td>\n",
       "      <td>85</td>\n",
       "      <td>65</td>\n",
       "      <td>...</td>\n",
       "      <td>Right</td>\n",
       "      <td>28</td>\n",
       "      <td>Spain</td>\n",
       "      <td>Premier League</td>\n",
       "      <td>Manchester City</td>\n",
       "      <td>NaN</td>\n",
       "      <td>NaN</td>\n",
       "      <td>NaN</td>\n",
       "      <td>NaN</td>\n",
       "      <td>NaN</td>\n",
       "    </tr>\n",
       "    <tr>\n",
       "      <th>2</th>\n",
       "      <td>4</td>\n",
       "      <td>Erling Haaland</td>\n",
       "      <td>91</td>\n",
       "      <td>88</td>\n",
       "      <td>92</td>\n",
       "      <td>70</td>\n",
       "      <td>81</td>\n",
       "      <td>45</td>\n",
       "      <td>88</td>\n",
       "      <td>80</td>\n",
       "      <td>...</td>\n",
       "      <td>Left</td>\n",
       "      <td>24</td>\n",
       "      <td>Norway</td>\n",
       "      <td>Premier League</td>\n",
       "      <td>Manchester City</td>\n",
       "      <td>NaN</td>\n",
       "      <td>NaN</td>\n",
       "      <td>NaN</td>\n",
       "      <td>NaN</td>\n",
       "      <td>NaN</td>\n",
       "    </tr>\n",
       "    <tr>\n",
       "      <th>3</th>\n",
       "      <td>5</td>\n",
       "      <td>Jude Bellingham</td>\n",
       "      <td>90</td>\n",
       "      <td>80</td>\n",
       "      <td>87</td>\n",
       "      <td>83</td>\n",
       "      <td>88</td>\n",
       "      <td>78</td>\n",
       "      <td>83</td>\n",
       "      <td>81</td>\n",
       "      <td>...</td>\n",
       "      <td>Right</td>\n",
       "      <td>21</td>\n",
       "      <td>England</td>\n",
       "      <td>LALIGA EA SPORTS</td>\n",
       "      <td>Real Madrid</td>\n",
       "      <td>NaN</td>\n",
       "      <td>NaN</td>\n",
       "      <td>NaN</td>\n",
       "      <td>NaN</td>\n",
       "      <td>NaN</td>\n",
       "    </tr>\n",
       "    <tr>\n",
       "      <th>4</th>\n",
       "      <td>7</td>\n",
       "      <td>Vini Jr.</td>\n",
       "      <td>90</td>\n",
       "      <td>95</td>\n",
       "      <td>84</td>\n",
       "      <td>81</td>\n",
       "      <td>91</td>\n",
       "      <td>29</td>\n",
       "      <td>69</td>\n",
       "      <td>95</td>\n",
       "      <td>...</td>\n",
       "      <td>Right</td>\n",
       "      <td>24</td>\n",
       "      <td>Brazil</td>\n",
       "      <td>LALIGA EA SPORTS</td>\n",
       "      <td>Real Madrid</td>\n",
       "      <td>NaN</td>\n",
       "      <td>NaN</td>\n",
       "      <td>NaN</td>\n",
       "      <td>NaN</td>\n",
       "      <td>NaN</td>\n",
       "    </tr>\n",
       "    <tr>\n",
       "      <th>...</th>\n",
       "      <td>...</td>\n",
       "      <td>...</td>\n",
       "      <td>...</td>\n",
       "      <td>...</td>\n",
       "      <td>...</td>\n",
       "      <td>...</td>\n",
       "      <td>...</td>\n",
       "      <td>...</td>\n",
       "      <td>...</td>\n",
       "      <td>...</td>\n",
       "      <td>...</td>\n",
       "      <td>...</td>\n",
       "      <td>...</td>\n",
       "      <td>...</td>\n",
       "      <td>...</td>\n",
       "      <td>...</td>\n",
       "      <td>...</td>\n",
       "      <td>...</td>\n",
       "      <td>...</td>\n",
       "      <td>...</td>\n",
       "      <td>...</td>\n",
       "    </tr>\n",
       "    <tr>\n",
       "      <th>17732</th>\n",
       "      <td>17146</td>\n",
       "      <td>Araya Dennis</td>\n",
       "      <td>53</td>\n",
       "      <td>42</td>\n",
       "      <td>57</td>\n",
       "      <td>49</td>\n",
       "      <td>52</td>\n",
       "      <td>25</td>\n",
       "      <td>42</td>\n",
       "      <td>44</td>\n",
       "      <td>...</td>\n",
       "      <td>Right</td>\n",
       "      <td>18</td>\n",
       "      <td>England</td>\n",
       "      <td>Barclays WSL</td>\n",
       "      <td>Spurs</td>\n",
       "      <td>NaN</td>\n",
       "      <td>NaN</td>\n",
       "      <td>NaN</td>\n",
       "      <td>NaN</td>\n",
       "      <td>NaN</td>\n",
       "    </tr>\n",
       "    <tr>\n",
       "      <th>17733</th>\n",
       "      <td>17146</td>\n",
       "      <td>Alexia Férnandez</td>\n",
       "      <td>53</td>\n",
       "      <td>53</td>\n",
       "      <td>55</td>\n",
       "      <td>51</td>\n",
       "      <td>53</td>\n",
       "      <td>34</td>\n",
       "      <td>47</td>\n",
       "      <td>52</td>\n",
       "      <td>...</td>\n",
       "      <td>Right</td>\n",
       "      <td>22</td>\n",
       "      <td>Spain</td>\n",
       "      <td>Liga F</td>\n",
       "      <td>Granada CF</td>\n",
       "      <td>NaN</td>\n",
       "      <td>NaN</td>\n",
       "      <td>NaN</td>\n",
       "      <td>NaN</td>\n",
       "      <td>NaN</td>\n",
       "    </tr>\n",
       "    <tr>\n",
       "      <th>17734</th>\n",
       "      <td>17146</td>\n",
       "      <td>Aleigh Gambone</td>\n",
       "      <td>53</td>\n",
       "      <td>60</td>\n",
       "      <td>58</td>\n",
       "      <td>53</td>\n",
       "      <td>56</td>\n",
       "      <td>49</td>\n",
       "      <td>53</td>\n",
       "      <td>58</td>\n",
       "      <td>...</td>\n",
       "      <td>Right</td>\n",
       "      <td>23</td>\n",
       "      <td>United States</td>\n",
       "      <td>Scottish Women's League</td>\n",
       "      <td>Glasgow City FC</td>\n",
       "      <td>NaN</td>\n",
       "      <td>NaN</td>\n",
       "      <td>NaN</td>\n",
       "      <td>NaN</td>\n",
       "      <td>NaN</td>\n",
       "    </tr>\n",
       "    <tr>\n",
       "      <th>17735</th>\n",
       "      <td>17146</td>\n",
       "      <td>Joy Lysser</td>\n",
       "      <td>53</td>\n",
       "      <td>61</td>\n",
       "      <td>52</td>\n",
       "      <td>48</td>\n",
       "      <td>56</td>\n",
       "      <td>53</td>\n",
       "      <td>58</td>\n",
       "      <td>60</td>\n",
       "      <td>...</td>\n",
       "      <td>Left</td>\n",
       "      <td>20</td>\n",
       "      <td>Switzerland</td>\n",
       "      <td>Schweizer Damen Liga</td>\n",
       "      <td>FC Zürich</td>\n",
       "      <td>NaN</td>\n",
       "      <td>NaN</td>\n",
       "      <td>NaN</td>\n",
       "      <td>NaN</td>\n",
       "      <td>NaN</td>\n",
       "    </tr>\n",
       "    <tr>\n",
       "      <th>17736</th>\n",
       "      <td>17146</td>\n",
       "      <td>Kateřina Vithová</td>\n",
       "      <td>53</td>\n",
       "      <td>60</td>\n",
       "      <td>49</td>\n",
       "      <td>53</td>\n",
       "      <td>54</td>\n",
       "      <td>27</td>\n",
       "      <td>55</td>\n",
       "      <td>59</td>\n",
       "      <td>...</td>\n",
       "      <td>Left</td>\n",
       "      <td>18</td>\n",
       "      <td>Czech Republic</td>\n",
       "      <td>Ceska Liga Žen</td>\n",
       "      <td>Slavia Praha</td>\n",
       "      <td>NaN</td>\n",
       "      <td>NaN</td>\n",
       "      <td>NaN</td>\n",
       "      <td>NaN</td>\n",
       "      <td>NaN</td>\n",
       "    </tr>\n",
       "  </tbody>\n",
       "</table>\n",
       "<p>17737 rows × 51 columns</p>\n",
       "</div>"
      ],
      "text/plain": [
       "        Rank              Name  OVR  PAC  SHO  PAS  DRI  DEF  PHY  \\\n",
       "0          1     Kylian Mbappé   91   97   90   80   92   36   78   \n",
       "1          2             Rodri   91   66   80   86   84   87   85   \n",
       "2          4    Erling Haaland   91   88   92   70   81   45   88   \n",
       "3          5   Jude Bellingham   90   80   87   83   88   78   83   \n",
       "4          7          Vini Jr.   90   95   84   81   91   29   69   \n",
       "...      ...               ...  ...  ...  ...  ...  ...  ...  ...   \n",
       "17732  17146      Araya Dennis   53   42   57   49   52   25   42   \n",
       "17733  17146  Alexia Férnandez   53   53   55   51   53   34   47   \n",
       "17734  17146    Aleigh Gambone   53   60   58   53   56   49   53   \n",
       "17735  17146        Joy Lysser   53   61   52   48   56   53   58   \n",
       "17736  17146  Kateřina Vithová   53   60   49   53   54   27   55   \n",
       "\n",
       "       Acceleration  ...  Preferred foot Age          Nation  \\\n",
       "0                97  ...           Right  25          France   \n",
       "1                65  ...           Right  28           Spain   \n",
       "2                80  ...            Left  24          Norway   \n",
       "3                81  ...           Right  21         England   \n",
       "4                95  ...           Right  24          Brazil   \n",
       "...             ...  ...             ...  ..             ...   \n",
       "17732            44  ...           Right  18         England   \n",
       "17733            52  ...           Right  22           Spain   \n",
       "17734            58  ...           Right  23   United States   \n",
       "17735            60  ...            Left  20     Switzerland   \n",
       "17736            59  ...            Left  18  Czech Republic   \n",
       "\n",
       "                        League             Team GK Diving  GK Handling  \\\n",
       "0             LALIGA EA SPORTS      Real Madrid       NaN          NaN   \n",
       "1               Premier League  Manchester City       NaN          NaN   \n",
       "2               Premier League  Manchester City       NaN          NaN   \n",
       "3             LALIGA EA SPORTS      Real Madrid       NaN          NaN   \n",
       "4             LALIGA EA SPORTS      Real Madrid       NaN          NaN   \n",
       "...                        ...              ...       ...          ...   \n",
       "17732             Barclays WSL            Spurs       NaN          NaN   \n",
       "17733                   Liga F       Granada CF       NaN          NaN   \n",
       "17734  Scottish Women's League  Glasgow City FC       NaN          NaN   \n",
       "17735     Schweizer Damen Liga        FC Zürich       NaN          NaN   \n",
       "17736           Ceska Liga Žen     Slavia Praha       NaN          NaN   \n",
       "\n",
       "       GK Kicking GK Positioning GK Reflexes  \n",
       "0             NaN            NaN         NaN  \n",
       "1             NaN            NaN         NaN  \n",
       "2             NaN            NaN         NaN  \n",
       "3             NaN            NaN         NaN  \n",
       "4             NaN            NaN         NaN  \n",
       "...           ...            ...         ...  \n",
       "17732         NaN            NaN         NaN  \n",
       "17733         NaN            NaN         NaN  \n",
       "17734         NaN            NaN         NaN  \n",
       "17735         NaN            NaN         NaN  \n",
       "17736         NaN            NaN         NaN  \n",
       "\n",
       "[17737 rows x 51 columns]"
      ]
     },
     "execution_count": 2,
     "metadata": {},
     "output_type": "execute_result"
    }
   ],
   "source": [
    "all_data = pd.read_csv('./data/fifa/all_players.csv')\n",
    "all_data.drop(['Unnamed: 0', 'Height', 'Weight', 'Alternative positions', 'play style', 'url'], axis = 1, inplace= True)\n",
    "\n",
    "all_data"
   ]
  },
  {
   "cell_type": "code",
   "execution_count": 3,
   "metadata": {},
   "outputs": [
    {
     "data": {
      "text/html": [
       "<div>\n",
       "<style scoped>\n",
       "    .dataframe tbody tr th:only-of-type {\n",
       "        vertical-align: middle;\n",
       "    }\n",
       "\n",
       "    .dataframe tbody tr th {\n",
       "        vertical-align: top;\n",
       "    }\n",
       "\n",
       "    .dataframe thead th {\n",
       "        text-align: right;\n",
       "    }\n",
       "</style>\n",
       "<table border=\"1\" class=\"dataframe\">\n",
       "  <thead>\n",
       "    <tr style=\"text-align: right;\">\n",
       "      <th></th>\n",
       "      <th>index</th>\n",
       "      <th>Rank</th>\n",
       "      <th>Name</th>\n",
       "      <th>OVR</th>\n",
       "      <th>PAC</th>\n",
       "      <th>SHO</th>\n",
       "      <th>PAS</th>\n",
       "      <th>DRI</th>\n",
       "      <th>DEF</th>\n",
       "      <th>PHY</th>\n",
       "      <th>...</th>\n",
       "      <th>Preferred foot</th>\n",
       "      <th>Age</th>\n",
       "      <th>Nation</th>\n",
       "      <th>League</th>\n",
       "      <th>Team</th>\n",
       "      <th>GK Diving</th>\n",
       "      <th>GK Handling</th>\n",
       "      <th>GK Kicking</th>\n",
       "      <th>GK Positioning</th>\n",
       "      <th>GK Reflexes</th>\n",
       "    </tr>\n",
       "  </thead>\n",
       "  <tbody>\n",
       "    <tr>\n",
       "      <th>0</th>\n",
       "      <td>1</td>\n",
       "      <td>2</td>\n",
       "      <td>Rodri</td>\n",
       "      <td>91</td>\n",
       "      <td>66</td>\n",
       "      <td>80</td>\n",
       "      <td>86</td>\n",
       "      <td>84</td>\n",
       "      <td>87</td>\n",
       "      <td>85</td>\n",
       "      <td>...</td>\n",
       "      <td>Right</td>\n",
       "      <td>28</td>\n",
       "      <td>Spain</td>\n",
       "      <td>Premier League</td>\n",
       "      <td>Manchester City</td>\n",
       "      <td>NaN</td>\n",
       "      <td>NaN</td>\n",
       "      <td>NaN</td>\n",
       "      <td>NaN</td>\n",
       "      <td>NaN</td>\n",
       "    </tr>\n",
       "    <tr>\n",
       "      <th>1</th>\n",
       "      <td>16171</td>\n",
       "      <td>31</td>\n",
       "      <td>Patri Guijarro</td>\n",
       "      <td>88</td>\n",
       "      <td>78</td>\n",
       "      <td>82</td>\n",
       "      <td>83</td>\n",
       "      <td>87</td>\n",
       "      <td>85</td>\n",
       "      <td>77</td>\n",
       "      <td>...</td>\n",
       "      <td>Right</td>\n",
       "      <td>26</td>\n",
       "      <td>Spain</td>\n",
       "      <td>Liga F</td>\n",
       "      <td>FC Barcelona</td>\n",
       "      <td>NaN</td>\n",
       "      <td>NaN</td>\n",
       "      <td>NaN</td>\n",
       "      <td>NaN</td>\n",
       "      <td>NaN</td>\n",
       "    </tr>\n",
       "    <tr>\n",
       "      <th>2</th>\n",
       "      <td>34</td>\n",
       "      <td>53</td>\n",
       "      <td>Declan Rice</td>\n",
       "      <td>87</td>\n",
       "      <td>73</td>\n",
       "      <td>72</td>\n",
       "      <td>82</td>\n",
       "      <td>79</td>\n",
       "      <td>84</td>\n",
       "      <td>85</td>\n",
       "      <td>...</td>\n",
       "      <td>Right</td>\n",
       "      <td>25</td>\n",
       "      <td>England</td>\n",
       "      <td>Premier League</td>\n",
       "      <td>Arsenal</td>\n",
       "      <td>NaN</td>\n",
       "      <td>NaN</td>\n",
       "      <td>NaN</td>\n",
       "      <td>NaN</td>\n",
       "      <td>NaN</td>\n",
       "    </tr>\n",
       "    <tr>\n",
       "      <th>3</th>\n",
       "      <td>16189</td>\n",
       "      <td>85</td>\n",
       "      <td>Lena Oberdorf</td>\n",
       "      <td>86</td>\n",
       "      <td>62</td>\n",
       "      <td>62</td>\n",
       "      <td>76</td>\n",
       "      <td>75</td>\n",
       "      <td>87</td>\n",
       "      <td>89</td>\n",
       "      <td>...</td>\n",
       "      <td>Right</td>\n",
       "      <td>22</td>\n",
       "      <td>Germany</td>\n",
       "      <td>GPFBL</td>\n",
       "      <td>FC Bayern München</td>\n",
       "      <td>NaN</td>\n",
       "      <td>NaN</td>\n",
       "      <td>NaN</td>\n",
       "      <td>NaN</td>\n",
       "      <td>NaN</td>\n",
       "    </tr>\n",
       "    <tr>\n",
       "      <th>4</th>\n",
       "      <td>47</td>\n",
       "      <td>70</td>\n",
       "      <td>Granit Xhaka</td>\n",
       "      <td>86</td>\n",
       "      <td>50</td>\n",
       "      <td>75</td>\n",
       "      <td>85</td>\n",
       "      <td>74</td>\n",
       "      <td>79</td>\n",
       "      <td>82</td>\n",
       "      <td>...</td>\n",
       "      <td>Left</td>\n",
       "      <td>31</td>\n",
       "      <td>Switzerland</td>\n",
       "      <td>Bundesliga</td>\n",
       "      <td>Leverkusen</td>\n",
       "      <td>NaN</td>\n",
       "      <td>NaN</td>\n",
       "      <td>NaN</td>\n",
       "      <td>NaN</td>\n",
       "      <td>NaN</td>\n",
       "    </tr>\n",
       "  </tbody>\n",
       "</table>\n",
       "<p>5 rows × 52 columns</p>\n",
       "</div>"
      ],
      "text/plain": [
       "   index  Rank            Name  OVR  PAC  SHO  PAS  DRI  DEF  PHY  ...  \\\n",
       "0      1     2           Rodri   91   66   80   86   84   87   85  ...   \n",
       "1  16171    31  Patri Guijarro   88   78   82   83   87   85   77  ...   \n",
       "2     34    53     Declan Rice   87   73   72   82   79   84   85  ...   \n",
       "3  16189    85   Lena Oberdorf   86   62   62   76   75   87   89  ...   \n",
       "4     47    70    Granit Xhaka   86   50   75   85   74   79   82  ...   \n",
       "\n",
       "   Preferred foot  Age       Nation          League               Team  \\\n",
       "0           Right   28        Spain  Premier League    Manchester City   \n",
       "1           Right   26        Spain          Liga F       FC Barcelona   \n",
       "2           Right   25      England  Premier League            Arsenal   \n",
       "3           Right   22      Germany           GPFBL  FC Bayern München   \n",
       "4            Left   31  Switzerland      Bundesliga         Leverkusen   \n",
       "\n",
       "  GK Diving GK Handling  GK Kicking  GK Positioning GK Reflexes  \n",
       "0       NaN         NaN         NaN             NaN         NaN  \n",
       "1       NaN         NaN         NaN             NaN         NaN  \n",
       "2       NaN         NaN         NaN             NaN         NaN  \n",
       "3       NaN         NaN         NaN             NaN         NaN  \n",
       "4       NaN         NaN         NaN             NaN         NaN  \n",
       "\n",
       "[5 rows x 52 columns]"
      ]
     },
     "execution_count": 3,
     "metadata": {},
     "output_type": "execute_result"
    }
   ],
   "source": [
    "cdm_stats = ['OVR', 'Interceptions', 'Standing Tackle', 'Def Awareness', 'Short Passing', 'Long Passing', 'Stamina', 'Strength' ,'Aggression', 'Composure', 'Reactions']\n",
    "cdm_data = all_data[all_data['Position'] == 'CDM']\n",
    "cdm_data = cdm_data.sort_values('OVR', ascending=False)[:15]\n",
    "cdm_data.reset_index(inplace=True)\n",
    "cdm_data.head()"
   ]
  },
  {
   "cell_type": "code",
   "execution_count": 4,
   "metadata": {},
   "outputs": [
    {
     "data": {
      "application/vnd.plotly.v1+json": {
       "config": {
        "plotlyServerURL": "https://plot.ly"
       },
       "data": [
        {
         "name": "Rodri",
         "type": "bar",
         "visible": true,
         "x": [
          "OVR",
          "Interceptions",
          "Standing Tackle",
          "Def Awareness",
          "Short Passing",
          "Long Passing",
          "Stamina",
          "Strength",
          "Aggression",
          "Composure",
          "Reactions"
         ],
         "y": [
          91,
          "84",
          "87",
          "92",
          93,
          91,
          91,
          83,
          85,
          94,
          93
         ]
        },
        {
         "name": "Patri Guijarro",
         "type": "bar",
         "visible": false,
         "x": [
          "OVR",
          "Interceptions",
          "Standing Tackle",
          "Def Awareness",
          "Short Passing",
          "Long Passing",
          "Stamina",
          "Strength",
          "Aggression",
          "Composure",
          "Reactions"
         ],
         "y": [
          88,
          "83",
          "87",
          "86",
          90,
          93,
          78,
          77,
          71,
          84,
          85
         ]
        },
        {
         "name": "Declan Rice",
         "type": "bar",
         "visible": false,
         "x": [
          "OVR",
          "Interceptions",
          "Standing Tackle",
          "Def Awareness",
          "Short Passing",
          "Long Passing",
          "Stamina",
          "Strength",
          "Aggression",
          "Composure",
          "Reactions"
         ],
         "y": [
          87,
          "86",
          "86",
          "85",
          85,
          86,
          92,
          81,
          85,
          86,
          85
         ]
        },
        {
         "name": "Lena Oberdorf",
         "type": "bar",
         "visible": false,
         "x": [
          "OVR",
          "Interceptions",
          "Standing Tackle",
          "Def Awareness",
          "Short Passing",
          "Long Passing",
          "Stamina",
          "Strength",
          "Aggression",
          "Composure",
          "Reactions"
         ],
         "y": [
          86,
          "86",
          "90",
          "88",
          81,
          80,
          81,
          92,
          92,
          82,
          85
         ]
        },
        {
         "name": "Granit Xhaka",
         "type": "bar",
         "visible": false,
         "x": [
          "OVR",
          "Interceptions",
          "Standing Tackle",
          "Def Awareness",
          "Short Passing",
          "Long Passing",
          "Stamina",
          "Strength",
          "Aggression",
          "Composure",
          "Reactions"
         ],
         "y": [
          86,
          "79",
          "79",
          "82",
          89,
          90,
          83,
          78,
          93,
          81,
          86
         ]
        },
        {
         "name": "Hakan Çalhanoğlu",
         "type": "bar",
         "visible": false,
         "x": [
          "OVR",
          "Interceptions",
          "Standing Tackle",
          "Def Awareness",
          "Short Passing",
          "Long Passing",
          "Stamina",
          "Strength",
          "Aggression",
          "Composure",
          "Reactions"
         ],
         "y": [
          86,
          "82",
          "81",
          "80",
          89,
          89,
          81,
          72,
          80,
          85,
          86
         ]
        },
        {
         "name": "Bruno Guimarães",
         "type": "bar",
         "visible": false,
         "x": [
          "OVR",
          "Interceptions",
          "Standing Tackle",
          "Def Awareness",
          "Short Passing",
          "Long Passing",
          "Stamina",
          "Strength",
          "Aggression",
          "Composure",
          "Reactions"
         ],
         "y": [
          85,
          "80",
          "82",
          "78",
          87,
          87,
          88,
          79,
          87,
          87,
          84
         ]
        },
        {
         "name": "Keira Walsh",
         "type": "bar",
         "visible": false,
         "x": [
          "OVR",
          "Interceptions",
          "Standing Tackle",
          "Def Awareness",
          "Short Passing",
          "Long Passing",
          "Stamina",
          "Strength",
          "Aggression",
          "Composure",
          "Reactions"
         ],
         "y": [
          85,
          "77",
          "84",
          "82",
          92,
          88,
          88,
          70,
          70,
          85,
          83
         ]
        },
        {
         "name": "Palhinha",
         "type": "bar",
         "visible": false,
         "x": [
          "OVR",
          "Interceptions",
          "Standing Tackle",
          "Def Awareness",
          "Short Passing",
          "Long Passing",
          "Stamina",
          "Strength",
          "Aggression",
          "Composure",
          "Reactions"
         ],
         "y": [
          85,
          "86",
          "88",
          "83",
          79,
          80,
          87,
          90,
          95,
          84,
          79
         ]
        },
        {
         "name": "Aurélien Tchouaméni",
         "type": "bar",
         "visible": false,
         "x": [
          "OVR",
          "Interceptions",
          "Standing Tackle",
          "Def Awareness",
          "Short Passing",
          "Long Passing",
          "Stamina",
          "Strength",
          "Aggression",
          "Composure",
          "Reactions"
         ],
         "y": [
          85,
          "84",
          "83",
          "83",
          85,
          84,
          83,
          82,
          80,
          83,
          83
         ]
        },
        {
         "name": "Sandro Tonali",
         "type": "bar",
         "visible": false,
         "x": [
          "OVR",
          "Interceptions",
          "Standing Tackle",
          "Def Awareness",
          "Short Passing",
          "Long Passing",
          "Stamina",
          "Strength",
          "Aggression",
          "Composure",
          "Reactions"
         ],
         "y": [
          85,
          "84",
          "84",
          "83",
          85,
          83,
          80,
          82,
          84,
          84,
          83
         ]
        },
        {
         "name": "N'Golo Kanté",
         "type": "bar",
         "visible": false,
         "x": [
          "OVR",
          "Interceptions",
          "Standing Tackle",
          "Def Awareness",
          "Short Passing",
          "Long Passing",
          "Stamina",
          "Strength",
          "Aggression",
          "Composure",
          "Reactions"
         ],
         "y": [
          85,
          "88",
          "90",
          "88",
          80,
          74,
          82,
          72,
          87,
          82,
          87
         ]
        },
        {
         "name": "Amandine Henry",
         "type": "bar",
         "visible": false,
         "x": [
          "OVR",
          "Interceptions",
          "Standing Tackle",
          "Def Awareness",
          "Short Passing",
          "Long Passing",
          "Stamina",
          "Strength",
          "Aggression",
          "Composure",
          "Reactions"
         ],
         "y": [
          84,
          "83",
          "84",
          "85",
          85,
          80,
          70,
          81,
          88,
          82,
          84
         ]
        },
        {
         "name": "Georgia Stanway",
         "type": "bar",
         "visible": false,
         "x": [
          "OVR",
          "Interceptions",
          "Standing Tackle",
          "Def Awareness",
          "Short Passing",
          "Long Passing",
          "Stamina",
          "Strength",
          "Aggression",
          "Composure",
          "Reactions"
         ],
         "y": [
          84,
          "77",
          "81",
          "82",
          90,
          84,
          83,
          66,
          87,
          69,
          85
         ]
        },
        {
         "name": "Yui Hasegawa",
         "type": "bar",
         "visible": false,
         "x": [
          "OVR",
          "Interceptions",
          "Standing Tackle",
          "Def Awareness",
          "Short Passing",
          "Long Passing",
          "Stamina",
          "Strength",
          "Aggression",
          "Composure",
          "Reactions"
         ],
         "y": [
          84,
          "85",
          "82",
          "84",
          89,
          89,
          77,
          51,
          76,
          78,
          84
         ]
        }
       ],
       "layout": {
        "showlegend": false,
        "template": {
         "data": {
          "bar": [
           {
            "error_x": {
             "color": "#2a3f5f"
            },
            "error_y": {
             "color": "#2a3f5f"
            },
            "marker": {
             "line": {
              "color": "#E5ECF6",
              "width": 0.5
             },
             "pattern": {
              "fillmode": "overlay",
              "size": 10,
              "solidity": 0.2
             }
            },
            "type": "bar"
           }
          ],
          "barpolar": [
           {
            "marker": {
             "line": {
              "color": "#E5ECF6",
              "width": 0.5
             },
             "pattern": {
              "fillmode": "overlay",
              "size": 10,
              "solidity": 0.2
             }
            },
            "type": "barpolar"
           }
          ],
          "carpet": [
           {
            "aaxis": {
             "endlinecolor": "#2a3f5f",
             "gridcolor": "white",
             "linecolor": "white",
             "minorgridcolor": "white",
             "startlinecolor": "#2a3f5f"
            },
            "baxis": {
             "endlinecolor": "#2a3f5f",
             "gridcolor": "white",
             "linecolor": "white",
             "minorgridcolor": "white",
             "startlinecolor": "#2a3f5f"
            },
            "type": "carpet"
           }
          ],
          "choropleth": [
           {
            "colorbar": {
             "outlinewidth": 0,
             "ticks": ""
            },
            "type": "choropleth"
           }
          ],
          "contour": [
           {
            "colorbar": {
             "outlinewidth": 0,
             "ticks": ""
            },
            "colorscale": [
             [
              0,
              "#0d0887"
             ],
             [
              0.1111111111111111,
              "#46039f"
             ],
             [
              0.2222222222222222,
              "#7201a8"
             ],
             [
              0.3333333333333333,
              "#9c179e"
             ],
             [
              0.4444444444444444,
              "#bd3786"
             ],
             [
              0.5555555555555556,
              "#d8576b"
             ],
             [
              0.6666666666666666,
              "#ed7953"
             ],
             [
              0.7777777777777778,
              "#fb9f3a"
             ],
             [
              0.8888888888888888,
              "#fdca26"
             ],
             [
              1,
              "#f0f921"
             ]
            ],
            "type": "contour"
           }
          ],
          "contourcarpet": [
           {
            "colorbar": {
             "outlinewidth": 0,
             "ticks": ""
            },
            "type": "contourcarpet"
           }
          ],
          "heatmap": [
           {
            "colorbar": {
             "outlinewidth": 0,
             "ticks": ""
            },
            "colorscale": [
             [
              0,
              "#0d0887"
             ],
             [
              0.1111111111111111,
              "#46039f"
             ],
             [
              0.2222222222222222,
              "#7201a8"
             ],
             [
              0.3333333333333333,
              "#9c179e"
             ],
             [
              0.4444444444444444,
              "#bd3786"
             ],
             [
              0.5555555555555556,
              "#d8576b"
             ],
             [
              0.6666666666666666,
              "#ed7953"
             ],
             [
              0.7777777777777778,
              "#fb9f3a"
             ],
             [
              0.8888888888888888,
              "#fdca26"
             ],
             [
              1,
              "#f0f921"
             ]
            ],
            "type": "heatmap"
           }
          ],
          "heatmapgl": [
           {
            "colorbar": {
             "outlinewidth": 0,
             "ticks": ""
            },
            "colorscale": [
             [
              0,
              "#0d0887"
             ],
             [
              0.1111111111111111,
              "#46039f"
             ],
             [
              0.2222222222222222,
              "#7201a8"
             ],
             [
              0.3333333333333333,
              "#9c179e"
             ],
             [
              0.4444444444444444,
              "#bd3786"
             ],
             [
              0.5555555555555556,
              "#d8576b"
             ],
             [
              0.6666666666666666,
              "#ed7953"
             ],
             [
              0.7777777777777778,
              "#fb9f3a"
             ],
             [
              0.8888888888888888,
              "#fdca26"
             ],
             [
              1,
              "#f0f921"
             ]
            ],
            "type": "heatmapgl"
           }
          ],
          "histogram": [
           {
            "marker": {
             "pattern": {
              "fillmode": "overlay",
              "size": 10,
              "solidity": 0.2
             }
            },
            "type": "histogram"
           }
          ],
          "histogram2d": [
           {
            "colorbar": {
             "outlinewidth": 0,
             "ticks": ""
            },
            "colorscale": [
             [
              0,
              "#0d0887"
             ],
             [
              0.1111111111111111,
              "#46039f"
             ],
             [
              0.2222222222222222,
              "#7201a8"
             ],
             [
              0.3333333333333333,
              "#9c179e"
             ],
             [
              0.4444444444444444,
              "#bd3786"
             ],
             [
              0.5555555555555556,
              "#d8576b"
             ],
             [
              0.6666666666666666,
              "#ed7953"
             ],
             [
              0.7777777777777778,
              "#fb9f3a"
             ],
             [
              0.8888888888888888,
              "#fdca26"
             ],
             [
              1,
              "#f0f921"
             ]
            ],
            "type": "histogram2d"
           }
          ],
          "histogram2dcontour": [
           {
            "colorbar": {
             "outlinewidth": 0,
             "ticks": ""
            },
            "colorscale": [
             [
              0,
              "#0d0887"
             ],
             [
              0.1111111111111111,
              "#46039f"
             ],
             [
              0.2222222222222222,
              "#7201a8"
             ],
             [
              0.3333333333333333,
              "#9c179e"
             ],
             [
              0.4444444444444444,
              "#bd3786"
             ],
             [
              0.5555555555555556,
              "#d8576b"
             ],
             [
              0.6666666666666666,
              "#ed7953"
             ],
             [
              0.7777777777777778,
              "#fb9f3a"
             ],
             [
              0.8888888888888888,
              "#fdca26"
             ],
             [
              1,
              "#f0f921"
             ]
            ],
            "type": "histogram2dcontour"
           }
          ],
          "mesh3d": [
           {
            "colorbar": {
             "outlinewidth": 0,
             "ticks": ""
            },
            "type": "mesh3d"
           }
          ],
          "parcoords": [
           {
            "line": {
             "colorbar": {
              "outlinewidth": 0,
              "ticks": ""
             }
            },
            "type": "parcoords"
           }
          ],
          "pie": [
           {
            "automargin": true,
            "type": "pie"
           }
          ],
          "scatter": [
           {
            "fillpattern": {
             "fillmode": "overlay",
             "size": 10,
             "solidity": 0.2
            },
            "type": "scatter"
           }
          ],
          "scatter3d": [
           {
            "line": {
             "colorbar": {
              "outlinewidth": 0,
              "ticks": ""
             }
            },
            "marker": {
             "colorbar": {
              "outlinewidth": 0,
              "ticks": ""
             }
            },
            "type": "scatter3d"
           }
          ],
          "scattercarpet": [
           {
            "marker": {
             "colorbar": {
              "outlinewidth": 0,
              "ticks": ""
             }
            },
            "type": "scattercarpet"
           }
          ],
          "scattergeo": [
           {
            "marker": {
             "colorbar": {
              "outlinewidth": 0,
              "ticks": ""
             }
            },
            "type": "scattergeo"
           }
          ],
          "scattergl": [
           {
            "marker": {
             "colorbar": {
              "outlinewidth": 0,
              "ticks": ""
             }
            },
            "type": "scattergl"
           }
          ],
          "scattermapbox": [
           {
            "marker": {
             "colorbar": {
              "outlinewidth": 0,
              "ticks": ""
             }
            },
            "type": "scattermapbox"
           }
          ],
          "scatterpolar": [
           {
            "marker": {
             "colorbar": {
              "outlinewidth": 0,
              "ticks": ""
             }
            },
            "type": "scatterpolar"
           }
          ],
          "scatterpolargl": [
           {
            "marker": {
             "colorbar": {
              "outlinewidth": 0,
              "ticks": ""
             }
            },
            "type": "scatterpolargl"
           }
          ],
          "scatterternary": [
           {
            "marker": {
             "colorbar": {
              "outlinewidth": 0,
              "ticks": ""
             }
            },
            "type": "scatterternary"
           }
          ],
          "surface": [
           {
            "colorbar": {
             "outlinewidth": 0,
             "ticks": ""
            },
            "colorscale": [
             [
              0,
              "#0d0887"
             ],
             [
              0.1111111111111111,
              "#46039f"
             ],
             [
              0.2222222222222222,
              "#7201a8"
             ],
             [
              0.3333333333333333,
              "#9c179e"
             ],
             [
              0.4444444444444444,
              "#bd3786"
             ],
             [
              0.5555555555555556,
              "#d8576b"
             ],
             [
              0.6666666666666666,
              "#ed7953"
             ],
             [
              0.7777777777777778,
              "#fb9f3a"
             ],
             [
              0.8888888888888888,
              "#fdca26"
             ],
             [
              1,
              "#f0f921"
             ]
            ],
            "type": "surface"
           }
          ],
          "table": [
           {
            "cells": {
             "fill": {
              "color": "#EBF0F8"
             },
             "line": {
              "color": "white"
             }
            },
            "header": {
             "fill": {
              "color": "#C8D4E3"
             },
             "line": {
              "color": "white"
             }
            },
            "type": "table"
           }
          ]
         },
         "layout": {
          "annotationdefaults": {
           "arrowcolor": "#2a3f5f",
           "arrowhead": 0,
           "arrowwidth": 1
          },
          "autotypenumbers": "strict",
          "coloraxis": {
           "colorbar": {
            "outlinewidth": 0,
            "ticks": ""
           }
          },
          "colorscale": {
           "diverging": [
            [
             0,
             "#8e0152"
            ],
            [
             0.1,
             "#c51b7d"
            ],
            [
             0.2,
             "#de77ae"
            ],
            [
             0.3,
             "#f1b6da"
            ],
            [
             0.4,
             "#fde0ef"
            ],
            [
             0.5,
             "#f7f7f7"
            ],
            [
             0.6,
             "#e6f5d0"
            ],
            [
             0.7,
             "#b8e186"
            ],
            [
             0.8,
             "#7fbc41"
            ],
            [
             0.9,
             "#4d9221"
            ],
            [
             1,
             "#276419"
            ]
           ],
           "sequential": [
            [
             0,
             "#0d0887"
            ],
            [
             0.1111111111111111,
             "#46039f"
            ],
            [
             0.2222222222222222,
             "#7201a8"
            ],
            [
             0.3333333333333333,
             "#9c179e"
            ],
            [
             0.4444444444444444,
             "#bd3786"
            ],
            [
             0.5555555555555556,
             "#d8576b"
            ],
            [
             0.6666666666666666,
             "#ed7953"
            ],
            [
             0.7777777777777778,
             "#fb9f3a"
            ],
            [
             0.8888888888888888,
             "#fdca26"
            ],
            [
             1,
             "#f0f921"
            ]
           ],
           "sequentialminus": [
            [
             0,
             "#0d0887"
            ],
            [
             0.1111111111111111,
             "#46039f"
            ],
            [
             0.2222222222222222,
             "#7201a8"
            ],
            [
             0.3333333333333333,
             "#9c179e"
            ],
            [
             0.4444444444444444,
             "#bd3786"
            ],
            [
             0.5555555555555556,
             "#d8576b"
            ],
            [
             0.6666666666666666,
             "#ed7953"
            ],
            [
             0.7777777777777778,
             "#fb9f3a"
            ],
            [
             0.8888888888888888,
             "#fdca26"
            ],
            [
             1,
             "#f0f921"
            ]
           ]
          },
          "colorway": [
           "#636efa",
           "#EF553B",
           "#00cc96",
           "#ab63fa",
           "#FFA15A",
           "#19d3f3",
           "#FF6692",
           "#B6E880",
           "#FF97FF",
           "#FECB52"
          ],
          "font": {
           "color": "#2a3f5f"
          },
          "geo": {
           "bgcolor": "white",
           "lakecolor": "white",
           "landcolor": "#E5ECF6",
           "showlakes": true,
           "showland": true,
           "subunitcolor": "white"
          },
          "hoverlabel": {
           "align": "left"
          },
          "hovermode": "closest",
          "mapbox": {
           "style": "light"
          },
          "paper_bgcolor": "white",
          "plot_bgcolor": "#E5ECF6",
          "polar": {
           "angularaxis": {
            "gridcolor": "white",
            "linecolor": "white",
            "ticks": ""
           },
           "bgcolor": "#E5ECF6",
           "radialaxis": {
            "gridcolor": "white",
            "linecolor": "white",
            "ticks": ""
           }
          },
          "scene": {
           "xaxis": {
            "backgroundcolor": "#E5ECF6",
            "gridcolor": "white",
            "gridwidth": 2,
            "linecolor": "white",
            "showbackground": true,
            "ticks": "",
            "zerolinecolor": "white"
           },
           "yaxis": {
            "backgroundcolor": "#E5ECF6",
            "gridcolor": "white",
            "gridwidth": 2,
            "linecolor": "white",
            "showbackground": true,
            "ticks": "",
            "zerolinecolor": "white"
           },
           "zaxis": {
            "backgroundcolor": "#E5ECF6",
            "gridcolor": "white",
            "gridwidth": 2,
            "linecolor": "white",
            "showbackground": true,
            "ticks": "",
            "zerolinecolor": "white"
           }
          },
          "shapedefaults": {
           "line": {
            "color": "#2a3f5f"
           }
          },
          "ternary": {
           "aaxis": {
            "gridcolor": "white",
            "linecolor": "white",
            "ticks": ""
           },
           "baxis": {
            "gridcolor": "white",
            "linecolor": "white",
            "ticks": ""
           },
           "bgcolor": "#E5ECF6",
           "caxis": {
            "gridcolor": "white",
            "linecolor": "white",
            "ticks": ""
           }
          },
          "title": {
           "x": 0.05
          },
          "xaxis": {
           "automargin": true,
           "gridcolor": "white",
           "linecolor": "white",
           "ticks": "",
           "title": {
            "standoff": 15
           },
           "zerolinecolor": "white",
           "zerolinewidth": 2
          },
          "yaxis": {
           "automargin": true,
           "gridcolor": "white",
           "linecolor": "white",
           "ticks": "",
           "title": {
            "standoff": 15
           },
           "zerolinecolor": "white",
           "zerolinewidth": 2
          }
         }
        },
        "title": {
         "text": "Best 30 CDM"
        },
        "updatemenus": [
         {
          "buttons": [
           {
            "args": [
             {
              "visible": [
               true,
               false,
               false,
               false,
               false,
               false,
               false,
               false,
               false,
               false,
               false,
               false,
               false,
               false,
               false
              ]
             }
            ],
            "label": "Rodri",
            "method": "update"
           },
           {
            "args": [
             {
              "visible": [
               false,
               true,
               false,
               false,
               false,
               false,
               false,
               false,
               false,
               false,
               false,
               false,
               false,
               false,
               false
              ]
             }
            ],
            "label": "Patri Guijarro",
            "method": "update"
           },
           {
            "args": [
             {
              "visible": [
               false,
               false,
               true,
               false,
               false,
               false,
               false,
               false,
               false,
               false,
               false,
               false,
               false,
               false,
               false
              ]
             }
            ],
            "label": "Declan Rice",
            "method": "update"
           },
           {
            "args": [
             {
              "visible": [
               false,
               false,
               false,
               true,
               false,
               false,
               false,
               false,
               false,
               false,
               false,
               false,
               false,
               false,
               false
              ]
             }
            ],
            "label": "Lena Oberdorf",
            "method": "update"
           },
           {
            "args": [
             {
              "visible": [
               false,
               false,
               false,
               false,
               true,
               false,
               false,
               false,
               false,
               false,
               false,
               false,
               false,
               false,
               false
              ]
             }
            ],
            "label": "Granit Xhaka",
            "method": "update"
           },
           {
            "args": [
             {
              "visible": [
               false,
               false,
               false,
               false,
               false,
               true,
               false,
               false,
               false,
               false,
               false,
               false,
               false,
               false,
               false
              ]
             }
            ],
            "label": "Hakan Çalhanoğlu",
            "method": "update"
           },
           {
            "args": [
             {
              "visible": [
               false,
               false,
               false,
               false,
               false,
               false,
               true,
               false,
               false,
               false,
               false,
               false,
               false,
               false,
               false
              ]
             }
            ],
            "label": "Bruno Guimarães",
            "method": "update"
           },
           {
            "args": [
             {
              "visible": [
               false,
               false,
               false,
               false,
               false,
               false,
               false,
               true,
               false,
               false,
               false,
               false,
               false,
               false,
               false
              ]
             }
            ],
            "label": "Keira Walsh",
            "method": "update"
           },
           {
            "args": [
             {
              "visible": [
               false,
               false,
               false,
               false,
               false,
               false,
               false,
               false,
               true,
               false,
               false,
               false,
               false,
               false,
               false
              ]
             }
            ],
            "label": "Palhinha",
            "method": "update"
           },
           {
            "args": [
             {
              "visible": [
               false,
               false,
               false,
               false,
               false,
               false,
               false,
               false,
               false,
               true,
               false,
               false,
               false,
               false,
               false
              ]
             }
            ],
            "label": "Aurélien Tchouaméni",
            "method": "update"
           },
           {
            "args": [
             {
              "visible": [
               false,
               false,
               false,
               false,
               false,
               false,
               false,
               false,
               false,
               false,
               true,
               false,
               false,
               false,
               false
              ]
             }
            ],
            "label": "Sandro Tonali",
            "method": "update"
           },
           {
            "args": [
             {
              "visible": [
               false,
               false,
               false,
               false,
               false,
               false,
               false,
               false,
               false,
               false,
               false,
               true,
               false,
               false,
               false
              ]
             }
            ],
            "label": "N'Golo Kanté",
            "method": "update"
           },
           {
            "args": [
             {
              "visible": [
               false,
               false,
               false,
               false,
               false,
               false,
               false,
               false,
               false,
               false,
               false,
               false,
               true,
               false,
               false
              ]
             }
            ],
            "label": "Amandine Henry",
            "method": "update"
           },
           {
            "args": [
             {
              "visible": [
               false,
               false,
               false,
               false,
               false,
               false,
               false,
               false,
               false,
               false,
               false,
               false,
               false,
               true,
               false
              ]
             }
            ],
            "label": "Georgia Stanway",
            "method": "update"
           },
           {
            "args": [
             {
              "visible": [
               false,
               false,
               false,
               false,
               false,
               false,
               false,
               false,
               false,
               false,
               false,
               false,
               false,
               false,
               true
              ]
             }
            ],
            "label": "Yui Hasegawa",
            "method": "update"
           }
          ],
          "direction": "down",
          "showactive": true
         }
        ],
        "xaxis": {
         "title": {
          "text": "Attributes"
         }
        },
        "yaxis": {
         "title": {
          "text": "Value"
         }
        }
       }
      }
     },
     "metadata": {},
     "output_type": "display_data"
    }
   ],
   "source": [
    "fig = go.Figure()\n",
    "\n",
    "for player in cdm_data['Name']:\n",
    "    player_data = cdm_data[cdm_data['Name'] == player][cdm_stats].values.flatten()\n",
    "    fig.add_trace(\n",
    "        go.Bar(\n",
    "            x=cdm_stats,\n",
    "            y=player_data,\n",
    "            name=player,\n",
    "            visible=False\n",
    "        )\n",
    "    )\n",
    "\n",
    "fig.data[0].visible = True\n",
    "\n",
    "\n",
    "fig.update_layout(\n",
    "    updatemenus=[\n",
    "        dict(\n",
    "            buttons=[\n",
    "                dict(\n",
    "                    args=[{\"visible\": [i == j for i in range(len(cdm_data['Name']))]}],  \n",
    "                    label=player,\n",
    "                    method='update'\n",
    "                )\n",
    "                for j, player in enumerate(cdm_data['Name'])  \n",
    "            ],\n",
    "            direction='down',\n",
    "            showactive=True,\n",
    "        )\n",
    "    ]\n",
    ")\n",
    "\n",
    "fig.update_layout(\n",
    "    title='Best 30 CDM',\n",
    "    xaxis_title='Attributes',\n",
    "    yaxis_title='Value',\n",
    "    showlegend=False\n",
    ")\n",
    "\n",
    "fig.show()"
   ]
  },
  {
   "cell_type": "code",
   "execution_count": 5,
   "metadata": {},
   "outputs": [
    {
     "name": "stdout",
     "output_type": "stream",
     "text": [
      "Name: Rodri, index: 0, Stat:OVR, value:91\n",
      "Name: N'Golo Kanté, index: 11, Stat:Interceptions, value:88\n",
      "Name: Lena Oberdorf, index: 3, Stat:Standing Tackle, value:90\n",
      "Name: Rodri, index: 0, Stat:Def Awareness, value:92\n",
      "Name: Rodri, index: 0, Stat:Short Passing, value:93\n",
      "Name: Patri Guijarro, index: 1, Stat:Long Passing, value:93\n",
      "Name: Declan Rice, index: 2, Stat:Stamina, value:92\n",
      "Name: Lena Oberdorf, index: 3, Stat:Strength, value:92\n",
      "Name: Palhinha, index: 8, Stat:Aggression, value:95\n",
      "Name: Rodri, index: 0, Stat:Composure, value:94\n",
      "Name: Rodri, index: 0, Stat:Reactions, value:93\n"
     ]
    }
   ],
   "source": [
    "for stat in cdm_stats:\n",
    "    print(f'Name: {cdm_data.Name[cdm_data[stat].idxmax()]}, index: {cdm_data[stat].idxmax()}, Stat:{stat}, value:{cdm_data[stat].iloc[cdm_data[stat].idxmax()]}')"
   ]
  },
  {
   "cell_type": "code",
   "execution_count": 6,
   "metadata": {},
   "outputs": [
    {
     "data": {
      "image/png": "[encoded data removed]",
      "text/plain": [
       "<Figure size 1200x800 with 1 Axes>"
      ]
     },
     "metadata": {},
     "output_type": "display_data"
    },
    {
     "data": {
      "text/plain": [
       "<Figure size 640x480 with 0 Axes>"
      ]
     },
     "metadata": {},
     "output_type": "display_data"
    }
   ],
   "source": [
    "cdm_best = cdm_data.loc[cdm_data[cdm_stats].idxmax()]\n",
    "\n",
    "plt.figure(figsize=(12, 8))\n",
    "parallel_coordinates(cdm_best, class_column='Name', cols=cdm_stats)\n",
    "plt.legend(loc='center left', bbox_to_anchor=(1, 0.5))\n",
    "plt.xticks(rotation = 45)\n",
    "plt.show()\n",
    "plt.savefig('save.png')"
   ]
  },
  {
   "cell_type": "markdown",
   "metadata": {},
   "source": [
    "1) Rodri\n",
    "2) Lena Oberdorf"
   ]
  },
  {
   "cell_type": "markdown",
   "metadata": {},
   "source": [
    "CM"
   ]
  },
  {
   "cell_type": "code",
   "execution_count": 7,
   "metadata": {},
   "outputs": [
    {
     "data": {
      "text/html": [
       "<div>\n",
       "<style scoped>\n",
       "    .dataframe tbody tr th:only-of-type {\n",
       "        vertical-align: middle;\n",
       "    }\n",
       "\n",
       "    .dataframe tbody tr th {\n",
       "        vertical-align: top;\n",
       "    }\n",
       "\n",
       "    .dataframe thead th {\n",
       "        text-align: right;\n",
       "    }\n",
       "</style>\n",
       "<table border=\"1\" class=\"dataframe\">\n",
       "  <thead>\n",
       "    <tr style=\"text-align: right;\">\n",
       "      <th></th>\n",
       "      <th>index</th>\n",
       "      <th>Rank</th>\n",
       "      <th>Name</th>\n",
       "      <th>OVR</th>\n",
       "      <th>PAC</th>\n",
       "      <th>SHO</th>\n",
       "      <th>PAS</th>\n",
       "      <th>DRI</th>\n",
       "      <th>DEF</th>\n",
       "      <th>PHY</th>\n",
       "      <th>...</th>\n",
       "      <th>Preferred foot</th>\n",
       "      <th>Age</th>\n",
       "      <th>Nation</th>\n",
       "      <th>League</th>\n",
       "      <th>Team</th>\n",
       "      <th>GK Diving</th>\n",
       "      <th>GK Handling</th>\n",
       "      <th>GK Kicking</th>\n",
       "      <th>GK Positioning</th>\n",
       "      <th>GK Reflexes</th>\n",
       "    </tr>\n",
       "  </thead>\n",
       "  <tbody>\n",
       "    <tr>\n",
       "      <th>0</th>\n",
       "      <td>16161</td>\n",
       "      <td>3</td>\n",
       "      <td>Aitana Bonmatí</td>\n",
       "      <td>91</td>\n",
       "      <td>81</td>\n",
       "      <td>86</td>\n",
       "      <td>86</td>\n",
       "      <td>91</td>\n",
       "      <td>77</td>\n",
       "      <td>75</td>\n",
       "      <td>...</td>\n",
       "      <td>Right</td>\n",
       "      <td>26</td>\n",
       "      <td>Spain</td>\n",
       "      <td>Liga F</td>\n",
       "      <td>FC Barcelona</td>\n",
       "      <td>NaN</td>\n",
       "      <td>NaN</td>\n",
       "      <td>NaN</td>\n",
       "      <td>NaN</td>\n",
       "      <td>NaN</td>\n",
       "    </tr>\n",
       "    <tr>\n",
       "      <th>1</th>\n",
       "      <td>5</td>\n",
       "      <td>9</td>\n",
       "      <td>Kevin De Bruyne</td>\n",
       "      <td>90</td>\n",
       "      <td>67</td>\n",
       "      <td>87</td>\n",
       "      <td>94</td>\n",
       "      <td>87</td>\n",
       "      <td>65</td>\n",
       "      <td>78</td>\n",
       "      <td>...</td>\n",
       "      <td>Right</td>\n",
       "      <td>33</td>\n",
       "      <td>Belgium</td>\n",
       "      <td>Premier League</td>\n",
       "      <td>Manchester City</td>\n",
       "      <td>NaN</td>\n",
       "      <td>NaN</td>\n",
       "      <td>NaN</td>\n",
       "      <td>NaN</td>\n",
       "      <td>NaN</td>\n",
       "    </tr>\n",
       "    <tr>\n",
       "      <th>2</th>\n",
       "      <td>16162</td>\n",
       "      <td>6</td>\n",
       "      <td>Alexia Putellas</td>\n",
       "      <td>90</td>\n",
       "      <td>82</td>\n",
       "      <td>89</td>\n",
       "      <td>90</td>\n",
       "      <td>91</td>\n",
       "      <td>72</td>\n",
       "      <td>78</td>\n",
       "      <td>...</td>\n",
       "      <td>Left</td>\n",
       "      <td>30</td>\n",
       "      <td>Spain</td>\n",
       "      <td>Liga F</td>\n",
       "      <td>FC Barcelona</td>\n",
       "      <td>NaN</td>\n",
       "      <td>NaN</td>\n",
       "      <td>NaN</td>\n",
       "      <td>NaN</td>\n",
       "      <td>NaN</td>\n",
       "    </tr>\n",
       "    <tr>\n",
       "      <th>3</th>\n",
       "      <td>7</td>\n",
       "      <td>12</td>\n",
       "      <td>Martin Ødegaard</td>\n",
       "      <td>89</td>\n",
       "      <td>70</td>\n",
       "      <td>82</td>\n",
       "      <td>89</td>\n",
       "      <td>89</td>\n",
       "      <td>67</td>\n",
       "      <td>66</td>\n",
       "      <td>...</td>\n",
       "      <td>Left</td>\n",
       "      <td>25</td>\n",
       "      <td>Norway</td>\n",
       "      <td>Premier League</td>\n",
       "      <td>Arsenal</td>\n",
       "      <td>NaN</td>\n",
       "      <td>NaN</td>\n",
       "      <td>NaN</td>\n",
       "      <td>NaN</td>\n",
       "      <td>NaN</td>\n",
       "    </tr>\n",
       "    <tr>\n",
       "      <th>4</th>\n",
       "      <td>22</td>\n",
       "      <td>34</td>\n",
       "      <td>Bernardo Silva</td>\n",
       "      <td>88</td>\n",
       "      <td>75</td>\n",
       "      <td>78</td>\n",
       "      <td>86</td>\n",
       "      <td>92</td>\n",
       "      <td>71</td>\n",
       "      <td>69</td>\n",
       "      <td>...</td>\n",
       "      <td>Left</td>\n",
       "      <td>30</td>\n",
       "      <td>Portugal</td>\n",
       "      <td>Premier League</td>\n",
       "      <td>Manchester City</td>\n",
       "      <td>NaN</td>\n",
       "      <td>NaN</td>\n",
       "      <td>NaN</td>\n",
       "      <td>NaN</td>\n",
       "      <td>NaN</td>\n",
       "    </tr>\n",
       "  </tbody>\n",
       "</table>\n",
       "<p>5 rows × 52 columns</p>\n",
       "</div>"
      ],
      "text/plain": [
       "   index  Rank             Name  OVR  PAC  SHO  PAS  DRI  DEF  PHY  ...  \\\n",
       "0  16161     3   Aitana Bonmatí   91   81   86   86   91   77   75  ...   \n",
       "1      5     9  Kevin De Bruyne   90   67   87   94   87   65   78  ...   \n",
       "2  16162     6  Alexia Putellas   90   82   89   90   91   72   78  ...   \n",
       "3      7    12  Martin Ødegaard   89   70   82   89   89   67   66  ...   \n",
       "4     22    34   Bernardo Silva   88   75   78   86   92   71   69  ...   \n",
       "\n",
       "   Preferred foot  Age    Nation          League             Team GK Diving  \\\n",
       "0           Right   26     Spain          Liga F     FC Barcelona       NaN   \n",
       "1           Right   33   Belgium  Premier League  Manchester City       NaN   \n",
       "2            Left   30     Spain          Liga F     FC Barcelona       NaN   \n",
       "3            Left   25    Norway  Premier League          Arsenal       NaN   \n",
       "4            Left   30  Portugal  Premier League  Manchester City       NaN   \n",
       "\n",
       "  GK Handling  GK Kicking  GK Positioning GK Reflexes  \n",
       "0         NaN         NaN             NaN         NaN  \n",
       "1         NaN         NaN             NaN         NaN  \n",
       "2         NaN         NaN             NaN         NaN  \n",
       "3         NaN         NaN             NaN         NaN  \n",
       "4         NaN         NaN             NaN         NaN  \n",
       "\n",
       "[5 rows x 52 columns]"
      ]
     },
     "execution_count": 7,
     "metadata": {},
     "output_type": "execute_result"
    }
   ],
   "source": [
    "#CM\n",
    "cm_stats = ['OVR', 'Short Passing','Vision','Ball Control','Stamina','Interceptions','Long Passing','Composure','Dribbling','Standing Tackle','Reactions']\n",
    "cm_data = all_data[all_data['Position'] == 'CM']\n",
    "cm_data = cm_data.sort_values('OVR', ascending=False)[:15]\n",
    "cm_data.reset_index(inplace=True)\n",
    "cm_data.head()"
   ]
  },
  {
   "cell_type": "code",
   "execution_count": 8,
   "metadata": {},
   "outputs": [
    {
     "data": {
      "application/vnd.plotly.v1+json": {
       "config": {
        "plotlyServerURL": "https://plot.ly"
       },
       "data": [
        {
         "name": "Aitana Bonmatí",
         "type": "bar",
         "visible": true,
         "x": [
          "OVR",
          "Short Passing",
          "Vision",
          "Ball Control",
          "Stamina",
          "Interceptions",
          "Long Passing",
          "Composure",
          "Dribbling",
          "Standing Tackle",
          "Reactions"
         ],
         "y": [
          91,
          91,
          90,
          91,
          82,
          "88",
          90,
          85,
          "92",
          "81",
          91
         ]
        },
        {
         "name": "Kevin De Bruyne",
         "type": "bar",
         "visible": false,
         "x": [
          "OVR",
          "Short Passing",
          "Vision",
          "Ball Control",
          "Stamina",
          "Interceptions",
          "Long Passing",
          "Composure",
          "Dribbling",
          "Standing Tackle",
          "Reactions"
         ],
         "y": [
          90,
          94,
          95,
          92,
          88,
          "66",
          93,
          88,
          "86",
          "70",
          92
         ]
        },
        {
         "name": "Alexia Putellas",
         "type": "bar",
         "visible": false,
         "x": [
          "OVR",
          "Short Passing",
          "Vision",
          "Ball Control",
          "Stamina",
          "Interceptions",
          "Long Passing",
          "Composure",
          "Dribbling",
          "Standing Tackle",
          "Reactions"
         ],
         "y": [
          90,
          91,
          91,
          92,
          85,
          "78",
          90,
          92,
          "90",
          "81",
          90
         ]
        },
        {
         "name": "Martin Ødegaard",
         "type": "bar",
         "visible": false,
         "x": [
          "OVR",
          "Short Passing",
          "Vision",
          "Ball Control",
          "Stamina",
          "Interceptions",
          "Long Passing",
          "Composure",
          "Dribbling",
          "Standing Tackle",
          "Reactions"
         ],
         "y": [
          89,
          91,
          91,
          91,
          88,
          "69",
          89,
          87,
          "89",
          "72",
          91
         ]
        },
        {
         "name": "Bernardo Silva",
         "type": "bar",
         "visible": false,
         "x": [
          "OVR",
          "Short Passing",
          "Vision",
          "Ball Control",
          "Stamina",
          "Interceptions",
          "Long Passing",
          "Composure",
          "Dribbling",
          "Standing Tackle",
          "Reactions"
         ],
         "y": [
          88,
          91,
          87,
          92,
          93,
          "73",
          82,
          89,
          "93",
          "76",
          89
         ]
        },
        {
         "name": "Federico Valverde",
         "type": "bar",
         "visible": false,
         "x": [
          "OVR",
          "Short Passing",
          "Vision",
          "Ball Control",
          "Stamina",
          "Interceptions",
          "Long Passing",
          "Composure",
          "Dribbling",
          "Standing Tackle",
          "Reactions"
         ],
         "y": [
          88,
          87,
          86,
          88,
          92,
          "83",
          88,
          84,
          "83",
          "85",
          89
         ]
        },
        {
         "name": "İlkay Gündoğan",
         "type": "bar",
         "visible": false,
         "x": [
          "OVR",
          "Short Passing",
          "Vision",
          "Ball Control",
          "Stamina",
          "Interceptions",
          "Long Passing",
          "Composure",
          "Dribbling",
          "Standing Tackle",
          "Reactions"
         ],
         "y": [
          87,
          89,
          86,
          91,
          75,
          "78",
          85,
          87,
          "88",
          "78",
          86
         ]
        },
        {
         "name": "Nicolò Barella",
         "type": "bar",
         "visible": false,
         "x": [
          "OVR",
          "Short Passing",
          "Vision",
          "Ball Control",
          "Stamina",
          "Interceptions",
          "Long Passing",
          "Composure",
          "Dribbling",
          "Standing Tackle",
          "Reactions"
         ],
         "y": [
          87,
          88,
          84,
          88,
          93,
          "84",
          85,
          86,
          "82",
          "83",
          90
         ]
        },
        {
         "name": "Frenkie de Jong",
         "type": "bar",
         "visible": false,
         "x": [
          "OVR",
          "Short Passing",
          "Vision",
          "Ball Control",
          "Stamina",
          "Interceptions",
          "Long Passing",
          "Composure",
          "Dribbling",
          "Standing Tackle",
          "Reactions"
         ],
         "y": [
          87,
          91,
          88,
          89,
          89,
          "82",
          89,
          90,
          "87",
          "76",
          88
         ]
        },
        {
         "name": "Grace Geyoro",
         "type": "bar",
         "visible": false,
         "x": [
          "OVR",
          "Short Passing",
          "Vision",
          "Ball Control",
          "Stamina",
          "Interceptions",
          "Long Passing",
          "Composure",
          "Dribbling",
          "Standing Tackle",
          "Reactions"
         ],
         "y": [
          86,
          89,
          83,
          86,
          93,
          "88",
          86,
          79,
          "82",
          "90",
          87
         ]
        },
        {
         "name": "Kim Little",
         "type": "bar",
         "visible": false,
         "x": [
          "OVR",
          "Short Passing",
          "Vision",
          "Ball Control",
          "Stamina",
          "Interceptions",
          "Long Passing",
          "Composure",
          "Dribbling",
          "Standing Tackle",
          "Reactions"
         ],
         "y": [
          86,
          89,
          86,
          91,
          92,
          "74",
          80,
          84,
          "88",
          "75",
          89
         ]
        },
        {
         "name": "Lindsey Horan",
         "type": "bar",
         "visible": false,
         "x": [
          "OVR",
          "Short Passing",
          "Vision",
          "Ball Control",
          "Stamina",
          "Interceptions",
          "Long Passing",
          "Composure",
          "Dribbling",
          "Standing Tackle",
          "Reactions"
         ],
         "y": [
          86,
          90,
          88,
          87,
          83,
          "69",
          90,
          81,
          "85",
          "60",
          86
         ]
        },
        {
         "name": "Luka Modrić",
         "type": "bar",
         "visible": false,
         "x": [
          "OVR",
          "Short Passing",
          "Vision",
          "Ball Control",
          "Stamina",
          "Interceptions",
          "Long Passing",
          "Composure",
          "Dribbling",
          "Standing Tackle",
          "Reactions"
         ],
         "y": [
          86,
          90,
          90,
          90,
          76,
          "79",
          90,
          91,
          "84",
          "73",
          85
         ]
        },
        {
         "name": "Alexis Mac Allister",
         "type": "bar",
         "visible": false,
         "x": [
          "OVR",
          "Short Passing",
          "Vision",
          "Ball Control",
          "Stamina",
          "Interceptions",
          "Long Passing",
          "Composure",
          "Dribbling",
          "Standing Tackle",
          "Reactions"
         ],
         "y": [
          86,
          87,
          86,
          86,
          87,
          "78",
          86,
          84,
          "84",
          "79",
          85
         ]
        },
        {
         "name": "Pedri",
         "type": "bar",
         "visible": false,
         "x": [
          "OVR",
          "Short Passing",
          "Vision",
          "Ball Control",
          "Stamina",
          "Interceptions",
          "Long Passing",
          "Composure",
          "Dribbling",
          "Standing Tackle",
          "Reactions"
         ],
         "y": [
          86,
          88,
          88,
          88,
          87,
          "73",
          86,
          87,
          "87",
          "77",
          87
         ]
        }
       ],
       "layout": {
        "showlegend": false,
        "template": {
         "data": {
          "bar": [
           {
            "error_x": {
             "color": "#2a3f5f"
            },
            "error_y": {
             "color": "#2a3f5f"
            },
            "marker": {
             "line": {
              "color": "#E5ECF6",
              "width": 0.5
             },
             "pattern": {
              "fillmode": "overlay",
              "size": 10,
              "solidity": 0.2
             }
            },
            "type": "bar"
           }
          ],
          "barpolar": [
           {
            "marker": {
             "line": {
              "color": "#E5ECF6",
              "width": 0.5
             },
             "pattern": {
              "fillmode": "overlay",
              "size": 10,
              "solidity": 0.2
             }
            },
            "type": "barpolar"
           }
          ],
          "carpet": [
           {
            "aaxis": {
             "endlinecolor": "#2a3f5f",
             "gridcolor": "white",
             "linecolor": "white",
             "minorgridcolor": "white",
             "startlinecolor": "#2a3f5f"
            },
            "baxis": {
             "endlinecolor": "#2a3f5f",
             "gridcolor": "white",
             "linecolor": "white",
             "minorgridcolor": "white",
             "startlinecolor": "#2a3f5f"
            },
            "type": "carpet"
           }
          ],
          "choropleth": [
           {
            "colorbar": {
             "outlinewidth": 0,
             "ticks": ""
            },
            "type": "choropleth"
           }
          ],
          "contour": [
           {
            "colorbar": {
             "outlinewidth": 0,
             "ticks": ""
            },
            "colorscale": [
             [
              0,
              "#0d0887"
             ],
             [
              0.1111111111111111,
              "#46039f"
             ],
             [
              0.2222222222222222,
              "#7201a8"
             ],
             [
              0.3333333333333333,
              "#9c179e"
             ],
             [
              0.4444444444444444,
              "#bd3786"
             ],
             [
              0.5555555555555556,
              "#d8576b"
             ],
             [
              0.6666666666666666,
              "#ed7953"
             ],
             [
              0.7777777777777778,
              "#fb9f3a"
             ],
             [
              0.8888888888888888,
              "#fdca26"
             ],
             [
              1,
              "#f0f921"
             ]
            ],
            "type": "contour"
           }
          ],
          "contourcarpet": [
           {
            "colorbar": {
             "outlinewidth": 0,
             "ticks": ""
            },
            "type": "contourcarpet"
           }
          ],
          "heatmap": [
           {
            "colorbar": {
             "outlinewidth": 0,
             "ticks": ""
            },
            "colorscale": [
             [
              0,
              "#0d0887"
             ],
             [
              0.1111111111111111,
              "#46039f"
             ],
             [
              0.2222222222222222,
              "#7201a8"
             ],
             [
              0.3333333333333333,
              "#9c179e"
             ],
             [
              0.4444444444444444,
              "#bd3786"
             ],
             [
              0.5555555555555556,
              "#d8576b"
             ],
             [
              0.6666666666666666,
              "#ed7953"
             ],
             [
              0.7777777777777778,
              "#fb9f3a"
             ],
             [
              0.8888888888888888,
              "#fdca26"
             ],
             [
              1,
              "#f0f921"
             ]
            ],
            "type": "heatmap"
           }
          ],
          "heatmapgl": [
           {
            "colorbar": {
             "outlinewidth": 0,
             "ticks": ""
            },
            "colorscale": [
             [
              0,
              "#0d0887"
             ],
             [
              0.1111111111111111,
              "#46039f"
             ],
             [
              0.2222222222222222,
              "#7201a8"
             ],
             [
              0.3333333333333333,
              "#9c179e"
             ],
             [
              0.4444444444444444,
              "#bd3786"
             ],
             [
              0.5555555555555556,
              "#d8576b"
             ],
             [
              0.6666666666666666,
              "#ed7953"
             ],
             [
              0.7777777777777778,
              "#fb9f3a"
             ],
             [
              0.8888888888888888,
              "#fdca26"
             ],
             [
              1,
              "#f0f921"
             ]
            ],
            "type": "heatmapgl"
           }
          ],
          "histogram": [
           {
            "marker": {
             "pattern": {
              "fillmode": "overlay",
              "size": 10,
              "solidity": 0.2
             }
            },
            "type": "histogram"
           }
          ],
          "histogram2d": [
           {
            "colorbar": {
             "outlinewidth": 0,
             "ticks": ""
            },
            "colorscale": [
             [
              0,
              "#0d0887"
             ],
             [
              0.1111111111111111,
              "#46039f"
             ],
             [
              0.2222222222222222,
              "#7201a8"
             ],
             [
              0.3333333333333333,
              "#9c179e"
             ],
             [
              0.4444444444444444,
              "#bd3786"
             ],
             [
              0.5555555555555556,
              "#d8576b"
             ],
             [
              0.6666666666666666,
              "#ed7953"
             ],
             [
              0.7777777777777778,
              "#fb9f3a"
             ],
             [
              0.8888888888888888,
              "#fdca26"
             ],
             [
              1,
              "#f0f921"
             ]
            ],
            "type": "histogram2d"
           }
          ],
          "histogram2dcontour": [
           {
            "colorbar": {
             "outlinewidth": 0,
             "ticks": ""
            },
            "colorscale": [
             [
              0,
              "#0d0887"
             ],
             [
              0.1111111111111111,
              "#46039f"
             ],
             [
              0.2222222222222222,
              "#7201a8"
             ],
             [
              0.3333333333333333,
              "#9c179e"
             ],
             [
              0.4444444444444444,
              "#bd3786"
             ],
             [
              0.5555555555555556,
              "#d8576b"
             ],
             [
              0.6666666666666666,
              "#ed7953"
             ],
             [
              0.7777777777777778,
              "#fb9f3a"
             ],
             [
              0.8888888888888888,
              "#fdca26"
             ],
             [
              1,
              "#f0f921"
             ]
            ],
            "type": "histogram2dcontour"
           }
          ],
          "mesh3d": [
           {
            "colorbar": {
             "outlinewidth": 0,
             "ticks": ""
            },
            "type": "mesh3d"
           }
          ],
          "parcoords": [
           {
            "line": {
             "colorbar": {
              "outlinewidth": 0,
              "ticks": ""
             }
            },
            "type": "parcoords"
           }
          ],
          "pie": [
           {
            "automargin": true,
            "type": "pie"
           }
          ],
          "scatter": [
           {
            "fillpattern": {
             "fillmode": "overlay",
             "size": 10,
             "solidity": 0.2
            },
            "type": "scatter"
           }
          ],
          "scatter3d": [
           {
            "line": {
             "colorbar": {
              "outlinewidth": 0,
              "ticks": ""
             }
            },
            "marker": {
             "colorbar": {
              "outlinewidth": 0,
              "ticks": ""
             }
            },
            "type": "scatter3d"
           }
          ],
          "scattercarpet": [
           {
            "marker": {
             "colorbar": {
              "outlinewidth": 0,
              "ticks": ""
             }
            },
            "type": "scattercarpet"
           }
          ],
          "scattergeo": [
           {
            "marker": {
             "colorbar": {
              "outlinewidth": 0,
              "ticks": ""
             }
            },
            "type": "scattergeo"
           }
          ],
          "scattergl": [
           {
            "marker": {
             "colorbar": {
              "outlinewidth": 0,
              "ticks": ""
             }
            },
            "type": "scattergl"
           }
          ],
          "scattermapbox": [
           {
            "marker": {
             "colorbar": {
              "outlinewidth": 0,
              "ticks": ""
             }
            },
            "type": "scattermapbox"
           }
          ],
          "scatterpolar": [
           {
            "marker": {
             "colorbar": {
              "outlinewidth": 0,
              "ticks": ""
             }
            },
            "type": "scatterpolar"
           }
          ],
          "scatterpolargl": [
           {
            "marker": {
             "colorbar": {
              "outlinewidth": 0,
              "ticks": ""
             }
            },
            "type": "scatterpolargl"
           }
          ],
          "scatterternary": [
           {
            "marker": {
             "colorbar": {
              "outlinewidth": 0,
              "ticks": ""
             }
            },
            "type": "scatterternary"
           }
          ],
          "surface": [
           {
            "colorbar": {
             "outlinewidth": 0,
             "ticks": ""
            },
            "colorscale": [
             [
              0,
              "#0d0887"
             ],
             [
              0.1111111111111111,
              "#46039f"
             ],
             [
              0.2222222222222222,
              "#7201a8"
             ],
             [
              0.3333333333333333,
              "#9c179e"
             ],
             [
              0.4444444444444444,
              "#bd3786"
             ],
             [
              0.5555555555555556,
              "#d8576b"
             ],
             [
              0.6666666666666666,
              "#ed7953"
             ],
             [
              0.7777777777777778,
              "#fb9f3a"
             ],
             [
              0.8888888888888888,
              "#fdca26"
             ],
             [
              1,
              "#f0f921"
             ]
            ],
            "type": "surface"
           }
          ],
          "table": [
           {
            "cells": {
             "fill": {
              "color": "#EBF0F8"
             },
             "line": {
              "color": "white"
             }
            },
            "header": {
             "fill": {
              "color": "#C8D4E3"
             },
             "line": {
              "color": "white"
             }
            },
            "type": "table"
           }
          ]
         },
         "layout": {
          "annotationdefaults": {
           "arrowcolor": "#2a3f5f",
           "arrowhead": 0,
           "arrowwidth": 1
          },
          "autotypenumbers": "strict",
          "coloraxis": {
           "colorbar": {
            "outlinewidth": 0,
            "ticks": ""
           }
          },
          "colorscale": {
           "diverging": [
            [
             0,
             "#8e0152"
            ],
            [
             0.1,
             "#c51b7d"
            ],
            [
             0.2,
             "#de77ae"
            ],
            [
             0.3,
             "#f1b6da"
            ],
            [
             0.4,
             "#fde0ef"
            ],
            [
             0.5,
             "#f7f7f7"
            ],
            [
             0.6,
             "#e6f5d0"
            ],
            [
             0.7,
             "#b8e186"
            ],
            [
             0.8,
             "#7fbc41"
            ],
            [
             0.9,
             "#4d9221"
            ],
            [
             1,
             "#276419"
            ]
           ],
           "sequential": [
            [
             0,
             "#0d0887"
            ],
            [
             0.1111111111111111,
             "#46039f"
            ],
            [
             0.2222222222222222,
             "#7201a8"
            ],
            [
             0.3333333333333333,
             "#9c179e"
            ],
            [
             0.4444444444444444,
             "#bd3786"
            ],
            [
             0.5555555555555556,
             "#d8576b"
            ],
            [
             0.6666666666666666,
             "#ed7953"
            ],
            [
             0.7777777777777778,
             "#fb9f3a"
            ],
            [
             0.8888888888888888,
             "#fdca26"
            ],
            [
             1,
             "#f0f921"
            ]
           ],
           "sequentialminus": [
            [
             0,
             "#0d0887"
            ],
            [
             0.1111111111111111,
             "#46039f"
            ],
            [
             0.2222222222222222,
             "#7201a8"
            ],
            [
             0.3333333333333333,
             "#9c179e"
            ],
            [
             0.4444444444444444,
             "#bd3786"
            ],
            [
             0.5555555555555556,
             "#d8576b"
            ],
            [
             0.6666666666666666,
             "#ed7953"
            ],
            [
             0.7777777777777778,
             "#fb9f3a"
            ],
            [
             0.8888888888888888,
             "#fdca26"
            ],
            [
             1,
             "#f0f921"
            ]
           ]
          },
          "colorway": [
           "#636efa",
           "#EF553B",
           "#00cc96",
           "#ab63fa",
           "#FFA15A",
           "#19d3f3",
           "#FF6692",
           "#B6E880",
           "#FF97FF",
           "#FECB52"
          ],
          "font": {
           "color": "#2a3f5f"
          },
          "geo": {
           "bgcolor": "white",
           "lakecolor": "white",
           "landcolor": "#E5ECF6",
           "showlakes": true,
           "showland": true,
           "subunitcolor": "white"
          },
          "hoverlabel": {
           "align": "left"
          },
          "hovermode": "closest",
          "mapbox": {
           "style": "light"
          },
          "paper_bgcolor": "white",
          "plot_bgcolor": "#E5ECF6",
          "polar": {
           "angularaxis": {
            "gridcolor": "white",
            "linecolor": "white",
            "ticks": ""
           },
           "bgcolor": "#E5ECF6",
           "radialaxis": {
            "gridcolor": "white",
            "linecolor": "white",
            "ticks": ""
           }
          },
          "scene": {
           "xaxis": {
            "backgroundcolor": "#E5ECF6",
            "gridcolor": "white",
            "gridwidth": 2,
            "linecolor": "white",
            "showbackground": true,
            "ticks": "",
            "zerolinecolor": "white"
           },
           "yaxis": {
            "backgroundcolor": "#E5ECF6",
            "gridcolor": "white",
            "gridwidth": 2,
            "linecolor": "white",
            "showbackground": true,
            "ticks": "",
            "zerolinecolor": "white"
           },
           "zaxis": {
            "backgroundcolor": "#E5ECF6",
            "gridcolor": "white",
            "gridwidth": 2,
            "linecolor": "white",
            "showbackground": true,
            "ticks": "",
            "zerolinecolor": "white"
           }
          },
          "shapedefaults": {
           "line": {
            "color": "#2a3f5f"
           }
          },
          "ternary": {
           "aaxis": {
            "gridcolor": "white",
            "linecolor": "white",
            "ticks": ""
           },
           "baxis": {
            "gridcolor": "white",
            "linecolor": "white",
            "ticks": ""
           },
           "bgcolor": "#E5ECF6",
           "caxis": {
            "gridcolor": "white",
            "linecolor": "white",
            "ticks": ""
           }
          },
          "title": {
           "x": 0.05
          },
          "xaxis": {
           "automargin": true,
           "gridcolor": "white",
           "linecolor": "white",
           "ticks": "",
           "title": {
            "standoff": 15
           },
           "zerolinecolor": "white",
           "zerolinewidth": 2
          },
          "yaxis": {
           "automargin": true,
           "gridcolor": "white",
           "linecolor": "white",
           "ticks": "",
           "title": {
            "standoff": 15
           },
           "zerolinecolor": "white",
           "zerolinewidth": 2
          }
         }
        },
        "title": {
         "text": "Best 30 CM"
        },
        "updatemenus": [
         {
          "buttons": [
           {
            "args": [
             {
              "visible": [
               true,
               false,
               false,
               false,
               false,
               false,
               false,
               false,
               false,
               false,
               false,
               false,
               false,
               false,
               false
              ]
             }
            ],
            "label": "Aitana Bonmatí",
            "method": "update"
           },
           {
            "args": [
             {
              "visible": [
               false,
               true,
               false,
               false,
               false,
               false,
               false,
               false,
               false,
               false,
               false,
               false,
               false,
               false,
               false
              ]
             }
            ],
            "label": "Kevin De Bruyne",
            "method": "update"
           },
           {
            "args": [
             {
              "visible": [
               false,
               false,
               true,
               false,
               false,
               false,
               false,
               false,
               false,
               false,
               false,
               false,
               false,
               false,
               false
              ]
             }
            ],
            "label": "Alexia Putellas",
            "method": "update"
           },
           {
            "args": [
             {
              "visible": [
               false,
               false,
               false,
               true,
               false,
               false,
               false,
               false,
               false,
               false,
               false,
               false,
               false,
               false,
               false
              ]
             }
            ],
            "label": "Martin Ødegaard",
            "method": "update"
           },
           {
            "args": [
             {
              "visible": [
               false,
               false,
               false,
               false,
               true,
               false,
               false,
               false,
               false,
               false,
               false,
               false,
               false,
               false,
               false
              ]
             }
            ],
            "label": "Bernardo Silva",
            "method": "update"
           },
           {
            "args": [
             {
              "visible": [
               false,
               false,
               false,
               false,
               false,
               true,
               false,
               false,
               false,
               false,
               false,
               false,
               false,
               false,
               false
              ]
             }
            ],
            "label": "Federico Valverde",
            "method": "update"
           },
           {
            "args": [
             {
              "visible": [
               false,
               false,
               false,
               false,
               false,
               false,
               true,
               false,
               false,
               false,
               false,
               false,
               false,
               false,
               false
              ]
             }
            ],
            "label": "İlkay Gündoğan",
            "method": "update"
           },
           {
            "args": [
             {
              "visible": [
               false,
               false,
               false,
               false,
               false,
               false,
               false,
               true,
               false,
               false,
               false,
               false,
               false,
               false,
               false
              ]
             }
            ],
            "label": "Nicolò Barella",
            "method": "update"
           },
           {
            "args": [
             {
              "visible": [
               false,
               false,
               false,
               false,
               false,
               false,
               false,
               false,
               true,
               false,
               false,
               false,
               false,
               false,
               false
              ]
             }
            ],
            "label": "Frenkie de Jong",
            "method": "update"
           },
           {
            "args": [
             {
              "visible": [
               false,
               false,
               false,
               false,
               false,
               false,
               false,
               false,
               false,
               true,
               false,
               false,
               false,
               false,
               false
              ]
             }
            ],
            "label": "Grace Geyoro",
            "method": "update"
           },
           {
            "args": [
             {
              "visible": [
               false,
               false,
               false,
               false,
               false,
               false,
               false,
               false,
               false,
               false,
               true,
               false,
               false,
               false,
               false
              ]
             }
            ],
            "label": "Kim Little",
            "method": "update"
           },
           {
            "args": [
             {
              "visible": [
               false,
               false,
               false,
               false,
               false,
               false,
               false,
               false,
               false,
               false,
               false,
               true,
               false,
               false,
               false
              ]
             }
            ],
            "label": "Lindsey Horan",
            "method": "update"
           },
           {
            "args": [
             {
              "visible": [
               false,
               false,
               false,
               false,
               false,
               false,
               false,
               false,
               false,
               false,
               false,
               false,
               true,
               false,
               false
              ]
             }
            ],
            "label": "Luka Modrić",
            "method": "update"
           },
           {
            "args": [
             {
              "visible": [
               false,
               false,
               false,
               false,
               false,
               false,
               false,
               false,
               false,
               false,
               false,
               false,
               false,
               true,
               false
              ]
             }
            ],
            "label": "Alexis Mac Allister",
            "method": "update"
           },
           {
            "args": [
             {
              "visible": [
               false,
               false,
               false,
               false,
               false,
               false,
               false,
               false,
               false,
               false,
               false,
               false,
               false,
               false,
               true
              ]
             }
            ],
            "label": "Pedri",
            "method": "update"
           }
          ],
          "direction": "down",
          "showactive": true
         }
        ],
        "xaxis": {
         "title": {
          "text": "Attributes"
         }
        },
        "yaxis": {
         "title": {
          "text": "Value"
         }
        }
       }
      }
     },
     "metadata": {},
     "output_type": "display_data"
    }
   ],
   "source": [
    "fig = go.Figure()\n",
    "\n",
    "for player in cm_data['Name']:\n",
    "    player_data = cm_data[cm_data['Name'] == player][cm_stats].values.flatten()\n",
    "    fig.add_trace(\n",
    "        go.Bar(\n",
    "            x=cm_stats,\n",
    "            y=player_data,\n",
    "            name=player,\n",
    "            visible=False\n",
    "        )\n",
    "    )\n",
    "\n",
    "fig.data[0].visible = True\n",
    "\n",
    "\n",
    "fig.update_layout(\n",
    "    updatemenus=[\n",
    "        dict(\n",
    "            buttons=[\n",
    "                dict(\n",
    "                    args=[{\"visible\": [i == j for i in range(len(cm_data['Name']))]}],  \n",
    "                    label=player,\n",
    "                    method='update'\n",
    "                )\n",
    "                for j, player in enumerate(cm_data['Name'])  \n",
    "            ],\n",
    "            direction='down',\n",
    "            showactive=True,\n",
    "        )\n",
    "    ]\n",
    ")\n",
    "\n",
    "fig.update_layout(\n",
    "    title='Best 30 CM',\n",
    "    xaxis_title='Attributes',\n",
    "    yaxis_title='Value',\n",
    "    showlegend=False\n",
    ")\n",
    "\n",
    "fig.show()"
   ]
  },
  {
   "cell_type": "code",
   "execution_count": 9,
   "metadata": {},
   "outputs": [
    {
     "name": "stdout",
     "output_type": "stream",
     "text": [
      "Name: Aitana Bonmatí, index: 0, Stat:OVR, value:91\n",
      "Name: Kevin De Bruyne, index: 1, Stat:Short Passing, value:94\n",
      "Name: Kevin De Bruyne, index: 1, Stat:Vision, value:95\n",
      "Name: Kevin De Bruyne, index: 1, Stat:Ball Control, value:92\n",
      "Name: Bernardo Silva, index: 4, Stat:Stamina, value:93\n",
      "Name: Aitana Bonmatí, index: 0, Stat:Interceptions, value:88\n",
      "Name: Kevin De Bruyne, index: 1, Stat:Long Passing, value:93\n",
      "Name: Alexia Putellas, index: 2, Stat:Composure, value:92\n",
      "Name: Bernardo Silva, index: 4, Stat:Dribbling, value:93\n",
      "Name: Grace Geyoro, index: 9, Stat:Standing Tackle, value:90\n",
      "Name: Kevin De Bruyne, index: 1, Stat:Reactions, value:92\n"
     ]
    }
   ],
   "source": [
    "for stat in cm_stats:\n",
    "    cm_data[stat] = pd.to_numeric(cm_data[stat], errors='coerce')\n",
    "    print(f'Name: {cm_data.Name[cm_data[stat].idxmax()]}, index: {cm_data[stat].idxmax()}, Stat:{stat}, value:{cm_data[stat].iloc[cm_data[stat].idxmax()]}')"
   ]
  },
  {
   "cell_type": "code",
   "execution_count": 10,
   "metadata": {},
   "outputs": [
    {
     "data": {
      "image/png": "[encoded data removed]",
      "text/plain": [
       "<Figure size 1200x800 with 1 Axes>"
      ]
     },
     "metadata": {},
     "output_type": "display_data"
    }
   ],
   "source": [
    "cm_best = cm_data.loc[cm_data[cm_stats].idxmax()]\n",
    "\n",
    "plt.figure(figsize=(12, 8))\n",
    "parallel_coordinates(cm_best, class_column='Name', cols=cm_stats)\n",
    "plt.legend(loc='center left', bbox_to_anchor=(1, 0.5))\n",
    "plt.xticks(rotation = 45)\n",
    "plt.show()"
   ]
  },
  {
   "cell_type": "markdown",
   "metadata": {},
   "source": [
    "1) Kevin De Bruyne\n",
    "2)Aitana Bonmati / Bernardo Silva"
   ]
  },
  {
   "cell_type": "code",
   "execution_count": 11,
   "metadata": {},
   "outputs": [
    {
     "data": {
      "text/html": [
       "<div>\n",
       "<style scoped>\n",
       "    .dataframe tbody tr th:only-of-type {\n",
       "        vertical-align: middle;\n",
       "    }\n",
       "\n",
       "    .dataframe tbody tr th {\n",
       "        vertical-align: top;\n",
       "    }\n",
       "\n",
       "    .dataframe thead th {\n",
       "        text-align: right;\n",
       "    }\n",
       "</style>\n",
       "<table border=\"1\" class=\"dataframe\">\n",
       "  <thead>\n",
       "    <tr style=\"text-align: right;\">\n",
       "      <th></th>\n",
       "      <th>index</th>\n",
       "      <th>Rank</th>\n",
       "      <th>Name</th>\n",
       "      <th>OVR</th>\n",
       "      <th>PAC</th>\n",
       "      <th>SHO</th>\n",
       "      <th>PAS</th>\n",
       "      <th>DRI</th>\n",
       "      <th>DEF</th>\n",
       "      <th>PHY</th>\n",
       "      <th>...</th>\n",
       "      <th>Preferred foot</th>\n",
       "      <th>Age</th>\n",
       "      <th>Nation</th>\n",
       "      <th>League</th>\n",
       "      <th>Team</th>\n",
       "      <th>GK Diving</th>\n",
       "      <th>GK Handling</th>\n",
       "      <th>GK Kicking</th>\n",
       "      <th>GK Positioning</th>\n",
       "      <th>GK Reflexes</th>\n",
       "    </tr>\n",
       "  </thead>\n",
       "  <tbody>\n",
       "    <tr>\n",
       "      <th>0</th>\n",
       "      <td>3</td>\n",
       "      <td>5</td>\n",
       "      <td>Jude Bellingham</td>\n",
       "      <td>90</td>\n",
       "      <td>80</td>\n",
       "      <td>87</td>\n",
       "      <td>83</td>\n",
       "      <td>88</td>\n",
       "      <td>78</td>\n",
       "      <td>83</td>\n",
       "      <td>...</td>\n",
       "      <td>Right</td>\n",
       "      <td>21</td>\n",
       "      <td>England</td>\n",
       "      <td>LALIGA EA SPORTS</td>\n",
       "      <td>Real Madrid</td>\n",
       "      <td>NaN</td>\n",
       "      <td>NaN</td>\n",
       "      <td>NaN</td>\n",
       "      <td>NaN</td>\n",
       "      <td>NaN</td>\n",
       "    </tr>\n",
       "    <tr>\n",
       "      <th>1</th>\n",
       "      <td>25</td>\n",
       "      <td>42</td>\n",
       "      <td>Florian Wirtz</td>\n",
       "      <td>88</td>\n",
       "      <td>81</td>\n",
       "      <td>78</td>\n",
       "      <td>87</td>\n",
       "      <td>89</td>\n",
       "      <td>50</td>\n",
       "      <td>67</td>\n",
       "      <td>...</td>\n",
       "      <td>Right</td>\n",
       "      <td>21</td>\n",
       "      <td>Germany</td>\n",
       "      <td>Bundesliga</td>\n",
       "      <td>Leverkusen</td>\n",
       "      <td>NaN</td>\n",
       "      <td>NaN</td>\n",
       "      <td>NaN</td>\n",
       "      <td>NaN</td>\n",
       "      <td>NaN</td>\n",
       "    </tr>\n",
       "    <tr>\n",
       "      <th>961</th>\n",
       "      <td>16169</td>\n",
       "      <td>26</td>\n",
       "      <td>Debinha</td>\n",
       "      <td>88</td>\n",
       "      <td>84</td>\n",
       "      <td>81</td>\n",
       "      <td>87</td>\n",
       "      <td>91</td>\n",
       "      <td>46</td>\n",
       "      <td>68</td>\n",
       "      <td>...</td>\n",
       "      <td>Right</td>\n",
       "      <td>32</td>\n",
       "      <td>Brazil</td>\n",
       "      <td>NWSL</td>\n",
       "      <td>KC Current</td>\n",
       "      <td>NaN</td>\n",
       "      <td>NaN</td>\n",
       "      <td>NaN</td>\n",
       "      <td>NaN</td>\n",
       "      <td>NaN</td>\n",
       "    </tr>\n",
       "    <tr>\n",
       "      <th>4</th>\n",
       "      <td>37</td>\n",
       "      <td>57</td>\n",
       "      <td>Bruno Fernandes</td>\n",
       "      <td>87</td>\n",
       "      <td>70</td>\n",
       "      <td>85</td>\n",
       "      <td>88</td>\n",
       "      <td>83</td>\n",
       "      <td>65</td>\n",
       "      <td>75</td>\n",
       "      <td>...</td>\n",
       "      <td>Right</td>\n",
       "      <td>30</td>\n",
       "      <td>Portugal</td>\n",
       "      <td>Premier League</td>\n",
       "      <td>Man Utd</td>\n",
       "      <td>NaN</td>\n",
       "      <td>NaN</td>\n",
       "      <td>NaN</td>\n",
       "      <td>NaN</td>\n",
       "      <td>NaN</td>\n",
       "    </tr>\n",
       "    <tr>\n",
       "      <th>962</th>\n",
       "      <td>16180</td>\n",
       "      <td>58</td>\n",
       "      <td>Rose Lavelle</td>\n",
       "      <td>87</td>\n",
       "      <td>86</td>\n",
       "      <td>79</td>\n",
       "      <td>84</td>\n",
       "      <td>87</td>\n",
       "      <td>45</td>\n",
       "      <td>63</td>\n",
       "      <td>...</td>\n",
       "      <td>Left</td>\n",
       "      <td>29</td>\n",
       "      <td>United States</td>\n",
       "      <td>NWSL</td>\n",
       "      <td>NJ/NY Gotham</td>\n",
       "      <td>NaN</td>\n",
       "      <td>NaN</td>\n",
       "      <td>NaN</td>\n",
       "      <td>NaN</td>\n",
       "      <td>NaN</td>\n",
       "    </tr>\n",
       "  </tbody>\n",
       "</table>\n",
       "<p>5 rows × 52 columns</p>\n",
       "</div>"
      ],
      "text/plain": [
       "     index  Rank             Name  OVR  PAC  SHO  PAS  DRI  DEF  PHY  ...  \\\n",
       "0        3     5  Jude Bellingham   90   80   87   83   88   78   83  ...   \n",
       "1       25    42    Florian Wirtz   88   81   78   87   89   50   67  ...   \n",
       "961  16169    26          Debinha   88   84   81   87   91   46   68  ...   \n",
       "4       37    57  Bruno Fernandes   87   70   85   88   83   65   75  ...   \n",
       "962  16180    58     Rose Lavelle   87   86   79   84   87   45   63  ...   \n",
       "\n",
       "     Preferred foot  Age         Nation            League          Team  \\\n",
       "0             Right   21        England  LALIGA EA SPORTS   Real Madrid   \n",
       "1             Right   21        Germany        Bundesliga    Leverkusen   \n",
       "961           Right   32         Brazil              NWSL    KC Current   \n",
       "4             Right   30       Portugal    Premier League       Man Utd   \n",
       "962            Left   29  United States              NWSL  NJ/NY Gotham   \n",
       "\n",
       "    GK Diving GK Handling  GK Kicking  GK Positioning GK Reflexes  \n",
       "0         NaN         NaN         NaN             NaN         NaN  \n",
       "1         NaN         NaN         NaN             NaN         NaN  \n",
       "961       NaN         NaN         NaN             NaN         NaN  \n",
       "4         NaN         NaN         NaN             NaN         NaN  \n",
       "962       NaN         NaN         NaN             NaN         NaN  \n",
       "\n",
       "[5 rows x 52 columns]"
      ]
     },
     "execution_count": 11,
     "metadata": {},
     "output_type": "execute_result"
    }
   ],
   "source": [
    "#CAM\n",
    "cam_data = all_data[all_data['Position'] == 'CAM']\n",
    "cam_data = cam_data.reset_index()\n",
    "cam_data = cam_data.sort_values('OVR', ascending=False)[:15]\n",
    "cam_data.head()"
   ]
  },
  {
   "cell_type": "code",
   "execution_count": 12,
   "metadata": {},
   "outputs": [
    {
     "data": {
      "application/vnd.plotly.v1+json": {
       "config": {
        "plotlyServerURL": "https://plot.ly"
       },
       "data": [
        {
         "name": "Jude Bellingham",
         "type": "bar",
         "visible": true,
         "x": [
          "Vision",
          "Short Passing",
          "Dribbling",
          "Ball Control",
          "Finishing",
          "Positioning",
          "Agility",
          "Composure",
          "Stamina"
         ],
         "y": [
          90,
          89,
          "89",
          89,
          "90",
          "91",
          82,
          87,
          93
         ]
        },
        {
         "name": "Florian Wirtz",
         "type": "bar",
         "visible": false,
         "x": [
          "Vision",
          "Short Passing",
          "Dribbling",
          "Ball Control",
          "Finishing",
          "Positioning",
          "Agility",
          "Composure",
          "Stamina"
         ],
         "y": [
          91,
          91,
          "90",
          90,
          "79",
          "83",
          87,
          85,
          87
         ]
        },
        {
         "name": "Debinha",
         "type": "bar",
         "visible": false,
         "x": [
          "Vision",
          "Short Passing",
          "Dribbling",
          "Ball Control",
          "Finishing",
          "Positioning",
          "Agility",
          "Composure",
          "Stamina"
         ],
         "y": [
          90,
          87,
          "93",
          91,
          "82",
          "87",
          90,
          84,
          81
         ]
        },
        {
         "name": "Bruno Fernandes",
         "type": "bar",
         "visible": false,
         "x": [
          "Vision",
          "Short Passing",
          "Dribbling",
          "Ball Control",
          "Finishing",
          "Positioning",
          "Agility",
          "Composure",
          "Stamina"
         ],
         "y": [
          94,
          89,
          "83",
          86,
          "84",
          "87",
          78,
          79,
          95
         ]
        },
        {
         "name": "Rose Lavelle",
         "type": "bar",
         "visible": false,
         "x": [
          "Vision",
          "Short Passing",
          "Dribbling",
          "Ball Control",
          "Finishing",
          "Positioning",
          "Agility",
          "Composure",
          "Stamina"
         ],
         "y": [
          86,
          91,
          "90",
          87,
          "82",
          "85",
          80,
          79,
          80
         ]
        },
        {
         "name": "Jamal Musiala",
         "type": "bar",
         "visible": false,
         "x": [
          "Vision",
          "Short Passing",
          "Dribbling",
          "Ball Control",
          "Finishing",
          "Positioning",
          "Agility",
          "Composure",
          "Stamina"
         ],
         "y": [
          84,
          84,
          "94",
          84,
          "84",
          "86",
          93,
          83,
          78
         ]
        },
        {
         "name": "Paulo Dybala",
         "type": "bar",
         "visible": false,
         "x": [
          "Vision",
          "Short Passing",
          "Dribbling",
          "Ball Control",
          "Finishing",
          "Positioning",
          "Agility",
          "Composure",
          "Stamina"
         ],
         "y": [
          88,
          84,
          "89",
          91,
          "84",
          "83",
          88,
          87,
          74
         ]
        },
        {
         "name": "Jill Roord",
         "type": "bar",
         "visible": false,
         "x": [
          "Vision",
          "Short Passing",
          "Dribbling",
          "Ball Control",
          "Finishing",
          "Positioning",
          "Agility",
          "Composure",
          "Stamina"
         ],
         "y": [
          87,
          87,
          "85",
          87,
          "82",
          "86",
          80,
          82,
          76
         ]
        },
        {
         "name": "Julian Brandt",
         "type": "bar",
         "visible": false,
         "x": [
          "Vision",
          "Short Passing",
          "Dribbling",
          "Ball Control",
          "Finishing",
          "Positioning",
          "Agility",
          "Composure",
          "Stamina"
         ],
         "y": [
          87,
          87,
          "86",
          87,
          "80",
          "82",
          83,
          84,
          85
         ]
        },
        {
         "name": "James Maddison",
         "type": "bar",
         "visible": false,
         "x": [
          "Vision",
          "Short Passing",
          "Dribbling",
          "Ball Control",
          "Finishing",
          "Positioning",
          "Agility",
          "Composure",
          "Stamina"
         ],
         "y": [
          88,
          86,
          "86",
          88,
          "80",
          "85",
          84,
          88,
          78
         ]
        },
        {
         "name": "Pernille Harder",
         "type": "bar",
         "visible": false,
         "x": [
          "Vision",
          "Short Passing",
          "Dribbling",
          "Ball Control",
          "Finishing",
          "Positioning",
          "Agility",
          "Composure",
          "Stamina"
         ],
         "y": [
          83,
          84,
          "90",
          88,
          "78",
          "86",
          89,
          90,
          76
         ]
        },
        {
         "name": "Fran Kirby",
         "type": "bar",
         "visible": false,
         "x": [
          "Vision",
          "Short Passing",
          "Dribbling",
          "Ball Control",
          "Finishing",
          "Positioning",
          "Agility",
          "Composure",
          "Stamina"
         ],
         "y": [
          77,
          82,
          "88",
          89,
          "81",
          "88",
          89,
          82,
          67
         ]
        },
        {
         "name": "Ella Toone",
         "type": "bar",
         "visible": false,
         "x": [
          "Vision",
          "Short Passing",
          "Dribbling",
          "Ball Control",
          "Finishing",
          "Positioning",
          "Agility",
          "Composure",
          "Stamina"
         ],
         "y": [
          86,
          83,
          "92",
          85,
          "80",
          "86",
          67,
          82,
          84
         ]
        },
        {
         "name": "Marta",
         "type": "bar",
         "visible": false,
         "x": [
          "Vision",
          "Short Passing",
          "Dribbling",
          "Ball Control",
          "Finishing",
          "Positioning",
          "Agility",
          "Composure",
          "Stamina"
         ],
         "y": [
          92,
          82,
          "90",
          88,
          "80",
          "86",
          80,
          89,
          83
         ]
        },
        {
         "name": "Caroline Weir",
         "type": "bar",
         "visible": false,
         "x": [
          "Vision",
          "Short Passing",
          "Dribbling",
          "Ball Control",
          "Finishing",
          "Positioning",
          "Agility",
          "Composure",
          "Stamina"
         ],
         "y": [
          86,
          89,
          "85",
          85,
          "83",
          "84",
          70,
          85,
          83
         ]
        }
       ],
       "layout": {
        "showlegend": false,
        "template": {
         "data": {
          "bar": [
           {
            "error_x": {
             "color": "#2a3f5f"
            },
            "error_y": {
             "color": "#2a3f5f"
            },
            "marker": {
             "line": {
              "color": "#E5ECF6",
              "width": 0.5
             },
             "pattern": {
              "fillmode": "overlay",
              "size": 10,
              "solidity": 0.2
             }
            },
            "type": "bar"
           }
          ],
          "barpolar": [
           {
            "marker": {
             "line": {
              "color": "#E5ECF6",
              "width": 0.5
             },
             "pattern": {
              "fillmode": "overlay",
              "size": 10,
              "solidity": 0.2
             }
            },
            "type": "barpolar"
           }
          ],
          "carpet": [
           {
            "aaxis": {
             "endlinecolor": "#2a3f5f",
             "gridcolor": "white",
             "linecolor": "white",
             "minorgridcolor": "white",
             "startlinecolor": "#2a3f5f"
            },
            "baxis": {
             "endlinecolor": "#2a3f5f",
             "gridcolor": "white",
             "linecolor": "white",
             "minorgridcolor": "white",
             "startlinecolor": "#2a3f5f"
            },
            "type": "carpet"
           }
          ],
          "choropleth": [
           {
            "colorbar": {
             "outlinewidth": 0,
             "ticks": ""
            },
            "type": "choropleth"
           }
          ],
          "contour": [
           {
            "colorbar": {
             "outlinewidth": 0,
             "ticks": ""
            },
            "colorscale": [
             [
              0,
              "#0d0887"
             ],
             [
              0.1111111111111111,
              "#46039f"
             ],
             [
              0.2222222222222222,
              "#7201a8"
             ],
             [
              0.3333333333333333,
              "#9c179e"
             ],
             [
              0.4444444444444444,
              "#bd3786"
             ],
             [
              0.5555555555555556,
              "#d8576b"
             ],
             [
              0.6666666666666666,
              "#ed7953"
             ],
             [
              0.7777777777777778,
              "#fb9f3a"
             ],
             [
              0.8888888888888888,
              "#fdca26"
             ],
             [
              1,
              "#f0f921"
             ]
            ],
            "type": "contour"
           }
          ],
          "contourcarpet": [
           {
            "colorbar": {
             "outlinewidth": 0,
             "ticks": ""
            },
            "type": "contourcarpet"
           }
          ],
          "heatmap": [
           {
            "colorbar": {
             "outlinewidth": 0,
             "ticks": ""
            },
            "colorscale": [
             [
              0,
              "#0d0887"
             ],
             [
              0.1111111111111111,
              "#46039f"
             ],
             [
              0.2222222222222222,
              "#7201a8"
             ],
             [
              0.3333333333333333,
              "#9c179e"
             ],
             [
              0.4444444444444444,
              "#bd3786"
             ],
             [
              0.5555555555555556,
              "#d8576b"
             ],
             [
              0.6666666666666666,
              "#ed7953"
             ],
             [
              0.7777777777777778,
              "#fb9f3a"
             ],
             [
              0.8888888888888888,
              "#fdca26"
             ],
             [
              1,
              "#f0f921"
             ]
            ],
            "type": "heatmap"
           }
          ],
          "heatmapgl": [
           {
            "colorbar": {
             "outlinewidth": 0,
             "ticks": ""
            },
            "colorscale": [
             [
              0,
              "#0d0887"
             ],
             [
              0.1111111111111111,
              "#46039f"
             ],
             [
              0.2222222222222222,
              "#7201a8"
             ],
             [
              0.3333333333333333,
              "#9c179e"
             ],
             [
              0.4444444444444444,
              "#bd3786"
             ],
             [
              0.5555555555555556,
              "#d8576b"
             ],
             [
              0.6666666666666666,
              "#ed7953"
             ],
             [
              0.7777777777777778,
              "#fb9f3a"
             ],
             [
              0.8888888888888888,
              "#fdca26"
             ],
             [
              1,
              "#f0f921"
             ]
            ],
            "type": "heatmapgl"
           }
          ],
          "histogram": [
           {
            "marker": {
             "pattern": {
              "fillmode": "overlay",
              "size": 10,
              "solidity": 0.2
             }
            },
            "type": "histogram"
           }
          ],
          "histogram2d": [
           {
            "colorbar": {
             "outlinewidth": 0,
             "ticks": ""
            },
            "colorscale": [
             [
              0,
              "#0d0887"
             ],
             [
              0.1111111111111111,
              "#46039f"
             ],
             [
              0.2222222222222222,
              "#7201a8"
             ],
             [
              0.3333333333333333,
              "#9c179e"
             ],
             [
              0.4444444444444444,
              "#bd3786"
             ],
             [
              0.5555555555555556,
              "#d8576b"
             ],
             [
              0.6666666666666666,
              "#ed7953"
             ],
             [
              0.7777777777777778,
              "#fb9f3a"
             ],
             [
              0.8888888888888888,
              "#fdca26"
             ],
             [
              1,
              "#f0f921"
             ]
            ],
            "type": "histogram2d"
           }
          ],
          "histogram2dcontour": [
           {
            "colorbar": {
             "outlinewidth": 0,
             "ticks": ""
            },
            "colorscale": [
             [
              0,
              "#0d0887"
             ],
             [
              0.1111111111111111,
              "#46039f"
             ],
             [
              0.2222222222222222,
              "#7201a8"
             ],
             [
              0.3333333333333333,
              "#9c179e"
             ],
             [
              0.4444444444444444,
              "#bd3786"
             ],
             [
              0.5555555555555556,
              "#d8576b"
             ],
             [
              0.6666666666666666,
              "#ed7953"
             ],
             [
              0.7777777777777778,
              "#fb9f3a"
             ],
             [
              0.8888888888888888,
              "#fdca26"
             ],
             [
              1,
              "#f0f921"
             ]
            ],
            "type": "histogram2dcontour"
           }
          ],
          "mesh3d": [
           {
            "colorbar": {
             "outlinewidth": 0,
             "ticks": ""
            },
            "type": "mesh3d"
           }
          ],
          "parcoords": [
           {
            "line": {
             "colorbar": {
              "outlinewidth": 0,
              "ticks": ""
             }
            },
            "type": "parcoords"
           }
          ],
          "pie": [
           {
            "automargin": true,
            "type": "pie"
           }
          ],
          "scatter": [
           {
            "fillpattern": {
             "fillmode": "overlay",
             "size": 10,
             "solidity": 0.2
            },
            "type": "scatter"
           }
          ],
          "scatter3d": [
           {
            "line": {
             "colorbar": {
              "outlinewidth": 0,
              "ticks": ""
             }
            },
            "marker": {
             "colorbar": {
              "outlinewidth": 0,
              "ticks": ""
             }
            },
            "type": "scatter3d"
           }
          ],
          "scattercarpet": [
           {
            "marker": {
             "colorbar": {
              "outlinewidth": 0,
              "ticks": ""
             }
            },
            "type": "scattercarpet"
           }
          ],
          "scattergeo": [
           {
            "marker": {
             "colorbar": {
              "outlinewidth": 0,
              "ticks": ""
             }
            },
            "type": "scattergeo"
           }
          ],
          "scattergl": [
           {
            "marker": {
             "colorbar": {
              "outlinewidth": 0,
              "ticks": ""
             }
            },
            "type": "scattergl"
           }
          ],
          "scattermapbox": [
           {
            "marker": {
             "colorbar": {
              "outlinewidth": 0,
              "ticks": ""
             }
            },
            "type": "scattermapbox"
           }
          ],
          "scatterpolar": [
           {
            "marker": {
             "colorbar": {
              "outlinewidth": 0,
              "ticks": ""
             }
            },
            "type": "scatterpolar"
           }
          ],
          "scatterpolargl": [
           {
            "marker": {
             "colorbar": {
              "outlinewidth": 0,
              "ticks": ""
             }
            },
            "type": "scatterpolargl"
           }
          ],
          "scatterternary": [
           {
            "marker": {
             "colorbar": {
              "outlinewidth": 0,
              "ticks": ""
             }
            },
            "type": "scatterternary"
           }
          ],
          "surface": [
           {
            "colorbar": {
             "outlinewidth": 0,
             "ticks": ""
            },
            "colorscale": [
             [
              0,
              "#0d0887"
             ],
             [
              0.1111111111111111,
              "#46039f"
             ],
             [
              0.2222222222222222,
              "#7201a8"
             ],
             [
              0.3333333333333333,
              "#9c179e"
             ],
             [
              0.4444444444444444,
              "#bd3786"
             ],
             [
              0.5555555555555556,
              "#d8576b"
             ],
             [
              0.6666666666666666,
              "#ed7953"
             ],
             [
              0.7777777777777778,
              "#fb9f3a"
             ],
             [
              0.8888888888888888,
              "#fdca26"
             ],
             [
              1,
              "#f0f921"
             ]
            ],
            "type": "surface"
           }
          ],
          "table": [
           {
            "cells": {
             "fill": {
              "color": "#EBF0F8"
             },
             "line": {
              "color": "white"
             }
            },
            "header": {
             "fill": {
              "color": "#C8D4E3"
             },
             "line": {
              "color": "white"
             }
            },
            "type": "table"
           }
          ]
         },
         "layout": {
          "annotationdefaults": {
           "arrowcolor": "#2a3f5f",
           "arrowhead": 0,
           "arrowwidth": 1
          },
          "autotypenumbers": "strict",
          "coloraxis": {
           "colorbar": {
            "outlinewidth": 0,
            "ticks": ""
           }
          },
          "colorscale": {
           "diverging": [
            [
             0,
             "#8e0152"
            ],
            [
             0.1,
             "#c51b7d"
            ],
            [
             0.2,
             "#de77ae"
            ],
            [
             0.3,
             "#f1b6da"
            ],
            [
             0.4,
             "#fde0ef"
            ],
            [
             0.5,
             "#f7f7f7"
            ],
            [
             0.6,
             "#e6f5d0"
            ],
            [
             0.7,
             "#b8e186"
            ],
            [
             0.8,
             "#7fbc41"
            ],
            [
             0.9,
             "#4d9221"
            ],
            [
             1,
             "#276419"
            ]
           ],
           "sequential": [
            [
             0,
             "#0d0887"
            ],
            [
             0.1111111111111111,
             "#46039f"
            ],
            [
             0.2222222222222222,
             "#7201a8"
            ],
            [
             0.3333333333333333,
             "#9c179e"
            ],
            [
             0.4444444444444444,
             "#bd3786"
            ],
            [
             0.5555555555555556,
             "#d8576b"
            ],
            [
             0.6666666666666666,
             "#ed7953"
            ],
            [
             0.7777777777777778,
             "#fb9f3a"
            ],
            [
             0.8888888888888888,
             "#fdca26"
            ],
            [
             1,
             "#f0f921"
            ]
           ],
           "sequentialminus": [
            [
             0,
             "#0d0887"
            ],
            [
             0.1111111111111111,
             "#46039f"
            ],
            [
             0.2222222222222222,
             "#7201a8"
            ],
            [
             0.3333333333333333,
             "#9c179e"
            ],
            [
             0.4444444444444444,
             "#bd3786"
            ],
            [
             0.5555555555555556,
             "#d8576b"
            ],
            [
             0.6666666666666666,
             "#ed7953"
            ],
            [
             0.7777777777777778,
             "#fb9f3a"
            ],
            [
             0.8888888888888888,
             "#fdca26"
            ],
            [
             1,
             "#f0f921"
            ]
           ]
          },
          "colorway": [
           "#636efa",
           "#EF553B",
           "#00cc96",
           "#ab63fa",
           "#FFA15A",
           "#19d3f3",
           "#FF6692",
           "#B6E880",
           "#FF97FF",
           "#FECB52"
          ],
          "font": {
           "color": "#2a3f5f"
          },
          "geo": {
           "bgcolor": "white",
           "lakecolor": "white",
           "landcolor": "#E5ECF6",
           "showlakes": true,
           "showland": true,
           "subunitcolor": "white"
          },
          "hoverlabel": {
           "align": "left"
          },
          "hovermode": "closest",
          "mapbox": {
           "style": "light"
          },
          "paper_bgcolor": "white",
          "plot_bgcolor": "#E5ECF6",
          "polar": {
           "angularaxis": {
            "gridcolor": "white",
            "linecolor": "white",
            "ticks": ""
           },
           "bgcolor": "#E5ECF6",
           "radialaxis": {
            "gridcolor": "white",
            "linecolor": "white",
            "ticks": ""
           }
          },
          "scene": {
           "xaxis": {
            "backgroundcolor": "#E5ECF6",
            "gridcolor": "white",
            "gridwidth": 2,
            "linecolor": "white",
            "showbackground": true,
            "ticks": "",
            "zerolinecolor": "white"
           },
           "yaxis": {
            "backgroundcolor": "#E5ECF6",
            "gridcolor": "white",
            "gridwidth": 2,
            "linecolor": "white",
            "showbackground": true,
            "ticks": "",
            "zerolinecolor": "white"
           },
           "zaxis": {
            "backgroundcolor": "#E5ECF6",
            "gridcolor": "white",
            "gridwidth": 2,
            "linecolor": "white",
            "showbackground": true,
            "ticks": "",
            "zerolinecolor": "white"
           }
          },
          "shapedefaults": {
           "line": {
            "color": "#2a3f5f"
           }
          },
          "ternary": {
           "aaxis": {
            "gridcolor": "white",
            "linecolor": "white",
            "ticks": ""
           },
           "baxis": {
            "gridcolor": "white",
            "linecolor": "white",
            "ticks": ""
           },
           "bgcolor": "#E5ECF6",
           "caxis": {
            "gridcolor": "white",
            "linecolor": "white",
            "ticks": ""
           }
          },
          "title": {
           "x": 0.05
          },
          "xaxis": {
           "automargin": true,
           "gridcolor": "white",
           "linecolor": "white",
           "ticks": "",
           "title": {
            "standoff": 15
           },
           "zerolinecolor": "white",
           "zerolinewidth": 2
          },
          "yaxis": {
           "automargin": true,
           "gridcolor": "white",
           "linecolor": "white",
           "ticks": "",
           "title": {
            "standoff": 15
           },
           "zerolinecolor": "white",
           "zerolinewidth": 2
          }
         }
        },
        "title": {
         "text": "Best 30 CAM"
        },
        "updatemenus": [
         {
          "buttons": [
           {
            "args": [
             {
              "visible": [
               true,
               false,
               false,
               false,
               false,
               false,
               false,
               false,
               false,
               false,
               false,
               false,
               false,
               false,
               false
              ]
             }
            ],
            "label": "Jude Bellingham",
            "method": "update"
           },
           {
            "args": [
             {
              "visible": [
               false,
               true,
               false,
               false,
               false,
               false,
               false,
               false,
               false,
               false,
               false,
               false,
               false,
               false,
               false
              ]
             }
            ],
            "label": "Florian Wirtz",
            "method": "update"
           },
           {
            "args": [
             {
              "visible": [
               false,
               false,
               true,
               false,
               false,
               false,
               false,
               false,
               false,
               false,
               false,
               false,
               false,
               false,
               false
              ]
             }
            ],
            "label": "Debinha",
            "method": "update"
           },
           {
            "args": [
             {
              "visible": [
               false,
               false,
               false,
               true,
               false,
               false,
               false,
               false,
               false,
               false,
               false,
               false,
               false,
               false,
               false
              ]
             }
            ],
            "label": "Bruno Fernandes",
            "method": "update"
           },
           {
            "args": [
             {
              "visible": [
               false,
               false,
               false,
               false,
               true,
               false,
               false,
               false,
               false,
               false,
               false,
               false,
               false,
               false,
               false
              ]
             }
            ],
            "label": "Rose Lavelle",
            "method": "update"
           },
           {
            "args": [
             {
              "visible": [
               false,
               false,
               false,
               false,
               false,
               true,
               false,
               false,
               false,
               false,
               false,
               false,
               false,
               false,
               false
              ]
             }
            ],
            "label": "Jamal Musiala",
            "method": "update"
           },
           {
            "args": [
             {
              "visible": [
               false,
               false,
               false,
               false,
               false,
               false,
               true,
               false,
               false,
               false,
               false,
               false,
               false,
               false,
               false
              ]
             }
            ],
            "label": "Paulo Dybala",
            "method": "update"
           },
           {
            "args": [
             {
              "visible": [
               false,
               false,
               false,
               false,
               false,
               false,
               false,
               true,
               false,
               false,
               false,
               false,
               false,
               false,
               false
              ]
             }
            ],
            "label": "Jill Roord",
            "method": "update"
           },
           {
            "args": [
             {
              "visible": [
               false,
               false,
               false,
               false,
               false,
               false,
               false,
               false,
               true,
               false,
               false,
               false,
               false,
               false,
               false
              ]
             }
            ],
            "label": "Julian Brandt",
            "method": "update"
           },
           {
            "args": [
             {
              "visible": [
               false,
               false,
               false,
               false,
               false,
               false,
               false,
               false,
               false,
               true,
               false,
               false,
               false,
               false,
               false
              ]
             }
            ],
            "label": "James Maddison",
            "method": "update"
           },
           {
            "args": [
             {
              "visible": [
               false,
               false,
               false,
               false,
               false,
               false,
               false,
               false,
               false,
               false,
               true,
               false,
               false,
               false,
               false
              ]
             }
            ],
            "label": "Pernille Harder",
            "method": "update"
           },
           {
            "args": [
             {
              "visible": [
               false,
               false,
               false,
               false,
               false,
               false,
               false,
               false,
               false,
               false,
               false,
               true,
               false,
               false,
               false
              ]
             }
            ],
            "label": "Fran Kirby",
            "method": "update"
           },
           {
            "args": [
             {
              "visible": [
               false,
               false,
               false,
               false,
               false,
               false,
               false,
               false,
               false,
               false,
               false,
               false,
               true,
               false,
               false
              ]
             }
            ],
            "label": "Ella Toone",
            "method": "update"
           },
           {
            "args": [
             {
              "visible": [
               false,
               false,
               false,
               false,
               false,
               false,
               false,
               false,
               false,
               false,
               false,
               false,
               false,
               true,
               false
              ]
             }
            ],
            "label": "Marta",
            "method": "update"
           },
           {
            "args": [
             {
              "visible": [
               false,
               false,
               false,
               false,
               false,
               false,
               false,
               false,
               false,
               false,
               false,
               false,
               false,
               false,
               true
              ]
             }
            ],
            "label": "Caroline Weir",
            "method": "update"
           }
          ],
          "direction": "down",
          "showactive": true
         }
        ],
        "xaxis": {
         "title": {
          "text": "Attributes"
         }
        },
        "yaxis": {
         "title": {
          "text": "Value"
         }
        }
       }
      }
     },
     "metadata": {},
     "output_type": "display_data"
    }
   ],
   "source": [
    "cam_stats = [\"Vision\",\"Short Passing\",\"Dribbling\",\"Ball Control\",\"Finishing\",\"Positioning\",\"Agility\",\"Composure\",\"Stamina\"]\n",
    "\n",
    "fig = go.Figure()\n",
    "\n",
    "for player in cam_data['Name']:\n",
    "    player_data = cam_data[cam_data['Name'] == player][cam_stats].values.flatten()\n",
    "    fig.add_trace(\n",
    "        go.Bar(\n",
    "            x=cam_stats,\n",
    "            y=player_data,\n",
    "            name=player,\n",
    "            visible=False\n",
    "        )\n",
    "    )\n",
    "\n",
    "fig.data[0].visible = True\n",
    "\n",
    "\n",
    "fig.update_layout(\n",
    "    updatemenus=[\n",
    "        dict(\n",
    "            buttons=[\n",
    "                dict(\n",
    "                    args=[{\"visible\": [i == j for i in range(len(cam_data['Name']))]}],  \n",
    "                    label=player,\n",
    "                    method='update'\n",
    "                )\n",
    "                for j, player in enumerate(cam_data['Name'])  \n",
    "            ],\n",
    "            direction='down',\n",
    "            showactive=True,\n",
    "        )\n",
    "    ]\n",
    ")\n",
    "\n",
    "fig.update_layout(\n",
    "    title='Best 30 CAM',\n",
    "    xaxis_title='Attributes',\n",
    "    yaxis_title='Value',\n",
    "    showlegend=False\n",
    ")\n",
    "\n",
    "fig.show()"
   ]
  },
  {
   "cell_type": "code",
   "execution_count": 13,
   "metadata": {},
   "outputs": [
    {
     "name": "stdout",
     "output_type": "stream",
     "text": [
      "Name: Kevin De Bruyne, index: 1, Stat:Vision, value:95\n",
      "Name: Kevin De Bruyne, index: 1, Stat:Short Passing, value:94\n",
      "Name: Bernardo Silva, index: 4, Stat:Dribbling, value:93\n",
      "Name: Kevin De Bruyne, index: 1, Stat:Ball Control, value:92\n",
      "Name: Aitana Bonmatí, index: 0, Stat:Finishing, value:91\n",
      "Name: Aitana Bonmatí, index: 0, Stat:Positioning, value:91\n",
      "Name: Bernardo Silva, index: 4, Stat:Agility, value:95\n",
      "Name: Alexia Putellas, index: 2, Stat:Composure, value:92\n",
      "Name: Bernardo Silva, index: 4, Stat:Stamina, value:93\n"
     ]
    }
   ],
   "source": [
    "for stat in cam_stats:\n",
    "    cam_data[stat] = pd.to_numeric(cam_data[stat], errors='coerce')\n",
    "    print(f'Name: {cm_data.Name[cm_data[stat].idxmax()]}, index: {cm_data[stat].idxmax()}, Stat:{stat}, value:{cm_data[stat].iloc[cm_data[stat].idxmax()]}')"
   ]
  },
  {
   "cell_type": "code",
   "execution_count": 14,
   "metadata": {},
   "outputs": [
    {
     "data": {
      "image/png": "[encoded data removed]",
      "text/plain": [
       "<Figure size 1200x1000 with 1 Axes>"
      ]
     },
     "metadata": {},
     "output_type": "display_data"
    }
   ],
   "source": [
    "cam_best = cam_data.loc[cam_data[cam_stats].idxmax()]\n",
    "\n",
    "plt.figure(figsize=(12,10))\n",
    "parallel_coordinates(cam_best, class_column='Name', cols=cam_stats)\n",
    "plt.legend(loc = 'center left', bbox_to_anchor=(1,0.5))\n",
    "plt.show()"
   ]
  },
  {
   "cell_type": "markdown",
   "metadata": {},
   "source": [
    "1)Jude Bellingham\n",
    "2) Bruno Fernandex/Jamal Musiala"
   ]
  },
  {
   "cell_type": "markdown",
   "metadata": {},
   "source": []
  }
 ],
 "metadata": {
  "kernelspec": {
   "display_name": "DataScience",
   "language": "python",
   "name": "python3"
  },
  "language_info": {
   "codemirror_mode": {
    "name": "ipython",
    "version": 3
   },
   "file_extension": ".py",
   "mimetype": "text/x-python",
   "name": "python",
   "nbconvert_exporter": "python",
   "pygments_lexer": "ipython3",
   "version": "3.11.9"
  }
 },
 "nbformat": 4,
 "nbformat_minor": 2
}
