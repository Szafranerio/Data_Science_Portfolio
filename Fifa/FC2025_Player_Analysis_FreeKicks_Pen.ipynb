{
 "cells": [
  {
   "cell_type": "code",
   "execution_count": 44,
   "metadata": {},
   "outputs": [],
   "source": [
    "import pandas as pd \n",
    "import numpy as np\n",
    "import seaborn as sns\n",
    "import matplotlib.pyplot as plt\n",
    "import pycountry\n",
    "import plotly.graph_objects as go\n",
    "import plotly.express as px\n",
    "from pandas.plotting import parallel_coordinates"
   ]
  },
  {
   "cell_type": "code",
   "execution_count": 45,
   "metadata": {},
   "outputs": [
    {
     "name": "stderr",
     "output_type": "stream",
     "text": [
      "/var/folders/yk/fs7s5htj44b8ds6qh_c6gb0m0000gn/T/ipykernel_40814/2329133090.py:1: DtypeWarning:\n",
      "\n",
      "Columns (33) have mixed types. Specify dtype option on import or set low_memory=False.\n",
      "\n"
     ]
    },
    {
     "data": {
      "text/html": [
       "<div>\n",
       "<style scoped>\n",
       "    .dataframe tbody tr th:only-of-type {\n",
       "        vertical-align: middle;\n",
       "    }\n",
       "\n",
       "    .dataframe tbody tr th {\n",
       "        vertical-align: top;\n",
       "    }\n",
       "\n",
       "    .dataframe thead th {\n",
       "        text-align: right;\n",
       "    }\n",
       "</style>\n",
       "<table border=\"1\" class=\"dataframe\">\n",
       "  <thead>\n",
       "    <tr style=\"text-align: right;\">\n",
       "      <th></th>\n",
       "      <th>Rank</th>\n",
       "      <th>Name</th>\n",
       "      <th>OVR</th>\n",
       "      <th>PAC</th>\n",
       "      <th>SHO</th>\n",
       "      <th>PAS</th>\n",
       "      <th>DRI</th>\n",
       "      <th>DEF</th>\n",
       "      <th>PHY</th>\n",
       "      <th>Acceleration</th>\n",
       "      <th>...</th>\n",
       "      <th>Preferred foot</th>\n",
       "      <th>Age</th>\n",
       "      <th>Nation</th>\n",
       "      <th>League</th>\n",
       "      <th>Team</th>\n",
       "      <th>GK Diving</th>\n",
       "      <th>GK Handling</th>\n",
       "      <th>GK Kicking</th>\n",
       "      <th>GK Positioning</th>\n",
       "      <th>GK Reflexes</th>\n",
       "    </tr>\n",
       "  </thead>\n",
       "  <tbody>\n",
       "    <tr>\n",
       "      <th>0</th>\n",
       "      <td>1</td>\n",
       "      <td>Kylian Mbappé</td>\n",
       "      <td>91</td>\n",
       "      <td>97</td>\n",
       "      <td>90</td>\n",
       "      <td>80</td>\n",
       "      <td>92</td>\n",
       "      <td>36</td>\n",
       "      <td>78</td>\n",
       "      <td>97</td>\n",
       "      <td>...</td>\n",
       "      <td>Right</td>\n",
       "      <td>25</td>\n",
       "      <td>France</td>\n",
       "      <td>LALIGA EA SPORTS</td>\n",
       "      <td>Real Madrid</td>\n",
       "      <td>NaN</td>\n",
       "      <td>NaN</td>\n",
       "      <td>NaN</td>\n",
       "      <td>NaN</td>\n",
       "      <td>NaN</td>\n",
       "    </tr>\n",
       "    <tr>\n",
       "      <th>1</th>\n",
       "      <td>2</td>\n",
       "      <td>Rodri</td>\n",
       "      <td>91</td>\n",
       "      <td>66</td>\n",
       "      <td>80</td>\n",
       "      <td>86</td>\n",
       "      <td>84</td>\n",
       "      <td>87</td>\n",
       "      <td>85</td>\n",
       "      <td>65</td>\n",
       "      <td>...</td>\n",
       "      <td>Right</td>\n",
       "      <td>28</td>\n",
       "      <td>Spain</td>\n",
       "      <td>Premier League</td>\n",
       "      <td>Manchester City</td>\n",
       "      <td>NaN</td>\n",
       "      <td>NaN</td>\n",
       "      <td>NaN</td>\n",
       "      <td>NaN</td>\n",
       "      <td>NaN</td>\n",
       "    </tr>\n",
       "    <tr>\n",
       "      <th>2</th>\n",
       "      <td>4</td>\n",
       "      <td>Erling Haaland</td>\n",
       "      <td>91</td>\n",
       "      <td>88</td>\n",
       "      <td>92</td>\n",
       "      <td>70</td>\n",
       "      <td>81</td>\n",
       "      <td>45</td>\n",
       "      <td>88</td>\n",
       "      <td>80</td>\n",
       "      <td>...</td>\n",
       "      <td>Left</td>\n",
       "      <td>24</td>\n",
       "      <td>Norway</td>\n",
       "      <td>Premier League</td>\n",
       "      <td>Manchester City</td>\n",
       "      <td>NaN</td>\n",
       "      <td>NaN</td>\n",
       "      <td>NaN</td>\n",
       "      <td>NaN</td>\n",
       "      <td>NaN</td>\n",
       "    </tr>\n",
       "    <tr>\n",
       "      <th>3</th>\n",
       "      <td>5</td>\n",
       "      <td>Jude Bellingham</td>\n",
       "      <td>90</td>\n",
       "      <td>80</td>\n",
       "      <td>87</td>\n",
       "      <td>83</td>\n",
       "      <td>88</td>\n",
       "      <td>78</td>\n",
       "      <td>83</td>\n",
       "      <td>81</td>\n",
       "      <td>...</td>\n",
       "      <td>Right</td>\n",
       "      <td>21</td>\n",
       "      <td>England</td>\n",
       "      <td>LALIGA EA SPORTS</td>\n",
       "      <td>Real Madrid</td>\n",
       "      <td>NaN</td>\n",
       "      <td>NaN</td>\n",
       "      <td>NaN</td>\n",
       "      <td>NaN</td>\n",
       "      <td>NaN</td>\n",
       "    </tr>\n",
       "    <tr>\n",
       "      <th>4</th>\n",
       "      <td>7</td>\n",
       "      <td>Vini Jr.</td>\n",
       "      <td>90</td>\n",
       "      <td>95</td>\n",
       "      <td>84</td>\n",
       "      <td>81</td>\n",
       "      <td>91</td>\n",
       "      <td>29</td>\n",
       "      <td>69</td>\n",
       "      <td>95</td>\n",
       "      <td>...</td>\n",
       "      <td>Right</td>\n",
       "      <td>24</td>\n",
       "      <td>Brazil</td>\n",
       "      <td>LALIGA EA SPORTS</td>\n",
       "      <td>Real Madrid</td>\n",
       "      <td>NaN</td>\n",
       "      <td>NaN</td>\n",
       "      <td>NaN</td>\n",
       "      <td>NaN</td>\n",
       "      <td>NaN</td>\n",
       "    </tr>\n",
       "    <tr>\n",
       "      <th>...</th>\n",
       "      <td>...</td>\n",
       "      <td>...</td>\n",
       "      <td>...</td>\n",
       "      <td>...</td>\n",
       "      <td>...</td>\n",
       "      <td>...</td>\n",
       "      <td>...</td>\n",
       "      <td>...</td>\n",
       "      <td>...</td>\n",
       "      <td>...</td>\n",
       "      <td>...</td>\n",
       "      <td>...</td>\n",
       "      <td>...</td>\n",
       "      <td>...</td>\n",
       "      <td>...</td>\n",
       "      <td>...</td>\n",
       "      <td>...</td>\n",
       "      <td>...</td>\n",
       "      <td>...</td>\n",
       "      <td>...</td>\n",
       "      <td>...</td>\n",
       "    </tr>\n",
       "    <tr>\n",
       "      <th>17732</th>\n",
       "      <td>17146</td>\n",
       "      <td>Araya Dennis</td>\n",
       "      <td>53</td>\n",
       "      <td>42</td>\n",
       "      <td>57</td>\n",
       "      <td>49</td>\n",
       "      <td>52</td>\n",
       "      <td>25</td>\n",
       "      <td>42</td>\n",
       "      <td>44</td>\n",
       "      <td>...</td>\n",
       "      <td>Right</td>\n",
       "      <td>18</td>\n",
       "      <td>England</td>\n",
       "      <td>Barclays WSL</td>\n",
       "      <td>Spurs</td>\n",
       "      <td>NaN</td>\n",
       "      <td>NaN</td>\n",
       "      <td>NaN</td>\n",
       "      <td>NaN</td>\n",
       "      <td>NaN</td>\n",
       "    </tr>\n",
       "    <tr>\n",
       "      <th>17733</th>\n",
       "      <td>17146</td>\n",
       "      <td>Alexia Férnandez</td>\n",
       "      <td>53</td>\n",
       "      <td>53</td>\n",
       "      <td>55</td>\n",
       "      <td>51</td>\n",
       "      <td>53</td>\n",
       "      <td>34</td>\n",
       "      <td>47</td>\n",
       "      <td>52</td>\n",
       "      <td>...</td>\n",
       "      <td>Right</td>\n",
       "      <td>22</td>\n",
       "      <td>Spain</td>\n",
       "      <td>Liga F</td>\n",
       "      <td>Granada CF</td>\n",
       "      <td>NaN</td>\n",
       "      <td>NaN</td>\n",
       "      <td>NaN</td>\n",
       "      <td>NaN</td>\n",
       "      <td>NaN</td>\n",
       "    </tr>\n",
       "    <tr>\n",
       "      <th>17734</th>\n",
       "      <td>17146</td>\n",
       "      <td>Aleigh Gambone</td>\n",
       "      <td>53</td>\n",
       "      <td>60</td>\n",
       "      <td>58</td>\n",
       "      <td>53</td>\n",
       "      <td>56</td>\n",
       "      <td>49</td>\n",
       "      <td>53</td>\n",
       "      <td>58</td>\n",
       "      <td>...</td>\n",
       "      <td>Right</td>\n",
       "      <td>23</td>\n",
       "      <td>United States</td>\n",
       "      <td>Scottish Women's League</td>\n",
       "      <td>Glasgow City FC</td>\n",
       "      <td>NaN</td>\n",
       "      <td>NaN</td>\n",
       "      <td>NaN</td>\n",
       "      <td>NaN</td>\n",
       "      <td>NaN</td>\n",
       "    </tr>\n",
       "    <tr>\n",
       "      <th>17735</th>\n",
       "      <td>17146</td>\n",
       "      <td>Joy Lysser</td>\n",
       "      <td>53</td>\n",
       "      <td>61</td>\n",
       "      <td>52</td>\n",
       "      <td>48</td>\n",
       "      <td>56</td>\n",
       "      <td>53</td>\n",
       "      <td>58</td>\n",
       "      <td>60</td>\n",
       "      <td>...</td>\n",
       "      <td>Left</td>\n",
       "      <td>20</td>\n",
       "      <td>Switzerland</td>\n",
       "      <td>Schweizer Damen Liga</td>\n",
       "      <td>FC Zürich</td>\n",
       "      <td>NaN</td>\n",
       "      <td>NaN</td>\n",
       "      <td>NaN</td>\n",
       "      <td>NaN</td>\n",
       "      <td>NaN</td>\n",
       "    </tr>\n",
       "    <tr>\n",
       "      <th>17736</th>\n",
       "      <td>17146</td>\n",
       "      <td>Kateřina Vithová</td>\n",
       "      <td>53</td>\n",
       "      <td>60</td>\n",
       "      <td>49</td>\n",
       "      <td>53</td>\n",
       "      <td>54</td>\n",
       "      <td>27</td>\n",
       "      <td>55</td>\n",
       "      <td>59</td>\n",
       "      <td>...</td>\n",
       "      <td>Left</td>\n",
       "      <td>18</td>\n",
       "      <td>Czech Republic</td>\n",
       "      <td>Ceska Liga Žen</td>\n",
       "      <td>Slavia Praha</td>\n",
       "      <td>NaN</td>\n",
       "      <td>NaN</td>\n",
       "      <td>NaN</td>\n",
       "      <td>NaN</td>\n",
       "      <td>NaN</td>\n",
       "    </tr>\n",
       "  </tbody>\n",
       "</table>\n",
       "<p>17737 rows × 51 columns</p>\n",
       "</div>"
      ],
      "text/plain": [
       "        Rank              Name  OVR  PAC  SHO  PAS  DRI  DEF  PHY  \\\n",
       "0          1     Kylian Mbappé   91   97   90   80   92   36   78   \n",
       "1          2             Rodri   91   66   80   86   84   87   85   \n",
       "2          4    Erling Haaland   91   88   92   70   81   45   88   \n",
       "3          5   Jude Bellingham   90   80   87   83   88   78   83   \n",
       "4          7          Vini Jr.   90   95   84   81   91   29   69   \n",
       "...      ...               ...  ...  ...  ...  ...  ...  ...  ...   \n",
       "17732  17146      Araya Dennis   53   42   57   49   52   25   42   \n",
       "17733  17146  Alexia Férnandez   53   53   55   51   53   34   47   \n",
       "17734  17146    Aleigh Gambone   53   60   58   53   56   49   53   \n",
       "17735  17146        Joy Lysser   53   61   52   48   56   53   58   \n",
       "17736  17146  Kateřina Vithová   53   60   49   53   54   27   55   \n",
       "\n",
       "       Acceleration  ...  Preferred foot Age          Nation  \\\n",
       "0                97  ...           Right  25          France   \n",
       "1                65  ...           Right  28           Spain   \n",
       "2                80  ...            Left  24          Norway   \n",
       "3                81  ...           Right  21         England   \n",
       "4                95  ...           Right  24          Brazil   \n",
       "...             ...  ...             ...  ..             ...   \n",
       "17732            44  ...           Right  18         England   \n",
       "17733            52  ...           Right  22           Spain   \n",
       "17734            58  ...           Right  23   United States   \n",
       "17735            60  ...            Left  20     Switzerland   \n",
       "17736            59  ...            Left  18  Czech Republic   \n",
       "\n",
       "                        League             Team GK Diving  GK Handling  \\\n",
       "0             LALIGA EA SPORTS      Real Madrid       NaN          NaN   \n",
       "1               Premier League  Manchester City       NaN          NaN   \n",
       "2               Premier League  Manchester City       NaN          NaN   \n",
       "3             LALIGA EA SPORTS      Real Madrid       NaN          NaN   \n",
       "4             LALIGA EA SPORTS      Real Madrid       NaN          NaN   \n",
       "...                        ...              ...       ...          ...   \n",
       "17732             Barclays WSL            Spurs       NaN          NaN   \n",
       "17733                   Liga F       Granada CF       NaN          NaN   \n",
       "17734  Scottish Women's League  Glasgow City FC       NaN          NaN   \n",
       "17735     Schweizer Damen Liga        FC Zürich       NaN          NaN   \n",
       "17736           Ceska Liga Žen     Slavia Praha       NaN          NaN   \n",
       "\n",
       "       GK Kicking GK Positioning GK Reflexes  \n",
       "0             NaN            NaN         NaN  \n",
       "1             NaN            NaN         NaN  \n",
       "2             NaN            NaN         NaN  \n",
       "3             NaN            NaN         NaN  \n",
       "4             NaN            NaN         NaN  \n",
       "...           ...            ...         ...  \n",
       "17732         NaN            NaN         NaN  \n",
       "17733         NaN            NaN         NaN  \n",
       "17734         NaN            NaN         NaN  \n",
       "17735         NaN            NaN         NaN  \n",
       "17736         NaN            NaN         NaN  \n",
       "\n",
       "[17737 rows x 51 columns]"
      ]
     },
     "execution_count": 45,
     "metadata": {},
     "output_type": "execute_result"
    }
   ],
   "source": [
    "all_data = pd.read_csv('./data/fifa/all_players.csv')\n",
    "all_data.drop(['Unnamed: 0', 'Height', 'Weight', 'Alternative positions', 'play style', 'url'], axis = 1, inplace= True)\n",
    "\n",
    "all_data"
   ]
  },
  {
   "cell_type": "markdown",
   "metadata": {},
   "source": [
    "Free kicks"
   ]
  },
  {
   "cell_type": "code",
   "execution_count": 52,
   "metadata": {},
   "outputs": [
    {
     "data": {
      "text/html": [
       "<div>\n",
       "<style scoped>\n",
       "    .dataframe tbody tr th:only-of-type {\n",
       "        vertical-align: middle;\n",
       "    }\n",
       "\n",
       "    .dataframe tbody tr th {\n",
       "        vertical-align: top;\n",
       "    }\n",
       "\n",
       "    .dataframe thead th {\n",
       "        text-align: right;\n",
       "    }\n",
       "</style>\n",
       "<table border=\"1\" class=\"dataframe\">\n",
       "  <thead>\n",
       "    <tr style=\"text-align: right;\">\n",
       "      <th></th>\n",
       "      <th>Rank</th>\n",
       "      <th>Name</th>\n",
       "      <th>OVR</th>\n",
       "      <th>PAC</th>\n",
       "      <th>SHO</th>\n",
       "      <th>PAS</th>\n",
       "      <th>DRI</th>\n",
       "      <th>DEF</th>\n",
       "      <th>PHY</th>\n",
       "      <th>Acceleration</th>\n",
       "      <th>...</th>\n",
       "      <th>Preferred foot</th>\n",
       "      <th>Age</th>\n",
       "      <th>Nation</th>\n",
       "      <th>League</th>\n",
       "      <th>Team</th>\n",
       "      <th>GK Diving</th>\n",
       "      <th>GK Handling</th>\n",
       "      <th>GK Kicking</th>\n",
       "      <th>GK Positioning</th>\n",
       "      <th>GK Reflexes</th>\n",
       "    </tr>\n",
       "  </thead>\n",
       "  <tbody>\n",
       "    <tr>\n",
       "      <th>10</th>\n",
       "      <td>970</td>\n",
       "      <td>Jan-Niklas Beste</td>\n",
       "      <td>78</td>\n",
       "      <td>78</td>\n",
       "      <td>72</td>\n",
       "      <td>79</td>\n",
       "      <td>76</td>\n",
       "      <td>60</td>\n",
       "      <td>64</td>\n",
       "      <td>80</td>\n",
       "      <td>...</td>\n",
       "      <td>Left</td>\n",
       "      <td>25</td>\n",
       "      <td>Germany</td>\n",
       "      <td>Liga Portugal</td>\n",
       "      <td>SL Benfica</td>\n",
       "      <td>NaN</td>\n",
       "      <td>NaN</td>\n",
       "      <td>NaN</td>\n",
       "      <td>NaN</td>\n",
       "      <td>NaN</td>\n",
       "    </tr>\n",
       "    <tr>\n",
       "      <th>11</th>\n",
       "      <td>19</td>\n",
       "      <td>Mapi León</td>\n",
       "      <td>89</td>\n",
       "      <td>75</td>\n",
       "      <td>73</td>\n",
       "      <td>83</td>\n",
       "      <td>76</td>\n",
       "      <td>90</td>\n",
       "      <td>82</td>\n",
       "      <td>73</td>\n",
       "      <td>...</td>\n",
       "      <td>Left</td>\n",
       "      <td>29</td>\n",
       "      <td>Spain</td>\n",
       "      <td>Liga F</td>\n",
       "      <td>FC Barcelona</td>\n",
       "      <td>NaN</td>\n",
       "      <td>NaN</td>\n",
       "      <td>NaN</td>\n",
       "      <td>NaN</td>\n",
       "      <td>NaN</td>\n",
       "    </tr>\n",
       "    <tr>\n",
       "      <th>12</th>\n",
       "      <td>222</td>\n",
       "      <td>Ángel Di María</td>\n",
       "      <td>83</td>\n",
       "      <td>76</td>\n",
       "      <td>80</td>\n",
       "      <td>85</td>\n",
       "      <td>88</td>\n",
       "      <td>48</td>\n",
       "      <td>66</td>\n",
       "      <td>78</td>\n",
       "      <td>...</td>\n",
       "      <td>Left</td>\n",
       "      <td>36</td>\n",
       "      <td>Argentina</td>\n",
       "      <td>Liga Portugal</td>\n",
       "      <td>SL Benfica</td>\n",
       "      <td>NaN</td>\n",
       "      <td>NaN</td>\n",
       "      <td>NaN</td>\n",
       "      <td>NaN</td>\n",
       "      <td>NaN</td>\n",
       "    </tr>\n",
       "    <tr>\n",
       "      <th>13</th>\n",
       "      <td>458</td>\n",
       "      <td>Dominik Szoboszlai</td>\n",
       "      <td>81</td>\n",
       "      <td>82</td>\n",
       "      <td>80</td>\n",
       "      <td>84</td>\n",
       "      <td>80</td>\n",
       "      <td>59</td>\n",
       "      <td>70</td>\n",
       "      <td>76</td>\n",
       "      <td>...</td>\n",
       "      <td>Right</td>\n",
       "      <td>23</td>\n",
       "      <td>Hungary</td>\n",
       "      <td>Premier League</td>\n",
       "      <td>Liverpool</td>\n",
       "      <td>NaN</td>\n",
       "      <td>NaN</td>\n",
       "      <td>NaN</td>\n",
       "      <td>NaN</td>\n",
       "      <td>NaN</td>\n",
       "    </tr>\n",
       "    <tr>\n",
       "      <th>14</th>\n",
       "      <td>222</td>\n",
       "      <td>Sherida Spitse</td>\n",
       "      <td>83</td>\n",
       "      <td>66</td>\n",
       "      <td>76</td>\n",
       "      <td>85</td>\n",
       "      <td>73</td>\n",
       "      <td>79</td>\n",
       "      <td>80</td>\n",
       "      <td>65</td>\n",
       "      <td>...</td>\n",
       "      <td>Right</td>\n",
       "      <td>34</td>\n",
       "      <td>Holland</td>\n",
       "      <td>Nederland Vrouwen Liga</td>\n",
       "      <td>Ajax</td>\n",
       "      <td>NaN</td>\n",
       "      <td>NaN</td>\n",
       "      <td>NaN</td>\n",
       "      <td>NaN</td>\n",
       "      <td>NaN</td>\n",
       "    </tr>\n",
       "  </tbody>\n",
       "</table>\n",
       "<p>5 rows × 51 columns</p>\n",
       "</div>"
      ],
      "text/plain": [
       "    Rank                Name  OVR  PAC  SHO  PAS  DRI  DEF  PHY  Acceleration  \\\n",
       "10   970    Jan-Niklas Beste   78   78   72   79   76   60   64            80   \n",
       "11    19           Mapi León   89   75   73   83   76   90   82            73   \n",
       "12   222      Ángel Di María   83   76   80   85   88   48   66            78   \n",
       "13   458  Dominik Szoboszlai   81   82   80   84   80   59   70            76   \n",
       "14   222      Sherida Spitse   83   66   76   85   73   79   80            65   \n",
       "\n",
       "    ...  Preferred foot Age     Nation                  League          Team  \\\n",
       "10  ...            Left  25    Germany           Liga Portugal    SL Benfica   \n",
       "11  ...            Left  29      Spain                  Liga F  FC Barcelona   \n",
       "12  ...            Left  36  Argentina           Liga Portugal    SL Benfica   \n",
       "13  ...           Right  23    Hungary          Premier League     Liverpool   \n",
       "14  ...           Right  34    Holland  Nederland Vrouwen Liga          Ajax   \n",
       "\n",
       "   GK Diving  GK Handling  GK Kicking GK Positioning GK Reflexes  \n",
       "10       NaN          NaN         NaN            NaN         NaN  \n",
       "11       NaN          NaN         NaN            NaN         NaN  \n",
       "12       NaN          NaN         NaN            NaN         NaN  \n",
       "13       NaN          NaN         NaN            NaN         NaN  \n",
       "14       NaN          NaN         NaN            NaN         NaN  \n",
       "\n",
       "[5 rows x 51 columns]"
      ]
     },
     "execution_count": 52,
     "metadata": {},
     "output_type": "execute_result"
    }
   ],
   "source": [
    "free_kick_stats = ['OVR', 'SHO', 'Shot Power', 'Curve', 'Free Kick Accuracy']\n",
    "shot_data = all_data[all_data.Position != 'GK']\n",
    "shot_data = shot_data.sort_values('Free Kick Accuracy', ascending=False)[:15]\n",
    "shot_data.reset_index(inplace=True)\n",
    "shot_data.drop(columns='index', axis=1, inplace=True)\n",
    "shot_data.tail()\n"
   ]
  },
  {
   "cell_type": "code",
   "execution_count": 53,
   "metadata": {},
   "outputs": [
    {
     "data": {
      "application/vnd.plotly.v1+json": {
       "config": {
        "plotlyServerURL": "https://plot.ly"
       },
       "data": [
        {
         "name": "James Ward-Prowse",
         "type": "bar",
         "visible": true,
         "x": [
          "OVR",
          "SHO",
          "Shot Power",
          "Curve",
          "Free Kick Accuracy"
         ],
         "y": [
          79,
          73,
          81,
          "92",
          "94"
         ]
        },
        {
         "name": "Lionel Messi",
         "type": "bar",
         "visible": false,
         "x": [
          "OVR",
          "SHO",
          "Shot Power",
          "Curve",
          "Free Kick Accuracy"
         ],
         "y": [
          88,
          85,
          83,
          "93",
          "92"
         ]
        },
        {
         "name": "Parejo",
         "type": "bar",
         "visible": false,
         "x": [
          "OVR",
          "SHO",
          "Shot Power",
          "Curve",
          "Free Kick Accuracy"
         ],
         "y": [
          83,
          80,
          80,
          "88",
          "90"
         ]
        },
        {
         "name": "Alexia Putellas",
         "type": "bar",
         "visible": false,
         "x": [
          "OVR",
          "SHO",
          "Shot Power",
          "Curve",
          "Free Kick Accuracy"
         ],
         "y": [
          90,
          89,
          86,
          "89",
          "89"
         ]
        },
        {
         "name": "Grimaldo",
         "type": "bar",
         "visible": false,
         "x": [
          "OVR",
          "SHO",
          "Shot Power",
          "Curve",
          "Free Kick Accuracy"
         ],
         "y": [
          86,
          73,
          84,
          "89",
          "89"
         ]
        },
        {
         "name": "Dušan Vlahović",
         "type": "bar",
         "visible": false,
         "x": [
          "OVR",
          "SHO",
          "Shot Power",
          "Curve",
          "Free Kick Accuracy"
         ],
         "y": [
          84,
          84,
          84,
          "78",
          "89"
         ]
        },
        {
         "name": "Lucas Zelarayán",
         "type": "bar",
         "visible": false,
         "x": [
          "OVR",
          "SHO",
          "Shot Power",
          "Curve",
          "Free Kick Accuracy"
         ],
         "y": [
          80,
          77,
          79,
          "82",
          "88"
         ]
        },
        {
         "name": "Cristiano Biraghi",
         "type": "bar",
         "visible": false,
         "x": [
          "OVR",
          "SHO",
          "Shot Power",
          "Curve",
          "Free Kick Accuracy"
         ],
         "y": [
          79,
          69,
          82,
          "82",
          "88"
         ]
        },
        {
         "name": "Vincenzo Grifo",
         "type": "bar",
         "visible": false,
         "x": [
          "OVR",
          "SHO",
          "Shot Power",
          "Curve",
          "Free Kick Accuracy"
         ],
         "y": [
          80,
          77,
          85,
          "89",
          "88"
         ]
        },
        {
         "name": "Beth Mead",
         "type": "bar",
         "visible": false,
         "x": [
          "OVR",
          "SHO",
          "Shot Power",
          "Curve",
          "Free Kick Accuracy"
         ],
         "y": [
          88,
          84,
          87,
          "81",
          "88"
         ]
        },
        {
         "name": "Jan-Niklas Beste",
         "type": "bar",
         "visible": false,
         "x": [
          "OVR",
          "SHO",
          "Shot Power",
          "Curve",
          "Free Kick Accuracy"
         ],
         "y": [
          78,
          72,
          77,
          "88",
          "88"
         ]
        },
        {
         "name": "Mapi León",
         "type": "bar",
         "visible": false,
         "x": [
          "OVR",
          "SHO",
          "Shot Power",
          "Curve",
          "Free Kick Accuracy"
         ],
         "y": [
          89,
          73,
          89,
          "87",
          "88"
         ]
        },
        {
         "name": "Ángel Di María",
         "type": "bar",
         "visible": false,
         "x": [
          "OVR",
          "SHO",
          "Shot Power",
          "Curve",
          "Free Kick Accuracy"
         ],
         "y": [
          83,
          80,
          82,
          "92",
          "88"
         ]
        },
        {
         "name": "Dominik Szoboszlai",
         "type": "bar",
         "visible": false,
         "x": [
          "OVR",
          "SHO",
          "Shot Power",
          "Curve",
          "Free Kick Accuracy"
         ],
         "y": [
          81,
          80,
          89,
          "90",
          "87"
         ]
        },
        {
         "name": "Sherida Spitse",
         "type": "bar",
         "visible": false,
         "x": [
          "OVR",
          "SHO",
          "Shot Power",
          "Curve",
          "Free Kick Accuracy"
         ],
         "y": [
          83,
          76,
          88,
          "91",
          "87"
         ]
        }
       ],
       "layout": {
        "showlegend": false,
        "template": {
         "data": {
          "bar": [
           {
            "error_x": {
             "color": "#2a3f5f"
            },
            "error_y": {
             "color": "#2a3f5f"
            },
            "marker": {
             "line": {
              "color": "#E5ECF6",
              "width": 0.5
             },
             "pattern": {
              "fillmode": "overlay",
              "size": 10,
              "solidity": 0.2
             }
            },
            "type": "bar"
           }
          ],
          "barpolar": [
           {
            "marker": {
             "line": {
              "color": "#E5ECF6",
              "width": 0.5
             },
             "pattern": {
              "fillmode": "overlay",
              "size": 10,
              "solidity": 0.2
             }
            },
            "type": "barpolar"
           }
          ],
          "carpet": [
           {
            "aaxis": {
             "endlinecolor": "#2a3f5f",
             "gridcolor": "white",
             "linecolor": "white",
             "minorgridcolor": "white",
             "startlinecolor": "#2a3f5f"
            },
            "baxis": {
             "endlinecolor": "#2a3f5f",
             "gridcolor": "white",
             "linecolor": "white",
             "minorgridcolor": "white",
             "startlinecolor": "#2a3f5f"
            },
            "type": "carpet"
           }
          ],
          "choropleth": [
           {
            "colorbar": {
             "outlinewidth": 0,
             "ticks": ""
            },
            "type": "choropleth"
           }
          ],
          "contour": [
           {
            "colorbar": {
             "outlinewidth": 0,
             "ticks": ""
            },
            "colorscale": [
             [
              0,
              "#0d0887"
             ],
             [
              0.1111111111111111,
              "#46039f"
             ],
             [
              0.2222222222222222,
              "#7201a8"
             ],
             [
              0.3333333333333333,
              "#9c179e"
             ],
             [
              0.4444444444444444,
              "#bd3786"
             ],
             [
              0.5555555555555556,
              "#d8576b"
             ],
             [
              0.6666666666666666,
              "#ed7953"
             ],
             [
              0.7777777777777778,
              "#fb9f3a"
             ],
             [
              0.8888888888888888,
              "#fdca26"
             ],
             [
              1,
              "#f0f921"
             ]
            ],
            "type": "contour"
           }
          ],
          "contourcarpet": [
           {
            "colorbar": {
             "outlinewidth": 0,
             "ticks": ""
            },
            "type": "contourcarpet"
           }
          ],
          "heatmap": [
           {
            "colorbar": {
             "outlinewidth": 0,
             "ticks": ""
            },
            "colorscale": [
             [
              0,
              "#0d0887"
             ],
             [
              0.1111111111111111,
              "#46039f"
             ],
             [
              0.2222222222222222,
              "#7201a8"
             ],
             [
              0.3333333333333333,
              "#9c179e"
             ],
             [
              0.4444444444444444,
              "#bd3786"
             ],
             [
              0.5555555555555556,
              "#d8576b"
             ],
             [
              0.6666666666666666,
              "#ed7953"
             ],
             [
              0.7777777777777778,
              "#fb9f3a"
             ],
             [
              0.8888888888888888,
              "#fdca26"
             ],
             [
              1,
              "#f0f921"
             ]
            ],
            "type": "heatmap"
           }
          ],
          "heatmapgl": [
           {
            "colorbar": {
             "outlinewidth": 0,
             "ticks": ""
            },
            "colorscale": [
             [
              0,
              "#0d0887"
             ],
             [
              0.1111111111111111,
              "#46039f"
             ],
             [
              0.2222222222222222,
              "#7201a8"
             ],
             [
              0.3333333333333333,
              "#9c179e"
             ],
             [
              0.4444444444444444,
              "#bd3786"
             ],
             [
              0.5555555555555556,
              "#d8576b"
             ],
             [
              0.6666666666666666,
              "#ed7953"
             ],
             [
              0.7777777777777778,
              "#fb9f3a"
             ],
             [
              0.8888888888888888,
              "#fdca26"
             ],
             [
              1,
              "#f0f921"
             ]
            ],
            "type": "heatmapgl"
           }
          ],
          "histogram": [
           {
            "marker": {
             "pattern": {
              "fillmode": "overlay",
              "size": 10,
              "solidity": 0.2
             }
            },
            "type": "histogram"
           }
          ],
          "histogram2d": [
           {
            "colorbar": {
             "outlinewidth": 0,
             "ticks": ""
            },
            "colorscale": [
             [
              0,
              "#0d0887"
             ],
             [
              0.1111111111111111,
              "#46039f"
             ],
             [
              0.2222222222222222,
              "#7201a8"
             ],
             [
              0.3333333333333333,
              "#9c179e"
             ],
             [
              0.4444444444444444,
              "#bd3786"
             ],
             [
              0.5555555555555556,
              "#d8576b"
             ],
             [
              0.6666666666666666,
              "#ed7953"
             ],
             [
              0.7777777777777778,
              "#fb9f3a"
             ],
             [
              0.8888888888888888,
              "#fdca26"
             ],
             [
              1,
              "#f0f921"
             ]
            ],
            "type": "histogram2d"
           }
          ],
          "histogram2dcontour": [
           {
            "colorbar": {
             "outlinewidth": 0,
             "ticks": ""
            },
            "colorscale": [
             [
              0,
              "#0d0887"
             ],
             [
              0.1111111111111111,
              "#46039f"
             ],
             [
              0.2222222222222222,
              "#7201a8"
             ],
             [
              0.3333333333333333,
              "#9c179e"
             ],
             [
              0.4444444444444444,
              "#bd3786"
             ],
             [
              0.5555555555555556,
              "#d8576b"
             ],
             [
              0.6666666666666666,
              "#ed7953"
             ],
             [
              0.7777777777777778,
              "#fb9f3a"
             ],
             [
              0.8888888888888888,
              "#fdca26"
             ],
             [
              1,
              "#f0f921"
             ]
            ],
            "type": "histogram2dcontour"
           }
          ],
          "mesh3d": [
           {
            "colorbar": {
             "outlinewidth": 0,
             "ticks": ""
            },
            "type": "mesh3d"
           }
          ],
          "parcoords": [
           {
            "line": {
             "colorbar": {
              "outlinewidth": 0,
              "ticks": ""
             }
            },
            "type": "parcoords"
           }
          ],
          "pie": [
           {
            "automargin": true,
            "type": "pie"
           }
          ],
          "scatter": [
           {
            "fillpattern": {
             "fillmode": "overlay",
             "size": 10,
             "solidity": 0.2
            },
            "type": "scatter"
           }
          ],
          "scatter3d": [
           {
            "line": {
             "colorbar": {
              "outlinewidth": 0,
              "ticks": ""
             }
            },
            "marker": {
             "colorbar": {
              "outlinewidth": 0,
              "ticks": ""
             }
            },
            "type": "scatter3d"
           }
          ],
          "scattercarpet": [
           {
            "marker": {
             "colorbar": {
              "outlinewidth": 0,
              "ticks": ""
             }
            },
            "type": "scattercarpet"
           }
          ],
          "scattergeo": [
           {
            "marker": {
             "colorbar": {
              "outlinewidth": 0,
              "ticks": ""
             }
            },
            "type": "scattergeo"
           }
          ],
          "scattergl": [
           {
            "marker": {
             "colorbar": {
              "outlinewidth": 0,
              "ticks": ""
             }
            },
            "type": "scattergl"
           }
          ],
          "scattermapbox": [
           {
            "marker": {
             "colorbar": {
              "outlinewidth": 0,
              "ticks": ""
             }
            },
            "type": "scattermapbox"
           }
          ],
          "scatterpolar": [
           {
            "marker": {
             "colorbar": {
              "outlinewidth": 0,
              "ticks": ""
             }
            },
            "type": "scatterpolar"
           }
          ],
          "scatterpolargl": [
           {
            "marker": {
             "colorbar": {
              "outlinewidth": 0,
              "ticks": ""
             }
            },
            "type": "scatterpolargl"
           }
          ],
          "scatterternary": [
           {
            "marker": {
             "colorbar": {
              "outlinewidth": 0,
              "ticks": ""
             }
            },
            "type": "scatterternary"
           }
          ],
          "surface": [
           {
            "colorbar": {
             "outlinewidth": 0,
             "ticks": ""
            },
            "colorscale": [
             [
              0,
              "#0d0887"
             ],
             [
              0.1111111111111111,
              "#46039f"
             ],
             [
              0.2222222222222222,
              "#7201a8"
             ],
             [
              0.3333333333333333,
              "#9c179e"
             ],
             [
              0.4444444444444444,
              "#bd3786"
             ],
             [
              0.5555555555555556,
              "#d8576b"
             ],
             [
              0.6666666666666666,
              "#ed7953"
             ],
             [
              0.7777777777777778,
              "#fb9f3a"
             ],
             [
              0.8888888888888888,
              "#fdca26"
             ],
             [
              1,
              "#f0f921"
             ]
            ],
            "type": "surface"
           }
          ],
          "table": [
           {
            "cells": {
             "fill": {
              "color": "#EBF0F8"
             },
             "line": {
              "color": "white"
             }
            },
            "header": {
             "fill": {
              "color": "#C8D4E3"
             },
             "line": {
              "color": "white"
             }
            },
            "type": "table"
           }
          ]
         },
         "layout": {
          "annotationdefaults": {
           "arrowcolor": "#2a3f5f",
           "arrowhead": 0,
           "arrowwidth": 1
          },
          "autotypenumbers": "strict",
          "coloraxis": {
           "colorbar": {
            "outlinewidth": 0,
            "ticks": ""
           }
          },
          "colorscale": {
           "diverging": [
            [
             0,
             "#8e0152"
            ],
            [
             0.1,
             "#c51b7d"
            ],
            [
             0.2,
             "#de77ae"
            ],
            [
             0.3,
             "#f1b6da"
            ],
            [
             0.4,
             "#fde0ef"
            ],
            [
             0.5,
             "#f7f7f7"
            ],
            [
             0.6,
             "#e6f5d0"
            ],
            [
             0.7,
             "#b8e186"
            ],
            [
             0.8,
             "#7fbc41"
            ],
            [
             0.9,
             "#4d9221"
            ],
            [
             1,
             "#276419"
            ]
           ],
           "sequential": [
            [
             0,
             "#0d0887"
            ],
            [
             0.1111111111111111,
             "#46039f"
            ],
            [
             0.2222222222222222,
             "#7201a8"
            ],
            [
             0.3333333333333333,
             "#9c179e"
            ],
            [
             0.4444444444444444,
             "#bd3786"
            ],
            [
             0.5555555555555556,
             "#d8576b"
            ],
            [
             0.6666666666666666,
             "#ed7953"
            ],
            [
             0.7777777777777778,
             "#fb9f3a"
            ],
            [
             0.8888888888888888,
             "#fdca26"
            ],
            [
             1,
             "#f0f921"
            ]
           ],
           "sequentialminus": [
            [
             0,
             "#0d0887"
            ],
            [
             0.1111111111111111,
             "#46039f"
            ],
            [
             0.2222222222222222,
             "#7201a8"
            ],
            [
             0.3333333333333333,
             "#9c179e"
            ],
            [
             0.4444444444444444,
             "#bd3786"
            ],
            [
             0.5555555555555556,
             "#d8576b"
            ],
            [
             0.6666666666666666,
             "#ed7953"
            ],
            [
             0.7777777777777778,
             "#fb9f3a"
            ],
            [
             0.8888888888888888,
             "#fdca26"
            ],
            [
             1,
             "#f0f921"
            ]
           ]
          },
          "colorway": [
           "#636efa",
           "#EF553B",
           "#00cc96",
           "#ab63fa",
           "#FFA15A",
           "#19d3f3",
           "#FF6692",
           "#B6E880",
           "#FF97FF",
           "#FECB52"
          ],
          "font": {
           "color": "#2a3f5f"
          },
          "geo": {
           "bgcolor": "white",
           "lakecolor": "white",
           "landcolor": "#E5ECF6",
           "showlakes": true,
           "showland": true,
           "subunitcolor": "white"
          },
          "hoverlabel": {
           "align": "left"
          },
          "hovermode": "closest",
          "mapbox": {
           "style": "light"
          },
          "paper_bgcolor": "white",
          "plot_bgcolor": "#E5ECF6",
          "polar": {
           "angularaxis": {
            "gridcolor": "white",
            "linecolor": "white",
            "ticks": ""
           },
           "bgcolor": "#E5ECF6",
           "radialaxis": {
            "gridcolor": "white",
            "linecolor": "white",
            "ticks": ""
           }
          },
          "scene": {
           "xaxis": {
            "backgroundcolor": "#E5ECF6",
            "gridcolor": "white",
            "gridwidth": 2,
            "linecolor": "white",
            "showbackground": true,
            "ticks": "",
            "zerolinecolor": "white"
           },
           "yaxis": {
            "backgroundcolor": "#E5ECF6",
            "gridcolor": "white",
            "gridwidth": 2,
            "linecolor": "white",
            "showbackground": true,
            "ticks": "",
            "zerolinecolor": "white"
           },
           "zaxis": {
            "backgroundcolor": "#E5ECF6",
            "gridcolor": "white",
            "gridwidth": 2,
            "linecolor": "white",
            "showbackground": true,
            "ticks": "",
            "zerolinecolor": "white"
           }
          },
          "shapedefaults": {
           "line": {
            "color": "#2a3f5f"
           }
          },
          "ternary": {
           "aaxis": {
            "gridcolor": "white",
            "linecolor": "white",
            "ticks": ""
           },
           "baxis": {
            "gridcolor": "white",
            "linecolor": "white",
            "ticks": ""
           },
           "bgcolor": "#E5ECF6",
           "caxis": {
            "gridcolor": "white",
            "linecolor": "white",
            "ticks": ""
           }
          },
          "title": {
           "x": 0.05
          },
          "xaxis": {
           "automargin": true,
           "gridcolor": "white",
           "linecolor": "white",
           "ticks": "",
           "title": {
            "standoff": 15
           },
           "zerolinecolor": "white",
           "zerolinewidth": 2
          },
          "yaxis": {
           "automargin": true,
           "gridcolor": "white",
           "linecolor": "white",
           "ticks": "",
           "title": {
            "standoff": 15
           },
           "zerolinecolor": "white",
           "zerolinewidth": 2
          }
         }
        },
        "title": {
         "text": "Best 15 Free Kicks"
        },
        "updatemenus": [
         {
          "buttons": [
           {
            "args": [
             {
              "visible": [
               true,
               false,
               false,
               false,
               false,
               false,
               false,
               false,
               false,
               false,
               false,
               false,
               false,
               false,
               false
              ]
             }
            ],
            "label": "James Ward-Prowse",
            "method": "update"
           },
           {
            "args": [
             {
              "visible": [
               false,
               true,
               false,
               false,
               false,
               false,
               false,
               false,
               false,
               false,
               false,
               false,
               false,
               false,
               false
              ]
             }
            ],
            "label": "Lionel Messi",
            "method": "update"
           },
           {
            "args": [
             {
              "visible": [
               false,
               false,
               true,
               false,
               false,
               false,
               false,
               false,
               false,
               false,
               false,
               false,
               false,
               false,
               false
              ]
             }
            ],
            "label": "Parejo",
            "method": "update"
           },
           {
            "args": [
             {
              "visible": [
               false,
               false,
               false,
               true,
               false,
               false,
               false,
               false,
               false,
               false,
               false,
               false,
               false,
               false,
               false
              ]
             }
            ],
            "label": "Alexia Putellas",
            "method": "update"
           },
           {
            "args": [
             {
              "visible": [
               false,
               false,
               false,
               false,
               true,
               false,
               false,
               false,
               false,
               false,
               false,
               false,
               false,
               false,
               false
              ]
             }
            ],
            "label": "Grimaldo",
            "method": "update"
           },
           {
            "args": [
             {
              "visible": [
               false,
               false,
               false,
               false,
               false,
               true,
               false,
               false,
               false,
               false,
               false,
               false,
               false,
               false,
               false
              ]
             }
            ],
            "label": "Dušan Vlahović",
            "method": "update"
           },
           {
            "args": [
             {
              "visible": [
               false,
               false,
               false,
               false,
               false,
               false,
               true,
               false,
               false,
               false,
               false,
               false,
               false,
               false,
               false
              ]
             }
            ],
            "label": "Lucas Zelarayán",
            "method": "update"
           },
           {
            "args": [
             {
              "visible": [
               false,
               false,
               false,
               false,
               false,
               false,
               false,
               true,
               false,
               false,
               false,
               false,
               false,
               false,
               false
              ]
             }
            ],
            "label": "Cristiano Biraghi",
            "method": "update"
           },
           {
            "args": [
             {
              "visible": [
               false,
               false,
               false,
               false,
               false,
               false,
               false,
               false,
               true,
               false,
               false,
               false,
               false,
               false,
               false
              ]
             }
            ],
            "label": "Vincenzo Grifo",
            "method": "update"
           },
           {
            "args": [
             {
              "visible": [
               false,
               false,
               false,
               false,
               false,
               false,
               false,
               false,
               false,
               true,
               false,
               false,
               false,
               false,
               false
              ]
             }
            ],
            "label": "Beth Mead",
            "method": "update"
           },
           {
            "args": [
             {
              "visible": [
               false,
               false,
               false,
               false,
               false,
               false,
               false,
               false,
               false,
               false,
               true,
               false,
               false,
               false,
               false
              ]
             }
            ],
            "label": "Jan-Niklas Beste",
            "method": "update"
           },
           {
            "args": [
             {
              "visible": [
               false,
               false,
               false,
               false,
               false,
               false,
               false,
               false,
               false,
               false,
               false,
               true,
               false,
               false,
               false
              ]
             }
            ],
            "label": "Mapi León",
            "method": "update"
           },
           {
            "args": [
             {
              "visible": [
               false,
               false,
               false,
               false,
               false,
               false,
               false,
               false,
               false,
               false,
               false,
               false,
               true,
               false,
               false
              ]
             }
            ],
            "label": "Ángel Di María",
            "method": "update"
           },
           {
            "args": [
             {
              "visible": [
               false,
               false,
               false,
               false,
               false,
               false,
               false,
               false,
               false,
               false,
               false,
               false,
               false,
               true,
               false
              ]
             }
            ],
            "label": "Dominik Szoboszlai",
            "method": "update"
           },
           {
            "args": [
             {
              "visible": [
               false,
               false,
               false,
               false,
               false,
               false,
               false,
               false,
               false,
               false,
               false,
               false,
               false,
               false,
               true
              ]
             }
            ],
            "label": "Sherida Spitse",
            "method": "update"
           }
          ],
          "direction": "down",
          "showactive": true
         }
        ],
        "xaxis": {
         "title": {
          "text": "Attributes"
         }
        },
        "yaxis": {
         "title": {
          "text": "Value"
         }
        }
       }
      }
     },
     "metadata": {},
     "output_type": "display_data"
    }
   ],
   "source": [
    "fig = go.Figure()\n",
    "\n",
    "for player in shot_data.Name:\n",
    "    player_data = shot_data[shot_data['Name'] == player][free_kick_stats].values.flatten()\n",
    "    fig.add_trace(\n",
    "        go.Bar(\n",
    "            x=free_kick_stats,\n",
    "            y=player_data,\n",
    "            name=player,\n",
    "            visible=False\n",
    "        )\n",
    "    )\n",
    "\n",
    "fig.data[0].visible = True\n",
    "\n",
    "\n",
    "fig.update_layout(\n",
    "    updatemenus=[\n",
    "        dict(\n",
    "            buttons=[\n",
    "                dict(\n",
    "                    args=[{\"visible\": [i == j for i in range(len(shot_data['Name']))]}],  \n",
    "                    label=player,\n",
    "                    method='update'\n",
    "                )\n",
    "                for j, player in enumerate(shot_data['Name'])  \n",
    "            ],\n",
    "            direction='down',\n",
    "            showactive=True,\n",
    "        )\n",
    "    ]\n",
    ")\n",
    "\n",
    "fig.update_layout(\n",
    "    title='Best 15 Free Kicks',\n",
    "    xaxis_title='Attributes',\n",
    "    yaxis_title='Value',\n",
    "    showlegend=False\n",
    ")\n",
    "\n",
    "fig.show()"
   ]
  },
  {
   "cell_type": "code",
   "execution_count": 54,
   "metadata": {},
   "outputs": [
    {
     "data": {
      "application/vnd.plotly.v1+json": {
       "config": {
        "plotlyServerURL": "https://plot.ly"
       },
       "data": [
        {
         "fill": "toself",
         "name": "James Ward-Prowse",
         "r": [
          79,
          73,
          81,
          "92",
          "94"
         ],
         "theta": [
          "OVR",
          "SHO",
          "Shot Power",
          "Curve",
          "Free Kick Accuracy"
         ],
         "type": "scatterpolar",
         "visible": true
        },
        {
         "fill": "toself",
         "name": "Lionel Messi",
         "r": [
          88,
          85,
          83,
          "93",
          "92"
         ],
         "theta": [
          "OVR",
          "SHO",
          "Shot Power",
          "Curve",
          "Free Kick Accuracy"
         ],
         "type": "scatterpolar",
         "visible": false
        },
        {
         "fill": "toself",
         "name": "Parejo",
         "r": [
          83,
          80,
          80,
          "88",
          "90"
         ],
         "theta": [
          "OVR",
          "SHO",
          "Shot Power",
          "Curve",
          "Free Kick Accuracy"
         ],
         "type": "scatterpolar",
         "visible": false
        },
        {
         "fill": "toself",
         "name": "Alexia Putellas",
         "r": [
          90,
          89,
          86,
          "89",
          "89"
         ],
         "theta": [
          "OVR",
          "SHO",
          "Shot Power",
          "Curve",
          "Free Kick Accuracy"
         ],
         "type": "scatterpolar",
         "visible": false
        },
        {
         "fill": "toself",
         "name": "Grimaldo",
         "r": [
          86,
          73,
          84,
          "89",
          "89"
         ],
         "theta": [
          "OVR",
          "SHO",
          "Shot Power",
          "Curve",
          "Free Kick Accuracy"
         ],
         "type": "scatterpolar",
         "visible": false
        },
        {
         "fill": "toself",
         "name": "Dušan Vlahović",
         "r": [
          84,
          84,
          84,
          "78",
          "89"
         ],
         "theta": [
          "OVR",
          "SHO",
          "Shot Power",
          "Curve",
          "Free Kick Accuracy"
         ],
         "type": "scatterpolar",
         "visible": false
        },
        {
         "fill": "toself",
         "name": "Lucas Zelarayán",
         "r": [
          80,
          77,
          79,
          "82",
          "88"
         ],
         "theta": [
          "OVR",
          "SHO",
          "Shot Power",
          "Curve",
          "Free Kick Accuracy"
         ],
         "type": "scatterpolar",
         "visible": false
        },
        {
         "fill": "toself",
         "name": "Cristiano Biraghi",
         "r": [
          79,
          69,
          82,
          "82",
          "88"
         ],
         "theta": [
          "OVR",
          "SHO",
          "Shot Power",
          "Curve",
          "Free Kick Accuracy"
         ],
         "type": "scatterpolar",
         "visible": false
        },
        {
         "fill": "toself",
         "name": "Vincenzo Grifo",
         "r": [
          80,
          77,
          85,
          "89",
          "88"
         ],
         "theta": [
          "OVR",
          "SHO",
          "Shot Power",
          "Curve",
          "Free Kick Accuracy"
         ],
         "type": "scatterpolar",
         "visible": false
        },
        {
         "fill": "toself",
         "name": "Beth Mead",
         "r": [
          88,
          84,
          87,
          "81",
          "88"
         ],
         "theta": [
          "OVR",
          "SHO",
          "Shot Power",
          "Curve",
          "Free Kick Accuracy"
         ],
         "type": "scatterpolar",
         "visible": false
        },
        {
         "fill": "toself",
         "name": "Jan-Niklas Beste",
         "r": [
          78,
          72,
          77,
          "88",
          "88"
         ],
         "theta": [
          "OVR",
          "SHO",
          "Shot Power",
          "Curve",
          "Free Kick Accuracy"
         ],
         "type": "scatterpolar",
         "visible": false
        },
        {
         "fill": "toself",
         "name": "Mapi León",
         "r": [
          89,
          73,
          89,
          "87",
          "88"
         ],
         "theta": [
          "OVR",
          "SHO",
          "Shot Power",
          "Curve",
          "Free Kick Accuracy"
         ],
         "type": "scatterpolar",
         "visible": false
        },
        {
         "fill": "toself",
         "name": "Ángel Di María",
         "r": [
          83,
          80,
          82,
          "92",
          "88"
         ],
         "theta": [
          "OVR",
          "SHO",
          "Shot Power",
          "Curve",
          "Free Kick Accuracy"
         ],
         "type": "scatterpolar",
         "visible": false
        },
        {
         "fill": "toself",
         "name": "Dominik Szoboszlai",
         "r": [
          81,
          80,
          89,
          "90",
          "87"
         ],
         "theta": [
          "OVR",
          "SHO",
          "Shot Power",
          "Curve",
          "Free Kick Accuracy"
         ],
         "type": "scatterpolar",
         "visible": false
        },
        {
         "fill": "toself",
         "name": "Sherida Spitse",
         "r": [
          83,
          76,
          88,
          "91",
          "87"
         ],
         "theta": [
          "OVR",
          "SHO",
          "Shot Power",
          "Curve",
          "Free Kick Accuracy"
         ],
         "type": "scatterpolar",
         "visible": false
        }
       ],
       "layout": {
        "polar": {
         "radialaxis": {
          "range": [
           0,
           99
          ],
          "visible": true
         }
        },
        "showlegend": false,
        "template": {
         "data": {
          "bar": [
           {
            "error_x": {
             "color": "#2a3f5f"
            },
            "error_y": {
             "color": "#2a3f5f"
            },
            "marker": {
             "line": {
              "color": "#E5ECF6",
              "width": 0.5
             },
             "pattern": {
              "fillmode": "overlay",
              "size": 10,
              "solidity": 0.2
             }
            },
            "type": "bar"
           }
          ],
          "barpolar": [
           {
            "marker": {
             "line": {
              "color": "#E5ECF6",
              "width": 0.5
             },
             "pattern": {
              "fillmode": "overlay",
              "size": 10,
              "solidity": 0.2
             }
            },
            "type": "barpolar"
           }
          ],
          "carpet": [
           {
            "aaxis": {
             "endlinecolor": "#2a3f5f",
             "gridcolor": "white",
             "linecolor": "white",
             "minorgridcolor": "white",
             "startlinecolor": "#2a3f5f"
            },
            "baxis": {
             "endlinecolor": "#2a3f5f",
             "gridcolor": "white",
             "linecolor": "white",
             "minorgridcolor": "white",
             "startlinecolor": "#2a3f5f"
            },
            "type": "carpet"
           }
          ],
          "choropleth": [
           {
            "colorbar": {
             "outlinewidth": 0,
             "ticks": ""
            },
            "type": "choropleth"
           }
          ],
          "contour": [
           {
            "colorbar": {
             "outlinewidth": 0,
             "ticks": ""
            },
            "colorscale": [
             [
              0,
              "#0d0887"
             ],
             [
              0.1111111111111111,
              "#46039f"
             ],
             [
              0.2222222222222222,
              "#7201a8"
             ],
             [
              0.3333333333333333,
              "#9c179e"
             ],
             [
              0.4444444444444444,
              "#bd3786"
             ],
             [
              0.5555555555555556,
              "#d8576b"
             ],
             [
              0.6666666666666666,
              "#ed7953"
             ],
             [
              0.7777777777777778,
              "#fb9f3a"
             ],
             [
              0.8888888888888888,
              "#fdca26"
             ],
             [
              1,
              "#f0f921"
             ]
            ],
            "type": "contour"
           }
          ],
          "contourcarpet": [
           {
            "colorbar": {
             "outlinewidth": 0,
             "ticks": ""
            },
            "type": "contourcarpet"
           }
          ],
          "heatmap": [
           {
            "colorbar": {
             "outlinewidth": 0,
             "ticks": ""
            },
            "colorscale": [
             [
              0,
              "#0d0887"
             ],
             [
              0.1111111111111111,
              "#46039f"
             ],
             [
              0.2222222222222222,
              "#7201a8"
             ],
             [
              0.3333333333333333,
              "#9c179e"
             ],
             [
              0.4444444444444444,
              "#bd3786"
             ],
             [
              0.5555555555555556,
              "#d8576b"
             ],
             [
              0.6666666666666666,
              "#ed7953"
             ],
             [
              0.7777777777777778,
              "#fb9f3a"
             ],
             [
              0.8888888888888888,
              "#fdca26"
             ],
             [
              1,
              "#f0f921"
             ]
            ],
            "type": "heatmap"
           }
          ],
          "heatmapgl": [
           {
            "colorbar": {
             "outlinewidth": 0,
             "ticks": ""
            },
            "colorscale": [
             [
              0,
              "#0d0887"
             ],
             [
              0.1111111111111111,
              "#46039f"
             ],
             [
              0.2222222222222222,
              "#7201a8"
             ],
             [
              0.3333333333333333,
              "#9c179e"
             ],
             [
              0.4444444444444444,
              "#bd3786"
             ],
             [
              0.5555555555555556,
              "#d8576b"
             ],
             [
              0.6666666666666666,
              "#ed7953"
             ],
             [
              0.7777777777777778,
              "#fb9f3a"
             ],
             [
              0.8888888888888888,
              "#fdca26"
             ],
             [
              1,
              "#f0f921"
             ]
            ],
            "type": "heatmapgl"
           }
          ],
          "histogram": [
           {
            "marker": {
             "pattern": {
              "fillmode": "overlay",
              "size": 10,
              "solidity": 0.2
             }
            },
            "type": "histogram"
           }
          ],
          "histogram2d": [
           {
            "colorbar": {
             "outlinewidth": 0,
             "ticks": ""
            },
            "colorscale": [
             [
              0,
              "#0d0887"
             ],
             [
              0.1111111111111111,
              "#46039f"
             ],
             [
              0.2222222222222222,
              "#7201a8"
             ],
             [
              0.3333333333333333,
              "#9c179e"
             ],
             [
              0.4444444444444444,
              "#bd3786"
             ],
             [
              0.5555555555555556,
              "#d8576b"
             ],
             [
              0.6666666666666666,
              "#ed7953"
             ],
             [
              0.7777777777777778,
              "#fb9f3a"
             ],
             [
              0.8888888888888888,
              "#fdca26"
             ],
             [
              1,
              "#f0f921"
             ]
            ],
            "type": "histogram2d"
           }
          ],
          "histogram2dcontour": [
           {
            "colorbar": {
             "outlinewidth": 0,
             "ticks": ""
            },
            "colorscale": [
             [
              0,
              "#0d0887"
             ],
             [
              0.1111111111111111,
              "#46039f"
             ],
             [
              0.2222222222222222,
              "#7201a8"
             ],
             [
              0.3333333333333333,
              "#9c179e"
             ],
             [
              0.4444444444444444,
              "#bd3786"
             ],
             [
              0.5555555555555556,
              "#d8576b"
             ],
             [
              0.6666666666666666,
              "#ed7953"
             ],
             [
              0.7777777777777778,
              "#fb9f3a"
             ],
             [
              0.8888888888888888,
              "#fdca26"
             ],
             [
              1,
              "#f0f921"
             ]
            ],
            "type": "histogram2dcontour"
           }
          ],
          "mesh3d": [
           {
            "colorbar": {
             "outlinewidth": 0,
             "ticks": ""
            },
            "type": "mesh3d"
           }
          ],
          "parcoords": [
           {
            "line": {
             "colorbar": {
              "outlinewidth": 0,
              "ticks": ""
             }
            },
            "type": "parcoords"
           }
          ],
          "pie": [
           {
            "automargin": true,
            "type": "pie"
           }
          ],
          "scatter": [
           {
            "fillpattern": {
             "fillmode": "overlay",
             "size": 10,
             "solidity": 0.2
            },
            "type": "scatter"
           }
          ],
          "scatter3d": [
           {
            "line": {
             "colorbar": {
              "outlinewidth": 0,
              "ticks": ""
             }
            },
            "marker": {
             "colorbar": {
              "outlinewidth": 0,
              "ticks": ""
             }
            },
            "type": "scatter3d"
           }
          ],
          "scattercarpet": [
           {
            "marker": {
             "colorbar": {
              "outlinewidth": 0,
              "ticks": ""
             }
            },
            "type": "scattercarpet"
           }
          ],
          "scattergeo": [
           {
            "marker": {
             "colorbar": {
              "outlinewidth": 0,
              "ticks": ""
             }
            },
            "type": "scattergeo"
           }
          ],
          "scattergl": [
           {
            "marker": {
             "colorbar": {
              "outlinewidth": 0,
              "ticks": ""
             }
            },
            "type": "scattergl"
           }
          ],
          "scattermapbox": [
           {
            "marker": {
             "colorbar": {
              "outlinewidth": 0,
              "ticks": ""
             }
            },
            "type": "scattermapbox"
           }
          ],
          "scatterpolar": [
           {
            "marker": {
             "colorbar": {
              "outlinewidth": 0,
              "ticks": ""
             }
            },
            "type": "scatterpolar"
           }
          ],
          "scatterpolargl": [
           {
            "marker": {
             "colorbar": {
              "outlinewidth": 0,
              "ticks": ""
             }
            },
            "type": "scatterpolargl"
           }
          ],
          "scatterternary": [
           {
            "marker": {
             "colorbar": {
              "outlinewidth": 0,
              "ticks": ""
             }
            },
            "type": "scatterternary"
           }
          ],
          "surface": [
           {
            "colorbar": {
             "outlinewidth": 0,
             "ticks": ""
            },
            "colorscale": [
             [
              0,
              "#0d0887"
             ],
             [
              0.1111111111111111,
              "#46039f"
             ],
             [
              0.2222222222222222,
              "#7201a8"
             ],
             [
              0.3333333333333333,
              "#9c179e"
             ],
             [
              0.4444444444444444,
              "#bd3786"
             ],
             [
              0.5555555555555556,
              "#d8576b"
             ],
             [
              0.6666666666666666,
              "#ed7953"
             ],
             [
              0.7777777777777778,
              "#fb9f3a"
             ],
             [
              0.8888888888888888,
              "#fdca26"
             ],
             [
              1,
              "#f0f921"
             ]
            ],
            "type": "surface"
           }
          ],
          "table": [
           {
            "cells": {
             "fill": {
              "color": "#EBF0F8"
             },
             "line": {
              "color": "white"
             }
            },
            "header": {
             "fill": {
              "color": "#C8D4E3"
             },
             "line": {
              "color": "white"
             }
            },
            "type": "table"
           }
          ]
         },
         "layout": {
          "annotationdefaults": {
           "arrowcolor": "#2a3f5f",
           "arrowhead": 0,
           "arrowwidth": 1
          },
          "autotypenumbers": "strict",
          "coloraxis": {
           "colorbar": {
            "outlinewidth": 0,
            "ticks": ""
           }
          },
          "colorscale": {
           "diverging": [
            [
             0,
             "#8e0152"
            ],
            [
             0.1,
             "#c51b7d"
            ],
            [
             0.2,
             "#de77ae"
            ],
            [
             0.3,
             "#f1b6da"
            ],
            [
             0.4,
             "#fde0ef"
            ],
            [
             0.5,
             "#f7f7f7"
            ],
            [
             0.6,
             "#e6f5d0"
            ],
            [
             0.7,
             "#b8e186"
            ],
            [
             0.8,
             "#7fbc41"
            ],
            [
             0.9,
             "#4d9221"
            ],
            [
             1,
             "#276419"
            ]
           ],
           "sequential": [
            [
             0,
             "#0d0887"
            ],
            [
             0.1111111111111111,
             "#46039f"
            ],
            [
             0.2222222222222222,
             "#7201a8"
            ],
            [
             0.3333333333333333,
             "#9c179e"
            ],
            [
             0.4444444444444444,
             "#bd3786"
            ],
            [
             0.5555555555555556,
             "#d8576b"
            ],
            [
             0.6666666666666666,
             "#ed7953"
            ],
            [
             0.7777777777777778,
             "#fb9f3a"
            ],
            [
             0.8888888888888888,
             "#fdca26"
            ],
            [
             1,
             "#f0f921"
            ]
           ],
           "sequentialminus": [
            [
             0,
             "#0d0887"
            ],
            [
             0.1111111111111111,
             "#46039f"
            ],
            [
             0.2222222222222222,
             "#7201a8"
            ],
            [
             0.3333333333333333,
             "#9c179e"
            ],
            [
             0.4444444444444444,
             "#bd3786"
            ],
            [
             0.5555555555555556,
             "#d8576b"
            ],
            [
             0.6666666666666666,
             "#ed7953"
            ],
            [
             0.7777777777777778,
             "#fb9f3a"
            ],
            [
             0.8888888888888888,
             "#fdca26"
            ],
            [
             1,
             "#f0f921"
            ]
           ]
          },
          "colorway": [
           "#636efa",
           "#EF553B",
           "#00cc96",
           "#ab63fa",
           "#FFA15A",
           "#19d3f3",
           "#FF6692",
           "#B6E880",
           "#FF97FF",
           "#FECB52"
          ],
          "font": {
           "color": "#2a3f5f"
          },
          "geo": {
           "bgcolor": "white",
           "lakecolor": "white",
           "landcolor": "#E5ECF6",
           "showlakes": true,
           "showland": true,
           "subunitcolor": "white"
          },
          "hoverlabel": {
           "align": "left"
          },
          "hovermode": "closest",
          "mapbox": {
           "style": "light"
          },
          "paper_bgcolor": "white",
          "plot_bgcolor": "#E5ECF6",
          "polar": {
           "angularaxis": {
            "gridcolor": "white",
            "linecolor": "white",
            "ticks": ""
           },
           "bgcolor": "#E5ECF6",
           "radialaxis": {
            "gridcolor": "white",
            "linecolor": "white",
            "ticks": ""
           }
          },
          "scene": {
           "xaxis": {
            "backgroundcolor": "#E5ECF6",
            "gridcolor": "white",
            "gridwidth": 2,
            "linecolor": "white",
            "showbackground": true,
            "ticks": "",
            "zerolinecolor": "white"
           },
           "yaxis": {
            "backgroundcolor": "#E5ECF6",
            "gridcolor": "white",
            "gridwidth": 2,
            "linecolor": "white",
            "showbackground": true,
            "ticks": "",
            "zerolinecolor": "white"
           },
           "zaxis": {
            "backgroundcolor": "#E5ECF6",
            "gridcolor": "white",
            "gridwidth": 2,
            "linecolor": "white",
            "showbackground": true,
            "ticks": "",
            "zerolinecolor": "white"
           }
          },
          "shapedefaults": {
           "line": {
            "color": "#2a3f5f"
           }
          },
          "ternary": {
           "aaxis": {
            "gridcolor": "white",
            "linecolor": "white",
            "ticks": ""
           },
           "baxis": {
            "gridcolor": "white",
            "linecolor": "white",
            "ticks": ""
           },
           "bgcolor": "#E5ECF6",
           "caxis": {
            "gridcolor": "white",
            "linecolor": "white",
            "ticks": ""
           }
          },
          "title": {
           "x": 0.05
          },
          "xaxis": {
           "automargin": true,
           "gridcolor": "white",
           "linecolor": "white",
           "ticks": "",
           "title": {
            "standoff": 15
           },
           "zerolinecolor": "white",
           "zerolinewidth": 2
          },
          "yaxis": {
           "automargin": true,
           "gridcolor": "white",
           "linecolor": "white",
           "ticks": "",
           "title": {
            "standoff": 15
           },
           "zerolinecolor": "white",
           "zerolinewidth": 2
          }
         }
        },
        "title": {
         "text": "Best 15 Free Kicks"
        },
        "updatemenus": [
         {
          "buttons": [
           {
            "args": [
             {
              "visible": [
               true,
               false,
               false,
               false,
               false,
               false,
               false,
               false,
               false,
               false,
               false,
               false,
               false,
               false,
               false
              ]
             }
            ],
            "label": "James Ward-Prowse",
            "method": "update"
           },
           {
            "args": [
             {
              "visible": [
               false,
               true,
               false,
               false,
               false,
               false,
               false,
               false,
               false,
               false,
               false,
               false,
               false,
               false,
               false
              ]
             }
            ],
            "label": "Lionel Messi",
            "method": "update"
           },
           {
            "args": [
             {
              "visible": [
               false,
               false,
               true,
               false,
               false,
               false,
               false,
               false,
               false,
               false,
               false,
               false,
               false,
               false,
               false
              ]
             }
            ],
            "label": "Parejo",
            "method": "update"
           },
           {
            "args": [
             {
              "visible": [
               false,
               false,
               false,
               true,
               false,
               false,
               false,
               false,
               false,
               false,
               false,
               false,
               false,
               false,
               false
              ]
             }
            ],
            "label": "Alexia Putellas",
            "method": "update"
           },
           {
            "args": [
             {
              "visible": [
               false,
               false,
               false,
               false,
               true,
               false,
               false,
               false,
               false,
               false,
               false,
               false,
               false,
               false,
               false
              ]
             }
            ],
            "label": "Grimaldo",
            "method": "update"
           },
           {
            "args": [
             {
              "visible": [
               false,
               false,
               false,
               false,
               false,
               true,
               false,
               false,
               false,
               false,
               false,
               false,
               false,
               false,
               false
              ]
             }
            ],
            "label": "Dušan Vlahović",
            "method": "update"
           },
           {
            "args": [
             {
              "visible": [
               false,
               false,
               false,
               false,
               false,
               false,
               true,
               false,
               false,
               false,
               false,
               false,
               false,
               false,
               false
              ]
             }
            ],
            "label": "Lucas Zelarayán",
            "method": "update"
           },
           {
            "args": [
             {
              "visible": [
               false,
               false,
               false,
               false,
               false,
               false,
               false,
               true,
               false,
               false,
               false,
               false,
               false,
               false,
               false
              ]
             }
            ],
            "label": "Cristiano Biraghi",
            "method": "update"
           },
           {
            "args": [
             {
              "visible": [
               false,
               false,
               false,
               false,
               false,
               false,
               false,
               false,
               true,
               false,
               false,
               false,
               false,
               false,
               false
              ]
             }
            ],
            "label": "Vincenzo Grifo",
            "method": "update"
           },
           {
            "args": [
             {
              "visible": [
               false,
               false,
               false,
               false,
               false,
               false,
               false,
               false,
               false,
               true,
               false,
               false,
               false,
               false,
               false
              ]
             }
            ],
            "label": "Beth Mead",
            "method": "update"
           },
           {
            "args": [
             {
              "visible": [
               false,
               false,
               false,
               false,
               false,
               false,
               false,
               false,
               false,
               false,
               true,
               false,
               false,
               false,
               false
              ]
             }
            ],
            "label": "Jan-Niklas Beste",
            "method": "update"
           },
           {
            "args": [
             {
              "visible": [
               false,
               false,
               false,
               false,
               false,
               false,
               false,
               false,
               false,
               false,
               false,
               true,
               false,
               false,
               false
              ]
             }
            ],
            "label": "Mapi León",
            "method": "update"
           },
           {
            "args": [
             {
              "visible": [
               false,
               false,
               false,
               false,
               false,
               false,
               false,
               false,
               false,
               false,
               false,
               false,
               true,
               false,
               false
              ]
             }
            ],
            "label": "Ángel Di María",
            "method": "update"
           },
           {
            "args": [
             {
              "visible": [
               false,
               false,
               false,
               false,
               false,
               false,
               false,
               false,
               false,
               false,
               false,
               false,
               false,
               true,
               false
              ]
             }
            ],
            "label": "Dominik Szoboszlai",
            "method": "update"
           },
           {
            "args": [
             {
              "visible": [
               false,
               false,
               false,
               false,
               false,
               false,
               false,
               false,
               false,
               false,
               false,
               false,
               false,
               false,
               true
              ]
             }
            ],
            "label": "Sherida Spitse",
            "method": "update"
           }
          ],
          "direction": "down",
          "showactive": true
         }
        ],
        "xaxis": {
         "title": {
          "text": "Attributes"
         }
        },
        "yaxis": {
         "title": {
          "text": "Value"
         }
        }
       }
      }
     },
     "metadata": {},
     "output_type": "display_data"
    }
   ],
   "source": [
    "fig = go.Figure()\n",
    "for player in shot_data.Name:\n",
    "    player_data = shot_data[shot_data['Name'] == player][free_kick_stats].values.flatten()\n",
    "    fig.add_trace(\n",
    "        go.Scatterpolar(\n",
    "            r=player_data,\n",
    "            theta=free_kick_stats,\n",
    "            name=player,\n",
    "            fill='toself',\n",
    "            visible=False\n",
    "        )\n",
    "    )\n",
    "\n",
    "fig.data[0].visible = True\n",
    "\n",
    "\n",
    "fig.update_layout(\n",
    "    updatemenus=[\n",
    "        dict(\n",
    "            buttons=[\n",
    "                dict(\n",
    "                    args=[{\"visible\": [i == j for i in range(len(shot_data['Name']))]}],  \n",
    "                    label=player,\n",
    "                    method='update'\n",
    "                )\n",
    "                for j, player in enumerate(shot_data['Name'])  \n",
    "            ],\n",
    "            direction='down',\n",
    "            showactive=True,\n",
    "        )\n",
    "    ]\n",
    ")\n",
    "\n",
    "fig.update_layout(\n",
    "    title='Best 15 Free Kicks',\n",
    "    xaxis_title='Attributes',\n",
    "    yaxis_title='Value',\n",
    "    polar=dict(\n",
    "    radialaxis=dict(\n",
    "      visible=True,\n",
    "      range=[0, 99]\n",
    "    )),\n",
    "    showlegend=False\n",
    ")\n",
    "\n",
    "fig.show()   "
   ]
  },
  {
   "cell_type": "markdown",
   "metadata": {},
   "source": [
    "1) Mapi Leon\n",
    "2)James Ward-Prowse/Messi"
   ]
  },
  {
   "cell_type": "markdown",
   "metadata": {},
   "source": [
    "Best penalties"
   ]
  },
  {
   "cell_type": "code",
   "execution_count": 55,
   "metadata": {},
   "outputs": [
    {
     "data": {
      "text/html": [
       "<div>\n",
       "<style scoped>\n",
       "    .dataframe tbody tr th:only-of-type {\n",
       "        vertical-align: middle;\n",
       "    }\n",
       "\n",
       "    .dataframe tbody tr th {\n",
       "        vertical-align: top;\n",
       "    }\n",
       "\n",
       "    .dataframe thead th {\n",
       "        text-align: right;\n",
       "    }\n",
       "</style>\n",
       "<table border=\"1\" class=\"dataframe\">\n",
       "  <thead>\n",
       "    <tr style=\"text-align: right;\">\n",
       "      <th></th>\n",
       "      <th>Rank</th>\n",
       "      <th>Name</th>\n",
       "      <th>OVR</th>\n",
       "      <th>PAC</th>\n",
       "      <th>SHO</th>\n",
       "      <th>PAS</th>\n",
       "      <th>DRI</th>\n",
       "      <th>DEF</th>\n",
       "      <th>PHY</th>\n",
       "      <th>Acceleration</th>\n",
       "      <th>...</th>\n",
       "      <th>Preferred foot</th>\n",
       "      <th>Age</th>\n",
       "      <th>Nation</th>\n",
       "      <th>League</th>\n",
       "      <th>Team</th>\n",
       "      <th>GK Diving</th>\n",
       "      <th>GK Handling</th>\n",
       "      <th>GK Kicking</th>\n",
       "      <th>GK Positioning</th>\n",
       "      <th>GK Reflexes</th>\n",
       "    </tr>\n",
       "  </thead>\n",
       "  <tbody>\n",
       "    <tr>\n",
       "      <th>10</th>\n",
       "      <td>68</td>\n",
       "      <td>Cristiano Ronaldo</td>\n",
       "      <td>86</td>\n",
       "      <td>77</td>\n",
       "      <td>88</td>\n",
       "      <td>77</td>\n",
       "      <td>80</td>\n",
       "      <td>34</td>\n",
       "      <td>77</td>\n",
       "      <td>73</td>\n",
       "      <td>...</td>\n",
       "      <td>Right</td>\n",
       "      <td>39</td>\n",
       "      <td>Portugal</td>\n",
       "      <td>ROSHN Saudi League</td>\n",
       "      <td>Al Nassr</td>\n",
       "      <td>NaN</td>\n",
       "      <td>NaN</td>\n",
       "      <td>NaN</td>\n",
       "      <td>NaN</td>\n",
       "      <td>NaN</td>\n",
       "    </tr>\n",
       "    <tr>\n",
       "      <th>11</th>\n",
       "      <td>458</td>\n",
       "      <td>Dzsenifer Marozsán</td>\n",
       "      <td>81</td>\n",
       "      <td>71</td>\n",
       "      <td>81</td>\n",
       "      <td>85</td>\n",
       "      <td>84</td>\n",
       "      <td>65</td>\n",
       "      <td>72</td>\n",
       "      <td>73</td>\n",
       "      <td>...</td>\n",
       "      <td>Right</td>\n",
       "      <td>32</td>\n",
       "      <td>Germany</td>\n",
       "      <td>Arkema PL</td>\n",
       "      <td>OL</td>\n",
       "      <td>NaN</td>\n",
       "      <td>NaN</td>\n",
       "      <td>NaN</td>\n",
       "      <td>NaN</td>\n",
       "      <td>NaN</td>\n",
       "    </tr>\n",
       "    <tr>\n",
       "      <th>12</th>\n",
       "      <td>4</td>\n",
       "      <td>Erling Haaland</td>\n",
       "      <td>91</td>\n",
       "      <td>88</td>\n",
       "      <td>92</td>\n",
       "      <td>70</td>\n",
       "      <td>81</td>\n",
       "      <td>45</td>\n",
       "      <td>88</td>\n",
       "      <td>80</td>\n",
       "      <td>...</td>\n",
       "      <td>Left</td>\n",
       "      <td>24</td>\n",
       "      <td>Norway</td>\n",
       "      <td>Premier League</td>\n",
       "      <td>Manchester City</td>\n",
       "      <td>NaN</td>\n",
       "      <td>NaN</td>\n",
       "      <td>NaN</td>\n",
       "      <td>NaN</td>\n",
       "      <td>NaN</td>\n",
       "    </tr>\n",
       "    <tr>\n",
       "      <th>13</th>\n",
       "      <td>970</td>\n",
       "      <td>Luis Muriel</td>\n",
       "      <td>78</td>\n",
       "      <td>85</td>\n",
       "      <td>78</td>\n",
       "      <td>73</td>\n",
       "      <td>82</td>\n",
       "      <td>29</td>\n",
       "      <td>67</td>\n",
       "      <td>84</td>\n",
       "      <td>...</td>\n",
       "      <td>Right</td>\n",
       "      <td>33</td>\n",
       "      <td>Colombia</td>\n",
       "      <td>MLS</td>\n",
       "      <td>Orlando City</td>\n",
       "      <td>NaN</td>\n",
       "      <td>NaN</td>\n",
       "      <td>NaN</td>\n",
       "      <td>NaN</td>\n",
       "      <td>NaN</td>\n",
       "    </tr>\n",
       "    <tr>\n",
       "      <th>14</th>\n",
       "      <td>322</td>\n",
       "      <td>Jorginho</td>\n",
       "      <td>82</td>\n",
       "      <td>46</td>\n",
       "      <td>67</td>\n",
       "      <td>83</td>\n",
       "      <td>80</td>\n",
       "      <td>73</td>\n",
       "      <td>71</td>\n",
       "      <td>54</td>\n",
       "      <td>...</td>\n",
       "      <td>Right</td>\n",
       "      <td>32</td>\n",
       "      <td>Italy</td>\n",
       "      <td>Premier League</td>\n",
       "      <td>Arsenal</td>\n",
       "      <td>NaN</td>\n",
       "      <td>NaN</td>\n",
       "      <td>NaN</td>\n",
       "      <td>NaN</td>\n",
       "      <td>NaN</td>\n",
       "    </tr>\n",
       "  </tbody>\n",
       "</table>\n",
       "<p>5 rows × 51 columns</p>\n",
       "</div>"
      ],
      "text/plain": [
       "    Rank                Name  OVR  PAC  SHO  PAS  DRI  DEF  PHY  Acceleration  \\\n",
       "10    68   Cristiano Ronaldo   86   77   88   77   80   34   77            73   \n",
       "11   458  Dzsenifer Marozsán   81   71   81   85   84   65   72            73   \n",
       "12     4      Erling Haaland   91   88   92   70   81   45   88            80   \n",
       "13   970         Luis Muriel   78   85   78   73   82   29   67            84   \n",
       "14   322            Jorginho   82   46   67   83   80   73   71            54   \n",
       "\n",
       "    ...  Preferred foot Age    Nation              League             Team  \\\n",
       "10  ...           Right  39  Portugal  ROSHN Saudi League         Al Nassr   \n",
       "11  ...           Right  32   Germany           Arkema PL               OL   \n",
       "12  ...            Left  24    Norway      Premier League  Manchester City   \n",
       "13  ...           Right  33  Colombia                 MLS     Orlando City   \n",
       "14  ...           Right  32     Italy      Premier League          Arsenal   \n",
       "\n",
       "   GK Diving  GK Handling  GK Kicking GK Positioning GK Reflexes  \n",
       "10       NaN          NaN         NaN            NaN         NaN  \n",
       "11       NaN          NaN         NaN            NaN         NaN  \n",
       "12       NaN          NaN         NaN            NaN         NaN  \n",
       "13       NaN          NaN         NaN            NaN         NaN  \n",
       "14       NaN          NaN         NaN            NaN         NaN  \n",
       "\n",
       "[5 rows x 51 columns]"
      ]
     },
     "execution_count": 55,
     "metadata": {},
     "output_type": "execute_result"
    }
   ],
   "source": [
    "penalties = ['OVR', 'SHO', 'Shot Power', 'Penalties']\n",
    "penalties_data = all_data[all_data.Position != 'GK']\n",
    "penalties_data = penalties_data.sort_values('Penalties', ascending=False)[:15]\n",
    "penalties_data.reset_index(inplace=True)\n",
    "penalties_data.drop(columns='index', axis=1, inplace=True)\n",
    "penalties_data.tail()"
   ]
  },
  {
   "cell_type": "code",
   "execution_count": 56,
   "metadata": {},
   "outputs": [
    {
     "data": {
      "application/vnd.plotly.v1+json": {
       "config": {
        "plotlyServerURL": "https://plot.ly"
       },
       "data": [
        {
         "fill": "toself",
         "name": "Harry Kane",
         "r": [
          90,
          93,
          94,
          93
         ],
         "theta": [
          "OVR",
          "SHO",
          "Shot Power",
          "Penalties"
         ],
         "type": "scatterpolar",
         "visible": true
        },
        {
         "fill": "toself",
         "name": "Ivan Toney",
         "r": [
          80,
          81,
          82,
          92
         ],
         "theta": [
          "OVR",
          "SHO",
          "Shot Power",
          "Penalties"
         ],
         "type": "scatterpolar",
         "visible": false
        },
        {
         "fill": "toself",
         "name": "Andrej Kramarić",
         "r": [
          81,
          83,
          82,
          92
         ],
         "theta": [
          "OVR",
          "SHO",
          "Shot Power",
          "Penalties"
         ],
         "type": "scatterpolar",
         "visible": false
        },
        {
         "fill": "toself",
         "name": "Borja Iglesias",
         "r": [
          78,
          80,
          83,
          92
         ],
         "theta": [
          "OVR",
          "SHO",
          "Shot Power",
          "Penalties"
         ],
         "type": "scatterpolar",
         "visible": false
        },
        {
         "fill": "toself",
         "name": "Vincenzo Grifo",
         "r": [
          80,
          77,
          85,
          92
         ],
         "theta": [
          "OVR",
          "SHO",
          "Shot Power",
          "Penalties"
         ],
         "type": "scatterpolar",
         "visible": false
        },
        {
         "fill": "toself",
         "name": "Hakan Çalhanoğlu",
         "r": [
          86,
          80,
          86,
          90
         ],
         "theta": [
          "OVR",
          "SHO",
          "Shot Power",
          "Penalties"
         ],
         "type": "scatterpolar",
         "visible": false
        },
        {
         "fill": "toself",
         "name": "Cristhian Stuani",
         "r": [
          76,
          79,
          80,
          90
         ],
         "theta": [
          "OVR",
          "SHO",
          "Shot Power",
          "Penalties"
         ],
         "type": "scatterpolar",
         "visible": false
        },
        {
         "fill": "toself",
         "name": "Robert Lewandowski",
         "r": [
          88,
          88,
          89,
          90
         ],
         "theta": [
          "OVR",
          "SHO",
          "Shot Power",
          "Penalties"
         ],
         "type": "scatterpolar",
         "visible": false
        },
        {
         "fill": "toself",
         "name": "Fabinho",
         "r": [
          82,
          69,
          81,
          90
         ],
         "theta": [
          "OVR",
          "SHO",
          "Shot Power",
          "Penalties"
         ],
         "type": "scatterpolar",
         "visible": false
        },
        {
         "fill": "toself",
         "name": "Bruno Fernandes",
         "r": [
          87,
          85,
          86,
          90
         ],
         "theta": [
          "OVR",
          "SHO",
          "Shot Power",
          "Penalties"
         ],
         "type": "scatterpolar",
         "visible": false
        },
        {
         "fill": "toself",
         "name": "Cristiano Ronaldo",
         "r": [
          86,
          88,
          92,
          90
         ],
         "theta": [
          "OVR",
          "SHO",
          "Shot Power",
          "Penalties"
         ],
         "type": "scatterpolar",
         "visible": false
        },
        {
         "fill": "toself",
         "name": "Dzsenifer Marozsán",
         "r": [
          81,
          81,
          88,
          90
         ],
         "theta": [
          "OVR",
          "SHO",
          "Shot Power",
          "Penalties"
         ],
         "type": "scatterpolar",
         "visible": false
        },
        {
         "fill": "toself",
         "name": "Erling Haaland",
         "r": [
          91,
          92,
          94,
          90
         ],
         "theta": [
          "OVR",
          "SHO",
          "Shot Power",
          "Penalties"
         ],
         "type": "scatterpolar",
         "visible": false
        },
        {
         "fill": "toself",
         "name": "Luis Muriel",
         "r": [
          78,
          78,
          79,
          89
         ],
         "theta": [
          "OVR",
          "SHO",
          "Shot Power",
          "Penalties"
         ],
         "type": "scatterpolar",
         "visible": false
        },
        {
         "fill": "toself",
         "name": "Jorginho",
         "r": [
          82,
          67,
          71,
          89
         ],
         "theta": [
          "OVR",
          "SHO",
          "Shot Power",
          "Penalties"
         ],
         "type": "scatterpolar",
         "visible": false
        }
       ],
       "layout": {
        "polar": {
         "radialaxis": {
          "range": [
           0,
           99
          ],
          "visible": true
         }
        },
        "showlegend": false,
        "template": {
         "data": {
          "bar": [
           {
            "error_x": {
             "color": "#2a3f5f"
            },
            "error_y": {
             "color": "#2a3f5f"
            },
            "marker": {
             "line": {
              "color": "#E5ECF6",
              "width": 0.5
             },
             "pattern": {
              "fillmode": "overlay",
              "size": 10,
              "solidity": 0.2
             }
            },
            "type": "bar"
           }
          ],
          "barpolar": [
           {
            "marker": {
             "line": {
              "color": "#E5ECF6",
              "width": 0.5
             },
             "pattern": {
              "fillmode": "overlay",
              "size": 10,
              "solidity": 0.2
             }
            },
            "type": "barpolar"
           }
          ],
          "carpet": [
           {
            "aaxis": {
             "endlinecolor": "#2a3f5f",
             "gridcolor": "white",
             "linecolor": "white",
             "minorgridcolor": "white",
             "startlinecolor": "#2a3f5f"
            },
            "baxis": {
             "endlinecolor": "#2a3f5f",
             "gridcolor": "white",
             "linecolor": "white",
             "minorgridcolor": "white",
             "startlinecolor": "#2a3f5f"
            },
            "type": "carpet"
           }
          ],
          "choropleth": [
           {
            "colorbar": {
             "outlinewidth": 0,
             "ticks": ""
            },
            "type": "choropleth"
           }
          ],
          "contour": [
           {
            "colorbar": {
             "outlinewidth": 0,
             "ticks": ""
            },
            "colorscale": [
             [
              0,
              "#0d0887"
             ],
             [
              0.1111111111111111,
              "#46039f"
             ],
             [
              0.2222222222222222,
              "#7201a8"
             ],
             [
              0.3333333333333333,
              "#9c179e"
             ],
             [
              0.4444444444444444,
              "#bd3786"
             ],
             [
              0.5555555555555556,
              "#d8576b"
             ],
             [
              0.6666666666666666,
              "#ed7953"
             ],
             [
              0.7777777777777778,
              "#fb9f3a"
             ],
             [
              0.8888888888888888,
              "#fdca26"
             ],
             [
              1,
              "#f0f921"
             ]
            ],
            "type": "contour"
           }
          ],
          "contourcarpet": [
           {
            "colorbar": {
             "outlinewidth": 0,
             "ticks": ""
            },
            "type": "contourcarpet"
           }
          ],
          "heatmap": [
           {
            "colorbar": {
             "outlinewidth": 0,
             "ticks": ""
            },
            "colorscale": [
             [
              0,
              "#0d0887"
             ],
             [
              0.1111111111111111,
              "#46039f"
             ],
             [
              0.2222222222222222,
              "#7201a8"
             ],
             [
              0.3333333333333333,
              "#9c179e"
             ],
             [
              0.4444444444444444,
              "#bd3786"
             ],
             [
              0.5555555555555556,
              "#d8576b"
             ],
             [
              0.6666666666666666,
              "#ed7953"
             ],
             [
              0.7777777777777778,
              "#fb9f3a"
             ],
             [
              0.8888888888888888,
              "#fdca26"
             ],
             [
              1,
              "#f0f921"
             ]
            ],
            "type": "heatmap"
           }
          ],
          "heatmapgl": [
           {
            "colorbar": {
             "outlinewidth": 0,
             "ticks": ""
            },
            "colorscale": [
             [
              0,
              "#0d0887"
             ],
             [
              0.1111111111111111,
              "#46039f"
             ],
             [
              0.2222222222222222,
              "#7201a8"
             ],
             [
              0.3333333333333333,
              "#9c179e"
             ],
             [
              0.4444444444444444,
              "#bd3786"
             ],
             [
              0.5555555555555556,
              "#d8576b"
             ],
             [
              0.6666666666666666,
              "#ed7953"
             ],
             [
              0.7777777777777778,
              "#fb9f3a"
             ],
             [
              0.8888888888888888,
              "#fdca26"
             ],
             [
              1,
              "#f0f921"
             ]
            ],
            "type": "heatmapgl"
           }
          ],
          "histogram": [
           {
            "marker": {
             "pattern": {
              "fillmode": "overlay",
              "size": 10,
              "solidity": 0.2
             }
            },
            "type": "histogram"
           }
          ],
          "histogram2d": [
           {
            "colorbar": {
             "outlinewidth": 0,
             "ticks": ""
            },
            "colorscale": [
             [
              0,
              "#0d0887"
             ],
             [
              0.1111111111111111,
              "#46039f"
             ],
             [
              0.2222222222222222,
              "#7201a8"
             ],
             [
              0.3333333333333333,
              "#9c179e"
             ],
             [
              0.4444444444444444,
              "#bd3786"
             ],
             [
              0.5555555555555556,
              "#d8576b"
             ],
             [
              0.6666666666666666,
              "#ed7953"
             ],
             [
              0.7777777777777778,
              "#fb9f3a"
             ],
             [
              0.8888888888888888,
              "#fdca26"
             ],
             [
              1,
              "#f0f921"
             ]
            ],
            "type": "histogram2d"
           }
          ],
          "histogram2dcontour": [
           {
            "colorbar": {
             "outlinewidth": 0,
             "ticks": ""
            },
            "colorscale": [
             [
              0,
              "#0d0887"
             ],
             [
              0.1111111111111111,
              "#46039f"
             ],
             [
              0.2222222222222222,
              "#7201a8"
             ],
             [
              0.3333333333333333,
              "#9c179e"
             ],
             [
              0.4444444444444444,
              "#bd3786"
             ],
             [
              0.5555555555555556,
              "#d8576b"
             ],
             [
              0.6666666666666666,
              "#ed7953"
             ],
             [
              0.7777777777777778,
              "#fb9f3a"
             ],
             [
              0.8888888888888888,
              "#fdca26"
             ],
             [
              1,
              "#f0f921"
             ]
            ],
            "type": "histogram2dcontour"
           }
          ],
          "mesh3d": [
           {
            "colorbar": {
             "outlinewidth": 0,
             "ticks": ""
            },
            "type": "mesh3d"
           }
          ],
          "parcoords": [
           {
            "line": {
             "colorbar": {
              "outlinewidth": 0,
              "ticks": ""
             }
            },
            "type": "parcoords"
           }
          ],
          "pie": [
           {
            "automargin": true,
            "type": "pie"
           }
          ],
          "scatter": [
           {
            "fillpattern": {
             "fillmode": "overlay",
             "size": 10,
             "solidity": 0.2
            },
            "type": "scatter"
           }
          ],
          "scatter3d": [
           {
            "line": {
             "colorbar": {
              "outlinewidth": 0,
              "ticks": ""
             }
            },
            "marker": {
             "colorbar": {
              "outlinewidth": 0,
              "ticks": ""
             }
            },
            "type": "scatter3d"
           }
          ],
          "scattercarpet": [
           {
            "marker": {
             "colorbar": {
              "outlinewidth": 0,
              "ticks": ""
             }
            },
            "type": "scattercarpet"
           }
          ],
          "scattergeo": [
           {
            "marker": {
             "colorbar": {
              "outlinewidth": 0,
              "ticks": ""
             }
            },
            "type": "scattergeo"
           }
          ],
          "scattergl": [
           {
            "marker": {
             "colorbar": {
              "outlinewidth": 0,
              "ticks": ""
             }
            },
            "type": "scattergl"
           }
          ],
          "scattermapbox": [
           {
            "marker": {
             "colorbar": {
              "outlinewidth": 0,
              "ticks": ""
             }
            },
            "type": "scattermapbox"
           }
          ],
          "scatterpolar": [
           {
            "marker": {
             "colorbar": {
              "outlinewidth": 0,
              "ticks": ""
             }
            },
            "type": "scatterpolar"
           }
          ],
          "scatterpolargl": [
           {
            "marker": {
             "colorbar": {
              "outlinewidth": 0,
              "ticks": ""
             }
            },
            "type": "scatterpolargl"
           }
          ],
          "scatterternary": [
           {
            "marker": {
             "colorbar": {
              "outlinewidth": 0,
              "ticks": ""
             }
            },
            "type": "scatterternary"
           }
          ],
          "surface": [
           {
            "colorbar": {
             "outlinewidth": 0,
             "ticks": ""
            },
            "colorscale": [
             [
              0,
              "#0d0887"
             ],
             [
              0.1111111111111111,
              "#46039f"
             ],
             [
              0.2222222222222222,
              "#7201a8"
             ],
             [
              0.3333333333333333,
              "#9c179e"
             ],
             [
              0.4444444444444444,
              "#bd3786"
             ],
             [
              0.5555555555555556,
              "#d8576b"
             ],
             [
              0.6666666666666666,
              "#ed7953"
             ],
             [
              0.7777777777777778,
              "#fb9f3a"
             ],
             [
              0.8888888888888888,
              "#fdca26"
             ],
             [
              1,
              "#f0f921"
             ]
            ],
            "type": "surface"
           }
          ],
          "table": [
           {
            "cells": {
             "fill": {
              "color": "#EBF0F8"
             },
             "line": {
              "color": "white"
             }
            },
            "header": {
             "fill": {
              "color": "#C8D4E3"
             },
             "line": {
              "color": "white"
             }
            },
            "type": "table"
           }
          ]
         },
         "layout": {
          "annotationdefaults": {
           "arrowcolor": "#2a3f5f",
           "arrowhead": 0,
           "arrowwidth": 1
          },
          "autotypenumbers": "strict",
          "coloraxis": {
           "colorbar": {
            "outlinewidth": 0,
            "ticks": ""
           }
          },
          "colorscale": {
           "diverging": [
            [
             0,
             "#8e0152"
            ],
            [
             0.1,
             "#c51b7d"
            ],
            [
             0.2,
             "#de77ae"
            ],
            [
             0.3,
             "#f1b6da"
            ],
            [
             0.4,
             "#fde0ef"
            ],
            [
             0.5,
             "#f7f7f7"
            ],
            [
             0.6,
             "#e6f5d0"
            ],
            [
             0.7,
             "#b8e186"
            ],
            [
             0.8,
             "#7fbc41"
            ],
            [
             0.9,
             "#4d9221"
            ],
            [
             1,
             "#276419"
            ]
           ],
           "sequential": [
            [
             0,
             "#0d0887"
            ],
            [
             0.1111111111111111,
             "#46039f"
            ],
            [
             0.2222222222222222,
             "#7201a8"
            ],
            [
             0.3333333333333333,
             "#9c179e"
            ],
            [
             0.4444444444444444,
             "#bd3786"
            ],
            [
             0.5555555555555556,
             "#d8576b"
            ],
            [
             0.6666666666666666,
             "#ed7953"
            ],
            [
             0.7777777777777778,
             "#fb9f3a"
            ],
            [
             0.8888888888888888,
             "#fdca26"
            ],
            [
             1,
             "#f0f921"
            ]
           ],
           "sequentialminus": [
            [
             0,
             "#0d0887"
            ],
            [
             0.1111111111111111,
             "#46039f"
            ],
            [
             0.2222222222222222,
             "#7201a8"
            ],
            [
             0.3333333333333333,
             "#9c179e"
            ],
            [
             0.4444444444444444,
             "#bd3786"
            ],
            [
             0.5555555555555556,
             "#d8576b"
            ],
            [
             0.6666666666666666,
             "#ed7953"
            ],
            [
             0.7777777777777778,
             "#fb9f3a"
            ],
            [
             0.8888888888888888,
             "#fdca26"
            ],
            [
             1,
             "#f0f921"
            ]
           ]
          },
          "colorway": [
           "#636efa",
           "#EF553B",
           "#00cc96",
           "#ab63fa",
           "#FFA15A",
           "#19d3f3",
           "#FF6692",
           "#B6E880",
           "#FF97FF",
           "#FECB52"
          ],
          "font": {
           "color": "#2a3f5f"
          },
          "geo": {
           "bgcolor": "white",
           "lakecolor": "white",
           "landcolor": "#E5ECF6",
           "showlakes": true,
           "showland": true,
           "subunitcolor": "white"
          },
          "hoverlabel": {
           "align": "left"
          },
          "hovermode": "closest",
          "mapbox": {
           "style": "light"
          },
          "paper_bgcolor": "white",
          "plot_bgcolor": "#E5ECF6",
          "polar": {
           "angularaxis": {
            "gridcolor": "white",
            "linecolor": "white",
            "ticks": ""
           },
           "bgcolor": "#E5ECF6",
           "radialaxis": {
            "gridcolor": "white",
            "linecolor": "white",
            "ticks": ""
           }
          },
          "scene": {
           "xaxis": {
            "backgroundcolor": "#E5ECF6",
            "gridcolor": "white",
            "gridwidth": 2,
            "linecolor": "white",
            "showbackground": true,
            "ticks": "",
            "zerolinecolor": "white"
           },
           "yaxis": {
            "backgroundcolor": "#E5ECF6",
            "gridcolor": "white",
            "gridwidth": 2,
            "linecolor": "white",
            "showbackground": true,
            "ticks": "",
            "zerolinecolor": "white"
           },
           "zaxis": {
            "backgroundcolor": "#E5ECF6",
            "gridcolor": "white",
            "gridwidth": 2,
            "linecolor": "white",
            "showbackground": true,
            "ticks": "",
            "zerolinecolor": "white"
           }
          },
          "shapedefaults": {
           "line": {
            "color": "#2a3f5f"
           }
          },
          "ternary": {
           "aaxis": {
            "gridcolor": "white",
            "linecolor": "white",
            "ticks": ""
           },
           "baxis": {
            "gridcolor": "white",
            "linecolor": "white",
            "ticks": ""
           },
           "bgcolor": "#E5ECF6",
           "caxis": {
            "gridcolor": "white",
            "linecolor": "white",
            "ticks": ""
           }
          },
          "title": {
           "x": 0.05
          },
          "xaxis": {
           "automargin": true,
           "gridcolor": "white",
           "linecolor": "white",
           "ticks": "",
           "title": {
            "standoff": 15
           },
           "zerolinecolor": "white",
           "zerolinewidth": 2
          },
          "yaxis": {
           "automargin": true,
           "gridcolor": "white",
           "linecolor": "white",
           "ticks": "",
           "title": {
            "standoff": 15
           },
           "zerolinecolor": "white",
           "zerolinewidth": 2
          }
         }
        },
        "title": {
         "text": "Best 15 Free Kicks"
        },
        "updatemenus": [
         {
          "buttons": [
           {
            "args": [
             {
              "visible": [
               true,
               false,
               false,
               false,
               false,
               false,
               false,
               false,
               false,
               false,
               false,
               false,
               false,
               false,
               false
              ]
             }
            ],
            "label": "Harry Kane",
            "method": "update"
           },
           {
            "args": [
             {
              "visible": [
               false,
               true,
               false,
               false,
               false,
               false,
               false,
               false,
               false,
               false,
               false,
               false,
               false,
               false,
               false
              ]
             }
            ],
            "label": "Ivan Toney",
            "method": "update"
           },
           {
            "args": [
             {
              "visible": [
               false,
               false,
               true,
               false,
               false,
               false,
               false,
               false,
               false,
               false,
               false,
               false,
               false,
               false,
               false
              ]
             }
            ],
            "label": "Andrej Kramarić",
            "method": "update"
           },
           {
            "args": [
             {
              "visible": [
               false,
               false,
               false,
               true,
               false,
               false,
               false,
               false,
               false,
               false,
               false,
               false,
               false,
               false,
               false
              ]
             }
            ],
            "label": "Borja Iglesias",
            "method": "update"
           },
           {
            "args": [
             {
              "visible": [
               false,
               false,
               false,
               false,
               true,
               false,
               false,
               false,
               false,
               false,
               false,
               false,
               false,
               false,
               false
              ]
             }
            ],
            "label": "Vincenzo Grifo",
            "method": "update"
           },
           {
            "args": [
             {
              "visible": [
               false,
               false,
               false,
               false,
               false,
               true,
               false,
               false,
               false,
               false,
               false,
               false,
               false,
               false,
               false
              ]
             }
            ],
            "label": "Hakan Çalhanoğlu",
            "method": "update"
           },
           {
            "args": [
             {
              "visible": [
               false,
               false,
               false,
               false,
               false,
               false,
               true,
               false,
               false,
               false,
               false,
               false,
               false,
               false,
               false
              ]
             }
            ],
            "label": "Cristhian Stuani",
            "method": "update"
           },
           {
            "args": [
             {
              "visible": [
               false,
               false,
               false,
               false,
               false,
               false,
               false,
               true,
               false,
               false,
               false,
               false,
               false,
               false,
               false
              ]
             }
            ],
            "label": "Robert Lewandowski",
            "method": "update"
           },
           {
            "args": [
             {
              "visible": [
               false,
               false,
               false,
               false,
               false,
               false,
               false,
               false,
               true,
               false,
               false,
               false,
               false,
               false,
               false
              ]
             }
            ],
            "label": "Fabinho",
            "method": "update"
           },
           {
            "args": [
             {
              "visible": [
               false,
               false,
               false,
               false,
               false,
               false,
               false,
               false,
               false,
               true,
               false,
               false,
               false,
               false,
               false
              ]
             }
            ],
            "label": "Bruno Fernandes",
            "method": "update"
           },
           {
            "args": [
             {
              "visible": [
               false,
               false,
               false,
               false,
               false,
               false,
               false,
               false,
               false,
               false,
               true,
               false,
               false,
               false,
               false
              ]
             }
            ],
            "label": "Cristiano Ronaldo",
            "method": "update"
           },
           {
            "args": [
             {
              "visible": [
               false,
               false,
               false,
               false,
               false,
               false,
               false,
               false,
               false,
               false,
               false,
               true,
               false,
               false,
               false
              ]
             }
            ],
            "label": "Dzsenifer Marozsán",
            "method": "update"
           },
           {
            "args": [
             {
              "visible": [
               false,
               false,
               false,
               false,
               false,
               false,
               false,
               false,
               false,
               false,
               false,
               false,
               true,
               false,
               false
              ]
             }
            ],
            "label": "Erling Haaland",
            "method": "update"
           },
           {
            "args": [
             {
              "visible": [
               false,
               false,
               false,
               false,
               false,
               false,
               false,
               false,
               false,
               false,
               false,
               false,
               false,
               true,
               false
              ]
             }
            ],
            "label": "Luis Muriel",
            "method": "update"
           },
           {
            "args": [
             {
              "visible": [
               false,
               false,
               false,
               false,
               false,
               false,
               false,
               false,
               false,
               false,
               false,
               false,
               false,
               false,
               true
              ]
             }
            ],
            "label": "Jorginho",
            "method": "update"
           }
          ],
          "direction": "down",
          "showactive": true
         }
        ],
        "xaxis": {
         "title": {
          "text": "Attributes"
         }
        },
        "yaxis": {
         "title": {
          "text": "Value"
         }
        }
       }
      }
     },
     "metadata": {},
     "output_type": "display_data"
    }
   ],
   "source": [
    "fig = go.Figure()\n",
    "for player in penalties_data.Name:\n",
    "    player_data = penalties_data[penalties_data['Name'] == player][penalties].values.flatten()\n",
    "    fig.add_trace(\n",
    "        go.Scatterpolar(\n",
    "            r=player_data,\n",
    "            theta=penalties,\n",
    "            name=player,\n",
    "            fill='toself',\n",
    "            visible=False\n",
    "        )\n",
    "    )\n",
    "\n",
    "fig.data[0].visible = True\n",
    "\n",
    "\n",
    "fig.update_layout(\n",
    "    updatemenus=[\n",
    "        dict(\n",
    "            buttons=[\n",
    "                dict(\n",
    "                    args=[{\"visible\": [i == j for i in range(len(penalties_data['Name']))]}],  \n",
    "                    label=player,\n",
    "                    method='update'\n",
    "                )\n",
    "                for j, player in enumerate(penalties_data['Name'])  \n",
    "            ],\n",
    "            direction='down',\n",
    "            showactive=True,\n",
    "        )\n",
    "    ]\n",
    ")\n",
    "\n",
    "fig.update_layout(\n",
    "    title='Best 15 Free Kicks',\n",
    "    xaxis_title='Attributes',\n",
    "    yaxis_title='Value',\n",
    "    polar=dict(\n",
    "    radialaxis=dict(\n",
    "      visible=True,\n",
    "      range=[0, 99]\n",
    "    )),\n",
    "    showlegend=False\n",
    ")\n",
    "\n",
    "fig.show()   "
   ]
  },
  {
   "cell_type": "markdown",
   "metadata": {},
   "source": [
    "1)Haaland\n",
    "2)Lewandowski, Kane"
   ]
  }
 ],
 "metadata": {
  "kernelspec": {
   "display_name": "DataScience",
   "language": "python",
   "name": "python3"
  },
  "language_info": {
   "codemirror_mode": {
    "name": "ipython",
    "version": 3
   },
   "file_extension": ".py",
   "mimetype": "text/x-python",
   "name": "python",
   "nbconvert_exporter": "python",
   "pygments_lexer": "ipython3",
   "version": "3.11.9"
  }
 },
 "nbformat": 4,
 "nbformat_minor": 2
}
